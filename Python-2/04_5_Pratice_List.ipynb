{
  "cells": [
    {
      "cell_type": "markdown",
      "id": "41dcfd1f",
      "metadata": {
        "id": "41dcfd1f"
      },
      "source": [
        "# 학생별 총점,평균 구하기"
      ]
    },
    {
      "cell_type": "markdown",
      "id": "ce0257c0",
      "metadata": {
        "id": "ce0257c0"
      },
      "source": [
        "\n",
        "* 다음은 학생 별 [국어,영어,수학]점수가 저장된 리스트이다.    \n",
        "score_list = [[96,84,80],[96,86,76],[76,95,83],[89,96,69],[90,76,91]]   \n",
        "각 학생의 세 과목의 성적의 [총점, 평균]을 구하여 리스트에 담으시오.    \n",
        "(평균은 반올림하여 소수점 1자리까지 표현한다.)"
      ]
    },
    {
      "cell_type": "code",
      "execution_count": 1,
      "id": "56cbf408",
      "metadata": {
        "id": "56cbf408"
      },
      "outputs": [],
      "source": [
        "score_list = [[96,84,80],[96,86,76],[76,95,83],[89,96,69],[90,76,91]]\n",
        "stu_scores = []"
      ]
    },
    {
      "cell_type": "code",
      "execution_count": 2,
      "id": "131fd2e4",
      "metadata": {
        "colab": {
          "base_uri": "https://localhost:8080/"
        },
        "id": "131fd2e4",
        "outputId": "ec2ec3eb-f21f-46b7-bfe7-1189d2220702"
      },
      "outputs": [
        {
          "output_type": "stream",
          "name": "stdout",
          "text": [
            "[260, 86.67]\n",
            "[258, 86.0]\n",
            "[254, 84.67]\n",
            "[254, 84.67]\n",
            "[257, 85.67]\n"
          ]
        }
      ],
      "source": [
        "for i in score_list: \n",
        "    total = sum(i)\n",
        "    average = total / 3\n",
        "    print([total, round(average,2)])"
      ]
    },
    {
      "cell_type": "code",
      "source": [
        "for i in score_list: \n",
        "    total = sum(i)\n",
        "    average = total / 3\n",
        "    stu_scores.append([total, round(average,2)])\n",
        "\n",
        "stu_scores"
      ],
      "metadata": {
        "colab": {
          "base_uri": "https://localhost:8080/"
        },
        "id": "K5WF_j7cngAx",
        "outputId": "08f98658-e49d-4848-f5a9-d58ba3851ea0"
      },
      "id": "K5WF_j7cngAx",
      "execution_count": 3,
      "outputs": [
        {
          "output_type": "execute_result",
          "data": {
            "text/plain": [
              "[[260, 86.67], [258, 86.0], [254, 84.67], [254, 84.67], [257, 85.67]]"
            ]
          },
          "metadata": {},
          "execution_count": 3
        }
      ]
    },
    {
      "cell_type": "markdown",
      "id": "c8116eaa",
      "metadata": {
        "id": "c8116eaa"
      },
      "source": [
        "# 과목별 평균 구하기"
      ]
    },
    {
      "cell_type": "markdown",
      "id": "b9a3b11f",
      "metadata": {
        "id": "b9a3b11f"
      },
      "source": [
        "* 다음은 학생 별 [국어,영어,수학]점수가 저장된 리스트이다.       \n",
        "score_list = [[96,84,80],[96,86,76],[76,95,83],[89,96,69],[90,76,91]]         \n",
        "각 과목의 리스트를 분리하고 과목별 평균을 구해봅시다.\n",
        "평균은 소수점 1자리까지 출력한다."
      ]
    },
    {
      "cell_type": "code",
      "execution_count": 8,
      "id": "78c2d658",
      "metadata": {
        "scrolled": false,
        "colab": {
          "base_uri": "https://localhost:8080/"
        },
        "id": "78c2d658",
        "outputId": "02ab0e00-4b82-4169-bef1-06812fd5491a"
      },
      "outputs": [
        {
          "output_type": "stream",
          "name": "stdout",
          "text": [
            "kor_list: [96, 96, 76, 89, 90]\n",
            "eng_list: [84, 86, 95, 96, 76]\n",
            "math_list: [80, 76, 83, 69, 91]\n"
          ]
        }
      ],
      "source": [
        "score_list = [[96,84,80],[96,86,76],[76,95,83],[89,96,69],[90,76,91]]\n",
        "\n",
        "# 출력해서 나올 각 과목의 값(평균) 담을 공간 생성(리스트)\n",
        "kor_list = [ ]\n",
        "eng_list = [ ]\n",
        "math_list = [ ]\n",
        "\n",
        "# 초기값 설정\n",
        "kor_average = 0\n",
        "eng_average = 0\n",
        "math_average = 0 \n",
        "\n",
        "# 각 과목의 리스트 분리하기 \n",
        "\n",
        "for i in score_list: \n",
        "   #print(i)\n",
        "    kor_list.append(i[0])\n",
        "    eng_list.append(i[1])\n",
        "    math_list.append(i[2])\n",
        "\n",
        "print('kor_list:', kor_list)\n",
        "print('eng_list:', eng_list)\n",
        "print('math_list:', math_list)"
      ]
    },
    {
      "cell_type": "code",
      "source": [
        "len(kor_list)"
      ],
      "metadata": {
        "colab": {
          "base_uri": "https://localhost:8080/"
        },
        "id": "N-IcEj_wpIzh",
        "outputId": "2c4cfc83-2418-4f1e-f61f-032c34dc359b"
      },
      "id": "N-IcEj_wpIzh",
      "execution_count": 10,
      "outputs": [
        {
          "output_type": "execute_result",
          "data": {
            "text/plain": [
              "5"
            ]
          },
          "metadata": {},
          "execution_count": 10
        }
      ]
    },
    {
      "cell_type": "code",
      "source": [
        "sum(kor_list)/len(kor_list)"
      ],
      "metadata": {
        "colab": {
          "base_uri": "https://localhost:8080/"
        },
        "id": "4-npvxxtpAWh",
        "outputId": "2181806c-457e-4057-99a5-fdb0934535f6"
      },
      "id": "4-npvxxtpAWh",
      "execution_count": 9,
      "outputs": [
        {
          "output_type": "execute_result",
          "data": {
            "text/plain": [
              "89.4"
            ]
          },
          "metadata": {},
          "execution_count": 9
        }
      ]
    },
    {
      "cell_type": "code",
      "source": [
        "kor_average = sum(kor_list)/len(kor_list)\n",
        "eng_average = sum(eng_list)/len(eng_list)\n",
        "math_average = sum(math_list)/len(math_list)\n",
        "\n",
        "print('kor_average:',kor_average)\n",
        "print('eng_average:', eng_average)\n",
        "print('math_average:', math_average)"
      ],
      "metadata": {
        "colab": {
          "base_uri": "https://localhost:8080/"
        },
        "id": "mIFoh0napMYJ",
        "outputId": "a2ee6581-a798-4d97-f724-509d64664027"
      },
      "id": "mIFoh0napMYJ",
      "execution_count": 14,
      "outputs": [
        {
          "output_type": "stream",
          "name": "stdout",
          "text": [
            "kor_average: 89.4\n",
            "eng_average: 87.4\n",
            "math_average: 79.8\n"
          ]
        }
      ]
    },
    {
      "cell_type": "markdown",
      "id": "b699ae64",
      "metadata": {
        "id": "b699ae64"
      },
      "source": [
        "# 랜덤 항목 추출하기\n",
        "* random.choice(리스트명)"
      ]
    },
    {
      "cell_type": "code",
      "execution_count": 15,
      "id": "fb6f8088",
      "metadata": {
        "colab": {
          "base_uri": "https://localhost:8080/"
        },
        "id": "fb6f8088",
        "outputId": "91bd52b7-58d4-4bda-a8f9-474883fcc748"
      },
      "outputs": [
        {
          "output_type": "stream",
          "name": "stdout",
          "text": [
            "오늘은 뭘먹지?\n"
          ]
        }
      ],
      "source": [
        "menulist = ['한식','일식','중식','양식','분식','이탈리아식']\n",
        "print('오늘은 뭘먹지?')"
      ]
    },
    {
      "cell_type": "code",
      "execution_count": 18,
      "id": "ea086f1c",
      "metadata": {
        "colab": {
          "base_uri": "https://localhost:8080/",
          "height": 35
        },
        "id": "ea086f1c",
        "outputId": "30415271-0a5a-4adb-ddc6-6533487c1203"
      },
      "outputs": [
        {
          "output_type": "execute_result",
          "data": {
            "text/plain": [
              "'이탈리아식'"
            ],
            "application/vnd.google.colaboratory.intrinsic+json": {
              "type": "string"
            }
          },
          "metadata": {},
          "execution_count": 18
        }
      ],
      "source": [
        "import random \n",
        "random.choice(menulist)"
      ]
    },
    {
      "cell_type": "markdown",
      "id": "432c3574",
      "metadata": {
        "id": "432c3574"
      },
      "source": [
        "* 메뉴를 입력받아 랜덤으로 메뉴를 정하는 프로그램을 작성해봅시다.     \n",
        "공백('')을 입력할 때까지 메뉴를 입력받습니다."
      ]
    },
    {
      "cell_type": "code",
      "execution_count": 20,
      "id": "1f19c85f",
      "metadata": {
        "colab": {
          "base_uri": "https://localhost:8080/"
        },
        "id": "1f19c85f",
        "outputId": "dccd3092-13f4-4fe4-c0dd-69fee34dd0bb"
      },
      "outputs": [
        {
          "output_type": "stream",
          "name": "stdout",
          "text": [
            "땡기는 메뉴:\n",
            "오늘의 메뉴는: 분식\n"
          ]
        }
      ],
      "source": [
        "menumlist = [ ]\n",
        "\n",
        "while True: \n",
        "    menu = input('땡기는 메뉴:')\n",
        "    if menu =='':\n",
        "        break \n",
        "    menulist.append(menu)\n",
        "\n",
        "print('오늘의 메뉴는:', random.choice(menulist))\n"
      ]
    },
    {
      "cell_type": "code",
      "source": [
        ""
      ],
      "metadata": {
        "id": "NQNs3CRgvnFU"
      },
      "id": "NQNs3CRgvnFU",
      "execution_count": null,
      "outputs": []
    }
  ],
  "metadata": {
    "kernelspec": {
      "display_name": "Python 3 (ipykernel)",
      "language": "python",
      "name": "python3"
    },
    "language_info": {
      "codemirror_mode": {
        "name": "ipython",
        "version": 3
      },
      "file_extension": ".py",
      "mimetype": "text/x-python",
      "name": "python",
      "nbconvert_exporter": "python",
      "pygments_lexer": "ipython3",
      "version": "3.9.7"
    },
    "toc": {
      "base_numbering": 1,
      "nav_menu": {},
      "number_sections": true,
      "sideBar": true,
      "skip_h1_title": false,
      "title_cell": "Table of Contents",
      "title_sidebar": "Contents",
      "toc_cell": false,
      "toc_position": {
        "height": "calc(100% - 180px)",
        "left": "10px",
        "top": "150px",
        "width": "266.075px"
      },
      "toc_section_display": true,
      "toc_window_display": true
    },
    "colab": {
      "name": "04-5 리스트연습하기_실습.ipynb",
      "provenance": []
    }
  },
  "nbformat": 4,
  "nbformat_minor": 5
}