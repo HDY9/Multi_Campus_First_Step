{
  "cells": [
    {
      "cell_type": "markdown",
      "id": "d0d48e24",
      "metadata": {
        "id": "d0d48e24"
      },
      "source": [
        "# for 반복구조"
      ]
    },
    {
      "cell_type": "code",
      "execution_count": 1,
      "id": "e14700ee",
      "metadata": {
        "scrolled": false,
        "colab": {
          "base_uri": "https://localhost:8080/"
        },
        "id": "e14700ee",
        "outputId": "b4139270-fdc4-447a-bdf1-4697faacf35e"
      },
      "outputs": [
        {
          "output_type": "stream",
          "name": "stdout",
          "text": [
            "1\n",
            "2\n",
            "3\n",
            "4\n",
            "5\n"
          ]
        }
      ],
      "source": [
        "for i in [1,2,3,4,5]:\n",
        "    print(i)"
      ]
    },
    {
      "cell_type": "code",
      "execution_count": 2,
      "id": "4de43f9a",
      "metadata": {
        "scrolled": true,
        "colab": {
          "base_uri": "https://localhost:8080/"
        },
        "id": "4de43f9a",
        "outputId": "3734fef7-3135-4e46-a36d-81aceeb69c82"
      },
      "outputs": [
        {
          "output_type": "stream",
          "name": "stdout",
          "text": [
            "d\n",
            "r\n",
            "w\n",
            "i\n",
            "l\n",
            "l\n"
          ]
        }
      ],
      "source": [
        "for i in 'drwill':\n",
        "    print(i)"
      ]
    },
    {
      "cell_type": "code",
      "execution_count": 4,
      "id": "14a3102a",
      "metadata": {
        "scrolled": true,
        "colab": {
          "base_uri": "https://localhost:8080/"
        },
        "id": "14a3102a",
        "outputId": "1a903058-d388-430f-a2bb-a70a8955b1cf"
      },
      "outputs": [
        {
          "output_type": "stream",
          "name": "stdout",
          "text": [
            "0\n",
            "1\n",
            "2\n",
            "3\n",
            "4\n"
          ]
        }
      ],
      "source": [
        "for i in range(5):\n",
        "    print(i)"
      ]
    },
    {
      "cell_type": "code",
      "execution_count": 5,
      "id": "9652fdab",
      "metadata": {
        "scrolled": false,
        "colab": {
          "base_uri": "https://localhost:8080/"
        },
        "id": "9652fdab",
        "outputId": "36a86918-5d07-4893-d202-99658a5193c8"
      },
      "outputs": [
        {
          "output_type": "stream",
          "name": "stdout",
          "text": [
            "multi_campus! good!~\n",
            "multi_campus! good!~\n",
            "multi_campus! good!~\n",
            "multi_campus! good!~\n",
            "multi_campus! good!~\n",
            "multi_campus! good!~\n",
            "multi_campus! good!~\n",
            "multi_campus! good!~\n",
            "multi_campus! good!~\n",
            "multi_campus! good!~\n"
          ]
        }
      ],
      "source": [
        "for i in range(10):\n",
        "    print('multi_campus! good!~')"
      ]
    },
    {
      "cell_type": "code",
      "source": [
        "for i in range(3): \n",
        "    print('니 생각')"
      ],
      "metadata": {
        "colab": {
          "base_uri": "https://localhost:8080/"
        },
        "id": "ejkfTiPEFStz",
        "outputId": "5930b970-47f4-4d2d-f22a-7c6ddba475f3"
      },
      "id": "ejkfTiPEFStz",
      "execution_count": 6,
      "outputs": [
        {
          "output_type": "stream",
          "name": "stdout",
          "text": [
            "니 생각\n",
            "니 생각\n",
            "니 생각\n"
          ]
        }
      ]
    },
    {
      "cell_type": "markdown",
      "id": "ddf42034",
      "metadata": {
        "id": "ddf42034"
      },
      "source": [
        "* 'Hello' 10번 출력하기     \n",
        "특정 횟수만큼 반복하려면 range(횟수)의 형태를 사용한다."
      ]
    },
    {
      "cell_type": "code",
      "execution_count": 7,
      "id": "258efa73",
      "metadata": {
        "scrolled": true,
        "colab": {
          "base_uri": "https://localhost:8080/"
        },
        "id": "258efa73",
        "outputId": "5a01b184-62c2-47c2-afcc-0805acd0f3a7"
      },
      "outputs": [
        {
          "output_type": "stream",
          "name": "stdout",
          "text": [
            "hello\n",
            "hello\n",
            "hello\n",
            "hello\n",
            "hello\n",
            "hello\n",
            "hello\n",
            "hello\n",
            "hello\n",
            "hello\n"
          ]
        }
      ],
      "source": [
        "for i in range(10):\n",
        "    print('hello')"
      ]
    },
    {
      "cell_type": "markdown",
      "id": "047c4d20",
      "metadata": {
        "id": "047c4d20"
      },
      "source": [
        "# 중첩반복구조\n",
        "* 내부 for문을 외부 for문의 시퀀스만큼 반복한다.\n",
        "* 내부루프와 외부루프는 동일한 제어변수를 사용해서는 안된다."
      ]
    },
    {
      "cell_type": "code",
      "execution_count": 8,
      "id": "62cce432",
      "metadata": {
        "scrolled": true,
        "colab": {
          "base_uri": "https://localhost:8080/"
        },
        "id": "62cce432",
        "outputId": "bdcd0cf2-deee-4fff-9c94-f261af7324e5"
      },
      "outputs": [
        {
          "output_type": "stream",
          "name": "stdout",
          "text": [
            "0 0\n",
            "0 1\n",
            "0 2\n",
            "0 3\n",
            "1 0\n",
            "1 1\n",
            "1 2\n",
            "1 3\n",
            "2 0\n",
            "2 1\n",
            "2 2\n",
            "2 3\n"
          ]
        }
      ],
      "source": [
        "for i in range(3): \n",
        "    for j in range(4):\n",
        "        print(i, j)"
      ]
    },
    {
      "cell_type": "markdown",
      "id": "1e287e24",
      "metadata": {
        "id": "1e287e24"
      },
      "source": [
        "* 2단부터 9단까지 전체 구구단 출력하기"
      ]
    },
    {
      "cell_type": "code",
      "execution_count": 11,
      "id": "debeaa12",
      "metadata": {
        "scrolled": true,
        "colab": {
          "base_uri": "https://localhost:8080/"
        },
        "id": "debeaa12",
        "outputId": "3a021ec3-cd86-403e-e5c6-e5f335f7c8b2"
      },
      "outputs": [
        {
          "output_type": "stream",
          "name": "stdout",
          "text": [
            "2*1=2\t2*2=4\t2*3=6\t2*4=8\t2*5=10\t2*6=12\t2*7=14\t2*8=16\t2*9=18\t\n",
            "3*1=3\t3*2=6\t3*3=9\t3*4=12\t3*5=15\t3*6=18\t3*7=21\t3*8=24\t3*9=27\t\n",
            "4*1=4\t4*2=8\t4*3=12\t4*4=16\t4*5=20\t4*6=24\t4*7=28\t4*8=32\t4*9=36\t\n",
            "5*1=5\t5*2=10\t5*3=15\t5*4=20\t5*5=25\t5*6=30\t5*7=35\t5*8=40\t5*9=45\t\n",
            "6*1=6\t6*2=12\t6*3=18\t6*4=24\t6*5=30\t6*6=36\t6*7=42\t6*8=48\t6*9=54\t\n",
            "7*1=7\t7*2=14\t7*3=21\t7*4=28\t7*5=35\t7*6=42\t7*7=49\t7*8=56\t7*9=63\t\n",
            "8*1=8\t8*2=16\t8*3=24\t8*4=32\t8*5=40\t8*6=48\t8*7=56\t8*8=64\t8*9=72\t\n",
            "9*1=9\t9*2=18\t9*3=27\t9*4=36\t9*5=45\t9*6=54\t9*7=63\t9*8=72\t9*9=81\t\n"
          ]
        }
      ],
      "source": [
        "for i in range(2,10):\n",
        "    for j in range(1,10):\n",
        "        print(f'{i}*{j}={i*j}', end='\\t')\n",
        "    print()"
      ]
    },
    {
      "cell_type": "markdown",
      "id": "75b378a5",
      "metadata": {
        "id": "75b378a5"
      },
      "source": [
        "# 연습문제"
      ]
    },
    {
      "cell_type": "markdown",
      "id": "391ecec7",
      "metadata": {
        "id": "391ecec7"
      },
      "source": [
        "* 1부터 10까지 정수의 합 구하여 출력하기"
      ]
    },
    {
      "cell_type": "code",
      "execution_count": 12,
      "id": "4662618f",
      "metadata": {
        "colab": {
          "base_uri": "https://localhost:8080/"
        },
        "id": "4662618f",
        "outputId": "7661bc35-2c3b-4615-d541-45fdd43bf62f"
      },
      "outputs": [
        {
          "output_type": "stream",
          "name": "stdout",
          "text": [
            "55\n"
          ]
        }
      ],
      "source": [
        "sum = 0\n",
        "for i in range(1,11):\n",
        "  sum+=i  #sum = sum + i\n",
        "print(sum)\n"
      ]
    },
    {
      "cell_type": "markdown",
      "id": "29667677",
      "metadata": {
        "id": "29667677"
      },
      "source": [
        "* 1부터 100까지 홀수의 합 구하여 출력하기"
      ]
    },
    {
      "cell_type": "code",
      "execution_count": 13,
      "id": "9b051a7d",
      "metadata": {
        "scrolled": true,
        "colab": {
          "base_uri": "https://localhost:8080/"
        },
        "id": "9b051a7d",
        "outputId": "3f074a1d-1f91-4faa-896d-da55ce7f4509"
      },
      "outputs": [
        {
          "output_type": "stream",
          "name": "stdout",
          "text": [
            "2500\n"
          ]
        }
      ],
      "source": [
        "sum = 0\n",
        "for i in range(1,101):\n",
        "  if i%2==1: # 홀수\n",
        "    sum+=i\n",
        "print(sum)\n"
      ]
    }
  ],
  "metadata": {
    "kernelspec": {
      "display_name": "Python 3",
      "language": "python",
      "name": "python3"
    },
    "language_info": {
      "codemirror_mode": {
        "name": "ipython",
        "version": 3
      },
      "file_extension": ".py",
      "mimetype": "text/x-python",
      "name": "python",
      "nbconvert_exporter": "python",
      "pygments_lexer": "ipython3",
      "version": "3.8.8"
    },
    "toc": {
      "base_numbering": 1,
      "nav_menu": {},
      "number_sections": true,
      "sideBar": true,
      "skip_h1_title": false,
      "title_cell": "Table of Contents",
      "title_sidebar": "Contents",
      "toc_cell": false,
      "toc_position": {},
      "toc_section_display": true,
      "toc_window_display": true
    },
    "colab": {
      "name": "03-2 횟수로반복하기.ipynb",
      "provenance": []
    }
  },
  "nbformat": 4,
  "nbformat_minor": 5
}