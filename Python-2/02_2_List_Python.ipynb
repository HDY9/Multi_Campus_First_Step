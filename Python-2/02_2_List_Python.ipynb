{
  "cells": [
    {
      "cell_type": "markdown",
      "id": "77d0bc18",
      "metadata": {
        "id": "77d0bc18"
      },
      "source": [
        "# 변수 만들기"
      ]
    },
    {
      "cell_type": "markdown",
      "id": "cebe1af8",
      "metadata": {
        "id": "cebe1af8"
      },
      "source": [
        "## 변수에 값 할당하기\n",
        "* 변수명 = 변수값\n",
        "* 변수에 값이 할당될 때 변수값의 자료형에 따라 변수의 자료형이 결정된다."
      ]
    },
    {
      "cell_type": "code",
      "execution_count": 1,
      "id": "19694345",
      "metadata": {
        "ExecuteTime": {
          "end_time": "2022-01-02T11:44:52.128353Z",
          "start_time": "2022-01-02T11:44:52.112429Z"
        },
        "id": "19694345"
      },
      "outputs": [],
      "source": [
        "name = 'james'\n",
        "age = 20\n",
        "height = 175.0\n",
        "ischild = age<20"
      ]
    },
    {
      "cell_type": "markdown",
      "id": "2ef34159",
      "metadata": {
        "id": "2ef34159"
      },
      "source": [
        "## 변수 값, 자료형 출력하기\n",
        "* 변수에 접근할 때는 변수명을 사용한다.\n",
        "* 변수값 출력 : print(변수명)\n",
        "* 변수자료형 출력 : print(type(변수명))"
      ]
    },
    {
      "cell_type": "code",
      "execution_count": 2,
      "id": "460ae4e9",
      "metadata": {
        "ExecuteTime": {
          "end_time": "2022-01-02T11:45:17.396174Z",
          "start_time": "2022-01-02T11:45:17.382211Z"
        },
        "colab": {
          "base_uri": "https://localhost:8080/"
        },
        "id": "460ae4e9",
        "outputId": "18589be0-76c2-4b0e-97a8-76fc45dd48a1"
      },
      "outputs": [
        {
          "output_type": "stream",
          "name": "stdout",
          "text": [
            "james\n",
            "<class 'str'>\n"
          ]
        }
      ],
      "source": [
        "print(name)\n",
        "print(type(name))"
      ]
    },
    {
      "cell_type": "code",
      "execution_count": 3,
      "id": "07679f48",
      "metadata": {
        "ExecuteTime": {
          "end_time": "2022-01-02T11:45:22.062756Z",
          "start_time": "2022-01-02T11:45:22.049757Z"
        },
        "colab": {
          "base_uri": "https://localhost:8080/"
        },
        "id": "07679f48",
        "outputId": "acee2259-74e1-4362-b3ee-149e8d0ffaaa"
      },
      "outputs": [
        {
          "output_type": "stream",
          "name": "stdout",
          "text": [
            "20\n",
            "<class 'int'>\n"
          ]
        }
      ],
      "source": [
        "print(age)\n",
        "print(type(age))"
      ]
    },
    {
      "cell_type": "code",
      "execution_count": 4,
      "id": "967a54a3",
      "metadata": {
        "ExecuteTime": {
          "end_time": "2022-01-02T11:45:24.260518Z",
          "start_time": "2022-01-02T11:45:24.245556Z"
        },
        "colab": {
          "base_uri": "https://localhost:8080/"
        },
        "id": "967a54a3",
        "outputId": "6f9e6f6a-d365-4399-eea1-c2138dcd33c1"
      },
      "outputs": [
        {
          "output_type": "stream",
          "name": "stdout",
          "text": [
            "175.0\n",
            "<class 'float'>\n"
          ]
        }
      ],
      "source": [
        "print(height)\n",
        "print(type(height))"
      ]
    },
    {
      "cell_type": "code",
      "execution_count": 5,
      "id": "bfb0407c",
      "metadata": {
        "ExecuteTime": {
          "end_time": "2022-01-02T11:45:26.773832Z",
          "start_time": "2022-01-02T11:45:26.769848Z"
        },
        "colab": {
          "base_uri": "https://localhost:8080/"
        },
        "id": "bfb0407c",
        "outputId": "c7b9de6b-b390-4b73-cbfe-e331a4317d33"
      },
      "outputs": [
        {
          "output_type": "stream",
          "name": "stdout",
          "text": [
            "False\n",
            "<class 'bool'>\n"
          ]
        }
      ],
      "source": [
        "print(ischild)\n",
        "print(type(ischild))"
      ]
    },
    {
      "cell_type": "markdown",
      "id": "1c775fe6",
      "metadata": {
        "id": "1c775fe6"
      },
      "source": [
        "## 쌍따옴표나 홑따옴표가 포함되어 있는 문자열 사용하기"
      ]
    },
    {
      "cell_type": "markdown",
      "id": "e02d36fc",
      "metadata": {
        "id": "e02d36fc"
      },
      "source": [
        "* 홑따옴표가 포함되어 있는 문자열 사용하기    \n",
        "'낮말'은 새가 듣고 '밤말'은 쥐가 듣는다."
      ]
    },
    {
      "cell_type": "code",
      "execution_count": 6,
      "id": "d496522a",
      "metadata": {
        "scrolled": true,
        "colab": {
          "base_uri": "https://localhost:8080/"
        },
        "id": "d496522a",
        "outputId": "996961f2-26df-40ef-d98e-907995f43b7d"
      },
      "outputs": [
        {
          "output_type": "stream",
          "name": "stdout",
          "text": [
            "'낮말'은 새가 듣고 '밤말'은 쥐가 듣는다.\n"
          ]
        }
      ],
      "source": [
        "a = \"'낮말'은 새가 듣고 '밤말'은 쥐가 듣는다.\"\n",
        "print(a)"
      ]
    },
    {
      "cell_type": "markdown",
      "id": "96265369",
      "metadata": {
        "id": "96265369"
      },
      "source": [
        "* 쌍따옴표가 포함되어 있는 문자열 사용하기   \n",
        "\"시간은 금\"이라는 말이 있다."
      ]
    },
    {
      "cell_type": "code",
      "execution_count": 7,
      "id": "eb625632",
      "metadata": {
        "scrolled": false,
        "colab": {
          "base_uri": "https://localhost:8080/"
        },
        "id": "eb625632",
        "outputId": "fb840418-102f-4561-8691-bdb94fc6b7f1"
      },
      "outputs": [
        {
          "output_type": "stream",
          "name": "stdout",
          "text": [
            "\"시간은 금\"이라는 말이 있다.\n"
          ]
        }
      ],
      "source": [
        "b = '\"시간은 금\"이라는 말이 있다.'\n",
        "print(b)"
      ]
    },
    {
      "cell_type": "markdown",
      "id": "d7a800eb",
      "metadata": {
        "id": "d7a800eb"
      },
      "source": [
        "# 키보드로 변수에 값 입력받기\n",
        "* input( )\n",
        "* input으로 입력받은 값은 무조건 str"
      ]
    },
    {
      "cell_type": "code",
      "execution_count": 12,
      "id": "835fb10b",
      "metadata": {
        "scrolled": false,
        "colab": {
          "base_uri": "https://localhost:8080/"
        },
        "id": "835fb10b",
        "outputId": "2976ef83-c00a-44aa-9045-e16e01ff2dbd"
      },
      "outputs": [
        {
          "name": "stdout",
          "output_type": "stream",
          "text": [
            "나이:25\n"
          ]
        }
      ],
      "source": [
        "a = input('나이:')\n",
        "# input해서 사용자 입력값을 받아서 출력시 모두 문자(string)로 인식됨"
      ]
    },
    {
      "cell_type": "code",
      "execution_count": 14,
      "id": "fd6bbfc3",
      "metadata": {
        "colab": {
          "base_uri": "https://localhost:8080/"
        },
        "id": "fd6bbfc3",
        "outputId": "5ed30f27-36a3-42e5-892f-f65b64b1c40d"
      },
      "outputs": [
        {
          "output_type": "execute_result",
          "data": {
            "text/plain": [
              "str"
            ]
          },
          "metadata": {},
          "execution_count": 14
        }
      ],
      "source": [
        "type(a)"
      ]
    },
    {
      "cell_type": "code",
      "source": [
        "a = int(input('나이:'))\n",
        "a, type(a)"
      ],
      "metadata": {
        "colab": {
          "base_uri": "https://localhost:8080/"
        },
        "id": "h9ZOcKfLUY7u",
        "outputId": "1bbcb6cb-4033-41b0-ddcc-b242ffa1d5a3"
      },
      "id": "h9ZOcKfLUY7u",
      "execution_count": 16,
      "outputs": [
        {
          "name": "stdout",
          "output_type": "stream",
          "text": [
            "나이:25\n"
          ]
        },
        {
          "output_type": "execute_result",
          "data": {
            "text/plain": [
              "(25, int)"
            ]
          },
          "metadata": {},
          "execution_count": 16
        }
      ]
    },
    {
      "cell_type": "markdown",
      "id": "84fe07df",
      "metadata": {
        "id": "84fe07df"
      },
      "source": [
        "## 자료형 변환하기"
      ]
    },
    {
      "cell_type": "markdown",
      "id": "c858d0b1",
      "metadata": {
        "id": "c858d0b1"
      },
      "source": [
        "* int(value) : int형으로 변환"
      ]
    },
    {
      "cell_type": "code",
      "execution_count": 17,
      "id": "2296adbd",
      "metadata": {
        "scrolled": true,
        "colab": {
          "base_uri": "https://localhost:8080/"
        },
        "id": "2296adbd",
        "outputId": "7015d66f-612a-45ab-e010-61893f8bac42"
      },
      "outputs": [
        {
          "output_type": "execute_result",
          "data": {
            "text/plain": [
              "int"
            ]
          },
          "metadata": {},
          "execution_count": 17
        }
      ],
      "source": [
        "age = int('20')\n",
        "type(age)"
      ]
    },
    {
      "cell_type": "markdown",
      "id": "981a47a9",
      "metadata": {
        "id": "981a47a9"
      },
      "source": [
        "* str(value) : str형으로 변환"
      ]
    },
    {
      "cell_type": "code",
      "execution_count": 18,
      "id": "2f3e2224",
      "metadata": {
        "colab": {
          "base_uri": "https://localhost:8080/"
        },
        "id": "2f3e2224",
        "outputId": "da1d6070-51e7-4010-b016-4b3516b6bd48"
      },
      "outputs": [
        {
          "output_type": "execute_result",
          "data": {
            "text/plain": [
              "str"
            ]
          },
          "metadata": {},
          "execution_count": 18
        }
      ],
      "source": [
        "age = str(20)\n",
        "type(age)"
      ]
    },
    {
      "cell_type": "markdown",
      "id": "9b74974f",
      "metadata": {
        "id": "9b74974f"
      },
      "source": [
        "* float(value) : float형으로 변환"
      ]
    },
    {
      "cell_type": "code",
      "execution_count": 19,
      "id": "6d9ef903",
      "metadata": {
        "scrolled": false,
        "colab": {
          "base_uri": "https://localhost:8080/"
        },
        "id": "6d9ef903",
        "outputId": "ad074562-f8dc-48df-8b28-d41f2396b9f5"
      },
      "outputs": [
        {
          "output_type": "stream",
          "name": "stdout",
          "text": [
            "20.0 <class 'float'>\n"
          ]
        }
      ],
      "source": [
        "age = float(20)  # float(): 실수형으로 바꿔줌\n",
        "print(age, type(age))"
      ]
    },
    {
      "cell_type": "markdown",
      "id": "fa001459",
      "metadata": {
        "id": "fa001459"
      },
      "source": [
        "* input으로 입력받은 값을 숫자형으로 변환하여 사용하기"
      ]
    },
    {
      "cell_type": "code",
      "execution_count": 20,
      "id": "1f7cfab5",
      "metadata": {
        "scrolled": true,
        "colab": {
          "base_uri": "https://localhost:8080/"
        },
        "id": "1f7cfab5",
        "outputId": "c659f34d-ec07-40d7-b017-97ef18941b97"
      },
      "outputs": [
        {
          "name": "stdout",
          "output_type": "stream",
          "text": [
            "나이:25\n"
          ]
        }
      ],
      "source": [
        "a = int(input('나이:'))"
      ]
    },
    {
      "cell_type": "code",
      "execution_count": 21,
      "id": "0ed91b06",
      "metadata": {
        "colab": {
          "base_uri": "https://localhost:8080/"
        },
        "id": "0ed91b06",
        "outputId": "f985a981-62e6-4b50-8a0a-6058f543c72f"
      },
      "outputs": [
        {
          "output_type": "execute_result",
          "data": {
            "text/plain": [
              "int"
            ]
          },
          "metadata": {},
          "execution_count": 21
        }
      ],
      "source": [
        "type(a)"
      ]
    }
  ],
  "metadata": {
    "kernelspec": {
      "display_name": "Python 3 (ipykernel)",
      "language": "python",
      "name": "python3"
    },
    "language_info": {
      "codemirror_mode": {
        "name": "ipython",
        "version": 3
      },
      "file_extension": ".py",
      "mimetype": "text/x-python",
      "name": "python",
      "nbconvert_exporter": "python",
      "pygments_lexer": "ipython3",
      "version": "3.9.7"
    },
    "toc": {
      "base_numbering": 1,
      "nav_menu": {},
      "number_sections": true,
      "sideBar": true,
      "skip_h1_title": false,
      "title_cell": "Table of Contents",
      "title_sidebar": "Contents",
      "toc_cell": false,
      "toc_position": {
        "height": "calc(100% - 180px)",
        "left": "10px",
        "top": "150px",
        "width": "245.76px"
      },
      "toc_section_display": true,
      "toc_window_display": true
    },
    "colab": {
      "name": "02-2 기본자료형 다루기.ipynb",
      "provenance": [],
      "collapsed_sections": []
    }
  },
  "nbformat": 4,
  "nbformat_minor": 5
}