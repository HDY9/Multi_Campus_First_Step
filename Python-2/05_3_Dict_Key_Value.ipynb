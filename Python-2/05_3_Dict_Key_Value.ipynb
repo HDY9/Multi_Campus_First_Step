{
  "cells": [
    {
      "cell_type": "markdown",
      "id": "1926d405",
      "metadata": {
        "id": "1926d405"
      },
      "source": [
        "# 딕셔너리의 키, 값 모두 리스트 형태로 가져오기"
      ]
    },
    {
      "cell_type": "markdown",
      "id": "3b920a6a",
      "metadata": {
        "id": "3b920a6a"
      },
      "source": [
        "## 딕셔너리명.keys()\n",
        "* 딕셔너리의 키만 리스트로 가져오기\n",
        "* dict_keys객체로 받아온다. 리스트처럼 사용할 수 있지만 리스트는 아니다."
      ]
    },
    {
      "cell_type": "code",
      "execution_count": 1,
      "id": "16a8f964",
      "metadata": {
        "colab": {
          "base_uri": "https://localhost:8080/"
        },
        "id": "16a8f964",
        "outputId": "350b3b95-096d-4be0-c956-a6458967ba41"
      },
      "outputs": [
        {
          "output_type": "execute_result",
          "data": {
            "text/plain": [
              "dict_keys(['kor', 'eng', 'math'])"
            ]
          },
          "metadata": {},
          "execution_count": 1
        }
      ],
      "source": [
        "scores = {'kor':100, 'eng':90, 'math':80}\n",
        "scores.keys()"
      ]
    },
    {
      "cell_type": "markdown",
      "id": "0fe2bd56",
      "metadata": {
        "id": "0fe2bd56"
      },
      "source": [
        "## 딕셔너리명.values()\n",
        "* 딕셔너리의 value만 리스트로 가져오기\n",
        "* dict_values객체로 받아온다."
      ]
    },
    {
      "cell_type": "code",
      "execution_count": 2,
      "id": "ee1af73e",
      "metadata": {
        "colab": {
          "base_uri": "https://localhost:8080/"
        },
        "id": "ee1af73e",
        "outputId": "8a861448-e4de-4577-f6ed-5951dc93d189"
      },
      "outputs": [
        {
          "output_type": "execute_result",
          "data": {
            "text/plain": [
              "dict_values([100, 90, 80])"
            ]
          },
          "metadata": {},
          "execution_count": 2
        }
      ],
      "source": [
        "scores = {'kor':100, 'eng':90, 'math':80}\n",
        "scores.values()"
      ]
    },
    {
      "cell_type": "markdown",
      "id": "511902a7",
      "metadata": {
        "id": "511902a7"
      },
      "source": [
        "## 딕셔너리명.items() 매우 자주 사용됨\n",
        "* 딕셔너리의 (key,value) 쌍을 리스트로 가져오기\n",
        "* dict_items객체로 받아온다."
      ]
    },
    {
      "cell_type": "code",
      "execution_count": 3,
      "id": "70ff419d",
      "metadata": {
        "colab": {
          "base_uri": "https://localhost:8080/"
        },
        "id": "70ff419d",
        "outputId": "0877d730-798c-46f1-b95a-efb483a1477b"
      },
      "outputs": [
        {
          "output_type": "execute_result",
          "data": {
            "text/plain": [
              "dict_items([('kor', 100), ('eng', 90), ('math', 80)])"
            ]
          },
          "metadata": {},
          "execution_count": 3
        }
      ],
      "source": [
        "scores = {'kor':100, 'eng':90, 'math':80}\n",
        "scores.items()"
      ]
    },
    {
      "cell_type": "markdown",
      "id": "3d2a0983",
      "metadata": {
        "id": "3d2a0983"
      },
      "source": [
        "# for문으로 딕셔너리 출력하기"
      ]
    },
    {
      "cell_type": "markdown",
      "id": "9c4f4d6f",
      "metadata": {
        "id": "9c4f4d6f"
      },
      "source": [
        "## for문으로 딕셔너리의 키만 출력하기"
      ]
    },
    {
      "cell_type": "code",
      "execution_count": 4,
      "id": "e51357f8",
      "metadata": {
        "scrolled": true,
        "colab": {
          "base_uri": "https://localhost:8080/"
        },
        "id": "e51357f8",
        "outputId": "9694491e-ae5b-4063-fb91-c03db5c7410a"
      },
      "outputs": [
        {
          "output_type": "stream",
          "name": "stdout",
          "text": [
            "kor\n",
            "eng\n",
            "math\n"
          ]
        }
      ],
      "source": [
        "scores = {'kor':100, 'eng':90, 'math':80}\n",
        "\n",
        "for i in scores.keys():\n",
        "    print(i)"
      ]
    },
    {
      "cell_type": "code",
      "execution_count": 5,
      "id": "53d4e7cf",
      "metadata": {
        "scrolled": true,
        "colab": {
          "base_uri": "https://localhost:8080/"
        },
        "id": "53d4e7cf",
        "outputId": "6f914e87-4299-4fd9-9744-d2e6584898c7"
      },
      "outputs": [
        {
          "output_type": "stream",
          "name": "stdout",
          "text": [
            "kor\n",
            "eng\n",
            "math\n"
          ]
        }
      ],
      "source": [
        "# 딕셔너리로 for문 돌리기\n",
        "for i in scores: \n",
        "    print(i)"
      ]
    },
    {
      "cell_type": "markdown",
      "id": "135fef40",
      "metadata": {
        "id": "135fef40"
      },
      "source": [
        "## for문으로 딕셔너리의 value만 출력하기"
      ]
    },
    {
      "cell_type": "code",
      "execution_count": 6,
      "id": "fa054b95",
      "metadata": {
        "colab": {
          "base_uri": "https://localhost:8080/"
        },
        "id": "fa054b95",
        "outputId": "59607ad8-b2be-47f4-af24-1275012c76b1"
      },
      "outputs": [
        {
          "output_type": "stream",
          "name": "stdout",
          "text": [
            "100\n",
            "90\n",
            "80\n"
          ]
        }
      ],
      "source": [
        "scores = {'kor':100, 'eng':90, 'math':80}\n",
        "\n",
        "for i in scores.values():\n",
        "    print(i)"
      ]
    },
    {
      "cell_type": "markdown",
      "id": "3d3acb95",
      "metadata": {
        "id": "3d3acb95"
      },
      "source": [
        "## for문으로 딕셔너리의 key, value 출력하기"
      ]
    },
    {
      "cell_type": "code",
      "execution_count": 8,
      "id": "b472894c",
      "metadata": {
        "scrolled": true,
        "colab": {
          "base_uri": "https://localhost:8080/"
        },
        "id": "b472894c",
        "outputId": "7185dc35-5b38-487f-d0a7-5c67177cf86d"
      },
      "outputs": [
        {
          "output_type": "stream",
          "name": "stdout",
          "text": [
            "('kor', 100)\n",
            "('eng', 90)\n",
            "('math', 80)\n"
          ]
        }
      ],
      "source": [
        "scores = {'kor':100, 'eng':90, 'math':80}\n",
        "\n",
        "for i in scores.items(): \n",
        "    print(i)"
      ]
    },
    {
      "cell_type": "code",
      "execution_count": 10,
      "id": "ad4e5640",
      "metadata": {
        "scrolled": true,
        "colab": {
          "base_uri": "https://localhost:8080/"
        },
        "id": "ad4e5640",
        "outputId": "16df9443-7d55-41f0-ac0c-c9e7e516b07d"
      },
      "outputs": [
        {
          "output_type": "stream",
          "name": "stdout",
          "text": [
            "kor 100\n",
            "eng 90\n",
            "math 80\n"
          ]
        }
      ],
      "source": [
        "scores = {'kor':100, 'eng':90, 'math':80}\n",
        "\n",
        "for k, v in scores.items():\n",
        "    print(k, v)"
      ]
    },
    {
      "cell_type": "markdown",
      "id": "6fa1112d",
      "metadata": {
        "id": "6fa1112d"
      },
      "source": [
        "# 딕셔너리 정렬하기"
      ]
    },
    {
      "cell_type": "markdown",
      "id": "1fbb77da",
      "metadata": {
        "id": "1fbb77da"
      },
      "source": [
        "## 키 정렬하기"
      ]
    },
    {
      "cell_type": "code",
      "execution_count": 11,
      "id": "131b3927",
      "metadata": {
        "colab": {
          "base_uri": "https://localhost:8080/"
        },
        "id": "131b3927",
        "outputId": "e598b435-6215-422c-d395-751be7f55cf7"
      },
      "outputs": [
        {
          "output_type": "execute_result",
          "data": {
            "text/plain": [
              "['eng', 'kor', 'math']"
            ]
          },
          "metadata": {},
          "execution_count": 11
        }
      ],
      "source": [
        "scores = {'kor':100, 'eng':90, 'math':80}\n",
        "\n",
        "sorted(scores.keys()) # 알파벳 오름차순 정렬 "
      ]
    },
    {
      "cell_type": "markdown",
      "id": "1d9a4759",
      "metadata": {
        "id": "1d9a4759"
      },
      "source": [
        "## 값 정렬하기"
      ]
    },
    {
      "cell_type": "code",
      "execution_count": 12,
      "id": "450ce159",
      "metadata": {
        "colab": {
          "base_uri": "https://localhost:8080/"
        },
        "id": "450ce159",
        "outputId": "eac41662-b893-48d9-f0d2-ac8b68149d5d"
      },
      "outputs": [
        {
          "output_type": "execute_result",
          "data": {
            "text/plain": [
              "[80, 90, 100]"
            ]
          },
          "metadata": {},
          "execution_count": 12
        }
      ],
      "source": [
        "scores = {'kor':100, 'eng':90, 'math':80}\n",
        "sorted(scores.values())"
      ]
    },
    {
      "cell_type": "markdown",
      "id": "a3344dd7",
      "metadata": {
        "id": "a3344dd7"
      },
      "source": [
        "## (키,값) 정렬하기"
      ]
    },
    {
      "cell_type": "code",
      "execution_count": 14,
      "id": "1cc6b42b",
      "metadata": {
        "colab": {
          "base_uri": "https://localhost:8080/"
        },
        "id": "1cc6b42b",
        "outputId": "11a279c2-2f94-4537-9f6b-0e09c5595873"
      },
      "outputs": [
        {
          "output_type": "execute_result",
          "data": {
            "text/plain": [
              "[('eng', 90), ('kor', 100), ('math', 80)]"
            ]
          },
          "metadata": {},
          "execution_count": 14
        }
      ],
      "source": [
        "scores = {'kor':100, 'eng':90, 'math':80}\n",
        "sorted(scores.items())"
      ]
    },
    {
      "cell_type": "code",
      "execution_count": 18,
      "id": "8e4c7364",
      "metadata": {
        "id": "8e4c7364"
      },
      "outputs": [],
      "source": [
        "# .sort()는 지원하지 않음\n",
        "# scores.keys().sort()\n",
        "# AttributeError: 'dict_keys' object has no attribute 'sort'"
      ]
    },
    {
      "cell_type": "code",
      "source": [
        ""
      ],
      "metadata": {
        "id": "pH5P_Yef_SG_"
      },
      "id": "pH5P_Yef_SG_",
      "execution_count": null,
      "outputs": []
    }
  ],
  "metadata": {
    "kernelspec": {
      "display_name": "Python 3 (ipykernel)",
      "language": "python",
      "name": "python3"
    },
    "language_info": {
      "codemirror_mode": {
        "name": "ipython",
        "version": 3
      },
      "file_extension": ".py",
      "mimetype": "text/x-python",
      "name": "python",
      "nbconvert_exporter": "python",
      "pygments_lexer": "ipython3",
      "version": "3.9.7"
    },
    "toc": {
      "base_numbering": 1,
      "nav_menu": {},
      "number_sections": true,
      "sideBar": true,
      "skip_h1_title": false,
      "title_cell": "Table of Contents",
      "title_sidebar": "Contents",
      "toc_cell": false,
      "toc_position": {},
      "toc_section_display": true,
      "toc_window_display": true
    },
    "colab": {
      "name": "05-3. 딕셔너리의 키,값 다루기_실습.ipynb",
      "provenance": []
    }
  },
  "nbformat": 4,
  "nbformat_minor": 5
}