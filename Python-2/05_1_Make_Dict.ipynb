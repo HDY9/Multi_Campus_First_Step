{
  "cells": [
    {
      "cell_type": "markdown",
      "id": "82cdc802",
      "metadata": {
        "id": "82cdc802"
      },
      "source": [
        "# 딕셔너리 만들기"
      ]
    },
    {
      "cell_type": "markdown",
      "id": "78046a77",
      "metadata": {
        "id": "78046a77"
      },
      "source": [
        "## 딕셔너리명 = {키1:값1, 키2:값2,...,}\n",
        "* 중괄호 안에 키:값의 쌍으로 된 항목을 콤마(,)로 구분하여 적어준다."
      ]
    },
    {
      "cell_type": "markdown",
      "id": "7dc5a72c",
      "metadata": {
        "id": "7dc5a72c"
      },
      "source": [
        "|메뉴|가격|\n",
        "|----|----|\n",
        "|김밥|2000|\n",
        "|떡볶이|2500|\n",
        "|어묵|2000|\n",
        "|튀김|3000|\n"
      ]
    },
    {
      "cell_type": "code",
      "execution_count": 1,
      "id": "09cef75e",
      "metadata": {
        "scrolled": false,
        "colab": {
          "base_uri": "https://localhost:8080/"
        },
        "id": "09cef75e",
        "outputId": "38c49aef-7065-4582-ac81-2739d694d429"
      },
      "outputs": [
        {
          "output_type": "execute_result",
          "data": {
            "text/plain": [
              "{'김밥': 2000, '떡볶이': 2500, '어묵': 2000, '튀김': 3000}"
            ]
          },
          "metadata": {},
          "execution_count": 1
        }
      ],
      "source": [
        "menu = {'김밥':2000, '떡볶이':2500, '어묵':2000, '튀김':3000}\n",
        "menu"
      ]
    },
    {
      "cell_type": "code",
      "execution_count": 2,
      "id": "539f8349",
      "metadata": {
        "scrolled": true,
        "colab": {
          "base_uri": "https://localhost:8080/"
        },
        "id": "539f8349",
        "outputId": "9a18d174-9a23-4dcc-b461-a8e9ce6e7060"
      },
      "outputs": [
        {
          "output_type": "execute_result",
          "data": {
            "text/plain": [
              "{'김밥': 2000, '떡볶이': 2500, '어묵': 2000, '튀김': 3000}"
            ]
          },
          "metadata": {},
          "execution_count": 2
        }
      ],
      "source": [
        "menu = {'김밥':2000, \n",
        "        '떡볶이':2500, \n",
        "        '어묵':2000, \n",
        "        '튀김':3000}\n",
        "menu"
      ]
    },
    {
      "cell_type": "markdown",
      "id": "121c53a0",
      "metadata": {
        "id": "121c53a0"
      },
      "source": [
        "## dict로 딕셔너리 만들기"
      ]
    },
    {
      "cell_type": "markdown",
      "id": "f62d0776",
      "metadata": {
        "id": "f62d0776"
      },
      "source": [
        "* 딕셔너리명 = dict(키1=값1, 키2=값2,...,)\n",
        "* 키에 따옴표('')를 쓰지 않는다는 점에 주의한다.\n",
        "* 키에 따옴표('')를 쓰지 않아도 딕셔너리가 생성되면서 자동으로 문자열형으로 지정된다."
      ]
    },
    {
      "cell_type": "code",
      "execution_count": 5,
      "id": "7cdb7956",
      "metadata": {
        "colab": {
          "base_uri": "https://localhost:8080/"
        },
        "id": "7cdb7956",
        "outputId": "6fba963f-032f-48d6-b86d-ab4dc565ffc1"
      },
      "outputs": [
        {
          "output_type": "execute_result",
          "data": {
            "text/plain": [
              "{'김밥': 2000, '떡볶이': 2500, '어묵': 2000, '튀김': 3000}"
            ]
          },
          "metadata": {},
          "execution_count": 5
        }
      ],
      "source": [
        "menu1 = dict(김밥=2000, 떡볶이=2500, 어묵=2000, 튀김=3000)\n",
        "menu1"
      ]
    },
    {
      "cell_type": "markdown",
      "id": "6737312c",
      "metadata": {
        "id": "6737312c"
      },
      "source": [
        "* 딕셔너리명 = dict(zip(key리스트, value리스트))\n",
        "- 내가 교/강사라면 시험에 내고 싶은 욕망 꿈틀"
      ]
    },
    {
      "cell_type": "code",
      "execution_count": 7,
      "id": "01e4f7cc",
      "metadata": {
        "colab": {
          "base_uri": "https://localhost:8080/"
        },
        "id": "01e4f7cc",
        "outputId": "47ae28d2-387f-4591-dcf8-7903d847a198"
      },
      "outputs": [
        {
          "output_type": "execute_result",
          "data": {
            "text/plain": [
              "{'김밥': 2000, '떡볶이': 2500, '어묵': 2000, '튀김': 3000}"
            ]
          },
          "metadata": {},
          "execution_count": 7
        }
      ],
      "source": [
        "key_list = ['김밥','떡볶이','어묵','튀김']\n",
        "value_list = [2000,2500,2000,3000]\n",
        "menu2 = dict(zip(key_list, value_list))\n",
        "menu2"
      ]
    },
    {
      "cell_type": "markdown",
      "id": "39b54e6b",
      "metadata": {
        "id": "39b54e6b"
      },
      "source": [
        "* 딕셔너리명 = dict([(키1,값1),(키1,값2),...,])"
      ]
    },
    {
      "cell_type": "code",
      "execution_count": 8,
      "id": "e648f447",
      "metadata": {
        "scrolled": true,
        "colab": {
          "base_uri": "https://localhost:8080/"
        },
        "id": "e648f447",
        "outputId": "3e2378ed-1704-41b6-d632-491d33c1d689"
      },
      "outputs": [
        {
          "output_type": "execute_result",
          "data": {
            "text/plain": [
              "{'김밥': 2000, '떡볶이': 2500, '어묵': 2000, '튀김': 3000}"
            ]
          },
          "metadata": {},
          "execution_count": 8
        }
      ],
      "source": [
        "[('김밥',2000),('떡볶이',2500),('어묵',2000),('튀김',3000)]\n",
        "menu3 = dict([('김밥',2000),('떡볶이',2500),('어묵',2000),('튀김',3000)])\n",
        "menu3"
      ]
    },
    {
      "cell_type": "markdown",
      "id": "ea45114a",
      "metadata": {
        "id": "ea45114a"
      },
      "source": [
        "* 딕셔너리명 = dict({키1:값1,키2:값2,...,})"
      ]
    },
    {
      "cell_type": "code",
      "execution_count": 9,
      "id": "bfb7e59e",
      "metadata": {
        "colab": {
          "base_uri": "https://localhost:8080/"
        },
        "id": "bfb7e59e",
        "outputId": "24d41fb0-be47-4649-f310-4daad2fb98b9"
      },
      "outputs": [
        {
          "output_type": "stream",
          "name": "stdout",
          "text": [
            "{'김밥': 2000, '떡볶이': 2500, '어묵': 2000, '튀김': 3000}\n"
          ]
        }
      ],
      "source": [
        "menu4 = dict({'김밥': 2000, '떡볶이': 2500, '어묵': 2000, '튀김': 3000})\n",
        "print(menu4)"
      ]
    },
    {
      "cell_type": "markdown",
      "id": "e83941ce",
      "metadata": {
        "id": "e83941ce"
      },
      "source": [
        "## 딕셔너리에 사용할 수 있는 자료형\n",
        "* 딕셔너리의 value에는 모든 자료형을 혼합하여 사용할 수 있다."
      ]
    },
    {
      "cell_type": "code",
      "execution_count": 10,
      "id": "82fc56f0",
      "metadata": {
        "colab": {
          "base_uri": "https://localhost:8080/"
        },
        "id": "82fc56f0",
        "outputId": "a894c13a-94e4-40b6-c4da-d1e3b20c64b1"
      },
      "outputs": [
        {
          "output_type": "execute_result",
          "data": {
            "text/plain": [
              "{'name': 'james', '나이': 25, '시력': (1.0, 1.0), '취미': ['운동', '독서'], '키': 175.5}"
            ]
          },
          "metadata": {},
          "execution_count": 10
        }
      ],
      "source": [
        "person = {'name':'james', \n",
        "          '나이':25,\n",
        "          '키':175.5,\n",
        "          '시력':(1.0,1.0),\n",
        "          '취미':['운동','독서']}\n",
        "person"
      ]
    },
    {
      "cell_type": "markdown",
      "id": "0ff2fe48",
      "metadata": {
        "id": "0ff2fe48"
      },
      "source": [
        "* 딕셔너리의 key에는 숫자, 문자열, 부울형, 튜플을 사용할 수 있다."
      ]
    },
    {
      "cell_type": "code",
      "execution_count": 11,
      "id": "ba2e6c54",
      "metadata": {
        "colab": {
          "base_uri": "https://localhost:8080/"
        },
        "id": "ba2e6c54",
        "outputId": "65205b2c-99ef-44a4-d13e-0874e166252c"
      },
      "outputs": [
        {
          "output_type": "stream",
          "name": "stdout",
          "text": [
            "{100: 'hundred', True: '참', False: '거짓', (1, 3): '학년,반', 7: '번호'}\n"
          ]
        }
      ],
      "source": [
        "number=7\n",
        "\n",
        "dict1 = {\n",
        "    100:'hundred',\n",
        "    True:'참',\n",
        "    False:'거짓',\n",
        "    (1,3):'학년,반',\n",
        "    number:'번호'\n",
        "}\n",
        "print(dict1)"
      ]
    },
    {
      "cell_type": "markdown",
      "id": "8632ed08",
      "metadata": {
        "id": "8632ed08"
      },
      "source": [
        "##  중복된 key를 사용하여 딕셔너리 만들면?"
      ]
    },
    {
      "cell_type": "code",
      "execution_count": 12,
      "id": "8888de52",
      "metadata": {
        "scrolled": true,
        "colab": {
          "base_uri": "https://localhost:8080/"
        },
        "id": "8888de52",
        "outputId": "d88a3789-1755-43cd-b9b7-2666c8485321"
      },
      "outputs": [
        {
          "output_type": "execute_result",
          "data": {
            "text/plain": [
              "{'name': 'james', '나이': 25, '시력': (1.0, 1.0), '취미': ['운동', '독서'], '키': 175.5}"
            ]
          },
          "metadata": {},
          "execution_count": 12
        }
      ],
      "source": [
        "person = {'name':'james', \n",
        "          '나이':25,\n",
        "          '키':175.5,\n",
        "          '시력':(1.0,1.0),\n",
        "          '취미':['운동','독서']}\n",
        "person"
      ]
    },
    {
      "cell_type": "markdown",
      "id": "deac8223",
      "metadata": {
        "id": "deac8223"
      },
      "source": [
        "# 딕셔너리 값 추출하기"
      ]
    },
    {
      "cell_type": "markdown",
      "id": "3e02d5a2",
      "metadata": {
        "id": "3e02d5a2"
      },
      "source": [
        "## 딕셔너리명[key]"
      ]
    },
    {
      "cell_type": "code",
      "execution_count": 14,
      "id": "72e5e5a3",
      "metadata": {
        "scrolled": false,
        "colab": {
          "base_uri": "https://localhost:8080/"
        },
        "id": "72e5e5a3",
        "outputId": "033e8be7-2a9c-46d9-d22a-626c95835e5d"
      },
      "outputs": [
        {
          "output_type": "execute_result",
          "data": {
            "text/plain": [
              "25"
            ]
          },
          "metadata": {},
          "execution_count": 14
        }
      ],
      "source": [
        "person['나이']"
      ]
    },
    {
      "cell_type": "code",
      "source": [
        "person['시력']"
      ],
      "metadata": {
        "colab": {
          "base_uri": "https://localhost:8080/"
        },
        "id": "Fj1lhlmJ1GBm",
        "outputId": "3686294c-3934-42fe-c410-1c3d240431be"
      },
      "id": "Fj1lhlmJ1GBm",
      "execution_count": 15,
      "outputs": [
        {
          "output_type": "execute_result",
          "data": {
            "text/plain": [
              "(1.0, 1.0)"
            ]
          },
          "metadata": {},
          "execution_count": 15
        }
      ]
    },
    {
      "cell_type": "markdown",
      "id": "9b2238dd",
      "metadata": {
        "id": "9b2238dd"
      },
      "source": [
        "## 존재하지 않는 key로 추출하면?\n",
        "* KeyError가 발생한다."
      ]
    },
    {
      "cell_type": "code",
      "execution_count": 17,
      "id": "0a740160",
      "metadata": {
        "scrolled": true,
        "id": "0a740160"
      },
      "outputs": [],
      "source": [
        "# person['몸무게']\n",
        "# KeyError: '몸무게' 발생"
      ]
    },
    {
      "cell_type": "markdown",
      "id": "fd5cc784",
      "metadata": {
        "id": "fd5cc784"
      },
      "source": [
        "## 딕셔너리에 키 존재여부 확인하기\n",
        "* key in 딕셔너리명"
      ]
    },
    {
      "cell_type": "code",
      "execution_count": 18,
      "id": "11311a48",
      "metadata": {
        "colab": {
          "base_uri": "https://localhost:8080/"
        },
        "id": "11311a48",
        "outputId": "fac627e3-75b0-47a6-f8e5-f88264e4e25d"
      },
      "outputs": [
        {
          "output_type": "stream",
          "name": "stdout",
          "text": [
            "없는뎁쇼\n"
          ]
        }
      ],
      "source": [
        "if '몸무게' in person: \n",
        "    print(person['몸무게'])\n",
        "else: \n",
        "    print('없는뎁쇼')"
      ]
    },
    {
      "cell_type": "code",
      "source": [
        "if '나이' in person: \n",
        "    print(person['나이'])\n",
        "else: \n",
        "    print('없는뎁쇼')"
      ],
      "metadata": {
        "colab": {
          "base_uri": "https://localhost:8080/"
        },
        "id": "EuqvWXds1lcn",
        "outputId": "b02b838c-0258-4d0f-f88a-821b68f20224"
      },
      "id": "EuqvWXds1lcn",
      "execution_count": 19,
      "outputs": [
        {
          "output_type": "stream",
          "name": "stdout",
          "text": [
            "25\n"
          ]
        }
      ]
    },
    {
      "cell_type": "markdown",
      "id": "a12f8031",
      "metadata": {
        "id": "a12f8031"
      },
      "source": [
        "## 딕셔너리명.get(key, msg)\n",
        "* 존재하지 않는 key로 추출 시도해도 오류가 발생하지 않는다.\n",
        "* 존재하지 않는 key로 추출 시도할 경우 출력할 메시지를 설정할 수 있다."
      ]
    },
    {
      "cell_type": "code",
      "execution_count": 20,
      "id": "eb68a45f",
      "metadata": {
        "scrolled": true,
        "colab": {
          "base_uri": "https://localhost:8080/"
        },
        "id": "eb68a45f",
        "outputId": "2b981741-5ced-434f-8332-dddf5779ddad"
      },
      "outputs": [
        {
          "output_type": "execute_result",
          "data": {
            "text/plain": [
              "25"
            ]
          },
          "metadata": {},
          "execution_count": 20
        }
      ],
      "source": [
        "person.get('나이')"
      ]
    },
    {
      "cell_type": "code",
      "execution_count": 21,
      "id": "85514fe1",
      "metadata": {
        "id": "85514fe1"
      },
      "outputs": [],
      "source": [
        "person.get('몸무게')"
      ]
    },
    {
      "cell_type": "code",
      "execution_count": 22,
      "id": "b078e828",
      "metadata": {
        "scrolled": true,
        "colab": {
          "base_uri": "https://localhost:8080/",
          "height": 35
        },
        "id": "b078e828",
        "outputId": "dcbe5269-aa3b-4f8e-d402-fc126fa0c07b"
      },
      "outputs": [
        {
          "output_type": "execute_result",
          "data": {
            "text/plain": [
              "'없다는데요'"
            ],
            "application/vnd.google.colaboratory.intrinsic+json": {
              "type": "string"
            }
          },
          "metadata": {},
          "execution_count": 22
        }
      ],
      "source": [
        "person.get('몸무게', '없다는데요')"
      ]
    },
    {
      "cell_type": "code",
      "source": [
        ""
      ],
      "metadata": {
        "id": "WNEoOAHy18zP"
      },
      "id": "WNEoOAHy18zP",
      "execution_count": null,
      "outputs": []
    }
  ],
  "metadata": {
    "kernelspec": {
      "display_name": "Python 3",
      "language": "python",
      "name": "python3"
    },
    "language_info": {
      "codemirror_mode": {
        "name": "ipython",
        "version": 3
      },
      "file_extension": ".py",
      "mimetype": "text/x-python",
      "name": "python",
      "nbconvert_exporter": "python",
      "pygments_lexer": "ipython3",
      "version": "3.8.8"
    },
    "toc": {
      "base_numbering": 1,
      "nav_menu": {},
      "number_sections": true,
      "sideBar": true,
      "skip_h1_title": false,
      "title_cell": "Table of Contents",
      "title_sidebar": "Contents",
      "toc_cell": false,
      "toc_position": {},
      "toc_section_display": true,
      "toc_window_display": true
    },
    "colab": {
      "name": "05-1. 딕셔너리 만들고 값 추출하기_실습.ipynb",
      "provenance": []
    }
  },
  "nbformat": 4,
  "nbformat_minor": 5
}