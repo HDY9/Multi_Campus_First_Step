{
  "cells": [
    {
      "cell_type": "markdown",
      "id": "d35613bb",
      "metadata": {
        "id": "d35613bb"
      },
      "source": [
        "# 딕셔너리 항목 추가/수정"
      ]
    },
    {
      "cell_type": "markdown",
      "id": "93789a49",
      "metadata": {
        "id": "93789a49"
      },
      "source": [
        "## 딕셔너리명[키]=값\n",
        "* 키가 존재하지 않으면 추가, 존재하면 수정된다."
      ]
    },
    {
      "cell_type": "code",
      "execution_count": 3,
      "id": "4ff3914d",
      "metadata": {
        "scrolled": true,
        "colab": {
          "base_uri": "https://localhost:8080/"
        },
        "id": "4ff3914d",
        "outputId": "35a2d3c5-abb1-46e0-d28b-53018a2ea940"
      },
      "outputs": [
        {
          "output_type": "execute_result",
          "data": {
            "text/plain": [
              "{'eng': 90, 'kor': 100, 'math': 85, 'music': 95}"
            ]
          },
          "metadata": {},
          "execution_count": 3
        }
      ],
      "source": [
        "scores = {'kor':100, 'eng':90, 'math':80}\n",
        "\n",
        "# math점수 85점으로 수정하기\n",
        "scores['math'] = 85\n",
        "# music점수 95점 추가하기\n",
        "scores['music'] = 95\n",
        "scores"
      ]
    },
    {
      "cell_type": "markdown",
      "id": "7186bb46",
      "metadata": {
        "id": "7186bb46"
      },
      "source": [
        "## setdefault로 항목 추가하기"
      ]
    },
    {
      "cell_type": "markdown",
      "id": "8203e968",
      "metadata": {
        "id": "8203e968"
      },
      "source": [
        "* 딕셔너리명.setdefault(키,값)\n",
        "* 이미 들어있는 키의 값은 수정할 수 없다."
      ]
    },
    {
      "cell_type": "code",
      "execution_count": 5,
      "id": "42726c46",
      "metadata": {
        "colab": {
          "base_uri": "https://localhost:8080/"
        },
        "id": "42726c46",
        "outputId": "de4cfa12-34bd-4aa4-da73-4dd5dc8d5028"
      },
      "outputs": [
        {
          "output_type": "execute_result",
          "data": {
            "text/plain": [
              "{'eng': 90, 'kor': 100, 'math': 80, 'music': None}"
            ]
          },
          "metadata": {},
          "execution_count": 5
        }
      ],
      "source": [
        "scores = {'kor':100, 'eng':90, 'math':80}\n",
        "\n",
        "# music점수 넣기(key만 넣고 value를 생략하면? value에 빈값)\n",
        "scores.setdefault('music')\n",
        "scores"
      ]
    },
    {
      "cell_type": "code",
      "execution_count": 6,
      "id": "6eedbf72",
      "metadata": {
        "scrolled": true,
        "colab": {
          "base_uri": "https://localhost:8080/"
        },
        "id": "6eedbf72",
        "outputId": "f73ae859-f792-4250-f714-f6eb4edc8271"
      },
      "outputs": [
        {
          "output_type": "execute_result",
          "data": {
            "text/plain": [
              "{'eng': 90, 'kor': 100, 'math': 80, 'music': 90}"
            ]
          },
          "metadata": {},
          "execution_count": 6
        }
      ],
      "source": [
        "scores = {'kor':100, 'eng':90, 'math':80}\n",
        "\n",
        "# music점수 90점 추가\n",
        "scores.setdefault('music',90)\n",
        "scores"
      ]
    },
    {
      "cell_type": "code",
      "execution_count": 7,
      "id": "3d10b4a2",
      "metadata": {
        "scrolled": true,
        "colab": {
          "base_uri": "https://localhost:8080/"
        },
        "id": "3d10b4a2",
        "outputId": "ce275e44-f604-4b21-f3f4-c88c90bcf38e"
      },
      "outputs": [
        {
          "output_type": "execute_result",
          "data": {
            "text/plain": [
              "{'eng': 90, 'kor': 100, 'math': 80, 'music': 95}"
            ]
          },
          "metadata": {},
          "execution_count": 7
        }
      ],
      "source": [
        "scores = {'kor': 100, 'eng': 90, 'math': 80, 'music': 95}\n",
        "\n",
        "# music점수 85점으로 수정\n",
        "scores.setdefault('music',85)  # 변경되지 않음 \n",
        "scores"
      ]
    },
    {
      "cell_type": "code",
      "source": [
        "scores['music'] = 85\n",
        "scores"
      ],
      "metadata": {
        "colab": {
          "base_uri": "https://localhost:8080/"
        },
        "id": "TUc9Z-6r7XrV",
        "outputId": "872a5a17-6255-4621-c8fe-ceb0e5fafef6"
      },
      "id": "TUc9Z-6r7XrV",
      "execution_count": 8,
      "outputs": [
        {
          "output_type": "execute_result",
          "data": {
            "text/plain": [
              "{'eng': 90, 'kor': 100, 'math': 80, 'music': 85}"
            ]
          },
          "metadata": {},
          "execution_count": 8
        }
      ]
    },
    {
      "cell_type": "markdown",
      "id": "6240eec5",
      "metadata": {
        "id": "6240eec5"
      },
      "source": [
        "## update로 여러 항목 추가/수정하기\n",
        "* 키가 존재하면 수정, 존재하지 않으면 추가된다."
      ]
    },
    {
      "cell_type": "markdown",
      "id": "efacd497",
      "metadata": {
        "id": "efacd497"
      },
      "source": [
        "* <b>딕셔너리명.update(키1=값1, 키1=값2,...)</b>\n",
        "* 키에 따옴표를 하지 않지만, 딕셔너리에 들어갈 때는 따옴표가 붙어서 들어간다."
      ]
    },
    {
      "cell_type": "code",
      "execution_count": 9,
      "id": "eb0af9a0",
      "metadata": {
        "colab": {
          "base_uri": "https://localhost:8080/"
        },
        "id": "eb0af9a0",
        "outputId": "4f394a2e-7e98-4d07-b9e8-6accf145fa3d"
      },
      "outputs": [
        {
          "output_type": "execute_result",
          "data": {
            "text/plain": [
              "{'eng': 90, 'kor': 100, 'math': 90, 'music': 90}"
            ]
          },
          "metadata": {},
          "execution_count": 9
        }
      ],
      "source": [
        "scores = {'kor':100, 'eng':90, 'math':80}\n",
        "\n",
        "# math:90, music:90\n",
        "scores.update(math=90, music=90)\n",
        "scores"
      ]
    },
    {
      "cell_type": "markdown",
      "id": "d0a9e65c",
      "metadata": {
        "id": "d0a9e65c"
      },
      "source": [
        "* <b>딕셔너리명.update(zip(key리스트, value리스트)</b>"
      ]
    },
    {
      "cell_type": "code",
      "execution_count": 10,
      "id": "108f4cb8",
      "metadata": {
        "scrolled": true,
        "colab": {
          "base_uri": "https://localhost:8080/"
        },
        "id": "108f4cb8",
        "outputId": "49c293c7-322b-4c30-bd58-83f9d85c6017"
      },
      "outputs": [
        {
          "output_type": "execute_result",
          "data": {
            "text/plain": [
              "{'eng': 90, 'kor': 100, 'math': 90, 'music': 90}"
            ]
          },
          "metadata": {},
          "execution_count": 10
        }
      ],
      "source": [
        "scores = {'kor':100, 'eng':90, 'math':80}\n",
        "\n",
        "# math:90, music:90\n",
        "scores.update(zip(['math', 'music'],[90,90]))\n",
        "# 꼭 기억해줘~~~~\n",
        "scores"
      ]
    },
    {
      "cell_type": "markdown",
      "id": "dbf14c10",
      "metadata": {
        "id": "dbf14c10"
      },
      "source": [
        "* <b>딕셔너리명.update([(키1,값1),(키2,값2),...])</b>"
      ]
    },
    {
      "cell_type": "code",
      "execution_count": 11,
      "id": "e510e48f",
      "metadata": {
        "colab": {
          "base_uri": "https://localhost:8080/"
        },
        "id": "e510e48f",
        "outputId": "95b80115-a22c-4653-b8f3-d1970372f742"
      },
      "outputs": [
        {
          "output_type": "execute_result",
          "data": {
            "text/plain": [
              "{'eng': 90, 'kor': 100, 'math': 90, 'music': 90}"
            ]
          },
          "metadata": {},
          "execution_count": 11
        }
      ],
      "source": [
        "scores = {'kor':100, 'eng':90, 'math':80}\n",
        "\n",
        "# math:90, music:90\n",
        "scores.update([('math',90),('music',90)])\n",
        "scores"
      ]
    },
    {
      "cell_type": "markdown",
      "id": "2749f2b2",
      "metadata": {
        "id": "2749f2b2"
      },
      "source": [
        "* <b>딕셔너리명.update({키1:값1,키2:값2,...,})</b>"
      ]
    },
    {
      "cell_type": "code",
      "execution_count": 12,
      "id": "0ac24f4e",
      "metadata": {
        "scrolled": true,
        "colab": {
          "base_uri": "https://localhost:8080/"
        },
        "id": "0ac24f4e",
        "outputId": "f6dbce4a-20a5-4036-bfeb-c044c7fc02ee"
      },
      "outputs": [
        {
          "output_type": "execute_result",
          "data": {
            "text/plain": [
              "{'eng': 90, 'kor': 100, 'math': 90, 'music': 90}"
            ]
          },
          "metadata": {},
          "execution_count": 12
        }
      ],
      "source": [
        "scores = {'kor':100, 'eng':90, 'math':80}\n",
        "\n",
        "# math:90, music:90\n",
        "scores.update({'math':90, 'music':90})    \n",
        "scores"
      ]
    },
    {
      "cell_type": "markdown",
      "id": "75530820",
      "metadata": {
        "id": "75530820"
      },
      "source": [
        "# 딕셔너리에서 항목 삭제하기"
      ]
    },
    {
      "cell_type": "markdown",
      "id": "238965c6",
      "metadata": {
        "id": "238965c6"
      },
      "source": [
        "## del 딕셔너리명[키]\n",
        "* 해당 키의 항목 삭제"
      ]
    },
    {
      "cell_type": "code",
      "execution_count": 13,
      "id": "627fa7e6",
      "metadata": {
        "colab": {
          "base_uri": "https://localhost:8080/"
        },
        "id": "627fa7e6",
        "outputId": "8b6183ab-3b09-4f90-91c5-16efddbc9a9d"
      },
      "outputs": [
        {
          "output_type": "execute_result",
          "data": {
            "text/plain": [
              "{'eng': 90, 'math': 80}"
            ]
          },
          "metadata": {},
          "execution_count": 13
        }
      ],
      "source": [
        "scores = {'kor':100, 'eng':90, 'math':80}\n",
        "\n",
        "# 키가 'kor'인 항목 삭제\n",
        "del scores['kor']\n",
        "scores"
      ]
    },
    {
      "cell_type": "markdown",
      "id": "1f44c6e5",
      "metadata": {
        "id": "1f44c6e5"
      },
      "source": [
        "## 딕셔너리명.pop(키, 기본값)\n",
        "* 해당 키의 항목(값) 반환하고 삭제"
      ]
    },
    {
      "cell_type": "code",
      "execution_count": 15,
      "id": "ad29224b",
      "metadata": {
        "colab": {
          "base_uri": "https://localhost:8080/"
        },
        "id": "ad29224b",
        "outputId": "cc76a3ae-410c-427e-e609-a2f1b3916d20"
      },
      "outputs": [
        {
          "output_type": "stream",
          "name": "stdout",
          "text": [
            "100\n",
            "{'eng': 90, 'math': 80}\n"
          ]
        }
      ],
      "source": [
        "scores = {'kor':100, 'eng':90, 'math':80}\n",
        "\n",
        "# 키가 'kor'인 항목의 값 받아온 후 삭제\n",
        "kor = scores.pop('kor')\n",
        "print(kor)\n",
        "print(scores)"
      ]
    },
    {
      "cell_type": "markdown",
      "id": "1f239b63",
      "metadata": {
        "id": "1f239b63"
      },
      "source": [
        "* 해당 키의 항목 반환하고 삭제(키가 존재하지 않을 때 기본값 반환)"
      ]
    },
    {
      "cell_type": "code",
      "execution_count": 16,
      "id": "ab95bf5c",
      "metadata": {
        "colab": {
          "base_uri": "https://localhost:8080/"
        },
        "id": "ab95bf5c",
        "outputId": "70e3b3fe-6c81-45d2-8338-0b5905d9bcc0"
      },
      "outputs": [
        {
          "output_type": "stream",
          "name": "stdout",
          "text": [
            "x\n",
            "{'kor': 100, 'eng': 90, 'math': 80}\n"
          ]
        }
      ],
      "source": [
        "scores = {'kor':100, 'eng':90, 'math':80}\n",
        "\n",
        "# 키가 'music'인 항목의 값 받아온 후 삭제(삭제할 키가 존재하지 않는 경우)\n",
        "music = scores.pop('music','x')\n",
        "print(music)\n",
        "print(scores)"
      ]
    },
    {
      "cell_type": "markdown",
      "id": "8d331ef1",
      "metadata": {
        "id": "8d331ef1"
      },
      "source": [
        "## 딕셔너리명.clear()\n",
        "* 딕셔너리의 모든 항목 삭제"
      ]
    },
    {
      "cell_type": "code",
      "execution_count": 17,
      "id": "4abda6b4",
      "metadata": {
        "colab": {
          "base_uri": "https://localhost:8080/"
        },
        "id": "4abda6b4",
        "outputId": "e8069904-9a73-4a0b-b968-d735f58e4c16"
      },
      "outputs": [
        {
          "output_type": "stream",
          "name": "stdout",
          "text": [
            "{}\n"
          ]
        }
      ],
      "source": [
        "scores = {'kor':100, 'eng':90, 'math':80}\n",
        "scores.clear()\n",
        "print(scores)"
      ]
    },
    {
      "cell_type": "code",
      "source": [
        ""
      ],
      "metadata": {
        "id": "vqOnWk0L9Mdr"
      },
      "id": "vqOnWk0L9Mdr",
      "execution_count": null,
      "outputs": []
    }
  ],
  "metadata": {
    "kernelspec": {
      "display_name": "Python 3 (ipykernel)",
      "language": "python",
      "name": "python3"
    },
    "language_info": {
      "codemirror_mode": {
        "name": "ipython",
        "version": 3
      },
      "file_extension": ".py",
      "mimetype": "text/x-python",
      "name": "python",
      "nbconvert_exporter": "python",
      "pygments_lexer": "ipython3",
      "version": "3.9.7"
    },
    "toc": {
      "base_numbering": 1,
      "nav_menu": {},
      "number_sections": true,
      "sideBar": true,
      "skip_h1_title": false,
      "title_cell": "Table of Contents",
      "title_sidebar": "Contents",
      "toc_cell": false,
      "toc_position": {},
      "toc_section_display": true,
      "toc_window_display": true
    },
    "colab": {
      "name": "05-2. 딕셔너리 변경하기.ipynb",
      "provenance": []
    }
  },
  "nbformat": 4,
  "nbformat_minor": 5
}