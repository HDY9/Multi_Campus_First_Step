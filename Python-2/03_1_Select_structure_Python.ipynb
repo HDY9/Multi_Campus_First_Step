{
  "cells": [
    {
      "cell_type": "markdown",
      "id": "49b066b6",
      "metadata": {
        "id": "49b066b6"
      },
      "source": [
        "# if구조"
      ]
    },
    {
      "cell_type": "markdown",
      "id": "82005ed3",
      "metadata": {
        "id": "82005ed3"
      },
      "source": [
        "* 점수를 입력받아, 점수가 60점 이상이면 '합격'을 출력합니다."
      ]
    },
    {
      "cell_type": "code",
      "execution_count": 2,
      "id": "953abbe1",
      "metadata": {
        "colab": {
          "base_uri": "https://localhost:8080/"
        },
        "id": "953abbe1",
        "outputId": "e770b700-9022-43f3-a898-074e5dba1886"
      },
      "outputs": [
        {
          "output_type": "stream",
          "name": "stdout",
          "text": [
            "점수:80\n",
            "합격\n",
            "경사났네\n",
            "수고하셨습니다 \n"
          ]
        }
      ],
      "source": [
        "score = int(input('점수:'))\n",
        "\n",
        "if score >= 60:\n",
        "    print('합격')\n",
        "    print('경사났네')\n",
        "print('수고하셨습니다 ')"
      ]
    },
    {
      "cell_type": "markdown",
      "id": "89867f9f",
      "metadata": {
        "id": "89867f9f"
      },
      "source": [
        "# if..else..구조"
      ]
    },
    {
      "cell_type": "markdown",
      "id": "72e2e273",
      "metadata": {
        "id": "72e2e273"
      },
      "source": [
        "* 점수를 입력받아, 점수가 60점 이상이면 '합격'을 출력하고, 아니면 '불합격'을 출력합니다."
      ]
    },
    {
      "cell_type": "code",
      "execution_count": 3,
      "id": "dbdd11b4",
      "metadata": {
        "scrolled": false,
        "colab": {
          "base_uri": "https://localhost:8080/"
        },
        "id": "dbdd11b4",
        "outputId": "82e3f2c1-7e0d-4944-a8c0-888148df13c2"
      },
      "outputs": [
        {
          "output_type": "stream",
          "name": "stdout",
          "text": [
            "점수:55\n",
            "다음 기회에...\n"
          ]
        }
      ],
      "source": [
        "score = int(input('점수:'))\n",
        "\n",
        "if score >= 60:\n",
        "    print('합격')\n",
        "    print('경사났네')\n",
        "else: \n",
        "    print('불합격') \n",
        "    print('다음 기회에...')"
      ]
    },
    {
      "cell_type": "markdown",
      "id": "50dfa035",
      "metadata": {
        "id": "50dfa035"
      },
      "source": [
        "# if..elif..구조"
      ]
    },
    {
      "cell_type": "markdown",
      "id": "7dfb40b6",
      "metadata": {
        "id": "7dfb40b6"
      },
      "source": [
        "* 점수를 입력받고 점수의 범위에 따라 등급을 출력하는 프로그램을 작성하세요.    \n",
        "\n",
        "|등급|A|B|C|D|F|\n",
        "|----|--|--|--|--|--|\n",
        "|점수|90이상|80~89|70~79|60~69|0~59|"
      ]
    },
    {
      "cell_type": "code",
      "execution_count": 4,
      "id": "459f46ca",
      "metadata": {
        "colab": {
          "base_uri": "https://localhost:8080/"
        },
        "id": "459f46ca",
        "outputId": "edc6eb88-c8d1-4dd0-cffd-5441a1167680"
      },
      "outputs": [
        {
          "output_type": "stream",
          "name": "stdout",
          "text": [
            "점수:65\n",
            "grade: D\n"
          ]
        }
      ],
      "source": [
        "score = int(input('점수:'))\n",
        "if score >= 90: \n",
        "    grade = 'A'\n",
        "elif score >=80:\n",
        "    grade = 'B'\n",
        "elif score >=70:\n",
        "    grade = 'C'\n",
        "elif score >=60:\n",
        "    grade = 'D'\n",
        "else: \n",
        "    grade = 'F'\n",
        "\n",
        "print('grade:', grade)"
      ]
    },
    {
      "cell_type": "code",
      "execution_count": null,
      "id": "e4fc565a",
      "metadata": {
        "id": "e4fc565a"
      },
      "outputs": [],
      "source": [
        ""
      ]
    },
    {
      "cell_type": "markdown",
      "id": "e2003f20",
      "metadata": {
        "id": "e2003f20"
      },
      "source": [
        "# 연습문제"
      ]
    },
    {
      "cell_type": "markdown",
      "id": "5ff0dcc9",
      "metadata": {
        "id": "5ff0dcc9"
      },
      "source": [
        "* 정수를 입력받아 짝수/홀수를 판별하세요."
      ]
    },
    {
      "cell_type": "code",
      "execution_count": 7,
      "id": "9bac5e4d",
      "metadata": {
        "colab": {
          "base_uri": "https://localhost:8080/"
        },
        "id": "9bac5e4d",
        "outputId": "8e9815dc-1636-4646-b185-7150515434c6"
      },
      "outputs": [
        {
          "output_type": "stream",
          "name": "stdout",
          "text": [
            "정수:15\n",
            "홀수\n"
          ]
        }
      ],
      "source": [
        "num = int(input('정수:'))\n",
        "\n",
        "if num % 2 == 1: \n",
        "    print('홀수')\n",
        "elif num == 0:\n",
        "    print(0)\n",
        "else: \n",
        "    print('짝수')"
      ]
    },
    {
      "cell_type": "code",
      "source": [
        ""
      ],
      "metadata": {
        "id": "Or8ohB97Eb7c"
      },
      "id": "Or8ohB97Eb7c",
      "execution_count": null,
      "outputs": []
    }
  ],
  "metadata": {
    "kernelspec": {
      "display_name": "Python 3",
      "language": "python",
      "name": "python3"
    },
    "language_info": {
      "codemirror_mode": {
        "name": "ipython",
        "version": 3
      },
      "file_extension": ".py",
      "mimetype": "text/x-python",
      "name": "python",
      "nbconvert_exporter": "python",
      "pygments_lexer": "ipython3",
      "version": "3.8.8"
    },
    "toc": {
      "base_numbering": 1,
      "nav_menu": {},
      "number_sections": true,
      "sideBar": true,
      "skip_h1_title": false,
      "title_cell": "Table of Contents",
      "title_sidebar": "Contents",
      "toc_cell": false,
      "toc_position": {},
      "toc_section_display": true,
      "toc_window_display": true
    },
    "colab": {
      "name": "03-1. 선택구조_실습.ipynb",
      "provenance": []
    }
  },
  "nbformat": 4,
  "nbformat_minor": 5
}