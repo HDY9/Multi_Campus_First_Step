{
  "cells": [
    {
      "cell_type": "markdown",
      "id": "47f9ddc7",
      "metadata": {
        "id": "47f9ddc7"
      },
      "source": [
        "# up&down 숫자맞추기 게임"
      ]
    },
    {
      "cell_type": "markdown",
      "id": "cfd44e63",
      "metadata": {
        "id": "cfd44e63"
      },
      "source": [
        "* 1~100 사이의 정답 숫자를 랜덤으로 하나 정하고, 정답 숫자를 맞출 때까지 숫자를 입력하는 게임이다.     \n",
        "내가 입력한 숫자가 정답보다 작으면 'DOWN', 정답보다 크면 'UP'을 출력하고 숫자를 다시 입력받는다.     \n",
        "정답을 맞추면 '정답!'이라고 출력하고 게임을 끝낸다."
      ]
    },
    {
      "cell_type": "code",
      "execution_count": 5,
      "id": "25459597",
      "metadata": {
        "colab": {
          "base_uri": "https://localhost:8080/"
        },
        "id": "25459597",
        "outputId": "e9c033c8-ef80-413c-ce00-154600500081"
      },
      "outputs": [
        {
          "output_type": "stream",
          "name": "stdout",
          "text": [
            "46\n"
          ]
        }
      ],
      "source": [
        "# 정답 숫자 \n",
        "\n",
        "import random \n",
        "num = random.randrange(1,101)\n",
        "print(num)"
      ]
    },
    {
      "cell_type": "code",
      "execution_count": 6,
      "id": "6333ba44",
      "metadata": {
        "scrolled": false,
        "colab": {
          "base_uri": "https://localhost:8080/"
        },
        "id": "6333ba44",
        "outputId": "260be9cd-682f-40dc-c249-8e11b04ee78d"
      },
      "outputs": [
        {
          "output_type": "stream",
          "name": "stdout",
          "text": [
            "70\n",
            "예상되는 숫자는?:55\n",
            "up\n",
            "예상되는 숫자는?:75\n",
            "down\n",
            "예상되는 숫자는?:70\n",
            "정답~! 천재구먼\n"
          ]
        }
      ],
      "source": [
        "# 정답 숫자 \n",
        "\n",
        "import random \n",
        "num = random.randrange(1,101)\n",
        "print(num)\n",
        "\n",
        "# 정답을 맞출때까지 반복 (정답 맞추면 반복 그만~)\n",
        "\n",
        "while True: \n",
        "    answer = int(input(\"예상되는 숫자는?:\"))\n",
        "    if answer == num: \n",
        "        print('정답~! 천재구먼')\n",
        "        break   # 정지조건 \n",
        "    if answer < num: \n",
        "        print('up')\n",
        "    else: \n",
        "        print('down')"
      ]
    },
    {
      "cell_type": "markdown",
      "id": "a0e19b86",
      "metadata": {
        "id": "a0e19b86"
      },
      "source": [
        "* 확장     \n",
        "기회는 5번까지만 주어집니다.     \n",
        "5회가 넘으면 '횟수초과' 메시지와 함께 정답을 알려줍니다.    \n",
        "정답을 맞추면 몇번째에 맞추었는지 출력합니다."
      ]
    },
    {
      "cell_type": "code",
      "source": [
        "# 정답 숫자 \n",
        "\n",
        "# 횟수 \n",
        "cnt = 0 # 횟수 초기값 설정\n",
        "\n",
        "import random \n",
        "num = random.randrange(1,101)\n",
        "print(num)\n",
        "\n",
        "# 정답을 맞출때까지 반복 (정답 맞추면 반복 그만~)\n",
        "\n",
        "while True: \n",
        "    cnt += 1\n",
        "    if cnt > 5:   # 횟수 초과시 \n",
        "        print('삐~~~횟수초과! 정답은', num)\n",
        "        break # 정지조건\n",
        "\n",
        "    answer = int(input(\"예상되는 숫자는?:\"))\n",
        "    if answer == num: \n",
        "        print('정답~! 천재구먼')\n",
        "        break   # 정지조건 \n",
        "    if answer < num: \n",
        "        print('up')\n",
        "    else: \n",
        "        print('down')"
      ],
      "metadata": {
        "colab": {
          "base_uri": "https://localhost:8080/"
        },
        "id": "oeqRvNkeOogo",
        "outputId": "86faa628-75d8-4c90-e875-28042c72f736"
      },
      "id": "oeqRvNkeOogo",
      "execution_count": 10,
      "outputs": [
        {
          "output_type": "stream",
          "name": "stdout",
          "text": [
            "85\n",
            "예상되는 숫자는?:50\n",
            "up\n",
            "예상되는 숫자는?:30\n",
            "up\n",
            "예상되는 숫자는?:20\n",
            "up\n",
            "예상되는 숫자는?:20\n",
            "up\n",
            "예상되는 숫자는?:20\n",
            "up\n",
            "삐~~~횟수초과! 정답은 85\n"
          ]
        }
      ]
    },
    {
      "cell_type": "markdown",
      "id": "5e6ba755",
      "metadata": {
        "id": "5e6ba755"
      },
      "source": [
        "# 사칙연산 프로그램"
      ]
    },
    {
      "cell_type": "markdown",
      "id": "ceb11370",
      "metadata": {
        "id": "ceb11370"
      },
      "source": [
        "* 두 수와 사칙연산기호(+,-,*,/)을 입력받아 연산 기호에 따라 연산 결과를 출력하는 프로그램을 작성하세요.\n",
        "* 사칙연산기호(+,-,*,/)가 아닌 경우 '잘못입력하셨습니다' 출력"
      ]
    },
    {
      "cell_type": "code",
      "execution_count": 13,
      "id": "bab34477",
      "metadata": {
        "scrolled": true,
        "colab": {
          "base_uri": "https://localhost:8080/"
        },
        "id": "bab34477",
        "outputId": "b8088266-fbb3-4045-a3ef-894463d687d7"
      },
      "outputs": [
        {
          "output_type": "stream",
          "name": "stdout",
          "text": [
            "숫자1: 5\n",
            "숫자2: 2\n",
            "연산기호://\n",
            "잘못 입력하셨습니다\n"
          ]
        }
      ],
      "source": [
        "num1 = int(input('숫자1: '))\n",
        "num2 = int(input('숫자2: '))\n",
        "op = input('연산기호:')\n",
        "\n",
        "if op == '+': \n",
        "    print(f'{num1}+{num2}={num1+num2}')\n",
        "elif op == '-': \n",
        "    print(f'{num1}-{num2}={num1-num2}')\n",
        "elif op == '*': \n",
        "    print(f'{num1}*{num2}={num1*num2}')\n",
        "elif op == '/': \n",
        "    print(f'{num1}/{num2}={num1/num2}')\n",
        "else:\n",
        "    print('잘못 입력하셨습니다')\n"
      ]
    },
    {
      "cell_type": "markdown",
      "id": "015e484c",
      "metadata": {
        "id": "015e484c"
      },
      "source": [
        "# 할인된 금액 계산"
      ]
    },
    {
      "cell_type": "markdown",
      "id": "b1584bb7",
      "metadata": {
        "id": "b1584bb7"
      },
      "source": [
        "* 물건 구매가를 입력받고, 금액에 따른 할인율을 계산하여 구매가, 할인율, 할인금액, 지불금액을 출력하세요.\n",
        "* 1만원이상 5만원미만: 5%, 5만원이상 10만원미만: 7%, 10만원이상: 10%\n"
      ]
    },
    {
      "cell_type": "code",
      "execution_count": 15,
      "id": "6457c190",
      "metadata": {
        "colab": {
          "base_uri": "https://localhost:8080/"
        },
        "id": "6457c190",
        "outputId": "9dab49df-c8c9-4674-9873-417104239649"
      },
      "outputs": [
        {
          "output_type": "stream",
          "name": "stdout",
          "text": [
            "물건 구매가:70000\n",
            "\n",
            "\n",
            "구매가 : 70000\n",
            "할인률 : 7\n",
            "할인금액 : 4900.0\n",
            "지불금액 : 65100.0\n",
            "\n"
          ]
        }
      ],
      "source": [
        "price = int(input('물건 구매가:'))\n",
        "\n",
        "if price >= 100000: \n",
        "    dc = 10\n",
        "elif price >= 50000: \n",
        "    dc = 7\n",
        "elif price >= 10000: \n",
        "    dc = 5\n",
        "else: \n",
        "    dc = 0\n",
        "\n",
        "print(f'''\n",
        "\n",
        "구매가 : {price}\n",
        "할인률 : {dc}\n",
        "할인금액 : {round(price*(dc/100), 2)}\n",
        "지불금액 : {price-price*(dc/100)}\n",
        "''')"
      ]
    },
    {
      "cell_type": "code",
      "source": [
        ""
      ],
      "metadata": {
        "id": "zfSuMTSORgFf"
      },
      "id": "zfSuMTSORgFf",
      "execution_count": null,
      "outputs": []
    }
  ],
  "metadata": {
    "kernelspec": {
      "display_name": "Python 3",
      "language": "python",
      "name": "python3"
    },
    "language_info": {
      "codemirror_mode": {
        "name": "ipython",
        "version": 3
      },
      "file_extension": ".py",
      "mimetype": "text/x-python",
      "name": "python",
      "nbconvert_exporter": "python",
      "pygments_lexer": "ipython3",
      "version": "3.8.8"
    },
    "toc": {
      "base_numbering": 1,
      "nav_menu": {},
      "number_sections": true,
      "sideBar": true,
      "skip_h1_title": false,
      "title_cell": "Table of Contents",
      "title_sidebar": "Contents",
      "toc_cell": false,
      "toc_position": {},
      "toc_section_display": true,
      "toc_window_display": true
    },
    "colab": {
      "name": "03-4. 알고리즘 연습하기_실습.ipynb",
      "provenance": []
    }
  },
  "nbformat": 4,
  "nbformat_minor": 5
}