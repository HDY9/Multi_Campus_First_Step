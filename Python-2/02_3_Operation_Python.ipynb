{
  "cells": [
    {
      "cell_type": "markdown",
      "id": "9a4e92f7",
      "metadata": {
        "id": "9a4e92f7"
      },
      "source": [
        "# 산술연산"
      ]
    },
    {
      "cell_type": "code",
      "execution_count": 1,
      "id": "cf1132c4",
      "metadata": {
        "ExecuteTime": {
          "end_time": "2022-01-02T11:52:01.713378Z",
          "start_time": "2022-01-02T11:52:01.690439Z"
        },
        "scrolled": true,
        "colab": {
          "base_uri": "https://localhost:8080/"
        },
        "id": "cf1132c4",
        "outputId": "1f763fba-ca0b-44ac-b4e2-0e72e7691e2a"
      },
      "outputs": [
        {
          "output_type": "stream",
          "name": "stdout",
          "text": [
            "a+b= 7\n",
            "a-b= -1\n",
            "a*b= 12\n",
            "a/b= 0.75\n",
            "a//b= 0\n",
            "a%b= 3\n",
            "a**b= 81\n"
          ]
        }
      ],
      "source": [
        "a, b = 3,4\n",
        "\n",
        "print('a+b=',a+b)\n",
        "print('a-b=',a-b)\n",
        "print('a*b=',a*b)\n",
        "print('a/b=',a/b)\n",
        "print('a//b=',a//b) # 몫\n",
        "print('a%b=',a%b)   # 나머지\n",
        "print('a**b=',a**b)\n"
      ]
    },
    {
      "cell_type": "markdown",
      "id": "0fef24d6",
      "metadata": {
        "id": "0fef24d6"
      },
      "source": [
        "# 문자열연산"
      ]
    },
    {
      "cell_type": "code",
      "execution_count": 2,
      "id": "8a61d7aa",
      "metadata": {
        "ExecuteTime": {
          "end_time": "2022-01-02T11:52:14.257509Z",
          "start_time": "2022-01-02T11:52:14.238561Z"
        },
        "colab": {
          "base_uri": "https://localhost:8080/",
          "height": 35
        },
        "id": "8a61d7aa",
        "outputId": "8526e020-2093-4239-ed96-da1e8732bc67"
      },
      "outputs": [
        {
          "output_type": "execute_result",
          "data": {
            "text/plain": [
              "'goodmorning'"
            ],
            "application/vnd.google.colaboratory.intrinsic+json": {
              "type": "string"
            }
          },
          "metadata": {},
          "execution_count": 2
        }
      ],
      "source": [
        "# 문자열 더하기(문자열 연결하기)\n",
        "a = 'good'\n",
        "b = 'morning'\n",
        "a+b"
      ]
    },
    {
      "cell_type": "code",
      "execution_count": 3,
      "id": "752b9082",
      "metadata": {
        "colab": {
          "base_uri": "https://localhost:8080/",
          "height": 35
        },
        "id": "752b9082",
        "outputId": "0eb4fca2-9956-44af-8f9b-71db1c40e642"
      },
      "outputs": [
        {
          "output_type": "execute_result",
          "data": {
            "text/plain": [
              "'hahaha'"
            ],
            "application/vnd.google.colaboratory.intrinsic+json": {
              "type": "string"
            }
          },
          "metadata": {},
          "execution_count": 3
        }
      ],
      "source": [
        "# 문자열 곱하기(문자열 반복하기) \n",
        "s = 'ha'\n",
        "s * 3"
      ]
    },
    {
      "cell_type": "code",
      "source": [
        "math = 70\n",
        "'수학점수: ' + str(math)"
      ],
      "metadata": {
        "colab": {
          "base_uri": "https://localhost:8080/",
          "height": 35
        },
        "id": "M8qDfuFQWJF_",
        "outputId": "9d702edd-ea96-4208-ede2-305167fd2a1f"
      },
      "id": "M8qDfuFQWJF_",
      "execution_count": 6,
      "outputs": [
        {
          "output_type": "execute_result",
          "data": {
            "text/plain": [
              "'수학점수: 70'"
            ],
            "application/vnd.google.colaboratory.intrinsic+json": {
              "type": "string"
            }
          },
          "metadata": {},
          "execution_count": 6
        }
      ]
    },
    {
      "cell_type": "code",
      "execution_count": 8,
      "id": "012b4951",
      "metadata": {
        "colab": {
          "base_uri": "https://localhost:8080/"
        },
        "id": "012b4951",
        "outputId": "1f851eef-0bfe-4c82-8490-0dd2c4c44ccd"
      },
      "outputs": [
        {
          "output_type": "stream",
          "name": "stdout",
          "text": [
            "영어점수: 80\n"
          ]
        }
      ],
      "source": [
        "# 문자열과 숫자형 더하기\n",
        "english = 80\n",
        "result = '영어점수: '+ str(english)\n",
        "print(result)"
      ]
    },
    {
      "cell_type": "markdown",
      "id": "8ba600bc",
      "metadata": {
        "id": "8ba600bc"
      },
      "source": [
        "# 할당 연산자"
      ]
    },
    {
      "cell_type": "code",
      "execution_count": 9,
      "id": "0277e360",
      "metadata": {
        "id": "0277e360"
      },
      "outputs": [],
      "source": [
        "a = 1"
      ]
    },
    {
      "cell_type": "code",
      "execution_count": 10,
      "id": "3403e102",
      "metadata": {
        "colab": {
          "base_uri": "https://localhost:8080/"
        },
        "id": "3403e102",
        "outputId": "84e2d67d-c727-4926-b2de-7e7e5043fbf0"
      },
      "outputs": [
        {
          "output_type": "stream",
          "name": "stdout",
          "text": [
            "1 1 1\n"
          ]
        }
      ],
      "source": [
        "# a,b,c에 모두 1할당\n",
        "a = b = c = 1\n",
        "print(a,b,c)"
      ]
    },
    {
      "cell_type": "code",
      "execution_count": 13,
      "id": "a06e897e",
      "metadata": {
        "colab": {
          "base_uri": "https://localhost:8080/"
        },
        "id": "a06e897e",
        "outputId": "cbbcba50-942c-43f0-d8c2-329407f22f8b"
      },
      "outputs": [
        {
          "output_type": "stream",
          "name": "stdout",
          "text": [
            "1 2 3\n",
            "1\n",
            "3\n"
          ]
        }
      ],
      "source": [
        "# a,b,c에 각각 1,2,3 할당\n",
        "a,b,c = 1,2,3\n",
        "print(a,b,c)\n",
        "print(a)\n",
        "print(c)"
      ]
    },
    {
      "cell_type": "markdown",
      "id": "90fbab11",
      "metadata": {
        "id": "90fbab11"
      },
      "source": [
        "# 복합 할당 연산자"
      ]
    },
    {
      "cell_type": "code",
      "execution_count": 14,
      "id": "3280f53a",
      "metadata": {
        "ExecuteTime": {
          "end_time": "2022-01-02T11:52:38.252350Z",
          "start_time": "2022-01-02T11:52:38.240383Z"
        },
        "colab": {
          "base_uri": "https://localhost:8080/"
        },
        "id": "3280f53a",
        "outputId": "6e075a75-39e4-424f-e5d4-d74853469677"
      },
      "outputs": [
        {
          "output_type": "stream",
          "name": "stdout",
          "text": [
            "30\n"
          ]
        }
      ],
      "source": [
        "x = 10\n",
        "x += 20  # x = x+20 = 10 + 20 = 30\n",
        "print(x)"
      ]
    },
    {
      "cell_type": "code",
      "execution_count": 15,
      "id": "a61a5197",
      "metadata": {
        "colab": {
          "base_uri": "https://localhost:8080/"
        },
        "id": "a61a5197",
        "outputId": "7938e504-24e2-490b-f303-fedfff9b3005"
      },
      "outputs": [
        {
          "output_type": "stream",
          "name": "stdout",
          "text": [
            "24\n"
          ]
        }
      ],
      "source": [
        "x = 3\n",
        "y = 5\n",
        "x *= x+y   # x = x * (x+y) = 3 * (3 + 5) = 24\n",
        "print(x)"
      ]
    },
    {
      "cell_type": "code",
      "source": [
        "x = 3\n",
        "y = 5\n",
        "x /= x+y # x = x /(x+y) = 3 / (3+5)\n",
        "x"
      ],
      "metadata": {
        "colab": {
          "base_uri": "https://localhost:8080/"
        },
        "id": "CdJvUMIVWwQo",
        "outputId": "b35e68d3-2e0d-4998-a6fd-d2baa1689d81"
      },
      "id": "CdJvUMIVWwQo",
      "execution_count": 16,
      "outputs": [
        {
          "output_type": "execute_result",
          "data": {
            "text/plain": [
              "0.375"
            ]
          },
          "metadata": {},
          "execution_count": 16
        }
      ]
    },
    {
      "cell_type": "code",
      "source": [
        "3/8"
      ],
      "metadata": {
        "colab": {
          "base_uri": "https://localhost:8080/"
        },
        "id": "9GQEh850W6O1",
        "outputId": "acc50b46-b6bc-4ce0-b270-15f320272241"
      },
      "id": "9GQEh850W6O1",
      "execution_count": 17,
      "outputs": [
        {
          "output_type": "execute_result",
          "data": {
            "text/plain": [
              "0.375"
            ]
          },
          "metadata": {},
          "execution_count": 17
        }
      ]
    },
    {
      "cell_type": "markdown",
      "id": "84b14555",
      "metadata": {
        "id": "84b14555"
      },
      "source": [
        "# f스트링으로 출력하기"
      ]
    },
    {
      "cell_type": "code",
      "execution_count": 18,
      "id": "c9dd0bfc",
      "metadata": {
        "ExecuteTime": {
          "end_time": "2022-01-02T11:53:25.586414Z",
          "start_time": "2022-01-02T11:53:19.225484Z"
        },
        "scrolled": true,
        "colab": {
          "base_uri": "https://localhost:8080/"
        },
        "id": "c9dd0bfc",
        "outputId": "3f1f6029-2306-4e9f-b73f-0bc15f8605de"
      },
      "outputs": [
        {
          "output_type": "stream",
          "name": "stdout",
          "text": [
            "이름:박경민\n",
            "박경민 님, 안녕하세요?\n"
          ]
        }
      ],
      "source": [
        "name = input('이름:')\n",
        "print(name,'님, 안녕하세요?')"
      ]
    },
    {
      "cell_type": "code",
      "execution_count": 19,
      "id": "61fc1989",
      "metadata": {
        "ExecuteTime": {
          "end_time": "2022-01-02T11:53:34.373685Z",
          "start_time": "2022-01-02T11:53:34.362715Z"
        },
        "colab": {
          "base_uri": "https://localhost:8080/"
        },
        "id": "61fc1989",
        "outputId": "0ba1c6a1-1f72-409c-c312-c7711d14134c"
      },
      "outputs": [
        {
          "output_type": "stream",
          "name": "stdout",
          "text": [
            "박경민님 안녕하세요\n"
          ]
        }
      ],
      "source": [
        "print(f'{name}님 안녕하세요')"
      ]
    },
    {
      "cell_type": "code",
      "execution_count": 20,
      "id": "f2db6d9b",
      "metadata": {
        "colab": {
          "base_uri": "https://localhost:8080/"
        },
        "id": "f2db6d9b",
        "outputId": "ed7765d6-ae4a-4a27-9c02-aaa23feddb40"
      },
      "outputs": [
        {
          "output_type": "stream",
          "name": "stdout",
          "text": [
            "나이:25\n",
            "나이는 25 살이시군요. 내년이면 26 살이 되시겠네요\n"
          ]
        }
      ],
      "source": [
        "age = int(input('나이:'))\n",
        "print('나이는',age,'살이시군요. 내년이면',age+1,'살이 되시겠네요')"
      ]
    },
    {
      "cell_type": "code",
      "execution_count": 21,
      "id": "6a128b1d",
      "metadata": {
        "scrolled": true,
        "colab": {
          "base_uri": "https://localhost:8080/"
        },
        "id": "6a128b1d",
        "outputId": "8888f07f-45a8-4f8a-921e-5ea21ccbff99"
      },
      "outputs": [
        {
          "output_type": "stream",
          "name": "stdout",
          "text": [
            "나이는 25살이시군요. 내년이면 26살이 되시겠네요\n"
          ]
        }
      ],
      "source": [
        "print(f'나이는 {age}살이시군요. 내년이면 {age+1}살이 되시겠네요')"
      ]
    },
    {
      "cell_type": "markdown",
      "id": "bda4411e",
      "metadata": {
        "id": "bda4411e"
      },
      "source": [
        "* 두 수를 입력받아 더하는 프로그램을 작성하기"
      ]
    },
    {
      "cell_type": "code",
      "execution_count": 22,
      "id": "394c3bf6",
      "metadata": {
        "ExecuteTime": {
          "end_time": "2022-01-02T11:54:30.915754Z",
          "start_time": "2022-01-02T11:54:28.006797Z"
        },
        "scrolled": false,
        "colab": {
          "base_uri": "https://localhost:8080/"
        },
        "id": "394c3bf6",
        "outputId": "24a88d1e-3147-4bd0-8143-117dbc6e992f"
      },
      "outputs": [
        {
          "output_type": "stream",
          "name": "stdout",
          "text": [
            "첫번째숫자:3\n",
            "두번째숫자:5\n",
            "3 + 5 = 8\n"
          ]
        }
      ],
      "source": [
        "a = int(input('첫번째숫자:'))\n",
        "b = int(input('두번째숫자:'))\n",
        "\n",
        "print(a,'+',b,'=',a+b)"
      ]
    },
    {
      "cell_type": "code",
      "execution_count": 23,
      "id": "5f72eeec",
      "metadata": {
        "ExecuteTime": {
          "end_time": "2022-01-02T11:54:33.968990Z",
          "start_time": "2022-01-02T11:54:33.964978Z"
        },
        "colab": {
          "base_uri": "https://localhost:8080/"
        },
        "id": "5f72eeec",
        "outputId": "6854d854-c005-4b4c-b348-069667452665"
      },
      "outputs": [
        {
          "output_type": "stream",
          "name": "stdout",
          "text": [
            "3+5=8\n"
          ]
        }
      ],
      "source": [
        "print(f'{a}+{b}={a+b}')"
      ]
    },
    {
      "cell_type": "markdown",
      "id": "6a6868f5",
      "metadata": {
        "id": "6a6868f5"
      },
      "source": [
        "# 연습문제"
      ]
    },
    {
      "cell_type": "markdown",
      "id": "dc0185f3",
      "metadata": {
        "id": "dc0185f3"
      },
      "source": [
        "* 화씨 온도를 입력받아 섭씨 온도로 변환하는 프로그램을 작성해보세요.   \n",
        "$ C = (F - 32) * \\frac{5}{9}$"
      ]
    },
    {
      "cell_type": "code",
      "execution_count": 30,
      "id": "b1052d3c",
      "metadata": {
        "ExecuteTime": {
          "end_time": "2022-01-02T11:54:46.786652Z",
          "start_time": "2022-01-02T11:54:45.538197Z"
        },
        "scrolled": true,
        "colab": {
          "base_uri": "https://localhost:8080/"
        },
        "id": "b1052d3c",
        "outputId": "fb6fddfb-af96-4071-9c96-8779b039ab85"
      },
      "outputs": [
        {
          "output_type": "stream",
          "name": "stdout",
          "text": [
            "화씨온도:80\n",
            "화씨온도:80.0 --> 섭씨온도:26.67\n"
          ]
        }
      ],
      "source": [
        "# 화씨온도 입력\n",
        "f = float(input('화씨온도:'))\n",
        "\n",
        "# 섭씨온도로 계산\n",
        "c = (f - 32) * (5/9)\n",
        "\n",
        "# 결과 출력\n",
        "print(f'화씨온도:{f} --> 섭씨온도:{round(c,2)}')\n"
      ]
    },
    {
      "cell_type": "code",
      "execution_count": null,
      "id": "e05b6d64",
      "metadata": {
        "id": "e05b6d64"
      },
      "outputs": [],
      "source": [
        ""
      ]
    }
  ],
  "metadata": {
    "kernelspec": {
      "display_name": "Python 3 (ipykernel)",
      "language": "python",
      "name": "python3"
    },
    "language_info": {
      "codemirror_mode": {
        "name": "ipython",
        "version": 3
      },
      "file_extension": ".py",
      "mimetype": "text/x-python",
      "name": "python",
      "nbconvert_exporter": "python",
      "pygments_lexer": "ipython3",
      "version": "3.9.7"
    },
    "toc": {
      "base_numbering": 1,
      "nav_menu": {},
      "number_sections": true,
      "sideBar": true,
      "skip_h1_title": false,
      "title_cell": "Table of Contents",
      "title_sidebar": "Contents",
      "toc_cell": false,
      "toc_position": {},
      "toc_section_display": true,
      "toc_window_display": true
    },
    "colab": {
      "name": "02-3 자료형과연산.ipynb",
      "provenance": []
    }
  },
  "nbformat": 4,
  "nbformat_minor": 5
}