{
  "cells": [
    {
      "cell_type": "markdown",
      "id": "95256491",
      "metadata": {
        "id": "95256491"
      },
      "source": [
        "# 인덱싱\n",
        "* 인덱스로 리스트, 튜플 항목 추출하기"
      ]
    },
    {
      "cell_type": "markdown",
      "id": "cfff5b6b",
      "metadata": {
        "id": "cfff5b6b"
      },
      "source": [
        "## 리스트 인덱싱\n",
        "* 리스트명[인덱스]"
      ]
    },
    {
      "cell_type": "code",
      "execution_count": 1,
      "id": "72ac9f95",
      "metadata": {
        "id": "72ac9f95"
      },
      "outputs": [],
      "source": [
        "l1 = ['축구','농구','배구','야구','족구','발야구','피구']"
      ]
    },
    {
      "cell_type": "code",
      "execution_count": 2,
      "id": "ccc72a04",
      "metadata": {
        "scrolled": true,
        "colab": {
          "base_uri": "https://localhost:8080/"
        },
        "id": "ccc72a04",
        "outputId": "bb3ea0d9-a56d-4cee-8334-a66925f57ff3"
      },
      "outputs": [
        {
          "output_type": "execute_result",
          "data": {
            "text/plain": [
              "7"
            ]
          },
          "metadata": {},
          "execution_count": 2
        }
      ],
      "source": [
        "# l1 항목수\n",
        "len(l1)"
      ]
    },
    {
      "cell_type": "code",
      "execution_count": 4,
      "id": "52622c4b",
      "metadata": {
        "scrolled": false,
        "colab": {
          "base_uri": "https://localhost:8080/"
        },
        "id": "52622c4b",
        "outputId": "cf46505d-1484-48b8-9a91-f7a5378c273b"
      },
      "outputs": [
        {
          "output_type": "stream",
          "name": "stdout",
          "text": [
            "축구\n",
            "축구\n"
          ]
        }
      ],
      "source": [
        "# '축구' \n",
        "print(l1[0])\n",
        "print(l1[-7])"
      ]
    },
    {
      "cell_type": "code",
      "execution_count": 5,
      "id": "6caa1d99",
      "metadata": {
        "colab": {
          "base_uri": "https://localhost:8080/"
        },
        "id": "6caa1d99",
        "outputId": "1d8c2686-f4cb-46a9-9a90-1483e41ab3b1"
      },
      "outputs": [
        {
          "output_type": "stream",
          "name": "stdout",
          "text": [
            "배구\n",
            "배구\n"
          ]
        }
      ],
      "source": [
        "# '배구' \n",
        "print(l1[2])\n",
        "print(l1[-5])"
      ]
    },
    {
      "cell_type": "code",
      "execution_count": 6,
      "id": "48901bd9",
      "metadata": {
        "scrolled": false,
        "colab": {
          "base_uri": "https://localhost:8080/"
        },
        "id": "48901bd9",
        "outputId": "8ea268bb-ce62-4450-ad3e-86607dd0da01"
      },
      "outputs": [
        {
          "output_type": "stream",
          "name": "stdout",
          "text": [
            "피구\n"
          ]
        }
      ],
      "source": [
        "# '피구'\n",
        "print(l1[-1])"
      ]
    },
    {
      "cell_type": "markdown",
      "id": "d4225c55",
      "metadata": {
        "id": "d4225c55"
      },
      "source": [
        "## 튜플 인덱싱\n",
        "* 튜플명[인덱스]"
      ]
    },
    {
      "cell_type": "code",
      "execution_count": 8,
      "id": "9db32061",
      "metadata": {
        "id": "9db32061"
      },
      "outputs": [],
      "source": [
        "t1 = ('스키','보드','스케이트','스케이트보드','수상스키','웨이크보드')"
      ]
    },
    {
      "cell_type": "code",
      "execution_count": 9,
      "id": "02129f66",
      "metadata": {
        "colab": {
          "base_uri": "https://localhost:8080/"
        },
        "id": "02129f66",
        "outputId": "850c3519-9d9d-4c49-c865-8e02040b9535"
      },
      "outputs": [
        {
          "output_type": "execute_result",
          "data": {
            "text/plain": [
              "6"
            ]
          },
          "metadata": {},
          "execution_count": 9
        }
      ],
      "source": [
        "# t1 항목수\n",
        "len(t1)"
      ]
    },
    {
      "cell_type": "code",
      "execution_count": 10,
      "id": "d20a1726",
      "metadata": {
        "scrolled": true,
        "colab": {
          "base_uri": "https://localhost:8080/",
          "height": 35
        },
        "id": "d20a1726",
        "outputId": "a89bd169-674b-4858-bc8a-8832381f5ec1"
      },
      "outputs": [
        {
          "output_type": "execute_result",
          "data": {
            "text/plain": [
              "'스키'"
            ],
            "application/vnd.google.colaboratory.intrinsic+json": {
              "type": "string"
            }
          },
          "metadata": {},
          "execution_count": 10
        }
      ],
      "source": [
        "# '스키'\n",
        "t1[0]\n",
        "t1[-6]"
      ]
    },
    {
      "cell_type": "code",
      "execution_count": 11,
      "id": "3ec9627a",
      "metadata": {
        "colab": {
          "base_uri": "https://localhost:8080/",
          "height": 35
        },
        "id": "3ec9627a",
        "outputId": "f44baf6d-9415-4b6e-da59-13e0f74e27b8"
      },
      "outputs": [
        {
          "output_type": "execute_result",
          "data": {
            "text/plain": [
              "'웨이크보드'"
            ],
            "application/vnd.google.colaboratory.intrinsic+json": {
              "type": "string"
            }
          },
          "metadata": {},
          "execution_count": 11
        }
      ],
      "source": [
        "# '웨이크보드'\n",
        "t1[-1]"
      ]
    },
    {
      "cell_type": "markdown",
      "id": "d8fd0da0",
      "metadata": {
        "id": "d8fd0da0"
      },
      "source": [
        "## 중첩리스트 인덱싱"
      ]
    },
    {
      "cell_type": "code",
      "execution_count": 13,
      "id": "80f8224e",
      "metadata": {
        "colab": {
          "base_uri": "https://localhost:8080/"
        },
        "id": "80f8224e",
        "outputId": "b32fdfd4-13ba-478b-d03a-73ba4aadd350"
      },
      "outputs": [
        {
          "output_type": "execute_result",
          "data": {
            "text/plain": [
              "['수박', '바나나']"
            ]
          },
          "metadata": {},
          "execution_count": 13
        }
      ],
      "source": [
        "# 아래 리스트 l에서 '수박' 인덱싱하여 가져오기\n",
        "l2 = ['사과','오렌지','포도',['수박','바나나']]\n",
        "l2[3]"
      ]
    },
    {
      "cell_type": "code",
      "source": [
        "l2[3][0]"
      ],
      "metadata": {
        "colab": {
          "base_uri": "https://localhost:8080/",
          "height": 35
        },
        "id": "timlEnvJjmDT",
        "outputId": "bc6577b9-c963-4c63-bbe8-2294b885ee0c"
      },
      "id": "timlEnvJjmDT",
      "execution_count": 14,
      "outputs": [
        {
          "output_type": "execute_result",
          "data": {
            "text/plain": [
              "'수박'"
            ],
            "application/vnd.google.colaboratory.intrinsic+json": {
              "type": "string"
            }
          },
          "metadata": {},
          "execution_count": 14
        }
      ]
    },
    {
      "cell_type": "code",
      "execution_count": 15,
      "id": "1d22640b",
      "metadata": {
        "colab": {
          "base_uri": "https://localhost:8080/"
        },
        "id": "1d22640b",
        "outputId": "0c021c19-e7d4-47a4-9837-28579bf8cdc7"
      },
      "outputs": [
        {
          "output_type": "execute_result",
          "data": {
            "text/plain": [
              "('a', 'b', ('Life', 'is', 'good'))"
            ]
          },
          "metadata": {},
          "execution_count": 15
        }
      ],
      "source": [
        "# 아래 튜플 t에서 'Life' 인덱싱하여 가져오기\n",
        "t2 = (1,2,('a','b', ('Life','is','good')))\n",
        "t2[2]"
      ]
    },
    {
      "cell_type": "code",
      "source": [
        "t2[2][2]"
      ],
      "metadata": {
        "colab": {
          "base_uri": "https://localhost:8080/"
        },
        "id": "PyBtwhh4j6iL",
        "outputId": "80abfb51-b47d-43b9-c92a-28a667c996f0"
      },
      "id": "PyBtwhh4j6iL",
      "execution_count": 16,
      "outputs": [
        {
          "output_type": "execute_result",
          "data": {
            "text/plain": [
              "('Life', 'is', 'good')"
            ]
          },
          "metadata": {},
          "execution_count": 16
        }
      ]
    },
    {
      "cell_type": "code",
      "source": [
        "t2[2][2][0]"
      ],
      "metadata": {
        "colab": {
          "base_uri": "https://localhost:8080/",
          "height": 35
        },
        "id": "hWstodjOj9TE",
        "outputId": "72e7ccda-851c-4310-d962-31bf61eaf600"
      },
      "id": "hWstodjOj9TE",
      "execution_count": 17,
      "outputs": [
        {
          "output_type": "execute_result",
          "data": {
            "text/plain": [
              "'Life'"
            ],
            "application/vnd.google.colaboratory.intrinsic+json": {
              "type": "string"
            }
          },
          "metadata": {},
          "execution_count": 17
        }
      ]
    },
    {
      "cell_type": "markdown",
      "id": "65191f62",
      "metadata": {
        "id": "65191f62"
      },
      "source": [
        "# 슬라이싱\n",
        "* 리스트명[시작인덱스:끝인덱스:간격]\n",
        "* 튜플명[시작인덱스:끝인덱스:간격]"
      ]
    },
    {
      "cell_type": "code",
      "execution_count": 18,
      "id": "fba9e7fa",
      "metadata": {
        "id": "fba9e7fa"
      },
      "outputs": [],
      "source": [
        "l1 = ['축구','농구','배구','야구','족구','발야구','피구'] "
      ]
    },
    {
      "cell_type": "code",
      "execution_count": 20,
      "id": "ad390336",
      "metadata": {
        "colab": {
          "base_uri": "https://localhost:8080/"
        },
        "id": "ad390336",
        "outputId": "578c99e8-f151-4d78-fbb9-4d845cba1ddc"
      },
      "outputs": [
        {
          "output_type": "execute_result",
          "data": {
            "text/plain": [
              "['농구', '배구']"
            ]
          },
          "metadata": {},
          "execution_count": 20
        }
      ],
      "source": [
        "# ['농구','배구']\n",
        "l1[1:3]"
      ]
    },
    {
      "cell_type": "code",
      "execution_count": 22,
      "id": "87eee604",
      "metadata": {
        "colab": {
          "base_uri": "https://localhost:8080/"
        },
        "id": "87eee604",
        "outputId": "fdd22487-5b2c-4dad-afda-d981db1fe573"
      },
      "outputs": [
        {
          "output_type": "stream",
          "name": "stdout",
          "text": [
            "['축구', '농구', '배구']\n",
            "['축구', '농구', '배구']\n"
          ]
        }
      ],
      "source": [
        "# ['축구','농구','배구']\n",
        "print(l1[0:3])\n",
        "print(l1[:3])"
      ]
    },
    {
      "cell_type": "code",
      "execution_count": 23,
      "id": "dbdc33f5",
      "metadata": {
        "colab": {
          "base_uri": "https://localhost:8080/"
        },
        "id": "dbdc33f5",
        "outputId": "a6c34a57-fc0d-4444-ba29-b7c283b6ac8a"
      },
      "outputs": [
        {
          "output_type": "execute_result",
          "data": {
            "text/plain": [
              "['족구', '발야구']"
            ]
          },
          "metadata": {},
          "execution_count": 23
        }
      ],
      "source": [
        "# ['족구','발야구']\n",
        "l1[-3:-1]"
      ]
    },
    {
      "cell_type": "code",
      "execution_count": 24,
      "id": "27cd637b",
      "metadata": {
        "colab": {
          "base_uri": "https://localhost:8080/"
        },
        "id": "27cd637b",
        "outputId": "7370c6c8-bbc9-4270-df16-b4d9021b6fb6"
      },
      "outputs": [
        {
          "output_type": "execute_result",
          "data": {
            "text/plain": [
              "['족구', '발야구', '피구']"
            ]
          },
          "metadata": {},
          "execution_count": 24
        }
      ],
      "source": [
        "# ['족구','발야구','피구']\n",
        "l1[-3:]"
      ]
    },
    {
      "cell_type": "code",
      "execution_count": 25,
      "id": "2db483ce",
      "metadata": {
        "colab": {
          "base_uri": "https://localhost:8080/"
        },
        "id": "2db483ce",
        "outputId": "6cb84649-d17a-46ec-f30b-d25a4fb01575"
      },
      "outputs": [
        {
          "output_type": "execute_result",
          "data": {
            "text/plain": [
              "['축구', '농구', '배구', '야구', '족구', '발야구', '피구']"
            ]
          },
          "metadata": {},
          "execution_count": 25
        }
      ],
      "source": [
        "# 모든 항목\n",
        "l1[:]"
      ]
    },
    {
      "cell_type": "code",
      "execution_count": 26,
      "id": "8ee71879",
      "metadata": {
        "colab": {
          "base_uri": "https://localhost:8080/"
        },
        "id": "8ee71879",
        "outputId": "52bd8be7-75ad-4b69-d980-973a19475902"
      },
      "outputs": [
        {
          "output_type": "execute_result",
          "data": {
            "text/plain": [
              "['피구', '발야구', '족구', '야구', '배구', '농구', '축구']"
            ]
          },
          "metadata": {},
          "execution_count": 26
        }
      ],
      "source": [
        "# 모든 항목 역순으로\n",
        "l1[::-1]"
      ]
    },
    {
      "cell_type": "code",
      "execution_count": 27,
      "id": "eefa541b",
      "metadata": {
        "scrolled": false,
        "colab": {
          "base_uri": "https://localhost:8080/"
        },
        "id": "eefa541b",
        "outputId": "f3483972-00ff-4e2e-e2a0-48fa1f4d97d7"
      },
      "outputs": [
        {
          "output_type": "execute_result",
          "data": {
            "text/plain": [
              "['발야구', '족구', '야구']"
            ]
          },
          "metadata": {},
          "execution_count": 27
        }
      ],
      "source": [
        "# ['발야구','족구','야구']\n",
        "l1[-2:-5:-1]"
      ]
    },
    {
      "cell_type": "code",
      "execution_count": 29,
      "id": "d487dbca",
      "metadata": {
        "colab": {
          "base_uri": "https://localhost:8080/"
        },
        "id": "d487dbca",
        "outputId": "f0cbd202-2184-4da2-a7c1-e00efdd9eba0"
      },
      "outputs": [
        {
          "output_type": "execute_result",
          "data": {
            "text/plain": [
              "[1, 2, 3, 4, 5, 6, 7, 8, 9, 10, 11, 12, 13, 14, 15, 16, 17, 18, 19, 20]"
            ]
          },
          "metadata": {},
          "execution_count": 29
        }
      ],
      "source": [
        "# 아래 리스트 l3에서 홀수만 슬라이싱하기\n",
        "l3 = list(range(1,21))\n",
        "l3"
      ]
    },
    {
      "cell_type": "code",
      "source": [
        "l3[::2]"
      ],
      "metadata": {
        "colab": {
          "base_uri": "https://localhost:8080/"
        },
        "id": "7CRQsXHZlW5D",
        "outputId": "3f1d5737-8e1e-4a1e-b267-14ee52995b06"
      },
      "id": "7CRQsXHZlW5D",
      "execution_count": 30,
      "outputs": [
        {
          "output_type": "execute_result",
          "data": {
            "text/plain": [
              "[1, 3, 5, 7, 9, 11, 13, 15, 17, 19]"
            ]
          },
          "metadata": {},
          "execution_count": 30
        }
      ]
    },
    {
      "cell_type": "markdown",
      "id": "aac7e59a",
      "metadata": {
        "id": "aac7e59a"
      },
      "source": [
        "# 항목의 인덱스 찾기\n",
        "* 리스트명.index(항목)\n",
        "* 튜플명.index(항목)"
      ]
    },
    {
      "cell_type": "code",
      "execution_count": 31,
      "id": "62d982c4",
      "metadata": {
        "scrolled": true,
        "id": "62d982c4"
      },
      "outputs": [],
      "source": [
        "t1 = ('스키','보드','스케이트','스케이트보드','수상스키','웨이크보드')"
      ]
    },
    {
      "cell_type": "code",
      "execution_count": 32,
      "id": "2cf1c49c",
      "metadata": {
        "colab": {
          "base_uri": "https://localhost:8080/"
        },
        "id": "2cf1c49c",
        "outputId": "9dd345e0-9544-48b4-c427-bfe009e223d6"
      },
      "outputs": [
        {
          "output_type": "execute_result",
          "data": {
            "text/plain": [
              "2"
            ]
          },
          "metadata": {},
          "execution_count": 32
        }
      ],
      "source": [
        "# '스케이트'의 인덱스 찾기\n",
        "t1.index('스케이트')"
      ]
    },
    {
      "cell_type": "code",
      "execution_count": 34,
      "id": "a2930169",
      "metadata": {
        "scrolled": true,
        "colab": {
          "base_uri": "https://localhost:8080/"
        },
        "id": "a2930169",
        "outputId": "6536c6da-9ab3-461f-aae6-a35812ba256d"
      },
      "outputs": [
        {
          "output_type": "execute_result",
          "data": {
            "text/plain": [
              "4"
            ]
          },
          "metadata": {},
          "execution_count": 34
        }
      ],
      "source": [
        "# '오토바이'의 인덱스 찾기\n",
        "t1.index('수상스키')"
      ]
    },
    {
      "cell_type": "code",
      "execution_count": 35,
      "id": "5bac2971",
      "metadata": {
        "colab": {
          "base_uri": "https://localhost:8080/"
        },
        "id": "5bac2971",
        "outputId": "abb26559-e9e2-4fd7-a76a-d651aa04fe79"
      },
      "outputs": [
        {
          "output_type": "stream",
          "name": "stdout",
          "text": [
            "없는데요~\n"
          ]
        }
      ],
      "source": [
        "if '오토바이' in t1: \n",
        "    print(t1.index('오토바이'))\n",
        "else: \n",
        "    print('없는데요~')"
      ]
    },
    {
      "cell_type": "code",
      "source": [
        "l1"
      ],
      "metadata": {
        "colab": {
          "base_uri": "https://localhost:8080/"
        },
        "id": "n7QwwLeRl4gs",
        "outputId": "88f56950-a2f5-4a6d-e5e5-645b82492c7c"
      },
      "id": "n7QwwLeRl4gs",
      "execution_count": 42,
      "outputs": [
        {
          "output_type": "execute_result",
          "data": {
            "text/plain": [
              "['피구', '발야구', '족구', '야구', '배구', '농구', '축구']"
            ]
          },
          "metadata": {},
          "execution_count": 42
        }
      ]
    },
    {
      "cell_type": "code",
      "source": [
        "l1[-2:-5:-1]"
      ],
      "metadata": {
        "colab": {
          "base_uri": "https://localhost:8080/"
        },
        "id": "HWO_HphTmBw3",
        "outputId": "a0268cdd-9792-4480-de86-4c3e733beca6"
      },
      "id": "HWO_HphTmBw3",
      "execution_count": 43,
      "outputs": [
        {
          "output_type": "execute_result",
          "data": {
            "text/plain": [
              "['농구', '배구', '야구']"
            ]
          },
          "metadata": {},
          "execution_count": 43
        }
      ]
    },
    {
      "cell_type": "code",
      "source": [
        "l1[3:2:-1]"
      ],
      "metadata": {
        "colab": {
          "base_uri": "https://localhost:8080/"
        },
        "id": "rJVbl3-TmWsD",
        "outputId": "afe16c79-07b6-48d2-9c05-ec836e9c8302"
      },
      "id": "rJVbl3-TmWsD",
      "execution_count": 45,
      "outputs": [
        {
          "output_type": "execute_result",
          "data": {
            "text/plain": [
              "['야구']"
            ]
          },
          "metadata": {},
          "execution_count": 45
        }
      ]
    },
    {
      "cell_type": "code",
      "source": [
        ""
      ],
      "metadata": {
        "id": "HCcbCr7vmrH8"
      },
      "id": "HCcbCr7vmrH8",
      "execution_count": null,
      "outputs": []
    }
  ],
  "metadata": {
    "kernelspec": {
      "display_name": "Python 3",
      "language": "python",
      "name": "python3"
    },
    "language_info": {
      "codemirror_mode": {
        "name": "ipython",
        "version": 3
      },
      "file_extension": ".py",
      "mimetype": "text/x-python",
      "name": "python",
      "nbconvert_exporter": "python",
      "pygments_lexer": "ipython3",
      "version": "3.8.8"
    },
    "toc": {
      "base_numbering": 1,
      "nav_menu": {},
      "number_sections": true,
      "sideBar": true,
      "skip_h1_title": false,
      "title_cell": "Table of Contents",
      "title_sidebar": "Contents",
      "toc_cell": false,
      "toc_position": {},
      "toc_section_display": true,
      "toc_window_display": true
    },
    "colab": {
      "name": "04-2. 인덱싱과 슬라이싱.ipynb",
      "provenance": []
    }
  },
  "nbformat": 4,
  "nbformat_minor": 5
}