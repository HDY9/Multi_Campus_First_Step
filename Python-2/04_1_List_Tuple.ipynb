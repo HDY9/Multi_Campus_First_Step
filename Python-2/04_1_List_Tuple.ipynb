{
  "cells": [
    {
      "cell_type": "markdown",
      "id": "0d932fe4",
      "metadata": {
        "id": "0d932fe4"
      },
      "source": [
        "# 리스트, 튜플 만들기"
      ]
    },
    {
      "cell_type": "markdown",
      "id": "4a88a6b7",
      "metadata": {
        "id": "4a88a6b7"
      },
      "source": [
        "## 리스트 만들기"
      ]
    },
    {
      "cell_type": "code",
      "execution_count": 2,
      "id": "c78a8ea4",
      "metadata": {
        "colab": {
          "base_uri": "https://localhost:8080/"
        },
        "id": "c78a8ea4",
        "outputId": "82092ca8-df4c-4c56-a9c8-f981fc8e39b2"
      },
      "outputs": [
        {
          "output_type": "execute_result",
          "data": {
            "text/plain": [
              "[]"
            ]
          },
          "metadata": {},
          "execution_count": 2
        }
      ],
      "source": [
        "# []를 사용하여 빈 리스트 만들기\n",
        "l1 = [ ]\n",
        "l1"
      ]
    },
    {
      "cell_type": "code",
      "execution_count": 3,
      "id": "b3b88972",
      "metadata": {
        "colab": {
          "base_uri": "https://localhost:8080/"
        },
        "id": "b3b88972",
        "outputId": "715768b4-e828-451b-ccff-b99cd418eeac"
      },
      "outputs": [
        {
          "output_type": "execute_result",
          "data": {
            "text/plain": [
              "[]"
            ]
          },
          "metadata": {},
          "execution_count": 3
        }
      ],
      "source": [
        "# list() 함수를 사용하여 빈 리스트 만들기\n",
        "l2 = list()\n",
        "l2"
      ]
    },
    {
      "cell_type": "code",
      "execution_count": 4,
      "id": "2867b9c7",
      "metadata": {
        "colab": {
          "base_uri": "https://localhost:8080/"
        },
        "id": "2867b9c7",
        "outputId": "f8e37ae2-b0fc-4514-ed44-1fe8fb28be56"
      },
      "outputs": [
        {
          "output_type": "execute_result",
          "data": {
            "text/plain": [
              "[1, 3, 5, 7, 9]"
            ]
          },
          "metadata": {},
          "execution_count": 4
        }
      ],
      "source": [
        "# []를 사용하여 초기값이 있는 리스트 만들기\n",
        "l3 = [1,3,5,7,9]\n",
        "l3"
      ]
    },
    {
      "cell_type": "code",
      "execution_count": 8,
      "id": "331dcc69",
      "metadata": {
        "id": "331dcc69"
      },
      "outputs": [],
      "source": [
        "# list() 함수를 사용하여 초기값이 있는 리스트 만들기(규칙이 있는 정수값의 나열)\n",
        "l4 = list(range(1,100,2))"
      ]
    },
    {
      "cell_type": "markdown",
      "id": "607e85e2",
      "metadata": {
        "id": "607e85e2"
      },
      "source": [
        "## 튜플 만들기"
      ]
    },
    {
      "cell_type": "code",
      "execution_count": 9,
      "id": "c570b2e7",
      "metadata": {
        "colab": {
          "base_uri": "https://localhost:8080/"
        },
        "id": "c570b2e7",
        "outputId": "b77a5ddb-994b-442c-ee54-bcfb437a381d"
      },
      "outputs": [
        {
          "output_type": "execute_result",
          "data": {
            "text/plain": [
              "()"
            ]
          },
          "metadata": {},
          "execution_count": 9
        }
      ],
      "source": [
        "# ( )를 사용하여 빈 튜플 만들기\n",
        "t1 = ()\n",
        "t1"
      ]
    },
    {
      "cell_type": "code",
      "execution_count": 10,
      "id": "39490974",
      "metadata": {
        "colab": {
          "base_uri": "https://localhost:8080/"
        },
        "id": "39490974",
        "outputId": "89676fb7-12bf-4f20-ad2b-5c4751d75009"
      },
      "outputs": [
        {
          "output_type": "execute_result",
          "data": {
            "text/plain": [
              "()"
            ]
          },
          "metadata": {},
          "execution_count": 10
        }
      ],
      "source": [
        "# tuple() 함수를 사용하여 빈 튜플 만들기\n",
        "t2 = tuple() # 상수\n",
        "t2"
      ]
    },
    {
      "cell_type": "code",
      "execution_count": 11,
      "id": "889cf7d3",
      "metadata": {
        "colab": {
          "base_uri": "https://localhost:8080/"
        },
        "id": "889cf7d3",
        "outputId": "f850f1f2-1b8b-44f5-f1a4-40f1d3f4fbfb"
      },
      "outputs": [
        {
          "output_type": "execute_result",
          "data": {
            "text/plain": [
              "(1, 3, 5, 7, 9)"
            ]
          },
          "metadata": {},
          "execution_count": 11
        }
      ],
      "source": [
        "# ( )에 초기값 지정하여 튜플 만들기\n",
        "t3 = (1,3,5,7,9)\n",
        "t3"
      ]
    },
    {
      "cell_type": "code",
      "execution_count": 14,
      "id": "64f5362e",
      "metadata": {
        "id": "64f5362e"
      },
      "outputs": [],
      "source": [
        "# tuple() 함수를 사용하여 초기값이 있는 튜플 만들기(규칙이 있는 정수값의 나열)\n",
        "t5 = tuple(range(1,100,2))"
      ]
    },
    {
      "cell_type": "code",
      "execution_count": null,
      "id": "40b90d77",
      "metadata": {
        "id": "40b90d77"
      },
      "outputs": [],
      "source": [
        "# 튜플을 만들 때 괄호()를 생략할 수 있다."
      ]
    },
    {
      "cell_type": "code",
      "source": [
        "t4 = 1,3,5,7,9\n",
        "t4, type(t4)"
      ],
      "metadata": {
        "colab": {
          "base_uri": "https://localhost:8080/"
        },
        "id": "jZD6OiiMg_9M",
        "outputId": "3e776ced-947e-47e7-8deb-82695dee7510"
      },
      "id": "jZD6OiiMg_9M",
      "execution_count": 12,
      "outputs": [
        {
          "output_type": "execute_result",
          "data": {
            "text/plain": [
              "((1, 3, 5, 7, 9), tuple)"
            ]
          },
          "metadata": {},
          "execution_count": 12
        }
      ]
    },
    {
      "cell_type": "code",
      "execution_count": null,
      "id": "7d6fd538",
      "metadata": {
        "id": "7d6fd538"
      },
      "outputs": [],
      "source": [
        "# 항목이 1개일 때는 ,를 붙인다."
      ]
    },
    {
      "cell_type": "code",
      "execution_count": 15,
      "id": "f04da6fd",
      "metadata": {
        "colab": {
          "base_uri": "https://localhost:8080/"
        },
        "id": "f04da6fd",
        "outputId": "cd24bc40-6a3d-4cd3-bce1-e4a2332b6702"
      },
      "outputs": [
        {
          "output_type": "execute_result",
          "data": {
            "text/plain": [
              "((1,), tuple)"
            ]
          },
          "metadata": {},
          "execution_count": 15
        }
      ],
      "source": [
        "t6  = (1,)\n",
        "t6, type(t6)"
      ]
    },
    {
      "cell_type": "markdown",
      "id": "627529d2",
      "metadata": {
        "id": "627529d2"
      },
      "source": [
        "# 리스트, 튜플의 자료형\n",
        "* 모든 자료형이 혼합되어 들어갈 수 있다."
      ]
    },
    {
      "cell_type": "code",
      "execution_count": 16,
      "id": "1829aaa6",
      "metadata": {
        "colab": {
          "base_uri": "https://localhost:8080/"
        },
        "id": "1829aaa6",
        "outputId": "9286a29b-fd90-4a2f-9c91-f826431d7b22"
      },
      "outputs": [
        {
          "output_type": "execute_result",
          "data": {
            "text/plain": [
              "['zzuyu', 20, 165, ['노래', '댄스']]"
            ]
          },
          "metadata": {},
          "execution_count": 16
        }
      ],
      "source": [
        "twice = ['zzuyu',20,165,['노래','댄스']]\n",
        "twice"
      ]
    },
    {
      "cell_type": "code",
      "execution_count": 18,
      "id": "ef467dee",
      "metadata": {
        "scrolled": true,
        "colab": {
          "base_uri": "https://localhost:8080/"
        },
        "id": "ef467dee",
        "outputId": "a53db181-3f53-438b-d1a1-3d66c54401f8"
      },
      "outputs": [
        {
          "output_type": "execute_result",
          "data": {
            "text/plain": [
              "('zzuyu', 20, 165, ['노래', '댄스'])"
            ]
          },
          "metadata": {},
          "execution_count": 18
        }
      ],
      "source": [
        "t_twice = ('zzuyu',20,165,['노래','댄스'])\n",
        "t_twice "
      ]
    },
    {
      "cell_type": "markdown",
      "id": "881aae3d",
      "metadata": {
        "id": "881aae3d"
      },
      "source": [
        "# 리스트, 튜플 연결하기"
      ]
    },
    {
      "cell_type": "code",
      "execution_count": 21,
      "id": "f90e69a6",
      "metadata": {
        "colab": {
          "base_uri": "https://localhost:8080/"
        },
        "id": "f90e69a6",
        "outputId": "b709768a-187a-4b5c-ea58-fd7127c956e1"
      },
      "outputs": [
        {
          "output_type": "execute_result",
          "data": {
            "text/plain": [
              "['사과', '딸기', '포도', '포도', '수박']"
            ]
          },
          "metadata": {},
          "execution_count": 21
        }
      ],
      "source": [
        "l1 = ['사과','딸기','포도']\n",
        "l2 = ['포도','수박']\n",
        "l1 + l2"
      ]
    },
    {
      "cell_type": "code",
      "execution_count": 22,
      "id": "b2d79e6d",
      "metadata": {
        "colab": {
          "base_uri": "https://localhost:8080/"
        },
        "id": "b2d79e6d",
        "outputId": "a70c337c-71cc-450b-b9b4-8dce01961481"
      },
      "outputs": [
        {
          "output_type": "execute_result",
          "data": {
            "text/plain": [
              "('빨', '주', '노', '초', '파', '남', '보')"
            ]
          },
          "metadata": {},
          "execution_count": 22
        }
      ],
      "source": [
        "t1 = ('빨','주')\n",
        "t2 = ('노','초','파','남','보')\n",
        "t1 + t2"
      ]
    },
    {
      "cell_type": "markdown",
      "id": "f38a041b",
      "metadata": {
        "id": "f38a041b"
      },
      "source": [
        "# 리스트, 튜플 반복하기"
      ]
    },
    {
      "cell_type": "code",
      "execution_count": 23,
      "id": "c9926976",
      "metadata": {
        "colab": {
          "base_uri": "https://localhost:8080/"
        },
        "id": "c9926976",
        "outputId": "0df4ffce-61e2-463c-f676-06c152c7e913"
      },
      "outputs": [
        {
          "output_type": "execute_result",
          "data": {
            "text/plain": [
              "['먹고', '자고', '먹고', '자고', '먹고', '자고']"
            ]
          },
          "metadata": {},
          "execution_count": 23
        }
      ],
      "source": [
        "l = ['먹고','자고']\n",
        "l * 3"
      ]
    },
    {
      "cell_type": "code",
      "execution_count": 24,
      "id": "d8f38204",
      "metadata": {
        "colab": {
          "base_uri": "https://localhost:8080/"
        },
        "id": "d8f38204",
        "outputId": "18c69712-11ba-4c86-f276-57abeccefc67"
      },
      "outputs": [
        {
          "output_type": "execute_result",
          "data": {
            "text/plain": [
              "('놀고', '먹고', '자고', '놀고', '먹고', '자고')"
            ]
          },
          "metadata": {},
          "execution_count": 24
        }
      ],
      "source": [
        "t = ('놀고','먹고','자고')\n",
        "t * 2"
      ]
    },
    {
      "cell_type": "markdown",
      "id": "17c672e8",
      "metadata": {
        "id": "17c672e8"
      },
      "source": [
        "# 리스트, 튜플에 값 존재여부 확인\n",
        "* 멤버연산자 : in, not in"
      ]
    },
    {
      "cell_type": "code",
      "execution_count": 25,
      "id": "a1636afb",
      "metadata": {
        "colab": {
          "base_uri": "https://localhost:8080/"
        },
        "id": "a1636afb",
        "outputId": "80a705ef-0214-491d-873e-e162968849c7"
      },
      "outputs": [
        {
          "output_type": "stream",
          "name": "stdout",
          "text": [
            "False\n",
            "True\n"
          ]
        }
      ],
      "source": [
        "l = [1,2,3,4]\n",
        "print(5 in l)\n",
        "print(5 not in l)"
      ]
    },
    {
      "cell_type": "code",
      "execution_count": 26,
      "id": "a882e131",
      "metadata": {
        "colab": {
          "base_uri": "https://localhost:8080/"
        },
        "id": "a882e131",
        "outputId": "691aca64-f7a7-4500-a531-5d8478415855"
      },
      "outputs": [
        {
          "output_type": "stream",
          "name": "stdout",
          "text": [
            "True\n",
            "True\n"
          ]
        }
      ],
      "source": [
        "t = (1,3,5,7,9)\n",
        "print(5 in t)\n",
        "print(10 not in t)"
      ]
    },
    {
      "cell_type": "markdown",
      "id": "46340088",
      "metadata": {
        "id": "46340088"
      },
      "source": [
        "# 리스트, 튜플 항목의 갯수 구하기\n",
        "* len(리스트명)\n",
        "* len(튜플명)"
      ]
    },
    {
      "cell_type": "code",
      "execution_count": 27,
      "id": "5aa41221",
      "metadata": {
        "scrolled": true,
        "colab": {
          "base_uri": "https://localhost:8080/"
        },
        "id": "5aa41221",
        "outputId": "6195fa02-f5f1-41f4-b149-3455570982ea"
      },
      "outputs": [
        {
          "output_type": "execute_result",
          "data": {
            "text/plain": [
              "14"
            ]
          },
          "metadata": {},
          "execution_count": 27
        }
      ],
      "source": [
        "l = [1,3,2,4,3,5,7,8,77.7,88.8,'a','b','c',[10,20,30]]\n",
        "len(l)"
      ]
    },
    {
      "cell_type": "code",
      "execution_count": 28,
      "id": "9b8d55eb",
      "metadata": {
        "colab": {
          "base_uri": "https://localhost:8080/"
        },
        "id": "9b8d55eb",
        "outputId": "a2f2356e-394f-406f-a4dd-1907ef76149d"
      },
      "outputs": [
        {
          "output_type": "execute_result",
          "data": {
            "text/plain": [
              "2"
            ]
          },
          "metadata": {},
          "execution_count": 28
        }
      ],
      "source": [
        "t = ((1,2),[3,4])\n",
        "len(t)"
      ]
    },
    {
      "cell_type": "code",
      "source": [
        "t[0]"
      ],
      "metadata": {
        "colab": {
          "base_uri": "https://localhost:8080/"
        },
        "id": "s_KusN1FiWN1",
        "outputId": "e095c4e8-f23b-472b-90f8-495845224ef7"
      },
      "id": "s_KusN1FiWN1",
      "execution_count": 31,
      "outputs": [
        {
          "output_type": "execute_result",
          "data": {
            "text/plain": [
              "(1, 2)"
            ]
          },
          "metadata": {},
          "execution_count": 31
        }
      ]
    },
    {
      "cell_type": "code",
      "source": [
        "t[1]"
      ],
      "metadata": {
        "colab": {
          "base_uri": "https://localhost:8080/"
        },
        "id": "ysib_JzliY0B",
        "outputId": "97a436e1-95b4-450b-e667-3f64a744fdf4"
      },
      "id": "ysib_JzliY0B",
      "execution_count": 32,
      "outputs": [
        {
          "output_type": "execute_result",
          "data": {
            "text/plain": [
              "[3, 4]"
            ]
          },
          "metadata": {},
          "execution_count": 32
        }
      ]
    },
    {
      "cell_type": "code",
      "source": [
        ""
      ],
      "metadata": {
        "id": "HW1ZGL0ricbZ"
      },
      "id": "HW1ZGL0ricbZ",
      "execution_count": null,
      "outputs": []
    }
  ],
  "metadata": {
    "kernelspec": {
      "display_name": "Python 3",
      "language": "python",
      "name": "python3"
    },
    "language_info": {
      "codemirror_mode": {
        "name": "ipython",
        "version": 3
      },
      "file_extension": ".py",
      "mimetype": "text/x-python",
      "name": "python",
      "nbconvert_exporter": "python",
      "pygments_lexer": "ipython3",
      "version": "3.8.8"
    },
    "toc": {
      "base_numbering": 1,
      "nav_menu": {},
      "number_sections": true,
      "sideBar": true,
      "skip_h1_title": false,
      "title_cell": "Table of Contents",
      "title_sidebar": "Contents",
      "toc_cell": false,
      "toc_position": {},
      "toc_section_display": true,
      "toc_window_display": true
    },
    "colab": {
      "name": "04-1. 리스트와 튜플.ipynb",
      "provenance": []
    }
  },
  "nbformat": 4,
  "nbformat_minor": 5
}