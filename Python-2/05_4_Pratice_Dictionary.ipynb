{
  "cells": [
    {
      "cell_type": "markdown",
      "id": "a7b8251a",
      "metadata": {
        "id": "a7b8251a"
      },
      "source": [
        "# 영어단어장 만들기\n",
        "\n",
        "엔터를 입력할 때까지 영어단어,뜻을 입력받아 단어장을 만들고, 입력이 끝나면 단어 테스트를 실시하는 프로그램을 만들어봅시다.<br>\n",
        "1) 단어장을 만듭니다.<br>\n",
        "2) 단어테스트를 실시하고 맞은 갯수를 계산합니다.<br>\n",
        "3) 테스트가 끝나면 맞은갯수/전체단어수/점수 형태로 결과를 출력합니다<br>"
      ]
    },
    {
      "cell_type": "markdown",
      "id": "e6271670",
      "metadata": {
        "id": "e6271670"
      },
      "source": [
        "## 단어장 만들기\n",
        "엔터('')를 입력할 때까지 영어단어,뜻을 입력받아 딕셔너리에 저장"
      ]
    },
    {
      "cell_type": "code",
      "execution_count": 11,
      "id": "348305f1",
      "metadata": {
        "colab": {
          "base_uri": "https://localhost:8080/"
        },
        "id": "348305f1",
        "outputId": "afa74192-1439-43d3-e159-9ae5a18d9b68"
      },
      "outputs": [
        {
          "name": "stdout",
          "output_type": "stream",
          "text": [
            "영어단어, 뜻:apple,사과\n",
            "영어단어, 뜻:banana,바나나\n",
            "영어단어, 뜻:strawberry,딸기\n",
            "영어단어, 뜻:\n"
          ]
        },
        {
          "output_type": "execute_result",
          "data": {
            "text/plain": [
              "{'apple': '사과', 'banana': '바나나', 'strawberry': '딸기'}"
            ]
          },
          "metadata": {},
          "execution_count": 11
        }
      ],
      "source": [
        "dict_word = {}\n",
        "while True: \n",
        "    \n",
        "    input_word = input('영어단어, 뜻:')\n",
        "    if input_word =='':   # 정지조건 : 공백 시 정지  \n",
        "        break \n",
        "    eng=input_word.split(',')[0]\n",
        "    kor=input_word.split(',')[1]\n",
        "    dict_word[eng] = kor\n",
        "\n",
        "dict_word"
      ]
    },
    {
      "cell_type": "markdown",
      "id": "a9581363",
      "metadata": {
        "id": "a9581363"
      },
      "source": [
        "## 단어테스트\n",
        "단어장의 단어들을 모두 테스트<br>\n",
        "맞은 갯수는 별도로 카운트"
      ]
    },
    {
      "cell_type": "code",
      "execution_count": 12,
      "id": "61604586",
      "metadata": {
        "scrolled": false,
        "colab": {
          "base_uri": "https://localhost:8080/"
        },
        "id": "61604586",
        "outputId": "ff16cd63-7a07-42c0-bb0f-ad43a5a895f5"
      },
      "outputs": [
        {
          "output_type": "execute_result",
          "data": {
            "text/plain": [
              "{'apple': '사과', 'banana': '바나나', 'strawberry': '딸기'}"
            ]
          },
          "metadata": {},
          "execution_count": 12
        }
      ],
      "source": [
        "dict_word"
      ]
    },
    {
      "cell_type": "code",
      "source": [
        "cnt = 0 # 초기값 설정 \n",
        "\n",
        "for eng, kor in dict_word.items():\n",
        "    answer = input(eng)\n",
        "    if answer == kor: \n",
        "        print('O')\n",
        "        cnt+=1\n",
        "    else: \n",
        "        print('X')"
      ],
      "metadata": {
        "colab": {
          "base_uri": "https://localhost:8080/"
        },
        "id": "qosDRzvGAyFD",
        "outputId": "9b4b0c4d-fc7d-4f6f-f595-cfc21600916b"
      },
      "id": "qosDRzvGAyFD",
      "execution_count": 13,
      "outputs": [
        {
          "output_type": "stream",
          "name": "stdout",
          "text": [
            "apple사과\n",
            "O\n",
            "banana바나나\n",
            "O\n",
            "strawberry산딸기\n",
            "X\n"
          ]
        }
      ]
    },
    {
      "cell_type": "markdown",
      "id": "94432d9b",
      "metadata": {
        "id": "94432d9b"
      },
      "source": [
        "## 테스트 결과 출력\n",
        "맞은갯수/전체문제수/점수 출력"
      ]
    },
    {
      "cell_type": "code",
      "execution_count": 14,
      "id": "8b692b03",
      "metadata": {
        "scrolled": true,
        "colab": {
          "base_uri": "https://localhost:8080/"
        },
        "id": "8b692b03",
        "outputId": "ef94f02f-31e3-49c3-c501-600149ec3767"
      },
      "outputs": [
        {
          "output_type": "stream",
          "name": "stdout",
          "text": [
            "맞은갯수: 2\n",
            "전체문제수: 3\n",
            "점수: 66.67\n"
          ]
        }
      ],
      "source": [
        "print('맞은갯수:', cnt)\n",
        "print('전체문제수:', len(dict_word))\n",
        "print('점수:', round(cnt/len(dict_word)*100, 2))"
      ]
    },
    {
      "cell_type": "code",
      "source": [
        ""
      ],
      "metadata": {
        "id": "zBZcS08qBXp7"
      },
      "id": "zBZcS08qBXp7",
      "execution_count": null,
      "outputs": []
    }
  ],
  "metadata": {
    "kernelspec": {
      "display_name": "Python 3 (ipykernel)",
      "language": "python",
      "name": "python3"
    },
    "language_info": {
      "codemirror_mode": {
        "name": "ipython",
        "version": 3
      },
      "file_extension": ".py",
      "mimetype": "text/x-python",
      "name": "python",
      "nbconvert_exporter": "python",
      "pygments_lexer": "ipython3",
      "version": "3.9.7"
    },
    "toc": {
      "base_numbering": 1,
      "nav_menu": {},
      "number_sections": true,
      "sideBar": true,
      "skip_h1_title": false,
      "title_cell": "Table of Contents",
      "title_sidebar": "Contents",
      "toc_cell": false,
      "toc_position": {},
      "toc_section_display": true,
      "toc_window_display": false
    },
    "colab": {
      "name": "05-4. 딕셔너리 연습하기.ipynb",
      "provenance": []
    }
  },
  "nbformat": 4,
  "nbformat_minor": 5
}