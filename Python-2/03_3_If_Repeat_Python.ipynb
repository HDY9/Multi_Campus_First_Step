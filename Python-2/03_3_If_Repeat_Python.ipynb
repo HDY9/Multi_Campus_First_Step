{
  "cells": [
    {
      "cell_type": "markdown",
      "id": "ebc62985",
      "metadata": {
        "id": "ebc62985"
      },
      "source": [
        "# for문과 while문"
      ]
    },
    {
      "cell_type": "markdown",
      "id": "b73ed259",
      "metadata": {
        "id": "b73ed259"
      },
      "source": [
        "## 1부터 5까지 출력하기"
      ]
    },
    {
      "cell_type": "markdown",
      "id": "cdbf31c2",
      "metadata": {
        "id": "cdbf31c2"
      },
      "source": [
        "* for문"
      ]
    },
    {
      "cell_type": "code",
      "execution_count": 1,
      "id": "9d74d031",
      "metadata": {
        "colab": {
          "base_uri": "https://localhost:8080/"
        },
        "id": "9d74d031",
        "outputId": "c42b0cd3-5e04-45f8-ce2b-b68e9b2c3012"
      },
      "outputs": [
        {
          "output_type": "stream",
          "name": "stdout",
          "text": [
            "1\n",
            "2\n",
            "3\n",
            "4\n",
            "5\n"
          ]
        }
      ],
      "source": [
        "for i in range(1,6):\n",
        "    print(i)"
      ]
    },
    {
      "cell_type": "markdown",
      "id": "fefa6ca2",
      "metadata": {
        "id": "fefa6ca2"
      },
      "source": [
        "* while문"
      ]
    },
    {
      "cell_type": "code",
      "execution_count": 3,
      "id": "5d5739a5",
      "metadata": {
        "id": "5d5739a5"
      },
      "outputs": [],
      "source": [
        "# n = 1\n",
        "# while n <= 5:\n",
        "#     print(n)\n",
        "# 무한 반복 지옥에 빠짐"
      ]
    },
    {
      "cell_type": "code",
      "source": [
        "n = 1\n",
        "while n <= 5:\n",
        "    print(n)\n",
        "    n += 1  # n = n+1"
      ],
      "metadata": {
        "colab": {
          "base_uri": "https://localhost:8080/"
        },
        "id": "WJbnVrV2HcZa",
        "outputId": "dcf7814a-1dac-4a49-f92f-60dcd3b31121"
      },
      "id": "WJbnVrV2HcZa",
      "execution_count": 4,
      "outputs": [
        {
          "output_type": "stream",
          "name": "stdout",
          "text": [
            "1\n",
            "2\n",
            "3\n",
            "4\n",
            "5\n"
          ]
        }
      ]
    },
    {
      "cell_type": "markdown",
      "id": "0c4fccac",
      "metadata": {
        "id": "0c4fccac"
      },
      "source": [
        "## 1부터 10까지 더하기"
      ]
    },
    {
      "cell_type": "markdown",
      "id": "2c80c6f4",
      "metadata": {
        "id": "2c80c6f4"
      },
      "source": [
        "* for문"
      ]
    },
    {
      "cell_type": "code",
      "execution_count": 6,
      "id": "cb20d64f",
      "metadata": {
        "colab": {
          "base_uri": "https://localhost:8080/"
        },
        "id": "cb20d64f",
        "outputId": "83f46949-1a02-458a-ba1b-ec4e8b59400b"
      },
      "outputs": [
        {
          "output_type": "stream",
          "name": "stdout",
          "text": [
            "55\n"
          ]
        }
      ],
      "source": [
        "sum = 0\n",
        "for i in range(1,11):\n",
        "    sum +=i #sum = sum + i\n",
        "\n",
        "print(sum)"
      ]
    },
    {
      "cell_type": "markdown",
      "id": "3737a6f1",
      "metadata": {
        "id": "3737a6f1"
      },
      "source": [
        "* while문"
      ]
    },
    {
      "cell_type": "code",
      "execution_count": 7,
      "id": "c09661fe",
      "metadata": {
        "colab": {
          "base_uri": "https://localhost:8080/"
        },
        "id": "c09661fe",
        "outputId": "f3c50c2a-3e8f-4fd2-e5a7-9bc4c1502c47"
      },
      "outputs": [
        {
          "output_type": "stream",
          "name": "stdout",
          "text": [
            "55\n"
          ]
        }
      ],
      "source": [
        "n = 1\n",
        "sum = 0 \n",
        "\n",
        "while n <=10: \n",
        "    sum += n \n",
        "    n += 1\n",
        "\n",
        "print(sum)"
      ]
    },
    {
      "cell_type": "markdown",
      "id": "f4b515f7",
      "metadata": {
        "id": "f4b515f7"
      },
      "source": [
        "# while문만 가능한 경우"
      ]
    },
    {
      "cell_type": "markdown",
      "id": "5b1afd79",
      "metadata": {
        "id": "5b1afd79"
      },
      "source": [
        "* 'q'를 입력할 때까지 반복하여 이름 입력받기"
      ]
    },
    {
      "cell_type": "code",
      "execution_count": 8,
      "id": "46b19084",
      "metadata": {
        "colab": {
          "base_uri": "https://localhost:8080/"
        },
        "id": "46b19084",
        "outputId": "f0767219-67b3-4093-e2d7-b7ddcf849108"
      },
      "outputs": [
        {
          "name": "stdout",
          "output_type": "stream",
          "text": [
            "이름:drwill\n",
            "이름:zzuyu\n",
            "이름:taeri\n",
            "이름:quit\n"
          ]
        }
      ],
      "source": [
        "name = input('이름:')\n",
        "while name != 'quit': \n",
        "    name = input('이름:')"
      ]
    },
    {
      "cell_type": "markdown",
      "id": "8ae447b0",
      "metadata": {
        "id": "8ae447b0"
      },
      "source": [
        "* break로 반복문 빠져나오기"
      ]
    },
    {
      "cell_type": "code",
      "execution_count": 9,
      "id": "d7afcca3",
      "metadata": {
        "colab": {
          "base_uri": "https://localhost:8080/"
        },
        "id": "d7afcca3",
        "outputId": "550cfff2-4b2b-4459-b479-d960a2289e41"
      },
      "outputs": [
        {
          "name": "stdout",
          "output_type": "stream",
          "text": [
            "이름:drwill\n",
            "이름:zzuyu\n",
            "이름:taeri\n",
            "이름:quit\n"
          ]
        }
      ],
      "source": [
        "while True: \n",
        "    name = input('이름:')\n",
        "    if name == 'quit': \n",
        "        break # 정지조건"
      ]
    },
    {
      "cell_type": "markdown",
      "id": "799d2e01",
      "metadata": {
        "id": "799d2e01"
      },
      "source": [
        "# 연습문제"
      ]
    },
    {
      "cell_type": "markdown",
      "id": "9e484f74",
      "metadata": {
        "id": "9e484f74"
      },
      "source": [
        "* 올바른 아이디/비밀번호를 입력할 때까지 아이디와 비밀번호를 입력하는 프로그램 만들기"
      ]
    },
    {
      "cell_type": "code",
      "execution_count": 10,
      "id": "30325db1",
      "metadata": {
        "scrolled": true,
        "colab": {
          "base_uri": "https://localhost:8080/"
        },
        "id": "30325db1",
        "outputId": "e3e29c48-3f54-4f17-a19d-3e3e11df2047"
      },
      "outputs": [
        {
          "name": "stdout",
          "output_type": "stream",
          "text": [
            "id:drwill\n",
            "pwd:2345\n",
            "id:drwill\n",
            "pwd:5647\n",
            "id:drwill\n",
            "pwd:1234\n"
          ]
        }
      ],
      "source": [
        "# 올바른 아이디와 비밀번호\n",
        "id = 'drwill'\n",
        "pwd = '1234'\n",
        "\n",
        "while True: \n",
        "     input_id = input('id:')\n",
        "     input_pwd = input('pwd:')\n",
        "\n",
        "     if id == input_id and pwd == input_pwd:\n",
        "         break"
      ]
    },
    {
      "cell_type": "markdown",
      "id": "3189770d",
      "metadata": {
        "id": "3189770d"
      },
      "source": [
        "* 확장하기     \n",
        "아이디가 잘못되었으면 '아이디를 확인하세요' 출력    \n",
        "비밀번호가 잘못되었으면 '비밀번호를 확인하세요' 출력"
      ]
    },
    {
      "cell_type": "code",
      "execution_count": 11,
      "id": "072b0d7e",
      "metadata": {
        "scrolled": false,
        "colab": {
          "base_uri": "https://localhost:8080/"
        },
        "id": "072b0d7e",
        "outputId": "bd78d31e-c2fc-47af-eea8-be21186928fc"
      },
      "outputs": [
        {
          "name": "stdout",
          "output_type": "stream",
          "text": [
            "id:drwill\n",
            "pwd:2345\n",
            "비밀번호를 확인하세요\n",
            "id:drwall\n",
            "pwd:1234\n",
            "아이디를 확인하세요\n",
            "id:drwill\n",
            "pwd:1234\n"
          ]
        }
      ],
      "source": [
        "# 올바른 아이디와 비밀번호\n",
        "id = 'drwill'\n",
        "pwd = '1234'\n",
        "\n",
        "while True: \n",
        "     input_id = input('id:')\n",
        "     input_pwd = input('pwd:') \n",
        "\n",
        "     if id == input_id and pwd == input_pwd: \n",
        "         break\n",
        "     if id !=input_id:\n",
        "         print('아이디를 확인하세요' )\n",
        "     if pwd != input_pwd: \n",
        "         print('비밀번호를 확인하세요')"
      ]
    },
    {
      "cell_type": "markdown",
      "id": "ceb76323",
      "metadata": {
        "id": "ceb76323"
      },
      "source": [
        "* 사용자가 0을 입력할 때까지 숫자을 입력받아 입력받은 숫자들의 합을 구하는 프로그램을 작성하세요"
      ]
    },
    {
      "cell_type": "code",
      "execution_count": 12,
      "id": "9897283c",
      "metadata": {
        "scrolled": true,
        "colab": {
          "base_uri": "https://localhost:8080/"
        },
        "id": "9897283c",
        "outputId": "d91a10ee-9a4b-4806-85e4-45a5742ebd28"
      },
      "outputs": [
        {
          "name": "stdout",
          "output_type": "stream",
          "text": [
            "숫자:2\n",
            "숫자:5\n",
            "숫자:7\n",
            "숫자:10\n",
            "숫자:45\n",
            "숫자:0\n"
          ]
        }
      ],
      "source": [
        "total = 0 # 초기값 설정 \n",
        "\n",
        "while True: \n",
        "    num = int(input('숫자:'))  # 문자(string) >> int(정수로 변환)\n",
        "    if num == 0: \n",
        "        break \n",
        "    total += num # total + num\n"
      ]
    },
    {
      "cell_type": "code",
      "execution_count": 13,
      "id": "2e92217a",
      "metadata": {
        "colab": {
          "base_uri": "https://localhost:8080/"
        },
        "id": "2e92217a",
        "outputId": "eb975bb5-2521-4eda-bd0f-0a72358a8827"
      },
      "outputs": [
        {
          "output_type": "stream",
          "name": "stdout",
          "text": [
            "69\n"
          ]
        }
      ],
      "source": [
        "print(total)"
      ]
    },
    {
      "cell_type": "code",
      "source": [
        ""
      ],
      "metadata": {
        "id": "oxOOCDuCNKlc"
      },
      "id": "oxOOCDuCNKlc",
      "execution_count": null,
      "outputs": []
    }
  ],
  "metadata": {
    "kernelspec": {
      "display_name": "Python 3 (ipykernel)",
      "language": "python",
      "name": "python3"
    },
    "language_info": {
      "codemirror_mode": {
        "name": "ipython",
        "version": 3
      },
      "file_extension": ".py",
      "mimetype": "text/x-python",
      "name": "python",
      "nbconvert_exporter": "python",
      "pygments_lexer": "ipython3",
      "version": "3.9.7"
    },
    "toc": {
      "base_numbering": 1,
      "nav_menu": {},
      "number_sections": true,
      "sideBar": true,
      "skip_h1_title": false,
      "title_cell": "Table of Contents",
      "title_sidebar": "Contents",
      "toc_cell": false,
      "toc_position": {},
      "toc_section_display": true,
      "toc_window_display": true
    },
    "colab": {
      "name": "03-3. 조건으로 반복하기_실습.ipynb",
      "provenance": []
    }
  },
  "nbformat": 4,
  "nbformat_minor": 5
}