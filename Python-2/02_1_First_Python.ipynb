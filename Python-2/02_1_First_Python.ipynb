{
  "cells": [
    {
      "cell_type": "markdown",
      "id": "a278e818",
      "metadata": {
        "id": "a278e818"
      },
      "source": [
        "## 출력하기"
      ]
    },
    {
      "cell_type": "markdown",
      "id": "befd3e4c",
      "metadata": {
        "id": "befd3e4c"
      },
      "source": [
        "## 기본 출력\n",
        "* print(value1, value2, ..., )"
      ]
    },
    {
      "cell_type": "code",
      "execution_count": 1,
      "id": "28b939a6",
      "metadata": {
        "ExecuteTime": {
          "end_time": "2022-01-02T11:35:20.549296Z",
          "start_time": "2022-01-02T11:35:20.527330Z"
        },
        "scrolled": false,
        "colab": {
          "base_uri": "https://localhost:8080/"
        },
        "id": "28b939a6",
        "outputId": "cce9e45c-9ed7-49e0-cbf2-3363841edad1"
      },
      "outputs": [
        {
          "output_type": "stream",
          "name": "stdout",
          "text": [
            "hello\n",
            "hello\n"
          ]
        }
      ],
      "source": [
        "# hello 출력하기\n",
        "print('hello')\n",
        "print(\"hello\")"
      ]
    },
    {
      "cell_type": "code",
      "execution_count": 2,
      "id": "1ab54b4c",
      "metadata": {
        "ExecuteTime": {
          "end_time": "2022-01-02T11:35:23.821976Z",
          "start_time": "2022-01-02T11:35:23.809013Z"
        },
        "scrolled": true,
        "colab": {
          "base_uri": "https://localhost:8080/"
        },
        "id": "1ab54b4c",
        "outputId": "e6cdd78e-00b0-4eb2-8d1a-62d65518d0e1"
      },
      "outputs": [
        {
          "output_type": "stream",
          "name": "stdout",
          "text": [
            "hello python\n"
          ]
        }
      ],
      "source": [
        "# hello, python 출력하기\n",
        "print('hello','python')"
      ]
    },
    {
      "cell_type": "code",
      "execution_count": 3,
      "id": "4d7c345d",
      "metadata": {
        "ExecuteTime": {
          "end_time": "2022-01-02T11:35:24.879334Z",
          "start_time": "2022-01-02T11:35:24.866370Z"
        },
        "scrolled": false,
        "colab": {
          "base_uri": "https://localhost:8080/"
        },
        "id": "4d7c345d",
        "outputId": "9acf67f2-20b1-4628-e494-4b944526d70f"
      },
      "outputs": [
        {
          "output_type": "stream",
          "name": "stdout",
          "text": [
            "1+1= 2\n"
          ]
        }
      ],
      "source": [
        "# 계산식 출력하기 (1+1=2)\n",
        "print('1+1=',1+1)"
      ]
    },
    {
      "cell_type": "markdown",
      "id": "9b3f18a5",
      "metadata": {
        "id": "9b3f18a5"
      },
      "source": [
        "## 구분자 지정\n",
        "* print(value1, value2, ..., sep='구분자')"
      ]
    },
    {
      "cell_type": "code",
      "execution_count": 4,
      "id": "f2ea27d7",
      "metadata": {
        "ExecuteTime": {
          "end_time": "2022-01-02T11:35:31.669972Z",
          "start_time": "2022-01-02T11:35:31.653018Z"
        },
        "scrolled": true,
        "colab": {
          "base_uri": "https://localhost:8080/"
        },
        "id": "f2ea27d7",
        "outputId": "68d903e1-a47b-4890-e623-c5a76e38467f"
      },
      "outputs": [
        {
          "output_type": "stream",
          "name": "stdout",
          "text": [
            "hello,python\n"
          ]
        }
      ],
      "source": [
        "# ,로 구분 (hello,python)\n",
        "print('hello','python',sep=',')"
      ]
    },
    {
      "cell_type": "code",
      "source": [
        "print('hello', 'python', sep=',')"
      ],
      "metadata": {
        "colab": {
          "base_uri": "https://localhost:8080/"
        },
        "id": "TiHF_aBuSFKG",
        "outputId": "8aa530eb-e58b-4925-b63d-e45caacd4631"
      },
      "id": "TiHF_aBuSFKG",
      "execution_count": 6,
      "outputs": [
        {
          "output_type": "stream",
          "name": "stdout",
          "text": [
            "hello,python\n"
          ]
        }
      ]
    },
    {
      "cell_type": "code",
      "execution_count": 7,
      "id": "559d303f",
      "metadata": {
        "ExecuteTime": {
          "end_time": "2022-01-02T11:35:37.319464Z",
          "start_time": "2022-01-02T11:35:37.309491Z"
        },
        "colab": {
          "base_uri": "https://localhost:8080/"
        },
        "id": "559d303f",
        "outputId": "3c56515d-d905-464e-87da-e8ac779d0bf3"
      },
      "outputs": [
        {
          "output_type": "stream",
          "name": "stdout",
          "text": [
            "1+1=2\n"
          ]
        }
      ],
      "source": [
        "# 공백없이 붙여서 출력 (1+1=2)\n",
        "print('1+1=',1+1,sep='')"
      ]
    },
    {
      "cell_type": "markdown",
      "id": "d10cb4b0",
      "metadata": {
        "id": "d10cb4b0"
      },
      "source": [
        "## 끝문자 지정\n",
        "* print(value1, value2, ..., end='끝문자')"
      ]
    },
    {
      "cell_type": "code",
      "execution_count": 11,
      "id": "73802f50",
      "metadata": {
        "ExecuteTime": {
          "end_time": "2022-01-02T11:40:26.806521Z",
          "start_time": "2022-01-02T11:40:26.788611Z"
        },
        "colab": {
          "base_uri": "https://localhost:8080/"
        },
        "id": "73802f50",
        "outputId": "520ca0f4-1007-4fbe-d0fe-5b1487043dfb"
      },
      "outputs": [
        {
          "output_type": "stream",
          "name": "stdout",
          "text": [
            "안녕하세요.반갑습니다.\n"
          ]
        }
      ],
      "source": [
        "# 공백으로 끝내기 (안녕하세요 반갑습니다)\n",
        "print('안녕하세요', end='.')\n",
        "print('반갑습니다.')"
      ]
    },
    {
      "cell_type": "code",
      "execution_count": 12,
      "id": "27b5e0d3",
      "metadata": {
        "ExecuteTime": {
          "end_time": "2022-01-02T11:40:27.991918Z",
          "start_time": "2022-01-02T11:40:27.984937Z"
        },
        "scrolled": true,
        "colab": {
          "base_uri": "https://localhost:8080/"
        },
        "id": "27b5e0d3",
        "outputId": "86dfccf1-c277-4483-cc43-d47181f74f04"
      },
      "outputs": [
        {
          "output_type": "stream",
          "name": "stdout",
          "text": [
            "안녕하세요!!반갑습니다!!"
          ]
        }
      ],
      "source": [
        "# !!로 끝내기(안녕하세요!!반갑습니다!!)\n",
        "print('안녕하세요', end='!!')\n",
        "print('반갑습니다', end='!!')"
      ]
    },
    {
      "cell_type": "code",
      "source": [
        "print('안녕', end='!')\n",
        "print('난 미래의 데싸야', end='.')"
      ],
      "metadata": {
        "colab": {
          "base_uri": "https://localhost:8080/"
        },
        "id": "ZuPM5HZ6SWHf",
        "outputId": "dd8d2e0f-62b0-4073-dccb-1f9af3e67f8f"
      },
      "id": "ZuPM5HZ6SWHf",
      "execution_count": 13,
      "outputs": [
        {
          "output_type": "stream",
          "name": "stdout",
          "text": [
            "안녕!난 미래의 데싸야."
          ]
        }
      ]
    },
    {
      "cell_type": "markdown",
      "id": "5f474d34",
      "metadata": {
        "id": "5f474d34"
      },
      "source": [
        "## 여러 줄 한번에 출력하기\n",
        "\n",
        "* 홑따옴표 세개(''') 혹은 쌍따옴표 세개(\"\"\")로 묶는다.\n"
      ]
    },
    {
      "cell_type": "code",
      "execution_count": 14,
      "id": "9c14c538",
      "metadata": {
        "ExecuteTime": {
          "end_time": "2022-01-02T11:40:38.710122Z",
          "start_time": "2022-01-02T11:40:38.698125Z"
        },
        "scrolled": true,
        "colab": {
          "base_uri": "https://localhost:8080/"
        },
        "id": "9c14c538",
        "outputId": "780100aa-c715-4e71-e886-8c2680a95651"
      },
      "outputs": [
        {
          "output_type": "stream",
          "name": "stdout",
          "text": [
            "자세히 보아야 예쁘다.\n",
            "오래 보아야 사랑스럽다.\n",
            "너도 그렇다.\n"
          ]
        }
      ],
      "source": [
        "print('자세히 보아야 예쁘다.')\n",
        "print('오래 보아야 사랑스럽다.')\n",
        "print('너도 그렇다.')"
      ]
    },
    {
      "cell_type": "code",
      "execution_count": 15,
      "id": "9ae244f2",
      "metadata": {
        "colab": {
          "base_uri": "https://localhost:8080/"
        },
        "id": "9ae244f2",
        "outputId": "51eb7461-606e-4660-c2f3-e4f9c820382e"
      },
      "outputs": [
        {
          "output_type": "stream",
          "name": "stdout",
          "text": [
            "\n",
            "자세히 보아야 예쁘다.\n",
            "오래 보아야 사랑스럽다.\n",
            "너도 그렇다.\n",
            "\n"
          ]
        }
      ],
      "source": [
        "print('''\n",
        "자세히 보아야 예쁘다.\n",
        "오래 보아야 사랑스럽다.\n",
        "너도 그렇다.\n",
        "''')"
      ]
    },
    {
      "cell_type": "code",
      "execution_count": 16,
      "id": "7ad41ad9",
      "metadata": {
        "colab": {
          "base_uri": "https://localhost:8080/"
        },
        "id": "7ad41ad9",
        "outputId": "afab8ee6-1fb3-45df-9eae-3a807ba11050"
      },
      "outputs": [
        {
          "output_type": "stream",
          "name": "stdout",
          "text": [
            "\n",
            "자세히 보아야 예쁘다.\n",
            "오래 보아야 사랑스럽다.\n",
            "너도 그렇다.\n",
            "\n"
          ]
        }
      ],
      "source": [
        "print(\"\"\"\n",
        "자세히 보아야 예쁘다.\n",
        "오래 보아야 사랑스럽다.\n",
        "너도 그렇다.\n",
        "\"\"\")"
      ]
    },
    {
      "cell_type": "markdown",
      "id": "aae556a5",
      "metadata": {
        "id": "aae556a5"
      },
      "source": [
        "# 주석달기\n",
        "* 프로그램에 대한 설명을 적을 때, 코드의 실행을 잠시 막아둘 때 주석을 사용한다.\n",
        "* 파이썬에서는 샵('#') 을 주석 기호로 사용한다."
      ]
    },
    {
      "cell_type": "code",
      "execution_count": 17,
      "id": "7e1ae2bb",
      "metadata": {
        "scrolled": true,
        "colab": {
          "base_uri": "https://localhost:8080/"
        },
        "id": "7e1ae2bb",
        "outputId": "4f49ed60-5f3c-4c21-92c2-1287693f872f"
      },
      "outputs": [
        {
          "output_type": "stream",
          "name": "stdout",
          "text": [
            "1\n",
            "3\n"
          ]
        }
      ],
      "source": [
        "## 주석에 대한 코드입니다##\n",
        "print(1) # 주석\n",
        "#print(2)  \n",
        "print(3)"
      ]
    },
    {
      "cell_type": "markdown",
      "id": "a23859bb",
      "metadata": {
        "id": "a23859bb"
      },
      "source": [
        "# 들여쓰기\n",
        "* 파이썬에서는 들여쓰기 자체가 문법입니다.\n",
        "* 파이썬 들여쓰기 방법은 공백2칸, 공백4칸 등 여러가지 방법이 있지만 보통 공백 4칸을 사용합니다."
      ]
    },
    {
      "cell_type": "code",
      "execution_count": 20,
      "id": "b0ee5746",
      "metadata": {
        "scrolled": false,
        "id": "b0ee5746"
      },
      "outputs": [],
      "source": [
        "# print('hello1')\n",
        "#  print('hello2')\n",
        "# IndentationError: unexpected indent"
      ]
    },
    {
      "cell_type": "markdown",
      "id": "a865ff27",
      "metadata": {
        "id": "a865ff27"
      },
      "source": [
        "# 오류 해석하기"
      ]
    },
    {
      "cell_type": "markdown",
      "id": "93954768",
      "metadata": {
        "id": "93954768"
      },
      "source": [
        "## 파이썬에서는 대소문자를 구분한다."
      ]
    },
    {
      "cell_type": "code",
      "execution_count": 21,
      "id": "f85d5dce",
      "metadata": {
        "scrolled": false,
        "id": "f85d5dce"
      },
      "outputs": [],
      "source": [
        "# Print('hello')"
      ]
    },
    {
      "cell_type": "markdown",
      "id": "042086d2",
      "metadata": {
        "id": "042086d2"
      },
      "source": [
        "## 따옴표의 짝이 맞아야 한다."
      ]
    },
    {
      "cell_type": "code",
      "execution_count": 22,
      "id": "ebd3fcf4",
      "metadata": {
        "id": "ebd3fcf4"
      },
      "outputs": [],
      "source": [
        "# print('hello'')"
      ]
    },
    {
      "cell_type": "markdown",
      "id": "40331128",
      "metadata": {
        "id": "40331128"
      },
      "source": [
        "## 괄호의 짝이 맞아야 한다."
      ]
    },
    {
      "cell_type": "code",
      "execution_count": 23,
      "id": "2dbe3b9d",
      "metadata": {
        "scrolled": false,
        "id": "2dbe3b9d"
      },
      "outputs": [],
      "source": [
        "# print('hello'}"
      ]
    },
    {
      "cell_type": "code",
      "execution_count": null,
      "id": "dd7c3cf9",
      "metadata": {
        "id": "dd7c3cf9"
      },
      "outputs": [],
      "source": [
        ""
      ]
    }
  ],
  "metadata": {
    "kernelspec": {
      "display_name": "Python 3 (ipykernel)",
      "language": "python",
      "name": "python3"
    },
    "language_info": {
      "codemirror_mode": {
        "name": "ipython",
        "version": 3
      },
      "file_extension": ".py",
      "mimetype": "text/x-python",
      "name": "python",
      "nbconvert_exporter": "python",
      "pygments_lexer": "ipython3",
      "version": "3.9.7"
    },
    "toc": {
      "base_numbering": 1,
      "nav_menu": {},
      "number_sections": true,
      "sideBar": true,
      "skip_h1_title": false,
      "title_cell": "Table of Contents",
      "title_sidebar": "Contents",
      "toc_cell": false,
      "toc_position": {
        "height": "calc(100% - 180px)",
        "left": "10px",
        "top": "150px",
        "width": "266.075px"
      },
      "toc_section_display": true,
      "toc_window_display": true
    },
    "vp": {
      "base_numbering": 1,
      "nav_menu": {},
      "number_sections": true,
      "sideBar": true,
      "title_cell": "VisualPython",
      "title_sidebar": "VisualPython",
      "vpPosition": {
        "height": "calc(100% - 180px)",
        "right": "10px",
        "top": "110px",
        "width": "50%"
      },
      "vp_cell": false,
      "vp_section_display": true,
      "vp_window_display": false
    },
    "colab": {
      "name": "02-1. 파이썬 첫걸음.ipynb",
      "provenance": []
    }
  },
  "nbformat": 4,
  "nbformat_minor": 5
}