{
  "nbformat": 4,
  "nbformat_minor": 0,
  "metadata": {
    "colab": {
      "name": "5_python_반복문.ipynb",
      "provenance": [],
      "collapsed_sections": []
    },
    "kernelspec": {
      "name": "python3",
      "display_name": "Python 3"
    }
  },
  "cells": [
    {
      "cell_type": "markdown",
      "metadata": {
        "id": "GGwhVABx8Ucj"
      },
      "source": [
        "## 1. 반복문이란?"
      ]
    },
    {
      "cell_type": "markdown",
      "metadata": {
        "id": "MPve6nk48nWY"
      },
      "source": [
        "* 반복해야 하는 일을 반복하는 것\n",
        "* 반드시 list, dict, set 등 집합에 대한 순회를 돌며 일을 처리할 때 많이 쓰입니다."
      ]
    },
    {
      "cell_type": "code",
      "metadata": {
        "id": "r9jXJ8L49VLE"
      },
      "source": [
        "mylist = [1, 2, 3, 4, 5, 6, 7, 8, 9, 10]"
      ],
      "execution_count": 1,
      "outputs": []
    },
    {
      "cell_type": "code",
      "source": [
        "mylist"
      ],
      "metadata": {
        "colab": {
          "base_uri": "https://localhost:8080/"
        },
        "id": "nChLE6tStrUO",
        "outputId": "eb1d7299-90b0-435d-e23f-4a792cd3492d"
      },
      "execution_count": 2,
      "outputs": [
        {
          "output_type": "execute_result",
          "data": {
            "text/plain": [
              "[1, 2, 3, 4, 5, 6, 7, 8, 9, 10]"
            ]
          },
          "metadata": {},
          "execution_count": 2
        }
      ]
    },
    {
      "cell_type": "markdown",
      "metadata": {
        "id": "1tqhcEyv9asJ"
      },
      "source": [
        "mylist에 들어 있는 모든 값들을 출력하려고 한다면?"
      ]
    },
    {
      "cell_type": "code",
      "metadata": {
        "id": "JWqvzMQ-9gq_",
        "colab": {
          "base_uri": "https://localhost:8080/"
        },
        "outputId": "b328d245-f946-410e-d8a4-ce9ffb43b9f4"
      },
      "source": [
        "print(mylist[0])\n",
        "print(mylist[1])\n",
        "print(mylist[2])\n",
        "print('...')\n",
        "print(mylist[8])\n",
        "print(mylist[9])"
      ],
      "execution_count": 3,
      "outputs": [
        {
          "output_type": "stream",
          "name": "stdout",
          "text": [
            "1\n",
            "2\n",
            "3\n",
            "...\n",
            "9\n",
            "10\n"
          ]
        }
      ]
    },
    {
      "cell_type": "markdown",
      "metadata": {
        "id": "2eRNROEc9vaB"
      },
      "source": [
        "## 2. for 와 in을 활용하자!"
      ]
    },
    {
      "cell_type": "markdown",
      "metadata": {
        "id": "EmihJIWJ9zSI"
      },
      "source": [
        "**[기본 문법]**<br>\n",
        "for 하나씩 꺼내올 때 변수 in [꺼내올 집합]"
      ]
    },
    {
      "cell_type": "code",
      "metadata": {
        "id": "iTlh4hYF-DnP"
      },
      "source": [
        "mylist = [1, 2, 3, 4, 5, 6, 7, 8, 9, 10]"
      ],
      "execution_count": 4,
      "outputs": []
    },
    {
      "cell_type": "code",
      "metadata": {
        "id": "qk2ljaev93th",
        "colab": {
          "base_uri": "https://localhost:8080/"
        },
        "outputId": "f6bb6db3-593a-4283-dda7-ad9698821e5c"
      },
      "source": [
        "for abc in mylist:\n",
        "    print(abc)"
      ],
      "execution_count": 5,
      "outputs": [
        {
          "output_type": "stream",
          "name": "stdout",
          "text": [
            "1\n",
            "2\n",
            "3\n",
            "4\n",
            "5\n",
            "6\n",
            "7\n",
            "8\n",
            "9\n",
            "10\n"
          ]
        }
      ]
    },
    {
      "cell_type": "code",
      "source": [
        "myfruit=['사과','배','귤','수박']"
      ],
      "metadata": {
        "id": "AfnrKkeouaNj"
      },
      "execution_count": 6,
      "outputs": []
    },
    {
      "cell_type": "code",
      "source": [
        "for fruit in myfruit:\n",
        "    print(fruit)"
      ],
      "metadata": {
        "colab": {
          "base_uri": "https://localhost:8080/"
        },
        "id": "ICrbWNCpuhRj",
        "outputId": "463a4208-b5fa-4e32-83bc-b02e5fbb0ad3"
      },
      "execution_count": 7,
      "outputs": [
        {
          "output_type": "stream",
          "name": "stdout",
          "text": [
            "사과\n",
            "배\n",
            "귤\n",
            "수박\n"
          ]
        }
      ]
    },
    {
      "cell_type": "code",
      "source": [
        "# 현재 디렉토리 파일 목록 출력 \n",
        "\n",
        "!touch a.txt b.txt c.txt "
      ],
      "metadata": {
        "id": "2zcEOYsBYmhH"
      },
      "execution_count": 10,
      "outputs": []
    },
    {
      "cell_type": "code",
      "source": [
        "import os\n",
        "\n",
        "os.listdir('.')\n",
        "\n",
        "# linux 에서 파일명이 . 으로 시작될 때, 숨긴 파일(.config)"
      ],
      "metadata": {
        "colab": {
          "base_uri": "https://localhost:8080/"
        },
        "id": "rYW8ynmvY93s",
        "outputId": "245b496a-e0d2-439e-d4b7-4886cf10301e"
      },
      "execution_count": 11,
      "outputs": [
        {
          "output_type": "execute_result",
          "data": {
            "text/plain": [
              "['.config', '.ipynb_checkpoints', 'b.txt', 'a.txt', 'c.txt', 'sample_data']"
            ]
          },
          "metadata": {},
          "execution_count": 11
        }
      ]
    },
    {
      "cell_type": "code",
      "source": [
        "range(10)"
      ],
      "metadata": {
        "colab": {
          "base_uri": "https://localhost:8080/"
        },
        "id": "iu_LAsk9cm2j",
        "outputId": "fae90bf8-146e-40a6-ce1f-f036626a947e"
      },
      "execution_count": 13,
      "outputs": [
        {
          "output_type": "execute_result",
          "data": {
            "text/plain": [
              "range(0, 10)"
            ]
          },
          "metadata": {},
          "execution_count": 13
        }
      ]
    },
    {
      "cell_type": "code",
      "source": [
        "for i in range(10): \n",
        "    print(i)"
      ],
      "metadata": {
        "colab": {
          "base_uri": "https://localhost:8080/"
        },
        "id": "oyH0Vs4YcpIV",
        "outputId": "bf5f4502-c153-49da-f0a7-0ae1468d77e4"
      },
      "execution_count": 14,
      "outputs": [
        {
          "output_type": "stream",
          "name": "stdout",
          "text": [
            "0\n",
            "1\n",
            "2\n",
            "3\n",
            "4\n",
            "5\n",
            "6\n",
            "7\n",
            "8\n",
            "9\n"
          ]
        }
      ]
    },
    {
      "cell_type": "code",
      "source": [
        "# 별을찍어보자\n",
        "# *\n",
        "# **\n",
        "# ***\n",
        "# ****\n",
        "# *****\n",
        "\n",
        "symbol='*'\n",
        "# range(5) :숫자를 0~4까지 생성해서 in 앞에 있는 변수에게 전달한다.\n",
        "# range(1,6) : 시작값은 1로, 종료값은 6미만으로 생성해서 변수에게 전달한다.\n",
        "for i in range(1,6):\n",
        "    #print(i)\n",
        "    print('{}'.format(symbol*i))"
      ],
      "metadata": {
        "colab": {
          "base_uri": "https://localhost:8080/"
        },
        "id": "A1GZpYC1u-G_",
        "outputId": "6309a0c3-422d-4cc9-fc06-d1dba1f10f9d"
      },
      "execution_count": 8,
      "outputs": [
        {
          "output_type": "stream",
          "name": "stdout",
          "text": [
            "*\n",
            "**\n",
            "***\n",
            "****\n",
            "*****\n"
          ]
        }
      ]
    },
    {
      "cell_type": "code",
      "source": [
        "# 별을찍어보자\n",
        "# *****\n",
        "# ****\n",
        "# ***\n",
        "# **\n",
        "# *\n",
        "symbol='*'\n",
        "for i in range(5,0,-1):\n",
        "    #print(i)\n",
        "    print('{}'.format(symbol*i))"
      ],
      "metadata": {
        "colab": {
          "base_uri": "https://localhost:8080/"
        },
        "id": "plYn9NhJxBgx",
        "outputId": "d263dc12-6542-435e-bfd1-30d47be706b0"
      },
      "execution_count": 12,
      "outputs": [
        {
          "output_type": "stream",
          "name": "stdout",
          "text": [
            "*****\n",
            "****\n",
            "***\n",
            "**\n",
            "*\n"
          ]
        }
      ]
    },
    {
      "cell_type": "code",
      "source": [
        "# test \n",
        "\n",
        "#    *\n",
        "#   ***\n",
        "#  *****\n",
        "# *******\n"
      ],
      "metadata": {
        "id": "uHqtHdGRc_rd"
      },
      "execution_count": null,
      "outputs": []
    },
    {
      "cell_type": "code",
      "source": [
        "symbol ='*'\n",
        "space = ' '\n",
        "count = 3\n",
        "\n",
        "for i in range(1, 9, 2): \n",
        "    #print(i)\n",
        "    print('{}{}'.format(space*count, symbol*i))\n",
        "    count -= 1"
      ],
      "metadata": {
        "colab": {
          "base_uri": "https://localhost:8080/"
        },
        "id": "v6g9lDATdKl7",
        "outputId": "986804cf-efcb-4390-cf78-fb28c3d2780c"
      },
      "execution_count": 17,
      "outputs": [
        {
          "output_type": "stream",
          "name": "stdout",
          "text": [
            "   *\n",
            "  ***\n",
            " *****\n",
            "*******\n"
          ]
        }
      ]
    },
    {
      "cell_type": "markdown",
      "metadata": {
        "id": "-dT8rGyO-MP4"
      },
      "source": [
        "## 3. 반복문에서 짝수만 출력하려면?"
      ]
    },
    {
      "cell_type": "code",
      "metadata": {
        "id": "AltNBV5C-Pqt"
      },
      "source": [
        "mylist = [1, 2, 3, 4, 5, 6, 7, 8, 9, 10]"
      ],
      "execution_count": 18,
      "outputs": []
    },
    {
      "cell_type": "code",
      "metadata": {
        "id": "Zbl8FHV0-cT1",
        "colab": {
          "base_uri": "https://localhost:8080/"
        },
        "outputId": "15a1d15e-5bb7-4a71-b355-d3b8e41ee3e7"
      },
      "source": [
        "for i in mylist:\n",
        "    # your code here #\n",
        "    if i % 2 == 0:\n",
        "        print(i)\n",
        "    ##################"
      ],
      "execution_count": 19,
      "outputs": [
        {
          "output_type": "stream",
          "name": "stdout",
          "text": [
            "2\n",
            "4\n",
            "6\n",
            "8\n",
            "10\n"
          ]
        }
      ]
    },
    {
      "cell_type": "code",
      "source": [
        "# 또 다른 짝수를 출력하는 방법\n",
        "for i in range(2,11,2):\n",
        "    print(i)"
      ],
      "metadata": {
        "colab": {
          "base_uri": "https://localhost:8080/"
        },
        "id": "FdTXwlu2C1vc",
        "outputId": "330fa431-5b2d-4d38-c401-aaef2678c86e"
      },
      "execution_count": 20,
      "outputs": [
        {
          "output_type": "stream",
          "name": "stdout",
          "text": [
            "2\n",
            "4\n",
            "6\n",
            "8\n",
            "10\n"
          ]
        }
      ]
    },
    {
      "cell_type": "markdown",
      "metadata": {
        "id": "DGHNctqg-qnX"
      },
      "source": [
        "**continue**는 반복문 안에서 continue를 만났을때 다음 명령을 실행하지 않고 반복문의 최상위로 올라가서 다음 반복을 진행한다."
      ]
    },
    {
      "cell_type": "code",
      "metadata": {
        "id": "RWgPVawJ-jRT",
        "colab": {
          "base_uri": "https://localhost:8080/"
        },
        "outputId": "cdcd7c5f-8c4b-4f4f-dd34-e3e14e27c8ca"
      },
      "source": [
        "for i in mylist:\n",
        "    # 아래 if문은 홀수 인 경우에 continue를 실행\n",
        "    if i % 2 == 1:\n",
        "        continue  # 홀수인 경우, print() 가지 않고 위로 올라가 반복함\n",
        "    # 짝수인 경우 출력 한다.\n",
        "    print(i)"
      ],
      "execution_count": 22,
      "outputs": [
        {
          "output_type": "stream",
          "name": "stdout",
          "text": [
            "2\n",
            "4\n",
            "6\n",
            "8\n",
            "10\n"
          ]
        }
      ]
    },
    {
      "cell_type": "markdown",
      "metadata": {
        "id": "xaDtUK2y-yRo"
      },
      "source": [
        "## 4. break로 조건에 해당하면 빠져나와보자!"
      ]
    },
    {
      "cell_type": "code",
      "metadata": {
        "id": "g8rLTYZg-2R7"
      },
      "source": [
        "mylist = [1, 2, 3, 4, 5, 6, 7, 8, 9, 10]"
      ],
      "execution_count": 23,
      "outputs": []
    },
    {
      "cell_type": "markdown",
      "metadata": {
        "id": "tGdZ0d1S-59J"
      },
      "source": [
        "i가 6 이상이면 STOP\n",
        "**break**의 특성은 루프나 반복문을 탈출한다. 빠져나간다."
      ]
    },
    {
      "cell_type": "code",
      "metadata": {
        "id": "LyTOiLaC-4hd",
        "colab": {
          "base_uri": "https://localhost:8080/"
        },
        "outputId": "41cfcc0b-0216-4fdd-ad18-1b04f5ebc9b9"
      },
      "source": [
        "for i in mylist:\n",
        "    # i의 값이 6보다 같거나 크면 'break'를 출력\n",
        "    if i >= 6:\n",
        "        print('break')\n",
        "        break\n",
        "    print(i)"
      ],
      "execution_count": 24,
      "outputs": [
        {
          "output_type": "stream",
          "name": "stdout",
          "text": [
            "1\n",
            "2\n",
            "3\n",
            "4\n",
            "5\n",
            "break\n"
          ]
        }
      ]
    },
    {
      "cell_type": "markdown",
      "source": [
        "**1시25분까지 풀어보세요**"
      ],
      "metadata": {
        "id": "6pMIltj3GKgI"
      }
    },
    {
      "cell_type": "code",
      "source": [
        "# 별을찍어보자 \n",
        "#    *      공백 4, 별 1\n",
        "#   ***     공백 3, 별 3\n",
        "#  *****    공백 2, 별 5\n",
        "# *******   공백 1, 별 7 \n",
        "#*********  공백 0, 별 9"
      ],
      "metadata": {
        "id": "AaIwjkKHFLly"
      },
      "execution_count": null,
      "outputs": []
    },
    {
      "cell_type": "code",
      "source": [
        "symbolStar='*'\n",
        "symbolSp =' '\n",
        "\n",
        "count = 1\n",
        "\n",
        "for space in range(4,-1,-1):\n",
        "    #print(space)\n",
        "    print('{}{}'.format(symbolSp*space, symbolStar*count))\n",
        "    count = count + 2\n"
      ],
      "metadata": {
        "colab": {
          "base_uri": "https://localhost:8080/"
        },
        "id": "G8sgrJwZGqFZ",
        "outputId": "6e7d64b8-ab8c-4be6-eeef-d2e096b89517"
      },
      "execution_count": 25,
      "outputs": [
        {
          "output_type": "stream",
          "name": "stdout",
          "text": [
            "    *\n",
            "   ***\n",
            "  *****\n",
            " *******\n",
            "*********\n"
          ]
        }
      ]
    },
    {
      "cell_type": "code",
      "source": [
        "symbol=\"*\"\n",
        "space=\" \"\n",
        "for i in range(5):\n",
        "    print(space*(4-i),symbol*(2*i+1))"
      ],
      "metadata": {
        "colab": {
          "base_uri": "https://localhost:8080/"
        },
        "id": "ESkzQBs6H_UZ",
        "outputId": "7057d73e-4cd8-4712-bb6f-6eb225eef608"
      },
      "execution_count": 26,
      "outputs": [
        {
          "output_type": "stream",
          "name": "stdout",
          "text": [
            "     *\n",
            "    ***\n",
            "   *****\n",
            "  *******\n",
            " *********\n"
          ]
        }
      ]
    },
    {
      "cell_type": "code",
      "source": [
        "symbol=\"*\"\n",
        "space=\" \"\n",
        "for i in range(4,-1,-1):\n",
        "    print(space*(4-i),symbol*(2*i+1))"
      ],
      "metadata": {
        "colab": {
          "base_uri": "https://localhost:8080/"
        },
        "id": "u41IxjVVI9u7",
        "outputId": "6069ba07-3e99-4a7f-e6e1-05568b8429d2"
      },
      "execution_count": 27,
      "outputs": [
        {
          "output_type": "stream",
          "name": "stdout",
          "text": [
            " *********\n",
            "  *******\n",
            "   *****\n",
            "    ***\n",
            "     *\n"
          ]
        }
      ]
    },
    {
      "cell_type": "code",
      "source": [
        "# 별을찍어보자 \n",
        "#    *      공백 4, 별 1            i=0\n",
        "#   * *     공백 3, 별 1, 공백 1, 별1 i=1\n",
        "#  *   *    공백 2, 별 1, 공백 3, 별1 i=2 \n",
        "# *     *   공백 1, 별 1, 공백 5, 별1 i=3 \n",
        "#*       *  공백 0, 별 1, 공백 7, 별1 i=4"
      ],
      "metadata": {
        "id": "oHVBICREJ3z2"
      },
      "execution_count": null,
      "outputs": []
    },
    {
      "cell_type": "code",
      "source": [
        "# format()를 사용한 경우\n",
        "symbol=\"*\"\n",
        "space=\" \" \n",
        "for i in range(5):\n",
        "    if i==0:\n",
        "        print(\"{}{}\".format(space*(4-i),symbol))\n",
        "    else:\n",
        "        print('{}{}{}{}'.format(space*(4-i), symbol, (i*2-1)*space, symbol))"
      ],
      "metadata": {
        "colab": {
          "base_uri": "https://localhost:8080/"
        },
        "id": "A__wbBzHK4La",
        "outputId": "c0b75f21-32b3-4a73-ee79-8c1e87c2c22d"
      },
      "execution_count": 28,
      "outputs": [
        {
          "output_type": "stream",
          "name": "stdout",
          "text": [
            "    *\n",
            "   * *\n",
            "  *   *\n",
            " *     *\n",
            "*       *\n"
          ]
        }
      ]
    },
    {
      "cell_type": "code",
      "source": [
        "# format()를 사용하지 않은 경우\n",
        "symbol=\"*\"\n",
        "space=\" \" \n",
        "for i in range(5):\n",
        "    if i==0:\n",
        "        print(space*(4-i)+symbol)\n",
        "    else:\n",
        "        print(space*(4-i)+symbol+(i*2-1)*space+symbol)"
      ],
      "metadata": {
        "colab": {
          "base_uri": "https://localhost:8080/"
        },
        "id": "5D3mCDwkPBxG",
        "outputId": "b8ecdef6-acf0-4a92-bd1d-6b6ef99f899e"
      },
      "execution_count": 29,
      "outputs": [
        {
          "output_type": "stream",
          "name": "stdout",
          "text": [
            "    *\n",
            "   * *\n",
            "  *   *\n",
            " *     *\n",
            "*       *\n"
          ]
        }
      ]
    },
    {
      "cell_type": "code",
      "source": [
        "star = '*'\n",
        "space = ' '\n",
        "for idx in range(5):\n",
        "    if idx == 0:\n",
        "        print('{}{}'.format(space*(4-idx), star))\n",
        "    else:\n",
        "        print('{}{}{}{}'.format(space*(4-idx), star, space*(idx*2-1), star))"
      ],
      "metadata": {
        "colab": {
          "base_uri": "https://localhost:8080/"
        },
        "id": "pBjAxbxLLWM7",
        "outputId": "8400e6cb-f98e-4087-fb0d-dd9b3bf5e1fb"
      },
      "execution_count": 30,
      "outputs": [
        {
          "output_type": "stream",
          "name": "stdout",
          "text": [
            "    *\n",
            "   * *\n",
            "  *   *\n",
            " *     *\n",
            "*       *\n"
          ]
        }
      ]
    },
    {
      "cell_type": "code",
      "source": [
        "# 별을찍어보자\n",
        "#    *    공백4, 별1          (4-0), 1\n",
        "#   * *   공백3, 별, 공백1, 별  (4-1), 1, (1*2-1), 1\n",
        "#  *   *  공백2, 별, 공백3, 별  (4-2), 1, (2*2-1), 1\n",
        "# *     * 공백1, 별, 공백5, 별  \n",
        "blank = ' '\n",
        "star = '*'\n",
        "for i in range(5) : \n",
        "    if(i>=1) : \n",
        "        print((4-i)*blank+ star + (i*2-1)*blank + star)\n",
        "    else :\n",
        "        print(4*blank + star)"
      ],
      "metadata": {
        "colab": {
          "base_uri": "https://localhost:8080/"
        },
        "id": "nTjLn7KIN1Sh",
        "outputId": "a0d3c860-00ac-4caf-997c-d9525adce445"
      },
      "execution_count": 31,
      "outputs": [
        {
          "output_type": "stream",
          "name": "stdout",
          "text": [
            "    *\n",
            "   * *\n",
            "  *   *\n",
            " *     *\n",
            "*       *\n"
          ]
        }
      ]
    },
    {
      "cell_type": "code",
      "source": [
        ""
      ],
      "metadata": {
        "id": "ovv7LfmKN15Y"
      },
      "execution_count": null,
      "outputs": []
    }
  ]
}