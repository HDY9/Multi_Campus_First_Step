{
  "nbformat": 4,
  "nbformat_minor": 0,
  "metadata": {
    "colab": {
      "name": "7_python_string.ipynb",
      "provenance": [],
      "collapsed_sections": [
        "BlmsgCrK9VVk"
      ]
    },
    "kernelspec": {
      "name": "python3",
      "display_name": "Python 3"
    }
  },
  "cells": [
    {
      "cell_type": "markdown",
      "metadata": {
        "id": "yhrjrcX50_xk"
      },
      "source": [
        "## 1. 문자열을 잘 다룬다는 의미"
      ]
    },
    {
      "cell_type": "markdown",
      "metadata": {
        "id": "af-WjtP-6EHN"
      },
      "source": [
        "데이터 분석을 공부한다면, 문자열은 정말 뗄레야 뗄 수 없습니다.\n",
        "\n",
        "* 텍스트 분석\n",
        "* 크롤링 (웹사이트 내용 긁어오기)\n",
        "* 엑셀 파일 다루기\n",
        "등등..\n",
        "\n",
        "게다가 대한민국 국민은 세종대왕이 만드신 최고의 과학적인 언어, **'한글'까지 추가로 처리/ 이해** 할 수 있어야 합니다!!"
      ]
    },
    {
      "cell_type": "markdown",
      "metadata": {
        "id": "I0X0Ex-N6ftn"
      },
      "source": [
        "## 2. 문자의 길이"
      ]
    },
    {
      "cell_type": "code",
      "metadata": {
        "id": "hNYj8cE26ifd"
      },
      "source": [
        "a = 'banana'"
      ],
      "execution_count": 1,
      "outputs": []
    },
    {
      "cell_type": "code",
      "metadata": {
        "id": "LHe2Vr9m6pK1",
        "colab": {
          "base_uri": "https://localhost:8080/"
        },
        "outputId": "5a8d3ad7-28b7-439a-ccb8-ef4244ac6e7a"
      },
      "source": [
        "len(a)"
      ],
      "execution_count": 2,
      "outputs": [
        {
          "output_type": "execute_result",
          "data": {
            "text/plain": [
              "6"
            ]
          },
          "metadata": {},
          "execution_count": 2
        }
      ]
    },
    {
      "cell_type": "code",
      "metadata": {
        "id": "AxINMVWy6tTX"
      },
      "source": [
        "a = 'banana pen'"
      ],
      "execution_count": 3,
      "outputs": []
    },
    {
      "cell_type": "code",
      "metadata": {
        "id": "sWeic6eQ6vvd",
        "outputId": "8b5a4907-afda-44a9-f112-def7295edfb9",
        "colab": {
          "base_uri": "https://localhost:8080/"
        }
      },
      "source": [
        "len(a)"
      ],
      "execution_count": 4,
      "outputs": [
        {
          "output_type": "execute_result",
          "data": {
            "text/plain": [
              "10"
            ]
          },
          "metadata": {},
          "execution_count": 4
        }
      ]
    },
    {
      "cell_type": "code",
      "metadata": {
        "id": "gz7yKY3I6wx9"
      },
      "source": [
        "a = '한글'"
      ],
      "execution_count": 5,
      "outputs": []
    },
    {
      "cell_type": "code",
      "metadata": {
        "id": "C4OsD6KE64xb",
        "outputId": "6f219050-e8fe-4f59-c6e2-b8e2ecc32ac3",
        "colab": {
          "base_uri": "https://localhost:8080/"
        }
      },
      "source": [
        "len(a)"
      ],
      "execution_count": 6,
      "outputs": [
        {
          "output_type": "execute_result",
          "data": {
            "text/plain": [
              "2"
            ]
          },
          "metadata": {},
          "execution_count": 6
        }
      ]
    },
    {
      "cell_type": "code",
      "metadata": {
        "id": "lw6mBOz465QN"
      },
      "source": [
        "a = '한글 킹왕짱'"
      ],
      "execution_count": 7,
      "outputs": []
    },
    {
      "cell_type": "code",
      "metadata": {
        "id": "VqpF4dSg68cG",
        "outputId": "b17486d5-f789-44f6-cde6-ecf412bc1632",
        "colab": {
          "base_uri": "https://localhost:8080/"
        }
      },
      "source": [
        "len(a)"
      ],
      "execution_count": 8,
      "outputs": [
        {
          "output_type": "execute_result",
          "data": {
            "text/plain": [
              "6"
            ]
          },
          "metadata": {},
          "execution_count": 8
        }
      ]
    },
    {
      "cell_type": "markdown",
      "metadata": {
        "id": "X3drW8_W6_cP"
      },
      "source": [
        "## 3. 문장 쪼개기"
      ]
    },
    {
      "cell_type": "markdown",
      "metadata": {
        "id": "K0mX1iZD7E7s"
      },
      "source": [
        "문자열만 가지고 있는 **고유의 편한 기능**들이 있습니다. 우리는 이들 중 몇 가지를 배워 앞으로 유용하게 활용할 예정입니다."
      ]
    },
    {
      "cell_type": "markdown",
      "metadata": {
        "id": "b3crAbCA7Oy-"
      },
      "source": [
        "### 3-1. split"
      ]
    },
    {
      "cell_type": "markdown",
      "metadata": {
        "id": "OsAWWrld7UiV"
      },
      "source": [
        "가장 많이 쓰는 기능입니다.\n",
        "\n",
        "split은 문장을 특정 규칙에 의해 쪼개 주는 기능을 합니다."
      ]
    },
    {
      "cell_type": "code",
      "metadata": {
        "id": "FC4GEYLM7WmE"
      },
      "source": [
        "a = 'This is a pen'"
      ],
      "execution_count": 9,
      "outputs": []
    },
    {
      "cell_type": "code",
      "metadata": {
        "id": "0G74kkKv7gTM"
      },
      "source": [
        "strSplit = a.split(' ')  # 공백 기준 "
      ],
      "execution_count": 10,
      "outputs": []
    },
    {
      "cell_type": "code",
      "source": [
        "type(strSplit)"
      ],
      "metadata": {
        "colab": {
          "base_uri": "https://localhost:8080/"
        },
        "id": "RASLur_5UqRo",
        "outputId": "cb3060ae-fcfa-4f84-d054-f4671569587c"
      },
      "execution_count": 11,
      "outputs": [
        {
          "output_type": "execute_result",
          "data": {
            "text/plain": [
              "list"
            ]
          },
          "metadata": {},
          "execution_count": 11
        }
      ]
    },
    {
      "cell_type": "code",
      "metadata": {
        "id": "TlbMIIrt7tNl",
        "outputId": "75317ab8-536d-435c-f750-547e70ccfd24",
        "colab": {
          "base_uri": "https://localhost:8080/"
        }
      },
      "source": [
        "a.split()"
      ],
      "execution_count": 12,
      "outputs": [
        {
          "output_type": "execute_result",
          "data": {
            "text/plain": [
              "['This', 'is', 'a', 'pen']"
            ]
          },
          "metadata": {},
          "execution_count": 12
        }
      ]
    },
    {
      "cell_type": "markdown",
      "metadata": {
        "id": "JWUQvHVc7vql"
      },
      "source": [
        "쪼개려는 기준을 다르게 해봅시다"
      ]
    },
    {
      "cell_type": "code",
      "metadata": {
        "id": "-CCwHeQk7hru"
      },
      "source": [
        "a = 'This-is-a-pen'"
      ],
      "execution_count": 13,
      "outputs": []
    },
    {
      "cell_type": "code",
      "metadata": {
        "id": "fr07vyKD7lJd",
        "outputId": "cbe0df53-56b8-4d71-b308-c7c2bda1d7ea",
        "colab": {
          "base_uri": "https://localhost:8080/"
        }
      },
      "source": [
        "a.split('-')"
      ],
      "execution_count": 14,
      "outputs": [
        {
          "output_type": "execute_result",
          "data": {
            "text/plain": [
              "['This', 'is', 'a', 'pen']"
            ]
          },
          "metadata": {},
          "execution_count": 14
        }
      ]
    },
    {
      "cell_type": "markdown",
      "source": [
        "## 파일명을 변경\n",
        "myText.txt -> blak.txt"
      ],
      "metadata": {
        "id": "x64CYMpVVf8O"
      }
    },
    {
      "cell_type": "code",
      "source": [
        "# 비어있는 파일 myText.txt 생성\n",
        "!touch myText.txt"
      ],
      "metadata": {
        "id": "iE11K2sgU_T_"
      },
      "execution_count": 15,
      "outputs": []
    },
    {
      "cell_type": "code",
      "source": [
        "import os\n",
        "fileList = os.listdir('.')\n",
        "fileList\n",
        "\n",
        "for fileName in fileList:\n",
        "    #print(fileName)\n",
        "    if fileName=='myText.txt':\n",
        "      os.rename(fileName, \"blank.txt\") # rename : file 명 변경"
      ],
      "metadata": {
        "id": "gKCEt3zZVM4_"
      },
      "execution_count": 18,
      "outputs": []
    },
    {
      "cell_type": "code",
      "source": [
        "fileName = \"blank.txt\"\n",
        "fileName.split(\".\")"
      ],
      "metadata": {
        "colab": {
          "base_uri": "https://localhost:8080/"
        },
        "id": "Ipk5dLeIVpui",
        "outputId": "7ac8474c-dfcc-4d9e-b3b3-74b3c0227494"
      },
      "execution_count": 19,
      "outputs": [
        {
          "output_type": "execute_result",
          "data": {
            "text/plain": [
              "['blank', 'txt']"
            ]
          },
          "metadata": {},
          "execution_count": 19
        }
      ]
    },
    {
      "cell_type": "markdown",
      "metadata": {
        "id": "njgIrDUG7rFP"
      },
      "source": [
        "list 형식으로 값을 return 받습니다."
      ]
    },
    {
      "cell_type": "code",
      "metadata": {
        "id": "BL7mXU7H77EE"
      },
      "source": [
        "aa = a.split('-')"
      ],
      "execution_count": 20,
      "outputs": []
    },
    {
      "cell_type": "code",
      "metadata": {
        "id": "P7xGEtP679tE",
        "outputId": "54fa6477-6c13-4f2e-8ff3-de1a06f95fdd",
        "colab": {
          "base_uri": "https://localhost:8080/"
        }
      },
      "source": [
        "aa"
      ],
      "execution_count": 21,
      "outputs": [
        {
          "output_type": "execute_result",
          "data": {
            "text/plain": [
              "['This', 'is', 'a', 'pen']"
            ]
          },
          "metadata": {},
          "execution_count": 21
        }
      ]
    },
    {
      "cell_type": "code",
      "metadata": {
        "id": "fcoZjewf7-Cl",
        "outputId": "5ea86c5f-5742-4366-f7a0-e8fa8d925db2",
        "colab": {
          "base_uri": "https://localhost:8080/",
          "height": 35
        }
      },
      "source": [
        "aa[0]"
      ],
      "execution_count": 22,
      "outputs": [
        {
          "output_type": "execute_result",
          "data": {
            "text/plain": [
              "'This'"
            ],
            "application/vnd.google.colaboratory.intrinsic+json": {
              "type": "string"
            }
          },
          "metadata": {},
          "execution_count": 22
        }
      ]
    },
    {
      "cell_type": "code",
      "metadata": {
        "id": "Tdu5YodD8ByV",
        "outputId": "f2f20423-53a3-41bc-f0cd-9ccbbd4f6722",
        "colab": {
          "base_uri": "https://localhost:8080/",
          "height": 35
        }
      },
      "source": [
        "aa[2]"
      ],
      "execution_count": 23,
      "outputs": [
        {
          "output_type": "execute_result",
          "data": {
            "text/plain": [
              "'a'"
            ],
            "application/vnd.google.colaboratory.intrinsic+json": {
              "type": "string"
            }
          },
          "metadata": {},
          "execution_count": 23
        }
      ]
    },
    {
      "cell_type": "code",
      "metadata": {
        "id": "A3bVCP1o8CgV",
        "outputId": "76d91d8d-572e-4613-a611-fd8d4dcedd98",
        "colab": {
          "base_uri": "https://localhost:8080/",
          "height": 35
        }
      },
      "source": [
        "aa[0] + aa[2]"
      ],
      "execution_count": 24,
      "outputs": [
        {
          "output_type": "execute_result",
          "data": {
            "text/plain": [
              "'Thisa'"
            ],
            "application/vnd.google.colaboratory.intrinsic+json": {
              "type": "string"
            }
          },
          "metadata": {},
          "execution_count": 24
        }
      ]
    },
    {
      "cell_type": "code",
      "metadata": {
        "id": "8cV3DoUT8X5P"
      },
      "source": [
        "a = '한글은 어떻게 될까요?'"
      ],
      "execution_count": 25,
      "outputs": []
    },
    {
      "cell_type": "code",
      "metadata": {
        "id": "Hjb4bU-a8Ebd",
        "outputId": "69465792-0bbe-4edd-97d3-db3f1a75c203",
        "colab": {
          "base_uri": "https://localhost:8080/"
        }
      },
      "source": [
        "a.split()"
      ],
      "execution_count": 26,
      "outputs": [
        {
          "output_type": "execute_result",
          "data": {
            "text/plain": [
              "['한글은', '어떻게', '될까요?']"
            ]
          },
          "metadata": {},
          "execution_count": 26
        }
      ]
    },
    {
      "cell_type": "markdown",
      "metadata": {
        "id": "dBxYW5wZ8GP-"
      },
      "source": [
        "### 3-2. 대문자 / 소문자로 만들기"
      ]
    },
    {
      "cell_type": "code",
      "metadata": {
        "id": "_jM72wdq8I5l"
      },
      "source": [
        "a = 'My name is Teddy'"
      ],
      "execution_count": 27,
      "outputs": []
    },
    {
      "cell_type": "code",
      "metadata": {
        "id": "nzwSAYnY8PMt",
        "outputId": "7972c8a6-941e-4022-f0c3-21567fce8104",
        "colab": {
          "base_uri": "https://localhost:8080/",
          "height": 35
        }
      },
      "source": [
        "a.lower()"
      ],
      "execution_count": 28,
      "outputs": [
        {
          "output_type": "execute_result",
          "data": {
            "text/plain": [
              "'my name is teddy'"
            ],
            "application/vnd.google.colaboratory.intrinsic+json": {
              "type": "string"
            }
          },
          "metadata": {},
          "execution_count": 28
        }
      ]
    },
    {
      "cell_type": "code",
      "metadata": {
        "id": "-WzdUBjE8Q45",
        "outputId": "a8526681-1041-44ea-b1eb-9b5d937aa4a8",
        "colab": {
          "base_uri": "https://localhost:8080/",
          "height": 35
        }
      },
      "source": [
        "a.upper()"
      ],
      "execution_count": 29,
      "outputs": [
        {
          "output_type": "execute_result",
          "data": {
            "text/plain": [
              "'MY NAME IS TEDDY'"
            ],
            "application/vnd.google.colaboratory.intrinsic+json": {
              "type": "string"
            }
          },
          "metadata": {},
          "execution_count": 29
        }
      ]
    },
    {
      "cell_type": "code",
      "metadata": {
        "id": "LCvVGpAs8V_e"
      },
      "source": [
        "a = '한글엔 대소문자가 없어요ㅠ'"
      ],
      "execution_count": 30,
      "outputs": []
    },
    {
      "cell_type": "code",
      "metadata": {
        "id": "Als5HOz28hM5",
        "outputId": "2608335a-57b8-4d27-84a4-5981deeaf336",
        "colab": {
          "base_uri": "https://localhost:8080/",
          "height": 35
        }
      },
      "source": [
        "a.lower()"
      ],
      "execution_count": 31,
      "outputs": [
        {
          "output_type": "execute_result",
          "data": {
            "text/plain": [
              "'한글엔 대소문자가 없어요ㅠ'"
            ],
            "application/vnd.google.colaboratory.intrinsic+json": {
              "type": "string"
            }
          },
          "metadata": {},
          "execution_count": 31
        }
      ]
    },
    {
      "cell_type": "code",
      "metadata": {
        "id": "rjPBxrK08iFt",
        "outputId": "05127b42-1f31-42ad-cde7-fa3a608e5f80",
        "colab": {
          "base_uri": "https://localhost:8080/",
          "height": 35
        }
      },
      "source": [
        "a.upper()"
      ],
      "execution_count": 32,
      "outputs": [
        {
          "output_type": "execute_result",
          "data": {
            "text/plain": [
              "'한글엔 대소문자가 없어요ㅠ'"
            ],
            "application/vnd.google.colaboratory.intrinsic+json": {
              "type": "string"
            }
          },
          "metadata": {},
          "execution_count": 32
        }
      ]
    },
    {
      "cell_type": "markdown",
      "metadata": {
        "id": "ZThLS-KL8rA8"
      },
      "source": [
        "### 3-3. startswith, endswith ~로 시작하는, ~로 끝나는"
      ]
    },
    {
      "cell_type": "code",
      "metadata": {
        "id": "v1IjDRTA8wOW"
      },
      "source": [
        "a = '01-sample.png'\n",
        "b = '02-sample.jpg'\n",
        "c = '03-sample.pdf'"
      ],
      "execution_count": 33,
      "outputs": []
    },
    {
      "cell_type": "code",
      "metadata": {
        "id": "8pNYKEFi85Ie",
        "outputId": "f38cf907-590a-4a67-e0ef-856dd6136c43",
        "colab": {
          "base_uri": "https://localhost:8080/"
        }
      },
      "source": [
        "a.startswith('01')"
      ],
      "execution_count": 34,
      "outputs": [
        {
          "output_type": "execute_result",
          "data": {
            "text/plain": [
              "True"
            ]
          },
          "metadata": {},
          "execution_count": 34
        }
      ]
    },
    {
      "cell_type": "code",
      "metadata": {
        "id": "VCpn1plG892e",
        "outputId": "4e4a6b3f-c4e3-46f0-cd9e-455011a70ea0",
        "colab": {
          "base_uri": "https://localhost:8080/"
        }
      },
      "source": [
        "a.endswith('.jpg')"
      ],
      "execution_count": 35,
      "outputs": [
        {
          "output_type": "execute_result",
          "data": {
            "text/plain": [
              "False"
            ]
          },
          "metadata": {},
          "execution_count": 35
        }
      ]
    },
    {
      "cell_type": "code",
      "metadata": {
        "id": "1F4JLtPY9BZl",
        "outputId": "2c0334de-8ceb-4eee-ed32-11a4962b3fda",
        "colab": {
          "base_uri": "https://localhost:8080/"
        }
      },
      "source": [
        "b.endswith('.jpg')"
      ],
      "execution_count": 36,
      "outputs": [
        {
          "output_type": "execute_result",
          "data": {
            "text/plain": [
              "True"
            ]
          },
          "metadata": {},
          "execution_count": 36
        }
      ]
    },
    {
      "cell_type": "code",
      "metadata": {
        "id": "zKqmZ_di9EWm"
      },
      "source": [
        "mylist = [a, b]"
      ],
      "execution_count": 37,
      "outputs": []
    },
    {
      "cell_type": "code",
      "metadata": {
        "id": "je9TtSJm9Gxj",
        "outputId": "b3d1e2cd-a7a3-4422-daaa-eda13d8e74f1",
        "colab": {
          "base_uri": "https://localhost:8080/"
        }
      },
      "source": [
        "for file in mylist:\n",
        "    if file.endswith('jpg'):\n",
        "        print(file)"
      ],
      "execution_count": 38,
      "outputs": [
        {
          "output_type": "stream",
          "name": "stdout",
          "text": [
            "02-sample.jpg\n"
          ]
        }
      ]
    },
    {
      "cell_type": "markdown",
      "metadata": {
        "id": "BlmsgCrK9VVk"
      },
      "source": [
        "### 3-4. replace (바꾸기)"
      ]
    },
    {
      "cell_type": "code",
      "metadata": {
        "id": "ANj2HqcK9Vb8"
      },
      "source": [
        "a = '01-sample.png'"
      ],
      "execution_count": null,
      "outputs": []
    },
    {
      "cell_type": "code",
      "metadata": {
        "id": "EEjlaLiV9end",
        "outputId": "90038bfe-e204-4690-cd37-021eaedc0988",
        "colab": {
          "base_uri": "https://localhost:8080/",
          "height": 34
        }
      },
      "source": [
        "a.replace('.png', '.jpg')"
      ],
      "execution_count": null,
      "outputs": [
        {
          "output_type": "execute_result",
          "data": {
            "text/plain": [
              "'01-sample.jpg'"
            ]
          },
          "metadata": {
            "tags": []
          },
          "execution_count": 35
        }
      ]
    },
    {
      "cell_type": "code",
      "metadata": {
        "id": "GWeRrKH59h6M",
        "outputId": "36bff7ca-50b0-43cc-83b9-9ef08c2e41b3",
        "colab": {
          "base_uri": "https://localhost:8080/",
          "height": 34
        }
      },
      "source": [
        "a"
      ],
      "execution_count": null,
      "outputs": [
        {
          "output_type": "execute_result",
          "data": {
            "text/plain": [
              "'01-sample.png'"
            ]
          },
          "metadata": {
            "tags": []
          },
          "execution_count": 36
        }
      ]
    },
    {
      "cell_type": "code",
      "metadata": {
        "id": "ecF_C16h9jYs"
      },
      "source": [
        "new_a = a.replace('.png', '.jpg')"
      ],
      "execution_count": null,
      "outputs": []
    },
    {
      "cell_type": "code",
      "metadata": {
        "id": "A3tvDKm39nW0",
        "outputId": "94829ba2-1ed3-419c-885b-e010d5ad618c",
        "colab": {
          "base_uri": "https://localhost:8080/",
          "height": 34
        }
      },
      "source": [
        "new_a"
      ],
      "execution_count": null,
      "outputs": [
        {
          "output_type": "execute_result",
          "data": {
            "text/plain": [
              "'01-sample.jpg'"
            ]
          },
          "metadata": {
            "tags": []
          },
          "execution_count": 40
        }
      ]
    },
    {
      "cell_type": "code",
      "metadata": {
        "id": "y4A2Yvoo9n8c"
      },
      "source": [
        ""
      ],
      "execution_count": null,
      "outputs": []
    },
    {
      "cell_type": "code",
      "metadata": {
        "id": "9kLRbwl597PL"
      },
      "source": [
        ""
      ],
      "execution_count": null,
      "outputs": []
    },
    {
      "cell_type": "markdown",
      "metadata": {
        "id": "f2XosBBa97Uk"
      },
      "source": [
        "### 3-5. 불필요한 공백 제거하기"
      ]
    },
    {
      "cell_type": "code",
      "metadata": {
        "id": "KsUFyKpj9-eL"
      },
      "source": [
        "a = '    01-sample.png                '\n",
        "b = '01-sample.png'"
      ],
      "execution_count": 39,
      "outputs": []
    },
    {
      "cell_type": "code",
      "metadata": {
        "id": "5fiGWrpC-CH0",
        "outputId": "cc4c7f52-2539-4fba-c25d-571ab3171a40",
        "colab": {
          "base_uri": "https://localhost:8080/"
        }
      },
      "source": [
        "a == b"
      ],
      "execution_count": 40,
      "outputs": [
        {
          "output_type": "execute_result",
          "data": {
            "text/plain": [
              "False"
            ]
          },
          "metadata": {},
          "execution_count": 40
        }
      ]
    },
    {
      "cell_type": "markdown",
      "metadata": {
        "id": "x2BIXr3a-IbK"
      },
      "source": [
        "strip은 양 끝 불필요한 공백을 제거해 줍니다."
      ]
    },
    {
      "cell_type": "code",
      "metadata": {
        "id": "YiShmptM-G_b",
        "outputId": "e62f7ace-30c3-4415-82cf-b2f9c9453d2a",
        "colab": {
          "base_uri": "https://localhost:8080/",
          "height": 35
        }
      },
      "source": [
        "a.strip()"
      ],
      "execution_count": 41,
      "outputs": [
        {
          "output_type": "execute_result",
          "data": {
            "text/plain": [
              "'01-sample.png'"
            ],
            "application/vnd.google.colaboratory.intrinsic+json": {
              "type": "string"
            }
          },
          "metadata": {},
          "execution_count": 41
        }
      ]
    },
    {
      "cell_type": "code",
      "metadata": {
        "id": "DgQU8rDY-C3T",
        "outputId": "838a58e8-89d3-4863-ba68-2a44ccc70fe2",
        "colab": {
          "base_uri": "https://localhost:8080/"
        }
      },
      "source": [
        "a.strip() == b"
      ],
      "execution_count": 42,
      "outputs": [
        {
          "output_type": "execute_result",
          "data": {
            "text/plain": [
              "True"
            ]
          },
          "metadata": {},
          "execution_count": 42
        }
      ]
    }
  ]
}