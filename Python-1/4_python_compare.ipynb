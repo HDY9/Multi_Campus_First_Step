{
  "nbformat": 4,
  "nbformat_minor": 0,
  "metadata": {
    "colab": {
      "name": "4_python_비교_논리연산자.ipynb",
      "provenance": [],
      "collapsed_sections": []
    },
    "kernelspec": {
      "name": "python3",
      "display_name": "Python 3"
    }
  },
  "cells": [
    {
      "cell_type": "markdown",
      "metadata": {
        "id": "mkSnBW98EIs-"
      },
      "source": [
        "## 1. 비교연산자"
      ]
    },
    {
      "cell_type": "markdown",
      "metadata": {
        "id": "ngUCWVY_EsY0"
      },
      "source": [
        "비교 연산자는 주로 대소비교를 할 때 사용합니다."
      ]
    },
    {
      "cell_type": "markdown",
      "metadata": {
        "id": "HEG6iuONEswX"
      },
      "source": [
        "### 1-1. 대소비교 >, >=, <, <="
      ]
    },
    {
      "cell_type": "code",
      "metadata": {
        "id": "wiLgE47fEs1S",
        "colab": {
          "base_uri": "https://localhost:8080/"
        },
        "outputId": "8b266925-5a4a-45f6-ec2c-d8d101dbd36f"
      },
      "source": [
        "1 > 2"
      ],
      "execution_count": 1,
      "outputs": [
        {
          "output_type": "execute_result",
          "data": {
            "text/plain": [
              "False"
            ]
          },
          "metadata": {},
          "execution_count": 1
        }
      ]
    },
    {
      "cell_type": "code",
      "metadata": {
        "id": "0b6l023CEs5o",
        "colab": {
          "base_uri": "https://localhost:8080/"
        },
        "outputId": "28cae16c-0d34-42bd-d4bf-2db5e0dd0fc8"
      },
      "source": [
        "10 >= 10"
      ],
      "execution_count": 2,
      "outputs": [
        {
          "output_type": "execute_result",
          "data": {
            "text/plain": [
              "True"
            ]
          },
          "metadata": {},
          "execution_count": 2
        }
      ]
    },
    {
      "cell_type": "code",
      "metadata": {
        "id": "3TTqQvmJEs91",
        "colab": {
          "base_uri": "https://localhost:8080/"
        },
        "outputId": "e21002a5-a61d-45cf-82ff-5148b750725a"
      },
      "source": [
        "9 < 10"
      ],
      "execution_count": 3,
      "outputs": [
        {
          "output_type": "execute_result",
          "data": {
            "text/plain": [
              "True"
            ]
          },
          "metadata": {},
          "execution_count": 3
        }
      ]
    },
    {
      "cell_type": "code",
      "metadata": {
        "id": "llirdNcSEtE5",
        "colab": {
          "base_uri": "https://localhost:8080/"
        },
        "outputId": "e7f8ee70-17b4-4341-9102-e4b74fdba301"
      },
      "source": [
        "8 <= 7"
      ],
      "execution_count": 4,
      "outputs": [
        {
          "output_type": "execute_result",
          "data": {
            "text/plain": [
              "False"
            ]
          },
          "metadata": {},
          "execution_count": 4
        }
      ]
    },
    {
      "cell_type": "markdown",
      "metadata": {
        "id": "YnFEo5W4FBQV"
      },
      "source": [
        "### 1-2. 같다 =="
      ]
    },
    {
      "cell_type": "markdown",
      "metadata": {
        "id": "c9JH4zBNFBGf"
      },
      "source": [
        "**=는 대입 연산자** 입니다. 코딩에서는 = 이 대입 연산자로 사용되기 때문에 ==을 사용하고 있습니다."
      ]
    },
    {
      "cell_type": "code",
      "metadata": {
        "id": "g0FqYbH0FPsZ",
        "colab": {
          "base_uri": "https://localhost:8080/",
          "height": 135
        },
        "outputId": "60840721-e06b-480c-fb11-8fffe6ec8f0b"
      },
      "source": [
        "2 = 2"
      ],
      "execution_count": 5,
      "outputs": [
        {
          "output_type": "error",
          "ename": "SyntaxError",
          "evalue": "ignored",
          "traceback": [
            "\u001b[0;36m  File \u001b[0;32m\"<ipython-input-5-a8e553549e25>\"\u001b[0;36m, line \u001b[0;32m1\u001b[0m\n\u001b[0;31m    2 = 2\u001b[0m\n\u001b[0m         ^\u001b[0m\n\u001b[0;31mSyntaxError\u001b[0m\u001b[0;31m:\u001b[0m can't assign to literal\n"
          ]
        }
      ]
    },
    {
      "cell_type": "code",
      "metadata": {
        "id": "lCnEQx-KFA_R"
      },
      "source": [
        "2 == 2"
      ],
      "execution_count": null,
      "outputs": []
    },
    {
      "cell_type": "code",
      "metadata": {
        "id": "uu38fqhwOv_t",
        "outputId": "7e37bb9f-8b52-4c53-b957-ad3bba734dca",
        "colab": {
          "base_uri": "https://localhost:8080/"
        }
      },
      "source": [
        "2 == 3"
      ],
      "execution_count": 6,
      "outputs": [
        {
          "output_type": "execute_result",
          "data": {
            "text/plain": [
              "False"
            ]
          },
          "metadata": {},
          "execution_count": 6
        }
      ]
    },
    {
      "cell_type": "markdown",
      "metadata": {
        "id": "J8S0jzfGFKLz"
      },
      "source": [
        "### 1-3. 같지 않다 !="
      ]
    },
    {
      "cell_type": "code",
      "metadata": {
        "id": "FN2gAfWMFKRy",
        "outputId": "685c0fbc-9212-43ba-bf45-9610718650ee",
        "colab": {
          "base_uri": "https://localhost:8080/"
        }
      },
      "source": [
        "2 != 2"
      ],
      "execution_count": null,
      "outputs": [
        {
          "output_type": "execute_result",
          "data": {
            "text/plain": [
              "False"
            ]
          },
          "metadata": {
            "tags": []
          },
          "execution_count": 3
        }
      ]
    },
    {
      "cell_type": "code",
      "metadata": {
        "id": "FVrNPEq7FKZk",
        "outputId": "7d4aa303-fd5a-4d42-e651-dd8cd0d2330b",
        "colab": {
          "base_uri": "https://localhost:8080/"
        }
      },
      "source": [
        "1 != 2"
      ],
      "execution_count": 7,
      "outputs": [
        {
          "output_type": "execute_result",
          "data": {
            "text/plain": [
              "True"
            ]
          },
          "metadata": {},
          "execution_count": 7
        }
      ]
    },
    {
      "cell_type": "code",
      "metadata": {
        "id": "cjB7v1JiFc78",
        "outputId": "9e82d33f-f026-47c3-ee10-12c8b5f09f97",
        "colab": {
          "base_uri": "https://localhost:8080/"
        }
      },
      "source": [
        "# 문자열이 같으냐?\n",
        "'나' != '너'"
      ],
      "execution_count": 8,
      "outputs": [
        {
          "output_type": "execute_result",
          "data": {
            "text/plain": [
              "True"
            ]
          },
          "metadata": {},
          "execution_count": 8
        }
      ]
    },
    {
      "cell_type": "code",
      "source": [
        "strA = \"Hello\"\n",
        "strB = \"Hello\"\n",
        "strA == strB"
      ],
      "metadata": {
        "colab": {
          "base_uri": "https://localhost:8080/"
        },
        "id": "RwpW5xhpo7Gz",
        "outputId": "bef41c24-e07c-4b1b-9dca-de14404eb19a"
      },
      "execution_count": 9,
      "outputs": [
        {
          "output_type": "execute_result",
          "data": {
            "text/plain": [
              "True"
            ]
          },
          "metadata": {},
          "execution_count": 9
        }
      ]
    },
    {
      "cell_type": "code",
      "metadata": {
        "id": "7b47rVKRFcuZ",
        "outputId": "796a947a-50e2-4733-9d29-1a37f3362faf",
        "colab": {
          "base_uri": "https://localhost:8080/"
        }
      },
      "source": [
        "'나' != '나'"
      ],
      "execution_count": 10,
      "outputs": [
        {
          "output_type": "execute_result",
          "data": {
            "text/plain": [
              "False"
            ]
          },
          "metadata": {},
          "execution_count": 10
        }
      ]
    },
    {
      "cell_type": "markdown",
      "metadata": {
        "id": "nVJ1deTbACiP"
      },
      "source": [
        "## 2. 조건문\n"
      ]
    },
    {
      "cell_type": "markdown",
      "metadata": {
        "id": "DUrQsRomElox"
      },
      "source": [
        "조건문이란 무엇일까요?\n",
        "\n",
        "주어진 조건이 **참**인 경우 그 다음 내가 정한 규칙(로직)을 실행하는 개념입니다."
      ]
    },
    {
      "cell_type": "markdown",
      "metadata": {
        "id": "eyntgHbrAJW2"
      },
      "source": [
        "### 2-1. if"
      ]
    },
    {
      "cell_type": "markdown",
      "metadata": {
        "id": "Nq6CmuoYALrr"
      },
      "source": [
        "if는 어떤 조건이 성립한다면~ 이라는 뜻입니다."
      ]
    },
    {
      "cell_type": "markdown",
      "metadata": {
        "id": "x2CRKxQoAeOR"
      },
      "source": [
        "if 구문 끝에는 반드시 콜론(:)을 잊지 말아 주세요\n",
        "<br>\n",
        "조건문이 참이면 if 안에 있는 코드를 실행한다. <br>\n",
        "\n",
        "if 조건문:"
      ]
    },
    {
      "cell_type": "code",
      "metadata": {
        "id": "tNkI-ROGAPPz",
        "colab": {
          "base_uri": "https://localhost:8080/"
        },
        "outputId": "4eb0ab30-735e-44dd-8e90-ca0a089f9c7c"
      },
      "source": [
        "if 5 > 3:\n",
        "    print('참')"
      ],
      "execution_count": 11,
      "outputs": [
        {
          "output_type": "stream",
          "name": "stdout",
          "text": [
            "참\n"
          ]
        }
      ]
    },
    {
      "cell_type": "code",
      "metadata": {
        "id": "udUZJO19Ngk3",
        "colab": {
          "base_uri": "https://localhost:8080/"
        },
        "outputId": "8a3a3f44-c1d0-47c6-bb83-09743bd97422"
      },
      "source": [
        "if 5 < 3:\n",
        "    print('참')\n",
        "    print('참')\n",
        "    print('참')\n",
        "    print('참')\n",
        "\n",
        "print('끝')"
      ],
      "execution_count": 12,
      "outputs": [
        {
          "output_type": "stream",
          "name": "stdout",
          "text": [
            "끝\n"
          ]
        }
      ]
    },
    {
      "cell_type": "code",
      "metadata": {
        "id": "BIBsVKLRAUus"
      },
      "source": [
        "if 5 < 3:\n",
        "    print('참')"
      ],
      "execution_count": 13,
      "outputs": []
    },
    {
      "cell_type": "code",
      "source": [
        "a = 10 \n",
        "\n",
        "if a < 0:\n",
        "    print('참')"
      ],
      "metadata": {
        "id": "kpzrcjsCfL6H"
      },
      "execution_count": 14,
      "outputs": []
    },
    {
      "cell_type": "markdown",
      "metadata": {
        "id": "hHaWa7DPAXRo"
      },
      "source": [
        ""
      ]
    },
    {
      "cell_type": "markdown",
      "metadata": {
        "id": "vTqQGfv5Ac4a"
      },
      "source": [
        "### 2-2. else"
      ]
    },
    {
      "cell_type": "markdown",
      "metadata": {
        "id": "EzJHdesGAjTQ"
      },
      "source": [
        "else는 if 조건 후에 따라오며, if 가 아닌 경우에 실행 됩니다."
      ]
    },
    {
      "cell_type": "code",
      "metadata": {
        "id": "DsGowvtQAq6B",
        "colab": {
          "base_uri": "https://localhost:8080/"
        },
        "outputId": "c704fbac-25ee-4803-b0a5-db2c71603d50"
      },
      "source": [
        "if 5 < 3:\n",
        "    print('if 구문 실행')\n",
        "else:\n",
        "    print('else 구문 실행')"
      ],
      "execution_count": 15,
      "outputs": [
        {
          "output_type": "stream",
          "name": "stdout",
          "text": [
            "else 구문 실행\n"
          ]
        }
      ]
    },
    {
      "cell_type": "markdown",
      "metadata": {
        "id": "RIHTuYU7DJm2"
      },
      "source": [
        "하지만, else 만 단독으로 실행한다면?"
      ]
    },
    {
      "cell_type": "code",
      "metadata": {
        "id": "9I834w_8DOBx",
        "colab": {
          "base_uri": "https://localhost:8080/",
          "height": 135
        },
        "outputId": "25c68c97-ba67-4de0-f26e-74b5f0e67f1d"
      },
      "source": [
        "else:\n",
        "    print('else 구문 실행')"
      ],
      "execution_count": 16,
      "outputs": [
        {
          "output_type": "error",
          "ename": "SyntaxError",
          "evalue": "ignored",
          "traceback": [
            "\u001b[0;36m  File \u001b[0;32m\"<ipython-input-16-5018a7ac68d5>\"\u001b[0;36m, line \u001b[0;32m1\u001b[0m\n\u001b[0;31m    else:\u001b[0m\n\u001b[0m       ^\u001b[0m\n\u001b[0;31mSyntaxError\u001b[0m\u001b[0;31m:\u001b[0m invalid syntax\n"
          ]
        }
      ]
    },
    {
      "cell_type": "markdown",
      "metadata": {
        "id": "YRckrfc3DSsM"
      },
      "source": [
        "### 2-3. elif"
      ]
    },
    {
      "cell_type": "markdown",
      "metadata": {
        "id": "LS8DofkNDWUS"
      },
      "source": [
        "elif 구문은 3가지 이상 분기 (조건)의 동작을 수행할 때 사용합니다.\n"
      ]
    },
    {
      "cell_type": "code",
      "metadata": {
        "id": "j6-32b6TDeNM",
        "colab": {
          "base_uri": "https://localhost:8080/"
        },
        "outputId": "15470c46-7502-449d-ba5a-9d8ba1e1005d"
      },
      "source": [
        "if 3 > 5:\n",
        "    print('if 구문')\n",
        "elif 3 < 4:\n",
        "    print('elif 구문')\n",
        "else:\n",
        "    print('이것도 저것도 아니다')"
      ],
      "execution_count": 17,
      "outputs": [
        {
          "output_type": "stream",
          "name": "stdout",
          "text": [
            "elif 구문\n"
          ]
        }
      ]
    },
    {
      "cell_type": "markdown",
      "metadata": {
        "id": "kj9j--pEDzum"
      },
      "source": [
        "그럼, **elif 구문이 참인 여러 구문**을 나열 했을 때는 어떻게 될까요?\n",
        "\n",
        "한 번 고민해보고 실행하세요"
      ]
    },
    {
      "cell_type": "code",
      "metadata": {
        "id": "CoA1nNx4DttN",
        "colab": {
          "base_uri": "https://localhost:8080/"
        },
        "outputId": "48b4606b-1470-46db-ceca-768f593e7fae"
      },
      "source": [
        "if 3 > 5:\n",
        "    print('if 구문')\n",
        "elif 3 > 4:\n",
        "    print('elif 1 구문')\n",
        "elif 3 > 5:\n",
        "    print('elif 2 구문')\n",
        "elif 3 < 6:\n",
        "    print('elif 3 구문')\n",
        "else:\n",
        "    print('이것도 저것도 아니다')"
      ],
      "execution_count": 18,
      "outputs": [
        {
          "output_type": "stream",
          "name": "stdout",
          "text": [
            "elif 3 구문\n"
          ]
        }
      ]
    },
    {
      "cell_type": "code",
      "metadata": {
        "id": "o36zVai0D998",
        "colab": {
          "base_uri": "https://localhost:8080/"
        },
        "outputId": "3311b2a9-a8cd-4d77-c5d8-5216a187db20"
      },
      "source": [
        "# money가 1200원 이하이면 걸어가고\n",
        "# money가 1200원 ~ 1500원이 있으면 버스를 타고\n",
        "# money가 3800원 ~ 10000원이 있으면 택시를 타고\n",
        "# money가 10000원 이상이면 모범택시를 탄다\n",
        "money = 20000\n",
        "\n",
        "if money<1200:\n",
        "    print(\"걸어간다\")\n",
        "elif money<=1500:\n",
        "    print(\"버스를탄다\")\n",
        "elif money>=3800 and money<10000:\n",
        "    print(\"택시를탄다\")\n",
        "elif money>10000:\n",
        "    print(\"모범택시를탄다\")\n",
        "else:\n",
        "    print(\"위의조건에 해당사항 없음\")        "
      ],
      "execution_count": 19,
      "outputs": [
        {
          "output_type": "stream",
          "name": "stdout",
          "text": [
            "모범택시를탄다\n"
          ]
        }
      ]
    },
    {
      "cell_type": "code",
      "source": [
        "def rideCar(money):\n",
        "    if money<1200:\n",
        "        print(\"걸어간다\")\n",
        "    elif money<=1500:\n",
        "        print(\"버스를탄다\")\n",
        "    elif money>=3800 and money<10000:\n",
        "        print(\"택시를탄다\")\n",
        "    elif money>10000:\n",
        "        print(\"모범택시를탄다\")\n",
        "    else:\n",
        "        print(\"위의조건에 해당사항 없음\")   "
      ],
      "metadata": {
        "id": "7iJb1SKTraxf"
      },
      "execution_count": 20,
      "outputs": []
    },
    {
      "cell_type": "code",
      "source": [
        "rideCar(20000)"
      ],
      "metadata": {
        "colab": {
          "base_uri": "https://localhost:8080/"
        },
        "id": "lIkQLFH3r1q9",
        "outputId": "8e14bc6a-629e-4866-d1ac-5bae38f54113"
      },
      "execution_count": 21,
      "outputs": [
        {
          "output_type": "stream",
          "name": "stdout",
          "text": [
            "모범택시를탄다\n"
          ]
        }
      ]
    },
    {
      "cell_type": "markdown",
      "metadata": {
        "id": "IH3OU9JEGL2C"
      },
      "source": [
        "### 2-4. 1 이나 0은 참 이나 거짓을 표현하기도 합니다."
      ]
    },
    {
      "cell_type": "code",
      "metadata": {
        "id": "QvLPbzLSGLqz",
        "colab": {
          "base_uri": "https://localhost:8080/"
        },
        "outputId": "7a9362eb-d873-4530-cfc5-209d34d7e9d1"
      },
      "source": [
        "if 1:\n",
        "    print('참')\n",
        "else:\n",
        "    print('거짓')"
      ],
      "execution_count": 22,
      "outputs": [
        {
          "output_type": "stream",
          "name": "stdout",
          "text": [
            "참\n"
          ]
        }
      ]
    },
    {
      "cell_type": "code",
      "metadata": {
        "id": "nZaec2FMGV36",
        "colab": {
          "base_uri": "https://localhost:8080/"
        },
        "outputId": "06a89a5c-b8e2-4f9e-b593-4980439c125b"
      },
      "source": [
        "if 0:\n",
        "    print('참')\n",
        "else:\n",
        "    print('거짓')"
      ],
      "execution_count": 23,
      "outputs": [
        {
          "output_type": "stream",
          "name": "stdout",
          "text": [
            "거짓\n"
          ]
        }
      ]
    },
    {
      "cell_type": "markdown",
      "metadata": {
        "id": "UkBFrQ99EIlN"
      },
      "source": [
        "## 3. 논리 연산자 (and, or)"
      ]
    },
    {
      "cell_type": "markdown",
      "metadata": {
        "id": "JArIvFX7F4xv"
      },
      "source": [
        "**and**나 **or** 조건은 두 가지 이상 조건을 다룰 때 활용합니다."
      ]
    },
    {
      "cell_type": "markdown",
      "metadata": {
        "id": "1r39VMGsF_e4"
      },
      "source": [
        "### 3-1. and "
      ]
    },
    {
      "cell_type": "markdown",
      "metadata": {
        "id": "Rpmwyz4UGbHf"
      },
      "source": [
        "and 조건은 **모두 만족**할 때 참으로 인식합니다."
      ]
    },
    {
      "cell_type": "code",
      "metadata": {
        "id": "BMup-Y9VGGts",
        "colab": {
          "base_uri": "https://localhost:8080/"
        },
        "outputId": "667d4914-00f2-4e07-9c74-f09b0799fe36"
      },
      "source": [
        "True and True and True"
      ],
      "execution_count": 24,
      "outputs": [
        {
          "output_type": "execute_result",
          "data": {
            "text/plain": [
              "True"
            ]
          },
          "metadata": {},
          "execution_count": 24
        }
      ]
    },
    {
      "cell_type": "code",
      "metadata": {
        "id": "SVDUfdmLGIXm",
        "colab": {
          "base_uri": "https://localhost:8080/"
        },
        "outputId": "3d6aba39-d965-416f-9e8e-0351b8e564a8"
      },
      "source": [
        "True and False and True"
      ],
      "execution_count": 25,
      "outputs": [
        {
          "output_type": "execute_result",
          "data": {
            "text/plain": [
              "False"
            ]
          },
          "metadata": {},
          "execution_count": 25
        }
      ]
    },
    {
      "cell_type": "code",
      "metadata": {
        "id": "1ZjfDRh3GJwz",
        "colab": {
          "base_uri": "https://localhost:8080/"
        },
        "outputId": "059ba14c-aec1-4b74-c260-23c934e29e6f"
      },
      "source": [
        "if (0 < 1) and (0 < 2):\n",
        "    print('모두 참')\n",
        "else:\n",
        "    print('거짓')"
      ],
      "execution_count": 26,
      "outputs": [
        {
          "output_type": "stream",
          "name": "stdout",
          "text": [
            "모두 참\n"
          ]
        }
      ]
    },
    {
      "cell_type": "code",
      "metadata": {
        "id": "cuHoVgi5GvVy",
        "colab": {
          "base_uri": "https://localhost:8080/"
        },
        "outputId": "969d2033-2bba-4c1d-836f-dccd8f6942da"
      },
      "source": [
        "if (0 < 1) and (0 > 2):\n",
        "    print('모두 참')\n",
        "else:\n",
        "    print('허참')"
      ],
      "execution_count": 27,
      "outputs": [
        {
          "output_type": "stream",
          "name": "stdout",
          "text": [
            "허참\n"
          ]
        }
      ]
    },
    {
      "cell_type": "code",
      "source": [
        "a = 3\n",
        "b = 7 \n",
        "\n",
        "if a > b: \n",
        "    c = a/b\n",
        "\n",
        "else: \n",
        "    c = b/a\n",
        "\n",
        "print(c)"
      ],
      "metadata": {
        "colab": {
          "base_uri": "https://localhost:8080/"
        },
        "id": "y5GzQMSJfrV7",
        "outputId": "fdba1672-4dbf-4677-f3e7-f56234c7d367"
      },
      "execution_count": 28,
      "outputs": [
        {
          "output_type": "stream",
          "name": "stdout",
          "text": [
            "2.3333333333333335\n"
          ]
        }
      ]
    },
    {
      "cell_type": "code",
      "source": [
        "a = 9\n",
        "b = 7 \n",
        "c = 0\n",
        "\n",
        "if a > b and c> 0:  \n",
        "    c = a/b\n",
        "\n",
        "else: \n",
        "    c = b/a\n",
        "\n",
        "print(c)"
      ],
      "metadata": {
        "colab": {
          "base_uri": "https://localhost:8080/"
        },
        "id": "Yg7FGR3yf4EB",
        "outputId": "28828e4c-6427-4afe-9082-623a63c36099"
      },
      "execution_count": 31,
      "outputs": [
        {
          "output_type": "stream",
          "name": "stdout",
          "text": [
            "0.7777777777777778\n"
          ]
        }
      ]
    },
    {
      "cell_type": "markdown",
      "metadata": {
        "id": "LpFTEajiGxRN"
      },
      "source": [
        "### 3-2. or"
      ]
    },
    {
      "cell_type": "markdown",
      "metadata": {
        "id": "m9CzrDMhG1SM"
      },
      "source": [
        "or 조건은 조건 중 **하나라도 만족**할 때 참으로 인식합니다."
      ]
    },
    {
      "cell_type": "code",
      "metadata": {
        "id": "kQnJHHiHG7MI",
        "colab": {
          "base_uri": "https://localhost:8080/"
        },
        "outputId": "60c1fb20-b01c-4243-907b-d4e29a684c25"
      },
      "source": [
        "True or False or False"
      ],
      "execution_count": 32,
      "outputs": [
        {
          "output_type": "execute_result",
          "data": {
            "text/plain": [
              "True"
            ]
          },
          "metadata": {},
          "execution_count": 32
        }
      ]
    },
    {
      "cell_type": "code",
      "metadata": {
        "id": "jEH3pQIDG9ls"
      },
      "source": [
        "False or False or False"
      ],
      "execution_count": null,
      "outputs": []
    },
    {
      "cell_type": "code",
      "metadata": {
        "id": "pCiPRf0FHBhx",
        "colab": {
          "base_uri": "https://localhost:8080/"
        },
        "outputId": "da4da7d7-0e52-4a6f-f3c6-c055448aabe5"
      },
      "source": [
        "if (0 < 1) or ( 1 < 0):\n",
        "    print('하나라도 참')\n",
        "else:\n",
        "    print('허참')"
      ],
      "execution_count": 33,
      "outputs": [
        {
          "output_type": "stream",
          "name": "stdout",
          "text": [
            "하나라도 참\n"
          ]
        }
      ]
    },
    {
      "cell_type": "code",
      "metadata": {
        "id": "IXQSEQYjHKRz",
        "colab": {
          "base_uri": "https://localhost:8080/"
        },
        "outputId": "f1e4a30c-bdb2-402e-fc10-cf5c02d303ee"
      },
      "source": [
        "if (10 < 1) or ( 1 < 0):\n",
        "    print('하나라도 참')\n",
        "else:\n",
        "    print('허참')"
      ],
      "execution_count": 34,
      "outputs": [
        {
          "output_type": "stream",
          "name": "stdout",
          "text": [
            "허참\n"
          ]
        }
      ]
    }
  ]
}