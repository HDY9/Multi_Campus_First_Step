{
  "nbformat": 4,
  "nbformat_minor": 0,
  "metadata": {
    "colab": {
      "name": "2_python연산자.ipynb",
      "provenance": [],
      "collapsed_sections": []
    },
    "kernelspec": {
      "name": "python3",
      "display_name": "Python 3"
    }
  },
  "cells": [
    {
      "cell_type": "markdown",
      "metadata": {
        "id": "xRX1SSoskTdo"
      },
      "source": [
        "## 1. 사칙연산 (+, -, /, *)"
      ]
    },
    {
      "cell_type": "markdown",
      "metadata": {
        "id": "EFebGxnjkXwr"
      },
      "source": [
        "* 더하기 (+)\n",
        "* 빼기 (-)\n",
        "* 나누기 (/)\n",
        "* 곱하기 (*)"
      ]
    },
    {
      "cell_type": "code",
      "metadata": {
        "id": "Ks6gjRfkkt9I"
      },
      "source": [
        "a = 10\n",
        "b = 3"
      ],
      "execution_count": 1,
      "outputs": []
    },
    {
      "cell_type": "markdown",
      "metadata": {
        "id": "8DshdUKZkoeX"
      },
      "source": [
        "### 더하기"
      ]
    },
    {
      "cell_type": "code",
      "metadata": {
        "id": "GRJdclDnkl0v",
        "colab": {
          "base_uri": "https://localhost:8080/"
        },
        "outputId": "6eb301d1-9c2b-4f10-f7b5-4141d985a081"
      },
      "source": [
        "a + b"
      ],
      "execution_count": 2,
      "outputs": [
        {
          "output_type": "execute_result",
          "data": {
            "text/plain": [
              "13"
            ]
          },
          "metadata": {},
          "execution_count": 2
        }
      ]
    },
    {
      "cell_type": "code",
      "metadata": {
        "id": "M3NXutOf2k9O",
        "colab": {
          "base_uri": "https://localhost:8080/"
        },
        "outputId": "1bbff0c0-2b3d-41bc-a604-0507ea70ca85"
      },
      "source": [
        "10 + 234"
      ],
      "execution_count": 3,
      "outputs": [
        {
          "output_type": "execute_result",
          "data": {
            "text/plain": [
              "244"
            ]
          },
          "metadata": {},
          "execution_count": 3
        }
      ]
    },
    {
      "cell_type": "markdown",
      "metadata": {
        "id": "iZVY_FHJknXf"
      },
      "source": [
        "### 빼기"
      ]
    },
    {
      "cell_type": "code",
      "metadata": {
        "id": "fZtYiLERkrr0",
        "colab": {
          "base_uri": "https://localhost:8080/"
        },
        "outputId": "894c5c0e-fb05-43d9-f5da-eeebb4ed6469"
      },
      "source": [
        "a - b"
      ],
      "execution_count": 4,
      "outputs": [
        {
          "output_type": "execute_result",
          "data": {
            "text/plain": [
              "7"
            ]
          },
          "metadata": {},
          "execution_count": 4
        }
      ]
    },
    {
      "cell_type": "markdown",
      "metadata": {
        "id": "Ofd8aJrXk0c5"
      },
      "source": [
        "### 나누기"
      ]
    },
    {
      "cell_type": "code",
      "metadata": {
        "id": "2a24yJmtk2Ha",
        "colab": {
          "base_uri": "https://localhost:8080/"
        },
        "outputId": "5e7ed58c-c02a-4bcc-aace-53de8663eabc"
      },
      "source": [
        "# '/'는 결과값이 실수\n",
        "a / b"
      ],
      "execution_count": 5,
      "outputs": [
        {
          "output_type": "execute_result",
          "data": {
            "text/plain": [
              "3.3333333333333335"
            ]
          },
          "metadata": {},
          "execution_count": 5
        }
      ]
    },
    {
      "cell_type": "code",
      "source": [
        "c = a / b\n",
        "type(c)"
      ],
      "metadata": {
        "colab": {
          "base_uri": "https://localhost:8080/"
        },
        "id": "RuF3qXVYZNbr",
        "outputId": "40fb549d-4f5c-4a76-8fc0-b27f08eaa330"
      },
      "execution_count": 9,
      "outputs": [
        {
          "output_type": "execute_result",
          "data": {
            "text/plain": [
              "float"
            ]
          },
          "metadata": {},
          "execution_count": 9
        }
      ]
    },
    {
      "cell_type": "code",
      "metadata": {
        "colab": {
          "base_uri": "https://localhost:8080/"
        },
        "id": "ir29AyRGOquh",
        "outputId": "dd215db4-1b00-4075-b58a-af6d9d8b6489"
      },
      "source": [
        "# '//'는 결과값이 정수\n",
        "a//b"
      ],
      "execution_count": 6,
      "outputs": [
        {
          "output_type": "execute_result",
          "data": {
            "text/plain": [
              "3"
            ]
          },
          "metadata": {},
          "execution_count": 6
        }
      ]
    },
    {
      "cell_type": "code",
      "source": [
        "c = a//b\n",
        "type(c)"
      ],
      "metadata": {
        "colab": {
          "base_uri": "https://localhost:8080/"
        },
        "id": "n4t_9h2pZSml",
        "outputId": "1ec04b80-c3cc-413e-d167-b39e3e0dc83e"
      },
      "execution_count": 10,
      "outputs": [
        {
          "output_type": "execute_result",
          "data": {
            "text/plain": [
              "int"
            ]
          },
          "metadata": {},
          "execution_count": 10
        }
      ]
    },
    {
      "cell_type": "markdown",
      "metadata": {
        "id": "EZP9onY-k2vf"
      },
      "source": [
        "### 곱하기"
      ]
    },
    {
      "cell_type": "code",
      "metadata": {
        "id": "MhOHnVNVk4iu",
        "colab": {
          "base_uri": "https://localhost:8080/"
        },
        "outputId": "2e057264-262b-4781-fef3-b110e3afd47c"
      },
      "source": [
        "a * b"
      ],
      "execution_count": 11,
      "outputs": [
        {
          "output_type": "execute_result",
          "data": {
            "text/plain": [
              "30"
            ]
          },
          "metadata": {},
          "execution_count": 11
        }
      ]
    },
    {
      "cell_type": "markdown",
      "metadata": {
        "id": "6lkBwXXRk8Rn"
      },
      "source": [
        "## 2. 추가적인 연산자 (%, //, **)"
      ]
    },
    {
      "cell_type": "markdown",
      "metadata": {
        "id": "cAmmwPb0lPD8"
      },
      "source": [
        "* %: 몫을 나눈 나머지를 구함\n",
        "* //: 나눗셈에 대한 몫을 정수형으로 구함\n",
        "* **: 제곱 연산"
      ]
    },
    {
      "cell_type": "code",
      "metadata": {
        "id": "WEGcqu2XljuA"
      },
      "source": [
        "a = 10\n",
        "b = 3"
      ],
      "execution_count": 7,
      "outputs": []
    },
    {
      "cell_type": "markdown",
      "metadata": {
        "id": "0XTyKP1Vl50Q"
      },
      "source": [
        "### %: 몫을 나눈 나머지"
      ]
    },
    {
      "cell_type": "code",
      "metadata": {
        "id": "woV-i1v5lrcP",
        "colab": {
          "base_uri": "https://localhost:8080/"
        },
        "outputId": "54f600a1-e1fd-41a5-a2ac-60ac4ba07590"
      },
      "source": [
        "# 정수 나눗셈의 경우, 나머지가 발생하는데\n",
        "# 나머지값은 '%'로 사용\n",
        "c = a % b\n",
        "c"
      ],
      "execution_count": 8,
      "outputs": [
        {
          "output_type": "execute_result",
          "data": {
            "text/plain": [
              "1"
            ]
          },
          "metadata": {},
          "execution_count": 8
        }
      ]
    },
    {
      "cell_type": "markdown",
      "metadata": {
        "id": "f3JdzEiFluWK"
      },
      "source": [
        "### //: 나눗셈에 대한 몫을 정수형으로 구함"
      ]
    },
    {
      "cell_type": "code",
      "metadata": {
        "id": "r3dQQsz-3E0Y",
        "colab": {
          "base_uri": "https://localhost:8080/"
        },
        "outputId": "9917c03f-a5c2-431f-93e7-38cfb56c22d6"
      },
      "source": [
        "a / b"
      ],
      "execution_count": 12,
      "outputs": [
        {
          "output_type": "execute_result",
          "data": {
            "text/plain": [
              "3.3333333333333335"
            ]
          },
          "metadata": {},
          "execution_count": 12
        }
      ]
    },
    {
      "cell_type": "code",
      "metadata": {
        "id": "KmmZxa_6mBWs",
        "colab": {
          "base_uri": "https://localhost:8080/"
        },
        "outputId": "bcdde19e-8e13-4077-f941-775bd4f4f8da"
      },
      "source": [
        "a // b"
      ],
      "execution_count": 13,
      "outputs": [
        {
          "output_type": "execute_result",
          "data": {
            "text/plain": [
              "3"
            ]
          },
          "metadata": {},
          "execution_count": 13
        }
      ]
    },
    {
      "cell_type": "markdown",
      "metadata": {
        "id": "kgsdhcm6mCe2"
      },
      "source": [
        "### ** 제곱 연산"
      ]
    },
    {
      "cell_type": "code",
      "source": [
        "a = 10\n",
        "b = 3"
      ],
      "metadata": {
        "id": "TKuTH21eZ0bo"
      },
      "execution_count": 15,
      "outputs": []
    },
    {
      "cell_type": "code",
      "metadata": {
        "id": "PI2Cb9V_mFvG",
        "colab": {
          "base_uri": "https://localhost:8080/"
        },
        "outputId": "edebf062-bfc2-4314-e830-b14c8b55f6e0"
      },
      "source": [
        "# 10의 3제곱\n",
        "a ** b"
      ],
      "execution_count": 16,
      "outputs": [
        {
          "output_type": "execute_result",
          "data": {
            "text/plain": [
              "1000"
            ]
          },
          "metadata": {},
          "execution_count": 16
        }
      ]
    },
    {
      "cell_type": "code",
      "metadata": {
        "id": "AkltfELfmGwJ",
        "colab": {
          "base_uri": "https://localhost:8080/"
        },
        "outputId": "b35d6768-8342-4f42-fa44-96656ebf6184"
      },
      "source": [
        "10 ** 2"
      ],
      "execution_count": 17,
      "outputs": [
        {
          "output_type": "execute_result",
          "data": {
            "text/plain": [
              "100"
            ]
          },
          "metadata": {},
          "execution_count": 17
        }
      ]
    },
    {
      "cell_type": "markdown",
      "metadata": {
        "id": "vxr0cihmmIgB"
      },
      "source": [
        "## 3. *, /을 우선 계산, ()의 활용"
      ]
    },
    {
      "cell_type": "code",
      "metadata": {
        "id": "uHDJHp7Vmflc",
        "colab": {
          "base_uri": "https://localhost:8080/"
        },
        "outputId": "d0a6b154-2913-423d-845c-e9948367a0e0"
      },
      "source": [
        "# 연산자 우선순위\n",
        "10 + 2 * 5"
      ],
      "execution_count": 18,
      "outputs": [
        {
          "output_type": "execute_result",
          "data": {
            "text/plain": [
              "20"
            ]
          },
          "metadata": {},
          "execution_count": 18
        }
      ]
    },
    {
      "cell_type": "code",
      "metadata": {
        "id": "XkFs622Ymqwq",
        "colab": {
          "base_uri": "https://localhost:8080/"
        },
        "outputId": "f561dae1-7f7c-49f8-a12d-f499ceff6912"
      },
      "source": [
        "(10 + 2) * 5"
      ],
      "execution_count": 19,
      "outputs": [
        {
          "output_type": "execute_result",
          "data": {
            "text/plain": [
              "60"
            ]
          },
          "metadata": {},
          "execution_count": 19
        }
      ]
    },
    {
      "cell_type": "markdown",
      "metadata": {
        "id": "pgWCFHDZN68u"
      },
      "source": [
        "## 4. 문자열의 연산"
      ]
    },
    {
      "cell_type": "code",
      "metadata": {
        "id": "dXQrylKrN7qD"
      },
      "source": [
        "# 파이썬에서는 문자열 연산이 가능하다\n",
        "a = 'Hello '\n",
        "b = 'World!'"
      ],
      "execution_count": 20,
      "outputs": []
    },
    {
      "cell_type": "code",
      "metadata": {
        "id": "ybm6Kk9OOAhH",
        "colab": {
          "base_uri": "https://localhost:8080/",
          "height": 35
        },
        "outputId": "b85f8b16-3e05-4bd1-f712-c215ab91f1ee"
      },
      "source": [
        "a + b"
      ],
      "execution_count": 21,
      "outputs": [
        {
          "output_type": "execute_result",
          "data": {
            "text/plain": [
              "'Hello World!'"
            ],
            "application/vnd.google.colaboratory.intrinsic+json": {
              "type": "string"
            }
          },
          "metadata": {},
          "execution_count": 21
        }
      ]
    },
    {
      "cell_type": "code",
      "metadata": {
        "id": "7AWUeTpCO8Rv",
        "colab": {
          "base_uri": "https://localhost:8080/"
        },
        "outputId": "15331ec3-8e28-4c2e-cf1b-b6e7f5147ff9"
      },
      "source": [
        "# 하나의 문자열을 여러번 곱셈하는것은 가능\n",
        "print(a*3)"
      ],
      "execution_count": 22,
      "outputs": [
        {
          "output_type": "stream",
          "name": "stdout",
          "text": [
            "Hello Hello Hello \n"
          ]
        }
      ]
    },
    {
      "cell_type": "code",
      "metadata": {
        "id": "Hesb2VIVOBpM",
        "colab": {
          "base_uri": "https://localhost:8080/",
          "height": 189
        },
        "outputId": "bc5e68fa-bb22-4550-fcdf-a7598b085506"
      },
      "source": [
        "# 문자열은 빼기 연산자는 활용X\n",
        "a - b"
      ],
      "execution_count": 23,
      "outputs": [
        {
          "output_type": "error",
          "ename": "TypeError",
          "evalue": "ignored",
          "traceback": [
            "\u001b[0;31m---------------------------------------------------------------------------\u001b[0m",
            "\u001b[0;31mTypeError\u001b[0m                                 Traceback (most recent call last)",
            "\u001b[0;32m<ipython-input-23-af1d68fbdcfc>\u001b[0m in \u001b[0;36m<module>\u001b[0;34m()\u001b[0m\n\u001b[1;32m      1\u001b[0m \u001b[0;31m# 문자열은 빼기 연산자는 활용X\u001b[0m\u001b[0;34m\u001b[0m\u001b[0;34m\u001b[0m\u001b[0;34m\u001b[0m\u001b[0m\n\u001b[0;32m----> 2\u001b[0;31m \u001b[0ma\u001b[0m \u001b[0;34m-\u001b[0m \u001b[0mb\u001b[0m\u001b[0;34m\u001b[0m\u001b[0;34m\u001b[0m\u001b[0m\n\u001b[0m",
            "\u001b[0;31mTypeError\u001b[0m: unsupported operand type(s) for -: 'str' and 'str'"
          ]
        }
      ]
    },
    {
      "cell_type": "code",
      "metadata": {
        "id": "NsyNzg4nOEIC",
        "colab": {
          "base_uri": "https://localhost:8080/",
          "height": 189
        },
        "outputId": "a229f77f-1407-47f2-ad95-7fe5e6d41ef3"
      },
      "source": [
        "# 문자열 대 문자열 연산은 * 안됨\n",
        "a * b"
      ],
      "execution_count": 24,
      "outputs": [
        {
          "output_type": "error",
          "ename": "TypeError",
          "evalue": "ignored",
          "traceback": [
            "\u001b[0;31m---------------------------------------------------------------------------\u001b[0m",
            "\u001b[0;31mTypeError\u001b[0m                                 Traceback (most recent call last)",
            "\u001b[0;32m<ipython-input-24-c114f54daaba>\u001b[0m in \u001b[0;36m<module>\u001b[0;34m()\u001b[0m\n\u001b[1;32m      1\u001b[0m \u001b[0;31m# 문자열 대 문자열 연산은 * 안됨\u001b[0m\u001b[0;34m\u001b[0m\u001b[0;34m\u001b[0m\u001b[0;34m\u001b[0m\u001b[0m\n\u001b[0;32m----> 2\u001b[0;31m \u001b[0ma\u001b[0m \u001b[0;34m*\u001b[0m \u001b[0mb\u001b[0m\u001b[0;34m\u001b[0m\u001b[0;34m\u001b[0m\u001b[0m\n\u001b[0m",
            "\u001b[0;31mTypeError\u001b[0m: can't multiply sequence by non-int of type 'str'"
          ]
        }
      ]
    },
    {
      "cell_type": "code",
      "metadata": {
        "id": "mtfQZmoWOGQj",
        "colab": {
          "base_uri": "https://localhost:8080/",
          "height": 189
        },
        "outputId": "3e6d996c-b36f-4f7f-d791-1f97ddb3aa1d"
      },
      "source": [
        "# 문자열 대 문자열 연산은 / 안됨\n",
        "a / b"
      ],
      "execution_count": 25,
      "outputs": [
        {
          "output_type": "error",
          "ename": "TypeError",
          "evalue": "ignored",
          "traceback": [
            "\u001b[0;31m---------------------------------------------------------------------------\u001b[0m",
            "\u001b[0;31mTypeError\u001b[0m                                 Traceback (most recent call last)",
            "\u001b[0;32m<ipython-input-25-17ec276db6a0>\u001b[0m in \u001b[0;36m<module>\u001b[0;34m()\u001b[0m\n\u001b[1;32m      1\u001b[0m \u001b[0;31m# 문자열 대 문자열 연산은 / 안됨\u001b[0m\u001b[0;34m\u001b[0m\u001b[0;34m\u001b[0m\u001b[0;34m\u001b[0m\u001b[0m\n\u001b[0;32m----> 2\u001b[0;31m \u001b[0ma\u001b[0m \u001b[0;34m/\u001b[0m \u001b[0mb\u001b[0m\u001b[0;34m\u001b[0m\u001b[0;34m\u001b[0m\u001b[0m\n\u001b[0m",
            "\u001b[0;31mTypeError\u001b[0m: unsupported operand type(s) for /: 'str' and 'str'"
          ]
        }
      ]
    },
    {
      "cell_type": "markdown",
      "metadata": {
        "id": "FEUujjHMOHaF"
      },
      "source": [
        "### 5-1. 다음과 같은 경우는 어떻게 될까요?"
      ]
    },
    {
      "cell_type": "code",
      "metadata": {
        "id": "4RjDCe4KONdI"
      },
      "source": [
        "a = '10'\n",
        "b = '20'"
      ],
      "execution_count": 26,
      "outputs": []
    },
    {
      "cell_type": "code",
      "metadata": {
        "id": "uTBZ7-FlORDW",
        "colab": {
          "base_uri": "https://localhost:8080/",
          "height": 35
        },
        "outputId": "688a22f8-26e3-4bb4-a325-05003aaf75f1"
      },
      "source": [
        "a + b"
      ],
      "execution_count": 27,
      "outputs": [
        {
          "output_type": "execute_result",
          "data": {
            "text/plain": [
              "'1020'"
            ],
            "application/vnd.google.colaboratory.intrinsic+json": {
              "type": "string"
            }
          },
          "metadata": {},
          "execution_count": 27
        }
      ]
    }
  ]
}