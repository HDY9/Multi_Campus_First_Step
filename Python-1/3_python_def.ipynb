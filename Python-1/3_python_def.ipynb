{
  "nbformat": 4,
  "nbformat_minor": 0,
  "metadata": {
    "colab": {
      "name": "3_python_주석과들여쓰기_함수.ipynb",
      "provenance": [],
      "collapsed_sections": []
    },
    "kernelspec": {
      "name": "python3",
      "display_name": "Python 3"
    }
  },
  "cells": [
    {
      "cell_type": "markdown",
      "metadata": {
        "id": "4_PsJAIhA8rM"
      },
      "source": [
        "#1. 주석"
      ]
    },
    {
      "cell_type": "markdown",
      "source": [
        "'' \"\""
      ],
      "metadata": {
        "id": "VFJ-608TiduQ"
      }
    },
    {
      "cell_type": "code",
      "source": [
        "print('\"test\"')\n",
        "print(\"I'm a boy.\")"
      ],
      "metadata": {
        "colab": {
          "base_uri": "https://localhost:8080/"
        },
        "id": "lQiOiyLeii_a",
        "outputId": "730f972b-fc13-4324-ff3d-95141e20d98d"
      },
      "execution_count": 1,
      "outputs": [
        {
          "output_type": "stream",
          "name": "stdout",
          "text": [
            "\"test\"\n",
            "I'm a boy.\n"
          ]
        }
      ]
    },
    {
      "cell_type": "markdown",
      "metadata": {
        "id": "05GwQrZsPkRu"
      },
      "source": [
        "# 1-1 서브"
      ]
    },
    {
      "cell_type": "markdown",
      "metadata": {
        "id": "CZsnlpYlBJ8z"
      },
      "source": [
        "# '#' 뒤에 한칸 띄어 코멘트를 넣어줍니다.\n",
        "\n",
        "\n",
        "\n",
        "\n"
      ]
    },
    {
      "cell_type": "code",
      "metadata": {
        "id": "ovRN-UGdBG29",
        "colab": {
          "base_uri": "https://localhost:8080/"
        },
        "outputId": "c196a68a-fec9-48a9-fb7b-ffb118739e39"
      },
      "source": [
        "# 코멘트를 달아줍니다.\n",
        "a = 3\n",
        "b = 4\n",
        "\n",
        "# a + b 연산을 수행 합니다\n",
        "print(a + b)"
      ],
      "execution_count": 2,
      "outputs": [
        {
          "output_type": "stream",
          "name": "stdout",
          "text": [
            "7\n"
          ]
        }
      ]
    },
    {
      "cell_type": "markdown",
      "metadata": {
        "id": "y77PEp5xBU-R"
      },
      "source": [
        "## 2. indent"
      ]
    },
    {
      "cell_type": "markdown",
      "metadata": {
        "id": "ImrpMfwMBYy1"
      },
      "source": [
        "indent(들여쓰기)는 파이썬에서 굉장히 중요합니다.\n",
        "\n",
        "단순히, 코드를 깔끔히 정리하기 위해서 들여쓰기를 하는 것은 아닙니다."
      ]
    },
    {
      "cell_type": "markdown",
      "metadata": {
        "id": "T4eoKQIuBw9q"
      },
      "source": [
        "* 본인이 맞게 코드를 짰다고 한다면, indent는 colab에서 자동으로 해줄 것입니다.\n",
        "* [tab]키를 한 번 누르면 indent가 1번 한 효과입니다."
      ]
    },
    {
      "cell_type": "markdown",
      "metadata": {
        "id": "W2Xy1do1B2nh"
      },
      "source": [
        "**indent 옵션**을 space * 4 개로 바꿔봅시다"
      ]
    },
    {
      "cell_type": "markdown",
      "metadata": {
        "id": "SP_jwt-YB-2O"
      },
      "source": [
        "**[우측상단 톱니바퀴] - 편집기 - 들여쓰기 - 4 로 바꿔봅시다**"
      ]
    },
    {
      "cell_type": "markdown",
      "metadata": {
        "id": "SQznenyqBirw"
      },
      "source": [
        "### 2-1. 콜론(:) 다음에 반드시 들여쓰기를 부여합니다."
      ]
    },
    {
      "cell_type": "code",
      "metadata": {
        "id": "WRojM7iFBsbN"
      },
      "source": [
        "# 함수의 본문은 들여쓰기를 한번 적용합니다.\n",
        "def my_func():\n",
        "    print('indent가 자동으로 되나요?')"
      ],
      "execution_count": 3,
      "outputs": []
    },
    {
      "cell_type": "code",
      "source": [
        "# 함수 간단하게 만들어 보기\n",
        "def add_func(a, b):\n",
        "    result = a+b\n",
        "    return result\n",
        "\n",
        "\n",
        "a = 10\n",
        "b = 20\n",
        "\n",
        "# 덧셈 함수를 만들어서 활용하자\n",
        "c = add_func(a,b)\n",
        "c"
      ],
      "metadata": {
        "colab": {
          "base_uri": "https://localhost:8080/"
        },
        "id": "aphZoTAXcxp1",
        "outputId": "ef2dacb1-f45f-4bd7-f6ec-a1b3f6202a81"
      },
      "execution_count": 4,
      "outputs": [
        {
          "output_type": "execute_result",
          "data": {
            "text/plain": [
              "30"
            ]
          },
          "metadata": {},
          "execution_count": 4
        }
      ]
    },
    {
      "cell_type": "markdown",
      "metadata": {
        "id": "s1PPG6ciCUHG"
      },
      "source": [
        "### 2-2. 들여쓰기가 잘못될 경우 에러가 발생합니다"
      ]
    },
    {
      "cell_type": "code",
      "metadata": {
        "id": "u8kcH6UBCQwC",
        "colab": {
          "base_uri": "https://localhost:8080/",
          "height": 135
        },
        "outputId": "417b0b19-b6da-4e7a-d024-433b818968d5"
      },
      "source": [
        "a = 3\n",
        "    b = 4"
      ],
      "execution_count": 5,
      "outputs": [
        {
          "output_type": "error",
          "ename": "IndentationError",
          "evalue": "ignored",
          "traceback": [
            "\u001b[0;36m  File \u001b[0;32m\"<ipython-input-5-a09cf6cf6487>\"\u001b[0;36m, line \u001b[0;32m2\u001b[0m\n\u001b[0;31m    b = 4\u001b[0m\n\u001b[0m    ^\u001b[0m\n\u001b[0;31mIndentationError\u001b[0m\u001b[0;31m:\u001b[0m unexpected indent\n"
          ]
        }
      ]
    },
    {
      "cell_type": "markdown",
      "metadata": {
        "id": "8zTsAmYWqBNY"
      },
      "source": [
        "## 3. 함수란 무엇일까요?"
      ]
    },
    {
      "cell_type": "markdown",
      "metadata": {
        "id": "tbJqSUrbqEOh"
      },
      "source": [
        "\n",
        "반복적으로 사용되는 부분을 묶어서,  \n",
        "코드를 **재사용 가능**하도록 만들어 주는 코드 집합\n",
        "함수에는 **input**이 있고,  \n",
        "**output(return)**이 있습니다.  \n",
        "정해진 로직(규칙)에 따라, input -> output으로 효율적으로 바꿔주는 역할을 합니다"
      ]
    },
    {
      "cell_type": "code",
      "metadata": {
        "id": "DDJoGqm8qBz3"
      },
      "source": [
        "a = 1\n",
        "b = 2\n",
        "c = 3"
      ],
      "execution_count": 6,
      "outputs": []
    },
    {
      "cell_type": "code",
      "metadata": {
        "id": "5IE8wMKrqSbD",
        "colab": {
          "base_uri": "https://localhost:8080/"
        },
        "outputId": "f8c155a4-9096-4053-8907-3904b48df84f"
      },
      "source": [
        "(a + b) * c"
      ],
      "execution_count": 7,
      "outputs": [
        {
          "output_type": "execute_result",
          "data": {
            "text/plain": [
              "9"
            ]
          },
          "metadata": {},
          "execution_count": 7
        }
      ]
    },
    {
      "cell_type": "code",
      "metadata": {
        "id": "f9kitt9VqUAh"
      },
      "source": [
        "# 입력값은 보통 인자값(argument, arg)\n",
        "# 입력 인자값은 3개, 리턴값은 1개\n",
        "def calc(a, b, c):\n",
        "    return (a + b) * c"
      ],
      "execution_count": 8,
      "outputs": []
    },
    {
      "cell_type": "code",
      "metadata": {
        "id": "voEbemT3qVW3",
        "colab": {
          "base_uri": "https://localhost:8080/"
        },
        "outputId": "79ae42aa-d1ec-4da9-c75f-1f74e585a08c"
      },
      "source": [
        "calc(1, 2, 3)"
      ],
      "execution_count": 9,
      "outputs": [
        {
          "output_type": "execute_result",
          "data": {
            "text/plain": [
              "9"
            ]
          },
          "metadata": {},
          "execution_count": 9
        }
      ]
    },
    {
      "cell_type": "code",
      "metadata": {
        "id": "3Suzc7_DqWs9",
        "colab": {
          "base_uri": "https://localhost:8080/"
        },
        "outputId": "cf21b1de-7d5f-4fbc-a97c-7da4ad8c6e45"
      },
      "source": [
        "calc(2, 2, 3)"
      ],
      "execution_count": 10,
      "outputs": [
        {
          "output_type": "execute_result",
          "data": {
            "text/plain": [
              "12"
            ]
          },
          "metadata": {},
          "execution_count": 10
        }
      ]
    },
    {
      "cell_type": "code",
      "metadata": {
        "id": "u-LmNhpLqX5L",
        "colab": {
          "base_uri": "https://localhost:8080/"
        },
        "outputId": "a697f4d3-ec06-49e3-f7c0-4ccc585109f3"
      },
      "source": [
        "calc(3, 2, 3)"
      ],
      "execution_count": 11,
      "outputs": [
        {
          "output_type": "execute_result",
          "data": {
            "text/plain": [
              "15"
            ]
          },
          "metadata": {},
          "execution_count": 11
        }
      ]
    },
    {
      "cell_type": "markdown",
      "metadata": {
        "id": "QfRVukagqg1b"
      },
      "source": [
        "## 4.def **함수이름** (parameter1, parameter2, parameter...)**:**"
      ]
    },
    {
      "cell_type": "code",
      "metadata": {
        "id": "f5P0KvhuqkOa"
      },
      "source": [
        "def my_func(var1):\n",
        "    print(var1)"
      ],
      "execution_count": 12,
      "outputs": []
    },
    {
      "cell_type": "code",
      "metadata": {
        "id": "3cEOFcgfqpmG",
        "colab": {
          "base_uri": "https://localhost:8080/"
        },
        "outputId": "baad0fa4-2eb0-4eb8-a3d5-70440dce5f6d"
      },
      "source": [
        "my_func(\"What's up?\")"
      ],
      "execution_count": 13,
      "outputs": [
        {
          "output_type": "stream",
          "name": "stdout",
          "text": [
            "What's up?\n"
          ]
        }
      ]
    },
    {
      "cell_type": "code",
      "source": [
        "my_func(3.14)"
      ],
      "metadata": {
        "colab": {
          "base_uri": "https://localhost:8080/"
        },
        "id": "HE6Y6cwrfA7G",
        "outputId": "1e774861-9dab-4d0e-b2c6-e532d24f166b"
      },
      "execution_count": 14,
      "outputs": [
        {
          "output_type": "stream",
          "name": "stdout",
          "text": [
            "3.14\n"
          ]
        }
      ]
    },
    {
      "cell_type": "code",
      "source": [
        "myList = [1,2,3,4]\n",
        "my_func(myList)"
      ],
      "metadata": {
        "colab": {
          "base_uri": "https://localhost:8080/"
        },
        "id": "4EwmUr20fF8M",
        "outputId": "80817aef-befe-47a4-90fb-3d5fb65b9035"
      },
      "execution_count": 15,
      "outputs": [
        {
          "output_type": "stream",
          "name": "stdout",
          "text": [
            "[1, 2, 3, 4]\n"
          ]
        }
      ]
    },
    {
      "cell_type": "markdown",
      "metadata": {
        "id": "BdxBemdFqsZE"
      },
      "source": [
        "## 5. 함수는 값을 리턴할 수 있고, 리턴이 없어도 됩니다."
      ]
    },
    {
      "cell_type": "code",
      "metadata": {
        "id": "CFPGwEeeqwRg"
      },
      "source": [
        "# 리턴이 없는 경우\n",
        "def my_func(a, b):\n",
        "    print(a, b)"
      ],
      "execution_count": 16,
      "outputs": []
    },
    {
      "cell_type": "code",
      "metadata": {
        "id": "sp6vzcGmqzVx",
        "colab": {
          "base_uri": "https://localhost:8080/"
        },
        "outputId": "b4d0a6b3-769d-4f97-940d-7f10c97be5c1"
      },
      "source": [
        "my_func(1, 10)"
      ],
      "execution_count": 17,
      "outputs": [
        {
          "output_type": "stream",
          "name": "stdout",
          "text": [
            "1 10\n"
          ]
        }
      ]
    },
    {
      "cell_type": "code",
      "source": [
        "def multi_func(a,b):\n",
        "    add = a + b \n",
        "    sub = a - b\n",
        "    mul = a * b\n",
        "    div = a / b \n",
        "\n",
        "    return add, sub, mul, div "
      ],
      "metadata": {
        "id": "-G3YvX7ycWkh"
      },
      "execution_count": 20,
      "outputs": []
    },
    {
      "cell_type": "code",
      "source": [
        "a = 10\n",
        "b =  5\n",
        "\n",
        "result = multi_func(a,b)\n",
        "result"
      ],
      "metadata": {
        "colab": {
          "base_uri": "https://localhost:8080/"
        },
        "id": "H2Ire0LNcjM6",
        "outputId": "1f3be414-8ee6-40b0-86e1-a77c9e3f7512"
      },
      "execution_count": 21,
      "outputs": [
        {
          "output_type": "execute_result",
          "data": {
            "text/plain": [
              "(15, 5, 50, 2.0)"
            ]
          },
          "metadata": {},
          "execution_count": 21
        }
      ]
    },
    {
      "cell_type": "code",
      "source": [
        "type(result)"
      ],
      "metadata": {
        "colab": {
          "base_uri": "https://localhost:8080/"
        },
        "id": "lqYSnoeCcxGe",
        "outputId": "b5d731b9-0f36-4e3c-a5c7-3e17bfb4bb12"
      },
      "execution_count": 22,
      "outputs": [
        {
          "output_type": "execute_result",
          "data": {
            "text/plain": [
              "tuple"
            ]
          },
          "metadata": {},
          "execution_count": 22
        }
      ]
    },
    {
      "cell_type": "code",
      "source": [
        "add, sub, mul, div = multi_func(a,b)\n",
        "print(\"add={}, sub={}, mul={}, div={}\".format(add, sub, mul, div))"
      ],
      "metadata": {
        "colab": {
          "base_uri": "https://localhost:8080/"
        },
        "id": "F2w4yt2Dc1WF",
        "outputId": "efd0a674-e2a1-4260-e98f-67ef5ed53e49"
      },
      "execution_count": 23,
      "outputs": [
        {
          "output_type": "stream",
          "name": "stdout",
          "text": [
            "add=15, sub=5, mul=50, div=2.0\n"
          ]
        }
      ]
    },
    {
      "cell_type": "code",
      "source": [
        "type(add), type(sub), type(mul), type(div)"
      ],
      "metadata": {
        "colab": {
          "base_uri": "https://localhost:8080/"
        },
        "id": "SYh4hVG7dCoz",
        "outputId": "d1e00645-d847-46e8-cd5d-2bfac5f48b85"
      },
      "execution_count": 24,
      "outputs": [
        {
          "output_type": "execute_result",
          "data": {
            "text/plain": [
              "(int, int, int, float)"
            ]
          },
          "metadata": {},
          "execution_count": 24
        }
      ]
    },
    {
      "cell_type": "code",
      "metadata": {
        "id": "3Q5NsRPPq1EX"
      },
      "source": [
        "# 리턴이 있는 경우\n",
        "def my_func(a, b):\n",
        "    s = a + b\n",
        "    return s"
      ],
      "execution_count": 18,
      "outputs": []
    },
    {
      "cell_type": "code",
      "metadata": {
        "id": "cZNZitlwq34q",
        "colab": {
          "base_uri": "https://localhost:8080/"
        },
        "outputId": "23ba1964-f9de-4aca-dcee-0d26ee98ccc8"
      },
      "source": [
        "result = my_func(1, 10)\n",
        "print(result)"
      ],
      "execution_count": 19,
      "outputs": [
        {
          "output_type": "stream",
          "name": "stdout",
          "text": [
            "11\n"
          ]
        }
      ]
    },
    {
      "cell_type": "code",
      "source": [
        "a = 10 \n",
        "b = 5\n",
        "\n",
        "add,_, mul, div = multi_func(a,b) \n",
        "# _ : 나 안 받을거야 ~~~, 순서는 유지하기 위해 2번째 자리에 공백을 주는 의미 \n",
        "print(\"add={}, mul={}, div={}\".format(add, mul, div))"
      ],
      "metadata": {
        "colab": {
          "base_uri": "https://localhost:8080/"
        },
        "id": "u4jObS74dXs_",
        "outputId": "87d5b61b-aeae-438c-cdae-a990b7a5c04e"
      },
      "execution_count": 29,
      "outputs": [
        {
          "output_type": "stream",
          "name": "stdout",
          "text": [
            "add=15, mul=50, div=2.0\n"
          ]
        }
      ]
    },
    {
      "cell_type": "markdown",
      "metadata": {
        "id": "COEwJyGdrK0e"
      },
      "source": [
        "## 6. parameter는 여러 개가 가능하고, 함수에 넘겨 줄 때 순서가 있습니다."
      ]
    },
    {
      "cell_type": "code",
      "metadata": {
        "id": "noLjGn55q7ff"
      },
      "source": [
        "def my_func(a, b, c):\n",
        "    return (a + b) * c"
      ],
      "execution_count": 30,
      "outputs": []
    },
    {
      "cell_type": "code",
      "metadata": {
        "id": "XgseBW72rN4B"
      },
      "source": [
        "a = 10\n",
        "b = 20\n",
        "c = 3"
      ],
      "execution_count": 31,
      "outputs": []
    },
    {
      "cell_type": "code",
      "metadata": {
        "id": "1xJAqqlFrPMo",
        "colab": {
          "base_uri": "https://localhost:8080/"
        },
        "outputId": "4ab7eadc-5b86-4bdc-9ca4-93c887c9563d"
      },
      "source": [
        "(a + b) * c"
      ],
      "execution_count": 32,
      "outputs": [
        {
          "output_type": "execute_result",
          "data": {
            "text/plain": [
              "90"
            ]
          },
          "metadata": {},
          "execution_count": 32
        }
      ]
    },
    {
      "cell_type": "code",
      "metadata": {
        "id": "zrcHiY9KrQXP",
        "colab": {
          "base_uri": "https://localhost:8080/"
        },
        "outputId": "48fe6f66-4bbe-42c0-d347-3e46df6c32bb"
      },
      "source": [
        "my_func(c, b, a)"
      ],
      "execution_count": 33,
      "outputs": [
        {
          "output_type": "execute_result",
          "data": {
            "text/plain": [
              "230"
            ]
          },
          "metadata": {},
          "execution_count": 33
        }
      ]
    },
    {
      "cell_type": "code",
      "metadata": {
        "id": "zbING47mrR4g",
        "colab": {
          "base_uri": "https://localhost:8080/"
        },
        "outputId": "d284d193-4b9b-4dfc-a976-edf507f38e12"
      },
      "source": [
        "my_func(a, b, c)"
      ],
      "execution_count": null,
      "outputs": [
        {
          "output_type": "execute_result",
          "data": {
            "text/plain": [
              "90"
            ]
          },
          "metadata": {
            "tags": []
          },
          "execution_count": 28
        }
      ]
    },
    {
      "cell_type": "markdown",
      "source": [
        "## 7. 함수는 리턴값을 여러 개 가질 수 있다."
      ],
      "metadata": {
        "id": "duY8URVEfl4m"
      }
    },
    {
      "cell_type": "code",
      "source": [
        "# 이 함수는 +,-, *,/을 한번에 계산해주는 함수\n",
        "def multi_func(a,b):\n",
        "    add = a+b\n",
        "    sub = a-b\n",
        "    mul = a*b\n",
        "    div1 = a/b\n",
        "    div2 = a//b\n",
        "    return add,sub,mul,div1,div2"
      ],
      "metadata": {
        "id": "wCnaoX1Lfv3C"
      },
      "execution_count": 34,
      "outputs": []
    },
    {
      "cell_type": "code",
      "source": [
        "a=10\n",
        "b=20"
      ],
      "metadata": {
        "id": "3kWXGnujfsYr"
      },
      "execution_count": 35,
      "outputs": []
    },
    {
      "cell_type": "code",
      "source": [
        "result = multi_func(a,b)\n",
        "print(type(result))\n",
        "result"
      ],
      "metadata": {
        "colab": {
          "base_uri": "https://localhost:8080/"
        },
        "id": "K0TyqjP6gCO7",
        "outputId": "6fcf2767-469d-44ab-fc0d-4c080a2ffa94"
      },
      "execution_count": 36,
      "outputs": [
        {
          "output_type": "stream",
          "name": "stdout",
          "text": [
            "<class 'tuple'>\n"
          ]
        },
        {
          "output_type": "execute_result",
          "data": {
            "text/plain": [
              "(30, -10, 200, 0.5, 0)"
            ]
          },
          "metadata": {},
          "execution_count": 36
        }
      ]
    },
    {
      "cell_type": "code",
      "source": [
        "result1, result2, result3, result4, result5 = multi_func(a,b)\n",
        "print(type(result4))\n",
        "result4"
      ],
      "metadata": {
        "colab": {
          "base_uri": "https://localhost:8080/"
        },
        "id": "tluFZrO8gQck",
        "outputId": "0df22af8-ce30-4e12-f1bb-4ab91e762721"
      },
      "execution_count": 37,
      "outputs": [
        {
          "output_type": "stream",
          "name": "stdout",
          "text": [
            "<class 'float'>\n"
          ]
        },
        {
          "output_type": "execute_result",
          "data": {
            "text/plain": [
              "0.5"
            ]
          },
          "metadata": {},
          "execution_count": 37
        }
      ]
    },
    {
      "cell_type": "code",
      "source": [
        "# 리턴값이 5개인데 그중에 특정한 리턴값을 안받고 싶을 때\n",
        "# 리턴받는 변수명 대신에 '_'를 사용한다.\n",
        "result1, result2, result3, _, result5 = multi_func(a,b)\n",
        "result1, result2, result3, result5"
      ],
      "metadata": {
        "colab": {
          "base_uri": "https://localhost:8080/"
        },
        "id": "Fh1FUWVDhFNP",
        "outputId": "0ae9fe54-8272-4b8a-91e1-59e24a9f7184"
      },
      "execution_count": 38,
      "outputs": [
        {
          "output_type": "execute_result",
          "data": {
            "text/plain": [
              "(30, -10, 200, 0)"
            ]
          },
          "metadata": {},
          "execution_count": 38
        }
      ]
    },
    {
      "cell_type": "code",
      "source": [
        "# a,b는 함수 안에서 사용하는 변수명\n",
        "def strAdd(a, b):\n",
        "    strResult = a+' '+b\n",
        "    #print(strResult)\n",
        "return strResult\n"
      ],
      "metadata": {
        "colab": {
          "base_uri": "https://localhost:8080/",
          "height": 135
        },
        "id": "BbLp9_pjmiX6",
        "outputId": "950e5665-24cb-4846-ee76-38042e1a22c3"
      },
      "execution_count": 39,
      "outputs": [
        {
          "output_type": "error",
          "ename": "SyntaxError",
          "evalue": "ignored",
          "traceback": [
            "\u001b[0;36m  File \u001b[0;32m\"<ipython-input-39-0e1078a2ae59>\"\u001b[0;36m, line \u001b[0;32m5\u001b[0m\n\u001b[0;31m    return strResult\u001b[0m\n\u001b[0m                    ^\u001b[0m\n\u001b[0;31mSyntaxError\u001b[0m\u001b[0;31m:\u001b[0m 'return' outside function\n"
          ]
        }
      ]
    },
    {
      "cell_type": "code",
      "source": [
        "# 문자열을 입력으로 받으면 문자열을 연결해주는 함수를 만들어보자\n",
        "\n",
        "strA = \"Hello\"\n",
        "strB = \"World!\"\n",
        "\n",
        "def strAdd(a, b):\n",
        "    strResult = a+' '+b\n",
        "    #print(strResult)\n",
        "    return strResult\n",
        "\n",
        "\n",
        "result = strAdd(strA, strB) \n",
        "result"
      ],
      "metadata": {
        "id": "Ad_-fAhth3xv",
        "colab": {
          "base_uri": "https://localhost:8080/",
          "height": 35
        },
        "outputId": "6df6466e-92c7-4134-fd80-413a865256e2"
      },
      "execution_count": 42,
      "outputs": [
        {
          "output_type": "execute_result",
          "data": {
            "text/plain": [
              "'Hello World!'"
            ],
            "application/vnd.google.colaboratory.intrinsic+json": {
              "type": "string"
            }
          },
          "metadata": {},
          "execution_count": 42
        }
      ]
    },
    {
      "cell_type": "code",
      "source": [
        ""
      ],
      "metadata": {
        "id": "t79RSn4HeUN_"
      },
      "execution_count": null,
      "outputs": []
    }
  ]
}