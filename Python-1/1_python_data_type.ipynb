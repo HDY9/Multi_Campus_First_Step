{
  "cells": [
    {
      "cell_type": "markdown",
      "metadata": {
        "id": "rbMcU8CvVxtm"
      },
      "source": [
        "파이썬에서 프로그래밍을 할때 가장 많이 사용하는 메소드중 하나가 print()일 것이다.<br> print를 다양하게 사용할 수 있지만, 앞으로 자주 사용하는 형태 몇가지를 살펴보자."
      ]
    },
    {
      "cell_type": "markdown",
      "metadata": {
        "id": "MQPNVXk1GFug"
      },
      "source": [
        "## 1. 출력"
      ]
    },
    {
      "cell_type": "markdown",
      "metadata": {
        "id": "BAhtzLBFWdzf"
      },
      "source": [
        "Jupyter notebook환경에서는 셀의 마지막 줄에 변수명을 올려 놓으면, <br> 그 내용은 print()메소드를 사용하지 않아도 출력해준다."
      ]
    },
    {
      "cell_type": "code",
      "execution_count": null,
      "metadata": {
        "id": "ZDP5YjMIWwQw"
      },
      "outputs": [],
      "source": [
        "a=10\n",
        "print(a)\n",
        "a"
      ]
    },
    {
      "cell_type": "markdown",
      "metadata": {
        "id": "gdAhKvfMW20A"
      },
      "source": [
        "그러나 다음과 같이 하나의 셀에 여러 개를 출력할 경우에는 print()메소드를 이용하면 된다."
      ]
    },
    {
      "cell_type": "code",
      "execution_count": null,
      "metadata": {
        "id": "AeoAHPcnGBxc"
      },
      "outputs": [],
      "source": [
        "#문자열의 출력\n",
        "print('\"안녕하세요\"')\n",
        "print(\"안녕하세요\")\n",
        "print('Hello')"
      ]
    },
    {
      "cell_type": "code",
      "execution_count": null,
      "metadata": {
        "id": "yk2TXq1XkKav"
      },
      "outputs": [],
      "source": [
        "#숫자의 출력\n",
        "print(12345678)"
      ]
    },
    {
      "cell_type": "code",
      "execution_count": null,
      "metadata": {
        "id": "f4a54Aq8XN2S"
      },
      "outputs": [],
      "source": [
        "#문자열의 출력\n",
        "print(\"12345678\")"
      ]
    },
    {
      "cell_type": "markdown",
      "metadata": {
        "id": "DhRp7joQQWjC"
      },
      "source": [
        "## 2. 변수와 대입"
      ]
    },
    {
      "cell_type": "markdown",
      "metadata": {
        "id": "jYy2_H0LTTV1"
      },
      "source": [
        "변수는 **데이터를 담는 그릇**으로 이해하자.\n",
        "\n",
        "변수라는 그릇에 정수 또는 문장, file을 담을 수 있는데, <br>이들을 구별하기 위해 변수들에 이름을 부여해야한다.\n"
      ]
    },
    {
      "cell_type": "markdown",
      "metadata": {
        "id": "pXEzU0KYQlFq"
      },
      "source": [
        "### 2-1. 변수의 이름"
      ]
    },
    {
      "cell_type": "markdown",
      "metadata": {
        "id": "bOx6AZblQ7N5"
      },
      "source": [
        "case 1. 알파벳 대소문자와 한글도 가능하다.<br> (한글은 가능하지만 한영변환을 자주해야해서 불편하다.)\n"
      ]
    },
    {
      "cell_type": "code",
      "execution_count": null,
      "metadata": {
        "id": "TIK6Qp5RQ6-k"
      },
      "outputs": [],
      "source": [
        "a = 1"
      ]
    },
    {
      "cell_type": "code",
      "execution_count": null,
      "metadata": {
        "id": "Wxpjs5SbSFdV"
      },
      "outputs": [],
      "source": [
        "A = 1"
      ]
    },
    {
      "cell_type": "code",
      "execution_count": null,
      "metadata": {
        "id": "Pri05QNBSHD_"
      },
      "outputs": [],
      "source": [
        "변수 = 1"
      ]
    },
    {
      "cell_type": "code",
      "execution_count": null,
      "metadata": {
        "id": "FKfXqeQoSIXU"
      },
      "outputs": [],
      "source": [
        "변수"
      ]
    },
    {
      "cell_type": "markdown",
      "metadata": {
        "id": "nEyz3D-8Quh5"
      },
      "source": [
        "case 2. 알파벳 + 숫자 (가능)"
      ]
    },
    {
      "cell_type": "code",
      "execution_count": null,
      "metadata": {
        "id": "XJZFGL3oQk87"
      },
      "outputs": [],
      "source": [
        "a1 = 1"
      ]
    },
    {
      "cell_type": "markdown",
      "metadata": {
        "id": "DMODcJQnRJQU"
      },
      "source": [
        "case 3. 알파벳 + 언더바(_) (가능)"
      ]
    },
    {
      "cell_type": "code",
      "execution_count": null,
      "metadata": {
        "id": "iLZ6Bp8PRaay"
      },
      "outputs": [],
      "source": [
        "a_ = 1"
      ]
    },
    {
      "cell_type": "markdown",
      "metadata": {
        "id": "yfz1ox-5Rb0I"
      },
      "source": [
        "case 4. 언더바(_) + 알파벳 (가능))"
      ]
    },
    {
      "cell_type": "code",
      "execution_count": null,
      "metadata": {
        "id": "gXKzcmybRizo"
      },
      "outputs": [],
      "source": [
        "_a = 1"
      ]
    },
    {
      "cell_type": "markdown",
      "metadata": {
        "id": "OrfMZBODQkyU"
      },
      "source": [
        "case 5. 숫자 + 알파벳 (불가능)"
      ]
    },
    {
      "cell_type": "code",
      "execution_count": null,
      "metadata": {
        "id": "Po0D-oA_QWLq"
      },
      "outputs": [],
      "source": [
        "1a = 1 \n",
        "# 에러 발생 : SyntaxError: invalid syntax"
      ]
    },
    {
      "cell_type": "markdown",
      "metadata": {
        "id": "cVC_51UAQ4_E"
      },
      "source": [
        "case 6. 특수문자 (불가능)"
      ]
    },
    {
      "cell_type": "code",
      "execution_count": null,
      "metadata": {
        "id": "1R5QFrVcRsip"
      },
      "outputs": [],
      "source": [
        "* = 7\n",
        "# 에러 발생 : SyntaxError: invalid syntax"
      ]
    },
    {
      "cell_type": "markdown",
      "metadata": {
        "id": "DApK72LyRuWk"
      },
      "source": [
        "case 7. 언더바를 제외한 특수문자 (불가능)"
      ]
    },
    {
      "cell_type": "code",
      "execution_count": null,
      "metadata": {
        "id": "ib-k4vjZRuKR"
      },
      "outputs": [],
      "source": [
        "a$ = 6\n",
        "# 에러 발생 : SyntaxError: invalid syntax"
      ]
    },
    {
      "cell_type": "markdown",
      "metadata": {
        "id": "C4N7rPjenZfj"
      },
      "source": [
        "case 8. 변수의 이름 사이의 공백 (불가능)"
      ]
    },
    {
      "cell_type": "code",
      "execution_count": null,
      "metadata": {
        "id": "t0noa6EOngJc"
      },
      "outputs": [],
      "source": [
        "a b = 6\n",
        "# 에러 발생 : SyntaxError: invalid syntax"
      ]
    },
    {
      "cell_type": "markdown",
      "metadata": {
        "id": "Zi16utkrSWUB"
      },
      "source": [
        "주로 변수는 **소문자 알파벳으로 생성**하고, 필요시 **언더바**나 **숫자를 붙히는 방식**이 일반적이다."
      ]
    },
    {
      "cell_type": "code",
      "execution_count": null,
      "metadata": {
        "id": "7um-fqf7R7gl"
      },
      "outputs": [],
      "source": [
        "test = 10"
      ]
    },
    {
      "cell_type": "code",
      "execution_count": null,
      "metadata": {
        "id": "niBpyRtkSmIq"
      },
      "outputs": [],
      "source": [
        "test01 = 20"
      ]
    },
    {
      "cell_type": "code",
      "execution_count": null,
      "metadata": {
        "id": "01krOD1tSprV"
      },
      "outputs": [],
      "source": [
        "test_01 = 30"
      ]
    },
    {
      "cell_type": "markdown",
      "metadata": {
        "id": "7gz9oozUUVWr"
      },
      "source": [
        "**낙타등 표기법(CamelCase)**으로 변수명을 표현하는 것도 좋다"
      ]
    },
    {
      "cell_type": "code",
      "execution_count": null,
      "metadata": {
        "id": "OnCRkNP0Udlv"
      },
      "outputs": [],
      "source": [
        "myData = 30"
      ]
    },
    {
      "cell_type": "markdown",
      "metadata": {
        "id": "duU9a-x5nl2k"
      },
      "source": [
        "### 2-2. 변수의 출력"
      ]
    },
    {
      "cell_type": "markdown",
      "metadata": {
        "id": "4vsJdyfOnq50"
      },
      "source": [
        "1. print() 구문 사이에 **값을 직접 집어 넣으면**, 바로 **값이 출력**된다.\n",
        "2. print() 구문 사이에 **변수 이름**을 집어 넣으면, 그 **값이 출력**이 됩니다."
      ]
    },
    {
      "cell_type": "code",
      "execution_count": null,
      "metadata": {
        "id": "Nn1PnFk5nn3v"
      },
      "outputs": [],
      "source": [
        "# 값을 바로 집어 넣은 경우\n",
        "print('test')"
      ]
    },
    {
      "cell_type": "code",
      "execution_count": null,
      "metadata": {
        "id": "D9sHc-WRnqAm"
      },
      "outputs": [],
      "source": [
        "a = 123"
      ]
    },
    {
      "cell_type": "code",
      "execution_count": null,
      "metadata": {
        "id": "9dtXPwFhoGn0"
      },
      "outputs": [],
      "source": [
        "print(a)"
      ]
    },
    {
      "cell_type": "code",
      "execution_count": null,
      "metadata": {
        "id": "gqjwycpjoLFU"
      },
      "outputs": [],
      "source": [
        "a = '안녕하세요, 반갑습니다'"
      ]
    },
    {
      "cell_type": "code",
      "execution_count": null,
      "metadata": {
        "id": "1Y6yv3IjoLN2"
      },
      "outputs": [],
      "source": [
        "print(a)"
      ]
    },
    {
      "cell_type": "code",
      "execution_count": null,
      "metadata": {
        "id": "Kiq95mRUV_7P"
      },
      "outputs": [],
      "source": [
        "test1 = 10\n",
        "print(type(test1))\n",
        "test2 = '20'\n",
        "print(type(test2))\n",
        "print('test1={}, test2={}'.format(test1, test2))"
      ]
    },
    {
      "cell_type": "markdown",
      "metadata": {
        "id": "8pvdzLhaHrmk"
      },
      "source": [
        "# 파이썬의 자료형"
      ]
    },
    {
      "cell_type": "markdown",
      "metadata": {
        "id": "J-bCLRzqHywZ"
      },
      "source": [
        "파이썬은 자료형으로 숫자, 문자, 리스트, 튜플, 딕셔너리, 집합, 불(bool)의 형태를 가지고 있다."
      ]
    },
    {
      "cell_type": "markdown",
      "metadata": {
        "id": "qcwHqGFPHytw"
      },
      "source": [
        "이 파일에서는 아래의 순서로 진행한다. \n",
        "1. 숫자 <br>\n",
        "2. 문자 <br>\n",
        "3. 리스트(List) <br>\n",
        "4. 튜플(Tuple) <br>\n",
        "5. 딕셔너리(Dictionary) <br>\n",
        "6. 집합(set) <br>\n",
        "7. 불(Bool) <br>"
      ]
    },
    {
      "cell_type": "markdown",
      "metadata": {
        "id": "e3jWuNkIFf52"
      },
      "source": [
        "## 3. 데이터 타입"
      ]
    },
    {
      "cell_type": "markdown",
      "metadata": {
        "id": "XG1zmhr-GLBP"
      },
      "source": [
        "**데이터 type**\n",
        "\n",
        "1. int(정수)\n",
        "2. float(실수)\n",
        "3. str(문자열) \n",
        "4. bool(참/거짓)"
      ]
    },
    {
      "cell_type": "markdown",
      "metadata": {
        "id": "QHYQ09XIGg1_"
      },
      "source": [
        "### 3-1. int(정수)"
      ]
    },
    {
      "cell_type": "code",
      "execution_count": null,
      "metadata": {
        "id": "y1cPV_XxFrkb"
      },
      "outputs": [],
      "source": [
        "a = 1"
      ]
    },
    {
      "cell_type": "code",
      "execution_count": null,
      "metadata": {
        "id": "At5R-m--FuuR"
      },
      "outputs": [],
      "source": [
        "#type()메소드를 이용\n",
        "type(a)"
      ]
    },
    {
      "cell_type": "code",
      "execution_count": null,
      "metadata": {
        "id": "AOvyOlN4NwMl"
      },
      "outputs": [],
      "source": [
        "print(a>0)"
      ]
    },
    {
      "cell_type": "code",
      "execution_count": null,
      "metadata": {
        "id": "LPjP8lXe29pY"
      },
      "outputs": [],
      "source": [
        "if a>0:\n",
        "    print('1은 참으로 취급')\n",
        "    print(1)\n",
        "    print(2)\n",
        "else:\n",
        "    print('1은 거짓부렁이')"
      ]
    },
    {
      "cell_type": "code",
      "execution_count": null,
      "metadata": {
        "id": "SzGkwbom3BrH"
      },
      "outputs": [],
      "source": [
        "if 0:\n",
        "    print('0은 참으로 취급')\n",
        "else:\n",
        "    print('0은 거짓부렁이')"
      ]
    },
    {
      "cell_type": "code",
      "execution_count": null,
      "metadata": {
        "id": "bKg4n9yz3DP6"
      },
      "outputs": [],
      "source": [
        "if 123:\n",
        "    print('123은 참으로 취급')\n",
        "else:\n",
        "    print('123은 거짓부렁이')"
      ]
    },
    {
      "cell_type": "markdown",
      "metadata": {
        "id": "qOJu5f5kGjpf"
      },
      "source": [
        "### 3-2. float(실수)"
      ]
    },
    {
      "cell_type": "code",
      "execution_count": null,
      "metadata": {
        "id": "4N-NaYDdGlTF"
      },
      "outputs": [],
      "source": [
        "a = 3.14"
      ]
    },
    {
      "cell_type": "code",
      "execution_count": null,
      "metadata": {
        "id": "W-OYC_1zGneM"
      },
      "outputs": [],
      "source": [
        "type(a)"
      ]
    },
    {
      "cell_type": "code",
      "execution_count": null,
      "metadata": {
        "id": "9wJn_P-roVh9"
      },
      "outputs": [],
      "source": [
        "print(a)"
      ]
    },
    {
      "cell_type": "code",
      "execution_count": null,
      "metadata": {
        "id": "aclpANNiOIbv"
      },
      "outputs": [],
      "source": [
        "print('3.14')"
      ]
    },
    {
      "cell_type": "markdown",
      "metadata": {
        "id": "5sc68iMeGpJO"
      },
      "source": [
        "### 3-3. str 혹은 object (문자)"
      ]
    },
    {
      "cell_type": "code",
      "execution_count": null,
      "metadata": {
        "id": "cosCc_J0Fv8l"
      },
      "outputs": [],
      "source": [
        "word = '안녕하세요'"
      ]
    },
    {
      "cell_type": "code",
      "execution_count": null,
      "metadata": {
        "id": "1S7b3MedofHY"
      },
      "outputs": [],
      "source": [
        "word = \"안녕하세요\""
      ]
    },
    {
      "cell_type": "code",
      "execution_count": null,
      "metadata": {
        "id": "8h_mSzprGr0M"
      },
      "outputs": [],
      "source": [
        "type(word)"
      ]
    },
    {
      "cell_type": "code",
      "execution_count": null,
      "metadata": {
        "id": "wkeYQZL3F5PS"
      },
      "outputs": [],
      "source": [
        "word = \"안녕하세요\""
      ]
    },
    {
      "cell_type": "code",
      "execution_count": null,
      "metadata": {
        "id": "QAIcA-SXF7iw"
      },
      "outputs": [],
      "source": [
        "type(word)"
      ]
    },
    {
      "cell_type": "code",
      "execution_count": null,
      "metadata": {
        "id": "FVhiy1xqOURa"
      },
      "outputs": [],
      "source": [
        "#'안녕하세요' 출력\n",
        "print(\"'안녕하세요'\")"
      ]
    },
    {
      "cell_type": "markdown",
      "metadata": {
        "id": "v867uiHyF8nE"
      },
      "source": [
        "### 3-4. bool (참/거짓)"
      ]
    },
    {
      "cell_type": "code",
      "execution_count": null,
      "metadata": {
        "id": "cj28ZTzLQNrV"
      },
      "outputs": [],
      "source": [
        "a = False"
      ]
    },
    {
      "cell_type": "code",
      "execution_count": null,
      "metadata": {
        "id": "IYsJ4IEVrycB"
      },
      "outputs": [],
      "source": [
        "type(a)"
      ]
    },
    {
      "cell_type": "code",
      "execution_count": null,
      "metadata": {
        "id": "nJayiV8HQP2S"
      },
      "outputs": [],
      "source": [
        "print(a)"
      ]
    },
    {
      "cell_type": "code",
      "execution_count": null,
      "metadata": {
        "id": "-liXhXbSQQUj"
      },
      "outputs": [],
      "source": [
        "0 == False"
      ]
    },
    {
      "cell_type": "markdown",
      "metadata": {
        "id": "oBWsyhdR2Mc5"
      },
      "source": [
        "### 3-5 아무것도 아닌 None 타입도 있습니다."
      ]
    },
    {
      "cell_type": "markdown",
      "metadata": {
        "id": "G0DtMj4R2Vte"
      },
      "source": [
        "말 그래도 아무 것도 아닌 흔히 Null 값을 넣는다고도 합니다.\n",
        "\n",
        "사전상 의미는<br>\n",
        "* **Null: Nullify (무효화하다)**\n",
        "라는 뜻을 가지고 있다네요~\n",
        "\n",
        "python에서는 **None** 입니다!"
      ]
    },
    {
      "cell_type": "code",
      "execution_count": null,
      "metadata": {
        "id": "rFrHjjC22MMA"
      },
      "outputs": [],
      "source": [
        "a = None"
      ]
    },
    {
      "cell_type": "code",
      "execution_count": null,
      "metadata": {
        "id": "ABzXxy-EpVll"
      },
      "outputs": [],
      "source": [
        "type(a)"
      ]
    },
    {
      "cell_type": "code",
      "execution_count": null,
      "metadata": {
        "id": "PpO_s24z2R5u"
      },
      "outputs": [],
      "source": [
        "print(a)"
      ]
    },
    {
      "cell_type": "markdown",
      "metadata": {
        "id": "KgAFjs7iUREl"
      },
      "source": [
        "## 4. 데이터 타입 (집합)"
      ]
    },
    {
      "cell_type": "markdown",
      "metadata": {
        "id": "Efu2Vqm7URLR"
      },
      "source": [
        "**집합 형태의 데이터 타입**\n",
        "\n",
        "1. list (순서 O, 집합, 변경가능)  []\n",
        "2. tuple (순서 O, 읽기 전용 집합) ()\n",
        "3. set (순서 X, 중복X, 집합) \n",
        "4. dict (key, value로 이루어진 사전형 집합)"
      ]
    },
    {
      "cell_type": "markdown",
      "metadata": {
        "id": "d610lQinUwSN"
      },
      "source": [
        "### 4-1. list (순서가 있는 집합)"
      ]
    },
    {
      "cell_type": "markdown",
      "metadata": {
        "id": "g-HX7XnQU5zN"
      },
      "source": [
        "[] 형태로 표현합니다."
      ]
    },
    {
      "cell_type": "code",
      "execution_count": null,
      "metadata": {
        "id": "xSAez-0xU_sg"
      },
      "outputs": [],
      "source": [
        "mylist = []"
      ]
    },
    {
      "cell_type": "code",
      "execution_count": null,
      "metadata": {
        "id": "O17Nau-hVBW3"
      },
      "outputs": [],
      "source": [
        "mylist"
      ]
    },
    {
      "cell_type": "code",
      "execution_count": null,
      "metadata": {
        "id": "G7Z_0FsuVDGT"
      },
      "outputs": [],
      "source": [
        "type(mylist)"
      ]
    },
    {
      "cell_type": "code",
      "execution_count": null,
      "metadata": {
        "id": "IVS7djx4U0KS"
      },
      "outputs": [],
      "source": [
        "mylist = [1, 3, 2, 4, 5]"
      ]
    },
    {
      "cell_type": "code",
      "execution_count": null,
      "metadata": {
        "id": "SZlFHpFaU3sg"
      },
      "outputs": [],
      "source": [
        "mylist"
      ]
    },
    {
      "cell_type": "markdown",
      "metadata": {
        "id": "JSh4BXzRWUY_"
      },
      "source": [
        "#### 리스트에 추가하기"
      ]
    },
    {
      "cell_type": "code",
      "execution_count": null,
      "metadata": {
        "id": "YeP2EYj8U4Ms"
      },
      "outputs": [],
      "source": [
        "mylist = []"
      ]
    },
    {
      "cell_type": "code",
      "execution_count": null,
      "metadata": {
        "id": "ilJWB7H8qjNa"
      },
      "outputs": [],
      "source": [
        "mylist"
      ]
    },
    {
      "cell_type": "markdown",
      "metadata": {
        "id": "KUUEW4mNxpGZ"
      },
      "source": [
        "**리스트의 맨 마지막에 x를 추가하는 함수**이다."
      ]
    },
    {
      "cell_type": "code",
      "execution_count": null,
      "metadata": {
        "id": "AYHFOiG2VJEQ"
      },
      "outputs": [],
      "source": [
        "# 비어있는 mylist에 '1'을 추가\n",
        "mylist.append(1)\n",
        "mylist.append(1)"
      ]
    },
    {
      "cell_type": "code",
      "execution_count": null,
      "metadata": {
        "id": "LBBwfWxRVK6E"
      },
      "outputs": [],
      "source": [
        "mylist"
      ]
    },
    {
      "cell_type": "code",
      "execution_count": null,
      "metadata": {
        "id": "c1nS9xs8VLYo"
      },
      "outputs": [],
      "source": [
        "mylist.append(2)\n",
        "mylist.append(3)"
      ]
    },
    {
      "cell_type": "code",
      "execution_count": null,
      "metadata": {
        "id": "OJG-lnc-VN_W"
      },
      "outputs": [],
      "source": [
        "mylist"
      ]
    },
    {
      "cell_type": "markdown",
      "metadata": {
        "id": "mwaKcYsRWatD"
      },
      "source": [
        "#### 리스트에서 제거하기"
      ]
    },
    {
      "cell_type": "code",
      "execution_count": null,
      "metadata": {
        "id": "ZjRQXZAHWccX"
      },
      "outputs": [],
      "source": [
        "mylist"
      ]
    },
    {
      "cell_type": "markdown",
      "metadata": {
        "id": "5ZWxWxh3xTjR"
      },
      "source": [
        "remove(x)는 리스트에서 **첫 번째로 나오는 x를 삭제하는 함수**이다."
      ]
    },
    {
      "cell_type": "code",
      "execution_count": null,
      "metadata": {
        "id": "ftFR8PsbVOx0"
      },
      "outputs": [],
      "source": [
        "mylist.remove(1)"
      ]
    },
    {
      "cell_type": "code",
      "execution_count": null,
      "metadata": {
        "id": "ezdTLXnmVQ-E"
      },
      "outputs": [],
      "source": [
        "mylist\n",
        "# 앞의 1 제거됨"
      ]
    },
    {
      "cell_type": "code",
      "execution_count": null,
      "metadata": {
        "id": "TsBOX9IHVRgU"
      },
      "outputs": [],
      "source": [
        "mylist.remove(1)\n"
      ]
    },
    {
      "cell_type": "code",
      "execution_count": null,
      "metadata": {
        "id": "BL9L31PHPv9i"
      },
      "outputs": [],
      "source": [
        "mylist"
      ]
    },
    {
      "cell_type": "markdown",
      "metadata": {
        "id": "Qn2cU-K6WhZ4"
      },
      "source": [
        "#### 여러 값들이 포함되어 있을 때 제거 순서"
      ]
    },
    {
      "cell_type": "code",
      "execution_count": null,
      "metadata": {
        "id": "KDPL_b6UVnoE"
      },
      "outputs": [],
      "source": [
        "mylist = []\n",
        "mylist.append(1)\n",
        "mylist.append(2)\n",
        "mylist.append(3)\n",
        "mylist.append(1)\n",
        "mylist.append(2)\n",
        "mylist.append(3)"
      ]
    },
    {
      "cell_type": "code",
      "execution_count": null,
      "metadata": {
        "id": "wHhj44g2V0oq"
      },
      "outputs": [],
      "source": [
        "mylist"
      ]
    },
    {
      "cell_type": "code",
      "execution_count": null,
      "metadata": {
        "id": "dCXy8fecV1Ki"
      },
      "outputs": [],
      "source": [
        "mylist.remove(1)"
      ]
    },
    {
      "cell_type": "code",
      "execution_count": null,
      "metadata": {
        "id": "sY20CamuV3bp"
      },
      "outputs": [],
      "source": [
        "mylist"
      ]
    },
    {
      "cell_type": "code",
      "execution_count": null,
      "metadata": {
        "id": "6RDuQGxuV4Bk"
      },
      "outputs": [],
      "source": [
        "mylist.remove(1)"
      ]
    },
    {
      "cell_type": "code",
      "execution_count": null,
      "metadata": {
        "id": "04xYdv_dV6M_"
      },
      "outputs": [],
      "source": [
        "mylist"
      ]
    },
    {
      "cell_type": "code",
      "execution_count": null,
      "metadata": {
        "id": "UYSzqKbSV_PT"
      },
      "outputs": [],
      "source": [
        "mylist.remove(1)\n",
        "# 에러 발생 : ValueError "
      ]
    },
    {
      "cell_type": "markdown",
      "metadata": {
        "id": "k0w9nYxPWSNO"
      },
      "source": [
        "#### 인덱싱(indexing) -> 색인"
      ]
    },
    {
      "cell_type": "code",
      "execution_count": null,
      "metadata": {
        "id": "qY6rAQpWW5Pr"
      },
      "outputs": [],
      "source": [
        "mylist = [1, 2, 3, 4]"
      ]
    },
    {
      "cell_type": "markdown",
      "metadata": {
        "id": "l9ad4C1XW9KE"
      },
      "source": [
        "인덱스는 **0번 부터 시작** 합니다."
      ]
    },
    {
      "cell_type": "code",
      "execution_count": null,
      "metadata": {
        "id": "nxGtMBuUWSXd"
      },
      "outputs": [],
      "source": [
        "mylist[0]"
      ]
    },
    {
      "cell_type": "code",
      "execution_count": null,
      "metadata": {
        "id": "bQQaTXemXDk-"
      },
      "outputs": [],
      "source": [
        "mylist[3]"
      ]
    },
    {
      "cell_type": "code",
      "execution_count": null,
      "metadata": {
        "id": "GtO0YS9HXDe7"
      },
      "outputs": [],
      "source": [
        "mylist[4]\n",
        "# 에러 발생 : IndexError "
      ]
    },
    {
      "cell_type": "code",
      "execution_count": null,
      "metadata": {
        "id": "DqJYkXJbyc7L"
      },
      "outputs": [],
      "source": [
        "# -는 뒤에서 몇번째인지\n",
        "mylist[-1]"
      ]
    },
    {
      "cell_type": "code",
      "execution_count": null,
      "metadata": {
        "id": "dvsC2y9hXDYq"
      },
      "outputs": [],
      "source": [
        "mylist[-5]\n",
        "# 에러 발생 : IndexError "
      ]
    },
    {
      "cell_type": "markdown",
      "metadata": {
        "id": "TZEqteGEXtJZ"
      },
      "source": [
        "#### 인덱스로 접근하여 값 바꾸기\n",
        "list는 값을 변경할 수 있다.(tuple은 변경 불가능)"
      ]
    },
    {
      "cell_type": "code",
      "execution_count": null,
      "metadata": {
        "id": "WndBOK7DXwqk"
      },
      "outputs": [],
      "source": [
        "mylist"
      ]
    },
    {
      "cell_type": "code",
      "execution_count": null,
      "metadata": {
        "id": "qVZF6qydXyQa"
      },
      "outputs": [],
      "source": [
        "mylist[0]"
      ]
    },
    {
      "cell_type": "code",
      "execution_count": null,
      "metadata": {
        "id": "0CUByTZgX1yF"
      },
      "outputs": [],
      "source": [
        "# 리스트의 값을 변경\n",
        "mylist[0] = 100"
      ]
    },
    {
      "cell_type": "code",
      "execution_count": null,
      "metadata": {
        "id": "p841RzROX4C4"
      },
      "outputs": [],
      "source": [
        "mylist"
      ]
    },
    {
      "cell_type": "markdown",
      "metadata": {
        "id": "Fi8gFt_qXY5-"
      },
      "source": [
        "#### 전체 길이 (사이즈) 알아내기"
      ]
    },
    {
      "cell_type": "code",
      "execution_count": null,
      "metadata": {
        "id": "-qvBVgmHXeea"
      },
      "outputs": [],
      "source": [
        "# list의 갯수(길이)를 알려주는 함수\n",
        "len(mylist)"
      ]
    },
    {
      "cell_type": "code",
      "source": [
        "!pwd \n",
        "# present working directory"
      ],
      "metadata": {
        "id": "Iv4vFvVUUrTu"
      },
      "execution_count": null,
      "outputs": []
    },
    {
      "cell_type": "code",
      "source": [
        "# 현재 위치 파일 목록 조회 \n",
        "!ls"
      ],
      "metadata": {
        "id": "iy4FqvP2Uywe"
      },
      "execution_count": null,
      "outputs": []
    },
    {
      "cell_type": "code",
      "execution_count": null,
      "metadata": {
        "id": "-pFM8SvFzWea"
      },
      "outputs": [],
      "source": [
        "# 리눅스에서 touch명령은 비어있는 파일을 생성해주는 명령\n",
        "!touch a.txt b.txt c.txt"
      ]
    },
    {
      "cell_type": "code",
      "source": [
        "# 파일의 내용을 화면에 출력 \n",
        "!cat a.txt"
      ],
      "metadata": {
        "id": "9qTiGmeVU29Z"
      },
      "execution_count": null,
      "outputs": []
    },
    {
      "cell_type": "code",
      "execution_count": null,
      "metadata": {
        "id": "HdAmb8KRzn4B"
      },
      "outputs": [],
      "source": [
        "# import는 python에서 추가 패키지를 가져올때 \n",
        "import os\n",
        "\n",
        "!mkdir test1 \n",
        "# make directory(folder)"
      ]
    },
    {
      "cell_type": "code",
      "source": [
        "# 현재 디렉토리의 파일 목록을 읽어본다.\n",
        "#'.'은 현재 디렉토리를 가리킨다.\n",
        "curList = os.listdir('.')\n",
        "curList"
      ],
      "metadata": {
        "id": "3xoVat4kVN_E"
      },
      "execution_count": null,
      "outputs": []
    },
    {
      "cell_type": "code",
      "source": [
        "import os \n",
        "\n",
        "dirName = \"test\" + \"2\"\n",
        "print(dirName)"
      ],
      "metadata": {
        "id": "eZK9SI94VlPP"
      },
      "execution_count": null,
      "outputs": []
    },
    {
      "cell_type": "code",
      "source": [
        "os.mkdir(dirName)"
      ],
      "metadata": {
        "id": "igjOSYEpVqyw"
      },
      "execution_count": null,
      "outputs": []
    },
    {
      "cell_type": "code",
      "source": [
        "curList"
      ],
      "metadata": {
        "id": "yQD2Rmo8WK1j"
      },
      "execution_count": null,
      "outputs": []
    },
    {
      "cell_type": "code",
      "execution_count": null,
      "metadata": {
        "id": "XTblkHHyz_Pz"
      },
      "outputs": [],
      "source": [
        "type(curList)"
      ]
    },
    {
      "cell_type": "code",
      "execution_count": null,
      "metadata": {
        "id": "soRdv6Mt0CGg"
      },
      "outputs": [],
      "source": [
        "len(curList)"
      ]
    },
    {
      "cell_type": "markdown",
      "metadata": {
        "id": "6f1LiPaaWA6a"
      },
      "source": [
        "### 4-2. tuple (순서가 있는 집합, 읽기 전용)"
      ]
    },
    {
      "cell_type": "markdown",
      "metadata": {
        "id": "lGhnB5pMWK09"
      },
      "source": [
        "() 로 표현합니다"
      ]
    },
    {
      "cell_type": "code",
      "execution_count": null,
      "metadata": {
        "id": "Lj0AaIGkWMng"
      },
      "outputs": [],
      "source": [
        "mytuple = (1, 2, 3, 4, 5)"
      ]
    },
    {
      "cell_type": "code",
      "execution_count": null,
      "metadata": {
        "id": "D-MjMwtXWP1j"
      },
      "outputs": [],
      "source": [
        "mytuple.append(1)\n",
        "# AttributeError: 'tuple' object has no attribute 'append'\n",
        "# immutable (불변) >> 상수 "
      ]
    },
    {
      "cell_type": "code",
      "execution_count": null,
      "metadata": {
        "id": "_9qsv2Z6XlTi"
      },
      "outputs": [],
      "source": [
        "mytuple.remove(1)"
      ]
    },
    {
      "cell_type": "code",
      "execution_count": null,
      "metadata": {
        "id": "FR2eRonUXoK2"
      },
      "outputs": [],
      "source": [
        "mytuple[0] = 1\n",
        "# TypeError: 'tuple' object does not support item assignment"
      ]
    },
    {
      "cell_type": "markdown",
      "metadata": {
        "id": "PhwymGjaXqwU"
      },
      "source": [
        "#### 길이 파악하기"
      ]
    },
    {
      "cell_type": "code",
      "execution_count": null,
      "metadata": {
        "id": "q52SzZNOYIo1"
      },
      "outputs": [],
      "source": [
        "len(mytuple)"
      ]
    },
    {
      "cell_type": "code",
      "execution_count": null,
      "metadata": {
        "id": "58_4q0YKYJ3K"
      },
      "outputs": [],
      "source": [
        "mytuple"
      ]
    },
    {
      "cell_type": "markdown",
      "metadata": {
        "id": "vCdKOsCpZNBi"
      },
      "source": [
        "## set (순서 X, 중복 X)\n",
        "수학에서 집합의 개념"
      ]
    },
    {
      "cell_type": "code",
      "execution_count": null,
      "metadata": {
        "id": "jIWM7VJjZMuH"
      },
      "outputs": [],
      "source": [
        "# 비어있는 집합\n",
        "# 변경가능\n",
        "myset = set()"
      ]
    },
    {
      "cell_type": "code",
      "execution_count": null,
      "metadata": {
        "id": "cBYyzorp0XoK"
      },
      "outputs": [],
      "source": [
        "myset"
      ]
    },
    {
      "cell_type": "code",
      "execution_count": null,
      "metadata": {
        "id": "g7kOegmWZMXo"
      },
      "outputs": [],
      "source": [
        "type(myset)"
      ]
    },
    {
      "cell_type": "code",
      "execution_count": null,
      "metadata": {
        "id": "9hiHrECzZUQH"
      },
      "outputs": [],
      "source": [
        "myset.add(1)\n",
        "myset.add(2)\n",
        "myset.add(3)"
      ]
    },
    {
      "cell_type": "code",
      "execution_count": null,
      "metadata": {
        "id": "QNQ7synrZUIf"
      },
      "outputs": [],
      "source": [
        "myset"
      ]
    },
    {
      "cell_type": "code",
      "execution_count": null,
      "metadata": {
        "id": "7TXOT5PHZlG-"
      },
      "outputs": [],
      "source": [
        "# 리스트와는 다르게 중복허용X\n",
        "myset.add(1)\n",
        "myset.add(2)\n",
        "myset.add(3)\n",
        "myset.add(1)\n",
        "myset.add(2)\n",
        "myset.add(3)"
      ]
    },
    {
      "cell_type": "code",
      "execution_count": null,
      "metadata": {
        "id": "69kuRwVTZlAd"
      },
      "outputs": [],
      "source": [
        "myset"
      ]
    },
    {
      "cell_type": "code",
      "execution_count": null,
      "metadata": {
        "id": "o7WiOXmMZu0r"
      },
      "outputs": [],
      "source": [
        "myset.add(4)"
      ]
    },
    {
      "cell_type": "code",
      "execution_count": null,
      "metadata": {
        "id": "ovA1nLoa0suO"
      },
      "outputs": [],
      "source": [
        "myset"
      ]
    },
    {
      "cell_type": "code",
      "execution_count": null,
      "metadata": {
        "id": "-V4HSeYUUpym"
      },
      "outputs": [],
      "source": [
        "s1 = set([1, 2, 3])\n",
        "s1.update([4, 5, 6])\n",
        "s1"
      ]
    },
    {
      "cell_type": "code",
      "execution_count": null,
      "metadata": {
        "id": "FwWdfjPoUwGE"
      },
      "outputs": [],
      "source": [
        "# 한 개, 또는 여러 개의 값을 한꺼번에 추가(update)할 때는 사용한다.\n",
        "s1 = set([1, 2, 3])\n",
        "s1.update([4])\n",
        "s1"
      ]
    },
    {
      "cell_type": "code",
      "execution_count": null,
      "metadata": {
        "id": "3m6dPEOtVCsL"
      },
      "outputs": [],
      "source": [
        "# remove는 add와 같이 한 개만 지정할 수 있다.\n",
        "s1 = set([1, 2, 3])\n",
        "s1.remove(2)\n",
        "s1"
      ]
    },
    {
      "cell_type": "markdown",
      "metadata": {
        "id": "57vgLEysYLus"
      },
      "source": [
        "### 4-3. dict (사전형 집합, key와 value 쌍)"
      ]
    },
    {
      "cell_type": "markdown",
      "metadata": {
        "id": "Y1nD5M8IYUh2"
      },
      "source": [
        "{}로 표현합니다"
      ]
    },
    {
      "cell_type": "code",
      "execution_count": null,
      "metadata": {
        "id": "R3WbGCJSa-n_"
      },
      "outputs": [],
      "source": [
        "# 비어있는 dict를 생성\n",
        "# 추가할 수 있다. 변경가능하다.\n",
        "mydict = dict()"
      ]
    },
    {
      "cell_type": "code",
      "execution_count": null,
      "metadata": {
        "id": "ihPXvBAZ0-v2"
      },
      "outputs": [],
      "source": [
        "mydict"
      ]
    },
    {
      "cell_type": "code",
      "execution_count": null,
      "metadata": {
        "id": "cUcgXj1aa_Xj"
      },
      "outputs": [],
      "source": [
        "type(mydict)"
      ]
    },
    {
      "cell_type": "markdown",
      "metadata": {
        "id": "aciJNcbDZ9mc"
      },
      "source": [
        "#### 값을 추가하기"
      ]
    },
    {
      "cell_type": "code",
      "execution_count": null,
      "metadata": {
        "id": "D-SAZCUHYWuc"
      },
      "outputs": [],
      "source": [
        "mydict = dict()"
      ]
    },
    {
      "cell_type": "code",
      "execution_count": null,
      "metadata": {
        "id": "PfON-IIcYZ_e"
      },
      "outputs": [],
      "source": [
        "# key-> 'apple'x, value=123456\n",
        "mydict['apple'] = 123456"
      ]
    },
    {
      "cell_type": "code",
      "execution_count": null,
      "metadata": {
        "id": "qj2OiMKaYlVO"
      },
      "outputs": [],
      "source": [
        "mydict['apple']"
      ]
    },
    {
      "cell_type": "code",
      "execution_count": null,
      "metadata": {
        "id": "tCTihjSJN9sa"
      },
      "outputs": [],
      "source": [
        "mydict"
      ]
    },
    {
      "cell_type": "code",
      "execution_count": null,
      "metadata": {
        "id": "W47eMGTdYfhM"
      },
      "outputs": [],
      "source": [
        "mydict[0] = 2"
      ]
    },
    {
      "cell_type": "code",
      "execution_count": null,
      "metadata": {
        "id": "BuCJWnwFYhV2"
      },
      "outputs": [],
      "source": [
        "mydict[0]"
      ]
    },
    {
      "cell_type": "code",
      "source": [
        "mydict"
      ],
      "metadata": {
        "id": "jyiSZUBSX84Q"
      },
      "execution_count": null,
      "outputs": []
    },
    {
      "cell_type": "markdown",
      "metadata": {
        "id": "c2pY_ZcmaNV1"
      },
      "source": [
        "mydict의 키는 **문자형** / **숫자형**이 혼용 가능합니다"
      ]
    },
    {
      "cell_type": "code",
      "source": [
        "mydict[3.14] = 'test'"
      ],
      "metadata": {
        "id": "0SlbskDNYM8K"
      },
      "execution_count": null,
      "outputs": []
    },
    {
      "cell_type": "code",
      "execution_count": null,
      "metadata": {
        "id": "KGR-kooHYisN"
      },
      "outputs": [],
      "source": [
        "mydict"
      ]
    },
    {
      "cell_type": "code",
      "source": [
        "mydict['test1'] = (1234,2345)"
      ],
      "metadata": {
        "id": "JLJ4cCgSYSF8"
      },
      "execution_count": null,
      "outputs": []
    },
    {
      "cell_type": "markdown",
      "metadata": {
        "id": "VtHeeb0lacre"
      },
      "source": [
        "float(실수)도 키로써 입력이 가능합니다."
      ]
    },
    {
      "cell_type": "code",
      "source": [
        "mydict"
      ],
      "metadata": {
        "id": "E9Lak-coYWdl"
      },
      "execution_count": null,
      "outputs": []
    },
    {
      "cell_type": "markdown",
      "metadata": {
        "id": "fJvfGTfDYy8V"
      },
      "source": [
        "#### 값을 바꾸기"
      ]
    },
    {
      "cell_type": "code",
      "execution_count": null,
      "metadata": {
        "id": "6Ho7ZevOYpXW"
      },
      "outputs": [],
      "source": [
        "mydict['apple'] = 'byebye'"
      ]
    },
    {
      "cell_type": "code",
      "execution_count": null,
      "metadata": {
        "id": "oG9LcfG4Ywlw"
      },
      "outputs": [],
      "source": [
        "mydict"
      ]
    },
    {
      "cell_type": "markdown",
      "metadata": {
        "id": "0SEF7gLRY_Ik"
      },
      "source": [
        "#### 길이 파악하기"
      ]
    },
    {
      "cell_type": "code",
      "execution_count": null,
      "metadata": {
        "id": "YCAsgXFTZCmh"
      },
      "outputs": [],
      "source": [
        "len(mydict)"
      ]
    },
    {
      "cell_type": "code",
      "execution_count": null,
      "metadata": {
        "id": "uc9o7NBsTeWx"
      },
      "outputs": [],
      "source": [
        ""
      ]
    }
  ],
  "metadata": {
    "colab": {
      "collapsed_sections": [],
      "name": "1_python의자료형.ipynb",
      "private_outputs": true,
      "provenance": []
    },
    "kernelspec": {
      "display_name": "Python 3",
      "language": "python",
      "name": "python3"
    },
    "language_info": {
      "codemirror_mode": {
        "name": "ipython",
        "version": 3
      },
      "file_extension": ".py",
      "mimetype": "text/x-python",
      "name": "python",
      "nbconvert_exporter": "python",
      "pygments_lexer": "ipython3",
      "version": "3.8.5"
    },
    "vp": {
      "base_numbering": 1,
      "nav_menu": {},
      "number_sections": true,
      "sideBar": true,
      "title_cell": "VisualPython",
      "title_sidebar": "VisualPython",
      "vpPosition": {
        "height": "calc(100% - 180px)",
        "right": "10px",
        "top": "110px",
        "width": "50%"
      },
      "vp_cell": false,
      "vp_section_display": true,
      "vp_window_display": false
    }
  },
  "nbformat": 4,
  "nbformat_minor": 0
}