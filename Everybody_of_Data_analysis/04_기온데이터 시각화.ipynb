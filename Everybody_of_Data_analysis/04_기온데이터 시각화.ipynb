{
 "cells": [
  {
   "cell_type": "code",
   "execution_count": 1,
   "id": "e19c51cb",
   "metadata": {},
   "outputs": [
    {
     "data": {
      "image/png": "[encoded data removed]",
      "text/plain": [
       "<Figure size 432x288 with 1 Axes>"
      ]
     },
     "metadata": {
      "needs_background": "light"
     },
     "output_type": "display_data"
    }
   ],
   "source": [
    "import matplotlib.pyplot as plt \n",
    "\n",
    "plt.hist([1,1,2,3,4,5,6,6,7,8,10])\n",
    "plt.show()"
   ]
  },
  {
   "cell_type": "code",
   "execution_count": 5,
   "id": "783f2f3d",
   "metadata": {},
   "outputs": [
    {
     "name": "stdout",
     "output_type": "stream",
     "text": [
      "1\n"
     ]
    }
   ],
   "source": [
    "# 주사위(6가지 숫자)\n",
    "# 1 ~ 6 사이의 랜덤 숫자 만들기\n",
    "\n",
    "import random \n",
    "\n",
    "print(random.randint(1,6))"
   ]
  },
  {
   "cell_type": "code",
   "execution_count": 9,
   "id": "6c1e6592",
   "metadata": {},
   "outputs": [
    {
     "name": "stdout",
     "output_type": "stream",
     "text": [
      "3\n",
      "2\n",
      "5\n",
      "4\n",
      "5\n"
     ]
    }
   ],
   "source": [
    "for i in range(5):\n",
    "    print(random.randint(1,6))"
   ]
  },
  {
   "cell_type": "code",
   "execution_count": 17,
   "id": "c4506d52",
   "metadata": {},
   "outputs": [
    {
     "name": "stdout",
     "output_type": "stream",
     "text": [
      "[4, 2, 4, 4, 1]\n"
     ]
    },
    {
     "data": {
      "image/png": "[encoded data removed]",
      "text/plain": [
       "<Figure size 432x288 with 1 Axes>"
      ]
     },
     "metadata": {
      "needs_background": "light"
     },
     "output_type": "display_data"
    }
   ],
   "source": [
    "import random \n",
    "\n",
    "dice = []\n",
    "for i in range(5):\n",
    "    dice.append(random.randint(1,6))\n",
    "\n",
    "print(dice)\n",
    "\n",
    "import matplotlib.pyplot as plt \n",
    "\n",
    "plt.hist(dice, bins=6) # bins : 계급구간\n",
    "plt.show()"
   ]
  },
  {
   "cell_type": "code",
   "execution_count": 20,
   "id": "88a4ba47",
   "metadata": {},
   "outputs": [
    {
     "name": "stdout",
     "output_type": "stream",
     "text": [
      "[6, 4, 2, 3, 4, 3, 4, 3, 4, 3, 6, 3, 6, 6, 2, 6, 1, 1, 4, 3, 3, 6, 4, 4, 6, 2, 5, 1, 4, 5, 1, 1, 4, 1, 5, 4, 6, 3, 2, 6, 2, 6, 6, 5, 1, 6, 4, 2, 4, 6, 3, 2, 3, 5, 4, 3, 6, 6, 6, 6, 1, 4, 3, 5, 6, 4, 6, 4, 4, 1, 5, 2, 1, 6, 2, 4, 6, 4, 5, 5, 3, 5, 6, 6, 3, 6, 5, 5, 6, 1, 1, 5, 1, 4, 3, 1, 3, 4, 6, 3, 3, 6, 3, 5, 6, 1, 5, 5, 1, 2, 2, 3, 5, 4, 4, 1, 3, 6, 2, 2, 2, 6, 4, 3, 1, 4, 5, 2, 3, 3, 6, 5, 2, 4, 6, 4, 4, 1, 6, 5, 5, 2, 2, 1, 3, 6, 5, 5, 4, 5, 4, 1, 6, 3, 2, 2, 3, 1, 4, 1, 5, 6, 5, 3, 1, 4, 6, 6, 3, 6, 3, 2, 4, 4, 1, 1, 6, 1, 4, 5, 6, 6, 6, 6, 1, 3, 2, 2, 3, 3, 3, 3, 2, 4, 3, 5, 4, 1, 5, 4, 3, 3, 3, 6, 2, 6, 6, 2, 1, 2, 3, 2, 6, 2, 2, 3, 2, 2, 6, 1, 3, 6, 5, 5, 3, 4, 5, 3, 5, 4, 6, 6, 1, 3, 4, 1, 4, 5, 3, 2, 3, 3, 3, 2, 3, 2, 1, 3, 2, 1, 6, 1, 2, 1, 3, 6, 6, 3, 3, 2, 2, 3, 1, 5, 1, 1, 6, 4, 4, 4, 1, 2, 1, 4, 6, 2, 4, 3, 1, 2, 1, 3, 1, 6, 1, 4, 3, 1, 3, 1, 1, 5, 6, 5, 5, 6, 5, 5, 3, 2, 4, 6, 2, 1, 3, 6, 1, 2, 4, 3, 1, 6, 3, 5, 5, 1, 5, 4, 5, 5, 1, 2, 2, 2, 4, 3, 4, 4, 5, 4, 6, 4, 4, 6, 5, 2, 2, 1, 6, 2, 2, 4, 1, 1, 2, 4, 3, 6, 6, 5, 3, 3, 4, 2, 6, 5, 4, 1, 2, 1, 6, 1, 2, 2, 6, 4, 4, 4, 4, 2, 5, 6, 2, 5, 6, 3, 6, 2, 2, 1, 1, 5, 4, 3, 5, 5, 2, 2, 6, 2, 3, 2, 2, 6, 4, 4, 5, 4, 4, 6, 6, 6, 2, 4, 6, 1, 3, 3, 5, 5, 6, 6, 3, 4, 5, 5, 3, 6, 4, 3, 4, 4, 6, 3, 6, 1, 6, 2, 5, 6, 5, 1, 1, 4, 1, 6, 6, 5, 1, 5, 2, 6, 3, 6, 5, 1, 6, 5, 4, 2, 4, 5, 1, 5, 3, 4, 4, 1, 4, 4, 2, 4, 4, 6, 5, 4, 1, 5, 4, 3, 6, 4, 4, 2, 4, 1, 2, 2, 6, 1, 5, 1, 5, 2, 1, 1, 3, 6, 2, 5, 5, 3, 3, 6, 5, 1, 5, 4, 2, 2]\n"
     ]
    },
    {
     "data": {
      "image/png": "[encoded data removed]",
      "text/plain": [
       "<Figure size 432x288 with 1 Axes>"
      ]
     },
     "metadata": {
      "needs_background": "light"
     },
     "output_type": "display_data"
    }
   ],
   "source": [
    "import random \n",
    "\n",
    "dice = []\n",
    "for i in range(500):\n",
    "    dice.append(random.randint(1,6))\n",
    "\n",
    "print(dice)\n",
    "\n",
    "import matplotlib.pyplot as plt \n",
    "\n",
    "plt.hist(dice, bins=6) # bins : 계급구간\n",
    "plt.show()"
   ]
  },
  {
   "cell_type": "code",
   "execution_count": 24,
   "id": "f2ff4309",
   "metadata": {},
   "outputs": [
    {
     "data": {
      "image/png": "[encoded data removed]",
      "text/plain": [
       "<Figure size 432x288 with 1 Axes>"
      ]
     },
     "metadata": {
      "needs_background": "light"
     },
     "output_type": "display_data"
    }
   ],
   "source": [
    "import csv \n",
    "import matplotlib.pyplot as plt \n",
    "\n",
    "f = open('seoul.csv', 'r', encoding='cp949')\n",
    "data = csv.reader(f)\n",
    "\n",
    "next(data)\n",
    "\n",
    "result = []\n",
    "\n",
    "for row in data: \n",
    "    if row[-1] != '':\n",
    "        result.append(float(row[-1]))\n",
    "\n",
    "plt.hist(result, bins=100, color='r')\n",
    "plt.show()"
   ]
  },
  {
   "cell_type": "code",
   "execution_count": 29,
   "id": "e34bd4b1",
   "metadata": {},
   "outputs": [],
   "source": [
    "# [ 실습 ] 8월의 최고 기온 데이터 히스토그램으로 표현하기(스스로 해보기)"
   ]
  },
  {
   "cell_type": "code",
   "execution_count": 31,
   "id": "406dcae2",
   "metadata": {},
   "outputs": [
    {
     "data": {
      "image/png": "[encoded data removed]",
      "text/plain": [
       "<Figure size 432x288 with 1 Axes>"
      ]
     },
     "metadata": {
      "needs_background": "light"
     },
     "output_type": "display_data"
    }
   ],
   "source": [
    "import csv\n",
    "\n",
    "f = open('seoul.csv','r', encoding='cp949')\n",
    "data = csv.reader(f)\n",
    "\n",
    "next(data)\n",
    "\n",
    "aug_high = []\n",
    "\n",
    "for row in data:\n",
    "#     print(row[0].split('-')[1])\n",
    "    if row[-1] != '' and row[0].split('-')[1] == '08':\n",
    "        aug_high.append(float(row[-1]))\n",
    "        \n",
    "# print(high)\n",
    "\n",
    "import matplotlib.pyplot as plt\n",
    "plt.hist(aug_high)\n",
    "plt.show()"
   ]
  },
  {
   "cell_type": "code",
   "execution_count": 32,
   "id": "c35f68bf",
   "metadata": {},
   "outputs": [
    {
     "data": {
      "image/png": "[encoded data removed]",
      "text/plain": [
       "<Figure size 432x288 with 1 Axes>"
      ]
     },
     "metadata": {
      "needs_background": "light"
     },
     "output_type": "display_data"
    }
   ],
   "source": [
    "import csv\n",
    "\n",
    "f = open('seoul.csv','r', encoding='cp949')\n",
    "data = csv.reader(f)\n",
    "\n",
    "next(data)\n",
    "\n",
    "aug_high = []\n",
    "\n",
    "for row in data:\n",
    "    month = row[0].split('-')[1]\n",
    "    if row[-1] != '':\n",
    "        if month == '08':\n",
    "            aug_high.append(float(row[-1]))\n",
    "        \n",
    "# print(high)\n",
    "\n",
    "import matplotlib.pyplot as plt\n",
    "plt.hist(aug_high, bins=100, color='r')\n",
    "plt.show()"
   ]
  },
  {
   "cell_type": "code",
   "execution_count": null,
   "id": "8c53437d",
   "metadata": {},
   "outputs": [],
   "source": []
  }
 ],
 "metadata": {
  "kernelspec": {
   "display_name": "Python 3 (ipykernel)",
   "language": "python",
   "name": "python3"
  },
  "language_info": {
   "codemirror_mode": {
    "name": "ipython",
    "version": 3
   },
   "file_extension": ".py",
   "mimetype": "text/x-python",
   "name": "python",
   "nbconvert_exporter": "python",
   "pygments_lexer": "ipython3",
   "version": "3.9.12"
  }
 },
 "nbformat": 4,
 "nbformat_minor": 5
}
