{
  "nbformat": 4,
  "nbformat_minor": 0,
  "metadata": {
    "colab": {
      "name": "04_python _04 사용자 정의 함수 .ipynb",
      "provenance": [],
      "collapsed_sections": []
    },
    "kernelspec": {
      "name": "python3",
      "display_name": "Python 3"
    },
    "language_info": {
      "name": "python"
    }
  },
  "cells": [
    {
      "cell_type": "code",
      "execution_count": 1,
      "metadata": {
        "id": "EzclHFlbX5a4"
      },
      "outputs": [],
      "source": [
        "# 사용자 함수 정의 \n",
        "# 사용자가 정의하는 함수의 형태 \n",
        "# input과 output 관계를 내부에서 정의 \n",
        "# def, lambda(축약형)"
      ]
    },
    {
      "cell_type": "code",
      "source": [
        "# 함수 정의 \n",
        "# f(x) = x + 1\n",
        "\n",
        "# 1. def 방식 \n",
        "\n",
        "# def 함수이름(인수1, 인수2, 인수3): \n",
        "#     함수 본문 \n",
        "#     return 반환할 객체\n",
        "\n",
        "# 하나의 숫자를 넣어서 곱하기 10한 값을 반환(return) 하는 함수 만들어봐요 \n",
        "\n",
        "def f_mul(x): \n",
        "    v1 = x*10\n",
        "    return v1"
      ],
      "metadata": {
        "id": "SNfXlhhwYPCe"
      },
      "execution_count": 2,
      "outputs": []
    },
    {
      "cell_type": "code",
      "source": [
        "f_mul(1000)"
      ],
      "metadata": {
        "colab": {
          "base_uri": "https://localhost:8080/"
        },
        "id": "pGcJQYhdYxXe",
        "outputId": "768bfb1e-1589-4106-a0ad-b5ebbb38cd44"
      },
      "execution_count": 4,
      "outputs": [
        {
          "output_type": "execute_result",
          "data": {
            "text/plain": [
              "10000"
            ]
          },
          "metadata": {},
          "execution_count": 4
        }
      ]
    },
    {
      "cell_type": "code",
      "source": [
        "# 2개의 숫자(2개의 인자를 넣구나!) 넣어서 2 숫자의 곱을 반환 \n",
        "\n",
        "def f_2_mul(x,y): \n",
        "    return (x*y)\n",
        "\n",
        "print(f_2_mul(3,10))"
      ],
      "metadata": {
        "colab": {
          "base_uri": "https://localhost:8080/"
        },
        "id": "MDMCaCYQY0LR",
        "outputId": "57b9d275-de6a-4955-c915-2b97a4981769"
      },
      "execution_count": 6,
      "outputs": [
        {
          "output_type": "stream",
          "name": "stdout",
          "text": [
            "30\n"
          ]
        }
      ]
    },
    {
      "cell_type": "code",
      "source": [
        "def f_2_mul(x,y): \n",
        "    v1 = (x*y)\n",
        "    return v1\n",
        "\n",
        "print(f_2_mul(3,10))"
      ],
      "metadata": {
        "colab": {
          "base_uri": "https://localhost:8080/"
        },
        "id": "IjV3gtTfZ8rh",
        "outputId": "0c342b59-0cdd-4a5e-96c5-6d498ac8c0ac"
      },
      "execution_count": 7,
      "outputs": [
        {
          "output_type": "stream",
          "name": "stdout",
          "text": [
            "30\n"
          ]
        }
      ]
    },
    {
      "cell_type": "code",
      "source": [
        "# 인수에 default 값(기본값 선언)\n",
        "\n",
        "# def f_d(x=1, y):\n",
        "#     return (x*y)\n",
        "\n",
        "# SyntaxError: non-default argument follows default argument\n",
        "# 첫번째 인수에 기본값 정의하면, 뒤에 나오는 인수도 기본값 정의해 줘야 함 "
      ],
      "metadata": {
        "id": "Ahr28pNfZ8uB"
      },
      "execution_count": 9,
      "outputs": []
    },
    {
      "cell_type": "code",
      "source": [
        "def f_d(x=1, y=1):\n",
        "    return (x*y)"
      ],
      "metadata": {
        "id": "9AjEPfxvaitP"
      },
      "execution_count": 10,
      "outputs": []
    },
    {
      "cell_type": "code",
      "source": [
        "def f_d(y, x=1):\n",
        "    return (x*y)\n",
        "\n",
        "# default 값을 갖는 인수를 맨 뒤에 배치 "
      ],
      "metadata": {
        "id": "AQtjpXwSaiv2"
      },
      "execution_count": 13,
      "outputs": []
    },
    {
      "cell_type": "code",
      "source": [
        "# lambda (함수 축약형)\n",
        "# 비교적 단순한 연산 및 return 반환할 때 사용 \n",
        "\n",
        "# 예제 : 숫자를 넣을 게요. 여기에 10을 곱한 값을 리턴하세요 \n",
        "\n",
        "f1 = lambda x : x*10\n",
        "f1(7)"
      ],
      "metadata": {
        "colab": {
          "base_uri": "https://localhost:8080/"
        },
        "id": "P1hNU8pNaiyH",
        "outputId": "4b0e06ff-0d9d-4720-844c-cf4a80b19414"
      },
      "execution_count": 15,
      "outputs": [
        {
          "output_type": "execute_result",
          "data": {
            "text/plain": [
              "70"
            ]
          },
          "metadata": {},
          "execution_count": 15
        }
      ]
    },
    {
      "cell_type": "code",
      "source": [
        "# 문제 \n",
        "# 3개 숫자를 전달받아 1번째, 2번째 합에 3번째 숫자의 곱을 반환하세요 \n",
        "\n",
        "f2 = lambda x,y,z : (x+y)*z\n",
        "f2(2,5,3)"
      ],
      "metadata": {
        "colab": {
          "base_uri": "https://localhost:8080/"
        },
        "id": "_4h4LQPAai0I",
        "outputId": "a9ae2eb3-5bcc-4981-d6ae-9c962ee4c7bf"
      },
      "execution_count": 16,
      "outputs": [
        {
          "output_type": "execute_result",
          "data": {
            "text/plain": [
              "21"
            ]
          },
          "metadata": {},
          "execution_count": 16
        }
      ]
    },
    {
      "cell_type": "code",
      "source": [
        "f1 = lambda x : x*20\n",
        "f1(4)"
      ],
      "metadata": {
        "colab": {
          "base_uri": "https://localhost:8080/"
        },
        "id": "v_H3NwHNdN8G",
        "outputId": "ff36baff-bfa6-4a11-ab51-6da97476b2e1"
      },
      "execution_count": 25,
      "outputs": [
        {
          "output_type": "execute_result",
          "data": {
            "text/plain": [
              "80"
            ]
          },
          "metadata": {},
          "execution_count": 25
        }
      ]
    },
    {
      "cell_type": "code",
      "source": [
        "l1 = [1,2,5,10]\n",
        "# f1(l1)\n",
        "# 리스트가 20번 반복되네. 내가 원했던게 아닌데.."
      ],
      "metadata": {
        "id": "Kl0pUnfac7dI"
      },
      "execution_count": 30,
      "outputs": []
    },
    {
      "cell_type": "code",
      "source": [
        "# map() 함수 (** 반드시 내고 싶당....탐나는 문제)\n",
        "\n",
        "# 1) for 문 처리 \n",
        "\n",
        "l2 = []\n",
        "for i in l1: \n",
        "    l2.append(i*20)\n",
        "\n",
        "print(l2)"
      ],
      "metadata": {
        "colab": {
          "base_uri": "https://localhost:8080/"
        },
        "id": "d9Kys4YjZ8v-",
        "outputId": "2eae11bf-a4c4-4c5e-f53a-ea17ddb3cac1"
      },
      "execution_count": 31,
      "outputs": [
        {
          "output_type": "stream",
          "name": "stdout",
          "text": [
            "[20, 40, 100, 200]\n"
          ]
        }
      ]
    },
    {
      "cell_type": "code",
      "source": [
        "# 2) 사용자 정의 함수 + map()\n",
        "\n",
        "# map(func,      # 적용할 함수\n",
        "#     iterable)  # 반복하려고 하는 추가할 인수"
      ],
      "metadata": {
        "id": "Phq3hV_Gd0jy"
      },
      "execution_count": null,
      "outputs": []
    },
    {
      "cell_type": "code",
      "source": [
        "f1(4)"
      ],
      "metadata": {
        "colab": {
          "base_uri": "https://localhost:8080/"
        },
        "id": "RA5CyvCIeezH",
        "outputId": "811aa771-8c60-4c07-ed8c-306a99548e6a"
      },
      "execution_count": 32,
      "outputs": [
        {
          "output_type": "execute_result",
          "data": {
            "text/plain": [
              "80"
            ]
          },
          "metadata": {},
          "execution_count": 32
        }
      ]
    },
    {
      "cell_type": "code",
      "source": [
        "l1"
      ],
      "metadata": {
        "colab": {
          "base_uri": "https://localhost:8080/"
        },
        "id": "Obar8eAKegQD",
        "outputId": "bbfe65a2-f7af-492c-d8d5-0f43a267794c"
      },
      "execution_count": 33,
      "outputs": [
        {
          "output_type": "execute_result",
          "data": {
            "text/plain": [
              "[1, 2, 5, 10]"
            ]
          },
          "metadata": {},
          "execution_count": 33
        }
      ]
    },
    {
      "cell_type": "code",
      "source": [
        "map(f1,l1)"
      ],
      "metadata": {
        "colab": {
          "base_uri": "https://localhost:8080/"
        },
        "id": "_9K0H4y8ekhq",
        "outputId": "5cabe68b-d00d-4fcd-ff99-6c2546d7034c"
      },
      "execution_count": 34,
      "outputs": [
        {
          "output_type": "execute_result",
          "data": {
            "text/plain": [
              "<map at 0x7f7206c8c290>"
            ]
          },
          "metadata": {},
          "execution_count": 34
        }
      ]
    },
    {
      "cell_type": "code",
      "source": [
        "list(map(f1,l1))"
      ],
      "metadata": {
        "colab": {
          "base_uri": "https://localhost:8080/"
        },
        "id": "WpSyl9Deem6E",
        "outputId": "65df7fa6-110e-4003-fd76-1cde2183cfb5"
      },
      "execution_count": 35,
      "outputs": [
        {
          "output_type": "execute_result",
          "data": {
            "text/plain": [
              "[20, 40, 100, 200]"
            ]
          },
          "metadata": {},
          "execution_count": 35
        }
      ]
    },
    {
      "cell_type": "code",
      "source": [
        "# 연습해 볼까요? ( very important ******)\n",
        "# 하나의 숫자를 전달 받을 거예요. \n",
        "# 10보다 크면 3을 곱하구요\n",
        "# 작거나 같으면 2를 곱한 결과를 return 하세요 \n",
        "\n",
        "l2 = [3,5,7,12]\n",
        "\n",
        "def f3(x): \n",
        "    if x > 10: \n",
        "        v1 = x*3\n",
        "    else: \n",
        "        v1 = x*2\n",
        "    return v1 \n",
        "\n",
        "print(f3(11))\n",
        "print(f3(7))\n",
        "# print(f3(l2))\n",
        "# TypeError: '>' not supported between instances of 'list' and 'int'"
      ],
      "metadata": {
        "colab": {
          "base_uri": "https://localhost:8080/"
        },
        "id": "sLXovHmAetLo",
        "outputId": "016db71f-91f6-46dc-dbae-a92d585157df"
      },
      "execution_count": 39,
      "outputs": [
        {
          "output_type": "stream",
          "name": "stdout",
          "text": [
            "33\n",
            "14\n"
          ]
        }
      ]
    },
    {
      "cell_type": "code",
      "source": [
        "list(map(f3, l2))"
      ],
      "metadata": {
        "colab": {
          "base_uri": "https://localhost:8080/"
        },
        "id": "muXO-aJEfWKL",
        "outputId": "4673b358-6777-479a-c0da-d9ec298117cf"
      },
      "execution_count": 41,
      "outputs": [
        {
          "output_type": "execute_result",
          "data": {
            "text/plain": [
              "[6, 10, 14, 36]"
            ]
          },
          "metadata": {},
          "execution_count": 41
        }
      ]
    },
    {
      "cell_type": "code",
      "source": [
        "l2 = [3,5,7,11]\n",
        "\n",
        "def f3(x):\n",
        "  if x > 10: \n",
        "    v1 = x * 3\n",
        "  else :\n",
        "    v1 = x * 2\n",
        "  return v1\n",
        "\n",
        "x = input('x 값: ')\n",
        "list(map(f3,l2))"
      ],
      "metadata": {
        "colab": {
          "base_uri": "https://localhost:8080/"
        },
        "id": "DIbku-xRfoab",
        "outputId": "c4469f29-783b-4601-8ee3-1892f700cd54"
      },
      "execution_count": 46,
      "outputs": [
        {
          "name": "stdout",
          "output_type": "stream",
          "text": [
            "x 값: 12\n"
          ]
        },
        {
          "output_type": "execute_result",
          "data": {
            "text/plain": [
              "[6, 10, 14, 33]"
            ]
          },
          "metadata": {},
          "execution_count": 46
        }
      ]
    },
    {
      "cell_type": "code",
      "source": [
        "x=input()\n",
        "x=int(x)\n",
        "\n",
        "def f3(x):\n",
        "  if x>10:\n",
        "    v1 = x*3\n",
        "  else:\n",
        "    v1 = x*2\n",
        "  return v1\n",
        "\n",
        "print(f3(x))"
      ],
      "metadata": {
        "colab": {
          "base_uri": "https://localhost:8080/"
        },
        "id": "gJTJC6CQjNJw",
        "outputId": "dc4ea295-5315-4ab2-a13b-cebe48eb3726"
      },
      "execution_count": 47,
      "outputs": [
        {
          "output_type": "stream",
          "name": "stdout",
          "text": [
            "12\n",
            "36\n"
          ]
        }
      ]
    }
  ]
}