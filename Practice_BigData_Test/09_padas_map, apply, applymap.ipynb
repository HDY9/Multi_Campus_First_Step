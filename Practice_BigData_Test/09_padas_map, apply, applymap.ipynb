{
 "cells": [
  {
   "cell_type": "code",
   "execution_count": 2,
   "id": "5bfde7b8",
   "metadata": {},
   "outputs": [],
   "source": [
    "import pandas as pd \n",
    "from pandas import Series, DataFrame "
   ]
  },
  {
   "cell_type": "code",
   "execution_count": 3,
   "id": "3f0835e4",
   "metadata": {},
   "outputs": [],
   "source": [
    "# 적용함수 \n",
    "# 함수에 데이터들의 일부를 전달, 함수의 적용이 반복되도록 도와주는 함수>>메소드 "
   ]
  },
  {
   "cell_type": "code",
   "execution_count": 4,
   "id": "9252b337",
   "metadata": {},
   "outputs": [
    {
     "data": {
      "text/html": [
       "<div>\n",
       "<style scoped>\n",
       "    .dataframe tbody tr th:only-of-type {\n",
       "        vertical-align: middle;\n",
       "    }\n",
       "\n",
       "    .dataframe tbody tr th {\n",
       "        vertical-align: top;\n",
       "    }\n",
       "\n",
       "    .dataframe thead th {\n",
       "        text-align: right;\n",
       "    }\n",
       "</style>\n",
       "<table border=\"1\" class=\"dataframe\">\n",
       "  <thead>\n",
       "    <tr style=\"text-align: right;\">\n",
       "      <th></th>\n",
       "      <th>A</th>\n",
       "      <th>B</th>\n",
       "    </tr>\n",
       "  </thead>\n",
       "  <tbody>\n",
       "    <tr>\n",
       "      <th>0</th>\n",
       "      <td>1,200</td>\n",
       "      <td>1,300</td>\n",
       "    </tr>\n",
       "    <tr>\n",
       "      <th>1</th>\n",
       "      <td>1,400</td>\n",
       "      <td>1,500</td>\n",
       "    </tr>\n",
       "  </tbody>\n",
       "</table>\n",
       "</div>"
      ],
      "text/plain": [
       "       A      B\n",
       "0  1,200  1,300\n",
       "1  1,400  1,500"
      ]
     },
     "execution_count": 4,
     "metadata": {},
     "output_type": "execute_result"
    }
   ],
   "source": [
    "DataFrame([['1,200','1,300'],['1,400','1,500']], columns = ['A','B'])"
   ]
  },
  {
   "cell_type": "code",
   "execution_count": 5,
   "id": "a0892703",
   "metadata": {},
   "outputs": [],
   "source": [
    "df1 = DataFrame([['1,200','1,300'],['1,400','1,500']], columns = ['A','B'])"
   ]
  },
  {
   "cell_type": "code",
   "execution_count": 6,
   "id": "3c8ffed8",
   "metadata": {},
   "outputs": [
    {
     "data": {
      "text/plain": [
       "A    object\n",
       "B    object\n",
       "dtype: object"
      ]
     },
     "execution_count": 6,
     "metadata": {},
     "output_type": "execute_result"
    }
   ],
   "source": [
    "df1.dtypes"
   ]
  },
  {
   "cell_type": "code",
   "execution_count": 8,
   "id": "5def43bc",
   "metadata": {},
   "outputs": [
    {
     "data": {
      "text/plain": [
       "0    1,200\n",
       "1    1,400\n",
       "Name: A, dtype: object"
      ]
     },
     "execution_count": 8,
     "metadata": {},
     "output_type": "execute_result"
    }
   ],
   "source": [
    "df1['A']"
   ]
  },
  {
   "cell_type": "code",
   "execution_count": 9,
   "id": "b6bf3ea1",
   "metadata": {},
   "outputs": [
    {
     "data": {
      "text/plain": [
       "'1,2001,400'"
      ]
     },
     "execution_count": 9,
     "metadata": {},
     "output_type": "execute_result"
    }
   ],
   "source": [
    "df1['A'].sum() \n",
    "# 문자열 결합 >> 문자의 연장\n",
    "# 1,200 + 1,400"
   ]
  },
  {
   "cell_type": "code",
   "execution_count": 10,
   "id": "5875e689",
   "metadata": {},
   "outputs": [
    {
     "data": {
      "text/plain": [
       "str"
      ]
     },
     "execution_count": 10,
     "metadata": {},
     "output_type": "execute_result"
    }
   ],
   "source": [
    "type(df1['A'].sum() )"
   ]
  },
  {
   "cell_type": "code",
   "execution_count": 13,
   "id": "278c7d08",
   "metadata": {
    "scrolled": true
   },
   "outputs": [
    {
     "data": {
      "text/plain": [
       "0    1200\n",
       "1    1400\n",
       "Name: A, dtype: object"
      ]
     },
     "execution_count": 13,
     "metadata": {},
     "output_type": "execute_result"
    }
   ],
   "source": [
    "df1['A'].str.replace(',','')"
   ]
  },
  {
   "cell_type": "code",
   "execution_count": 13,
   "id": "f89d003a",
   "metadata": {
    "scrolled": true
   },
   "outputs": [
    {
     "data": {
      "text/plain": [
       "0    1200\n",
       "1    1400\n",
       "Name: A, dtype: object"
      ]
     },
     "execution_count": 13,
     "metadata": {},
     "output_type": "execute_result"
    }
   ],
   "source": [
    "df1['A'].str.replace(',','')\n",
    "# 컬럼 각 값에 replace 전달, 반복 연산 처리해 줌 "
   ]
  },
  {
   "cell_type": "code",
   "execution_count": 15,
   "id": "a7999edb",
   "metadata": {},
   "outputs": [],
   "source": [
    "# df1.str.replace(',','')\n",
    "# AttributeError: 'DataFrame' object has no attribute 'str'\n",
    "# 데이터프레임 형태는 string(문자) 속성이 없음 "
   ]
  },
  {
   "cell_type": "markdown",
   "id": "7c91abf4",
   "metadata": {},
   "source": [
    "1. applymap \n",
    "- DataFrame 객체에서 호출 가능 \n",
    "- 2차원 데이터의 각 원소별 함수 적용 \n",
    "- 추가객체, 함수의 추가 옵션 전달 불가 "
   ]
  },
  {
   "cell_type": "code",
   "execution_count": 16,
   "id": "7b89e3c0",
   "metadata": {},
   "outputs": [],
   "source": [
    "f1 = lambda x : int(x.replace(',','')) \n",
    "# 문자열 메소드 활용 함수 정의 "
   ]
  },
  {
   "cell_type": "code",
   "execution_count": 17,
   "id": "a9f0e0f0",
   "metadata": {},
   "outputs": [
    {
     "data": {
      "text/html": [
       "<div>\n",
       "<style scoped>\n",
       "    .dataframe tbody tr th:only-of-type {\n",
       "        vertical-align: middle;\n",
       "    }\n",
       "\n",
       "    .dataframe tbody tr th {\n",
       "        vertical-align: top;\n",
       "    }\n",
       "\n",
       "    .dataframe thead th {\n",
       "        text-align: right;\n",
       "    }\n",
       "</style>\n",
       "<table border=\"1\" class=\"dataframe\">\n",
       "  <thead>\n",
       "    <tr style=\"text-align: right;\">\n",
       "      <th></th>\n",
       "      <th>A</th>\n",
       "      <th>B</th>\n",
       "    </tr>\n",
       "  </thead>\n",
       "  <tbody>\n",
       "    <tr>\n",
       "      <th>0</th>\n",
       "      <td>1,200</td>\n",
       "      <td>1,300</td>\n",
       "    </tr>\n",
       "    <tr>\n",
       "      <th>1</th>\n",
       "      <td>1,400</td>\n",
       "      <td>1,500</td>\n",
       "    </tr>\n",
       "  </tbody>\n",
       "</table>\n",
       "</div>"
      ],
      "text/plain": [
       "       A      B\n",
       "0  1,200  1,300\n",
       "1  1,400  1,500"
      ]
     },
     "execution_count": 17,
     "metadata": {},
     "output_type": "execute_result"
    }
   ],
   "source": [
    "df1"
   ]
  },
  {
   "cell_type": "code",
   "execution_count": 18,
   "id": "4b1c670e",
   "metadata": {},
   "outputs": [
    {
     "data": {
      "text/html": [
       "<div>\n",
       "<style scoped>\n",
       "    .dataframe tbody tr th:only-of-type {\n",
       "        vertical-align: middle;\n",
       "    }\n",
       "\n",
       "    .dataframe tbody tr th {\n",
       "        vertical-align: top;\n",
       "    }\n",
       "\n",
       "    .dataframe thead th {\n",
       "        text-align: right;\n",
       "    }\n",
       "</style>\n",
       "<table border=\"1\" class=\"dataframe\">\n",
       "  <thead>\n",
       "    <tr style=\"text-align: right;\">\n",
       "      <th></th>\n",
       "      <th>A</th>\n",
       "      <th>B</th>\n",
       "    </tr>\n",
       "  </thead>\n",
       "  <tbody>\n",
       "    <tr>\n",
       "      <th>0</th>\n",
       "      <td>1200</td>\n",
       "      <td>1300</td>\n",
       "    </tr>\n",
       "    <tr>\n",
       "      <th>1</th>\n",
       "      <td>1400</td>\n",
       "      <td>1500</td>\n",
       "    </tr>\n",
       "  </tbody>\n",
       "</table>\n",
       "</div>"
      ],
      "text/plain": [
       "      A     B\n",
       "0  1200  1300\n",
       "1  1400  1500"
      ]
     },
     "execution_count": 18,
     "metadata": {},
     "output_type": "execute_result"
    }
   ],
   "source": [
    "df1.applymap(f1)"
   ]
  },
  {
   "cell_type": "code",
   "execution_count": 19,
   "id": "88e6b7d0",
   "metadata": {},
   "outputs": [
    {
     "data": {
      "text/html": [
       "<div>\n",
       "<style scoped>\n",
       "    .dataframe tbody tr th:only-of-type {\n",
       "        vertical-align: middle;\n",
       "    }\n",
       "\n",
       "    .dataframe tbody tr th {\n",
       "        vertical-align: top;\n",
       "    }\n",
       "\n",
       "    .dataframe thead th {\n",
       "        text-align: right;\n",
       "    }\n",
       "</style>\n",
       "<table border=\"1\" class=\"dataframe\">\n",
       "  <thead>\n",
       "    <tr style=\"text-align: right;\">\n",
       "      <th></th>\n",
       "      <th>A</th>\n",
       "      <th>B</th>\n",
       "    </tr>\n",
       "  </thead>\n",
       "  <tbody>\n",
       "    <tr>\n",
       "      <th>0</th>\n",
       "      <td>1200</td>\n",
       "      <td>1300</td>\n",
       "    </tr>\n",
       "    <tr>\n",
       "      <th>1</th>\n",
       "      <td>1400</td>\n",
       "      <td>1500</td>\n",
       "    </tr>\n",
       "  </tbody>\n",
       "</table>\n",
       "</div>"
      ],
      "text/plain": [
       "      A     B\n",
       "0  1200  1300\n",
       "1  1400  1500"
      ]
     },
     "execution_count": 19,
     "metadata": {},
     "output_type": "execute_result"
    }
   ],
   "source": [
    "df1 = df1.applymap(f1)\n",
    "df1"
   ]
  },
  {
   "cell_type": "code",
   "execution_count": 20,
   "id": "9ec420fb",
   "metadata": {},
   "outputs": [
    {
     "data": {
      "text/plain": [
       "A    int64\n",
       "B    int64\n",
       "dtype: object"
      ]
     },
     "execution_count": 20,
     "metadata": {},
     "output_type": "execute_result"
    }
   ],
   "source": [
    "df1.dtypes"
   ]
  },
  {
   "cell_type": "markdown",
   "id": "a7cffac7",
   "metadata": {},
   "source": [
    "[ 참고 : replace 메소드 종류 ]"
   ]
  },
  {
   "cell_type": "code",
   "execution_count": 24,
   "id": "8a46fdd5",
   "metadata": {},
   "outputs": [],
   "source": [
    "# '1,200'.str.replace(',','')\n",
    "# AttributeError: 'str' object has no attribute 'str'\n",
    "# replace()함수 적용 불가(문자열은 str 메소드 호출 불가)"
   ]
  },
  {
   "cell_type": "code",
   "execution_count": 25,
   "id": "40b47016",
   "metadata": {},
   "outputs": [
    {
     "data": {
      "text/plain": [
       "'1200'"
      ]
     },
     "execution_count": 25,
     "metadata": {},
     "output_type": "execute_result"
    }
   ],
   "source": [
    "'1,200'.replace(',','')"
   ]
  },
  {
   "cell_type": "code",
   "execution_count": 27,
   "id": "f4e942ed",
   "metadata": {},
   "outputs": [
    {
     "data": {
      "text/plain": [
       "['a', 'b', 'c']"
      ]
     },
     "execution_count": 27,
     "metadata": {},
     "output_type": "execute_result"
    }
   ],
   "source": [
    "'a/b/c'.split('/')"
   ]
  },
  {
   "cell_type": "code",
   "execution_count": 28,
   "id": "ec8a0f5b",
   "metadata": {},
   "outputs": [
    {
     "data": {
      "text/plain": [
       "0    a/b/c\n",
       "1    A/B/C\n",
       "dtype: object"
      ]
     },
     "execution_count": 28,
     "metadata": {},
     "output_type": "execute_result"
    }
   ],
   "source": [
    "Series(['a/b/c','A/B/C'])"
   ]
  },
  {
   "cell_type": "code",
   "execution_count": 29,
   "id": "41f0f97d",
   "metadata": {},
   "outputs": [
    {
     "data": {
      "text/plain": [
       "0    [a, b, c]\n",
       "1    [A, B, C]\n",
       "dtype: object"
      ]
     },
     "execution_count": 29,
     "metadata": {},
     "output_type": "execute_result"
    }
   ],
   "source": [
    "Series(['a/b/c','A/B/C']).str.split('/')"
   ]
  },
  {
   "cell_type": "markdown",
   "id": "008f4758",
   "metadata": {},
   "source": [
    "2. map 메소드 \n",
    "- Series 에서 호출 가능 \n",
    "- 1차원 \n",
    "- 매 원소별 함수 적용\n",
    "- 추가 객체, 함수의 추가 옵션 전달 불가 "
   ]
  },
  {
   "cell_type": "code",
   "execution_count": 31,
   "id": "a5c42983",
   "metadata": {},
   "outputs": [
    {
     "data": {
      "text/plain": [
       "0    a\n",
       "1    A\n",
       "dtype: object"
      ]
     },
     "execution_count": 31,
     "metadata": {},
     "output_type": "execute_result"
    }
   ],
   "source": [
    "f2 = lambda x : x.split('/')[0]\n",
    "Series(['a/b/c','A/B/C']).map(f2)\n",
    "# Series 각각의 원소를 함수에 전달 "
   ]
  },
  {
   "cell_type": "code",
   "execution_count": 33,
   "id": "4ca878aa",
   "metadata": {},
   "outputs": [
    {
     "data": {
      "text/plain": [
       "0    a/b/c\n",
       "1    A/B/C\n",
       "dtype: object"
      ]
     },
     "execution_count": 33,
     "metadata": {},
     "output_type": "execute_result"
    }
   ],
   "source": [
    "Series(['a/b/c','A/B/C'])"
   ]
  },
  {
   "cell_type": "code",
   "execution_count": 34,
   "id": "6ac25ce2",
   "metadata": {},
   "outputs": [
    {
     "data": {
      "text/plain": [
       "'a/b/c'"
      ]
     },
     "execution_count": 34,
     "metadata": {},
     "output_type": "execute_result"
    }
   ],
   "source": [
    "Series(['a/b/c','A/B/C'])[0]"
   ]
  },
  {
   "cell_type": "code",
   "execution_count": 35,
   "id": "1daa3360",
   "metadata": {},
   "outputs": [
    {
     "data": {
      "text/plain": [
       "'A/B/C'"
      ]
     },
     "execution_count": 35,
     "metadata": {},
     "output_type": "execute_result"
    }
   ],
   "source": [
    "Series(['a/b/c','A/B/C'])[1]"
   ]
  },
  {
   "cell_type": "markdown",
   "id": "7ca12ffa",
   "metadata": {},
   "source": [
    "3. apply\n",
    "- DataFrame 호출 가능 \n",
    "- 각 행별, 각 컬럼별 적용 가능(**)\n",
    "- 함수의 추가 옵션 전달 가능 "
   ]
  },
  {
   "cell_type": "code",
   "execution_count": 36,
   "id": "3421c46c",
   "metadata": {},
   "outputs": [
    {
     "data": {
      "text/html": [
       "<div>\n",
       "<style scoped>\n",
       "    .dataframe tbody tr th:only-of-type {\n",
       "        vertical-align: middle;\n",
       "    }\n",
       "\n",
       "    .dataframe tbody tr th {\n",
       "        vertical-align: top;\n",
       "    }\n",
       "\n",
       "    .dataframe thead th {\n",
       "        text-align: right;\n",
       "    }\n",
       "</style>\n",
       "<table border=\"1\" class=\"dataframe\">\n",
       "  <thead>\n",
       "    <tr style=\"text-align: right;\">\n",
       "      <th></th>\n",
       "      <th>A</th>\n",
       "      <th>B</th>\n",
       "    </tr>\n",
       "  </thead>\n",
       "  <tbody>\n",
       "    <tr>\n",
       "      <th>0</th>\n",
       "      <td>1200</td>\n",
       "      <td>1300</td>\n",
       "    </tr>\n",
       "    <tr>\n",
       "      <th>1</th>\n",
       "      <td>1400</td>\n",
       "      <td>1500</td>\n",
       "    </tr>\n",
       "  </tbody>\n",
       "</table>\n",
       "</div>"
      ],
      "text/plain": [
       "      A     B\n",
       "0  1200  1300\n",
       "1  1400  1500"
      ]
     },
     "execution_count": 36,
     "metadata": {},
     "output_type": "execute_result"
    }
   ],
   "source": [
    "df1"
   ]
  },
  {
   "cell_type": "code",
   "execution_count": 37,
   "id": "f772cd15",
   "metadata": {},
   "outputs": [
    {
     "data": {
      "text/plain": [
       "A    2600\n",
       "B    2800\n",
       "dtype: int64"
      ]
     },
     "execution_count": 37,
     "metadata": {},
     "output_type": "execute_result"
    }
   ],
   "source": [
    "df1.sum()"
   ]
  },
  {
   "cell_type": "code",
   "execution_count": 38,
   "id": "2a086f38",
   "metadata": {},
   "outputs": [
    {
     "data": {
      "text/plain": [
       "A    2600\n",
       "B    2800\n",
       "dtype: int64"
      ]
     },
     "execution_count": 38,
     "metadata": {},
     "output_type": "execute_result"
    }
   ],
   "source": [
    "df1.sum(axis=0) # 서로 다른 행끼리, 세로 방향 "
   ]
  },
  {
   "cell_type": "code",
   "execution_count": 39,
   "id": "2908751a",
   "metadata": {},
   "outputs": [
    {
     "data": {
      "text/plain": [
       "0    2500\n",
       "1    2900\n",
       "dtype: int64"
      ]
     },
     "execution_count": 39,
     "metadata": {},
     "output_type": "execute_result"
    }
   ],
   "source": [
    "df1.sum(axis=1) # 서로 다른 열끼리, 가로 방향 "
   ]
  },
  {
   "cell_type": "code",
   "execution_count": 40,
   "id": "9e1bf1f0",
   "metadata": {},
   "outputs": [
    {
     "data": {
      "text/plain": [
       "A    2600\n",
       "B    2800\n",
       "dtype: int64"
      ]
     },
     "execution_count": 40,
     "metadata": {},
     "output_type": "execute_result"
    }
   ],
   "source": [
    "df1.apply(sum, axis=0) # 행 별 총합2"
   ]
  },
  {
   "cell_type": "code",
   "execution_count": 41,
   "id": "f7bbf3a4",
   "metadata": {},
   "outputs": [
    {
     "data": {
      "text/plain": [
       "0    2500\n",
       "1    2900\n",
       "dtype: int64"
      ]
     },
     "execution_count": 41,
     "metadata": {},
     "output_type": "execute_result"
    }
   ],
   "source": [
    "df1.apply(sum, axis=1) # 열 별 총합 "
   ]
  },
  {
   "cell_type": "markdown",
   "id": "b998b1c0",
   "metadata": {},
   "source": [
    "[참고: map() 함수와 .map 메소드의 차이]\n",
    "- map()함수 : 1차원 자료구조에 사용(list, array, Series)\n",
    "- Series 객체.map "
   ]
  },
  {
   "cell_type": "code",
   "execution_count": null,
   "id": "640f5c18",
   "metadata": {},
   "outputs": [],
   "source": []
  }
 ],
 "metadata": {
  "kernelspec": {
   "display_name": "Python 3 (ipykernel)",
   "language": "python",
   "name": "python3"
  },
  "language_info": {
   "codemirror_mode": {
    "name": "ipython",
    "version": 3
   },
   "file_extension": ".py",
   "mimetype": "text/x-python",
   "name": "python",
   "nbconvert_exporter": "python",
   "pygments_lexer": "ipython3",
   "version": "3.9.12"
  }
 },
 "nbformat": 4,
 "nbformat_minor": 5
}
