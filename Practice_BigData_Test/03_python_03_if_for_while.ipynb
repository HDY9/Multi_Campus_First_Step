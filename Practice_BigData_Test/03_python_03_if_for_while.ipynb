{
  "nbformat": 4,
  "nbformat_minor": 0,
  "metadata": {
    "colab": {
      "name": "03_python_03 조건문과 반복문.ipynb",
      "provenance": []
    },
    "kernelspec": {
      "name": "python3",
      "display_name": "Python 3"
    },
    "language_info": {
      "name": "python"
    }
  },
  "cells": [
    {
      "cell_type": "markdown",
      "source": [
        "조건문과 반복문 "
      ],
      "metadata": {
        "id": "lJwDsE8tIXs9"
      }
    },
    {
      "cell_type": "code",
      "execution_count": 3,
      "metadata": {
        "colab": {
          "base_uri": "https://localhost:8080/"
        },
        "id": "d7FxqnZ2IJPs",
        "outputId": "499e0db2-a9db-45cd-a247-029337762caa"
      },
      "outputs": [
        {
          "output_type": "execute_result",
          "data": {
            "text/plain": [
              "False"
            ]
          },
          "metadata": {},
          "execution_count": 3
        }
      ],
      "source": [
        "# 논리연산자 \n",
        "# and, or, not \n",
        "\n",
        "v1 = 1\n",
        "(v1 >= 3) and (v1<=7) # 3과 7사이 (동시만족)\n",
        "(v1 >= 3) & (v1<=7)"
      ]
    },
    {
      "cell_type": "code",
      "source": [
        "(v1 <= 3) or (v1>=7) # or 둘 중 하나만 True 면 됨 \n",
        "(v1 <= 3) | (v1>=7) "
      ],
      "metadata": {
        "colab": {
          "base_uri": "https://localhost:8080/"
        },
        "id": "JMNXE5Q2IfV3",
        "outputId": "cc15058a-2323-4190-af9f-c0a9c13909a4"
      },
      "execution_count": 5,
      "outputs": [
        {
          "output_type": "execute_result",
          "data": {
            "text/plain": [
              "True"
            ]
          },
          "metadata": {},
          "execution_count": 5
        }
      ]
    },
    {
      "cell_type": "code",
      "source": [
        "not(v1 == 1)"
      ],
      "metadata": {
        "colab": {
          "base_uri": "https://localhost:8080/"
        },
        "id": "KfPILpnYIx3T",
        "outputId": "9a1babaa-44cb-4ee5-f7f1-8fb7ffc9c45b"
      },
      "execution_count": 7,
      "outputs": [
        {
          "output_type": "execute_result",
          "data": {
            "text/plain": [
              "False"
            ]
          },
          "metadata": {},
          "execution_count": 7
        }
      ]
    },
    {
      "cell_type": "code",
      "source": [
        "# 조건문 if \n",
        "\n",
        "# if 조건 : \n",
        "#     참(True) 실행할 문장\n",
        "# elif 조건 2 : # 조건이 여러 개 있을 때 (else if)\n",
        "#     조건 1이 거짓(False)면서 조건 2가 참(True) 일 때 실행할 문장 \n",
        "# else: \n",
        "#     조건1, 조건 2 모두 거짓(False)일 때 실행할 문장 \n"
      ],
      "metadata": {
        "id": "PFlhnk7AJBIt"
      },
      "execution_count": 8,
      "outputs": []
    },
    {
      "cell_type": "code",
      "source": [
        "v1 = 3\n",
        "\n",
        "if v1 > 5: \n",
        "    print('A')\n",
        "else: \n",
        "    print('B')"
      ],
      "metadata": {
        "colab": {
          "base_uri": "https://localhost:8080/"
        },
        "id": "BCv0SOFdJkoP",
        "outputId": "3a5ee805-7148-41f2-c83e-37a647cb9852"
      },
      "execution_count": 13,
      "outputs": [
        {
          "output_type": "stream",
          "name": "stdout",
          "text": [
            "B\n"
          ]
        }
      ]
    },
    {
      "cell_type": "code",
      "source": [
        "# l1 = [1,3,5,7,9] # 리스트 \n",
        "\n",
        "# if l1 > 5: \n",
        "#     print('A')\n",
        "# else: \n",
        "#     print('B')\n",
        "\n",
        "# TypeError: '>' not supported between instances of 'list' and 'int'\n",
        "# 리스트는 불가 "
      ],
      "metadata": {
        "id": "xCfhpeD8J_5Y"
      },
      "execution_count": 15,
      "outputs": []
    },
    {
      "cell_type": "code",
      "source": [
        "# 반복문 \n",
        "# 객체의 각 원소에 동일한 연산처리 진행할 경우 사용 \n",
        "\n",
        "# 1. for 문 : 정해진 횟수, 대상이 있을 경우 \n",
        "# for 반복할 변수 (i) in 반복할 대상(범위): \n",
        "#     반복 실행할 문장 \n",
        "\n",
        "# 1~10까지 출력하세요 \n",
        "# range(1, 11) \n",
        "# [1, 2, 3, 4, 5, 6, 7, 8, 9, 10]\n",
        "\n",
        "for i in range(1,11): \n",
        "    print(i)"
      ],
      "metadata": {
        "colab": {
          "base_uri": "https://localhost:8080/"
        },
        "id": "-k1uWLJgKSVC",
        "outputId": "391fc25b-d718-4c85-ac5e-8f76c258e84f"
      },
      "execution_count": 18,
      "outputs": [
        {
          "output_type": "stream",
          "name": "stdout",
          "text": [
            "1\n",
            "2\n",
            "3\n",
            "4\n",
            "5\n",
            "6\n",
            "7\n",
            "8\n",
            "9\n",
            "10\n"
          ]
        }
      ]
    },
    {
      "cell_type": "code",
      "source": [
        "list(range(1, 11))"
      ],
      "metadata": {
        "colab": {
          "base_uri": "https://localhost:8080/"
        },
        "id": "CnJbYE1lK6G1",
        "outputId": "e6dfda8c-40fd-4b9c-e0ad-fabf12fbd40b"
      },
      "execution_count": 17,
      "outputs": [
        {
          "output_type": "execute_result",
          "data": {
            "text/plain": [
              "[1, 2, 3, 4, 5, 6, 7, 8, 9, 10]"
            ]
          },
          "metadata": {},
          "execution_count": 17
        }
      ]
    },
    {
      "cell_type": "code",
      "source": [
        "# 예제 \n",
        "# 다음의 리스트를 선언하고 5보다 클 경우, 'A' 작거나 같을 경우 'B' \n",
        "\n",
        "l1 = [1,3,5,15,25]\n",
        "\n",
        "for i in l1:\n",
        "    if i > 5: \n",
        "        print('A')\n",
        "    else: \n",
        "        print('B')"
      ],
      "metadata": {
        "colab": {
          "base_uri": "https://localhost:8080/"
        },
        "id": "xfdBkxwSLTMl",
        "outputId": "bfe23566-378b-46e8-d7a8-f8611d98378f"
      },
      "execution_count": 19,
      "outputs": [
        {
          "output_type": "stream",
          "name": "stdout",
          "text": [
            "B\n",
            "B\n",
            "B\n",
            "A\n",
            "A\n"
          ]
        }
      ]
    },
    {
      "cell_type": "code",
      "source": [
        "for i in [1,3,5,15,25]:\n",
        "    if i > 5: \n",
        "        print('A')\n",
        "    else: \n",
        "        print('B')"
      ],
      "metadata": {
        "colab": {
          "base_uri": "https://localhost:8080/"
        },
        "id": "_c_FsGt0LTPE",
        "outputId": "17b3cca6-deb6-44ed-add0-f614be7d5e20"
      },
      "execution_count": 20,
      "outputs": [
        {
          "output_type": "stream",
          "name": "stdout",
          "text": [
            "B\n",
            "B\n",
            "B\n",
            "A\n",
            "A\n"
          ]
        }
      ]
    },
    {
      "cell_type": "code",
      "source": [
        "# 리스트에서 각 원소에 10을 더해 출력 불가 \n",
        "# l1 + 10\n",
        "# TypeError: can only concatenate list (not \"int\") to list"
      ],
      "metadata": {
        "id": "sgcSz7PkLTRV"
      },
      "execution_count": 23,
      "outputs": []
    },
    {
      "cell_type": "code",
      "source": [
        "for i in l1: \n",
        "    print(i+10)"
      ],
      "metadata": {
        "colab": {
          "base_uri": "https://localhost:8080/"
        },
        "id": "E8dix6EiLTTR",
        "outputId": "86c0ee24-dbe2-43b4-c588-fabf628a8b1b"
      },
      "execution_count": 24,
      "outputs": [
        {
          "output_type": "stream",
          "name": "stdout",
          "text": [
            "11\n",
            "13\n",
            "15\n",
            "25\n",
            "35\n"
          ]
        }
      ]
    },
    {
      "cell_type": "code",
      "source": [
        "# for 문 결과를 바로 변수로 저장하고 싶은데? 안되네 \n",
        "# l1= for i in l1: \n",
        "#         print(i+10)\n",
        "# SyntaxError: invalid syntax"
      ],
      "metadata": {
        "id": "mvm8ThFVK9Ca"
      },
      "execution_count": 27,
      "outputs": []
    },
    {
      "cell_type": "code",
      "source": [
        "l2 = [ ]\n",
        "for i in l1: \n",
        "    l2.append(i+10)"
      ],
      "metadata": {
        "id": "myfGElJnMsQ9"
      },
      "execution_count": 28,
      "outputs": []
    },
    {
      "cell_type": "code",
      "source": [
        "l2"
      ],
      "metadata": {
        "colab": {
          "base_uri": "https://localhost:8080/"
        },
        "id": "ecPbw1bVM8a1",
        "outputId": "86674117-8970-4a26-ce25-cb651544eba6"
      },
      "execution_count": 29,
      "outputs": [
        {
          "output_type": "execute_result",
          "data": {
            "text/plain": [
              "[11, 13, 15, 25, 35]"
            ]
          },
          "metadata": {},
          "execution_count": 29
        }
      ]
    },
    {
      "cell_type": "code",
      "source": [
        "l3 = [1,2,3]\n",
        "l3.append(4)\n",
        "l3"
      ],
      "metadata": {
        "colab": {
          "base_uri": "https://localhost:8080/"
        },
        "id": "Pr_qrgSjM9kf",
        "outputId": "34f511d6-a209-49fc-a9f2-62fa2683048d"
      },
      "execution_count": 30,
      "outputs": [
        {
          "output_type": "execute_result",
          "data": {
            "text/plain": [
              "[1, 2, 3, 4]"
            ]
          },
          "metadata": {},
          "execution_count": 30
        }
      ]
    },
    {
      "cell_type": "code",
      "source": [
        "l4 = [1,2,3].append(4)\n",
        "l4"
      ],
      "metadata": {
        "id": "Djzlo5oSNMbW"
      },
      "execution_count": 32,
      "outputs": []
    },
    {
      "cell_type": "code",
      "source": [
        "# while 문 : 무한 반복, 조건에 따른 반복 실행 \n",
        "\n",
        "# while 조건: \n",
        "#     조건이 참 일 때 반복 문장\n",
        "# 반드시 정지조건 (break)"
      ],
      "metadata": {
        "id": "hL9MpEJUNMd2"
      },
      "execution_count": 33,
      "outputs": []
    },
    {
      "cell_type": "code",
      "source": [
        "# 예제 \n",
        "# while 으로 1~10까지 출력 \n",
        "\n",
        "i = 1\n",
        "while i <=10:\n",
        "    print(i)\n",
        "    i = i + 1"
      ],
      "metadata": {
        "colab": {
          "base_uri": "https://localhost:8080/"
        },
        "id": "QTR8l_SZNoJo",
        "outputId": "16a01944-35a2-4382-a132-0bc8918c36d9"
      },
      "execution_count": 36,
      "outputs": [
        {
          "output_type": "stream",
          "name": "stdout",
          "text": [
            "1\n",
            "2\n",
            "3\n",
            "4\n",
            "5\n",
            "6\n",
            "7\n",
            "8\n",
            "9\n",
            "10\n"
          ]
        }
      ]
    },
    {
      "cell_type": "code",
      "source": [
        "# 문제 \n",
        "# 1~10까지 총 합 \n",
        "\n",
        "vsum = 0 \n",
        "for i in range(1,11): \n",
        "    vsum = vsum + i\n",
        "\n",
        "print(vsum)\n",
        "\n",
        "# i        vsum     일반화 \n",
        "# 1        0+1      vsum + 1\n",
        "# 2        1+2      vsum + 2\n",
        "# 3        1+2+3    vsum + 3\n",
        "# 4        1+2+3+4  vsum + 4\n",
        "# >>>> vsum + i  "
      ],
      "metadata": {
        "colab": {
          "base_uri": "https://localhost:8080/"
        },
        "id": "De2j7THCNpaG",
        "outputId": "afdd5733-e540-4f12-b216-9b5e37c96f44"
      },
      "execution_count": 38,
      "outputs": [
        {
          "output_type": "stream",
          "name": "stdout",
          "text": [
            "55\n"
          ]
        }
      ]
    },
    {
      "cell_type": "code",
      "source": [
        "# 1~100까지 총 합\n",
        "\n",
        "sum(i for i in range(1,101))"
      ],
      "metadata": {
        "colab": {
          "base_uri": "https://localhost:8080/"
        },
        "id": "ClmNIQaiNpck",
        "outputId": "b36f502a-25aa-49e8-e7bd-ae657e04bcd5"
      },
      "execution_count": 39,
      "outputs": [
        {
          "output_type": "execute_result",
          "data": {
            "text/plain": [
              "5050"
            ]
          },
          "metadata": {},
          "execution_count": 39
        }
      ]
    },
    {
      "cell_type": "code",
      "source": [
        "# 1~100까지 짝수 총합 \n",
        "\n",
        "# 대박 힌트 \n",
        "#  if i%2 == 0: # 만약 i를 2로 나누어서 나온 나머지가 0이면 >> 짝수 \n",
        "#  if i%2 == 1: # 만약 i를 2로 나누어서 나온 나머지가 1이면 >> 홀수\n",
        "\n",
        "vsum = 0 # 초기값 설정 \n",
        "\n",
        "for i in range(1,101): \n",
        "    if i%2 ==0 : # 짝수면 \n",
        "        vsum = vsum + i \n",
        "\n",
        "print(vsum)"
      ],
      "metadata": {
        "colab": {
          "base_uri": "https://localhost:8080/"
        },
        "id": "abWIPks5Npe9",
        "outputId": "5881d1f5-44c0-48a4-9612-665d8eeb6298"
      },
      "execution_count": 40,
      "outputs": [
        {
          "output_type": "stream",
          "name": "stdout",
          "text": [
            "2550\n"
          ]
        }
      ]
    },
    {
      "cell_type": "code",
      "source": [
        "# 반복 제어문 \n",
        "\n",
        "# 1. continue: 특정 조건일 경우 반복문을 skip \n",
        "# 2. break : 특정 조건일 경우 반복문 종료 (정지조건)\n",
        "# 3. exit: 특정 조건일 경우 프로그램 종료 \n",
        "# 4. pass: 문법적으로 오류가 발생하기 않게 하기 위해 자리를 채우는 역할 "
      ],
      "metadata": {
        "id": "arAYdnp6QscS"
      },
      "execution_count": null,
      "outputs": []
    },
    {
      "cell_type": "code",
      "source": [
        "# 예제 \n",
        "# continue\n",
        "# 1 ~ 10 출력, 5는 제외 \n",
        "\n",
        "for i in range(1,11): \n",
        "    if i == 5: \n",
        "        continue\n",
        "    print(i)"
      ],
      "metadata": {
        "colab": {
          "base_uri": "https://localhost:8080/"
        },
        "id": "1LSKgDoMRRwP",
        "outputId": "c043d4c7-0221-4454-e33f-00470aae12bd"
      },
      "execution_count": 43,
      "outputs": [
        {
          "output_type": "stream",
          "name": "stdout",
          "text": [
            "1\n",
            "2\n",
            "3\n",
            "4\n",
            "6\n",
            "7\n",
            "8\n",
            "9\n",
            "10\n"
          ]
        }
      ]
    },
    {
      "cell_type": "code",
      "source": [
        "# 1 ~ 10 출력, 5 만나면 그만둬 \n",
        "for i in range(1,11): \n",
        "    if i == 5: \n",
        "        break\n",
        "    print(i)"
      ],
      "metadata": {
        "colab": {
          "base_uri": "https://localhost:8080/"
        },
        "id": "esg48l_JRRyu",
        "outputId": "b9a213d7-9c2a-4adb-ffe1-fe20caa9c34b"
      },
      "execution_count": 46,
      "outputs": [
        {
          "output_type": "stream",
          "name": "stdout",
          "text": [
            "1\n",
            "2\n",
            "3\n",
            "4\n"
          ]
        }
      ]
    },
    {
      "cell_type": "code",
      "source": [
        "# 1 ~ 10 출력, 5 만나면 프로그램 종료해\n",
        "# for i in range(1,11): \n",
        "#     if i == 5: \n",
        "#         exit(0)\n",
        "#     print(i)"
      ],
      "metadata": {
        "id": "yY1z6MucRR0y"
      },
      "execution_count": null,
      "outputs": []
    },
    {
      "cell_type": "code",
      "source": [
        "v1 = 1\n",
        "\n",
        "if v1 > 10:\n",
        "   pass\n",
        "else: \n",
        "    print('drwill')"
      ],
      "metadata": {
        "colab": {
          "base_uri": "https://localhost:8080/"
        },
        "id": "HP_svfJuSiNz",
        "outputId": "9292299b-2499-4247-c493-3a64b352bab6"
      },
      "execution_count": 50,
      "outputs": [
        {
          "output_type": "stream",
          "name": "stdout",
          "text": [
            "drwill\n"
          ]
        }
      ]
    },
    {
      "cell_type": "code",
      "source": [
        "# 문제 \n",
        "# 1부터 100까지 누적합이 최초 2000 이상이 되는 시점의  k 값과 총 합 출력하세요 \n",
        "# 1 + 2 + 3 + ..... + k >= 2000"
      ],
      "metadata": {
        "id": "niT-S8MxSuN4"
      },
      "execution_count": null,
      "outputs": []
    },
    {
      "cell_type": "code",
      "source": [
        "vsum=0\n",
        "for i in range (1,101):\n",
        "  vsum = vsum + i \n",
        "  if vsum > 2000:\n",
        "    break\n",
        "    \n",
        "print(i,vsum)\n"
      ],
      "metadata": {
        "colab": {
          "base_uri": "https://localhost:8080/"
        },
        "id": "9qJXtfLWW9TM",
        "outputId": "bf7d32d0-87b6-4187-cb91-a28209c98a2e"
      },
      "execution_count": 51,
      "outputs": [
        {
          "output_type": "stream",
          "name": "stdout",
          "text": [
            "63 2016\n"
          ]
        }
      ]
    },
    {
      "cell_type": "code",
      "source": [
        "vsum=0\n",
        "for i in range (1,101):\n",
        "  vsum = vsum + i \n",
        "  if vsum > 2000:\n",
        "    break\n",
        "print(i,vsum)\n"
      ],
      "metadata": {
        "colab": {
          "base_uri": "https://localhost:8080/"
        },
        "id": "Bd1LS1o5XFRU",
        "outputId": "f956a128-bec3-4bca-cfba-ba810d53f09e"
      },
      "execution_count": 52,
      "outputs": [
        {
          "output_type": "stream",
          "name": "stdout",
          "text": [
            "63 2016\n"
          ]
        }
      ]
    },
    {
      "cell_type": "code",
      "source": [
        "sum = 0\n",
        "for i in range(1, 101):\n",
        "  sum += i # sum = sum + i\n",
        "  if sum >= 2000:\n",
        "    print(i, sum)\n",
        "    break"
      ],
      "metadata": {
        "colab": {
          "base_uri": "https://localhost:8080/"
        },
        "id": "1j2YeHpmXVlO",
        "outputId": "efbf7b5d-e4c7-4191-a5da-7fa2f007458e"
      },
      "execution_count": 55,
      "outputs": [
        {
          "output_type": "stream",
          "name": "stdout",
          "text": [
            "63 2016\n"
          ]
        }
      ]
    },
    {
      "cell_type": "code",
      "source": [
        ""
      ],
      "metadata": {
        "id": "qpNA_fVfXZ7V"
      },
      "execution_count": null,
      "outputs": []
    },
    {
      "cell_type": "code",
      "source": [
        ""
      ],
      "metadata": {
        "id": "gq9frNacXvBo"
      },
      "execution_count": null,
      "outputs": []
    },
    {
      "cell_type": "code",
      "source": [
        ""
      ],
      "metadata": {
        "id": "mwLgsQkAXvEf"
      },
      "execution_count": null,
      "outputs": []
    },
    {
      "cell_type": "code",
      "source": [
        ""
      ],
      "metadata": {
        "id": "O66v7uxbXvI2"
      },
      "execution_count": null,
      "outputs": []
    }
  ]
}