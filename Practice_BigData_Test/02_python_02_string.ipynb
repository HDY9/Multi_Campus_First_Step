{
  "nbformat": 4,
  "nbformat_minor": 0,
  "metadata": {
    "colab": {
      "name": "02_python_02_문자열 처리.ipynb",
      "provenance": []
    },
    "kernelspec": {
      "name": "python3",
      "display_name": "Python 3"
    },
    "language_info": {
      "name": "python"
    }
  },
  "cells": [
    {
      "cell_type": "code",
      "execution_count": null,
      "metadata": {
        "id": "H8Sho6JLNjfM"
      },
      "outputs": [],
      "source": [
        "# -*- coding: utf-8 -*- "
      ]
    },
    {
      "cell_type": "markdown",
      "source": [
        "함수와 메소드 \n",
        "- 함수: 함수(대상)\n",
        "- 메소드: 대상.메소드"
      ],
      "metadata": {
        "id": "kvGZrKdON7Ew"
      }
    },
    {
      "cell_type": "code",
      "source": [
        "# 대소 치환 \n",
        "v1 = 'abcde' # 문자(string)\n",
        "v1.upper()  # 대문자 변환"
      ],
      "metadata": {
        "colab": {
          "base_uri": "https://localhost:8080/",
          "height": 35
        },
        "id": "QrFA8cFDN6xr",
        "outputId": "94213678-7a5b-4f02-fb32-8082f89a2fe9"
      },
      "execution_count": null,
      "outputs": [
        {
          "output_type": "execute_result",
          "data": {
            "text/plain": [
              "'ABCDE'"
            ],
            "application/vnd.google.colaboratory.intrinsic+json": {
              "type": "string"
            }
          },
          "metadata": {},
          "execution_count": 2
        }
      ]
    },
    {
      "cell_type": "code",
      "source": [
        "v2 = 'ABCDE'\n",
        "v2.lower() # 소문자 변환"
      ],
      "metadata": {
        "colab": {
          "base_uri": "https://localhost:8080/",
          "height": 35
        },
        "id": "87Wiv2CJOLx5",
        "outputId": "80061c4c-7e3f-4f4d-80c3-cb6f9aaebf43"
      },
      "execution_count": null,
      "outputs": [
        {
          "output_type": "execute_result",
          "data": {
            "text/plain": [
              "'abcde'"
            ],
            "application/vnd.google.colaboratory.intrinsic+json": {
              "type": "string"
            }
          },
          "metadata": {},
          "execution_count": 3
        }
      ]
    },
    {
      "cell_type": "code",
      "source": [
        "'abc def'.title() # camel 표기법(단어의 첫글자만 대문자로 표시)"
      ],
      "metadata": {
        "colab": {
          "base_uri": "https://localhost:8080/",
          "height": 35
        },
        "id": "rV9dYZldOU8C",
        "outputId": "821daf16-0aa3-4117-f707-6156e0ee40ef"
      },
      "execution_count": null,
      "outputs": [
        {
          "output_type": "execute_result",
          "data": {
            "text/plain": [
              "'Abc Def'"
            ],
            "application/vnd.google.colaboratory.intrinsic+json": {
              "type": "string"
            }
          },
          "metadata": {},
          "execution_count": 5
        }
      ]
    },
    {
      "cell_type": "markdown",
      "source": [
        "색인 (시험 나올 확률 *****)"
      ],
      "metadata": {
        "id": "Zp0fv3C1PDgZ"
      }
    },
    {
      "cell_type": "code",
      "source": [
        "# 색인 : 문자열 추출 \n",
        "'abcd'[0]"
      ],
      "metadata": {
        "colab": {
          "base_uri": "https://localhost:8080/",
          "height": 35
        },
        "id": "0t8To1svOovc",
        "outputId": "729b5d24-5e93-4d96-a47f-24754cc4d040"
      },
      "execution_count": null,
      "outputs": [
        {
          "output_type": "execute_result",
          "data": {
            "text/plain": [
              "'a'"
            ],
            "application/vnd.google.colaboratory.intrinsic+json": {
              "type": "string"
            }
          },
          "metadata": {},
          "execution_count": 7
        }
      ]
    },
    {
      "cell_type": "code",
      "source": [
        "'abcd'[-1]"
      ],
      "metadata": {
        "colab": {
          "base_uri": "https://localhost:8080/",
          "height": 35
        },
        "id": "AUKOMdoZO_la",
        "outputId": "83b4dfe2-d810-4fa9-f12e-5bda316baa01"
      },
      "execution_count": null,
      "outputs": [
        {
          "output_type": "execute_result",
          "data": {
            "text/plain": [
              "'d'"
            ],
            "application/vnd.google.colaboratory.intrinsic+json": {
              "type": "string"
            }
          },
          "metadata": {},
          "execution_count": 9
        }
      ]
    },
    {
      "cell_type": "code",
      "source": [
        "'abcd'[0:3]"
      ],
      "metadata": {
        "colab": {
          "base_uri": "https://localhost:8080/",
          "height": 35
        },
        "id": "SDIOFuItO_ng",
        "outputId": "85274ba7-4237-4b18-88ee-6bd6fdbbb81f"
      },
      "execution_count": null,
      "outputs": [
        {
          "output_type": "execute_result",
          "data": {
            "text/plain": [
              "'abc'"
            ],
            "application/vnd.google.colaboratory.intrinsic+json": {
              "type": "string"
            }
          },
          "metadata": {},
          "execution_count": 10
        }
      ]
    },
    {
      "cell_type": "code",
      "source": [
        "# ex) '031)345-0834'에서 지역번호만 추출 "
      ],
      "metadata": {
        "id": "uxbo-4_1O_ps"
      },
      "execution_count": null,
      "outputs": []
    },
    {
      "cell_type": "code",
      "source": [
        "'031)345-0834'[0:3]"
      ],
      "metadata": {
        "colab": {
          "base_uri": "https://localhost:8080/",
          "height": 35
        },
        "id": "Hx_XpGhqPiDJ",
        "outputId": "2004fffd-58de-4335-de73-4985c15c6421"
      },
      "execution_count": null,
      "outputs": [
        {
          "output_type": "execute_result",
          "data": {
            "text/plain": [
              "'031'"
            ],
            "application/vnd.google.colaboratory.intrinsic+json": {
              "type": "string"
            }
          },
          "metadata": {},
          "execution_count": 11
        }
      ]
    },
    {
      "cell_type": "code",
      "source": [
        "vtel = '031)345-0834'\n",
        "vtel[0:3]"
      ],
      "metadata": {
        "colab": {
          "base_uri": "https://localhost:8080/",
          "height": 35
        },
        "id": "mbsC7LXMPiFY",
        "outputId": "17eb9710-dde9-4ff8-a41e-ba4d81e6972b"
      },
      "execution_count": null,
      "outputs": [
        {
          "output_type": "execute_result",
          "data": {
            "text/plain": [
              "'031'"
            ],
            "application/vnd.google.colaboratory.intrinsic+json": {
              "type": "string"
            }
          },
          "metadata": {},
          "execution_count": 12
        }
      ]
    },
    {
      "cell_type": "markdown",
      "source": [
        "문자열의 시작, 끝 여부 확인"
      ],
      "metadata": {
        "id": "F3WVaneGQC8X"
      }
    },
    {
      "cell_type": "code",
      "source": [
        "# 문자열의 시작, 끝 여부 확인\n",
        "# v1.startswith(prefix,    # 시작 값 확인 문자\n",
        "#               start,     # 확인할 시작 위치 \n",
        "#               end)       # 확인할 끝 위치"
      ],
      "metadata": {
        "id": "URBXCbg9PiKA"
      },
      "execution_count": null,
      "outputs": []
    },
    {
      "cell_type": "code",
      "source": [
        "v1 = 'abcde'"
      ],
      "metadata": {
        "id": "HXlY2kMJQAYS"
      },
      "execution_count": null,
      "outputs": []
    },
    {
      "cell_type": "code",
      "source": [
        "v1.startswith('b')  # true/false : boolean(참/거짓)"
      ],
      "metadata": {
        "colab": {
          "base_uri": "https://localhost:8080/"
        },
        "id": "FzOmL0fQQAaq",
        "outputId": "24400df2-7077-4110-e7cf-e05a6a28c012"
      },
      "execution_count": null,
      "outputs": [
        {
          "output_type": "execute_result",
          "data": {
            "text/plain": [
              "False"
            ]
          },
          "metadata": {},
          "execution_count": 15
        }
      ]
    },
    {
      "cell_type": "code",
      "source": [
        "v1.startswith('a')"
      ],
      "metadata": {
        "colab": {
          "base_uri": "https://localhost:8080/"
        },
        "id": "V6zJCf1_PiMZ",
        "outputId": "60bfe964-65c3-43e8-9255-c990663b154d"
      },
      "execution_count": null,
      "outputs": [
        {
          "output_type": "execute_result",
          "data": {
            "text/plain": [
              "True"
            ]
          },
          "metadata": {},
          "execution_count": 16
        }
      ]
    },
    {
      "cell_type": "code",
      "source": [
        "v1.startswith('b',1)"
      ],
      "metadata": {
        "colab": {
          "base_uri": "https://localhost:8080/"
        },
        "id": "I6DQYH1pQwJv",
        "outputId": "08b7928f-f68c-4677-d8f4-a24f588ed45f"
      },
      "execution_count": null,
      "outputs": [
        {
          "output_type": "execute_result",
          "data": {
            "text/plain": [
              "True"
            ]
          },
          "metadata": {},
          "execution_count": 17
        }
      ]
    },
    {
      "cell_type": "code",
      "source": [
        "v1[1:].startswith('b')"
      ],
      "metadata": {
        "colab": {
          "base_uri": "https://localhost:8080/"
        },
        "id": "jYxU-ax8Qz7F",
        "outputId": "d3d09b75-378c-43c0-af9c-7fe05b0f95b4"
      },
      "execution_count": null,
      "outputs": [
        {
          "output_type": "execute_result",
          "data": {
            "text/plain": [
              "True"
            ]
          },
          "metadata": {},
          "execution_count": 19
        }
      ]
    },
    {
      "cell_type": "code",
      "source": [
        "# v1.endswith(suffix,\n",
        "#             start,\n",
        "#             end)"
      ],
      "metadata": {
        "id": "7kTQwcKpQ6ji"
      },
      "execution_count": null,
      "outputs": []
    },
    {
      "cell_type": "code",
      "source": [
        "v1\n",
        "v1.endswith('b',1)"
      ],
      "metadata": {
        "colab": {
          "base_uri": "https://localhost:8080/"
        },
        "id": "_2uGmqYzRGBQ",
        "outputId": "bf6a0914-f8f8-476d-8ba8-3a22b5663f03"
      },
      "execution_count": null,
      "outputs": [
        {
          "output_type": "execute_result",
          "data": {
            "text/plain": [
              "False"
            ]
          },
          "metadata": {},
          "execution_count": 22
        }
      ]
    },
    {
      "cell_type": "code",
      "source": [
        "v1.endswith('e')"
      ],
      "metadata": {
        "colab": {
          "base_uri": "https://localhost:8080/"
        },
        "id": "Fr4t8lfHRHF_",
        "outputId": "e2be61ad-e6a2-440d-e90b-dd1baee5e561"
      },
      "execution_count": null,
      "outputs": [
        {
          "output_type": "execute_result",
          "data": {
            "text/plain": [
              "True"
            ]
          },
          "metadata": {},
          "execution_count": 23
        }
      ]
    },
    {
      "cell_type": "markdown",
      "source": [
        "앞, 뒤 공백 또는 문자 제거"
      ],
      "metadata": {
        "id": "onqrGANiRSNr"
      }
    },
    {
      "cell_type": "code",
      "source": [
        "'abc'=='abc'"
      ],
      "metadata": {
        "colab": {
          "base_uri": "https://localhost:8080/"
        },
        "id": "EEIhbAIdRPvY",
        "outputId": "9a14302e-7a70-4f00-ea99-77f7e26c355a"
      },
      "execution_count": null,
      "outputs": [
        {
          "output_type": "execute_result",
          "data": {
            "text/plain": [
              "True"
            ]
          },
          "metadata": {},
          "execution_count": 24
        }
      ]
    },
    {
      "cell_type": "code",
      "source": [
        "' abc'.strip() # 양쪽 공백 제거"
      ],
      "metadata": {
        "colab": {
          "base_uri": "https://localhost:8080/",
          "height": 35
        },
        "id": "IT_g3ln8RQ5Z",
        "outputId": "0ec006a3-214f-4aed-acbf-fd74cfccc8d8"
      },
      "execution_count": null,
      "outputs": [
        {
          "output_type": "execute_result",
          "data": {
            "text/plain": [
              "'abc'"
            ],
            "application/vnd.google.colaboratory.intrinsic+json": {
              "type": "string"
            }
          },
          "metadata": {},
          "execution_count": 26
        }
      ]
    },
    {
      "cell_type": "code",
      "source": [
        "' abc '.strip()"
      ],
      "metadata": {
        "colab": {
          "base_uri": "https://localhost:8080/",
          "height": 35
        },
        "id": "O5XtZtzLRQ8Q",
        "outputId": "06826505-186a-47e0-8f02-c3714c60451f"
      },
      "execution_count": null,
      "outputs": [
        {
          "output_type": "execute_result",
          "data": {
            "text/plain": [
              "'abc'"
            ],
            "application/vnd.google.colaboratory.intrinsic+json": {
              "type": "string"
            }
          },
          "metadata": {},
          "execution_count": 27
        }
      ]
    },
    {
      "cell_type": "code",
      "source": [
        "' abc'.lstrip() # 왼쪽 공백 제거"
      ],
      "metadata": {
        "colab": {
          "base_uri": "https://localhost:8080/",
          "height": 35
        },
        "id": "Zxiv41E4RloX",
        "outputId": "f1ce053c-2073-44b8-8c95-e93e6f482db0"
      },
      "execution_count": null,
      "outputs": [
        {
          "output_type": "execute_result",
          "data": {
            "text/plain": [
              "'abc'"
            ],
            "application/vnd.google.colaboratory.intrinsic+json": {
              "type": "string"
            }
          },
          "metadata": {},
          "execution_count": 28
        }
      ]
    },
    {
      "cell_type": "code",
      "source": [
        "' abc '.lstrip()"
      ],
      "metadata": {
        "colab": {
          "base_uri": "https://localhost:8080/",
          "height": 35
        },
        "id": "gVJDoGhtRs-t",
        "outputId": "0069bc03-d6ce-4432-a40a-b1710bb09a37"
      },
      "execution_count": null,
      "outputs": [
        {
          "output_type": "execute_result",
          "data": {
            "text/plain": [
              "'abc '"
            ],
            "application/vnd.google.colaboratory.intrinsic+json": {
              "type": "string"
            }
          },
          "metadata": {},
          "execution_count": 29
        }
      ]
    },
    {
      "cell_type": "code",
      "source": [
        "'abc '.rstrip() # 오른쪽 공백 제거"
      ],
      "metadata": {
        "colab": {
          "base_uri": "https://localhost:8080/",
          "height": 35
        },
        "id": "LhIenW5ARvlI",
        "outputId": "3d72cf72-2f3a-44f8-ba5b-948533a8664d"
      },
      "execution_count": null,
      "outputs": [
        {
          "output_type": "execute_result",
          "data": {
            "text/plain": [
              "'abc'"
            ],
            "application/vnd.google.colaboratory.intrinsic+json": {
              "type": "string"
            }
          },
          "metadata": {},
          "execution_count": 30
        }
      ]
    },
    {
      "cell_type": "code",
      "source": [
        "'abc'.strip('a') #문자 제거 (예) 특수문자(?!#)"
      ],
      "metadata": {
        "colab": {
          "base_uri": "https://localhost:8080/",
          "height": 35
        },
        "id": "-A2i3cZaR0LA",
        "outputId": "bf2e5f1c-ae46-4d81-ea3c-522422dd61c6"
      },
      "execution_count": null,
      "outputs": [
        {
          "output_type": "execute_result",
          "data": {
            "text/plain": [
              "'bc'"
            ],
            "application/vnd.google.colaboratory.intrinsic+json": {
              "type": "string"
            }
          },
          "metadata": {},
          "execution_count": 31
        }
      ]
    },
    {
      "cell_type": "markdown",
      "source": [
        "치환"
      ],
      "metadata": {
        "id": "brccOnE6SEkZ"
      }
    },
    {
      "cell_type": "code",
      "source": [
        "#'abcabc'.replace(old, new) \n",
        "# old : 찾을 문자열 \n",
        "# new : 바꿀 문자열"
      ],
      "metadata": {
        "id": "vc3SRoGBR8Oz"
      },
      "execution_count": null,
      "outputs": []
    },
    {
      "cell_type": "code",
      "source": [
        "'abcabc'.replace('a','A')"
      ],
      "metadata": {
        "colab": {
          "base_uri": "https://localhost:8080/",
          "height": 35
        },
        "id": "3qWwgy8USWTI",
        "outputId": "10222200-3917-4a9a-f16d-adf6095b6838"
      },
      "execution_count": null,
      "outputs": [
        {
          "output_type": "execute_result",
          "data": {
            "text/plain": [
              "'AbcAbc'"
            ],
            "application/vnd.google.colaboratory.intrinsic+json": {
              "type": "string"
            }
          },
          "metadata": {},
          "execution_count": 33
        }
      ]
    },
    {
      "cell_type": "code",
      "source": [
        "'abcabc'.replace('ab','AB')"
      ],
      "metadata": {
        "colab": {
          "base_uri": "https://localhost:8080/",
          "height": 35
        },
        "id": "iTIyLGi-Sag9",
        "outputId": "2a6e7d5c-ed08-4b82-8c45-58cedf4b26e3"
      },
      "execution_count": null,
      "outputs": [
        {
          "output_type": "execute_result",
          "data": {
            "text/plain": [
              "'ABcABc'"
            ],
            "application/vnd.google.colaboratory.intrinsic+json": {
              "type": "string"
            }
          },
          "metadata": {},
          "execution_count": 34
        }
      ]
    },
    {
      "cell_type": "code",
      "source": [
        "'abcabc'.replace('ab', '')  # 시험이 좋아할거 같아요"
      ],
      "metadata": {
        "colab": {
          "base_uri": "https://localhost:8080/",
          "height": 35
        },
        "id": "DN14DYcFShrd",
        "outputId": "aaffe387-485b-4eb1-d7ab-2b7b7dd61c6c"
      },
      "execution_count": null,
      "outputs": [
        {
          "output_type": "execute_result",
          "data": {
            "text/plain": [
              "'cc'"
            ],
            "application/vnd.google.colaboratory.intrinsic+json": {
              "type": "string"
            }
          },
          "metadata": {},
          "execution_count": 35
        }
      ]
    },
    {
      "cell_type": "markdown",
      "source": [
        "문자열 분리"
      ],
      "metadata": {
        "id": "7e29Ne5kSw9Z"
      }
    },
    {
      "cell_type": "code",
      "source": [
        "# v1.split(sep) # 분리 구분기호 \n",
        "'a/b/c/d/e'.split('/') # 시험이 좋아할거 같아요"
      ],
      "metadata": {
        "colab": {
          "base_uri": "https://localhost:8080/"
        },
        "id": "eNOwIiqYSmPK",
        "outputId": "5a1805d8-d33d-43e2-e890-9af08025ae3f"
      },
      "execution_count": null,
      "outputs": [
        {
          "output_type": "execute_result",
          "data": {
            "text/plain": [
              "['a', 'b', 'c', 'd', 'e']"
            ]
          },
          "metadata": {},
          "execution_count": 38
        }
      ]
    },
    {
      "cell_type": "code",
      "source": [
        "'a/b/c/d/e'.split('/')[1]"
      ],
      "metadata": {
        "colab": {
          "base_uri": "https://localhost:8080/",
          "height": 35
        },
        "id": "eaP6BEGPS144",
        "outputId": "63ed695e-f14b-496a-9747-ee29cc603ed6"
      },
      "execution_count": null,
      "outputs": [
        {
          "output_type": "execute_result",
          "data": {
            "text/plain": [
              "'b'"
            ],
            "application/vnd.google.colaboratory.intrinsic+json": {
              "type": "string"
            }
          },
          "metadata": {},
          "execution_count": 39
        }
      ]
    },
    {
      "cell_type": "code",
      "source": [
        "'a/b/c/d/e'.split('/')[0:2]"
      ],
      "metadata": {
        "colab": {
          "base_uri": "https://localhost:8080/"
        },
        "id": "1kJyhHusTMFI",
        "outputId": "3fbd0667-33d6-45b0-f4c7-cbb49966135a"
      },
      "execution_count": null,
      "outputs": [
        {
          "output_type": "execute_result",
          "data": {
            "text/plain": [
              "['a', 'b']"
            ]
          },
          "metadata": {},
          "execution_count": 40
        }
      ]
    },
    {
      "cell_type": "markdown",
      "source": [
        "위치값 return "
      ],
      "metadata": {
        "id": "byPk-Y3ZTY3Z"
      }
    },
    {
      "cell_type": "code",
      "source": [
        "# 'abcd'.find(sub,    # 위치값을 찾을 대상 \n",
        "#             start,  # 찾을 위치(시작점)\n",
        "#             end)    # 찾을 위치(끝점)"
      ],
      "metadata": {
        "id": "mnRSC2ZSTUbf"
      },
      "execution_count": null,
      "outputs": []
    },
    {
      "cell_type": "code",
      "source": [
        "v1"
      ],
      "metadata": {
        "colab": {
          "base_uri": "https://localhost:8080/",
          "height": 35
        },
        "id": "Sda-fhP5Tdvq",
        "outputId": "19f87413-7d46-41f3-ceb8-87661d193317"
      },
      "execution_count": null,
      "outputs": [
        {
          "output_type": "execute_result",
          "data": {
            "text/plain": [
              "'abcde'"
            ],
            "application/vnd.google.colaboratory.intrinsic+json": {
              "type": "string"
            }
          },
          "metadata": {},
          "execution_count": 42
        }
      ]
    },
    {
      "cell_type": "code",
      "source": [
        "v1.find('b')"
      ],
      "metadata": {
        "colab": {
          "base_uri": "https://localhost:8080/"
        },
        "id": "cH71_sWWTi_p",
        "outputId": "0b7a1e17-81ce-4ef9-a5d6-b8edade001af"
      },
      "execution_count": null,
      "outputs": [
        {
          "output_type": "execute_result",
          "data": {
            "text/plain": [
              "1"
            ]
          },
          "metadata": {},
          "execution_count": 43
        }
      ]
    },
    {
      "cell_type": "code",
      "source": [
        "v1.find('e')"
      ],
      "metadata": {
        "colab": {
          "base_uri": "https://localhost:8080/"
        },
        "id": "N18aNUD4TljU",
        "outputId": "3489f2af-c9df-4a7e-b13b-3db97d4d89f0"
      },
      "execution_count": null,
      "outputs": [
        {
          "output_type": "execute_result",
          "data": {
            "text/plain": [
              "4"
            ]
          },
          "metadata": {},
          "execution_count": 45
        }
      ]
    },
    {
      "cell_type": "code",
      "source": [
        "# ex) '031)345-0834'에서 지역번호 추출하고 싶어요 \n",
        "# 근데, ')' 위치를 확인해가지고 그 이전까지만 추출하세요 "
      ],
      "metadata": {
        "id": "p84kiKAtTrPC"
      },
      "execution_count": null,
      "outputs": []
    },
    {
      "cell_type": "code",
      "source": [
        "vtel = '031)345-0834'"
      ],
      "metadata": {
        "id": "_YIUNKnFTrRo"
      },
      "execution_count": null,
      "outputs": []
    },
    {
      "cell_type": "code",
      "source": [
        "vnum = vtel.find(')')\n",
        "vtel[0:vnum]"
      ],
      "metadata": {
        "colab": {
          "base_uri": "https://localhost:8080/",
          "height": 35
        },
        "id": "OdK-e4K8UnwY",
        "outputId": "9fe89aa2-f2f2-4b7e-dcbc-6b1b2954320e"
      },
      "execution_count": null,
      "outputs": [
        {
          "output_type": "execute_result",
          "data": {
            "text/plain": [
              "'031'"
            ],
            "application/vnd.google.colaboratory.intrinsic+json": {
              "type": "string"
            }
          },
          "metadata": {},
          "execution_count": 49
        }
      ]
    },
    {
      "cell_type": "code",
      "source": [
        "vtel[0:vtel.find(')')]"
      ],
      "metadata": {
        "colab": {
          "base_uri": "https://localhost:8080/",
          "height": 35
        },
        "id": "wTSlh70YTrT5",
        "outputId": "e562ff33-7c2f-4828-9ce2-6e6b2b398cb3"
      },
      "execution_count": null,
      "outputs": [
        {
          "output_type": "execute_result",
          "data": {
            "text/plain": [
              "'031'"
            ],
            "application/vnd.google.colaboratory.intrinsic+json": {
              "type": "string"
            }
          },
          "metadata": {},
          "execution_count": 47
        }
      ]
    },
    {
      "cell_type": "code",
      "source": [
        "vtel = '031)345-0834'\n",
        "vtel.find(')')\n",
        "vtel[0:vtel.find(')')]"
      ],
      "metadata": {
        "colab": {
          "base_uri": "https://localhost:8080/",
          "height": 35
        },
        "id": "Zpm3jyZpTrV9",
        "outputId": "da97ff47-a083-4ba3-960b-de34420c777e"
      },
      "execution_count": null,
      "outputs": [
        {
          "output_type": "execute_result",
          "data": {
            "text/plain": [
              "'031'"
            ],
            "application/vnd.google.colaboratory.intrinsic+json": {
              "type": "string"
            }
          },
          "metadata": {},
          "execution_count": 48
        }
      ]
    },
    {
      "cell_type": "markdown",
      "source": [
        "포함 횟수"
      ],
      "metadata": {
        "id": "0FgREe4-U5bZ"
      }
    },
    {
      "cell_type": "code",
      "source": [
        "'abcabc'.count('a')"
      ],
      "metadata": {
        "colab": {
          "base_uri": "https://localhost:8080/"
        },
        "id": "Wm2gYdXkToFC",
        "outputId": "e6a1a154-b307-4ab7-a53f-765931f8931e"
      },
      "execution_count": null,
      "outputs": [
        {
          "output_type": "execute_result",
          "data": {
            "text/plain": [
              "2"
            ]
          },
          "metadata": {},
          "execution_count": 50
        }
      ]
    },
    {
      "cell_type": "markdown",
      "source": [
        "type 확인"
      ],
      "metadata": {
        "id": "l5NXpZ_yVBCC"
      }
    },
    {
      "cell_type": "code",
      "source": [
        "print(v1)\n",
        "print(type(v1)) # 데이터 타입 확인"
      ],
      "metadata": {
        "colab": {
          "base_uri": "https://localhost:8080/"
        },
        "id": "XgMA_aZZU-gP",
        "outputId": "152102df-627f-4b87-c3a0-d7feb9f3577d"
      },
      "execution_count": null,
      "outputs": [
        {
          "output_type": "stream",
          "name": "stdout",
          "text": [
            "abcde\n",
            "<class 'str'>\n"
          ]
        }
      ]
    },
    {
      "cell_type": "code",
      "source": [
        "v1.isalpha() # 문자인지 확인"
      ],
      "metadata": {
        "colab": {
          "base_uri": "https://localhost:8080/"
        },
        "id": "Nut91aqXVEdL",
        "outputId": "b78c6425-0085-4698-9745-310fc464b7ed"
      },
      "execution_count": null,
      "outputs": [
        {
          "output_type": "execute_result",
          "data": {
            "text/plain": [
              "True"
            ]
          },
          "metadata": {},
          "execution_count": 52
        }
      ]
    },
    {
      "cell_type": "code",
      "source": [
        "v1.isnumeric() # 숫자인지 확인"
      ],
      "metadata": {
        "colab": {
          "base_uri": "https://localhost:8080/"
        },
        "id": "54VkK65KVL-W",
        "outputId": "c50115f8-7926-4ca4-c9fd-ae789fa2a88e"
      },
      "execution_count": null,
      "outputs": [
        {
          "output_type": "execute_result",
          "data": {
            "text/plain": [
              "False"
            ]
          },
          "metadata": {},
          "execution_count": 55
        }
      ]
    },
    {
      "cell_type": "code",
      "source": [
        "# 대소문자 확인 \n",
        "v1.isupper()"
      ],
      "metadata": {
        "colab": {
          "base_uri": "https://localhost:8080/"
        },
        "id": "Wd-W0e3xVUve",
        "outputId": "f24d5486-ba02-4045-89f4-8c1da6b6761f"
      },
      "execution_count": null,
      "outputs": [
        {
          "output_type": "execute_result",
          "data": {
            "text/plain": [
              "False"
            ]
          },
          "metadata": {},
          "execution_count": 56
        }
      ]
    },
    {
      "cell_type": "code",
      "source": [
        "v1.islower()"
      ],
      "metadata": {
        "colab": {
          "base_uri": "https://localhost:8080/"
        },
        "id": "e2rCFbTOVXxI",
        "outputId": "4da3d05f-3610-421d-f47a-bcf27305f2ad"
      },
      "execution_count": null,
      "outputs": [
        {
          "output_type": "execute_result",
          "data": {
            "text/plain": [
              "True"
            ]
          },
          "metadata": {},
          "execution_count": 57
        }
      ]
    },
    {
      "cell_type": "markdown",
      "source": [
        "문자열 결합"
      ],
      "metadata": {
        "id": "7G9fBLp2Vh65"
      }
    },
    {
      "cell_type": "code",
      "source": [
        "'a' + 'b'"
      ],
      "metadata": {
        "colab": {
          "base_uri": "https://localhost:8080/",
          "height": 35
        },
        "id": "NcXmD_jIVXzf",
        "outputId": "6f38c631-4ec8-4fa8-d534-4d4ab555359d"
      },
      "execution_count": null,
      "outputs": [
        {
          "output_type": "execute_result",
          "data": {
            "text/plain": [
              "'ab'"
            ],
            "application/vnd.google.colaboratory.intrinsic+json": {
              "type": "string"
            }
          },
          "metadata": {},
          "execution_count": 58
        }
      ]
    },
    {
      "cell_type": "code",
      "source": [
        "v1"
      ],
      "metadata": {
        "colab": {
          "base_uri": "https://localhost:8080/",
          "height": 35
        },
        "id": "wkVScm0RVqmY",
        "outputId": "1c3bf126-6905-406e-fd14-6fed6b137b32"
      },
      "execution_count": null,
      "outputs": [
        {
          "output_type": "execute_result",
          "data": {
            "text/plain": [
              "'abcde'"
            ],
            "application/vnd.google.colaboratory.intrinsic+json": {
              "type": "string"
            }
          },
          "metadata": {},
          "execution_count": 60
        }
      ]
    },
    {
      "cell_type": "code",
      "source": [
        "# 문자열 길이 \n",
        "len(v1) # len() : length 크기 "
      ],
      "metadata": {
        "colab": {
          "base_uri": "https://localhost:8080/"
        },
        "id": "g6rl8ylwVX1p",
        "outputId": "539775b7-0a2d-44c1-f9c6-62235c65a424"
      },
      "execution_count": null,
      "outputs": [
        {
          "output_type": "execute_result",
          "data": {
            "text/plain": [
              "5"
            ]
          },
          "metadata": {},
          "execution_count": 59
        }
      ]
    },
    {
      "cell_type": "code",
      "source": [
        "3/len(v1)"
      ],
      "metadata": {
        "colab": {
          "base_uri": "https://localhost:8080/"
        },
        "id": "OE02g3x6VvBr",
        "outputId": "cce68492-aeeb-451c-be15-f05345138cc7"
      },
      "execution_count": null,
      "outputs": [
        {
          "output_type": "execute_result",
          "data": {
            "text/plain": [
              "0.6"
            ]
          },
          "metadata": {},
          "execution_count": 61
        }
      ]
    },
    {
      "cell_type": "markdown",
      "source": [
        "연습 "
      ],
      "metadata": {
        "id": "sv-BzJc-V9Vw"
      }
    },
    {
      "cell_type": "code",
      "source": [
        "vname = 'drwill'\n",
        "vemail = 'drwill@naver.com'\n",
        "jumin = '901026-12345678'"
      ],
      "metadata": {
        "id": "EVwwmupmVX3q"
      },
      "execution_count": null,
      "outputs": []
    },
    {
      "cell_type": "code",
      "source": [
        "# 1. 이름의 두번째 글자가 m인지 여부 확인 \n",
        "\n",
        "vname[1] == 'm'"
      ],
      "metadata": {
        "colab": {
          "base_uri": "https://localhost:8080/"
        },
        "id": "Gx8VQ1U6WZLf",
        "outputId": "08c61901-1ed2-4925-fef4-1d81f0f34755"
      },
      "execution_count": null,
      "outputs": [
        {
          "output_type": "execute_result",
          "data": {
            "text/plain": [
              "False"
            ]
          },
          "metadata": {},
          "execution_count": 66
        }
      ]
    },
    {
      "cell_type": "code",
      "source": [
        "vname.startswith('m',1)"
      ],
      "metadata": {
        "colab": {
          "base_uri": "https://localhost:8080/"
        },
        "id": "27CedUnhWpJ5",
        "outputId": "6af04fc3-317b-44c5-9f49-2108777d3dbf"
      },
      "execution_count": null,
      "outputs": [
        {
          "output_type": "execute_result",
          "data": {
            "text/plain": [
              "False"
            ]
          },
          "metadata": {},
          "execution_count": 65
        }
      ]
    },
    {
      "cell_type": "code",
      "source": [
        "# 2. vemail에서 이메일 아이디만 추출 \n",
        "vemail[0:6]"
      ],
      "metadata": {
        "colab": {
          "base_uri": "https://localhost:8080/",
          "height": 35
        },
        "id": "dUrq6GUWWplw",
        "outputId": "7ec6b233-c236-4545-806e-7063f2862675"
      },
      "execution_count": null,
      "outputs": [
        {
          "output_type": "execute_result",
          "data": {
            "text/plain": [
              "'drwill'"
            ],
            "application/vnd.google.colaboratory.intrinsic+json": {
              "type": "string"
            }
          },
          "metadata": {},
          "execution_count": 69
        }
      ]
    },
    {
      "cell_type": "code",
      "source": [
        "vemail"
      ],
      "metadata": {
        "colab": {
          "base_uri": "https://localhost:8080/",
          "height": 35
        },
        "id": "gZUyRZMIXWqx",
        "outputId": "fdfe686f-0764-4428-b2e6-5823fc499b5b"
      },
      "execution_count": null,
      "outputs": [
        {
          "output_type": "execute_result",
          "data": {
            "text/plain": [
              "'drwill@naver.com'"
            ],
            "application/vnd.google.colaboratory.intrinsic+json": {
              "type": "string"
            }
          },
          "metadata": {},
          "execution_count": 71
        }
      ]
    },
    {
      "cell_type": "code",
      "source": [
        "vemail.split(\"@\")"
      ],
      "metadata": {
        "colab": {
          "base_uri": "https://localhost:8080/"
        },
        "id": "mfTdofHYXkBZ",
        "outputId": "f3ffd478-760f-4aa3-924d-2eed019a6e92"
      },
      "execution_count": null,
      "outputs": [
        {
          "output_type": "execute_result",
          "data": {
            "text/plain": [
              "['drwill', 'naver.com']"
            ]
          },
          "metadata": {},
          "execution_count": 73
        }
      ]
    },
    {
      "cell_type": "code",
      "source": [
        "vemail.split(\"@\")[0]"
      ],
      "metadata": {
        "colab": {
          "base_uri": "https://localhost:8080/",
          "height": 35
        },
        "id": "VOMsD0oMXJCD",
        "outputId": "a5f96fc3-8cb0-41ab-ee2a-547a1b38182a"
      },
      "execution_count": null,
      "outputs": [
        {
          "output_type": "execute_result",
          "data": {
            "text/plain": [
              "'drwill'"
            ],
            "application/vnd.google.colaboratory.intrinsic+json": {
              "type": "string"
            }
          },
          "metadata": {},
          "execution_count": 70
        }
      ]
    },
    {
      "cell_type": "code",
      "source": [
        "vemail.split(\"@\")[1]"
      ],
      "metadata": {
        "colab": {
          "base_uri": "https://localhost:8080/",
          "height": 35
        },
        "id": "6jcUYquJXZ-K",
        "outputId": "9b3011d5-e30f-4375-b81e-2a0be0b46dc3"
      },
      "execution_count": null,
      "outputs": [
        {
          "output_type": "execute_result",
          "data": {
            "text/plain": [
              "'naver.com'"
            ],
            "application/vnd.google.colaboratory.intrinsic+json": {
              "type": "string"
            }
          },
          "metadata": {},
          "execution_count": 72
        }
      ]
    },
    {
      "cell_type": "code",
      "source": [
        "base = vemail.find('@')\n",
        "vemail[:base]"
      ],
      "metadata": {
        "colab": {
          "base_uri": "https://localhost:8080/",
          "height": 35
        },
        "id": "mmiKCYKhXbFB",
        "outputId": "6a83549d-f8f7-4bc4-81ec-f6ed8d07efdc"
      },
      "execution_count": null,
      "outputs": [
        {
          "output_type": "execute_result",
          "data": {
            "text/plain": [
              "'drwill'"
            ],
            "application/vnd.google.colaboratory.intrinsic+json": {
              "type": "string"
            }
          },
          "metadata": {},
          "execution_count": 75
        }
      ]
    },
    {
      "cell_type": "code",
      "source": [
        "# 3. 주민번호에서 여자인지 확인(참고 1: 남자, 2: 여자)\n",
        "\n",
        "jumin"
      ],
      "metadata": {
        "colab": {
          "base_uri": "https://localhost:8080/",
          "height": 35
        },
        "id": "dPQV51zwaJJB",
        "outputId": "a447567e-947c-47a7-c1d8-cb5fe2772412"
      },
      "execution_count": null,
      "outputs": [
        {
          "output_type": "execute_result",
          "data": {
            "text/plain": [
              "'901026-12345678'"
            ],
            "application/vnd.google.colaboratory.intrinsic+json": {
              "type": "string"
            }
          },
          "metadata": {},
          "execution_count": 85
        }
      ]
    },
    {
      "cell_type": "code",
      "source": [
        "jumin.split('-')"
      ],
      "metadata": {
        "colab": {
          "base_uri": "https://localhost:8080/"
        },
        "id": "B_EH7QKbaYxu",
        "outputId": "f1def2a7-4552-4182-d3eb-6ac34d5088d6"
      },
      "execution_count": null,
      "outputs": [
        {
          "output_type": "execute_result",
          "data": {
            "text/plain": [
              "['901026', '12345678']"
            ]
          },
          "metadata": {},
          "execution_count": 84
        }
      ]
    },
    {
      "cell_type": "code",
      "source": [
        "jumin.split('-')[0]"
      ],
      "metadata": {
        "colab": {
          "base_uri": "https://localhost:8080/",
          "height": 35
        },
        "id": "FUrku7qlacjl",
        "outputId": "bd4e8f96-f98e-41ab-8831-8c23afd02684"
      },
      "execution_count": null,
      "outputs": [
        {
          "output_type": "execute_result",
          "data": {
            "text/plain": [
              "'901026'"
            ],
            "application/vnd.google.colaboratory.intrinsic+json": {
              "type": "string"
            }
          },
          "metadata": {},
          "execution_count": 86
        }
      ]
    },
    {
      "cell_type": "code",
      "source": [
        "jumin.split('-')[1]"
      ],
      "metadata": {
        "colab": {
          "base_uri": "https://localhost:8080/",
          "height": 35
        },
        "id": "EskLM-ewalGt",
        "outputId": "5cb00cb6-6cb7-447e-b28e-8edadde8eb7d"
      },
      "execution_count": null,
      "outputs": [
        {
          "output_type": "execute_result",
          "data": {
            "text/plain": [
              "'12345678'"
            ],
            "application/vnd.google.colaboratory.intrinsic+json": {
              "type": "string"
            }
          },
          "metadata": {},
          "execution_count": 87
        }
      ]
    },
    {
      "cell_type": "code",
      "source": [
        "jumin.split('-')[1][0]"
      ],
      "metadata": {
        "colab": {
          "base_uri": "https://localhost:8080/",
          "height": 35
        },
        "id": "eaP4Z1LQamY0",
        "outputId": "f755bc37-8cad-474c-cc24-c3564cd3d320"
      },
      "execution_count": null,
      "outputs": [
        {
          "output_type": "execute_result",
          "data": {
            "text/plain": [
              "'1'"
            ],
            "application/vnd.google.colaboratory.intrinsic+json": {
              "type": "string"
            }
          },
          "metadata": {},
          "execution_count": 92
        }
      ]
    },
    {
      "cell_type": "code",
      "source": [
        "jumin.split('-')[1][0] == 2"
      ],
      "metadata": {
        "colab": {
          "base_uri": "https://localhost:8080/"
        },
        "id": "4KJgZl73a4BV",
        "outputId": "f580cedb-901c-490b-c61e-afea4ce44e96"
      },
      "execution_count": null,
      "outputs": [
        {
          "output_type": "execute_result",
          "data": {
            "text/plain": [
              "False"
            ]
          },
          "metadata": {},
          "execution_count": 93
        }
      ]
    },
    {
      "cell_type": "code",
      "source": [
        "jumin[7] == '2'"
      ],
      "metadata": {
        "colab": {
          "base_uri": "https://localhost:8080/"
        },
        "id": "DU3v1Tp0bGD-",
        "outputId": "ce8f9db5-a8b8-4d01-8ff1-332626b72c08"
      },
      "execution_count": null,
      "outputs": [
        {
          "output_type": "execute_result",
          "data": {
            "text/plain": [
              "False"
            ]
          },
          "metadata": {},
          "execution_count": 94
        }
      ]
    },
    {
      "cell_type": "code",
      "source": [
        "gender = jumin.split('-')[1].startswith('1')\n",
        "\n",
        "if gender == 1 :\n",
        "   print('남성')\n",
        "elif gender == 2 :\n",
        "   print('여성')\n"
      ],
      "metadata": {
        "colab": {
          "base_uri": "https://localhost:8080/"
        },
        "id": "M_8zLZWnbPjW",
        "outputId": "c9dc2e7b-27b0-4739-d7d5-69771a7ac2d8"
      },
      "execution_count": null,
      "outputs": [
        {
          "output_type": "stream",
          "name": "stdout",
          "text": [
            "남성\n"
          ]
        }
      ]
    },
    {
      "cell_type": "code",
      "source": [
        "gender = jumin.split('-')[1].startswith('1')\n",
        "\n",
        "if gender == 1 :\n",
        "   print('남성')\n",
        "else:\n",
        "   print('여성')"
      ],
      "metadata": {
        "id": "ju7bpuILbgoI",
        "outputId": "17a69485-9133-4d88-eb20-3f896f5c7581",
        "colab": {
          "base_uri": "https://localhost:8080/"
        }
      },
      "execution_count": null,
      "outputs": [
        {
          "output_type": "stream",
          "name": "stdout",
          "text": [
            "남성\n"
          ]
        }
      ]
    },
    {
      "cell_type": "code",
      "source": [
        ""
      ],
      "metadata": {
        "id": "yBPQsouvbjkf"
      },
      "execution_count": null,
      "outputs": []
    }
  ]
}