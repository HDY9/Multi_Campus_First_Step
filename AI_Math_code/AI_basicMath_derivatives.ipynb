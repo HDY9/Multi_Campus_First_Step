{
  "nbformat": 4,
  "nbformat_minor": 0,
  "metadata": {
    "colab": {
      "name": "AI 기초수학_미분.ipynb",
      "provenance": []
    },
    "kernelspec": {
      "name": "python3",
      "display_name": "Python 3"
    },
    "language_info": {
      "name": "python"
    }
  },
  "cells": [
    {
      "cell_type": "code",
      "source": [
        "# 1. 미분계수(순간변화율) \n",
        "\n",
        "# 파이썬 numpy library 호출 \n",
        "from sympy import Derivative, symbols "
      ],
      "metadata": {
        "id": "dmv024qPmSBi"
      },
      "execution_count": 12,
      "outputs": []
    },
    {
      "cell_type": "code",
      "execution_count": 15,
      "metadata": {
        "id": "5nL8Ca6FY4A5"
      },
      "outputs": [],
      "source": [
        "# 평균변화율 정의하는 함수 \n",
        "\n",
        "def average(a,b): \n",
        "    m = max(a,b) # a,b 최대값\n",
        "    n = min(a,b) # a,b 최솟값\n",
        "    x = symbols('x')\n",
        "\n",
        "    fx = 2*x**2 + 4*x + 7 \n",
        "    fb = fx.subs(x,m) # 함수에 최대값 m 대입 \n",
        "    fa = fx.subs(x,n) # 함수에 최솟값 n 대입\n",
        "\n",
        "    result = (fb-fa) / (b-a)\n",
        "    return result    "
      ]
    },
    {
      "cell_type": "code",
      "source": [
        "print(average(0,2))"
      ],
      "metadata": {
        "colab": {
          "base_uri": "https://localhost:8080/"
        },
        "id": "gVW0iQITnJ0U",
        "outputId": "c44e61e3-1357-4200-e267-8c1e0883a209"
      },
      "execution_count": 16,
      "outputs": [
        {
          "output_type": "stream",
          "name": "stdout",
          "text": [
            "8\n"
          ]
        }
      ]
    },
    {
      "cell_type": "code",
      "source": [
        "print(average(1,4))"
      ],
      "metadata": {
        "colab": {
          "base_uri": "https://localhost:8080/"
        },
        "id": "m5f1-FdinnO9",
        "outputId": "104d2f65-f1da-466e-8b5f-ea0e0561daff"
      },
      "execution_count": 17,
      "outputs": [
        {
          "output_type": "stream",
          "name": "stdout",
          "text": [
            "14\n"
          ]
        }
      ]
    },
    {
      "cell_type": "code",
      "source": [
        "# 평균변화율 함수 정의 \n",
        "x = symbols('x')\n",
        "fx = 2*x**2+4*x+7 \n",
        "\n",
        "# fprme 변수 생성 \n",
        "# subs() 메소드: x=3에서 미분계수 df/df(3) 구하기 \n",
        "\n",
        "fprime = Derivative(fx, x).doit() # x에 대해 미분 \n",
        "n = fprime.subs({x:3}) \n",
        "\n",
        "print(\"fx에서 x=3에서의 순간변화율(미분계수):\", n, \"입니다\")"
      ],
      "metadata": {
        "colab": {
          "base_uri": "https://localhost:8080/"
        },
        "id": "U0GAd8IyZlAy",
        "outputId": "f0c58f41-035b-4d3b-8917-8c461dd2d74e"
      },
      "execution_count": null,
      "outputs": [
        {
          "output_type": "stream",
          "name": "stdout",
          "text": [
            "fx에서 x=3에서의 순간변화율(미분계수): 16 입니다\n"
          ]
        }
      ]
    },
    {
      "cell_type": "code",
      "source": [
        "# 다항함수의 미분 \n",
        "\n",
        "# 파이썬 sympy 라이브러리 호출 \n",
        "from sympy import Derivative, symbols\n",
        "\n",
        "# x변수와 함수 fx 정의 \n",
        "x = symbols('x')\n",
        "fx = 2*x**2+4*x+7\n",
        "\n",
        "Derivative(fx, x).doit()"
      ],
      "metadata": {
        "colab": {
          "base_uri": "https://localhost:8080/",
          "height": 39
        },
        "id": "kIDIG_UMaT0-",
        "outputId": "fb30a32c-7aa1-4c66-944c-78a6095d9a61"
      },
      "execution_count": null,
      "outputs": [
        {
          "output_type": "execute_result",
          "data": {
            "text/plain": [
              "4*x + 4"
            ],
            "text/latex": "$\\displaystyle 4 x + 4$"
          },
          "metadata": {},
          "execution_count": 3
        }
      ]
    },
    {
      "cell_type": "code",
      "source": [
        "# 도함수 \n",
        "\n",
        "# x변수와 함수 fx 정의 \n",
        "x = symbols('x')\n",
        "fx = 2*x**2-1\n",
        "\n",
        "Derivative(fx, x).doit()"
      ],
      "metadata": {
        "colab": {
          "base_uri": "https://localhost:8080/",
          "height": 39
        },
        "id": "RTaMqjGdaT3m",
        "outputId": "367a8047-7f3b-497f-eb79-e7f267c04d37"
      },
      "execution_count": null,
      "outputs": [
        {
          "output_type": "execute_result",
          "data": {
            "text/plain": [
              "4*x"
            ],
            "text/latex": "$\\displaystyle 4 x$"
          },
          "metadata": {},
          "execution_count": 4
        }
      ]
    },
    {
      "cell_type": "code",
      "source": [
        "# 다항함수의 미분법 \n",
        "\n",
        "import sympy\n",
        "# x변수와 함수 a (diff())정의 \n",
        "x = symbols('x')\n",
        "a = sympy.diff((2*x**3 + 3*x**2+x+1),x)\n",
        "print(a)\n",
        "\n"
      ],
      "metadata": {
        "colab": {
          "base_uri": "https://localhost:8080/"
        },
        "id": "lcp5ZAQ5aT51",
        "outputId": "ad9d15d4-11c0-406a-a425-4ad6128a94cb"
      },
      "execution_count": null,
      "outputs": [
        {
          "output_type": "stream",
          "name": "stdout",
          "text": [
            "6*x**2 + 6*x + 1\n"
          ]
        }
      ]
    },
    {
      "cell_type": "code",
      "source": [
        ""
      ],
      "metadata": {
        "id": "qGmToqItb5yb"
      },
      "execution_count": null,
      "outputs": []
    }
  ]
}