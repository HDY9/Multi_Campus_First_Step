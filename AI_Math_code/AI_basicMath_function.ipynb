{
 "cells": [
  {
   "cell_type": "code",
   "execution_count": 1,
   "id": "d9c7b166",
   "metadata": {},
   "outputs": [],
   "source": [
    "# numpy library \n",
    "import numpy as np "
   ]
  },
  {
   "cell_type": "code",
   "execution_count": 3,
   "id": "d0ef421f",
   "metadata": {},
   "outputs": [
    {
     "data": {
      "text/plain": [
       "matrix([[1, 0, 0, 0],\n",
       "        [2, 1, 0, 0],\n",
       "        [3, 0, 1, 0],\n",
       "        [4, 0, 0, 1]])"
      ]
     },
     "execution_count": 3,
     "metadata": {},
     "output_type": "execute_result"
    }
   ],
   "source": [
    "np.matrix([[1,0,0,0],[2,1,0,0],[3,0,1,0],[4,0,0,1]])"
   ]
  },
  {
   "cell_type": "code",
   "execution_count": 4,
   "id": "3afd98ed",
   "metadata": {},
   "outputs": [],
   "source": [
    "A = np.matrix([[1,0,0,0],[2,1,0,0],[3,0,1,0],[4,0,0,1]])\n",
    "# A행렬 생성(4*4 행렬)"
   ]
  },
  {
   "cell_type": "code",
   "execution_count": 5,
   "id": "7ab2d3b5",
   "metadata": {},
   "outputs": [
    {
     "data": {
      "text/plain": [
       "matrix([[ 1.,  0.,  0.,  0.],\n",
       "        [-2.,  1.,  0.,  0.],\n",
       "        [-3.,  0.,  1.,  0.],\n",
       "        [-4., -0., -0.,  1.]])"
      ]
     },
     "execution_count": 5,
     "metadata": {},
     "output_type": "execute_result"
    }
   ],
   "source": [
    "# A행렬의 역행렬을 구하시오 \n",
    "\n",
    "np.linalg.inv(A)"
   ]
  },
  {
   "cell_type": "code",
   "execution_count": 7,
   "id": "b7670c9c",
   "metadata": {},
   "outputs": [
    {
     "data": {
      "text/plain": [
       "matrix([[1, 2],\n",
       "        [3, 4]])"
      ]
     },
     "execution_count": 7,
     "metadata": {},
     "output_type": "execute_result"
    }
   ],
   "source": [
    "B = np.matrix([[1,2],[3,4]])\n",
    "B"
   ]
  },
  {
   "cell_type": "code",
   "execution_count": 8,
   "id": "78cfff4d",
   "metadata": {},
   "outputs": [
    {
     "data": {
      "text/plain": [
       "matrix([[-2. ,  1. ],\n",
       "        [ 1.5, -0.5]])"
      ]
     },
     "execution_count": 8,
     "metadata": {},
     "output_type": "execute_result"
    }
   ],
   "source": [
    "np.linalg.inv(B)"
   ]
  },
  {
   "cell_type": "code",
   "execution_count": 15,
   "id": "d55daaf1",
   "metadata": {},
   "outputs": [
    {
     "name": "stdout",
     "output_type": "stream",
     "text": [
      "[[ 0  1  2  3  4]\n",
      " [ 5  6  7  8  9]\n",
      " [10 11 12 13 14]]\n",
      "\n",
      "<class 'numpy.ndarray'>\n",
      "\n",
      "(3, 5)\n"
     ]
    }
   ],
   "source": [
    "# 전치행렬(transpose)\n",
    "\n",
    "a = np.arange(15).reshape(3,5)\n",
    "print(a)\n",
    "print()\n",
    "print(type(a))\n",
    "print()\n",
    "print(a.shape)"
   ]
  },
  {
   "cell_type": "code",
   "execution_count": 12,
   "id": "c12d1d5b",
   "metadata": {},
   "outputs": [
    {
     "data": {
      "text/plain": [
       "array([[ 0,  5, 10],\n",
       "       [ 1,  6, 11],\n",
       "       [ 2,  7, 12],\n",
       "       [ 3,  8, 13],\n",
       "       [ 4,  9, 14]])"
      ]
     },
     "execution_count": 12,
     "metadata": {},
     "output_type": "execute_result"
    }
   ],
   "source": [
    "np.transpose(a)"
   ]
  },
  {
   "cell_type": "code",
   "execution_count": null,
   "id": "f65bd314",
   "metadata": {},
   "outputs": [],
   "source": []
  }
 ],
 "metadata": {
  "kernelspec": {
   "display_name": "Python 3 (ipykernel)",
   "language": "python",
   "name": "python3"
  },
  "language_info": {
   "codemirror_mode": {
    "name": "ipython",
    "version": 3
   },
   "file_extension": ".py",
   "mimetype": "text/x-python",
   "name": "python",
   "nbconvert_exporter": "python",
   "pygments_lexer": "ipython3",
   "version": "3.9.12"
  }
 },
 "nbformat": 4,
 "nbformat_minor": 5
}
