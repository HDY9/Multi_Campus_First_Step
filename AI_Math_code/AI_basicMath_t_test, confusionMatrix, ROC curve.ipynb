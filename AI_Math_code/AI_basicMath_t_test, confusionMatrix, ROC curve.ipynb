{
 "cells": [
  {
   "cell_type": "code",
   "execution_count": 1,
   "id": "f36b1200",
   "metadata": {},
   "outputs": [],
   "source": [
    "# 대한민국 20세 이상 남성 평균 키 : 173cm \n",
    "# 귀무가설 : 멀티캠퍼스 남학생의 평균 키는 173cm이다 \n",
    "# 대립가설 : 멀티캠퍼스 남학생의 평균 키는 173cm 아니다"
   ]
  },
  {
   "cell_type": "code",
   "execution_count": 3,
   "id": "4b29b416",
   "metadata": {},
   "outputs": [],
   "source": [
    "import numpy as np \n",
    "from scipy import stats "
   ]
  },
  {
   "cell_type": "code",
   "execution_count": 4,
   "id": "1b5709e9",
   "metadata": {},
   "outputs": [],
   "source": [
    "# 난수 발생 >> seed 값 설정 (코드 실행시 마다 동일한 난수 발생 위함)\n",
    "\n",
    "np.random.seed(42)"
   ]
  },
  {
   "cell_type": "code",
   "execution_count": 7,
   "id": "e6f95908",
   "metadata": {},
   "outputs": [
    {
     "data": {
      "text/plain": [
       "[181.69233289997706,\n",
       " 178.85684140594987,\n",
       " 177.4217585880588,\n",
       " 176.49448152205355,\n",
       " 170.60739004816287,\n",
       " 174.40077895802645,\n",
       " 175.69680614520107,\n",
       " 183.28561113109458,\n",
       " 179.7180914478423,\n",
       " 169.18479922318633,\n",
       " 179.620419846974,\n",
       " 176.07458859791842,\n",
       " 174.61538999847022,\n",
       " 181.05838144420434,\n",
       " 183.15499761247975,\n",
       " 182.656400595581,\n",
       " 173.8039123838868,\n",
       " 176.4539381207439,\n",
       " 179.6563171570178,\n",
       " 182.8777256356118]"
      ]
     },
     "execution_count": 7,
     "metadata": {},
     "output_type": "execute_result"
    }
   ],
   "source": [
    "# 평균 178, 표준편차 5로 임의의 키(heights) 20개 생성 \n",
    "\n",
    "heights = [178 + np.random.normal(0, 5) for _ in range(20)] \n",
    "heights"
   ]
  },
  {
   "cell_type": "code",
   "execution_count": 13,
   "id": "fc5a4a84",
   "metadata": {},
   "outputs": [
    {
     "data": {
      "text/plain": [
       "Ttest_1sampResult(statistic=5.302777860836891, pvalue=4.0609320531693456e-05)"
      ]
     },
     "execution_count": 13,
     "metadata": {},
     "output_type": "execute_result"
    }
   ],
   "source": [
    "# t 검정 수행 \n",
    "\n",
    "stats.ttest_1samp(heights, 173)\n",
    "_ttest = stats.ttest_1samp(heights, 173)\n",
    "_ttest"
   ]
  },
  {
   "cell_type": "code",
   "execution_count": 10,
   "id": "3fb9f481",
   "metadata": {},
   "outputs": [],
   "source": [
    "# 결과 해석 \n",
    "# p-value(유의확률)가  0.00004  < 0.05(alpha, 유의수준)보가 작으므로 귀무가설 기각. 대립가설 채택.\n",
    "# 즉, 멀티캠퍼스 남학생의 평균은 178(표준편차=5)은 대한민국 20세 이상 남학생 키 평균과 차이가 있다."
   ]
  },
  {
   "cell_type": "code",
   "execution_count": 16,
   "id": "b1791161",
   "metadata": {},
   "outputs": [
    {
     "name": "stdout",
     "output_type": "stream",
     "text": [
      "The T-statistics is 5.303 and the p-value is 0.000\n"
     ]
    }
   ],
   "source": [
    "# 결과출력 \n",
    "\n",
    "print(\"The T-statistics is %.3f and the p-value is %.3f\"% _ttest)"
   ]
  },
  {
   "cell_type": "markdown",
   "id": "85abec94",
   "metadata": {},
   "source": [
    "#### 혼동행렬(반드시 시험에 나옴 **** )"
   ]
  },
  {
   "cell_type": "code",
   "execution_count": 35,
   "id": "46d37520",
   "metadata": {},
   "outputs": [],
   "source": [
    "import numpy as np \n",
    "import sklearn.metrics as metrics \n",
    "\n",
    "# 0 : 정상(암 없음) , 1 : 암환자 \n",
    "y = np.array([1,1,1,1,0,0]) # 실제 관측값 \n",
    "p = np.array([1,1,1,0,0,0]) # 예측 값 "
   ]
  },
  {
   "cell_type": "code",
   "execution_count": 36,
   "id": "f1f35438",
   "metadata": {},
   "outputs": [],
   "source": [
    "# 정확도, 정밀도, 재현율, f-1 score "
   ]
  },
  {
   "cell_type": "code",
   "execution_count": 37,
   "id": "74d69d52",
   "metadata": {},
   "outputs": [
    {
     "name": "stdout",
     "output_type": "stream",
     "text": [
      "accuracy: 0.8333333333333334\n"
     ]
    }
   ],
   "source": [
    "print('accuracy:', metrics.accuracy_score(y, p)) \n",
    "# 정확도는 0.83 (83%)"
   ]
  },
  {
   "cell_type": "code",
   "execution_count": 38,
   "id": "bfd5cfb3",
   "metadata": {},
   "outputs": [
    {
     "name": "stdout",
     "output_type": "stream",
     "text": [
      "precision: 1.0\n"
     ]
    }
   ],
   "source": [
    "print('precision:', metrics.precision_score(y, p))\n",
    "# 정밀도는 1.0 (100%)"
   ]
  },
  {
   "cell_type": "code",
   "execution_count": 39,
   "id": "7c7d8e59",
   "metadata": {},
   "outputs": [
    {
     "name": "stdout",
     "output_type": "stream",
     "text": [
      "recall: 0.75\n"
     ]
    }
   ],
   "source": [
    "print('recall:', metrics.recall_score(y, p))\n",
    "# 재현율은 0.75(75%)"
   ]
  },
  {
   "cell_type": "code",
   "execution_count": 40,
   "id": "5829991a",
   "metadata": {},
   "outputs": [
    {
     "name": "stdout",
     "output_type": "stream",
     "text": [
      "f1: 0.8571428571428571\n"
     ]
    }
   ],
   "source": [
    "print('f1:', metrics.f1_score(y,p))\n",
    "# f1 score는 0.857 (86%)"
   ]
  },
  {
   "cell_type": "code",
   "execution_count": 43,
   "id": "2f8a6bde",
   "metadata": {},
   "outputs": [
    {
     "name": "stdout",
     "output_type": "stream",
     "text": [
      "              precision    recall  f1-score   support\n",
      "\n",
      "           0       0.67      1.00      0.80         2\n",
      "           1       1.00      0.75      0.86         4\n",
      "\n",
      "    accuracy                           0.83         6\n",
      "   macro avg       0.83      0.88      0.83         6\n",
      "weighted avg       0.89      0.83      0.84         6\n",
      "\n",
      "[[2 0]\n",
      " [1 3]]\n"
     ]
    }
   ],
   "source": [
    "# 정확도, 정밀도, 재현율, f1-score 한 번에 출력 (***)\n",
    "\n",
    "print(metrics.classification_report(y, p))\n",
    "print(metrics.confusion_matrix(y, p))"
   ]
  },
  {
   "cell_type": "code",
   "execution_count": 44,
   "id": "4031bde1",
   "metadata": {},
   "outputs": [
    {
     "data": {
      "text/plain": [
       "0.8333333333333334"
      ]
     },
     "execution_count": 44,
     "metadata": {},
     "output_type": "execute_result"
    }
   ],
   "source": [
    "# acc \n",
    "\n",
    "(2+3) / (2+0+1+3)"
   ]
  },
  {
   "cell_type": "code",
   "execution_count": 45,
   "id": "3c8498ed",
   "metadata": {},
   "outputs": [
    {
     "data": {
      "text/plain": [
       "1.0"
      ]
     },
     "execution_count": 45,
     "metadata": {},
     "output_type": "execute_result"
    }
   ],
   "source": [
    "# precistion( 기준 : predict >> True)\n",
    "2/2"
   ]
  },
  {
   "cell_type": "code",
   "execution_count": 46,
   "id": "28a7c4c9",
   "metadata": {},
   "outputs": [
    {
     "data": {
      "text/plain": [
       "0.75"
      ]
     },
     "execution_count": 46,
     "metadata": {},
     "output_type": "execute_result"
    }
   ],
   "source": [
    "# recall (기준 : actual >> True)\n",
    "3/4"
   ]
  },
  {
   "cell_type": "markdown",
   "id": "632ced4d",
   "metadata": {},
   "source": [
    "#### ROC curve \n",
    "\n",
    "- 특_이도(x축, False Positive Rate : FRR) : 틀_린 것을 틀_렸다고 예측하는 것 (틀틀틀 >> x)\n",
    "- 민_감도(y축, 재현율, True Positive Rate : TRR) : 맞_은 것을 맞_다고 예측하는 것 (맞맞막 >> y)"
   ]
  },
  {
   "cell_type": "code",
   "execution_count": 47,
   "id": "638ba553",
   "metadata": {},
   "outputs": [],
   "source": [
    "import numpy as np \n",
    "import pandas as pd \n",
    "import matplotlib.pyplot as plt \n",
    "import seaborn as sns "
   ]
  },
  {
   "cell_type": "code",
   "execution_count": 48,
   "id": "bfb21287",
   "metadata": {},
   "outputs": [],
   "source": [
    "from sklearn.datasets import make_classification \n",
    "from sklearn.neighbors import KNeighborsClassifier\n",
    "from sklearn.ensemble import RandomForestClassifier\n",
    "from sklearn.model_selection import train_test_split\n",
    "from sklearn.metrics import roc_curve, roc_auc_score"
   ]
  },
  {
   "cell_type": "code",
   "execution_count": 81,
   "id": "7cbd91b5",
   "metadata": {},
   "outputs": [],
   "source": [
    "# roc curve 함수 정의 \n",
    "def plot_roc_curve(fpr, tpr):\n",
    "    plt.plot(fpr, tpr, color='orange', label='ROC')\n",
    "    plt.plot([0,1],[0,1],  color='darkblue', linestyle='--')\n",
    "    plt.xlabel('FPR')\n",
    "    plt.ylabel('TPR')\n",
    "    plt.title('ROC curve')\n",
    "    plt.legend()\n",
    "    plt.show()"
   ]
  },
  {
   "cell_type": "code",
   "execution_count": 69,
   "id": "8d6e1d92",
   "metadata": {},
   "outputs": [],
   "source": [
    "# 샘플 데이터 1000건 생성 \n",
    "\n",
    "data_x, class_label = make_classification(n_samples=1000, n_classes=2, \n",
    "                                           weights=[1,1], random_state=42)"
   ]
  },
  {
   "cell_type": "code",
   "execution_count": 70,
   "id": "d9291a9c",
   "metadata": {},
   "outputs": [],
   "source": [
    "train_x, test_x, train_y, test_y = train_test_split(data_x, class_label, \n",
    "                                                    test_size=0.3, random_state=42) "
   ]
  },
  {
   "cell_type": "code",
   "execution_count": 71,
   "id": "01e864b1",
   "metadata": {},
   "outputs": [
    {
     "data": {
      "text/plain": [
       "RandomForestClassifier()"
      ]
     },
     "execution_count": 71,
     "metadata": {},
     "output_type": "execute_result"
    }
   ],
   "source": [
    "# 모델링 (학습 데이터를 앙상블 모형 중 랜덤포레스트 모델에 적용)\n",
    "\n",
    "model = RandomForestClassifier()\n",
    "model.fit(train_x, train_y) \n",
    "# fit : 모델을 학습하기 적합하게 만들어 >> 모델 생성 \n",
    "# 반드시 모델 구축시에는 train data 사용해야 함 "
   ]
  },
  {
   "cell_type": "code",
   "execution_count": 72,
   "id": "efa682bc",
   "metadata": {},
   "outputs": [],
   "source": [
    "# 예측 값(확률)>> test data로 예측 \n",
    "\n",
    "probs = model.predict_proba(test_x)\n",
    "# probs"
   ]
  },
  {
   "cell_type": "code",
   "execution_count": 73,
   "id": "481cede0",
   "metadata": {},
   "outputs": [],
   "source": [
    "# positive class 만 유지하고자 함 \n",
    "\n",
    "probs = probs[:, 1] # 행(데이터 레코드) 다 가져오고 class가 1(positive)인 것만 추출 "
   ]
  },
  {
   "cell_type": "code",
   "execution_count": 74,
   "id": "42ce5050",
   "metadata": {},
   "outputs": [
    {
     "data": {
      "text/plain": [
       "0.9533654489495517"
      ]
     },
     "execution_count": 74,
     "metadata": {},
     "output_type": "execute_result"
    }
   ],
   "source": [
    "# AUC (Area Under Curve)\n",
    "roc_auc_score(test_y, probs) # test data (실제 데이터)와 예측 데이터(probs) 비교"
   ]
  },
  {
   "cell_type": "code",
   "execution_count": 75,
   "id": "6607abe7",
   "metadata": {},
   "outputs": [],
   "source": [
    "auc = roc_auc_score(test_y, probs)"
   ]
  },
  {
   "cell_type": "code",
   "execution_count": 76,
   "id": "b81ac14e",
   "metadata": {},
   "outputs": [],
   "source": [
    "# roc curve 곡선 확보하기 \n",
    "\n",
    "fpr, tpr, thresholds = roc_curve(test_y, probs)"
   ]
  },
  {
   "cell_type": "code",
   "execution_count": 77,
   "id": "ea705c95",
   "metadata": {},
   "outputs": [
    {
     "data": {
      "text/plain": [
       "array([0.        , 0.        , 0.        , 0.        , 0.        ,\n",
       "       0.        , 0.        , 0.        , 0.        , 0.        ,\n",
       "       0.00628931, 0.00628931, 0.01257862, 0.01257862, 0.02515723,\n",
       "       0.03144654, 0.03144654, 0.03144654, 0.03144654, 0.03773585,\n",
       "       0.04402516, 0.04402516, 0.05031447, 0.05031447, 0.05660377,\n",
       "       0.06289308, 0.06918239, 0.06918239, 0.08176101, 0.09433962,\n",
       "       0.10062893, 0.10062893, 0.11320755, 0.11949686, 0.13207547,\n",
       "       0.13207547, 0.13836478, 0.13836478, 0.14465409, 0.1572327 ,\n",
       "       0.1572327 , 0.16981132, 0.16981132, 0.17610063, 0.18867925,\n",
       "       0.19496855, 0.20125786, 0.20754717, 0.2327044 , 0.25157233,\n",
       "       0.27044025, 0.27672956, 0.28930818, 0.29559748, 0.29559748,\n",
       "       0.30188679, 0.31446541, 0.36477987, 0.37735849, 0.39622642,\n",
       "       0.44025157, 0.47798742, 0.48427673, 0.52201258, 0.52830189,\n",
       "       0.56603774, 0.6163522 , 0.67295597, 0.71069182, 0.77358491,\n",
       "       0.81132075, 0.86163522, 0.90566038, 0.93710692, 0.98113208,\n",
       "       0.98742138, 1.        ])"
      ]
     },
     "execution_count": 77,
     "metadata": {},
     "output_type": "execute_result"
    }
   ],
   "source": [
    "fpr"
   ]
  },
  {
   "cell_type": "code",
   "execution_count": 78,
   "id": "265ae632",
   "metadata": {},
   "outputs": [
    {
     "data": {
      "text/plain": [
       "array([0.        , 0.04255319, 0.10638298, 0.16312057, 0.24822695,\n",
       "       0.29787234, 0.33333333, 0.38297872, 0.41843972, 0.42553191,\n",
       "       0.43971631, 0.4822695 , 0.53191489, 0.56028369, 0.60283688,\n",
       "       0.63829787, 0.67375887, 0.68794326, 0.71631206, 0.73758865,\n",
       "       0.75177305, 0.78014184, 0.80141844, 0.82269504, 0.83687943,\n",
       "       0.83687943, 0.84397163, 0.85815603, 0.85815603, 0.87234043,\n",
       "       0.87943262, 0.88652482, 0.88652482, 0.90070922, 0.90070922,\n",
       "       0.90780142, 0.90780142, 0.92198582, 0.92198582, 0.92198582,\n",
       "       0.92907801, 0.92907801, 0.93617021, 0.93617021, 0.94326241,\n",
       "       0.95035461, 0.95035461, 0.95744681, 0.95744681, 0.95744681,\n",
       "       0.96453901, 0.96453901, 0.96453901, 0.96453901, 0.97163121,\n",
       "       0.97163121, 0.97163121, 0.97163121, 0.97163121, 0.9787234 ,\n",
       "       0.9787234 , 0.9787234 , 0.9787234 , 0.9787234 , 0.9787234 ,\n",
       "       0.9858156 , 0.9858156 , 0.9929078 , 0.9929078 , 0.9929078 ,\n",
       "       1.        , 1.        , 1.        , 1.        , 1.        ,\n",
       "       1.        , 1.        ])"
      ]
     },
     "execution_count": 78,
     "metadata": {},
     "output_type": "execute_result"
    }
   ],
   "source": [
    "tpr"
   ]
  },
  {
   "cell_type": "code",
   "execution_count": 79,
   "id": "5024f090",
   "metadata": {},
   "outputs": [
    {
     "data": {
      "text/plain": [
       "array([2.  , 1.  , 0.99, 0.98, 0.96, 0.95, 0.94, 0.93, 0.92, 0.91, 0.9 ,\n",
       "       0.89, 0.88, 0.87, 0.85, 0.84, 0.83, 0.82, 0.81, 0.8 , 0.79, 0.75,\n",
       "       0.74, 0.73, 0.72, 0.7 , 0.68, 0.66, 0.63, 0.62, 0.61, 0.6 , 0.59,\n",
       "       0.58, 0.57, 0.55, 0.54, 0.52, 0.51, 0.5 , 0.49, 0.44, 0.43, 0.41,\n",
       "       0.39, 0.36, 0.35, 0.34, 0.32, 0.3 , 0.27, 0.26, 0.25, 0.24, 0.23,\n",
       "       0.22, 0.21, 0.19, 0.18, 0.17, 0.16, 0.15, 0.14, 0.13, 0.12, 0.11,\n",
       "       0.1 , 0.09, 0.08, 0.07, 0.06, 0.05, 0.04, 0.03, 0.02, 0.01, 0.  ])"
      ]
     },
     "execution_count": 79,
     "metadata": {},
     "output_type": "execute_result"
    }
   ],
   "source": [
    "thresholds"
   ]
  },
  {
   "cell_type": "code",
   "execution_count": 82,
   "id": "68997bf9",
   "metadata": {},
   "outputs": [
    {
     "data": {
      "image/png": "[encoded data removed]",
      "text/plain": [
       "<Figure size 432x288 with 1 Axes>"
      ]
     },
     "metadata": {
      "needs_background": "light"
     },
     "output_type": "display_data"
    }
   ],
   "source": [
    "# 함수 호출\n",
    "plot_roc_curve(fpr, tpr)"
   ]
  },
  {
   "cell_type": "code",
   "execution_count": null,
   "id": "b3987f01",
   "metadata": {},
   "outputs": [],
   "source": []
  },
  {
   "cell_type": "code",
   "execution_count": null,
   "id": "212db73c",
   "metadata": {},
   "outputs": [],
   "source": []
  }
 ],
 "metadata": {
  "kernelspec": {
   "display_name": "Python 3 (ipykernel)",
   "language": "python",
   "name": "python3"
  },
  "language_info": {
   "codemirror_mode": {
    "name": "ipython",
    "version": 3
   },
   "file_extension": ".py",
   "mimetype": "text/x-python",
   "name": "python",
   "nbconvert_exporter": "python",
   "pygments_lexer": "ipython3",
   "version": "3.9.12"
  }
 },
 "nbformat": 4,
 "nbformat_minor": 5
}
