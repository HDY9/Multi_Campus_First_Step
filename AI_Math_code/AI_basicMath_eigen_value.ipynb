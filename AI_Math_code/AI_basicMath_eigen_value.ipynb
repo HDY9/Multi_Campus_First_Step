{
 "cells": [
  {
   "cell_type": "markdown",
   "id": "8eb4d987",
   "metadata": {},
   "source": [
    "### 고유값과 고유 벡터"
   ]
  },
  {
   "cell_type": "code",
   "execution_count": 1,
   "id": "09987ff9",
   "metadata": {},
   "outputs": [],
   "source": [
    "import numpy as np "
   ]
  },
  {
   "cell_type": "code",
   "execution_count": 2,
   "id": "e9af8bf2",
   "metadata": {},
   "outputs": [
    {
     "data": {
      "text/plain": [
       "array([[ 5, -1],\n",
       "       [-2,  1]])"
      ]
     },
     "execution_count": 2,
     "metadata": {},
     "output_type": "execute_result"
    }
   ],
   "source": [
    "# 2차원 행렬 A \n",
    "# np.linalg.eig(a) : 고유값, 고유벡터 도출 함수 \n",
    "\n",
    "a = np.array([[5,-1],[-2,1]]) # A 는 정방행렬이여야 함 \\\n",
    "a"
   ]
  },
  {
   "cell_type": "code",
   "execution_count": 3,
   "id": "8e877cec",
   "metadata": {},
   "outputs": [
    {
     "data": {
      "text/plain": [
       "(array([5.44948974, 0.55051026]),\n",
       " array([[ 0.91209559,  0.21927526],\n",
       "        [-0.40997761,  0.97566304]]))"
      ]
     },
     "execution_count": 3,
     "metadata": {},
     "output_type": "execute_result"
    }
   ],
   "source": [
    "np.linalg.eig(a)"
   ]
  },
  {
   "cell_type": "code",
   "execution_count": 4,
   "id": "2854358a",
   "metadata": {},
   "outputs": [],
   "source": [
    "w, v = np.linalg.eig(a)"
   ]
  },
  {
   "cell_type": "code",
   "execution_count": 5,
   "id": "b87d7e5c",
   "metadata": {},
   "outputs": [
    {
     "name": "stdout",
     "output_type": "stream",
     "text": [
      "[5.44948974 0.55051026]\n",
      "\n",
      "[[ 0.91209559  0.21927526]\n",
      " [-0.40997761  0.97566304]]\n"
     ]
    }
   ],
   "source": [
    "print(w)\n",
    "print()\n",
    "print(v)"
   ]
  },
  {
   "cell_type": "code",
   "execution_count": null,
   "id": "7f5c3947",
   "metadata": {},
   "outputs": [],
   "source": []
  }
 ],
 "metadata": {
  "kernelspec": {
   "display_name": "Python 3 (ipykernel)",
   "language": "python",
   "name": "python3"
  },
  "language_info": {
   "codemirror_mode": {
    "name": "ipython",
    "version": 3
   },
   "file_extension": ".py",
   "mimetype": "text/x-python",
   "name": "python",
   "nbconvert_exporter": "python",
   "pygments_lexer": "ipython3",
   "version": "3.9.12"
  }
 },
 "nbformat": 4,
 "nbformat_minor": 5
}
