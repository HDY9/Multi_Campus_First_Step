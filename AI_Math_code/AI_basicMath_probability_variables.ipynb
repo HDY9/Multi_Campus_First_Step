{
 "cells": [
  {
   "cell_type": "markdown",
   "id": "c2e46b9c",
   "metadata": {},
   "source": [
    "### 확률변수와 확률분포"
   ]
  },
  {
   "cell_type": "code",
   "execution_count": null,
   "id": "a35c6e1c",
   "metadata": {},
   "outputs": [],
   "source": [
    "# 이산 확률분포"
   ]
  },
  {
   "cell_type": "code",
   "execution_count": 3,
   "id": "d278e70b",
   "metadata": {},
   "outputs": [],
   "source": [
    "import matplotlib as mpl\n",
    "import matplotlib.pyplot as plt \n",
    "from matplotlib import font_manager\n",
    "\n",
    "# 한글깨짐 현상 방지 코드\n",
    "font_fname = \"C:\\\\Windows\\\\Fonts\\\\gulim.ttc\"\n",
    "font_family = font_manager.FontProperties(fname = font_fname).get_name()\n",
    "\n",
    "plt.rcParams[\"font.family\"] = font_family\n"
   ]
  },
  {
   "cell_type": "code",
   "execution_count": 7,
   "id": "35b7c3a1",
   "metadata": {},
   "outputs": [],
   "source": [
    "import scipy as sp\n",
    "import seaborn as sns \n",
    "import numpy as np \n",
    "import matplotlib as mpl \n",
    "import matplotlib.pyplot as plt \n",
    "%matplotlib inline \n",
    "\n",
    "# 확률질량함수(이산형 확률분포) \n",
    "\n",
    "n = 10 # 전체 시도 횟수 \n",
    "mu = 0.6 # 베르누이 확률분포 기대값 \n",
    "\n",
    "rv = sp.stats.binom(n, mu)\n",
    "xx = np.arange(n+1)"
   ]
  },
  {
   "cell_type": "code",
   "execution_count": 11,
   "id": "eb05b396",
   "metadata": {},
   "outputs": [
    {
     "data": {
      "image/png": "[encoded data removed]",
      "text/plain": [
       "<Figure size 432x288 with 1 Axes>"
      ]
     },
     "metadata": {
      "needs_background": "light"
     },
     "output_type": "display_data"
    }
   ],
   "source": [
    "plt.bar(xx, rv.pmf(xx), align='center') # pmf : 확률질량함수 기능 \n",
    "plt.xlabel('표본 값')\n",
    "plt.ylabel('$P(x)$')\n",
    "plt.title(\"확률질량함수(pmf)\")\n",
    "plt.show()"
   ]
  },
  {
   "cell_type": "code",
   "execution_count": null,
   "id": "65446c5d",
   "metadata": {},
   "outputs": [],
   "source": [
    "# 연속 확률분포"
   ]
  },
  {
   "cell_type": "code",
   "execution_count": 12,
   "id": "cc534231",
   "metadata": {},
   "outputs": [],
   "source": [
    "import scipy as sp\n",
    "import seaborn as sns \n",
    "import numpy as np \n",
    "import matplotlib as mpl \n",
    "import matplotlib.pyplot as plt \n",
    "%matplotlib inline \n"
   ]
  },
  {
   "cell_type": "code",
   "execution_count": 13,
   "id": "314eb716",
   "metadata": {},
   "outputs": [],
   "source": [
    "# 기대값 1, 표준편차 2 정규분포 객체 생성하라 \n",
    "\n",
    "rv = sp.stats.norm() # 정규분포(normal distribution)\n",
    "rv = sp.stats.norm(loc = 1, scale = 2)"
   ]
  },
  {
   "cell_type": "code",
   "execution_count": 16,
   "id": "2603883e",
   "metadata": {},
   "outputs": [
    {
     "data": {
      "image/png": "[encoded data removed]",
      "text/plain": [
       "<Figure size 432x288 with 1 Axes>"
      ]
     },
     "metadata": {
      "needs_background": "light"
     },
     "output_type": "display_data"
    }
   ],
   "source": [
    "# 확률분포 객체의 메소드 중 확률밀도함수 기능 >> pdf\n",
    "\n",
    "x = np.linspace(-8, 8, 100)\n",
    "pdf = rv.pdf(x)\n",
    "plt.plot(x, pdf)\n",
    "plt.show()"
   ]
  },
  {
   "cell_type": "code",
   "execution_count": 15,
   "id": "2e1b3675",
   "metadata": {},
   "outputs": [
    {
     "data": {
      "text/plain": [
       "array([0.  , 0.25, 0.5 , 0.75, 1.  ])"
      ]
     },
     "execution_count": 15,
     "metadata": {},
     "output_type": "execute_result"
    }
   ],
   "source": [
    "np.linspace(0, 1, 5)"
   ]
  },
  {
   "cell_type": "markdown",
   "id": "84cda1f1",
   "metadata": {},
   "source": [
    "- 정규분포"
   ]
  },
  {
   "cell_type": "code",
   "execution_count": 50,
   "id": "10f91365",
   "metadata": {},
   "outputs": [],
   "source": [
    "import numpy as np \n",
    "import matplotlib.pyplot as plt"
   ]
  },
  {
   "cell_type": "code",
   "execution_count": 51,
   "id": "ffe4aa2b",
   "metadata": {},
   "outputs": [],
   "source": [
    "mu, sigma = 0, 0.1 # 평균, 표준편차 정의 "
   ]
  },
  {
   "cell_type": "code",
   "execution_count": 52,
   "id": "6195235f",
   "metadata": {},
   "outputs": [],
   "source": [
    "s = np.random.normal(mu, sigma, 1000) \n",
    "#  평균 0, 표준편차 0.1, 샘플 개수 1000개"
   ]
  },
  {
   "cell_type": "code",
   "execution_count": 53,
   "id": "f748cb9a",
   "metadata": {},
   "outputs": [
    {
     "data": {
      "text/plain": [
       "(array([ 3.,  2.,  1.,  6., 13., 15., 23., 30., 34., 55., 52., 83., 77.,\n",
       "        80., 82., 80., 77., 82., 63., 50., 27., 26., 16., 12.,  3.,  6.,\n",
       "         0.,  1.,  0.,  1.]),\n",
       " array([-0.31201113, -0.29014134, -0.26827155, -0.24640176, -0.22453197,\n",
       "        -0.20266218, -0.18079239, -0.15892259, -0.1370528 , -0.11518301,\n",
       "        -0.09331322, -0.07144343, -0.04957364, -0.02770385, -0.00583405,\n",
       "         0.01603574,  0.03790553,  0.05977532,  0.08164511,  0.1035149 ,\n",
       "         0.12538469,  0.14725449,  0.16912428,  0.19099407,  0.21286386,\n",
       "         0.23473365,  0.25660344,  0.27847323,  0.30034303,  0.32221282,\n",
       "         0.34408261]),\n",
       " <BarContainer object of 30 artists>)"
      ]
     },
     "execution_count": 53,
     "metadata": {},
     "output_type": "execute_result"
    },
    {
     "data": {
      "image/png": "[encoded data removed]",
      "text/plain": [
       "<Figure size 432x288 with 1 Axes>"
      ]
     },
     "metadata": {
      "needs_background": "light"
     },
     "output_type": "display_data"
    }
   ],
   "source": [
    "plt.hist(s, 30) # s: sequence data, 30 : 30 bins(구간)"
   ]
  },
  {
   "cell_type": "code",
   "execution_count": 54,
   "id": "b1453ca2",
   "metadata": {},
   "outputs": [
    {
     "data": {
      "text/plain": [
       "(array([0.09145035, 0.51821863, 1.32603002, 2.89592763, 3.64277213,\n",
       "        3.64277213, 2.13384141, 0.82305312, 0.13717552, 0.03048345]),\n",
       " array([-0.31201113, -0.24640176, -0.18079239, -0.11518301, -0.04957364,\n",
       "         0.01603574,  0.08164511,  0.14725449,  0.21286386,  0.27847323,\n",
       "         0.34408261]),\n",
       " <BarContainer object of 10 artists>)"
      ]
     },
     "execution_count": 54,
     "metadata": {},
     "output_type": "execute_result"
    },
    {
     "data": {
      "image/png": "[encoded data removed]",
      "text/plain": [
       "<Figure size 432x288 with 1 Axes>"
      ]
     },
     "metadata": {
      "needs_background": "light"
     },
     "output_type": "display_data"
    }
   ],
   "source": [
    "# s: sequence data, 30 : 30 bins(구간)\n",
    "plt.hist(s, density=True, stacked=True)"
   ]
  },
  {
   "cell_type": "code",
   "execution_count": 55,
   "id": "f8f5c602",
   "metadata": {
    "scrolled": false
   },
   "outputs": [
    {
     "data": {
      "image/png": "[encoded data removed]",
      "text/plain": [
       "<Figure size 432x288 with 1 Axes>"
      ]
     },
     "metadata": {
      "needs_background": "light"
     },
     "output_type": "display_data"
    }
   ],
   "source": [
    "count, bins, ignored = plt.hist(s, 30, density=True, stacked=True)"
   ]
  },
  {
   "cell_type": "markdown",
   "id": "f299986e",
   "metadata": {},
   "source": [
    "- 카이제곱(chi2)"
   ]
  },
  {
   "cell_type": "code",
   "execution_count": 36,
   "id": "4ef1431e",
   "metadata": {},
   "outputs": [],
   "source": [
    "from numpy import linspace\n",
    "from scipy.stats import chi2"
   ]
  },
  {
   "cell_type": "code",
   "execution_count": 38,
   "id": "35c3b604",
   "metadata": {},
   "outputs": [],
   "source": [
    "df=2 # df(degree of freedom 자유도_미지수의 개수)\n",
    "\n",
    "x = linspace(0,20,100) # 0~20 사이 100 구간 구분\n",
    "y = chi2(df).pdf(x) # 카이제곱분포의 확률밀도 함수 구하기 "
   ]
  },
  {
   "cell_type": "code",
   "execution_count": 40,
   "id": "55d13149",
   "metadata": {},
   "outputs": [
    {
     "data": {
      "image/png": "[encoded data removed]",
      "text/plain": [
       "<Figure size 720x432 with 1 Axes>"
      ]
     },
     "metadata": {
      "needs_background": "light"
     },
     "output_type": "display_data"
    }
   ],
   "source": [
    "plt.figure(figsize=(10,6))\n",
    "plt.plot(x, y, 'b-')\n",
    "plt.xlabel('x')\n",
    "plt.ylabel('p(x)')\n",
    "plt.grid()\n",
    "plt.title('카이제곱 분포')\n",
    "plt.show()"
   ]
  },
  {
   "cell_type": "markdown",
   "id": "df649415",
   "metadata": {},
   "source": [
    "- 이항확률 분포 "
   ]
  },
  {
   "cell_type": "code",
   "execution_count": 56,
   "id": "aaafc2b4",
   "metadata": {},
   "outputs": [],
   "source": [
    "# 이항분포를 무작위 표본 추출 \n",
    "\n",
    "from numpy import random \n",
    "import seaborn as sns "
   ]
  },
  {
   "cell_type": "code",
   "execution_count": 58,
   "id": "600d1a13",
   "metadata": {},
   "outputs": [
    {
     "data": {
      "image/png": "[encoded data removed]",
      "text/plain": [
       "<Figure size 432x288 with 1 Axes>"
      ]
     },
     "metadata": {
      "needs_background": "light"
     },
     "output_type": "display_data"
    }
   ],
   "source": [
    "# n : 적용할 범위 (동전 : 앞/뒤>> 0/1)\n",
    "# p: 각 n에 대해 나올 확률 \n",
    "# size : 횟수(배열 크기)\n",
    "# kde : kernel density estimation >> 정규분포 \n",
    "# distplot : distribution plot = distplot  (이산확률분포)\n",
    "\n",
    "sns.distplot(random.binomial(n=10, p=0.5, size=1000), hist=True, kde=False)\n",
    "plt.show()"
   ]
  },
  {
   "cell_type": "markdown",
   "id": "ca524054",
   "metadata": {},
   "source": [
    "- 포아송 분포"
   ]
  },
  {
   "cell_type": "code",
   "execution_count": 59,
   "id": "74d59805",
   "metadata": {},
   "outputs": [],
   "source": [
    "import numpy as np \n",
    "import matplotlib.pyplot as plt "
   ]
  },
  {
   "cell_type": "code",
   "execution_count": 60,
   "id": "fbe2fc5c",
   "metadata": {},
   "outputs": [],
   "source": [
    "# np.random.poisson >> 특정 사건의 평균 횟 \n",
    "# 포아송 분포에서 lambda(상수)는 평균 값 \n",
    "\n",
    "s = np.random.poisson(5, 1000) # (평균 = 5, 난수 10000개)"
   ]
  },
  {
   "cell_type": "code",
   "execution_count": 64,
   "id": "cda2c156",
   "metadata": {},
   "outputs": [
    {
     "data": {
      "image/png": "[encoded data removed]",
      "text/plain": [
       "<Figure size 432x288 with 1 Axes>"
      ]
     },
     "metadata": {
      "needs_background": "light"
     },
     "output_type": "display_data"
    }
   ],
   "source": [
    "counts, bins, ignored = plt.hist(s, 14, color='r')\n",
    "plt.show()"
   ]
  },
  {
   "cell_type": "code",
   "execution_count": null,
   "id": "2615f3d2",
   "metadata": {},
   "outputs": [],
   "source": []
  }
 ],
 "metadata": {
  "kernelspec": {
   "display_name": "Python 3 (ipykernel)",
   "language": "python",
   "name": "python3"
  },
  "language_info": {
   "codemirror_mode": {
    "name": "ipython",
    "version": 3
   },
   "file_extension": ".py",
   "mimetype": "text/x-python",
   "name": "python",
   "nbconvert_exporter": "python",
   "pygments_lexer": "ipython3",
   "version": "3.9.12"
  }
 },
 "nbformat": 4,
 "nbformat_minor": 5
}
