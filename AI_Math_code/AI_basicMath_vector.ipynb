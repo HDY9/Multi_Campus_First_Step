{
  "cells": [
    {
      "cell_type": "markdown",
      "id": "5a7cb269",
      "metadata": {
        "id": "5a7cb269"
      },
      "source": [
        "1. 벡터 "
      ]
    },
    {
      "cell_type": "code",
      "execution_count": 1,
      "id": "63b233ed",
      "metadata": {
        "id": "63b233ed"
      },
      "outputs": [],
      "source": [
        "# Numpy 라이브러리 호출 \n",
        "import numpy as np "
      ]
    },
    {
      "cell_type": "code",
      "execution_count": 2,
      "id": "3e075c03",
      "metadata": {
        "colab": {
          "base_uri": "https://localhost:8080/"
        },
        "id": "3e075c03",
        "outputId": "f2d0073a-7a1b-45f9-db40-1c708264b5f7"
      },
      "outputs": [
        {
          "output_type": "stream",
          "name": "stdout",
          "text": [
            "[1 2 3]\n"
          ]
        }
      ],
      "source": [
        "# 크기가 (3,) 1차원 배열 \n",
        "\n",
        "x = np.array([1,2,3])\n",
        "print(x)"
      ]
    },
    {
      "cell_type": "code",
      "execution_count": 3,
      "id": "03686d01",
      "metadata": {
        "colab": {
          "base_uri": "https://localhost:8080/"
        },
        "id": "03686d01",
        "outputId": "186db96d-c497-4865-bbbb-9974323c2882"
      },
      "outputs": [
        {
          "output_type": "stream",
          "name": "stdout",
          "text": [
            "[[1 2 3]]\n"
          ]
        }
      ],
      "source": [
        "# 크기가 (1 , 3) 2차원 배열 \n",
        "u = np.array([[1,2,3]])\n",
        "print(u)"
      ]
    },
    {
      "cell_type": "code",
      "execution_count": 4,
      "id": "5de41a71",
      "metadata": {
        "colab": {
          "base_uri": "https://localhost:8080/"
        },
        "id": "5de41a71",
        "outputId": "0a222f2c-ced4-4ba1-bd56-c3af56db5940"
      },
      "outputs": [
        {
          "output_type": "stream",
          "name": "stdout",
          "text": [
            "[[1]\n",
            " [2]\n",
            " [3]]\n"
          ]
        }
      ],
      "source": [
        "# 크기가 (3, 1) 2차원 배열\n",
        "v = np.array([[1],[2],[3]])\n",
        "print(v)"
      ]
    },
    {
      "cell_type": "markdown",
      "id": "cc0a21f5",
      "metadata": {
        "id": "cc0a21f5"
      },
      "source": [
        "2. 단위벡터"
      ]
    },
    {
      "cell_type": "code",
      "execution_count": 5,
      "id": "dacfe174",
      "metadata": {
        "id": "dacfe174"
      },
      "outputs": [],
      "source": [
        "import numpy as np \n",
        "from scipy import linalg"
      ]
    },
    {
      "cell_type": "code",
      "execution_count": 6,
      "id": "1ecad46d",
      "metadata": {
        "colab": {
          "base_uri": "https://localhost:8080/"
        },
        "id": "1ecad46d",
        "outputId": "c047a87e-22f7-4e8e-9d11-300270f2ad27"
      },
      "outputs": [
        {
          "output_type": "stream",
          "name": "stdout",
          "text": [
            "[0.37139068 0.55708601 0.74278135]\n"
          ]
        }
      ],
      "source": [
        "s = np.array([2,3,4])\n",
        "# 단위 벡터(norm) 만들기 \n",
        "v_hat = s / linalg.norm(s)\n",
        "print(v_hat)"
      ]
    },
    {
      "cell_type": "code",
      "execution_count": 7,
      "id": "0e913af4",
      "metadata": {
        "colab": {
          "base_uri": "https://localhost:8080/"
        },
        "id": "0e913af4",
        "outputId": "63bcbedf-cca7-4fb9-af72-8c79fdb89bdc"
      },
      "outputs": [
        {
          "output_type": "stream",
          "name": "stdout",
          "text": [
            "[ 0.31622777 -0.9486833 ]\n"
          ]
        }
      ],
      "source": [
        "x = np.array([1, -3])\n",
        "# 단위 벡터(norm) 만들기 \n",
        "v_hat = x / linalg.norm(x)\n",
        "print(v_hat)"
      ]
    },
    {
      "cell_type": "code",
      "execution_count": 8,
      "id": "d31a4eef",
      "metadata": {
        "colab": {
          "base_uri": "https://localhost:8080/"
        },
        "id": "d31a4eef",
        "outputId": "86fd0e6f-09fd-4d38-9d8d-9fa309564377"
      },
      "outputs": [
        {
          "output_type": "stream",
          "name": "stdout",
          "text": [
            "[-0.6 -0.8]\n"
          ]
        }
      ],
      "source": [
        "x = np.array([-6, -8])\n",
        "# 단위 벡터(norm) 만들기 \n",
        "v_hat = x / (x**2).sum()**0.5\n",
        "print(v_hat)"
      ]
    },
    {
      "cell_type": "markdown",
      "id": "743fc76b",
      "metadata": {
        "id": "743fc76b"
      },
      "source": [
        "3. 제로(zeros()) 벡터 "
      ]
    },
    {
      "cell_type": "code",
      "execution_count": 9,
      "id": "c238f3a8",
      "metadata": {
        "colab": {
          "base_uri": "https://localhost:8080/"
        },
        "id": "c238f3a8",
        "outputId": "11140316-9a51-430a-b090-31c99383ad15"
      },
      "outputs": [
        {
          "output_type": "execute_result",
          "data": {
            "text/plain": [
              "array([0., 0., 0., 0., 0.])"
            ]
          },
          "metadata": {},
          "execution_count": 9
        }
      ],
      "source": [
        "np.zeros(5)"
      ]
    },
    {
      "cell_type": "code",
      "execution_count": 10,
      "id": "581e88dc",
      "metadata": {
        "colab": {
          "base_uri": "https://localhost:8080/"
        },
        "id": "581e88dc",
        "outputId": "8aa01d23-e87c-45eb-bfb2-dc6a98938b8e"
      },
      "outputs": [
        {
          "output_type": "execute_result",
          "data": {
            "text/plain": [
              "(5,)"
            ]
          },
          "metadata": {},
          "execution_count": 10
        }
      ],
      "source": [
        "np.zeros(5).shape"
      ]
    },
    {
      "cell_type": "code",
      "execution_count": 11,
      "id": "c378ba13",
      "metadata": {
        "colab": {
          "base_uri": "https://localhost:8080/"
        },
        "id": "c378ba13",
        "outputId": "938b31a5-9490-4aba-ee08-d2b2d5cab68d"
      },
      "outputs": [
        {
          "output_type": "execute_result",
          "data": {
            "text/plain": [
              "array([[0., 0.],\n",
              "       [0., 0.]])"
            ]
          },
          "metadata": {},
          "execution_count": 11
        }
      ],
      "source": [
        "# s 변수 생성, 여기에 영 벡터을 (2,2) 배열로 만들기 \n",
        "\n",
        "s = (2,2)\n",
        "np.zeros(s)"
      ]
    },
    {
      "cell_type": "markdown",
      "id": "c38a2c4a",
      "metadata": {
        "id": "c38a2c4a"
      },
      "source": [
        "4. 선형 결합"
      ]
    },
    {
      "cell_type": "code",
      "execution_count": 12,
      "id": "caf13c9f",
      "metadata": {
        "colab": {
          "base_uri": "https://localhost:8080/"
        },
        "id": "caf13c9f",
        "outputId": "68d420fe-95cc-4130-d386-1a4f3e20c89c"
      },
      "outputs": [
        {
          "output_type": "stream",
          "name": "stdout",
          "text": [
            "[ 5 -2]\n"
          ]
        }
      ],
      "source": [
        "import numpy as np \n",
        "\n",
        "# a, b 변수 생성, 리스트 형태의 데이터(배열) 저장 \n",
        "\n",
        "a = np.array([2,4])\n",
        "b = np.array([1,6])\n",
        "c = (4*a)+((-3)*b)\n",
        "print(c)"
      ]
    },
    {
      "cell_type": "markdown",
      "id": "3641b402",
      "metadata": {
        "id": "3641b402"
      },
      "source": [
        "5. 선형 독립과 선형 종속"
      ]
    },
    {
      "cell_type": "code",
      "execution_count": 15,
      "id": "8b490ba2",
      "metadata": {
        "colab": {
          "base_uri": "https://localhost:8080/"
        },
        "id": "8b490ba2",
        "outputId": "8cd37c4d-411d-44ca-d98d-5739dbf0db1d"
      },
      "outputs": [
        {
          "output_type": "stream",
          "name": "stdout",
          "text": [
            "[[2 7]\n",
            " [5 1]]\n",
            "\n",
            "2\n"
          ]
        }
      ],
      "source": [
        "# 벡터 공간과 부분 공간 기저(basis)\n",
        "\n",
        "# matrix_rank() >> rank 계산하기 \n",
        "\n",
        "x1 = np.array([[2,7], [5,1]])\n",
        "print(x1)\n",
        "print()\n",
        "print(np.linalg.matrix_rank(x1))\n",
        "# rank 2개 >> 선형독립"
      ]
    },
    {
      "cell_type": "code",
      "source": [
        "np.array([[1,2],[3,5]])"
      ],
      "metadata": {
        "colab": {
          "base_uri": "https://localhost:8080/"
        },
        "id": "lN5UKrCpv6y6",
        "outputId": "cdde9aee-db45-4542-da1a-da30553c9586"
      },
      "id": "lN5UKrCpv6y6",
      "execution_count": 18,
      "outputs": [
        {
          "output_type": "execute_result",
          "data": {
            "text/plain": [
              "array([[1, 2],\n",
              "       [3, 5]])"
            ]
          },
          "metadata": {},
          "execution_count": 18
        }
      ]
    },
    {
      "cell_type": "code",
      "source": [
        "x10 = np.array([[1,2],[3,5]])\n",
        "print(np.linalg.matrix_rank(x10))"
      ],
      "metadata": {
        "colab": {
          "base_uri": "https://localhost:8080/"
        },
        "id": "AYuRJ-SYwAn6",
        "outputId": "6d102d4a-5ff9-4cf4-96be-025295c84fe6"
      },
      "id": "AYuRJ-SYwAn6",
      "execution_count": 19,
      "outputs": [
        {
          "output_type": "stream",
          "name": "stdout",
          "text": [
            "2\n"
          ]
        }
      ]
    },
    {
      "cell_type": "code",
      "source": [
        "np.array([[2,4],[3,6]])"
      ],
      "metadata": {
        "colab": {
          "base_uri": "https://localhost:8080/"
        },
        "id": "jLXsH8jSvGpY",
        "outputId": "201892de-e031-4779-c71b-538b76922c1a"
      },
      "id": "jLXsH8jSvGpY",
      "execution_count": 16,
      "outputs": [
        {
          "output_type": "execute_result",
          "data": {
            "text/plain": [
              "array([[2, 4],\n",
              "       [3, 6]])"
            ]
          },
          "metadata": {},
          "execution_count": 16
        }
      ]
    },
    {
      "cell_type": "code",
      "source": [
        "x2 = np.array([[2,4],[3,6]])\n",
        "np.linalg.matrix_rank(x2)\n",
        "# rank 1개 >> 선형종속"
      ],
      "metadata": {
        "colab": {
          "base_uri": "https://localhost:8080/"
        },
        "id": "uDd_obOJvdCW",
        "outputId": "9751800d-1a42-470b-a6d5-358cbf205fc1"
      },
      "id": "uDd_obOJvdCW",
      "execution_count": 17,
      "outputs": [
        {
          "output_type": "execute_result",
          "data": {
            "text/plain": [
              "1"
            ]
          },
          "metadata": {},
          "execution_count": 17
        }
      ]
    },
    {
      "cell_type": "markdown",
      "source": [
        "6. 벡터의 내적과 외적 "
      ],
      "metadata": {
        "id": "VWcVnGqEwQ5g"
      },
      "id": "VWcVnGqEwQ5g"
    },
    {
      "cell_type": "code",
      "source": [
        "# 벡터의 덧셈과 뺄셈 \n",
        "\n",
        "x = [2,3]\n",
        "y = [3,1]\n",
        "\n",
        "# zip() 이용, 2 벡터의 1번째 원소끼리 더하고, 2번째 원소끼리 더하기 위함\n",
        "\n",
        "[i+j for i, j in zip(x,y)]"
      ],
      "metadata": {
        "colab": {
          "base_uri": "https://localhost:8080/"
        },
        "id": "shCZqTF7vhwS",
        "outputId": "85e4797c-3459-46a6-eb54-84c2979e7877"
      },
      "id": "shCZqTF7vhwS",
      "execution_count": 20,
      "outputs": [
        {
          "output_type": "execute_result",
          "data": {
            "text/plain": [
              "[5, 4]"
            ]
          },
          "metadata": {},
          "execution_count": 20
        }
      ]
    },
    {
      "cell_type": "code",
      "source": [
        "# zip()\n",
        "\n",
        "print(zip([1,2,3],[4,5,6],[7,8,9]))\n",
        "print()\n",
        "print(list(zip([1,2,3],[4,5,6],[7,8,9])))"
      ],
      "metadata": {
        "colab": {
          "base_uri": "https://localhost:8080/"
        },
        "id": "OOM9tyYDwTwI",
        "outputId": "9e43ac81-f067-4308-f7a9-39b739473a59"
      },
      "id": "OOM9tyYDwTwI",
      "execution_count": 23,
      "outputs": [
        {
          "output_type": "stream",
          "name": "stdout",
          "text": [
            "<zip object at 0x7f314a8735f0>\n",
            "\n",
            "[(1, 4, 7), (2, 5, 8), (3, 6, 9)]\n"
          ]
        }
      ]
    },
    {
      "cell_type": "code",
      "source": [
        "x = [2,3]\n",
        "y = [3,1]\n",
        "\n",
        "u = np.array(x)\n",
        "v = np.array(y)"
      ],
      "metadata": {
        "id": "fEi735NfwTy4"
      },
      "id": "fEi735NfwTy4",
      "execution_count": 24,
      "outputs": []
    },
    {
      "cell_type": "code",
      "source": [
        "w = u + v\n",
        "print(w)"
      ],
      "metadata": {
        "colab": {
          "base_uri": "https://localhost:8080/"
        },
        "id": "8urxyylaxF5x",
        "outputId": "91e1c945-99c3-46f2-d6a8-c3832e69ccd6"
      },
      "id": "8urxyylaxF5x",
      "execution_count": 25,
      "outputs": [
        {
          "output_type": "stream",
          "name": "stdout",
          "text": [
            "[5 4]\n"
          ]
        }
      ]
    },
    {
      "cell_type": "code",
      "source": [
        "x = [-2,-3]\n",
        "y = [-3,-1]\n",
        "\n",
        "u = np.array(x)\n",
        "v = np.array(y)"
      ],
      "metadata": {
        "id": "IM-j9vSmxF8I"
      },
      "id": "IM-j9vSmxF8I",
      "execution_count": 26,
      "outputs": []
    },
    {
      "cell_type": "code",
      "source": [
        "w = u + v\n",
        "print(w)"
      ],
      "metadata": {
        "colab": {
          "base_uri": "https://localhost:8080/"
        },
        "id": "rSRLxnirxF-o",
        "outputId": "660962db-a011-4939-bd7d-c73941bb8157"
      },
      "id": "rSRLxnirxF-o",
      "execution_count": 27,
      "outputs": [
        {
          "output_type": "stream",
          "name": "stdout",
          "text": [
            "[-5 -4]\n"
          ]
        }
      ]
    },
    {
      "cell_type": "code",
      "source": [
        "x = [2,3]\n",
        "y = [3,1]\n",
        "\n",
        "[i- j for i, j in zip(x,y)]"
      ],
      "metadata": {
        "colab": {
          "base_uri": "https://localhost:8080/"
        },
        "id": "we9f2HeHwUBf",
        "outputId": "a003c6f2-2a92-45c2-b97a-ed4c2e23152b"
      },
      "id": "we9f2HeHwUBf",
      "execution_count": 28,
      "outputs": [
        {
          "output_type": "execute_result",
          "data": {
            "text/plain": [
              "[-1, 2]"
            ]
          },
          "metadata": {},
          "execution_count": 28
        }
      ]
    },
    {
      "cell_type": "code",
      "source": [
        "x = [2,3]\n",
        "y = [3,1]\n",
        "\n",
        "u = np.array(x)\n",
        "v = np.array(y)\n",
        "\n",
        "u-v"
      ],
      "metadata": {
        "colab": {
          "base_uri": "https://localhost:8080/"
        },
        "id": "3CU7DQCmxkxr",
        "outputId": "1a68d1a8-1104-42f9-a058-f9bc827fef74"
      },
      "id": "3CU7DQCmxkxr",
      "execution_count": 29,
      "outputs": [
        {
          "output_type": "execute_result",
          "data": {
            "text/plain": [
              "array([-1,  2])"
            ]
          },
          "metadata": {},
          "execution_count": 29
        }
      ]
    },
    {
      "cell_type": "code",
      "source": [
        "# 벡터의 내적(****)\n",
        "\n",
        "x = [3,4]\n",
        "c = 8\n",
        "\n",
        "[c*i for i in x]"
      ],
      "metadata": {
        "colab": {
          "base_uri": "https://localhost:8080/"
        },
        "id": "g6BFJW91xsqu",
        "outputId": "ed7b6d5b-f1ce-4296-effa-5d71968a14f1"
      },
      "id": "g6BFJW91xsqu",
      "execution_count": 30,
      "outputs": [
        {
          "output_type": "execute_result",
          "data": {
            "text/plain": [
              "[24, 32]"
            ]
          },
          "metadata": {},
          "execution_count": 30
        }
      ]
    },
    {
      "cell_type": "code",
      "source": [
        "u = np.array([3,4])\n",
        "c= 8\n",
        "\n",
        "u*c"
      ],
      "metadata": {
        "colab": {
          "base_uri": "https://localhost:8080/"
        },
        "id": "ra3-EWKcx9iC",
        "outputId": "7c9b1b05-8f33-4934-c947-a06845bc4cec"
      },
      "id": "ra3-EWKcx9iC",
      "execution_count": 31,
      "outputs": [
        {
          "output_type": "execute_result",
          "data": {
            "text/plain": [
              "array([24, 32])"
            ]
          },
          "metadata": {},
          "execution_count": 31
        }
      ]
    },
    {
      "cell_type": "code",
      "source": [
        "# 벡터의 내적\n",
        "u = np.array([6,6])\n",
        "v = np.array([12,0])\n",
        "\n",
        "np.dot(u,v)\n",
        "# 벡터의 내적 >>> 스칼라"
      ],
      "metadata": {
        "colab": {
          "base_uri": "https://localhost:8080/"
        },
        "id": "igp47v5RyGtE",
        "outputId": "73b24cc6-ab58-4f59-97a9-de943d9894c9"
      },
      "id": "igp47v5RyGtE",
      "execution_count": 33,
      "outputs": [
        {
          "output_type": "execute_result",
          "data": {
            "text/plain": [
              "72"
            ]
          },
          "metadata": {},
          "execution_count": 33
        }
      ]
    },
    {
      "cell_type": "code",
      "source": [
        "# 벡터의 외적\n",
        "\n",
        "a = (1,3,4)\n",
        "b = (2,4,6)\n",
        "\n",
        "def cross(a,b): \n",
        "    c = [a[1]*b[2] - a[2]*b[1],\n",
        "         a[2]*b[0] - a[0]*b[2],\n",
        "         a[0]*b[1] - a[1]*b[0]\n",
        "         ]\n",
        "    return c "
      ],
      "metadata": {
        "id": "s7VABh9UyTkN"
      },
      "id": "s7VABh9UyTkN",
      "execution_count": 34,
      "outputs": []
    },
    {
      "cell_type": "code",
      "source": [
        "cross(a,b)"
      ],
      "metadata": {
        "colab": {
          "base_uri": "https://localhost:8080/"
        },
        "id": "2ZZoaL3IzE-Q",
        "outputId": "6544b9ab-3380-4f18-d8f0-948ed1b51462"
      },
      "id": "2ZZoaL3IzE-Q",
      "execution_count": 35,
      "outputs": [
        {
          "output_type": "execute_result",
          "data": {
            "text/plain": [
              "[2, 2, -2]"
            ]
          },
          "metadata": {},
          "execution_count": 35
        }
      ]
    },
    {
      "cell_type": "code",
      "source": [
        "np.cross(a,b)"
      ],
      "metadata": {
        "colab": {
          "base_uri": "https://localhost:8080/"
        },
        "id": "-BP4xfJgzHa1",
        "outputId": "a07b7063-ff87-4598-e0cc-e54e24932c8b"
      },
      "id": "-BP4xfJgzHa1",
      "execution_count": 36,
      "outputs": [
        {
          "output_type": "execute_result",
          "data": {
            "text/plain": [
              "array([ 2,  2, -2])"
            ]
          },
          "metadata": {},
          "execution_count": 36
        }
      ]
    },
    {
      "cell_type": "markdown",
      "source": [
        "7. 직교벡터"
      ],
      "metadata": {
        "id": "tWttWeFuzZQa"
      },
      "id": "tWttWeFuzZQa"
    },
    {
      "cell_type": "code",
      "source": [
        "import numpy as np \n",
        "\n",
        "a = np.array([1,2])\n",
        "a"
      ],
      "metadata": {
        "colab": {
          "base_uri": "https://localhost:8080/"
        },
        "id": "nMq7dXctzNTb",
        "outputId": "4553b608-2a2b-4513-df58-f8ffe7119f24"
      },
      "id": "nMq7dXctzNTb",
      "execution_count": 37,
      "outputs": [
        {
          "output_type": "execute_result",
          "data": {
            "text/plain": [
              "array([1, 2])"
            ]
          },
          "metadata": {},
          "execution_count": 37
        }
      ]
    },
    {
      "cell_type": "code",
      "source": [
        "np.linalg.norm(a) # a의 길이"
      ],
      "metadata": {
        "colab": {
          "base_uri": "https://localhost:8080/"
        },
        "id": "5fXrClcFze0j",
        "outputId": "fb3b6274-af2c-4b32-c8d8-2c14dae8a319"
      },
      "id": "5fXrClcFze0j",
      "execution_count": 38,
      "outputs": [
        {
          "output_type": "execute_result",
          "data": {
            "text/plain": [
              "2.23606797749979"
            ]
          },
          "metadata": {},
          "execution_count": 38
        }
      ]
    },
    {
      "cell_type": "code",
      "source": [
        "# L1 norm \n",
        "\n",
        "np.linalg.norm(a, ord = 1) # a의 길이"
      ],
      "metadata": {
        "colab": {
          "base_uri": "https://localhost:8080/"
        },
        "id": "h6gXZ2gFzisP",
        "outputId": "44d9b5db-5d2f-4f57-b074-54f78f7967e6"
      },
      "id": "h6gXZ2gFzisP",
      "execution_count": 39,
      "outputs": [
        {
          "output_type": "execute_result",
          "data": {
            "text/plain": [
              "3.0"
            ]
          },
          "metadata": {},
          "execution_count": 39
        }
      ]
    },
    {
      "cell_type": "code",
      "source": [
        "# L2 norm \n",
        "\n",
        "np.linalg.norm(a, ord = 2) # a의 길이"
      ],
      "metadata": {
        "colab": {
          "base_uri": "https://localhost:8080/"
        },
        "id": "S4KLq0KjzrJ2",
        "outputId": "0632dade-5211-467c-f94f-98a717f1e294"
      },
      "id": "S4KLq0KjzrJ2",
      "execution_count": 40,
      "outputs": [
        {
          "output_type": "execute_result",
          "data": {
            "text/plain": [
              "2.23606797749979"
            ]
          },
          "metadata": {},
          "execution_count": 40
        }
      ]
    },
    {
      "cell_type": "code",
      "source": [
        "# 유클리디언 거리 \n",
        "from scipy.spatial import distance\n",
        "\n",
        "# 두점 p1, p2 명시 \n",
        "\n",
        "p1 = (1,2,3)\n",
        "p2 = (4,5,6)\n",
        "\n",
        "# 두점 p1, p2 간 유클리드 거리 구하기 \n",
        "distance.euclidean(p1,p2)"
      ],
      "metadata": {
        "colab": {
          "base_uri": "https://localhost:8080/"
        },
        "id": "SP-kZjkBzudl",
        "outputId": "70f47a42-9a35-4fed-d2d8-647c71bc1801"
      },
      "id": "SP-kZjkBzudl",
      "execution_count": 42,
      "outputs": [
        {
          "output_type": "execute_result",
          "data": {
            "text/plain": [
              "5.196152422706632"
            ]
          },
          "metadata": {},
          "execution_count": 42
        }
      ]
    },
    {
      "cell_type": "code",
      "source": [
        "# 맨하탄 거리 \n",
        "\n",
        "from math import * \n",
        "\n",
        "# 두점 p1, p2 명시 \n",
        "\n",
        "p1 = (1,2,3)\n",
        "p2 = (4,5,6)\n",
        "\n",
        "def 맨하탄거리(x,y):\n",
        "     return sum(abs(a-b) for a, b in zip(x,y)) "
      ],
      "metadata": {
        "id": "jUBID4IjGiuM"
      },
      "id": "jUBID4IjGiuM",
      "execution_count": 45,
      "outputs": []
    },
    {
      "cell_type": "code",
      "source": [
        "맨하탄거리(p1,p2)"
      ],
      "metadata": {
        "colab": {
          "base_uri": "https://localhost:8080/"
        },
        "id": "vg48yOnTHOes",
        "outputId": "f060b8b0-db6d-411b-ade8-13b4a43113ae"
      },
      "id": "vg48yOnTHOes",
      "execution_count": 46,
      "outputs": [
        {
          "output_type": "execute_result",
          "data": {
            "text/plain": [
              "9"
            ]
          },
          "metadata": {},
          "execution_count": 46
        }
      ]
    },
    {
      "cell_type": "code",
      "source": [
        "# 코사인 유사도 \n",
        "\n",
        "from numpy import dot \n",
        "import numpy as np \n",
        "from numpy.linalg import norm \n",
        "\n",
        "def cos_sim(a, b): \n",
        "    return dot(a,b) / (norm(a)*norm(b))"
      ],
      "metadata": {
        "id": "0dJVJzB7HUkV"
      },
      "id": "0dJVJzB7HUkV",
      "execution_count": 48,
      "outputs": []
    },
    {
      "cell_type": "code",
      "source": [
        "doc1 = np.array([1,1,1,1,0])\n",
        "doc2 = np.array([1,0,1,0,1])\n",
        "doc3 = np.array([2,1,1,1,1])\n",
        "\n",
        "# 유사도 구하기 \n",
        "print(cos_sim(doc1, doc2)) # 문서1, 문서2 간 코사인 유사도\n",
        "print(cos_sim(doc1, doc3)) # 문서1, 문서3 간 코사인 유사도\n",
        "print(cos_sim(doc2, doc3)) # 문서2, 문서3 간 코사인 유사도\n",
        "\n",
        "# 결론 : 문서1, 문서3 간 코사인 유사도가 가장 높음 "
      ],
      "metadata": {
        "colab": {
          "base_uri": "https://localhost:8080/"
        },
        "id": "O7bS5k3oHmox",
        "outputId": "502e0dd0-c52a-4499-c785-865a0eacc10c"
      },
      "id": "O7bS5k3oHmox",
      "execution_count": 51,
      "outputs": [
        {
          "output_type": "stream",
          "name": "stdout",
          "text": [
            "0.5773502691896258\n",
            "0.8838834764831843\n",
            "0.8164965809277259\n"
          ]
        }
      ]
    },
    {
      "cell_type": "code",
      "source": [
        ""
      ],
      "metadata": {
        "id": "kGhjEJyIIi5m"
      },
      "id": "kGhjEJyIIi5m",
      "execution_count": null,
      "outputs": []
    }
  ],
  "metadata": {
    "kernelspec": {
      "display_name": "Python 3 (ipykernel)",
      "language": "python",
      "name": "python3"
    },
    "language_info": {
      "codemirror_mode": {
        "name": "ipython",
        "version": 3
      },
      "file_extension": ".py",
      "mimetype": "text/x-python",
      "name": "python",
      "nbconvert_exporter": "python",
      "pygments_lexer": "ipython3",
      "version": "3.9.12"
    },
    "colab": {
      "name": "AI_basicMath_vector.ipynb",
      "provenance": [],
      "collapsed_sections": []
    }
  },
  "nbformat": 4,
  "nbformat_minor": 5
}