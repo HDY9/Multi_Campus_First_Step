{
 "cells": [
  {
   "cell_type": "markdown",
   "id": "4231c825",
   "metadata": {},
   "source": [
    "#### 낚시 게임 : 제주도 가장 ~ 낚자 낚어 프로그래밍"
   ]
  },
  {
   "cell_type": "code",
   "execution_count": 1,
   "id": "60041b44",
   "metadata": {},
   "outputs": [],
   "source": [
    "import time \n",
    "import random \n",
    "import pandas as pd \n",
    "import numpy as np "
   ]
  },
  {
   "cell_type": "markdown",
   "id": "3fd58616",
   "metadata": {},
   "source": [
    "1. 낚시터 구현하기 "
   ]
  },
  {
   "cell_type": "code",
   "execution_count": 2,
   "id": "2119e723",
   "metadata": {
    "scrolled": true
   },
   "outputs": [
    {
     "data": {
      "text/html": [
       "<div>\n",
       "<style scoped>\n",
       "    .dataframe tbody tr th:only-of-type {\n",
       "        vertical-align: middle;\n",
       "    }\n",
       "\n",
       "    .dataframe tbody tr th {\n",
       "        vertical-align: top;\n",
       "    }\n",
       "\n",
       "    .dataframe thead th {\n",
       "        text-align: right;\n",
       "    }\n",
       "</style>\n",
       "<table border=\"1\" class=\"dataframe\">\n",
       "  <thead>\n",
       "    <tr style=\"text-align: right;\">\n",
       "      <th></th>\n",
       "      <th>No1</th>\n",
       "      <th>No2</th>\n",
       "      <th>물고기</th>\n",
       "      <th>가격</th>\n",
       "    </tr>\n",
       "  </thead>\n",
       "  <tbody>\n",
       "    <tr>\n",
       "      <th>0</th>\n",
       "      <td>2.0</td>\n",
       "      <td>6.0</td>\n",
       "      <td>가는꼬리쥐치</td>\n",
       "      <td>1631.0</td>\n",
       "    </tr>\n",
       "    <tr>\n",
       "      <th>1</th>\n",
       "      <td>1.0</td>\n",
       "      <td>4.0</td>\n",
       "      <td>가다랑어</td>\n",
       "      <td>2917.0</td>\n",
       "    </tr>\n",
       "    <tr>\n",
       "      <th>2</th>\n",
       "      <td>3.0</td>\n",
       "      <td>5.0</td>\n",
       "      <td>가라지</td>\n",
       "      <td>1203.0</td>\n",
       "    </tr>\n",
       "    <tr>\n",
       "      <th>3</th>\n",
       "      <td>3.0</td>\n",
       "      <td>4.0</td>\n",
       "      <td>가면놀래기</td>\n",
       "      <td>1751.0</td>\n",
       "    </tr>\n",
       "    <tr>\n",
       "      <th>4</th>\n",
       "      <td>1.0</td>\n",
       "      <td>4.0</td>\n",
       "      <td>가숭어</td>\n",
       "      <td>4483.0</td>\n",
       "    </tr>\n",
       "    <tr>\n",
       "      <th>...</th>\n",
       "      <td>...</td>\n",
       "      <td>...</td>\n",
       "      <td>...</td>\n",
       "      <td>...</td>\n",
       "    </tr>\n",
       "    <tr>\n",
       "      <th>746</th>\n",
       "      <td>2.0</td>\n",
       "      <td>4.0</td>\n",
       "      <td>흰배환도상어</td>\n",
       "      <td>2116.0</td>\n",
       "    </tr>\n",
       "    <tr>\n",
       "      <th>747</th>\n",
       "      <td>2.0</td>\n",
       "      <td>4.0</td>\n",
       "      <td>흰붕장어</td>\n",
       "      <td>7953.0</td>\n",
       "    </tr>\n",
       "    <tr>\n",
       "      <th>748</th>\n",
       "      <td>1.0</td>\n",
       "      <td>3.0</td>\n",
       "      <td>흰점꺼끌복</td>\n",
       "      <td>6207.0</td>\n",
       "    </tr>\n",
       "    <tr>\n",
       "      <th>749</th>\n",
       "      <td>2.0</td>\n",
       "      <td>4.0</td>\n",
       "      <td>히메성대</td>\n",
       "      <td>9362.0</td>\n",
       "    </tr>\n",
       "    <tr>\n",
       "      <th>750</th>\n",
       "      <td>3.0</td>\n",
       "      <td>6.0</td>\n",
       "      <td>히메치</td>\n",
       "      <td>1074.0</td>\n",
       "    </tr>\n",
       "  </tbody>\n",
       "</table>\n",
       "<p>751 rows × 4 columns</p>\n",
       "</div>"
      ],
      "text/plain": [
       "     No1  No2     물고기      가격\n",
       "0    2.0  6.0  가는꼬리쥐치  1631.0\n",
       "1    1.0  4.0    가다랑어  2917.0\n",
       "2    3.0  5.0     가라지  1203.0\n",
       "3    3.0  4.0   가면놀래기  1751.0\n",
       "4    1.0  4.0     가숭어  4483.0\n",
       "..   ...  ...     ...     ...\n",
       "746  2.0  4.0  흰배환도상어  2116.0\n",
       "747  2.0  4.0    흰붕장어  7953.0\n",
       "748  1.0  3.0   흰점꺼끌복  6207.0\n",
       "749  2.0  4.0    히메성대  9362.0\n",
       "750  3.0  6.0     히메치  1074.0\n",
       "\n",
       "[751 rows x 4 columns]"
      ]
     },
     "execution_count": 2,
     "metadata": {},
     "output_type": "execute_result"
    }
   ],
   "source": [
    "pd.read_excel('물고기표.xlsx')"
   ]
  },
  {
   "cell_type": "code",
   "execution_count": 3,
   "id": "a763c083",
   "metadata": {},
   "outputs": [
    {
     "name": "stdout",
     "output_type": "stream",
     "text": [
      "자자자 ~ 신중하게 낚시를 시작합니다....\n",
      "     No1  No2     물고기      가격\n",
      "0    2.0  6.0  가는꼬리쥐치  1631.0\n",
      "1    1.0  4.0    가다랑어  2917.0\n",
      "2    3.0  5.0     가라지  1203.0\n",
      "3    3.0  4.0   가면놀래기  1751.0\n",
      "4    1.0  4.0     가숭어  4483.0\n",
      "..   ...  ...     ...     ...\n",
      "746  2.0  4.0  흰배환도상어  2116.0\n",
      "747  2.0  4.0    흰붕장어  7953.0\n",
      "748  1.0  3.0   흰점꺼끌복  6207.0\n",
      "749  2.0  4.0    히메성대  9362.0\n",
      "750  3.0  6.0     히메치  1074.0\n",
      "\n",
      "[751 rows x 4 columns]\n"
     ]
    }
   ],
   "source": [
    "def game_fishing_center(): \n",
    "    print('자자자 ~ 신중하게 낚시를 시작합니다....')\n",
    "    \n",
    "    fishing = pd.read_excel('물고기표.xlsx')\n",
    "    return fishing \n",
    "\n",
    "print(game_fishing_center())"
   ]
  },
  {
   "cell_type": "code",
   "execution_count": 4,
   "id": "318a291c",
   "metadata": {},
   "outputs": [
    {
     "name": "stdout",
     "output_type": "stream",
     "text": [
      "자자자 ~ 신중하게 낚시를 시작합니다....\n",
      "[[2.0 6.0 '가는꼬리쥐치' 1631.0]\n",
      " [1.0 4.0 '가다랑어' 2917.0]\n",
      " [3.0 5.0 '가라지' 1203.0]\n",
      " ...\n",
      " [1.0 3.0 '흰점꺼끌복' 6207.0]\n",
      " [2.0 4.0 '히메성대' 9362.0]\n",
      " [3.0 6.0 '히메치' 1074.0]]\n"
     ]
    }
   ],
   "source": [
    "def game_fishing_center(): \n",
    "    print('자자자 ~ 신중하게 낚시를 시작합니다....')\n",
    "    \n",
    "    fishing = pd.read_excel('물고기표.xlsx')\n",
    "    choose_fish = np.array(fishing).reshape(-1,4)\n",
    "    \n",
    "    return choose_fish \n",
    "\n",
    "print(game_fishing_center())"
   ]
  },
  {
   "cell_type": "code",
   "execution_count": 5,
   "id": "a24e7c63",
   "metadata": {},
   "outputs": [],
   "source": [
    "fishing = pd.read_excel('물고기표.xlsx')"
   ]
  },
  {
   "cell_type": "code",
   "execution_count": 6,
   "id": "ca0f5e53",
   "metadata": {},
   "outputs": [
    {
     "data": {
      "text/plain": [
       "array([[2.0, 6.0, '가는꼬리쥐치', 1631.0],\n",
       "       [1.0, 4.0, '가다랑어', 2917.0],\n",
       "       [3.0, 5.0, '가라지', 1203.0],\n",
       "       ...,\n",
       "       [1.0, 3.0, '흰점꺼끌복', 6207.0],\n",
       "       [2.0, 4.0, '히메성대', 9362.0],\n",
       "       [3.0, 6.0, '히메치', 1074.0]], dtype=object)"
      ]
     },
     "execution_count": 6,
     "metadata": {},
     "output_type": "execute_result"
    }
   ],
   "source": [
    "np.array(fishing).reshape(-1,4)"
   ]
  },
  {
   "cell_type": "code",
   "execution_count": 7,
   "id": "f8b470db",
   "metadata": {},
   "outputs": [],
   "source": [
    "choose_fish = np.array(fishing).reshape(-1,4)"
   ]
  },
  {
   "cell_type": "code",
   "execution_count": 9,
   "id": "7ec9f442",
   "metadata": {},
   "outputs": [
    {
     "name": "stdout",
     "output_type": "stream",
     "text": [
      "자자자 ~ 신중하게 낚시를 시작합니다....\n",
      "3\n"
     ]
    }
   ],
   "source": [
    "# 낚시터 구현 \n",
    "\n",
    "def game_fishing_center(): \n",
    "    print('자자자 ~ 신중하게 낚시를 시작합니다....')\n",
    "    \n",
    "    fishing = pd.read_excel('물고기표.xlsx')\n",
    "    choose_fish = np.array(fishing).reshape(-1,4)\n",
    "    choose_fish_num = random.randint(0, len(fishing)) # 0부터 fishing 전체 행까지 반복, 랜덤 추출\n",
    "    choose_fish_waiting_num = random.randint(choose_fish[choose_fish_num][0], choose_fish[choose_fish_num][1])\n",
    "    \n",
    "    return choose_fish_waiting_num\n",
    "\n",
    "print(game_fishing_center())"
   ]
  },
  {
   "cell_type": "code",
   "execution_count": 13,
   "id": "31898114",
   "metadata": {},
   "outputs": [
    {
     "data": {
      "text/plain": [
       "59"
      ]
     },
     "execution_count": 13,
     "metadata": {},
     "output_type": "execute_result"
    }
   ],
   "source": [
    "random.randint(0, len(fishing))"
   ]
  },
  {
   "cell_type": "code",
   "execution_count": 11,
   "id": "81d46de4",
   "metadata": {},
   "outputs": [],
   "source": [
    " choose_fish_num = random.randint(0, len(fishing))"
   ]
  },
  {
   "cell_type": "code",
   "execution_count": 12,
   "id": "f58df8c8",
   "metadata": {},
   "outputs": [
    {
     "data": {
      "text/plain": [
       "751"
      ]
     },
     "execution_count": 12,
     "metadata": {},
     "output_type": "execute_result"
    }
   ],
   "source": [
    "len(fishing)"
   ]
  },
  {
   "cell_type": "code",
   "execution_count": 14,
   "id": "dc0e366f",
   "metadata": {},
   "outputs": [
    {
     "data": {
      "text/plain": [
       "array([3.0, 5.0, '독가시치', 2624.0], dtype=object)"
      ]
     },
     "execution_count": 14,
     "metadata": {},
     "output_type": "execute_result"
    }
   ],
   "source": [
    "choose_fish[choose_fish_num]"
   ]
  },
  {
   "cell_type": "code",
   "execution_count": 15,
   "id": "52e4252a",
   "metadata": {},
   "outputs": [
    {
     "data": {
      "text/plain": [
       "3.0"
      ]
     },
     "execution_count": 15,
     "metadata": {},
     "output_type": "execute_result"
    }
   ],
   "source": [
    "choose_fish[choose_fish_num][0]"
   ]
  },
  {
   "cell_type": "code",
   "execution_count": 16,
   "id": "e137f42a",
   "metadata": {},
   "outputs": [
    {
     "data": {
      "text/plain": [
       "5.0"
      ]
     },
     "execution_count": 16,
     "metadata": {},
     "output_type": "execute_result"
    }
   ],
   "source": [
    "choose_fish[choose_fish_num][1]"
   ]
  },
  {
   "cell_type": "code",
   "execution_count": 18,
   "id": "4bb22453",
   "metadata": {},
   "outputs": [
    {
     "data": {
      "text/plain": [
       "4"
      ]
     },
     "execution_count": 18,
     "metadata": {},
     "output_type": "execute_result"
    }
   ],
   "source": [
    "random.randint(choose_fish[choose_fish_num][0], choose_fish[choose_fish_num][1])"
   ]
  },
  {
   "cell_type": "code",
   "execution_count": 20,
   "id": "3a18caf5",
   "metadata": {},
   "outputs": [
    {
     "name": "stdout",
     "output_type": "stream",
     "text": [
      "자자자 ~ 신중하게 낚시를 시작합니다....\n",
      "낚시에 성공하였습니다.\n",
      "[축하] 닥터윌님이 낚은 물고기는 민달고기입니다\n",
      "None\n"
     ]
    }
   ],
   "source": [
    "def game_fishing_center(): \n",
    "    print('자자자 ~ 신중하게 낚시를 시작합니다....')\n",
    "    \n",
    "    fishing = pd.read_excel('물고기표.xlsx')\n",
    "    choose_fish = np.array(fishing).reshape(-1,4)\n",
    "    choose_fish_num = random.randint(0, len(fishing)) # 0부터 fishing 전체 행까지 반복, 랜덤 추출\n",
    "    choose_fish_waiting_num = random.randint(choose_fish[choose_fish_num][0],\n",
    "                                             choose_fish[choose_fish_num][1])\n",
    "    \n",
    "    time.sleep(choose_fish_waiting_num) # 대기시간 주기\n",
    "     \n",
    "    print(\"낚시에 성공하였습니다.\")\n",
    "    print(\"[축하] {}님이 낚은 물고기는 {}입니다\".format(\"닥터윌\", choose_fish[choose_fish_num][2]))\n",
    "  \n",
    "\n",
    "print(game_fishing_center())"
   ]
  },
  {
   "cell_type": "code",
   "execution_count": 21,
   "id": "2ec638e4",
   "metadata": {},
   "outputs": [
    {
     "data": {
      "text/plain": [
       "array([3.0, 5.0, '독가시치', 2624.0], dtype=object)"
      ]
     },
     "execution_count": 21,
     "metadata": {},
     "output_type": "execute_result"
    }
   ],
   "source": [
    "choose_fish[choose_fish_num]"
   ]
  },
  {
   "cell_type": "code",
   "execution_count": 29,
   "id": "ffd98f3b",
   "metadata": {},
   "outputs": [],
   "source": [
    "def game_fishing_center(df, id, pw): \n",
    "    print('자자자 ~ 신중하게 낚시를 시작합니다....')\n",
    "    \n",
    "    fishing = pd.read_excel('물고기표.xlsx')\n",
    "    \n",
    "    choose_fish = np.array(fishing).reshape(-1,4)\n",
    "    choose_fish_num = random.randint(0, len(fishing)) # 0부터 fishing 전체 행까지 반복, 랜덤 추출\n",
    "    choose_fish_waiting_num = random.randint(choose_fish[choose_fish_num][0], \n",
    "                                             choose_fish[choose_fish_num][1])\n",
    "    \n",
    "    time.sleep(choose_fish_waiting_num) # 대기시간 주기\n",
    "     \n",
    "    print(\"낚시에 성공하였습니다.\")\n",
    "    print(\"[축하] {}님이 낚은 물고기는 {}입니다\".format(\"닥터윌\", choose_fish[choose_fish_num][2]))\n",
    "  \n",
    "\n",
    "    # DB 저장 / 엑셀 저장 \n",
    "    df.loc[len(df)] = [id, pw, choose_fish[choose_fish_num][2], 1, \n",
    "                       choose_fish[choose_fish_num][-1], \"미판\"]\n",
    "    df.to_excel(\"텍스트게임.xlsx\", sheet_name =\"낚시게임\", index=None)"
   ]
  },
  {
   "cell_type": "code",
   "execution_count": 30,
   "id": "2f7b4bad",
   "metadata": {},
   "outputs": [
    {
     "name": "stdout",
     "output_type": "stream",
     "text": [
      "현재 판매하지 않은 물고기는 1개 입니다.\n"
     ]
    }
   ],
   "source": [
    "# 상점 구현하기 \n",
    "\n",
    "def game_store(df, id): \n",
    "    print(\"현재 판매하지 않은 물고기는 {}개 입니다.\".format(len(df[(df['ID'] == id) & \n",
    "                                                  (df['현황'] == '미판')])))\n",
    "    \n",
    "df = pd.read_excel('텍스트게임.xlsx')\n",
    "id ='drwill'\n",
    "\n",
    "game_store(df, id)"
   ]
  },
  {
   "cell_type": "code",
   "execution_count": 31,
   "id": "1e853d8c",
   "metadata": {},
   "outputs": [
    {
     "name": "stdout",
     "output_type": "stream",
     "text": [
      "현재 판매하지 않은 물고기는 1개 입니다.\n"
     ]
    },
    {
     "data": {
      "text/plain": [
       "Int64Index([74], dtype='int64')"
      ]
     },
     "execution_count": 31,
     "metadata": {},
     "output_type": "execute_result"
    }
   ],
   "source": [
    "# 상점 구현하기 \n",
    "\n",
    "def game_store(df, id): \n",
    "    print(\"현재 판매하지 않은 물고기는 {}개 입니다.\".format(len(df[(df['ID'] == id) & \n",
    "                                                  (df['현황'] == '미판')])))\n",
    "    미판_index = df[ (df['ID'] == id ) & (df['현황'] == '미판')].index\n",
    "    return 미판_index\n",
    "    \n",
    "df = pd.read_excel('텍스트게임.xlsx')\n",
    "id ='drwill'\n",
    "\n",
    "game_store(df, id)"
   ]
  },
  {
   "cell_type": "code",
   "execution_count": 37,
   "id": "f4755286",
   "metadata": {},
   "outputs": [],
   "source": [
    "# 상점 구현하기 \n",
    "\n",
    "def game_store(df, id, pw): \n",
    "    print(\"현재 판매하지 않은 물고기는 {}개 입니다.\".format(len(df[(df['ID'] == id) & \n",
    "                                                  (df['현황'] == '미판')])))\n",
    "    미판_index = df[ (df['ID'] == id ) & (df['현황'] == '미판')].index\n",
    "    \n",
    "    if len(미판_index) !=0 : \n",
    "        for i in range(len(미판_index)): \n",
    "            print(\"{} 물고기를 판매하였습니다.\".format(df[ (df['ID'] == id) & \n",
    "                                              (df['현황'] == '미판')]))\n",
    "            \n",
    "            # DB 저장 / 엑셀 저장 \n",
    "            df.loc[미판_index[i]] = [\n",
    "                 id, pw, \n",
    "                 df[ (df['ID'] == id) & (df['현황'] == '미판')]['물고기'][미판_index[i]],\n",
    "                 df[ (df['ID'] == id) & (df['현황'] == '미판')]['수량'][미판_index[i]],\n",
    "                 df[ (df['ID'] == id) & (df['현황'] == '미판')]['가격'][미판_index[i]],\n",
    "                 \"판매\" ]\n",
    "    else: # 빈 경우 \n",
    "        print(\"미판한 물고기를 완판했습니다.\")\n",
    "\n",
    "df.to_excel('텍스트게임.xlsx', sheet_name = \"낚시게임\", index=None)    "
   ]
  },
  {
   "cell_type": "code",
   "execution_count": 38,
   "id": "7073d7e0",
   "metadata": {},
   "outputs": [
    {
     "data": {
      "text/html": [
       "<div>\n",
       "<style scoped>\n",
       "    .dataframe tbody tr th:only-of-type {\n",
       "        vertical-align: middle;\n",
       "    }\n",
       "\n",
       "    .dataframe tbody tr th {\n",
       "        vertical-align: top;\n",
       "    }\n",
       "\n",
       "    .dataframe thead th {\n",
       "        text-align: right;\n",
       "    }\n",
       "</style>\n",
       "<table border=\"1\" class=\"dataframe\">\n",
       "  <thead>\n",
       "    <tr style=\"text-align: right;\">\n",
       "      <th></th>\n",
       "      <th>ID</th>\n",
       "      <th>PW</th>\n",
       "      <th>물고기</th>\n",
       "      <th>수량</th>\n",
       "      <th>가격</th>\n",
       "      <th>현황</th>\n",
       "    </tr>\n",
       "  </thead>\n",
       "  <tbody>\n",
       "    <tr>\n",
       "      <th>0</th>\n",
       "      <td>multi</td>\n",
       "      <td>1234</td>\n",
       "      <td>가물치</td>\n",
       "      <td>1</td>\n",
       "      <td>1000</td>\n",
       "      <td>판매</td>\n",
       "    </tr>\n",
       "    <tr>\n",
       "      <th>1</th>\n",
       "      <td>multi</td>\n",
       "      <td>1234</td>\n",
       "      <td>가물치</td>\n",
       "      <td>2</td>\n",
       "      <td>2000</td>\n",
       "      <td>판매</td>\n",
       "    </tr>\n",
       "    <tr>\n",
       "      <th>2</th>\n",
       "      <td>multi</td>\n",
       "      <td>1234</td>\n",
       "      <td>흑돔</td>\n",
       "      <td>1</td>\n",
       "      <td>7000</td>\n",
       "      <td>판매</td>\n",
       "    </tr>\n",
       "    <tr>\n",
       "      <th>3</th>\n",
       "      <td>multi</td>\n",
       "      <td>1234</td>\n",
       "      <td>가시고기</td>\n",
       "      <td>1</td>\n",
       "      <td>2000</td>\n",
       "      <td>판매</td>\n",
       "    </tr>\n",
       "    <tr>\n",
       "      <th>4</th>\n",
       "      <td>multi</td>\n",
       "      <td>1234</td>\n",
       "      <td>납자루</td>\n",
       "      <td>1</td>\n",
       "      <td>3000</td>\n",
       "      <td>판매</td>\n",
       "    </tr>\n",
       "  </tbody>\n",
       "</table>\n",
       "</div>"
      ],
      "text/plain": [
       "      ID    PW   물고기  수량    가격  현황\n",
       "0  multi  1234   가물치   1  1000  판매\n",
       "1  multi  1234   가물치   2  2000  판매\n",
       "2  multi  1234    흑돔   1  7000  판매\n",
       "3  multi  1234  가시고기   1  2000  판매\n",
       "4  multi  1234   납자루   1  3000  판매"
      ]
     },
     "execution_count": 38,
     "metadata": {},
     "output_type": "execute_result"
    }
   ],
   "source": [
    "df = pd.read_excel('텍스트게임.xlsx')\n",
    "df.head()"
   ]
  },
  {
   "cell_type": "code",
   "execution_count": 39,
   "id": "05511009",
   "metadata": {},
   "outputs": [],
   "source": [
    "# 게임 플레이 및 사용자 정보 구현하기 \n",
    "\n",
    "def game_play(id, pw): \n",
    "    \n",
    "    while True: \n",
    "        \n",
    "        df = pd.read_excel('텍스트게임.xlsx')\n",
    "        \n",
    "        돈 = df[ (df['ID'] == id) & ( df['현황'] == '판매')]['가격'].sum()\n",
    "        물고기_종류 = len(np.unique( df[df['ID'] == id]['물고기']))\n",
    "        잡은_물고기 = df[df['ID'] == id]['수량'].sum()\n",
    "        티어 = len(df[ (df['ID'] == id) & (df['현황'] =='판매') ])\n",
    "        \n",
    "        if 티어 <= 10 : \n",
    "            티어 = \"낚시꿈나무\"\n",
    "        elif 티어 >=11 and 티어 <= 20 : \n",
    "            티어 = \"낚시사생팬\"\n",
    "        elif 티어 >=21:\n",
    "            티어 = \"낚시꾼\"\n",
    "            \n",
    "        # ID, 티어, 돈, 잡은 물고기 종류, 잡은 물고기 수 \n",
    "        \n",
    "        print(\"안녕하세요, {} 님 / 티어:{} / 가지고 있는 금액:{} / 잡은 물고기 종류:{} / 잡은 물고기 수량: {}\".\n",
    "             format(id, 티어, 돈, 물고기_종류, 잡은_물고기))\n",
    "        \n",
    "        선택 = int(input(\"낚시하기(1) / 상점이용(2) / 게임종료(3)\"))\n",
    "        \n",
    "        if 선택 == 1: # 낚시터\n",
    "            game_fishing_center(df, id, pw)\n",
    "        elif 선택 ==2 : # 상점 \n",
    "            game_store( df, id, pw)\n",
    "        elif 선택 ==3 : # 게임 종료 \n",
    "            break \n",
    "        "
   ]
  },
  {
   "cell_type": "code",
   "execution_count": null,
   "id": "7148b82d",
   "metadata": {},
   "outputs": [
    {
     "name": "stdout",
     "output_type": "stream",
     "text": [
      "로그인(1) / 회원가입(2)1\n",
      "ID 입력: multi\n",
      "PW 입력: 1234\n",
      "커먼~ 게임을 시작합니다. 유후~\n",
      "안녕하세요, multi 님 / 티어:낚시꾼 / 가지고 있는 금액:119747 / 잡은 물고기 종류:23 / 잡은 물고기 수량: 33\n",
      "낚시하기(1) / 상점이용(2) / 게임종료(3)2\n",
      "현재 판매하지 않은 물고기는 8개 입니다.\n",
      "       ID    PW    물고기  수량    가격  현황\n",
      "24  multi  1234  노랑가오리   1  2108  미판\n",
      "38  multi  1234   갈점바리   1  2651  미판\n",
      "39  multi  1234  두동갈구자   1  1027  미판\n",
      "40  multi  1234    잿방어   1  5080  미판\n",
      "41  multi  1234   진홍퉁돔   1  7351  미판\n",
      "42  multi  1234  은빛하스돔   1  8121  미판\n",
      "43  multi  1234   갈고등어   1  3393  미판\n",
      "44  multi  1234   홍투라치   1  5529  미판 물고기를 판매하였습니다.\n",
      "       ID    PW    물고기  수량    가격  현황\n",
      "38  multi  1234   갈점바리   1  2651  미판\n",
      "39  multi  1234  두동갈구자   1  1027  미판\n",
      "40  multi  1234    잿방어   1  5080  미판\n",
      "41  multi  1234   진홍퉁돔   1  7351  미판\n",
      "42  multi  1234  은빛하스돔   1  8121  미판\n",
      "43  multi  1234   갈고등어   1  3393  미판\n",
      "44  multi  1234   홍투라치   1  5529  미판 물고기를 판매하였습니다.\n",
      "       ID    PW    물고기  수량    가격  현황\n",
      "39  multi  1234  두동갈구자   1  1027  미판\n",
      "40  multi  1234    잿방어   1  5080  미판\n",
      "41  multi  1234   진홍퉁돔   1  7351  미판\n",
      "42  multi  1234  은빛하스돔   1  8121  미판\n",
      "43  multi  1234   갈고등어   1  3393  미판\n",
      "44  multi  1234   홍투라치   1  5529  미판 물고기를 판매하였습니다.\n",
      "       ID    PW    물고기  수량    가격  현황\n",
      "40  multi  1234    잿방어   1  5080  미판\n",
      "41  multi  1234   진홍퉁돔   1  7351  미판\n",
      "42  multi  1234  은빛하스돔   1  8121  미판\n",
      "43  multi  1234   갈고등어   1  3393  미판\n",
      "44  multi  1234   홍투라치   1  5529  미판 물고기를 판매하였습니다.\n",
      "       ID    PW    물고기  수량    가격  현황\n",
      "41  multi  1234   진홍퉁돔   1  7351  미판\n",
      "42  multi  1234  은빛하스돔   1  8121  미판\n",
      "43  multi  1234   갈고등어   1  3393  미판\n",
      "44  multi  1234   홍투라치   1  5529  미판 물고기를 판매하였습니다.\n",
      "       ID    PW    물고기  수량    가격  현황\n",
      "42  multi  1234  은빛하스돔   1  8121  미판\n",
      "43  multi  1234   갈고등어   1  3393  미판\n",
      "44  multi  1234   홍투라치   1  5529  미판 물고기를 판매하였습니다.\n",
      "       ID    PW   물고기  수량    가격  현황\n",
      "43  multi  1234  갈고등어   1  3393  미판\n",
      "44  multi  1234  홍투라치   1  5529  미판 물고기를 판매하였습니다.\n",
      "       ID    PW   물고기  수량    가격  현황\n",
      "44  multi  1234  홍투라치   1  5529  미판 물고기를 판매하였습니다.\n",
      "안녕하세요, multi 님 / 티어:낚시꾼 / 가지고 있는 금액:119747 / 잡은 물고기 종류:23 / 잡은 물고기 수량: 33\n"
     ]
    }
   ],
   "source": [
    "# 계정 정보 생성\n",
    "\n",
    "계정정보 = []\n",
    "\n",
    "df = pd.read_excel('텍스트게임.xlsx')\n",
    "\n",
    "계정 = int(input('로그인(1) / 회원가입(2)')) \n",
    "\n",
    "if 계정 == 1: # 로그인 \n",
    "    계정정보.append(input('ID 입력: '))\n",
    "    계정정보.append(int(input(\"PW 입력: \")))\n",
    "    \n",
    "    if 계정정보[0] in df['ID'].unique() and 계정정보[1] in df['PW'].unique():\n",
    "        print('커먼~ 게임을 시작합니다. 유후~')\n",
    "        game_play( 계정정보[0], 계정정보[1]) \n",
    "    else: \n",
    "        print( \"ID 또는 PW 가 없네요~\")\n",
    "        pass\n",
    "\n",
    "elif 계정 == 2: # 회원가입\n",
    "    계정정보.append(input('ID 입력: '))\n",
    "    계정정보.append(int(input(\"PW 입력: \")))\n",
    "    \n",
    "    print(\"[축하] 회원가입 완료~ \")\n",
    "    print(\"게임을 시작합니다.\")\n",
    "    game_play( 계정정보[0], 계정정보[1])    "
   ]
  },
  {
   "cell_type": "code",
   "execution_count": null,
   "id": "73bd2d3f",
   "metadata": {},
   "outputs": [],
   "source": []
  },
  {
   "cell_type": "code",
   "execution_count": null,
   "id": "d90cb3fe",
   "metadata": {},
   "outputs": [],
   "source": []
  }
 ],
 "metadata": {
  "kernelspec": {
   "display_name": "Python 3 (ipykernel)",
   "language": "python",
   "name": "python3"
  },
  "language_info": {
   "codemirror_mode": {
    "name": "ipython",
    "version": 3
   },
   "file_extension": ".py",
   "mimetype": "text/x-python",
   "name": "python",
   "nbconvert_exporter": "python",
   "pygments_lexer": "ipython3",
   "version": "3.9.12"
  }
 },
 "nbformat": 4,
 "nbformat_minor": 5
}
