{
 "cells": [
  {
   "cell_type": "markdown",
   "id": "4df8528f",
   "metadata": {},
   "source": [
    "* 데이터 수집      \n",
    "https://data.seoul.go.kr/dataList/5/literacyView.do"
   ]
  },
  {
   "cell_type": "code",
   "execution_count": 1,
   "id": "53914b7c",
   "metadata": {},
   "outputs": [],
   "source": [
    "import pandas as pd"
   ]
  },
  {
   "cell_type": "code",
   "execution_count": 2,
   "id": "81d0684a",
   "metadata": {},
   "outputs": [],
   "source": [
    "# 그래프를 노트북 안에 그리기 위해 설정\n",
    "%matplotlib inline\n",
    "\n",
    "# 필요한 패키지와 라이브러리 가져온다.\n",
    "import matplotlib as mpl\n",
    "import matplotlib.pyplot as plt\n",
    "import matplotlib.font_manager as fm\n",
    "\n",
    "# 그래프에서 마이너스 폰트 깨지는 문제에 대한 대처\n",
    "mpl.rcParams['axes.unicode_minus'] = False\n",
    "\n",
    "# 폰트 지정하기\n",
    "plt.rcParams['font.family'] = 'gulim'"
   ]
  },
  {
   "cell_type": "markdown",
   "id": "ca7b1f87",
   "metadata": {},
   "source": [
    "# 데이터 확인 및 전처리"
   ]
  },
  {
   "cell_type": "markdown",
   "id": "834e2e7f",
   "metadata": {},
   "source": [
    "## 2021년 공공자전거 대여이력 정보"
   ]
  },
  {
   "cell_type": "markdown",
   "id": "30296105",
   "metadata": {},
   "source": [
    "### 데이터프레임 생성/확인"
   ]
  },
  {
   "cell_type": "code",
   "execution_count": 3,
   "id": "e5acd91e",
   "metadata": {},
   "outputs": [
    {
     "data": {
      "text/html": [
       "<div>\n",
       "<style scoped>\n",
       "    .dataframe tbody tr th:only-of-type {\n",
       "        vertical-align: middle;\n",
       "    }\n",
       "\n",
       "    .dataframe tbody tr th {\n",
       "        vertical-align: top;\n",
       "    }\n",
       "\n",
       "    .dataframe thead th {\n",
       "        text-align: right;\n",
       "    }\n",
       "</style>\n",
       "<table border=\"1\" class=\"dataframe\">\n",
       "  <thead>\n",
       "    <tr style=\"text-align: right;\">\n",
       "      <th></th>\n",
       "      <th>자전거번호</th>\n",
       "      <th>대여일시</th>\n",
       "      <th>대여 대여소번호</th>\n",
       "      <th>대여 대여소명</th>\n",
       "      <th>대여거치대</th>\n",
       "      <th>반납일시</th>\n",
       "      <th>반납대여소번호</th>\n",
       "      <th>반납대여소명</th>\n",
       "      <th>반납거치대</th>\n",
       "      <th>이용시간</th>\n",
       "      <th>이용거리</th>\n",
       "    </tr>\n",
       "  </thead>\n",
       "  <tbody>\n",
       "    <tr>\n",
       "      <th>0</th>\n",
       "      <td>SPB-53145</td>\n",
       "      <td>2021-01-02 20:50:36</td>\n",
       "      <td>3</td>\n",
       "      <td>중랑센터</td>\n",
       "      <td>0</td>\n",
       "      <td>2021-01-02 21:15:41</td>\n",
       "      <td>668</td>\n",
       "      <td>서울축산농협(장안지점)</td>\n",
       "      <td>0</td>\n",
       "      <td>25</td>\n",
       "      <td>0.00</td>\n",
       "    </tr>\n",
       "    <tr>\n",
       "      <th>1</th>\n",
       "      <td>SPB-53074</td>\n",
       "      <td>2021-01-04 16:02:12</td>\n",
       "      <td>3</td>\n",
       "      <td>중랑센터</td>\n",
       "      <td>0</td>\n",
       "      <td>2021-01-04 16:17:06</td>\n",
       "      <td>668</td>\n",
       "      <td>서울축산농협(장안지점)</td>\n",
       "      <td>0</td>\n",
       "      <td>14</td>\n",
       "      <td>0.00</td>\n",
       "    </tr>\n",
       "    <tr>\n",
       "      <th>2</th>\n",
       "      <td>SPB-50952</td>\n",
       "      <td>2021-01-13 21:02:05</td>\n",
       "      <td>3</td>\n",
       "      <td>중랑센터</td>\n",
       "      <td>0</td>\n",
       "      <td>2021-01-13 21:14:04</td>\n",
       "      <td>668</td>\n",
       "      <td>서울축산농협(장안지점)</td>\n",
       "      <td>0</td>\n",
       "      <td>11</td>\n",
       "      <td>1853.99</td>\n",
       "    </tr>\n",
       "    <tr>\n",
       "      <th>3</th>\n",
       "      <td>SPB-52380</td>\n",
       "      <td>2021-01-14 21:02:55</td>\n",
       "      <td>3</td>\n",
       "      <td>중랑센터</td>\n",
       "      <td>0</td>\n",
       "      <td>2021-01-14 21:13:41</td>\n",
       "      <td>668</td>\n",
       "      <td>서울축산농협(장안지점)</td>\n",
       "      <td>0</td>\n",
       "      <td>10</td>\n",
       "      <td>0.00</td>\n",
       "    </tr>\n",
       "    <tr>\n",
       "      <th>4</th>\n",
       "      <td>SPB-52380</td>\n",
       "      <td>2021-01-18 18:02:08</td>\n",
       "      <td>3</td>\n",
       "      <td>중랑센터</td>\n",
       "      <td>0</td>\n",
       "      <td>2021-01-18 18:15:22</td>\n",
       "      <td>540</td>\n",
       "      <td>군자역 7번출구 베스트샵 앞</td>\n",
       "      <td>0</td>\n",
       "      <td>13</td>\n",
       "      <td>2291.05</td>\n",
       "    </tr>\n",
       "    <tr>\n",
       "      <th>...</th>\n",
       "      <td>...</td>\n",
       "      <td>...</td>\n",
       "      <td>...</td>\n",
       "      <td>...</td>\n",
       "      <td>...</td>\n",
       "      <td>...</td>\n",
       "      <td>...</td>\n",
       "      <td>...</td>\n",
       "      <td>...</td>\n",
       "      <td>...</td>\n",
       "      <td>...</td>\n",
       "    </tr>\n",
       "    <tr>\n",
       "      <th>806498</th>\n",
       "      <td>SPB-81270</td>\n",
       "      <td>2021-01-24 20:13:33</td>\n",
       "      <td>9999</td>\n",
       "      <td>상담센터</td>\n",
       "      <td>0</td>\n",
       "      <td>2021-01-24 20:56:28</td>\n",
       "      <td>2908</td>\n",
       "      <td>광운대학교 중앙도서관</td>\n",
       "      <td>99</td>\n",
       "      <td>42</td>\n",
       "      <td>3730.00</td>\n",
       "    </tr>\n",
       "    <tr>\n",
       "      <th>806499</th>\n",
       "      <td>SPB-39891</td>\n",
       "      <td>2021-01-25 12:10:06</td>\n",
       "      <td>9999</td>\n",
       "      <td>상담센터</td>\n",
       "      <td>0</td>\n",
       "      <td>2021-01-25 12:35:20</td>\n",
       "      <td>626</td>\n",
       "      <td>군자교 서측 녹지대</td>\n",
       "      <td>0</td>\n",
       "      <td>25</td>\n",
       "      <td>3680.00</td>\n",
       "    </tr>\n",
       "    <tr>\n",
       "      <th>806500</th>\n",
       "      <td>SPB-32679</td>\n",
       "      <td>2021-01-27 14:47:18</td>\n",
       "      <td>9999</td>\n",
       "      <td>상담센터</td>\n",
       "      <td>0</td>\n",
       "      <td>2021-01-27 15:12:45</td>\n",
       "      <td>2299</td>\n",
       "      <td>한전아트센터 앞</td>\n",
       "      <td>0</td>\n",
       "      <td>25</td>\n",
       "      <td>2471.37</td>\n",
       "    </tr>\n",
       "    <tr>\n",
       "      <th>806501</th>\n",
       "      <td>SPB-80712</td>\n",
       "      <td>2021-01-31 14:39:45</td>\n",
       "      <td>9999</td>\n",
       "      <td>상담센터</td>\n",
       "      <td>0</td>\n",
       "      <td>2021-01-31 15:46:49</td>\n",
       "      <td>175</td>\n",
       "      <td>홍연2교옆</td>\n",
       "      <td>99</td>\n",
       "      <td>67</td>\n",
       "      <td>4050.00</td>\n",
       "    </tr>\n",
       "    <tr>\n",
       "      <th>806502</th>\n",
       "      <td>SPB-80617</td>\n",
       "      <td>2021-01-31 15:54:05</td>\n",
       "      <td>9999</td>\n",
       "      <td>상담센터</td>\n",
       "      <td>0</td>\n",
       "      <td>2021-01-31 16:11:01</td>\n",
       "      <td>117</td>\n",
       "      <td>홍은사거리</td>\n",
       "      <td>99</td>\n",
       "      <td>16</td>\n",
       "      <td>2310.00</td>\n",
       "    </tr>\n",
       "  </tbody>\n",
       "</table>\n",
       "<p>806503 rows × 11 columns</p>\n",
       "</div>"
      ],
      "text/plain": [
       "            자전거번호                 대여일시  대여 대여소번호 대여 대여소명  대여거치대  \\\n",
       "0       SPB-53145  2021-01-02 20:50:36         3    중랑센터      0   \n",
       "1       SPB-53074  2021-01-04 16:02:12         3    중랑센터      0   \n",
       "2       SPB-50952  2021-01-13 21:02:05         3    중랑센터      0   \n",
       "3       SPB-52380  2021-01-14 21:02:55         3    중랑센터      0   \n",
       "4       SPB-52380  2021-01-18 18:02:08         3    중랑센터      0   \n",
       "...           ...                  ...       ...     ...    ...   \n",
       "806498  SPB-81270  2021-01-24 20:13:33      9999    상담센터      0   \n",
       "806499  SPB-39891  2021-01-25 12:10:06      9999    상담센터      0   \n",
       "806500  SPB-32679  2021-01-27 14:47:18      9999    상담센터      0   \n",
       "806501  SPB-80712  2021-01-31 14:39:45      9999    상담센터      0   \n",
       "806502  SPB-80617  2021-01-31 15:54:05      9999    상담센터      0   \n",
       "\n",
       "                       반납일시  반납대여소번호           반납대여소명  반납거치대  이용시간     이용거리  \n",
       "0       2021-01-02 21:15:41      668     서울축산농협(장안지점)      0    25     0.00  \n",
       "1       2021-01-04 16:17:06      668     서울축산농협(장안지점)      0    14     0.00  \n",
       "2       2021-01-13 21:14:04      668     서울축산농협(장안지점)      0    11  1853.99  \n",
       "3       2021-01-14 21:13:41      668     서울축산농협(장안지점)      0    10     0.00  \n",
       "4       2021-01-18 18:15:22      540  군자역 7번출구 베스트샵 앞      0    13  2291.05  \n",
       "...                     ...      ...              ...    ...   ...      ...  \n",
       "806498  2021-01-24 20:56:28     2908      광운대학교 중앙도서관     99    42  3730.00  \n",
       "806499  2021-01-25 12:35:20      626       군자교 서측 녹지대      0    25  3680.00  \n",
       "806500  2021-01-27 15:12:45     2299         한전아트센터 앞      0    25  2471.37  \n",
       "806501  2021-01-31 15:46:49      175            홍연2교옆     99    67  4050.00  \n",
       "806502  2021-01-31 16:11:01      117            홍은사거리     99    16  2310.00  \n",
       "\n",
       "[806503 rows x 11 columns]"
      ]
     },
     "execution_count": 3,
     "metadata": {},
     "output_type": "execute_result"
    }
   ],
   "source": [
    "pd.read_csv('C:\\\\Users\\\\student\\\\Desktop\\\\code_multi\\\\data\\\\공공자전거 대여이력 정보_2021.01.csv', encoding='cp949', low_memory=False)"
   ]
  },
  {
   "cell_type": "code",
   "execution_count": 4,
   "id": "7b4fbe0f",
   "metadata": {
    "scrolled": true
   },
   "outputs": [],
   "source": [
    "df1 = pd.read_csv('../data/공공자전거 대여이력 정보_2021.01.csv', encoding='cp949', low_memory=False)\n",
    "df2 = pd.read_csv('../data/공공자전거 대여이력 정보_2021.02.csv', encoding='cp949', low_memory=False)\n",
    "df3 = pd.read_csv('../data/공공자전거 대여이력 정보_2021.03.csv', encoding='cp949', low_memory=False)\n",
    "df4 = pd.read_csv('../data/공공자전거 대여이력 정보_2021.04.csv', encoding='cp949', low_memory=False)\n",
    "df5 = pd.read_csv('../data/공공자전거 대여이력 정보_2021.05.csv', encoding='cp949', low_memory=False)\n",
    "df6 = pd.read_csv('../data/공공자전거 대여이력 정보_2021.06.csv', encoding='cp949', low_memory=False)"
   ]
  },
  {
   "cell_type": "code",
   "execution_count": 5,
   "id": "175ffcfa",
   "metadata": {},
   "outputs": [
    {
     "data": {
      "text/html": [
       "<div>\n",
       "<style scoped>\n",
       "    .dataframe tbody tr th:only-of-type {\n",
       "        vertical-align: middle;\n",
       "    }\n",
       "\n",
       "    .dataframe tbody tr th {\n",
       "        vertical-align: top;\n",
       "    }\n",
       "\n",
       "    .dataframe thead th {\n",
       "        text-align: right;\n",
       "    }\n",
       "</style>\n",
       "<table border=\"1\" class=\"dataframe\">\n",
       "  <thead>\n",
       "    <tr style=\"text-align: right;\">\n",
       "      <th></th>\n",
       "      <th>자전거번호</th>\n",
       "      <th>대여일시</th>\n",
       "      <th>대여 대여소번호</th>\n",
       "      <th>대여 대여소명</th>\n",
       "      <th>대여거치대</th>\n",
       "      <th>반납일시</th>\n",
       "      <th>반납대여소번호</th>\n",
       "      <th>반납대여소명</th>\n",
       "      <th>반납거치대</th>\n",
       "      <th>이용시간</th>\n",
       "      <th>이용거리</th>\n",
       "    </tr>\n",
       "  </thead>\n",
       "  <tbody>\n",
       "    <tr>\n",
       "      <th>0</th>\n",
       "      <td>SPB-53145</td>\n",
       "      <td>2021-01-02 20:50:36</td>\n",
       "      <td>3</td>\n",
       "      <td>중랑센터</td>\n",
       "      <td>0</td>\n",
       "      <td>2021-01-02 21:15:41</td>\n",
       "      <td>668</td>\n",
       "      <td>서울축산농협(장안지점)</td>\n",
       "      <td>0</td>\n",
       "      <td>25</td>\n",
       "      <td>0.0</td>\n",
       "    </tr>\n",
       "    <tr>\n",
       "      <th>1</th>\n",
       "      <td>SPB-53074</td>\n",
       "      <td>2021-01-04 16:02:12</td>\n",
       "      <td>3</td>\n",
       "      <td>중랑센터</td>\n",
       "      <td>0</td>\n",
       "      <td>2021-01-04 16:17:06</td>\n",
       "      <td>668</td>\n",
       "      <td>서울축산농협(장안지점)</td>\n",
       "      <td>0</td>\n",
       "      <td>14</td>\n",
       "      <td>0.0</td>\n",
       "    </tr>\n",
       "  </tbody>\n",
       "</table>\n",
       "</div>"
      ],
      "text/plain": [
       "       자전거번호                 대여일시  대여 대여소번호 대여 대여소명  대여거치대  \\\n",
       "0  SPB-53145  2021-01-02 20:50:36         3    중랑센터      0   \n",
       "1  SPB-53074  2021-01-04 16:02:12         3    중랑센터      0   \n",
       "\n",
       "                  반납일시  반납대여소번호        반납대여소명  반납거치대  이용시간  이용거리  \n",
       "0  2021-01-02 21:15:41      668  서울축산농협(장안지점)      0    25   0.0  \n",
       "1  2021-01-04 16:17:06      668  서울축산농협(장안지점)      0    14   0.0  "
      ]
     },
     "execution_count": 5,
     "metadata": {},
     "output_type": "execute_result"
    }
   ],
   "source": [
    "df1.head(2)"
   ]
  },
  {
   "cell_type": "markdown",
   "id": "b2c27450",
   "metadata": {},
   "source": [
    "### 데이터 연결/확인\n",
    "* concat"
   ]
  },
  {
   "cell_type": "code",
   "execution_count": 6,
   "id": "367fa222",
   "metadata": {},
   "outputs": [],
   "source": [
    "# concat\n",
    "df=pd.concat([df1,df2,df3,df4,df5,df6])"
   ]
  },
  {
   "cell_type": "code",
   "execution_count": 7,
   "id": "22f3ce8d",
   "metadata": {},
   "outputs": [
    {
     "data": {
      "text/html": [
       "<div>\n",
       "<style scoped>\n",
       "    .dataframe tbody tr th:only-of-type {\n",
       "        vertical-align: middle;\n",
       "    }\n",
       "\n",
       "    .dataframe tbody tr th {\n",
       "        vertical-align: top;\n",
       "    }\n",
       "\n",
       "    .dataframe thead th {\n",
       "        text-align: right;\n",
       "    }\n",
       "</style>\n",
       "<table border=\"1\" class=\"dataframe\">\n",
       "  <thead>\n",
       "    <tr style=\"text-align: right;\">\n",
       "      <th></th>\n",
       "      <th>자전거번호</th>\n",
       "      <th>대여일시</th>\n",
       "      <th>대여 대여소번호</th>\n",
       "      <th>대여 대여소명</th>\n",
       "      <th>대여거치대</th>\n",
       "      <th>반납일시</th>\n",
       "      <th>반납대여소번호</th>\n",
       "      <th>반납대여소명</th>\n",
       "      <th>반납거치대</th>\n",
       "      <th>이용시간</th>\n",
       "      <th>이용거리</th>\n",
       "    </tr>\n",
       "  </thead>\n",
       "  <tbody>\n",
       "    <tr>\n",
       "      <th>0</th>\n",
       "      <td>SPB-53145</td>\n",
       "      <td>2021-01-02 20:50:36</td>\n",
       "      <td>3</td>\n",
       "      <td>중랑센터</td>\n",
       "      <td>0</td>\n",
       "      <td>2021-01-02 21:15:41</td>\n",
       "      <td>668</td>\n",
       "      <td>서울축산농협(장안지점)</td>\n",
       "      <td>0</td>\n",
       "      <td>25.0</td>\n",
       "      <td>0.00</td>\n",
       "    </tr>\n",
       "    <tr>\n",
       "      <th>1</th>\n",
       "      <td>SPB-53074</td>\n",
       "      <td>2021-01-04 16:02:12</td>\n",
       "      <td>3</td>\n",
       "      <td>중랑센터</td>\n",
       "      <td>0</td>\n",
       "      <td>2021-01-04 16:17:06</td>\n",
       "      <td>668</td>\n",
       "      <td>서울축산농협(장안지점)</td>\n",
       "      <td>0</td>\n",
       "      <td>14.0</td>\n",
       "      <td>0.00</td>\n",
       "    </tr>\n",
       "    <tr>\n",
       "      <th>2</th>\n",
       "      <td>SPB-50952</td>\n",
       "      <td>2021-01-13 21:02:05</td>\n",
       "      <td>3</td>\n",
       "      <td>중랑센터</td>\n",
       "      <td>0</td>\n",
       "      <td>2021-01-13 21:14:04</td>\n",
       "      <td>668</td>\n",
       "      <td>서울축산농협(장안지점)</td>\n",
       "      <td>0</td>\n",
       "      <td>11.0</td>\n",
       "      <td>1853.99</td>\n",
       "    </tr>\n",
       "  </tbody>\n",
       "</table>\n",
       "</div>"
      ],
      "text/plain": [
       "       자전거번호                 대여일시  대여 대여소번호 대여 대여소명 대여거치대  \\\n",
       "0  SPB-53145  2021-01-02 20:50:36         3    중랑센터     0   \n",
       "1  SPB-53074  2021-01-04 16:02:12         3    중랑센터     0   \n",
       "2  SPB-50952  2021-01-13 21:02:05         3    중랑센터     0   \n",
       "\n",
       "                  반납일시 반납대여소번호        반납대여소명  반납거치대  이용시간     이용거리  \n",
       "0  2021-01-02 21:15:41     668  서울축산농협(장안지점)      0  25.0     0.00  \n",
       "1  2021-01-04 16:17:06     668  서울축산농협(장안지점)      0  14.0     0.00  \n",
       "2  2021-01-13 21:14:04     668  서울축산농협(장안지점)      0  11.0  1853.99  "
      ]
     },
     "execution_count": 7,
     "metadata": {},
     "output_type": "execute_result"
    }
   ],
   "source": [
    "# head\n",
    "df.head(3)"
   ]
  },
  {
   "cell_type": "code",
   "execution_count": 8,
   "id": "263b0ce9",
   "metadata": {},
   "outputs": [
    {
     "data": {
      "text/html": [
       "<div>\n",
       "<style scoped>\n",
       "    .dataframe tbody tr th:only-of-type {\n",
       "        vertical-align: middle;\n",
       "    }\n",
       "\n",
       "    .dataframe tbody tr th {\n",
       "        vertical-align: top;\n",
       "    }\n",
       "\n",
       "    .dataframe thead th {\n",
       "        text-align: right;\n",
       "    }\n",
       "</style>\n",
       "<table border=\"1\" class=\"dataframe\">\n",
       "  <thead>\n",
       "    <tr style=\"text-align: right;\">\n",
       "      <th></th>\n",
       "      <th>자전거번호</th>\n",
       "      <th>대여일시</th>\n",
       "      <th>대여 대여소번호</th>\n",
       "      <th>대여 대여소명</th>\n",
       "      <th>대여거치대</th>\n",
       "      <th>반납일시</th>\n",
       "      <th>반납대여소번호</th>\n",
       "      <th>반납대여소명</th>\n",
       "      <th>반납거치대</th>\n",
       "      <th>이용시간</th>\n",
       "      <th>이용거리</th>\n",
       "    </tr>\n",
       "  </thead>\n",
       "  <tbody>\n",
       "    <tr>\n",
       "      <th>3445939</th>\n",
       "      <td>SPB-36886</td>\n",
       "      <td>2021-06-30 22:44:14</td>\n",
       "      <td>152</td>\n",
       "      <td>마포구민체육센터 앞</td>\n",
       "      <td>0</td>\n",
       "      <td>2021-07-01 04:48:33</td>\n",
       "      <td>00126</td>\n",
       "      <td>서강대 후문 옆</td>\n",
       "      <td>0</td>\n",
       "      <td>364.0</td>\n",
       "      <td>10153.36</td>\n",
       "    </tr>\n",
       "    <tr>\n",
       "      <th>3445940</th>\n",
       "      <td>SPB-30409</td>\n",
       "      <td>2021-06-30 22:45:19</td>\n",
       "      <td>152</td>\n",
       "      <td>마포구민체육센터 앞</td>\n",
       "      <td>0</td>\n",
       "      <td>2021-07-01 04:52:25</td>\n",
       "      <td>00437</td>\n",
       "      <td>대흥역 1번출구</td>\n",
       "      <td>0</td>\n",
       "      <td>367.0</td>\n",
       "      <td>10100.71</td>\n",
       "    </tr>\n",
       "    <tr>\n",
       "      <th>3445941</th>\n",
       "      <td>SPB-46230</td>\n",
       "      <td>2021-06-30 22:43:43</td>\n",
       "      <td>152</td>\n",
       "      <td>마포구민체육센터 앞</td>\n",
       "      <td>0</td>\n",
       "      <td>2021-07-01 04:52:27</td>\n",
       "      <td>00437</td>\n",
       "      <td>대흥역 1번출구</td>\n",
       "      <td>0</td>\n",
       "      <td>368.0</td>\n",
       "      <td>430.00</td>\n",
       "    </tr>\n",
       "    <tr>\n",
       "      <th>3445942</th>\n",
       "      <td>SPB-41691</td>\n",
       "      <td>2021-06-30 22:11:14</td>\n",
       "      <td>2220</td>\n",
       "      <td>반포본동 주민센터 앞</td>\n",
       "      <td>0</td>\n",
       "      <td>2021-07-01 04:55:29</td>\n",
       "      <td>02526</td>\n",
       "      <td>반포경남쇼핑 앞</td>\n",
       "      <td>0</td>\n",
       "      <td>404.0</td>\n",
       "      <td>0.00</td>\n",
       "    </tr>\n",
       "    <tr>\n",
       "      <th>3445943</th>\n",
       "      <td>SPB-52274</td>\n",
       "      <td>2021-06-30 22:12:10</td>\n",
       "      <td>2220</td>\n",
       "      <td>반포본동 주민센터 앞</td>\n",
       "      <td>0</td>\n",
       "      <td>2021-07-01 04:55:30</td>\n",
       "      <td>02526</td>\n",
       "      <td>반포경남쇼핑 앞</td>\n",
       "      <td>0</td>\n",
       "      <td>403.0</td>\n",
       "      <td>4541.22</td>\n",
       "    </tr>\n",
       "  </tbody>\n",
       "</table>\n",
       "</div>"
      ],
      "text/plain": [
       "             자전거번호                 대여일시  대여 대여소번호      대여 대여소명 대여거치대  \\\n",
       "3445939  SPB-36886  2021-06-30 22:44:14       152   마포구민체육센터 앞     0   \n",
       "3445940  SPB-30409  2021-06-30 22:45:19       152   마포구민체육센터 앞     0   \n",
       "3445941  SPB-46230  2021-06-30 22:43:43       152   마포구민체육센터 앞     0   \n",
       "3445942  SPB-41691  2021-06-30 22:11:14      2220  반포본동 주민센터 앞     0   \n",
       "3445943  SPB-52274  2021-06-30 22:12:10      2220  반포본동 주민센터 앞     0   \n",
       "\n",
       "                        반납일시 반납대여소번호    반납대여소명  반납거치대   이용시간      이용거리  \n",
       "3445939  2021-07-01 04:48:33   00126  서강대 후문 옆      0  364.0  10153.36  \n",
       "3445940  2021-07-01 04:52:25   00437  대흥역 1번출구      0  367.0  10100.71  \n",
       "3445941  2021-07-01 04:52:27   00437  대흥역 1번출구      0  368.0    430.00  \n",
       "3445942  2021-07-01 04:55:29   02526  반포경남쇼핑 앞      0  404.0      0.00  \n",
       "3445943  2021-07-01 04:55:30   02526  반포경남쇼핑 앞      0  403.0   4541.22  "
      ]
     },
     "execution_count": 8,
     "metadata": {},
     "output_type": "execute_result"
    }
   ],
   "source": [
    "#tail\n",
    "df.tail()"
   ]
  },
  {
   "cell_type": "code",
   "execution_count": 9,
   "id": "c9829c9a",
   "metadata": {},
   "outputs": [
    {
     "data": {
      "text/plain": [
       "(13613873, 11)"
      ]
     },
     "execution_count": 9,
     "metadata": {},
     "output_type": "execute_result"
    }
   ],
   "source": [
    "# 데이터 크기\n",
    "df.shape   "
   ]
  },
  {
   "cell_type": "code",
   "execution_count": 10,
   "id": "fd27aa50",
   "metadata": {
    "scrolled": true
   },
   "outputs": [
    {
     "name": "stdout",
     "output_type": "stream",
     "text": [
      "<class 'pandas.core.frame.DataFrame'>\n",
      "Int64Index: 13613873 entries, 0 to 3445943\n",
      "Data columns (total 11 columns):\n",
      " #   Column    Dtype  \n",
      "---  ------    -----  \n",
      " 0   자전거번호     object \n",
      " 1   대여일시      object \n",
      " 2   대여 대여소번호  int64  \n",
      " 3   대여 대여소명   object \n",
      " 4   대여거치대     object \n",
      " 5   반납일시      object \n",
      " 6   반납대여소번호   object \n",
      " 7   반납대여소명    object \n",
      " 8   반납거치대     int64  \n",
      " 9   이용시간      float64\n",
      " 10  이용거리      float64\n",
      "dtypes: float64(2), int64(2), object(7)\n",
      "memory usage: 1.2+ GB\n"
     ]
    }
   ],
   "source": [
    "# 데이터 정보(사용메모리) \n",
    "df.info()"
   ]
  },
  {
   "cell_type": "markdown",
   "id": "d1306bfb",
   "metadata": {},
   "source": [
    "## 데이터 전처리"
   ]
  },
  {
   "cell_type": "markdown",
   "id": "dad37062",
   "metadata": {},
   "source": [
    "### 불필요한 컬럼 제거"
   ]
  },
  {
   "cell_type": "code",
   "execution_count": 11,
   "id": "731c760c",
   "metadata": {
    "scrolled": false
   },
   "outputs": [],
   "source": [
    "# 자전거번호, 대여거치대, 반납거치대 제거\n",
    "df.drop(columns = ['자전거번호', '대여거치대', '반납거치대'], inplace=True)"
   ]
  },
  {
   "cell_type": "code",
   "execution_count": 12,
   "id": "5e61327b",
   "metadata": {
    "scrolled": true
   },
   "outputs": [
    {
     "data": {
      "text/html": [
       "<div>\n",
       "<style scoped>\n",
       "    .dataframe tbody tr th:only-of-type {\n",
       "        vertical-align: middle;\n",
       "    }\n",
       "\n",
       "    .dataframe tbody tr th {\n",
       "        vertical-align: top;\n",
       "    }\n",
       "\n",
       "    .dataframe thead th {\n",
       "        text-align: right;\n",
       "    }\n",
       "</style>\n",
       "<table border=\"1\" class=\"dataframe\">\n",
       "  <thead>\n",
       "    <tr style=\"text-align: right;\">\n",
       "      <th></th>\n",
       "      <th>대여일시</th>\n",
       "      <th>대여 대여소번호</th>\n",
       "      <th>대여 대여소명</th>\n",
       "      <th>반납일시</th>\n",
       "      <th>반납대여소번호</th>\n",
       "      <th>반납대여소명</th>\n",
       "      <th>이용시간</th>\n",
       "      <th>이용거리</th>\n",
       "    </tr>\n",
       "  </thead>\n",
       "  <tbody>\n",
       "    <tr>\n",
       "      <th>0</th>\n",
       "      <td>2021-01-02 20:50:36</td>\n",
       "      <td>3</td>\n",
       "      <td>중랑센터</td>\n",
       "      <td>2021-01-02 21:15:41</td>\n",
       "      <td>668</td>\n",
       "      <td>서울축산농협(장안지점)</td>\n",
       "      <td>25.0</td>\n",
       "      <td>0.00</td>\n",
       "    </tr>\n",
       "    <tr>\n",
       "      <th>1</th>\n",
       "      <td>2021-01-04 16:02:12</td>\n",
       "      <td>3</td>\n",
       "      <td>중랑센터</td>\n",
       "      <td>2021-01-04 16:17:06</td>\n",
       "      <td>668</td>\n",
       "      <td>서울축산농협(장안지점)</td>\n",
       "      <td>14.0</td>\n",
       "      <td>0.00</td>\n",
       "    </tr>\n",
       "    <tr>\n",
       "      <th>2</th>\n",
       "      <td>2021-01-13 21:02:05</td>\n",
       "      <td>3</td>\n",
       "      <td>중랑센터</td>\n",
       "      <td>2021-01-13 21:14:04</td>\n",
       "      <td>668</td>\n",
       "      <td>서울축산농협(장안지점)</td>\n",
       "      <td>11.0</td>\n",
       "      <td>1853.99</td>\n",
       "    </tr>\n",
       "    <tr>\n",
       "      <th>3</th>\n",
       "      <td>2021-01-14 21:02:55</td>\n",
       "      <td>3</td>\n",
       "      <td>중랑센터</td>\n",
       "      <td>2021-01-14 21:13:41</td>\n",
       "      <td>668</td>\n",
       "      <td>서울축산농협(장안지점)</td>\n",
       "      <td>10.0</td>\n",
       "      <td>0.00</td>\n",
       "    </tr>\n",
       "    <tr>\n",
       "      <th>4</th>\n",
       "      <td>2021-01-18 18:02:08</td>\n",
       "      <td>3</td>\n",
       "      <td>중랑센터</td>\n",
       "      <td>2021-01-18 18:15:22</td>\n",
       "      <td>540</td>\n",
       "      <td>군자역 7번출구 베스트샵 앞</td>\n",
       "      <td>13.0</td>\n",
       "      <td>2291.05</td>\n",
       "    </tr>\n",
       "  </tbody>\n",
       "</table>\n",
       "</div>"
      ],
      "text/plain": [
       "                  대여일시  대여 대여소번호 대여 대여소명                 반납일시 반납대여소번호  \\\n",
       "0  2021-01-02 20:50:36         3    중랑센터  2021-01-02 21:15:41     668   \n",
       "1  2021-01-04 16:02:12         3    중랑센터  2021-01-04 16:17:06     668   \n",
       "2  2021-01-13 21:02:05         3    중랑센터  2021-01-13 21:14:04     668   \n",
       "3  2021-01-14 21:02:55         3    중랑센터  2021-01-14 21:13:41     668   \n",
       "4  2021-01-18 18:02:08         3    중랑센터  2021-01-18 18:15:22     540   \n",
       "\n",
       "            반납대여소명  이용시간     이용거리  \n",
       "0     서울축산농협(장안지점)  25.0     0.00  \n",
       "1     서울축산농협(장안지점)  14.0     0.00  \n",
       "2     서울축산농협(장안지점)  11.0  1853.99  \n",
       "3     서울축산농협(장안지점)  10.0     0.00  \n",
       "4  군자역 7번출구 베스트샵 앞  13.0  2291.05  "
      ]
     },
     "execution_count": 12,
     "metadata": {},
     "output_type": "execute_result"
    }
   ],
   "source": [
    "df.head()"
   ]
  },
  {
   "cell_type": "markdown",
   "id": "f6f9c487",
   "metadata": {},
   "source": [
    "### 자료형 확인/변경"
   ]
  },
  {
   "cell_type": "code",
   "execution_count": 13,
   "id": "64c14609",
   "metadata": {
    "scrolled": true
   },
   "outputs": [
    {
     "data": {
      "text/plain": [
       "대여일시         object\n",
       "대여 대여소번호      int64\n",
       "대여 대여소명      object\n",
       "반납일시         object\n",
       "반납대여소번호      object\n",
       "반납대여소명       object\n",
       "이용시간        float64\n",
       "이용거리        float64\n",
       "dtype: object"
      ]
     },
     "execution_count": 13,
     "metadata": {},
     "output_type": "execute_result"
    }
   ],
   "source": [
    "# 자료형 확인\n",
    "df.dtypes"
   ]
  },
  {
   "cell_type": "code",
   "execution_count": 14,
   "id": "4a07ff19",
   "metadata": {},
   "outputs": [],
   "source": [
    "# 카테고리형으로 변경  :    대여 대여소번호, 반납대여소번호\n",
    "df['대여 대여소번호'] = df['대여 대여소번호'].astype('category')\n",
    "df['반납대여소번호'] = df['반납대여소번호'].astype('category')"
   ]
  },
  {
   "cell_type": "code",
   "execution_count": 15,
   "id": "ec9fa79f",
   "metadata": {},
   "outputs": [
    {
     "data": {
      "text/plain": [
       "대여일시          object\n",
       "대여 대여소번호    category\n",
       "대여 대여소명       object\n",
       "반납일시          object\n",
       "반납대여소번호     category\n",
       "반납대여소명        object\n",
       "이용시간         float64\n",
       "이용거리         float64\n",
       "dtype: object"
      ]
     },
     "execution_count": 15,
     "metadata": {},
     "output_type": "execute_result"
    }
   ],
   "source": [
    "df.dtypes"
   ]
  },
  {
   "cell_type": "code",
   "execution_count": 16,
   "id": "d393a62d",
   "metadata": {},
   "outputs": [
    {
     "name": "stdout",
     "output_type": "stream",
     "text": [
      "<class 'pandas.core.frame.DataFrame'>\n",
      "Int64Index: 13613873 entries, 0 to 3445943\n",
      "Data columns (total 8 columns):\n",
      " #   Column    Dtype   \n",
      "---  ------    -----   \n",
      " 0   대여일시      object  \n",
      " 1   대여 대여소번호  category\n",
      " 2   대여 대여소명   object  \n",
      " 3   반납일시      object  \n",
      " 4   반납대여소번호   category\n",
      " 5   반납대여소명    object  \n",
      " 6   이용시간      float64 \n",
      " 7   이용거리      float64 \n",
      "dtypes: category(2), float64(2), object(4)\n",
      "memory usage: 779.2+ MB\n"
     ]
    }
   ],
   "source": [
    "# 메모리 용량 확인\n",
    "df.info()"
   ]
  },
  {
   "cell_type": "code",
   "execution_count": 17,
   "id": "03254d7a",
   "metadata": {},
   "outputs": [
    {
     "data": {
      "text/plain": [
       "0         2021-01-02 20:50:36\n",
       "1         2021-01-04 16:02:12\n",
       "2         2021-01-13 21:02:05\n",
       "3         2021-01-14 21:02:55\n",
       "4         2021-01-18 18:02:08\n",
       "                  ...        \n",
       "3445939   2021-06-30 22:44:14\n",
       "3445940   2021-06-30 22:45:19\n",
       "3445941   2021-06-30 22:43:43\n",
       "3445942   2021-06-30 22:11:14\n",
       "3445943   2021-06-30 22:12:10\n",
       "Name: 대여일시, Length: 13613873, dtype: datetime64[ns]"
      ]
     },
     "execution_count": 17,
     "metadata": {},
     "output_type": "execute_result"
    }
   ],
   "source": [
    "# datetime형으로 변경 : 대여일시,반납일시\n",
    "pd.to_datetime(df['대여일시'])"
   ]
  },
  {
   "cell_type": "code",
   "execution_count": 18,
   "id": "7150d8c6",
   "metadata": {},
   "outputs": [],
   "source": [
    "df['대여일시'] = pd.to_datetime(df['대여일시'])"
   ]
  },
  {
   "cell_type": "code",
   "execution_count": 19,
   "id": "c7086e60",
   "metadata": {},
   "outputs": [],
   "source": [
    "df['반납일시'] = pd.to_datetime(df['반납일시'], errors='coerce')"
   ]
  },
  {
   "cell_type": "raw",
   "id": "09135a95",
   "metadata": {},
   "source": [
    "errors : {'ignore', 'raise', 'coerce'}, default 'raise'\n",
    "    - If :const:`'raise'`, then invalid parsing will raise an exception.\n",
    "    - If :const:`'coerce'`, then invalid parsing will be set as :const:`NaT`.\n",
    "    - If :const:`'ignore'`, then invalid parsing will return the input."
   ]
  },
  {
   "cell_type": "code",
   "execution_count": 20,
   "id": "2487f578",
   "metadata": {},
   "outputs": [
    {
     "data": {
      "text/plain": [
       "대여일시        datetime64[ns]\n",
       "대여 대여소번호          category\n",
       "대여 대여소명             object\n",
       "반납일시        datetime64[ns]\n",
       "반납대여소번호           category\n",
       "반납대여소명              object\n",
       "이용시간               float64\n",
       "이용거리               float64\n",
       "dtype: object"
      ]
     },
     "execution_count": 20,
     "metadata": {},
     "output_type": "execute_result"
    }
   ],
   "source": [
    "# 자료형 변경 확인\n",
    "df.dtypes"
   ]
  },
  {
   "cell_type": "markdown",
   "id": "09f83d6e",
   "metadata": {},
   "source": [
    "## 결측치 확인/처리"
   ]
  },
  {
   "cell_type": "code",
   "execution_count": 21,
   "id": "959646d5",
   "metadata": {
    "scrolled": true
   },
   "outputs": [
    {
     "data": {
      "text/plain": [
       "대여일시          0\n",
       "대여 대여소번호      0\n",
       "대여 대여소명       0\n",
       "반납일시        123\n",
       "반납대여소번호       0\n",
       "반납대여소명        0\n",
       "이용시간          0\n",
       "이용거리        269\n",
       "dtype: int64"
      ]
     },
     "execution_count": 21,
     "metadata": {},
     "output_type": "execute_result"
    }
   ],
   "source": [
    "# 결측치 확인\n",
    "df.isnull().sum()"
   ]
  },
  {
   "cell_type": "code",
   "execution_count": 22,
   "id": "c3f86ab7",
   "metadata": {},
   "outputs": [],
   "source": [
    "# 결측치 제거\n",
    "\n",
    "df.dropna(inplace=True)"
   ]
  },
  {
   "cell_type": "code",
   "execution_count": 23,
   "id": "3ac838ae",
   "metadata": {
    "scrolled": true
   },
   "outputs": [
    {
     "data": {
      "text/plain": [
       "대여일시        0\n",
       "대여 대여소번호    0\n",
       "대여 대여소명     0\n",
       "반납일시        0\n",
       "반납대여소번호     0\n",
       "반납대여소명      0\n",
       "이용시간        0\n",
       "이용거리        0\n",
       "dtype: int64"
      ]
     },
     "execution_count": 23,
     "metadata": {},
     "output_type": "execute_result"
    }
   ],
   "source": [
    "# 결측치 확인\n",
    "df.isnull().sum()"
   ]
  },
  {
   "cell_type": "markdown",
   "id": "f5c4c49c",
   "metadata": {},
   "source": [
    "# 일별 이용 현황"
   ]
  },
  {
   "cell_type": "markdown",
   "id": "784d5eb4",
   "metadata": {},
   "source": [
    "## 대여날짜 컬럼 추가\n",
    "* date"
   ]
  },
  {
   "cell_type": "code",
   "execution_count": 24,
   "id": "20f7e831",
   "metadata": {
    "scrolled": false
   },
   "outputs": [
    {
     "data": {
      "text/html": [
       "<div>\n",
       "<style scoped>\n",
       "    .dataframe tbody tr th:only-of-type {\n",
       "        vertical-align: middle;\n",
       "    }\n",
       "\n",
       "    .dataframe tbody tr th {\n",
       "        vertical-align: top;\n",
       "    }\n",
       "\n",
       "    .dataframe thead th {\n",
       "        text-align: right;\n",
       "    }\n",
       "</style>\n",
       "<table border=\"1\" class=\"dataframe\">\n",
       "  <thead>\n",
       "    <tr style=\"text-align: right;\">\n",
       "      <th></th>\n",
       "      <th>대여일시</th>\n",
       "      <th>대여 대여소번호</th>\n",
       "      <th>대여 대여소명</th>\n",
       "      <th>반납일시</th>\n",
       "      <th>반납대여소번호</th>\n",
       "      <th>반납대여소명</th>\n",
       "      <th>이용시간</th>\n",
       "      <th>이용거리</th>\n",
       "    </tr>\n",
       "  </thead>\n",
       "  <tbody>\n",
       "    <tr>\n",
       "      <th>0</th>\n",
       "      <td>2021-01-02 20:50:36</td>\n",
       "      <td>3</td>\n",
       "      <td>중랑센터</td>\n",
       "      <td>2021-01-02 21:15:41</td>\n",
       "      <td>668</td>\n",
       "      <td>서울축산농협(장안지점)</td>\n",
       "      <td>25.0</td>\n",
       "      <td>0.00</td>\n",
       "    </tr>\n",
       "    <tr>\n",
       "      <th>1</th>\n",
       "      <td>2021-01-04 16:02:12</td>\n",
       "      <td>3</td>\n",
       "      <td>중랑센터</td>\n",
       "      <td>2021-01-04 16:17:06</td>\n",
       "      <td>668</td>\n",
       "      <td>서울축산농협(장안지점)</td>\n",
       "      <td>14.0</td>\n",
       "      <td>0.00</td>\n",
       "    </tr>\n",
       "    <tr>\n",
       "      <th>2</th>\n",
       "      <td>2021-01-13 21:02:05</td>\n",
       "      <td>3</td>\n",
       "      <td>중랑센터</td>\n",
       "      <td>2021-01-13 21:14:04</td>\n",
       "      <td>668</td>\n",
       "      <td>서울축산농협(장안지점)</td>\n",
       "      <td>11.0</td>\n",
       "      <td>1853.99</td>\n",
       "    </tr>\n",
       "    <tr>\n",
       "      <th>3</th>\n",
       "      <td>2021-01-14 21:02:55</td>\n",
       "      <td>3</td>\n",
       "      <td>중랑센터</td>\n",
       "      <td>2021-01-14 21:13:41</td>\n",
       "      <td>668</td>\n",
       "      <td>서울축산농협(장안지점)</td>\n",
       "      <td>10.0</td>\n",
       "      <td>0.00</td>\n",
       "    </tr>\n",
       "    <tr>\n",
       "      <th>4</th>\n",
       "      <td>2021-01-18 18:02:08</td>\n",
       "      <td>3</td>\n",
       "      <td>중랑센터</td>\n",
       "      <td>2021-01-18 18:15:22</td>\n",
       "      <td>540</td>\n",
       "      <td>군자역 7번출구 베스트샵 앞</td>\n",
       "      <td>13.0</td>\n",
       "      <td>2291.05</td>\n",
       "    </tr>\n",
       "  </tbody>\n",
       "</table>\n",
       "</div>"
      ],
      "text/plain": [
       "                 대여일시 대여 대여소번호 대여 대여소명                반납일시 반납대여소번호  \\\n",
       "0 2021-01-02 20:50:36        3    중랑센터 2021-01-02 21:15:41     668   \n",
       "1 2021-01-04 16:02:12        3    중랑센터 2021-01-04 16:17:06     668   \n",
       "2 2021-01-13 21:02:05        3    중랑센터 2021-01-13 21:14:04     668   \n",
       "3 2021-01-14 21:02:55        3    중랑센터 2021-01-14 21:13:41     668   \n",
       "4 2021-01-18 18:02:08        3    중랑센터 2021-01-18 18:15:22     540   \n",
       "\n",
       "            반납대여소명  이용시간     이용거리  \n",
       "0     서울축산농협(장안지점)  25.0     0.00  \n",
       "1     서울축산농협(장안지점)  14.0     0.00  \n",
       "2     서울축산농협(장안지점)  11.0  1853.99  \n",
       "3     서울축산농협(장안지점)  10.0     0.00  \n",
       "4  군자역 7번출구 베스트샵 앞  13.0  2291.05  "
      ]
     },
     "execution_count": 24,
     "metadata": {},
     "output_type": "execute_result"
    }
   ],
   "source": [
    "df.head(5)"
   ]
  },
  {
   "cell_type": "code",
   "execution_count": 25,
   "id": "97da15cf",
   "metadata": {
    "scrolled": false
   },
   "outputs": [
    {
     "data": {
      "text/plain": [
       "0          2021-01-02\n",
       "1          2021-01-04\n",
       "2          2021-01-13\n",
       "3          2021-01-14\n",
       "4          2021-01-18\n",
       "              ...    \n",
       "3445939    2021-06-30\n",
       "3445940    2021-06-30\n",
       "3445941    2021-06-30\n",
       "3445942    2021-06-30\n",
       "3445943    2021-06-30\n",
       "Name: 대여일시, Length: 13613604, dtype: object"
      ]
     },
     "execution_count": 25,
     "metadata": {},
     "output_type": "execute_result"
    }
   ],
   "source": [
    "df['대여일시'].dt.date"
   ]
  },
  {
   "cell_type": "code",
   "execution_count": 26,
   "id": "339854e7",
   "metadata": {},
   "outputs": [],
   "source": [
    "df['대여날짜'] = df['대여일시'].dt.date"
   ]
  },
  {
   "cell_type": "code",
   "execution_count": 27,
   "id": "fe38b2c1",
   "metadata": {},
   "outputs": [
    {
     "data": {
      "text/html": [
       "<div>\n",
       "<style scoped>\n",
       "    .dataframe tbody tr th:only-of-type {\n",
       "        vertical-align: middle;\n",
       "    }\n",
       "\n",
       "    .dataframe tbody tr th {\n",
       "        vertical-align: top;\n",
       "    }\n",
       "\n",
       "    .dataframe thead th {\n",
       "        text-align: right;\n",
       "    }\n",
       "</style>\n",
       "<table border=\"1\" class=\"dataframe\">\n",
       "  <thead>\n",
       "    <tr style=\"text-align: right;\">\n",
       "      <th></th>\n",
       "      <th>대여일시</th>\n",
       "      <th>대여 대여소번호</th>\n",
       "      <th>대여 대여소명</th>\n",
       "      <th>반납일시</th>\n",
       "      <th>반납대여소번호</th>\n",
       "      <th>반납대여소명</th>\n",
       "      <th>이용시간</th>\n",
       "      <th>이용거리</th>\n",
       "      <th>대여날짜</th>\n",
       "    </tr>\n",
       "  </thead>\n",
       "  <tbody>\n",
       "    <tr>\n",
       "      <th>0</th>\n",
       "      <td>2021-01-02 20:50:36</td>\n",
       "      <td>3</td>\n",
       "      <td>중랑센터</td>\n",
       "      <td>2021-01-02 21:15:41</td>\n",
       "      <td>668</td>\n",
       "      <td>서울축산농협(장안지점)</td>\n",
       "      <td>25.0</td>\n",
       "      <td>0.00</td>\n",
       "      <td>2021-01-02</td>\n",
       "    </tr>\n",
       "    <tr>\n",
       "      <th>1</th>\n",
       "      <td>2021-01-04 16:02:12</td>\n",
       "      <td>3</td>\n",
       "      <td>중랑센터</td>\n",
       "      <td>2021-01-04 16:17:06</td>\n",
       "      <td>668</td>\n",
       "      <td>서울축산농협(장안지점)</td>\n",
       "      <td>14.0</td>\n",
       "      <td>0.00</td>\n",
       "      <td>2021-01-04</td>\n",
       "    </tr>\n",
       "    <tr>\n",
       "      <th>2</th>\n",
       "      <td>2021-01-13 21:02:05</td>\n",
       "      <td>3</td>\n",
       "      <td>중랑센터</td>\n",
       "      <td>2021-01-13 21:14:04</td>\n",
       "      <td>668</td>\n",
       "      <td>서울축산농협(장안지점)</td>\n",
       "      <td>11.0</td>\n",
       "      <td>1853.99</td>\n",
       "      <td>2021-01-13</td>\n",
       "    </tr>\n",
       "  </tbody>\n",
       "</table>\n",
       "</div>"
      ],
      "text/plain": [
       "                 대여일시 대여 대여소번호 대여 대여소명                반납일시 반납대여소번호  \\\n",
       "0 2021-01-02 20:50:36        3    중랑센터 2021-01-02 21:15:41     668   \n",
       "1 2021-01-04 16:02:12        3    중랑센터 2021-01-04 16:17:06     668   \n",
       "2 2021-01-13 21:02:05        3    중랑센터 2021-01-13 21:14:04     668   \n",
       "\n",
       "         반납대여소명  이용시간     이용거리        대여날짜  \n",
       "0  서울축산농협(장안지점)  25.0     0.00  2021-01-02  \n",
       "1  서울축산농협(장안지점)  14.0     0.00  2021-01-04  \n",
       "2  서울축산농협(장안지점)  11.0  1853.99  2021-01-13  "
      ]
     },
     "execution_count": 27,
     "metadata": {},
     "output_type": "execute_result"
    }
   ],
   "source": [
    "df.head(3)"
   ]
  },
  {
   "cell_type": "markdown",
   "id": "482fd396",
   "metadata": {},
   "source": [
    "## 대여날짜 별 대여 건수\n",
    "* groupby\n",
    "* to_frame"
   ]
  },
  {
   "cell_type": "code",
   "execution_count": 28,
   "id": "ddef9ea5",
   "metadata": {
    "scrolled": true
   },
   "outputs": [
    {
     "data": {
      "text/html": [
       "<div>\n",
       "<style scoped>\n",
       "    .dataframe tbody tr th:only-of-type {\n",
       "        vertical-align: middle;\n",
       "    }\n",
       "\n",
       "    .dataframe tbody tr th {\n",
       "        vertical-align: top;\n",
       "    }\n",
       "\n",
       "    .dataframe thead th {\n",
       "        text-align: right;\n",
       "    }\n",
       "</style>\n",
       "<table border=\"1\" class=\"dataframe\">\n",
       "  <thead>\n",
       "    <tr style=\"text-align: right;\">\n",
       "      <th></th>\n",
       "      <th>대여일시</th>\n",
       "    </tr>\n",
       "    <tr>\n",
       "      <th>대여날짜</th>\n",
       "      <th></th>\n",
       "    </tr>\n",
       "  </thead>\n",
       "  <tbody>\n",
       "    <tr>\n",
       "      <th>2021-01-01</th>\n",
       "      <td>22119</td>\n",
       "    </tr>\n",
       "    <tr>\n",
       "      <th>2021-01-02</th>\n",
       "      <td>23463</td>\n",
       "    </tr>\n",
       "    <tr>\n",
       "      <th>2021-01-03</th>\n",
       "      <td>21656</td>\n",
       "    </tr>\n",
       "    <tr>\n",
       "      <th>2021-01-04</th>\n",
       "      <td>32732</td>\n",
       "    </tr>\n",
       "    <tr>\n",
       "      <th>2021-01-05</th>\n",
       "      <td>28819</td>\n",
       "    </tr>\n",
       "    <tr>\n",
       "      <th>...</th>\n",
       "      <td>...</td>\n",
       "    </tr>\n",
       "    <tr>\n",
       "      <th>2021-06-26</th>\n",
       "      <td>105414</td>\n",
       "    </tr>\n",
       "    <tr>\n",
       "      <th>2021-06-27</th>\n",
       "      <td>92486</td>\n",
       "    </tr>\n",
       "    <tr>\n",
       "      <th>2021-06-28</th>\n",
       "      <td>105882</td>\n",
       "    </tr>\n",
       "    <tr>\n",
       "      <th>2021-06-29</th>\n",
       "      <td>111436</td>\n",
       "    </tr>\n",
       "    <tr>\n",
       "      <th>2021-06-30</th>\n",
       "      <td>121632</td>\n",
       "    </tr>\n",
       "  </tbody>\n",
       "</table>\n",
       "<p>181 rows × 1 columns</p>\n",
       "</div>"
      ],
      "text/plain": [
       "              대여일시\n",
       "대여날짜              \n",
       "2021-01-01   22119\n",
       "2021-01-02   23463\n",
       "2021-01-03   21656\n",
       "2021-01-04   32732\n",
       "2021-01-05   28819\n",
       "...            ...\n",
       "2021-06-26  105414\n",
       "2021-06-27   92486\n",
       "2021-06-28  105882\n",
       "2021-06-29  111436\n",
       "2021-06-30  121632\n",
       "\n",
       "[181 rows x 1 columns]"
      ]
     },
     "execution_count": 28,
     "metadata": {},
     "output_type": "execute_result"
    }
   ],
   "source": [
    "# 대여날짜 별 대여건수 추출\n",
    "df.groupby('대여날짜').대여일시.count().to_frame()"
   ]
  },
  {
   "cell_type": "code",
   "execution_count": 29,
   "id": "131f3f5b",
   "metadata": {},
   "outputs": [],
   "source": [
    "df_count = df.groupby('대여날짜').대여일시.count().to_frame()"
   ]
  },
  {
   "cell_type": "code",
   "execution_count": 30,
   "id": "b8fea5d8",
   "metadata": {},
   "outputs": [
    {
     "data": {
      "text/html": [
       "<div>\n",
       "<style scoped>\n",
       "    .dataframe tbody tr th:only-of-type {\n",
       "        vertical-align: middle;\n",
       "    }\n",
       "\n",
       "    .dataframe tbody tr th {\n",
       "        vertical-align: top;\n",
       "    }\n",
       "\n",
       "    .dataframe thead th {\n",
       "        text-align: right;\n",
       "    }\n",
       "</style>\n",
       "<table border=\"1\" class=\"dataframe\">\n",
       "  <thead>\n",
       "    <tr style=\"text-align: right;\">\n",
       "      <th></th>\n",
       "      <th>대여일시</th>\n",
       "    </tr>\n",
       "    <tr>\n",
       "      <th>대여날짜</th>\n",
       "      <th></th>\n",
       "    </tr>\n",
       "  </thead>\n",
       "  <tbody>\n",
       "    <tr>\n",
       "      <th>2021-01-01</th>\n",
       "      <td>22119</td>\n",
       "    </tr>\n",
       "    <tr>\n",
       "      <th>2021-01-02</th>\n",
       "      <td>23463</td>\n",
       "    </tr>\n",
       "    <tr>\n",
       "      <th>2021-01-03</th>\n",
       "      <td>21656</td>\n",
       "    </tr>\n",
       "    <tr>\n",
       "      <th>2021-01-04</th>\n",
       "      <td>32732</td>\n",
       "    </tr>\n",
       "    <tr>\n",
       "      <th>2021-01-05</th>\n",
       "      <td>28819</td>\n",
       "    </tr>\n",
       "  </tbody>\n",
       "</table>\n",
       "</div>"
      ],
      "text/plain": [
       "             대여일시\n",
       "대여날짜             \n",
       "2021-01-01  22119\n",
       "2021-01-02  23463\n",
       "2021-01-03  21656\n",
       "2021-01-04  32732\n",
       "2021-01-05  28819"
      ]
     },
     "execution_count": 30,
     "metadata": {},
     "output_type": "execute_result"
    }
   ],
   "source": [
    "df_count.head()"
   ]
  },
  {
   "cell_type": "code",
   "execution_count": 31,
   "id": "a3500dc9",
   "metadata": {},
   "outputs": [],
   "source": [
    "df_count.rename(columns={'대여일시':'대여건수'}, inplace=True)"
   ]
  },
  {
   "cell_type": "code",
   "execution_count": 32,
   "id": "36f86db4",
   "metadata": {},
   "outputs": [
    {
     "data": {
      "text/html": [
       "<div>\n",
       "<style scoped>\n",
       "    .dataframe tbody tr th:only-of-type {\n",
       "        vertical-align: middle;\n",
       "    }\n",
       "\n",
       "    .dataframe tbody tr th {\n",
       "        vertical-align: top;\n",
       "    }\n",
       "\n",
       "    .dataframe thead th {\n",
       "        text-align: right;\n",
       "    }\n",
       "</style>\n",
       "<table border=\"1\" class=\"dataframe\">\n",
       "  <thead>\n",
       "    <tr style=\"text-align: right;\">\n",
       "      <th></th>\n",
       "      <th>대여건수</th>\n",
       "    </tr>\n",
       "    <tr>\n",
       "      <th>대여날짜</th>\n",
       "      <th></th>\n",
       "    </tr>\n",
       "  </thead>\n",
       "  <tbody>\n",
       "    <tr>\n",
       "      <th>2021-01-01</th>\n",
       "      <td>22119</td>\n",
       "    </tr>\n",
       "    <tr>\n",
       "      <th>2021-01-02</th>\n",
       "      <td>23463</td>\n",
       "    </tr>\n",
       "    <tr>\n",
       "      <th>2021-01-03</th>\n",
       "      <td>21656</td>\n",
       "    </tr>\n",
       "    <tr>\n",
       "      <th>2021-01-04</th>\n",
       "      <td>32732</td>\n",
       "    </tr>\n",
       "    <tr>\n",
       "      <th>2021-01-05</th>\n",
       "      <td>28819</td>\n",
       "    </tr>\n",
       "  </tbody>\n",
       "</table>\n",
       "</div>"
      ],
      "text/plain": [
       "             대여건수\n",
       "대여날짜             \n",
       "2021-01-01  22119\n",
       "2021-01-02  23463\n",
       "2021-01-03  21656\n",
       "2021-01-04  32732\n",
       "2021-01-05  28819"
      ]
     },
     "execution_count": 32,
     "metadata": {},
     "output_type": "execute_result"
    }
   ],
   "source": [
    "df_count.head()"
   ]
  },
  {
   "cell_type": "code",
   "execution_count": 33,
   "id": "6ca2a9ab",
   "metadata": {},
   "outputs": [],
   "source": [
    "# 대여날짜 별 대여건수 시각화"
   ]
  },
  {
   "cell_type": "code",
   "execution_count": 34,
   "id": "4a1ec4d9",
   "metadata": {
    "scrolled": true
   },
   "outputs": [
    {
     "data": {
      "text/plain": [
       "Index([2021-01-01, 2021-01-02, 2021-01-03, 2021-01-04, 2021-01-05, 2021-01-06,\n",
       "       2021-01-07, 2021-01-08, 2021-01-09, 2021-01-10,\n",
       "       ...\n",
       "       2021-06-21, 2021-06-22, 2021-06-23, 2021-06-24, 2021-06-25, 2021-06-26,\n",
       "       2021-06-27, 2021-06-28, 2021-06-29, 2021-06-30],\n",
       "      dtype='object', name='대여날짜', length=181)"
      ]
     },
     "execution_count": 34,
     "metadata": {},
     "output_type": "execute_result"
    }
   ],
   "source": [
    "df_count.index"
   ]
  },
  {
   "cell_type": "code",
   "execution_count": 35,
   "id": "b595a2ff",
   "metadata": {},
   "outputs": [],
   "source": [
    "df_count_rental = df_count['대여건수']"
   ]
  },
  {
   "cell_type": "code",
   "execution_count": 36,
   "id": "c85a5842",
   "metadata": {},
   "outputs": [
    {
     "data": {
      "image/png": "[encoded data removed]",
      "text/plain": [
       "<Figure size 432x288 with 1 Axes>"
      ]
     },
     "metadata": {
      "needs_background": "light"
     },
     "output_type": "display_data"
    }
   ],
   "source": [
    "plt.plot(df_count.index, df_count_rental)\n",
    "plt.title('서울시 공공자전거 대여 날짜별 대여건수(2021.01.01~06.30)')\n",
    "plt.show()"
   ]
  },
  {
   "cell_type": "markdown",
   "id": "83c0ac75",
   "metadata": {},
   "source": [
    "## 대여날짜 별 이용시간\n",
    "* groupby\n",
    "* to_frame"
   ]
  },
  {
   "cell_type": "code",
   "execution_count": 37,
   "id": "3538de01",
   "metadata": {},
   "outputs": [
    {
     "data": {
      "text/html": [
       "<div>\n",
       "<style scoped>\n",
       "    .dataframe tbody tr th:only-of-type {\n",
       "        vertical-align: middle;\n",
       "    }\n",
       "\n",
       "    .dataframe tbody tr th {\n",
       "        vertical-align: top;\n",
       "    }\n",
       "\n",
       "    .dataframe thead th {\n",
       "        text-align: right;\n",
       "    }\n",
       "</style>\n",
       "<table border=\"1\" class=\"dataframe\">\n",
       "  <thead>\n",
       "    <tr style=\"text-align: right;\">\n",
       "      <th></th>\n",
       "      <th>이용시간</th>\n",
       "    </tr>\n",
       "    <tr>\n",
       "      <th>대여날짜</th>\n",
       "      <th></th>\n",
       "    </tr>\n",
       "  </thead>\n",
       "  <tbody>\n",
       "    <tr>\n",
       "      <th>2021-01-01</th>\n",
       "      <td>692309.0</td>\n",
       "    </tr>\n",
       "    <tr>\n",
       "      <th>2021-01-02</th>\n",
       "      <td>686580.0</td>\n",
       "    </tr>\n",
       "    <tr>\n",
       "      <th>2021-01-03</th>\n",
       "      <td>609571.0</td>\n",
       "    </tr>\n",
       "    <tr>\n",
       "      <th>2021-01-04</th>\n",
       "      <td>750721.0</td>\n",
       "    </tr>\n",
       "    <tr>\n",
       "      <th>2021-01-05</th>\n",
       "      <td>610227.0</td>\n",
       "    </tr>\n",
       "    <tr>\n",
       "      <th>...</th>\n",
       "      <td>...</td>\n",
       "    </tr>\n",
       "    <tr>\n",
       "      <th>2021-06-26</th>\n",
       "      <td>3168288.0</td>\n",
       "    </tr>\n",
       "    <tr>\n",
       "      <th>2021-06-27</th>\n",
       "      <td>2706168.0</td>\n",
       "    </tr>\n",
       "    <tr>\n",
       "      <th>2021-06-28</th>\n",
       "      <td>2405249.0</td>\n",
       "    </tr>\n",
       "    <tr>\n",
       "      <th>2021-06-29</th>\n",
       "      <td>2530020.0</td>\n",
       "    </tr>\n",
       "    <tr>\n",
       "      <th>2021-06-30</th>\n",
       "      <td>2950342.0</td>\n",
       "    </tr>\n",
       "  </tbody>\n",
       "</table>\n",
       "<p>181 rows × 1 columns</p>\n",
       "</div>"
      ],
      "text/plain": [
       "                 이용시간\n",
       "대여날짜                 \n",
       "2021-01-01   692309.0\n",
       "2021-01-02   686580.0\n",
       "2021-01-03   609571.0\n",
       "2021-01-04   750721.0\n",
       "2021-01-05   610227.0\n",
       "...               ...\n",
       "2021-06-26  3168288.0\n",
       "2021-06-27  2706168.0\n",
       "2021-06-28  2405249.0\n",
       "2021-06-29  2530020.0\n",
       "2021-06-30  2950342.0\n",
       "\n",
       "[181 rows x 1 columns]"
      ]
     },
     "execution_count": 37,
     "metadata": {},
     "output_type": "execute_result"
    }
   ],
   "source": [
    "# 대여날짜 별 이용시간 추출\n",
    "df.groupby('대여날짜')['이용시간'].sum().to_frame()"
   ]
  },
  {
   "cell_type": "code",
   "execution_count": 38,
   "id": "5fb5f17f",
   "metadata": {},
   "outputs": [],
   "source": [
    "# 대여날짜 별 이용시간 추출\n",
    "df_time = df.groupby('대여날짜')['이용시간'].sum().to_frame()"
   ]
  },
  {
   "cell_type": "code",
   "execution_count": 39,
   "id": "3a8fa8a6",
   "metadata": {},
   "outputs": [
    {
     "data": {
      "text/plain": [
       "Index([2021-01-01, 2021-01-02, 2021-01-03, 2021-01-04, 2021-01-05, 2021-01-06,\n",
       "       2021-01-07, 2021-01-08, 2021-01-09, 2021-01-10,\n",
       "       ...\n",
       "       2021-06-21, 2021-06-22, 2021-06-23, 2021-06-24, 2021-06-25, 2021-06-26,\n",
       "       2021-06-27, 2021-06-28, 2021-06-29, 2021-06-30],\n",
       "      dtype='object', name='대여날짜', length=181)"
      ]
     },
     "execution_count": 39,
     "metadata": {},
     "output_type": "execute_result"
    }
   ],
   "source": [
    "df_time.index"
   ]
  },
  {
   "cell_type": "code",
   "execution_count": 40,
   "id": "1d2ba53c",
   "metadata": {
    "scrolled": true
   },
   "outputs": [
    {
     "data": {
      "image/png": "[encoded data removed]",
      "text/plain": [
       "<Figure size 432x288 with 1 Axes>"
      ]
     },
     "metadata": {
      "needs_background": "light"
     },
     "output_type": "display_data"
    }
   ],
   "source": [
    "# 대여날짜 별 이용시간 시각화\n",
    "plt.plot(df_time.index,df_time['이용시간'])\n",
    "plt.title('서울시 공공자전거 대여날짜별 이용시간(2021.01.01~06.30)')\n",
    "plt.show()"
   ]
  },
  {
   "cell_type": "markdown",
   "id": "68f59bec",
   "metadata": {},
   "source": [
    "## 대여날짜 별 이용 거리"
   ]
  },
  {
   "cell_type": "code",
   "execution_count": 64,
   "id": "a9dad299",
   "metadata": {
    "scrolled": false
   },
   "outputs": [
    {
     "data": {
      "text/html": [
       "<div>\n",
       "<style scoped>\n",
       "    .dataframe tbody tr th:only-of-type {\n",
       "        vertical-align: middle;\n",
       "    }\n",
       "\n",
       "    .dataframe tbody tr th {\n",
       "        vertical-align: top;\n",
       "    }\n",
       "\n",
       "    .dataframe thead th {\n",
       "        text-align: right;\n",
       "    }\n",
       "</style>\n",
       "<table border=\"1\" class=\"dataframe\">\n",
       "  <thead>\n",
       "    <tr style=\"text-align: right;\">\n",
       "      <th></th>\n",
       "      <th>이용거리</th>\n",
       "    </tr>\n",
       "    <tr>\n",
       "      <th>대여날짜</th>\n",
       "      <th></th>\n",
       "    </tr>\n",
       "  </thead>\n",
       "  <tbody>\n",
       "    <tr>\n",
       "      <th>2021-01-01</th>\n",
       "      <td>4.613529e+07</td>\n",
       "    </tr>\n",
       "    <tr>\n",
       "      <th>2021-01-02</th>\n",
       "      <td>4.409618e+07</td>\n",
       "    </tr>\n",
       "    <tr>\n",
       "      <th>2021-01-03</th>\n",
       "      <td>4.059830e+07</td>\n",
       "    </tr>\n",
       "    <tr>\n",
       "      <th>2021-01-04</th>\n",
       "      <td>5.249645e+07</td>\n",
       "    </tr>\n",
       "    <tr>\n",
       "      <th>2021-01-05</th>\n",
       "      <td>6.944856e+07</td>\n",
       "    </tr>\n",
       "    <tr>\n",
       "      <th>...</th>\n",
       "      <td>...</td>\n",
       "    </tr>\n",
       "    <tr>\n",
       "      <th>2021-06-26</th>\n",
       "      <td>3.635015e+08</td>\n",
       "    </tr>\n",
       "    <tr>\n",
       "      <th>2021-06-27</th>\n",
       "      <td>3.078146e+08</td>\n",
       "    </tr>\n",
       "    <tr>\n",
       "      <th>2021-06-28</th>\n",
       "      <td>2.828124e+08</td>\n",
       "    </tr>\n",
       "    <tr>\n",
       "      <th>2021-06-29</th>\n",
       "      <td>3.031029e+08</td>\n",
       "    </tr>\n",
       "    <tr>\n",
       "      <th>2021-06-30</th>\n",
       "      <td>3.395277e+08</td>\n",
       "    </tr>\n",
       "  </tbody>\n",
       "</table>\n",
       "<p>181 rows × 1 columns</p>\n",
       "</div>"
      ],
      "text/plain": [
       "                    이용거리\n",
       "대여날짜                    \n",
       "2021-01-01  4.613529e+07\n",
       "2021-01-02  4.409618e+07\n",
       "2021-01-03  4.059830e+07\n",
       "2021-01-04  5.249645e+07\n",
       "2021-01-05  6.944856e+07\n",
       "...                  ...\n",
       "2021-06-26  3.635015e+08\n",
       "2021-06-27  3.078146e+08\n",
       "2021-06-28  2.828124e+08\n",
       "2021-06-29  3.031029e+08\n",
       "2021-06-30  3.395277e+08\n",
       "\n",
       "[181 rows x 1 columns]"
      ]
     },
     "execution_count": 64,
     "metadata": {},
     "output_type": "execute_result"
    }
   ],
   "source": [
    "# 대여날짜 별 이용거리 추출\n",
    "df.groupby('대여날짜')['이용거리'].sum().to_frame()"
   ]
  },
  {
   "cell_type": "code",
   "execution_count": 65,
   "id": "8320eb4e",
   "metadata": {},
   "outputs": [],
   "source": [
    "df_distance = df.groupby('대여날짜')['이용거리'].sum().to_frame()"
   ]
  },
  {
   "cell_type": "code",
   "execution_count": 66,
   "id": "bc1cda84",
   "metadata": {
    "scrolled": false
   },
   "outputs": [
    {
     "data": {
      "image/png": "[encoded data removed]",
      "text/plain": [
       "<Figure size 432x288 with 1 Axes>"
      ]
     },
     "metadata": {
      "needs_background": "light"
     },
     "output_type": "display_data"
    }
   ],
   "source": [
    "# 대여날짜 별 이용거리 시각화\n",
    "\n",
    "plt.plot(df_distance.index, df_distance['이용거리'])\n",
    "plt.title('서울시 공공자전거 대여 날짜별 이용거리')\n",
    "plt.show()"
   ]
  },
  {
   "cell_type": "markdown",
   "id": "b25c9d74",
   "metadata": {},
   "source": [
    "## 데이터프레임 합치기"
   ]
  },
  {
   "cell_type": "code",
   "execution_count": 69,
   "id": "de73e2b3",
   "metadata": {},
   "outputs": [
    {
     "data": {
      "text/html": [
       "<div>\n",
       "<style scoped>\n",
       "    .dataframe tbody tr th:only-of-type {\n",
       "        vertical-align: middle;\n",
       "    }\n",
       "\n",
       "    .dataframe tbody tr th {\n",
       "        vertical-align: top;\n",
       "    }\n",
       "\n",
       "    .dataframe thead th {\n",
       "        text-align: right;\n",
       "    }\n",
       "</style>\n",
       "<table border=\"1\" class=\"dataframe\">\n",
       "  <thead>\n",
       "    <tr style=\"text-align: right;\">\n",
       "      <th></th>\n",
       "      <th>이용시간</th>\n",
       "      <th>이용거리</th>\n",
       "      <th>대여건수</th>\n",
       "    </tr>\n",
       "    <tr>\n",
       "      <th>대여날짜</th>\n",
       "      <th></th>\n",
       "      <th></th>\n",
       "      <th></th>\n",
       "    </tr>\n",
       "  </thead>\n",
       "  <tbody>\n",
       "    <tr>\n",
       "      <th>2021-01-01</th>\n",
       "      <td>692309.0</td>\n",
       "      <td>4.613529e+07</td>\n",
       "      <td>22119</td>\n",
       "    </tr>\n",
       "    <tr>\n",
       "      <th>2021-01-02</th>\n",
       "      <td>686580.0</td>\n",
       "      <td>4.409618e+07</td>\n",
       "      <td>23463</td>\n",
       "    </tr>\n",
       "    <tr>\n",
       "      <th>2021-01-03</th>\n",
       "      <td>609571.0</td>\n",
       "      <td>4.059830e+07</td>\n",
       "      <td>21656</td>\n",
       "    </tr>\n",
       "    <tr>\n",
       "      <th>2021-01-04</th>\n",
       "      <td>750721.0</td>\n",
       "      <td>5.249645e+07</td>\n",
       "      <td>32732</td>\n",
       "    </tr>\n",
       "    <tr>\n",
       "      <th>2021-01-05</th>\n",
       "      <td>610227.0</td>\n",
       "      <td>6.944856e+07</td>\n",
       "      <td>28819</td>\n",
       "    </tr>\n",
       "    <tr>\n",
       "      <th>...</th>\n",
       "      <td>...</td>\n",
       "      <td>...</td>\n",
       "      <td>...</td>\n",
       "    </tr>\n",
       "    <tr>\n",
       "      <th>2021-06-26</th>\n",
       "      <td>3168288.0</td>\n",
       "      <td>3.635015e+08</td>\n",
       "      <td>105414</td>\n",
       "    </tr>\n",
       "    <tr>\n",
       "      <th>2021-06-27</th>\n",
       "      <td>2706168.0</td>\n",
       "      <td>3.078146e+08</td>\n",
       "      <td>92486</td>\n",
       "    </tr>\n",
       "    <tr>\n",
       "      <th>2021-06-28</th>\n",
       "      <td>2405249.0</td>\n",
       "      <td>2.828124e+08</td>\n",
       "      <td>105882</td>\n",
       "    </tr>\n",
       "    <tr>\n",
       "      <th>2021-06-29</th>\n",
       "      <td>2530020.0</td>\n",
       "      <td>3.031029e+08</td>\n",
       "      <td>111436</td>\n",
       "    </tr>\n",
       "    <tr>\n",
       "      <th>2021-06-30</th>\n",
       "      <td>2950342.0</td>\n",
       "      <td>3.395277e+08</td>\n",
       "      <td>121632</td>\n",
       "    </tr>\n",
       "  </tbody>\n",
       "</table>\n",
       "<p>181 rows × 3 columns</p>\n",
       "</div>"
      ],
      "text/plain": [
       "                 이용시간          이용거리    대여건수\n",
       "대여날짜                                       \n",
       "2021-01-01   692309.0  4.613529e+07   22119\n",
       "2021-01-02   686580.0  4.409618e+07   23463\n",
       "2021-01-03   609571.0  4.059830e+07   21656\n",
       "2021-01-04   750721.0  5.249645e+07   32732\n",
       "2021-01-05   610227.0  6.944856e+07   28819\n",
       "...               ...           ...     ...\n",
       "2021-06-26  3168288.0  3.635015e+08  105414\n",
       "2021-06-27  2706168.0  3.078146e+08   92486\n",
       "2021-06-28  2405249.0  2.828124e+08  105882\n",
       "2021-06-29  2530020.0  3.031029e+08  111436\n",
       "2021-06-30  2950342.0  3.395277e+08  121632\n",
       "\n",
       "[181 rows x 3 columns]"
      ]
     },
     "execution_count": 69,
     "metadata": {},
     "output_type": "execute_result"
    }
   ],
   "source": [
    "pd.concat([df_time, df_distance,df_count], axis=1)"
   ]
  },
  {
   "cell_type": "code",
   "execution_count": 70,
   "id": "6d8daf4d",
   "metadata": {},
   "outputs": [],
   "source": [
    "df_date = pd.concat([df_time, df_distance,df_count], axis=1)"
   ]
  },
  {
   "cell_type": "markdown",
   "id": "da51253c",
   "metadata": {},
   "source": [
    "# 시간대별 대여/반납 현황"
   ]
  },
  {
   "cell_type": "markdown",
   "id": "c3b379c3",
   "metadata": {},
   "source": [
    "## 대여시간, 반납시간 컬럼 추가"
   ]
  },
  {
   "cell_type": "code",
   "execution_count": 71,
   "id": "7e063bc2",
   "metadata": {},
   "outputs": [],
   "source": [
    "df['대여시간']=df['대여일시'].dt.hour"
   ]
  },
  {
   "cell_type": "code",
   "execution_count": 72,
   "id": "14b9ad9e",
   "metadata": {},
   "outputs": [],
   "source": [
    "df['반납시간']=df['반납일시'].dt.hour"
   ]
  },
  {
   "cell_type": "code",
   "execution_count": 73,
   "id": "c84e1a21",
   "metadata": {},
   "outputs": [
    {
     "data": {
      "text/plain": [
       "대여일시        datetime64[ns]\n",
       "대여 대여소번호          category\n",
       "대여 대여소명             object\n",
       "반납일시        datetime64[ns]\n",
       "반납대여소번호           category\n",
       "반납대여소명              object\n",
       "이용시간               float64\n",
       "이용거리               float64\n",
       "대여날짜                object\n",
       "대여시간                 int64\n",
       "반납시간                 int64\n",
       "dtype: object"
      ]
     },
     "execution_count": 73,
     "metadata": {},
     "output_type": "execute_result"
    }
   ],
   "source": [
    "df.dtypes"
   ]
  },
  {
   "cell_type": "markdown",
   "id": "e22fc1a4",
   "metadata": {},
   "source": [
    "## 시간대별 대여/반납 현황"
   ]
  },
  {
   "cell_type": "code",
   "execution_count": 74,
   "id": "70c0dfa6",
   "metadata": {},
   "outputs": [
    {
     "data": {
      "text/html": [
       "<div>\n",
       "<style scoped>\n",
       "    .dataframe tbody tr th:only-of-type {\n",
       "        vertical-align: middle;\n",
       "    }\n",
       "\n",
       "    .dataframe tbody tr th {\n",
       "        vertical-align: top;\n",
       "    }\n",
       "\n",
       "    .dataframe thead th {\n",
       "        text-align: right;\n",
       "    }\n",
       "</style>\n",
       "<table border=\"1\" class=\"dataframe\">\n",
       "  <thead>\n",
       "    <tr style=\"text-align: right;\">\n",
       "      <th></th>\n",
       "      <th>대여일시</th>\n",
       "      <th>대여 대여소번호</th>\n",
       "      <th>대여 대여소명</th>\n",
       "      <th>반납일시</th>\n",
       "      <th>반납대여소번호</th>\n",
       "      <th>반납대여소명</th>\n",
       "      <th>이용시간</th>\n",
       "      <th>이용거리</th>\n",
       "      <th>대여날짜</th>\n",
       "      <th>대여시간</th>\n",
       "      <th>반납시간</th>\n",
       "    </tr>\n",
       "  </thead>\n",
       "  <tbody>\n",
       "    <tr>\n",
       "      <th>0</th>\n",
       "      <td>2021-01-02 20:50:36</td>\n",
       "      <td>3</td>\n",
       "      <td>중랑센터</td>\n",
       "      <td>2021-01-02 21:15:41</td>\n",
       "      <td>668</td>\n",
       "      <td>서울축산농협(장안지점)</td>\n",
       "      <td>25.0</td>\n",
       "      <td>0.00</td>\n",
       "      <td>2021-01-02</td>\n",
       "      <td>20</td>\n",
       "      <td>21</td>\n",
       "    </tr>\n",
       "    <tr>\n",
       "      <th>1</th>\n",
       "      <td>2021-01-04 16:02:12</td>\n",
       "      <td>3</td>\n",
       "      <td>중랑센터</td>\n",
       "      <td>2021-01-04 16:17:06</td>\n",
       "      <td>668</td>\n",
       "      <td>서울축산농협(장안지점)</td>\n",
       "      <td>14.0</td>\n",
       "      <td>0.00</td>\n",
       "      <td>2021-01-04</td>\n",
       "      <td>16</td>\n",
       "      <td>16</td>\n",
       "    </tr>\n",
       "    <tr>\n",
       "      <th>2</th>\n",
       "      <td>2021-01-13 21:02:05</td>\n",
       "      <td>3</td>\n",
       "      <td>중랑센터</td>\n",
       "      <td>2021-01-13 21:14:04</td>\n",
       "      <td>668</td>\n",
       "      <td>서울축산농협(장안지점)</td>\n",
       "      <td>11.0</td>\n",
       "      <td>1853.99</td>\n",
       "      <td>2021-01-13</td>\n",
       "      <td>21</td>\n",
       "      <td>21</td>\n",
       "    </tr>\n",
       "    <tr>\n",
       "      <th>3</th>\n",
       "      <td>2021-01-14 21:02:55</td>\n",
       "      <td>3</td>\n",
       "      <td>중랑센터</td>\n",
       "      <td>2021-01-14 21:13:41</td>\n",
       "      <td>668</td>\n",
       "      <td>서울축산농협(장안지점)</td>\n",
       "      <td>10.0</td>\n",
       "      <td>0.00</td>\n",
       "      <td>2021-01-14</td>\n",
       "      <td>21</td>\n",
       "      <td>21</td>\n",
       "    </tr>\n",
       "    <tr>\n",
       "      <th>4</th>\n",
       "      <td>2021-01-18 18:02:08</td>\n",
       "      <td>3</td>\n",
       "      <td>중랑센터</td>\n",
       "      <td>2021-01-18 18:15:22</td>\n",
       "      <td>540</td>\n",
       "      <td>군자역 7번출구 베스트샵 앞</td>\n",
       "      <td>13.0</td>\n",
       "      <td>2291.05</td>\n",
       "      <td>2021-01-18</td>\n",
       "      <td>18</td>\n",
       "      <td>18</td>\n",
       "    </tr>\n",
       "  </tbody>\n",
       "</table>\n",
       "</div>"
      ],
      "text/plain": [
       "                 대여일시 대여 대여소번호 대여 대여소명                반납일시 반납대여소번호  \\\n",
       "0 2021-01-02 20:50:36        3    중랑센터 2021-01-02 21:15:41     668   \n",
       "1 2021-01-04 16:02:12        3    중랑센터 2021-01-04 16:17:06     668   \n",
       "2 2021-01-13 21:02:05        3    중랑센터 2021-01-13 21:14:04     668   \n",
       "3 2021-01-14 21:02:55        3    중랑센터 2021-01-14 21:13:41     668   \n",
       "4 2021-01-18 18:02:08        3    중랑센터 2021-01-18 18:15:22     540   \n",
       "\n",
       "            반납대여소명  이용시간     이용거리        대여날짜  대여시간  반납시간  \n",
       "0     서울축산농협(장안지점)  25.0     0.00  2021-01-02    20    21  \n",
       "1     서울축산농협(장안지점)  14.0     0.00  2021-01-04    16    16  \n",
       "2     서울축산농협(장안지점)  11.0  1853.99  2021-01-13    21    21  \n",
       "3     서울축산농협(장안지점)  10.0     0.00  2021-01-14    21    21  \n",
       "4  군자역 7번출구 베스트샵 앞  13.0  2291.05  2021-01-18    18    18  "
      ]
     },
     "execution_count": 74,
     "metadata": {},
     "output_type": "execute_result"
    }
   ],
   "source": [
    "df.head()"
   ]
  },
  {
   "cell_type": "code",
   "execution_count": 83,
   "id": "cdd3b4d3",
   "metadata": {},
   "outputs": [
    {
     "data": {
      "text/plain": [
       "18    1432779\n",
       "17    1178279\n",
       "19     984476\n",
       "16     934211\n",
       "20     825031\n",
       "15     816040\n",
       "8      808506\n",
       "21     770378\n",
       "14     725175\n",
       "13     667237\n",
       "22     643611\n",
       "12     623065\n",
       "11     537810\n",
       "9      499995\n",
       "7      486775\n",
       "10     438084\n",
       "23     341859\n",
       "0      240025\n",
       "6      188920\n",
       "1      158905\n",
       "2      103629\n",
       "5       84713\n",
       "3       68710\n",
       "4       55391\n",
       "Name: 대여시간, dtype: int64"
      ]
     },
     "execution_count": 83,
     "metadata": {},
     "output_type": "execute_result"
    }
   ],
   "source": [
    "# 시간대별 대여현황\n",
    "df['대여시간'].value_counts()"
   ]
  },
  {
   "cell_type": "code",
   "execution_count": 84,
   "id": "e0059492",
   "metadata": {},
   "outputs": [],
   "source": [
    "# 시간대별 대여현황\n",
    "s_rental = df['대여시간'].value_counts()"
   ]
  },
  {
   "cell_type": "code",
   "execution_count": 85,
   "id": "01786216",
   "metadata": {},
   "outputs": [],
   "source": [
    "# 시간대별 반납현황\n",
    "s_return = df['반납시간'].value_counts()"
   ]
  },
  {
   "cell_type": "markdown",
   "id": "0a305d7d",
   "metadata": {},
   "source": [
    "## 시각화"
   ]
  },
  {
   "cell_type": "code",
   "execution_count": 86,
   "id": "82ec1764",
   "metadata": {
    "scrolled": false
   },
   "outputs": [
    {
     "data": {
      "text/plain": [
       "0      240025\n",
       "1      158905\n",
       "2      103629\n",
       "3       68710\n",
       "4       55391\n",
       "5       84713\n",
       "6      188920\n",
       "7      486775\n",
       "8      808506\n",
       "9      499995\n",
       "10     438084\n",
       "11     537810\n",
       "12     623065\n",
       "13     667237\n",
       "14     725175\n",
       "15     816040\n",
       "16     934211\n",
       "17    1178279\n",
       "18    1432779\n",
       "19     984476\n",
       "20     825031\n",
       "21     770378\n",
       "22     643611\n",
       "23     341859\n",
       "Name: 대여시간, dtype: int64"
      ]
     },
     "execution_count": 86,
     "metadata": {},
     "output_type": "execute_result"
    }
   ],
   "source": [
    "# 시간대별 공공자전거 대여건수 시각화\n",
    "s_rental = s_rental.sort_index()\n",
    "s_rental"
   ]
  },
  {
   "cell_type": "code",
   "execution_count": 87,
   "id": "f2f46b77",
   "metadata": {},
   "outputs": [
    {
     "data": {
      "image/png": "[encoded data removed]",
      "text/plain": [
       "<Figure size 432x288 with 1 Axes>"
      ]
     },
     "metadata": {
      "needs_background": "light"
     },
     "output_type": "display_data"
    }
   ],
   "source": [
    "x = s_rental.index\n",
    "y = s_rental.values\n",
    "\n",
    "plt.bar(x,y)\n",
    "plt.title('서울시 공공자전거 시간대별 대여건수')\n",
    "plt.xlabel('대여시간')\n",
    "plt.ylabel('대여건수')\n",
    "plt.show()"
   ]
  },
  {
   "cell_type": "code",
   "execution_count": 88,
   "id": "cad86da4",
   "metadata": {
    "scrolled": false
   },
   "outputs": [
    {
     "data": {
      "text/plain": [
       "0      290169\n",
       "1      190954\n",
       "2      125912\n",
       "3       80243\n",
       "4       60368\n",
       "5       73983\n",
       "6      152003\n",
       "7      389007\n",
       "8      817076\n",
       "9      499033\n",
       "10     402350\n",
       "11     470053\n",
       "12     591577\n",
       "13     628908\n",
       "14     657826\n",
       "15     749940\n",
       "16     880629\n",
       "17    1097623\n",
       "18    1437723\n",
       "19    1125447\n",
       "20     864644\n",
       "21     812357\n",
       "22     768302\n",
       "23     447477\n",
       "Name: 반납시간, dtype: int64"
      ]
     },
     "execution_count": 88,
     "metadata": {},
     "output_type": "execute_result"
    }
   ],
   "source": [
    "# 시간대별 공공자전거 반납건수 시각화\n",
    "\n",
    "s_return.sort_index()"
   ]
  },
  {
   "cell_type": "code",
   "execution_count": 90,
   "id": "f21be662",
   "metadata": {
    "scrolled": false
   },
   "outputs": [
    {
     "data": {
      "image/png": "[encoded data removed]",
      "text/plain": [
       "<Figure size 432x288 with 1 Axes>"
      ]
     },
     "metadata": {
      "needs_background": "light"
     },
     "output_type": "display_data"
    }
   ],
   "source": [
    "# 시간대별 공공자전거 반납건수 시각화\n",
    "\n",
    "s_return = s_return.sort_index()\n",
    "\n",
    "x = s_return.index\n",
    "y = s_return.values\n",
    "\n",
    "\n",
    "plt.bar(x,y)\n",
    "plt.title('서울시 공공자전거 시간대별 반납건수')\n",
    "plt.xlabel('반납시간')\n",
    "plt.ylabel('대여건수')\n",
    "plt.show()\n"
   ]
  },
  {
   "cell_type": "markdown",
   "id": "db5483b0",
   "metadata": {},
   "source": [
    "# 대여소별 대여/반납 현황"
   ]
  },
  {
   "cell_type": "markdown",
   "id": "b0bd86ec",
   "metadata": {},
   "source": [
    "## 대여소 현황"
   ]
  },
  {
   "cell_type": "code",
   "execution_count": 91,
   "id": "d2ed7827",
   "metadata": {
    "scrolled": true
   },
   "outputs": [
    {
     "data": {
      "text/html": [
       "<div>\n",
       "<style scoped>\n",
       "    .dataframe tbody tr th:only-of-type {\n",
       "        vertical-align: middle;\n",
       "    }\n",
       "\n",
       "    .dataframe tbody tr th {\n",
       "        vertical-align: top;\n",
       "    }\n",
       "\n",
       "    .dataframe thead th {\n",
       "        text-align: right;\n",
       "    }\n",
       "</style>\n",
       "<table border=\"1\" class=\"dataframe\">\n",
       "  <thead>\n",
       "    <tr style=\"text-align: right;\">\n",
       "      <th></th>\n",
       "      <th>대여일시</th>\n",
       "      <th>대여 대여소번호</th>\n",
       "      <th>대여 대여소명</th>\n",
       "      <th>반납일시</th>\n",
       "      <th>반납대여소번호</th>\n",
       "      <th>반납대여소명</th>\n",
       "      <th>이용시간</th>\n",
       "      <th>이용거리</th>\n",
       "      <th>대여날짜</th>\n",
       "      <th>대여시간</th>\n",
       "      <th>반납시간</th>\n",
       "    </tr>\n",
       "  </thead>\n",
       "  <tbody>\n",
       "    <tr>\n",
       "      <th>0</th>\n",
       "      <td>2021-01-02 20:50:36</td>\n",
       "      <td>3</td>\n",
       "      <td>중랑센터</td>\n",
       "      <td>2021-01-02 21:15:41</td>\n",
       "      <td>668</td>\n",
       "      <td>서울축산농협(장안지점)</td>\n",
       "      <td>25.0</td>\n",
       "      <td>0.00</td>\n",
       "      <td>2021-01-02</td>\n",
       "      <td>20</td>\n",
       "      <td>21</td>\n",
       "    </tr>\n",
       "    <tr>\n",
       "      <th>1</th>\n",
       "      <td>2021-01-04 16:02:12</td>\n",
       "      <td>3</td>\n",
       "      <td>중랑센터</td>\n",
       "      <td>2021-01-04 16:17:06</td>\n",
       "      <td>668</td>\n",
       "      <td>서울축산농협(장안지점)</td>\n",
       "      <td>14.0</td>\n",
       "      <td>0.00</td>\n",
       "      <td>2021-01-04</td>\n",
       "      <td>16</td>\n",
       "      <td>16</td>\n",
       "    </tr>\n",
       "    <tr>\n",
       "      <th>2</th>\n",
       "      <td>2021-01-13 21:02:05</td>\n",
       "      <td>3</td>\n",
       "      <td>중랑센터</td>\n",
       "      <td>2021-01-13 21:14:04</td>\n",
       "      <td>668</td>\n",
       "      <td>서울축산농협(장안지점)</td>\n",
       "      <td>11.0</td>\n",
       "      <td>1853.99</td>\n",
       "      <td>2021-01-13</td>\n",
       "      <td>21</td>\n",
       "      <td>21</td>\n",
       "    </tr>\n",
       "    <tr>\n",
       "      <th>3</th>\n",
       "      <td>2021-01-14 21:02:55</td>\n",
       "      <td>3</td>\n",
       "      <td>중랑센터</td>\n",
       "      <td>2021-01-14 21:13:41</td>\n",
       "      <td>668</td>\n",
       "      <td>서울축산농협(장안지점)</td>\n",
       "      <td>10.0</td>\n",
       "      <td>0.00</td>\n",
       "      <td>2021-01-14</td>\n",
       "      <td>21</td>\n",
       "      <td>21</td>\n",
       "    </tr>\n",
       "    <tr>\n",
       "      <th>4</th>\n",
       "      <td>2021-01-18 18:02:08</td>\n",
       "      <td>3</td>\n",
       "      <td>중랑센터</td>\n",
       "      <td>2021-01-18 18:15:22</td>\n",
       "      <td>540</td>\n",
       "      <td>군자역 7번출구 베스트샵 앞</td>\n",
       "      <td>13.0</td>\n",
       "      <td>2291.05</td>\n",
       "      <td>2021-01-18</td>\n",
       "      <td>18</td>\n",
       "      <td>18</td>\n",
       "    </tr>\n",
       "  </tbody>\n",
       "</table>\n",
       "</div>"
      ],
      "text/plain": [
       "                 대여일시 대여 대여소번호 대여 대여소명                반납일시 반납대여소번호  \\\n",
       "0 2021-01-02 20:50:36        3    중랑센터 2021-01-02 21:15:41     668   \n",
       "1 2021-01-04 16:02:12        3    중랑센터 2021-01-04 16:17:06     668   \n",
       "2 2021-01-13 21:02:05        3    중랑센터 2021-01-13 21:14:04     668   \n",
       "3 2021-01-14 21:02:55        3    중랑센터 2021-01-14 21:13:41     668   \n",
       "4 2021-01-18 18:02:08        3    중랑센터 2021-01-18 18:15:22     540   \n",
       "\n",
       "            반납대여소명  이용시간     이용거리        대여날짜  대여시간  반납시간  \n",
       "0     서울축산농협(장안지점)  25.0     0.00  2021-01-02    20    21  \n",
       "1     서울축산농협(장안지점)  14.0     0.00  2021-01-04    16    16  \n",
       "2     서울축산농협(장안지점)  11.0  1853.99  2021-01-13    21    21  \n",
       "3     서울축산농협(장안지점)  10.0     0.00  2021-01-14    21    21  \n",
       "4  군자역 7번출구 베스트샵 앞  13.0  2291.05  2021-01-18    18    18  "
      ]
     },
     "execution_count": 91,
     "metadata": {},
     "output_type": "execute_result"
    }
   ],
   "source": [
    "# 대여 대여소번호 갯수\n",
    "df.head()"
   ]
  },
  {
   "cell_type": "code",
   "execution_count": 92,
   "id": "79c451e1",
   "metadata": {},
   "outputs": [
    {
     "data": {
      "text/plain": [
       "0             3\n",
       "1             3\n",
       "2             3\n",
       "3             3\n",
       "4             3\n",
       "           ... \n",
       "3445939     152\n",
       "3445940     152\n",
       "3445941     152\n",
       "3445942    2220\n",
       "3445943    2220\n",
       "Name: 대여 대여소번호, Length: 13613604, dtype: category\n",
       "Categories (2493, int64): [3, 5, 10, 101, ..., 9999, 88888, 99997, 99999]"
      ]
     },
     "execution_count": 92,
     "metadata": {},
     "output_type": "execute_result"
    }
   ],
   "source": [
    "df['대여 대여소번호']"
   ]
  },
  {
   "cell_type": "code",
   "execution_count": 93,
   "id": "f3cad82c",
   "metadata": {
    "scrolled": true
   },
   "outputs": [
    {
     "data": {
      "text/plain": [
       "0            668\n",
       "1            668\n",
       "2            668\n",
       "3            668\n",
       "4            540\n",
       "           ...  \n",
       "3445939    00126\n",
       "3445940    00437\n",
       "3445941    00437\n",
       "3445942    02526\n",
       "3445943    02526\n",
       "Name: 반납대여소번호, Length: 13613604, dtype: category\n",
       "Categories (4811, object): [3, 10, 101, 102, ..., '화랑대역 2번출구 앞', '휘경sk뷰아파트 앞', '휘경여중고삼거리', '흑석역 4번출구']"
      ]
     },
     "execution_count": 93,
     "metadata": {},
     "output_type": "execute_result"
    }
   ],
   "source": [
    "# 반납대여소번호 갯수\n",
    "df['반납대여소번호']"
   ]
  },
  {
   "cell_type": "code",
   "execution_count": 94,
   "id": "0719fdd6",
   "metadata": {
    "scrolled": true
   },
   "outputs": [
    {
     "data": {
      "text/plain": [
       "0            668\n",
       "1            668\n",
       "2            668\n",
       "3            668\n",
       "4            540\n",
       "           ...  \n",
       "3445939    00126\n",
       "3445940    00437\n",
       "3445941    00437\n",
       "3445942    02526\n",
       "3445943    02526\n",
       "Name: 반납대여소번호, Length: 13613604, dtype: object"
      ]
     },
     "execution_count": 94,
     "metadata": {},
     "output_type": "execute_result"
    }
   ],
   "source": [
    "# 반납대여소 번호 처리 (str형으로 변환)\n",
    "df['반납대여소번호'].astype('str')"
   ]
  },
  {
   "cell_type": "code",
   "execution_count": 96,
   "id": "3c189dd3",
   "metadata": {},
   "outputs": [],
   "source": [
    "df['반납대여소번호'] = df['반납대여소번호'].astype('str')"
   ]
  },
  {
   "cell_type": "code",
   "execution_count": 97,
   "id": "78bfb89a",
   "metadata": {},
   "outputs": [
    {
     "data": {
      "text/plain": [
       "0           668\n",
       "1           668\n",
       "2           668\n",
       "3           668\n",
       "4           540\n",
       "           ... \n",
       "3445939     126\n",
       "3445940     437\n",
       "3445941     437\n",
       "3445942    2526\n",
       "3445943    2526\n",
       "Name: 반납대여소번호, Length: 13613604, dtype: object"
      ]
     },
     "execution_count": 97,
     "metadata": {},
     "output_type": "execute_result"
    }
   ],
   "source": [
    "# 반납대여소 번호 처리 (왼쪽의 '0' 제거)\n",
    "df['반납대여소번호'].str.lstrip('0')"
   ]
  },
  {
   "cell_type": "code",
   "execution_count": 98,
   "id": "18f40d32",
   "metadata": {},
   "outputs": [],
   "source": [
    "df['반납대여소번호'] = df['반납대여소번호'].str.lstrip('0')"
   ]
  },
  {
   "cell_type": "code",
   "execution_count": 99,
   "id": "30023227",
   "metadata": {
    "scrolled": true
   },
   "outputs": [
    {
     "data": {
      "text/plain": [
       "0           668\n",
       "1           668\n",
       "2           668\n",
       "3           668\n",
       "4           540\n",
       "           ... \n",
       "3445939     126\n",
       "3445940     437\n",
       "3445941     437\n",
       "3445942    2526\n",
       "3445943    2526\n",
       "Name: 반납대여소번호, Length: 13613604, dtype: int32"
      ]
     },
     "execution_count": 99,
     "metadata": {},
     "output_type": "execute_result"
    }
   ],
   "source": [
    "# 반납대여소 번호 처리 (int형으로 변환)\n",
    "df['반납대여소번호'].astype('int')"
   ]
  },
  {
   "cell_type": "code",
   "execution_count": 100,
   "id": "23f2b6fd",
   "metadata": {},
   "outputs": [],
   "source": [
    "df['반납대여소번호'] = df['반납대여소번호'].astype('int')"
   ]
  },
  {
   "cell_type": "code",
   "execution_count": 52,
   "id": "96c55adc",
   "metadata": {},
   "outputs": [],
   "source": [
    "# 반납대여소 번호 처리 (category형으로 변환)"
   ]
  },
  {
   "cell_type": "code",
   "execution_count": 101,
   "id": "bfd0872e",
   "metadata": {
    "scrolled": true
   },
   "outputs": [],
   "source": [
    "df['반납대여소번호'] = df['반납대여소번호'].astype('category')"
   ]
  },
  {
   "cell_type": "code",
   "execution_count": 103,
   "id": "363fc077",
   "metadata": {
    "scrolled": true
   },
   "outputs": [
    {
     "data": {
      "text/html": [
       "<div>\n",
       "<style scoped>\n",
       "    .dataframe tbody tr th:only-of-type {\n",
       "        vertical-align: middle;\n",
       "    }\n",
       "\n",
       "    .dataframe tbody tr th {\n",
       "        vertical-align: top;\n",
       "    }\n",
       "\n",
       "    .dataframe thead th {\n",
       "        text-align: right;\n",
       "    }\n",
       "</style>\n",
       "<table border=\"1\" class=\"dataframe\">\n",
       "  <thead>\n",
       "    <tr style=\"text-align: right;\">\n",
       "      <th></th>\n",
       "      <th>대여일시</th>\n",
       "      <th>대여 대여소번호</th>\n",
       "      <th>대여 대여소명</th>\n",
       "      <th>반납일시</th>\n",
       "      <th>반납대여소번호</th>\n",
       "      <th>반납대여소명</th>\n",
       "      <th>이용시간</th>\n",
       "      <th>이용거리</th>\n",
       "      <th>대여날짜</th>\n",
       "      <th>대여시간</th>\n",
       "      <th>반납시간</th>\n",
       "    </tr>\n",
       "  </thead>\n",
       "  <tbody>\n",
       "    <tr>\n",
       "      <th>0</th>\n",
       "      <td>2021-01-02 20:50:36</td>\n",
       "      <td>3</td>\n",
       "      <td>중랑센터</td>\n",
       "      <td>2021-01-02 21:15:41</td>\n",
       "      <td>668</td>\n",
       "      <td>서울축산농협(장안지점)</td>\n",
       "      <td>25.0</td>\n",
       "      <td>0.00</td>\n",
       "      <td>2021-01-02</td>\n",
       "      <td>20</td>\n",
       "      <td>21</td>\n",
       "    </tr>\n",
       "    <tr>\n",
       "      <th>1</th>\n",
       "      <td>2021-01-04 16:02:12</td>\n",
       "      <td>3</td>\n",
       "      <td>중랑센터</td>\n",
       "      <td>2021-01-04 16:17:06</td>\n",
       "      <td>668</td>\n",
       "      <td>서울축산농협(장안지점)</td>\n",
       "      <td>14.0</td>\n",
       "      <td>0.00</td>\n",
       "      <td>2021-01-04</td>\n",
       "      <td>16</td>\n",
       "      <td>16</td>\n",
       "    </tr>\n",
       "    <tr>\n",
       "      <th>2</th>\n",
       "      <td>2021-01-13 21:02:05</td>\n",
       "      <td>3</td>\n",
       "      <td>중랑센터</td>\n",
       "      <td>2021-01-13 21:14:04</td>\n",
       "      <td>668</td>\n",
       "      <td>서울축산농협(장안지점)</td>\n",
       "      <td>11.0</td>\n",
       "      <td>1853.99</td>\n",
       "      <td>2021-01-13</td>\n",
       "      <td>21</td>\n",
       "      <td>21</td>\n",
       "    </tr>\n",
       "    <tr>\n",
       "      <th>3</th>\n",
       "      <td>2021-01-14 21:02:55</td>\n",
       "      <td>3</td>\n",
       "      <td>중랑센터</td>\n",
       "      <td>2021-01-14 21:13:41</td>\n",
       "      <td>668</td>\n",
       "      <td>서울축산농협(장안지점)</td>\n",
       "      <td>10.0</td>\n",
       "      <td>0.00</td>\n",
       "      <td>2021-01-14</td>\n",
       "      <td>21</td>\n",
       "      <td>21</td>\n",
       "    </tr>\n",
       "    <tr>\n",
       "      <th>4</th>\n",
       "      <td>2021-01-18 18:02:08</td>\n",
       "      <td>3</td>\n",
       "      <td>중랑센터</td>\n",
       "      <td>2021-01-18 18:15:22</td>\n",
       "      <td>540</td>\n",
       "      <td>군자역 7번출구 베스트샵 앞</td>\n",
       "      <td>13.0</td>\n",
       "      <td>2291.05</td>\n",
       "      <td>2021-01-18</td>\n",
       "      <td>18</td>\n",
       "      <td>18</td>\n",
       "    </tr>\n",
       "  </tbody>\n",
       "</table>\n",
       "</div>"
      ],
      "text/plain": [
       "                 대여일시 대여 대여소번호 대여 대여소명                반납일시 반납대여소번호  \\\n",
       "0 2021-01-02 20:50:36        3    중랑센터 2021-01-02 21:15:41     668   \n",
       "1 2021-01-04 16:02:12        3    중랑센터 2021-01-04 16:17:06     668   \n",
       "2 2021-01-13 21:02:05        3    중랑센터 2021-01-13 21:14:04     668   \n",
       "3 2021-01-14 21:02:55        3    중랑센터 2021-01-14 21:13:41     668   \n",
       "4 2021-01-18 18:02:08        3    중랑센터 2021-01-18 18:15:22     540   \n",
       "\n",
       "            반납대여소명  이용시간     이용거리        대여날짜  대여시간  반납시간  \n",
       "0     서울축산농협(장안지점)  25.0     0.00  2021-01-02    20    21  \n",
       "1     서울축산농협(장안지점)  14.0     0.00  2021-01-04    16    16  \n",
       "2     서울축산농협(장안지점)  11.0  1853.99  2021-01-13    21    21  \n",
       "3     서울축산농협(장안지점)  10.0     0.00  2021-01-14    21    21  \n",
       "4  군자역 7번출구 베스트샵 앞  13.0  2291.05  2021-01-18    18    18  "
      ]
     },
     "execution_count": 103,
     "metadata": {},
     "output_type": "execute_result"
    }
   ],
   "source": [
    "df.head()"
   ]
  },
  {
   "cell_type": "code",
   "execution_count": 104,
   "id": "25997dc1",
   "metadata": {},
   "outputs": [
    {
     "data": {
      "text/plain": [
       "0             3\n",
       "1             3\n",
       "2             3\n",
       "3             3\n",
       "4             3\n",
       "           ... \n",
       "3445939     152\n",
       "3445940     152\n",
       "3445941     152\n",
       "3445942    2220\n",
       "3445943    2220\n",
       "Name: 대여 대여소번호, Length: 13613604, dtype: category\n",
       "Categories (2493, int64): [3, 5, 10, 101, ..., 9999, 88888, 99997, 99999]"
      ]
     },
     "execution_count": 104,
     "metadata": {},
     "output_type": "execute_result"
    }
   ],
   "source": [
    "df['대여 대여소번호']"
   ]
  },
  {
   "cell_type": "code",
   "execution_count": 102,
   "id": "ae959624",
   "metadata": {
    "scrolled": true
   },
   "outputs": [
    {
     "data": {
      "text/plain": [
       "0           668\n",
       "1           668\n",
       "2           668\n",
       "3           668\n",
       "4           540\n",
       "           ... \n",
       "3445939     126\n",
       "3445940     437\n",
       "3445941     437\n",
       "3445942    2526\n",
       "3445943    2526\n",
       "Name: 반납대여소번호, Length: 13613604, dtype: category\n",
       "Categories (2493, int64): [3, 5, 10, 101, ..., 9999, 88888, 99997, 99999]"
      ]
     },
     "execution_count": 102,
     "metadata": {},
     "output_type": "execute_result"
    }
   ],
   "source": [
    "df['반납대여소번호']"
   ]
  },
  {
   "cell_type": "markdown",
   "id": "29d28349",
   "metadata": {},
   "source": [
    "## 대여건수가 가장 많은 대여소 best10"
   ]
  },
  {
   "cell_type": "code",
   "execution_count": 107,
   "id": "0835a447",
   "metadata": {
    "scrolled": false
   },
   "outputs": [
    {
     "data": {
      "text/html": [
       "<div>\n",
       "<style scoped>\n",
       "    .dataframe tbody tr th:only-of-type {\n",
       "        vertical-align: middle;\n",
       "    }\n",
       "\n",
       "    .dataframe tbody tr th {\n",
       "        vertical-align: top;\n",
       "    }\n",
       "\n",
       "    .dataframe thead th {\n",
       "        text-align: right;\n",
       "    }\n",
       "</style>\n",
       "<table border=\"1\" class=\"dataframe\">\n",
       "  <thead>\n",
       "    <tr style=\"text-align: right;\">\n",
       "      <th></th>\n",
       "      <th></th>\n",
       "      <th>0</th>\n",
       "    </tr>\n",
       "    <tr>\n",
       "      <th>대여 대여소번호</th>\n",
       "      <th>대여 대여소명</th>\n",
       "      <th></th>\n",
       "    </tr>\n",
       "  </thead>\n",
       "  <tbody>\n",
       "    <tr>\n",
       "      <th>207</th>\n",
       "      <th>여의나루역 1번출구 앞</th>\n",
       "      <td>68994</td>\n",
       "    </tr>\n",
       "    <tr>\n",
       "      <th>502</th>\n",
       "      <th>뚝섬유원지역 1번출구 앞</th>\n",
       "      <td>68588</td>\n",
       "    </tr>\n",
       "    <tr>\n",
       "      <th>152</th>\n",
       "      <th>마포구민체육센터 앞</th>\n",
       "      <td>43535</td>\n",
       "    </tr>\n",
       "    <tr>\n",
       "      <th>2102</th>\n",
       "      <th>봉림교 교통섬</th>\n",
       "      <td>43368</td>\n",
       "    </tr>\n",
       "    <tr>\n",
       "      <th>1210</th>\n",
       "      <th>롯데월드타워(잠실역2번출구 쪽)</th>\n",
       "      <td>37149</td>\n",
       "    </tr>\n",
       "    <tr>\n",
       "      <th>2715</th>\n",
       "      <th>마곡나루역 2번 출구</th>\n",
       "      <td>36988</td>\n",
       "    </tr>\n",
       "    <tr>\n",
       "      <th>2177</th>\n",
       "      <th>신대방역 2번 출구</th>\n",
       "      <td>31971</td>\n",
       "    </tr>\n",
       "    <tr>\n",
       "      <th>272</th>\n",
       "      <th>당산육갑문</th>\n",
       "      <td>31527</td>\n",
       "    </tr>\n",
       "    <tr>\n",
       "      <th>210</th>\n",
       "      <th>IFC몰</th>\n",
       "      <td>31443</td>\n",
       "    </tr>\n",
       "    <tr>\n",
       "      <th>565</th>\n",
       "      <th>옥수역 3번출구</th>\n",
       "      <td>29811</td>\n",
       "    </tr>\n",
       "  </tbody>\n",
       "</table>\n",
       "</div>"
      ],
      "text/plain": [
       "                                0\n",
       "대여 대여소번호 대여 대여소명                 \n",
       "207      여의나루역 1번출구 앞       68994\n",
       "502      뚝섬유원지역 1번출구 앞      68588\n",
       "152      마포구민체육센터 앞         43535\n",
       "2102     봉림교 교통섬            43368\n",
       "1210     롯데월드타워(잠실역2번출구 쪽)  37149\n",
       "2715     마곡나루역 2번 출구        36988\n",
       "2177     신대방역 2번 출구         31971\n",
       "272      당산육갑문              31527\n",
       "210      IFC몰               31443\n",
       "565      옥수역 3번출구           29811"
      ]
     },
     "execution_count": 107,
     "metadata": {},
     "output_type": "execute_result"
    }
   ],
   "source": [
    "# value_counts\n",
    "df[['대여 대여소번호', '대여 대여소명']].value_counts()[:10].to_frame()"
   ]
  },
  {
   "cell_type": "markdown",
   "id": "65211f9b",
   "metadata": {},
   "source": [
    "## 반납건수가 가장 많은 대여소 best10"
   ]
  },
  {
   "cell_type": "code",
   "execution_count": 110,
   "id": "d629fea6",
   "metadata": {
    "scrolled": false
   },
   "outputs": [
    {
     "data": {
      "text/html": [
       "<div>\n",
       "<style scoped>\n",
       "    .dataframe tbody tr th:only-of-type {\n",
       "        vertical-align: middle;\n",
       "    }\n",
       "\n",
       "    .dataframe tbody tr th {\n",
       "        vertical-align: top;\n",
       "    }\n",
       "\n",
       "    .dataframe thead th {\n",
       "        text-align: right;\n",
       "    }\n",
       "</style>\n",
       "<table border=\"1\" class=\"dataframe\">\n",
       "  <thead>\n",
       "    <tr style=\"text-align: right;\">\n",
       "      <th></th>\n",
       "      <th></th>\n",
       "      <th>0</th>\n",
       "    </tr>\n",
       "    <tr>\n",
       "      <th>반납대여소번호</th>\n",
       "      <th>반납대여소명</th>\n",
       "      <th></th>\n",
       "    </tr>\n",
       "  </thead>\n",
       "  <tbody>\n",
       "    <tr>\n",
       "      <th>502</th>\n",
       "      <th>뚝섬유원지역 1번출구 앞</th>\n",
       "      <td>78958</td>\n",
       "    </tr>\n",
       "    <tr>\n",
       "      <th>207</th>\n",
       "      <th>여의나루역 1번출구 앞</th>\n",
       "      <td>68966</td>\n",
       "    </tr>\n",
       "    <tr>\n",
       "      <th>152</th>\n",
       "      <th>마포구민체육센터 앞</th>\n",
       "      <td>50607</td>\n",
       "    </tr>\n",
       "    <tr>\n",
       "      <th>2102</th>\n",
       "      <th>봉림교 교통섬</th>\n",
       "      <td>44572</td>\n",
       "    </tr>\n",
       "    <tr>\n",
       "      <th>1210</th>\n",
       "      <th>롯데월드타워(잠실역2번출구 쪽)</th>\n",
       "      <td>37344</td>\n",
       "    </tr>\n",
       "    <tr>\n",
       "      <th>2715</th>\n",
       "      <th>마곡나루역 2번 출구</th>\n",
       "      <td>36876</td>\n",
       "    </tr>\n",
       "    <tr>\n",
       "      <th>272</th>\n",
       "      <th>당산육갑문</th>\n",
       "      <td>34276</td>\n",
       "    </tr>\n",
       "    <tr>\n",
       "      <th>210</th>\n",
       "      <th>IFC몰</th>\n",
       "      <td>33758</td>\n",
       "    </tr>\n",
       "    <tr>\n",
       "      <th>2177</th>\n",
       "      <th>신대방역 2번 출구</th>\n",
       "      <td>33159</td>\n",
       "    </tr>\n",
       "    <tr>\n",
       "      <th>565</th>\n",
       "      <th>옥수역 3번출구</th>\n",
       "      <td>32381</td>\n",
       "    </tr>\n",
       "  </tbody>\n",
       "</table>\n",
       "</div>"
      ],
      "text/plain": [
       "                               0\n",
       "반납대여소번호 반납대여소명                  \n",
       "502     뚝섬유원지역 1번출구 앞      78958\n",
       "207     여의나루역 1번출구 앞       68966\n",
       "152     마포구민체육센터 앞         50607\n",
       "2102    봉림교 교통섬            44572\n",
       "1210    롯데월드타워(잠실역2번출구 쪽)  37344\n",
       "2715    마곡나루역 2번 출구        36876\n",
       "272     당산육갑문              34276\n",
       "210     IFC몰               33758\n",
       "2177    신대방역 2번 출구         33159\n",
       "565     옥수역 3번출구           32381"
      ]
     },
     "execution_count": 110,
     "metadata": {},
     "output_type": "execute_result"
    }
   ],
   "source": [
    "# value_counts\n",
    "df[['반납대여소번호','반납대여소명']].value_counts()[:10].to_frame()"
   ]
  },
  {
   "cell_type": "markdown",
   "id": "cd4dd77f",
   "metadata": {},
   "source": [
    "## 여의나루역 1번출구 앞 대여소 이용현황"
   ]
  },
  {
   "cell_type": "markdown",
   "id": "1361c5fb",
   "metadata": {},
   "source": [
    "### 서브셋 만들기"
   ]
  },
  {
   "cell_type": "code",
   "execution_count": 111,
   "id": "d635995d",
   "metadata": {
    "scrolled": false
   },
   "outputs": [
    {
     "data": {
      "text/html": [
       "<div>\n",
       "<style scoped>\n",
       "    .dataframe tbody tr th:only-of-type {\n",
       "        vertical-align: middle;\n",
       "    }\n",
       "\n",
       "    .dataframe tbody tr th {\n",
       "        vertical-align: top;\n",
       "    }\n",
       "\n",
       "    .dataframe thead th {\n",
       "        text-align: right;\n",
       "    }\n",
       "</style>\n",
       "<table border=\"1\" class=\"dataframe\">\n",
       "  <thead>\n",
       "    <tr style=\"text-align: right;\">\n",
       "      <th></th>\n",
       "      <th>대여일시</th>\n",
       "      <th>대여 대여소번호</th>\n",
       "      <th>대여 대여소명</th>\n",
       "      <th>반납일시</th>\n",
       "      <th>반납대여소번호</th>\n",
       "      <th>반납대여소명</th>\n",
       "      <th>이용시간</th>\n",
       "      <th>이용거리</th>\n",
       "      <th>대여날짜</th>\n",
       "      <th>대여시간</th>\n",
       "      <th>반납시간</th>\n",
       "    </tr>\n",
       "  </thead>\n",
       "  <tbody>\n",
       "    <tr>\n",
       "      <th>45838</th>\n",
       "      <td>2021-01-01 01:05:49</td>\n",
       "      <td>207</td>\n",
       "      <td>여의나루역 1번출구 앞</td>\n",
       "      <td>2021-01-01 01:16:29</td>\n",
       "      <td>201</td>\n",
       "      <td>진미파라곤 앞</td>\n",
       "      <td>10.0</td>\n",
       "      <td>0.00</td>\n",
       "      <td>2021-01-01</td>\n",
       "      <td>1</td>\n",
       "      <td>1</td>\n",
       "    </tr>\n",
       "    <tr>\n",
       "      <th>45839</th>\n",
       "      <td>2021-01-01 04:28:45</td>\n",
       "      <td>207</td>\n",
       "      <td>여의나루역 1번출구 앞</td>\n",
       "      <td>2021-01-01 04:48:23</td>\n",
       "      <td>493</td>\n",
       "      <td>홍대입구역 6번출구</td>\n",
       "      <td>19.0</td>\n",
       "      <td>0.00</td>\n",
       "      <td>2021-01-01</td>\n",
       "      <td>4</td>\n",
       "      <td>4</td>\n",
       "    </tr>\n",
       "    <tr>\n",
       "      <th>45840</th>\n",
       "      <td>2021-01-01 09:39:23</td>\n",
       "      <td>207</td>\n",
       "      <td>여의나루역 1번출구 앞</td>\n",
       "      <td>2021-01-01 09:45:33</td>\n",
       "      <td>223</td>\n",
       "      <td>진주아파트상가 앞</td>\n",
       "      <td>6.0</td>\n",
       "      <td>877.23</td>\n",
       "      <td>2021-01-01</td>\n",
       "      <td>9</td>\n",
       "      <td>9</td>\n",
       "    </tr>\n",
       "    <tr>\n",
       "      <th>45841</th>\n",
       "      <td>2021-01-01 10:50:10</td>\n",
       "      <td>207</td>\n",
       "      <td>여의나루역 1번출구 앞</td>\n",
       "      <td>2021-01-01 11:17:49</td>\n",
       "      <td>207</td>\n",
       "      <td>여의나루역 1번출구 앞</td>\n",
       "      <td>27.0</td>\n",
       "      <td>0.00</td>\n",
       "      <td>2021-01-01</td>\n",
       "      <td>10</td>\n",
       "      <td>11</td>\n",
       "    </tr>\n",
       "    <tr>\n",
       "      <th>45842</th>\n",
       "      <td>2021-01-01 11:01:44</td>\n",
       "      <td>207</td>\n",
       "      <td>여의나루역 1번출구 앞</td>\n",
       "      <td>2021-01-01 11:19:02</td>\n",
       "      <td>207</td>\n",
       "      <td>여의나루역 1번출구 앞</td>\n",
       "      <td>17.0</td>\n",
       "      <td>0.00</td>\n",
       "      <td>2021-01-01</td>\n",
       "      <td>11</td>\n",
       "      <td>11</td>\n",
       "    </tr>\n",
       "    <tr>\n",
       "      <th>...</th>\n",
       "      <td>...</td>\n",
       "      <td>...</td>\n",
       "      <td>...</td>\n",
       "      <td>...</td>\n",
       "      <td>...</td>\n",
       "      <td>...</td>\n",
       "      <td>...</td>\n",
       "      <td>...</td>\n",
       "      <td>...</td>\n",
       "      <td>...</td>\n",
       "      <td>...</td>\n",
       "    </tr>\n",
       "    <tr>\n",
       "      <th>3445365</th>\n",
       "      <td>2021-06-30 22:34:23</td>\n",
       "      <td>207</td>\n",
       "      <td>여의나루역 1번출구 앞</td>\n",
       "      <td>2021-07-01 00:12:03</td>\n",
       "      <td>4526</td>\n",
       "      <td>목동아파트2단지 222동 앞</td>\n",
       "      <td>97.0</td>\n",
       "      <td>9268.32</td>\n",
       "      <td>2021-06-30</td>\n",
       "      <td>22</td>\n",
       "      <td>0</td>\n",
       "    </tr>\n",
       "    <tr>\n",
       "      <th>3445420</th>\n",
       "      <td>2021-06-30 22:36:03</td>\n",
       "      <td>207</td>\n",
       "      <td>여의나루역 1번출구 앞</td>\n",
       "      <td>2021-07-01 00:12:31</td>\n",
       "      <td>1148</td>\n",
       "      <td>볏골공원</td>\n",
       "      <td>96.0</td>\n",
       "      <td>10957.26</td>\n",
       "      <td>2021-06-30</td>\n",
       "      <td>22</td>\n",
       "      <td>0</td>\n",
       "    </tr>\n",
       "    <tr>\n",
       "      <th>3445452</th>\n",
       "      <td>2021-06-30 22:36:11</td>\n",
       "      <td>207</td>\n",
       "      <td>여의나루역 1번출구 앞</td>\n",
       "      <td>2021-07-01 00:12:44</td>\n",
       "      <td>704</td>\n",
       "      <td>남부법원검찰청 교차로</td>\n",
       "      <td>96.0</td>\n",
       "      <td>11358.59</td>\n",
       "      <td>2021-06-30</td>\n",
       "      <td>22</td>\n",
       "      <td>0</td>\n",
       "    </tr>\n",
       "    <tr>\n",
       "      <th>3445463</th>\n",
       "      <td>2021-06-30 22:53:04</td>\n",
       "      <td>207</td>\n",
       "      <td>여의나루역 1번출구 앞</td>\n",
       "      <td>2021-07-01 00:12:47</td>\n",
       "      <td>207</td>\n",
       "      <td>여의나루역 1번출구 앞</td>\n",
       "      <td>80.0</td>\n",
       "      <td>0.00</td>\n",
       "      <td>2021-06-30</td>\n",
       "      <td>22</td>\n",
       "      <td>0</td>\n",
       "    </tr>\n",
       "    <tr>\n",
       "      <th>3445487</th>\n",
       "      <td>2021-06-30 22:02:53</td>\n",
       "      <td>207</td>\n",
       "      <td>여의나루역 1번출구 앞</td>\n",
       "      <td>2021-07-01 00:13:00</td>\n",
       "      <td>2715</td>\n",
       "      <td>마곡나루역 2번 출구</td>\n",
       "      <td>130.0</td>\n",
       "      <td>13337.80</td>\n",
       "      <td>2021-06-30</td>\n",
       "      <td>22</td>\n",
       "      <td>0</td>\n",
       "    </tr>\n",
       "  </tbody>\n",
       "</table>\n",
       "<p>68995 rows × 11 columns</p>\n",
       "</div>"
      ],
      "text/plain": [
       "                       대여일시 대여 대여소번호       대여 대여소명                반납일시  \\\n",
       "45838   2021-01-01 01:05:49      207  여의나루역 1번출구 앞 2021-01-01 01:16:29   \n",
       "45839   2021-01-01 04:28:45      207  여의나루역 1번출구 앞 2021-01-01 04:48:23   \n",
       "45840   2021-01-01 09:39:23      207  여의나루역 1번출구 앞 2021-01-01 09:45:33   \n",
       "45841   2021-01-01 10:50:10      207  여의나루역 1번출구 앞 2021-01-01 11:17:49   \n",
       "45842   2021-01-01 11:01:44      207  여의나루역 1번출구 앞 2021-01-01 11:19:02   \n",
       "...                     ...      ...           ...                 ...   \n",
       "3445365 2021-06-30 22:34:23      207  여의나루역 1번출구 앞 2021-07-01 00:12:03   \n",
       "3445420 2021-06-30 22:36:03      207  여의나루역 1번출구 앞 2021-07-01 00:12:31   \n",
       "3445452 2021-06-30 22:36:11      207  여의나루역 1번출구 앞 2021-07-01 00:12:44   \n",
       "3445463 2021-06-30 22:53:04      207  여의나루역 1번출구 앞 2021-07-01 00:12:47   \n",
       "3445487 2021-06-30 22:02:53      207  여의나루역 1번출구 앞 2021-07-01 00:13:00   \n",
       "\n",
       "        반납대여소번호           반납대여소명   이용시간      이용거리        대여날짜  대여시간  반납시간  \n",
       "45838       201          진미파라곤 앞   10.0      0.00  2021-01-01     1     1  \n",
       "45839       493       홍대입구역 6번출구   19.0      0.00  2021-01-01     4     4  \n",
       "45840       223        진주아파트상가 앞    6.0    877.23  2021-01-01     9     9  \n",
       "45841       207     여의나루역 1번출구 앞   27.0      0.00  2021-01-01    10    11  \n",
       "45842       207     여의나루역 1번출구 앞   17.0      0.00  2021-01-01    11    11  \n",
       "...         ...              ...    ...       ...         ...   ...   ...  \n",
       "3445365    4526  목동아파트2단지 222동 앞   97.0   9268.32  2021-06-30    22     0  \n",
       "3445420    1148             볏골공원   96.0  10957.26  2021-06-30    22     0  \n",
       "3445452     704      남부법원검찰청 교차로   96.0  11358.59  2021-06-30    22     0  \n",
       "3445463     207     여의나루역 1번출구 앞   80.0      0.00  2021-06-30    22     0  \n",
       "3445487    2715      마곡나루역 2번 출구  130.0  13337.80  2021-06-30    22     0  \n",
       "\n",
       "[68995 rows x 11 columns]"
      ]
     },
     "execution_count": 111,
     "metadata": {},
     "output_type": "execute_result"
    }
   ],
   "source": [
    "df[df['대여 대여소번호']==207]"
   ]
  },
  {
   "cell_type": "code",
   "execution_count": 115,
   "id": "e21b1a85",
   "metadata": {
    "scrolled": false
   },
   "outputs": [
    {
     "data": {
      "text/html": [
       "<div>\n",
       "<style scoped>\n",
       "    .dataframe tbody tr th:only-of-type {\n",
       "        vertical-align: middle;\n",
       "    }\n",
       "\n",
       "    .dataframe tbody tr th {\n",
       "        vertical-align: top;\n",
       "    }\n",
       "\n",
       "    .dataframe thead th {\n",
       "        text-align: right;\n",
       "    }\n",
       "</style>\n",
       "<table border=\"1\" class=\"dataframe\">\n",
       "  <thead>\n",
       "    <tr style=\"text-align: right;\">\n",
       "      <th></th>\n",
       "      <th>대여일시</th>\n",
       "      <th>대여 대여소번호</th>\n",
       "      <th>대여 대여소명</th>\n",
       "      <th>반납일시</th>\n",
       "      <th>반납대여소번호</th>\n",
       "      <th>반납대여소명</th>\n",
       "      <th>이용시간</th>\n",
       "      <th>이용거리</th>\n",
       "      <th>대여날짜</th>\n",
       "      <th>대여시간</th>\n",
       "      <th>반납시간</th>\n",
       "    </tr>\n",
       "  </thead>\n",
       "  <tbody>\n",
       "    <tr>\n",
       "      <th>45838</th>\n",
       "      <td>2021-01-01 01:05:49</td>\n",
       "      <td>207</td>\n",
       "      <td>여의나루역 1번출구 앞</td>\n",
       "      <td>2021-01-01 01:16:29</td>\n",
       "      <td>201</td>\n",
       "      <td>진미파라곤 앞</td>\n",
       "      <td>10.0</td>\n",
       "      <td>0.0</td>\n",
       "      <td>2021-01-01</td>\n",
       "      <td>1</td>\n",
       "      <td>1</td>\n",
       "    </tr>\n",
       "    <tr>\n",
       "      <th>45839</th>\n",
       "      <td>2021-01-01 04:28:45</td>\n",
       "      <td>207</td>\n",
       "      <td>여의나루역 1번출구 앞</td>\n",
       "      <td>2021-01-01 04:48:23</td>\n",
       "      <td>493</td>\n",
       "      <td>홍대입구역 6번출구</td>\n",
       "      <td>19.0</td>\n",
       "      <td>0.0</td>\n",
       "      <td>2021-01-01</td>\n",
       "      <td>4</td>\n",
       "      <td>4</td>\n",
       "    </tr>\n",
       "  </tbody>\n",
       "</table>\n",
       "</div>"
      ],
      "text/plain": [
       "                     대여일시 대여 대여소번호       대여 대여소명                반납일시 반납대여소번호  \\\n",
       "45838 2021-01-01 01:05:49      207  여의나루역 1번출구 앞 2021-01-01 01:16:29     201   \n",
       "45839 2021-01-01 04:28:45      207  여의나루역 1번출구 앞 2021-01-01 04:48:23     493   \n",
       "\n",
       "           반납대여소명  이용시간  이용거리        대여날짜  대여시간  반납시간  \n",
       "45838     진미파라곤 앞  10.0   0.0  2021-01-01     1     1  \n",
       "45839  홍대입구역 6번출구  19.0   0.0  2021-01-01     4     4  "
      ]
     },
     "execution_count": 115,
     "metadata": {},
     "output_type": "execute_result"
    }
   ],
   "source": [
    "df_207 = df[df['대여 대여소번호']==207]\n",
    "df_207.head(2)"
   ]
  },
  {
   "cell_type": "markdown",
   "id": "29140030",
   "metadata": {},
   "source": [
    "### 반납 현황"
   ]
  },
  {
   "cell_type": "code",
   "execution_count": 117,
   "id": "09cc102e",
   "metadata": {
    "scrolled": true
   },
   "outputs": [
    {
     "data": {
      "text/html": [
       "<div>\n",
       "<style scoped>\n",
       "    .dataframe tbody tr th:only-of-type {\n",
       "        vertical-align: middle;\n",
       "    }\n",
       "\n",
       "    .dataframe tbody tr th {\n",
       "        vertical-align: top;\n",
       "    }\n",
       "\n",
       "    .dataframe thead th {\n",
       "        text-align: right;\n",
       "    }\n",
       "</style>\n",
       "<table border=\"1\" class=\"dataframe\">\n",
       "  <thead>\n",
       "    <tr style=\"text-align: right;\">\n",
       "      <th></th>\n",
       "      <th>반납대여소번호</th>\n",
       "      <th>반납대여소명</th>\n",
       "    </tr>\n",
       "  </thead>\n",
       "  <tbody>\n",
       "    <tr>\n",
       "      <th>45838</th>\n",
       "      <td>201</td>\n",
       "      <td>진미파라곤 앞</td>\n",
       "    </tr>\n",
       "    <tr>\n",
       "      <th>45839</th>\n",
       "      <td>493</td>\n",
       "      <td>홍대입구역 6번출구</td>\n",
       "    </tr>\n",
       "    <tr>\n",
       "      <th>45840</th>\n",
       "      <td>223</td>\n",
       "      <td>진주아파트상가 앞</td>\n",
       "    </tr>\n",
       "    <tr>\n",
       "      <th>45841</th>\n",
       "      <td>207</td>\n",
       "      <td>여의나루역 1번출구 앞</td>\n",
       "    </tr>\n",
       "    <tr>\n",
       "      <th>45842</th>\n",
       "      <td>207</td>\n",
       "      <td>여의나루역 1번출구 앞</td>\n",
       "    </tr>\n",
       "    <tr>\n",
       "      <th>...</th>\n",
       "      <td>...</td>\n",
       "      <td>...</td>\n",
       "    </tr>\n",
       "    <tr>\n",
       "      <th>3445365</th>\n",
       "      <td>4526</td>\n",
       "      <td>목동아파트2단지 222동 앞</td>\n",
       "    </tr>\n",
       "    <tr>\n",
       "      <th>3445420</th>\n",
       "      <td>1148</td>\n",
       "      <td>볏골공원</td>\n",
       "    </tr>\n",
       "    <tr>\n",
       "      <th>3445452</th>\n",
       "      <td>704</td>\n",
       "      <td>남부법원검찰청 교차로</td>\n",
       "    </tr>\n",
       "    <tr>\n",
       "      <th>3445463</th>\n",
       "      <td>207</td>\n",
       "      <td>여의나루역 1번출구 앞</td>\n",
       "    </tr>\n",
       "    <tr>\n",
       "      <th>3445487</th>\n",
       "      <td>2715</td>\n",
       "      <td>마곡나루역 2번 출구</td>\n",
       "    </tr>\n",
       "  </tbody>\n",
       "</table>\n",
       "<p>68995 rows × 2 columns</p>\n",
       "</div>"
      ],
      "text/plain": [
       "        반납대여소번호           반납대여소명\n",
       "45838       201          진미파라곤 앞\n",
       "45839       493       홍대입구역 6번출구\n",
       "45840       223        진주아파트상가 앞\n",
       "45841       207     여의나루역 1번출구 앞\n",
       "45842       207     여의나루역 1번출구 앞\n",
       "...         ...              ...\n",
       "3445365    4526  목동아파트2단지 222동 앞\n",
       "3445420    1148             볏골공원\n",
       "3445452     704      남부법원검찰청 교차로\n",
       "3445463     207     여의나루역 1번출구 앞\n",
       "3445487    2715      마곡나루역 2번 출구\n",
       "\n",
       "[68995 rows x 2 columns]"
      ]
     },
     "execution_count": 117,
     "metadata": {},
     "output_type": "execute_result"
    }
   ],
   "source": [
    "# value_counts\n",
    "\n",
    "df_207[['반납대여소번호','반납대여소명']]"
   ]
  },
  {
   "cell_type": "code",
   "execution_count": 118,
   "id": "8becbf10",
   "metadata": {
    "scrolled": true
   },
   "outputs": [
    {
     "data": {
      "text/html": [
       "<div>\n",
       "<style scoped>\n",
       "    .dataframe tbody tr th:only-of-type {\n",
       "        vertical-align: middle;\n",
       "    }\n",
       "\n",
       "    .dataframe tbody tr th {\n",
       "        vertical-align: top;\n",
       "    }\n",
       "\n",
       "    .dataframe thead th {\n",
       "        text-align: right;\n",
       "    }\n",
       "</style>\n",
       "<table border=\"1\" class=\"dataframe\">\n",
       "  <thead>\n",
       "    <tr style=\"text-align: right;\">\n",
       "      <th></th>\n",
       "      <th></th>\n",
       "      <th>0</th>\n",
       "    </tr>\n",
       "    <tr>\n",
       "      <th>반납대여소번호</th>\n",
       "      <th>반납대여소명</th>\n",
       "      <th></th>\n",
       "    </tr>\n",
       "  </thead>\n",
       "  <tbody>\n",
       "    <tr>\n",
       "      <th>207</th>\n",
       "      <th>여의나루역 1번출구 앞</th>\n",
       "      <td>18347</td>\n",
       "    </tr>\n",
       "    <tr>\n",
       "      <th>202</th>\n",
       "      <th>국민일보 앞</th>\n",
       "      <td>2006</td>\n",
       "    </tr>\n",
       "    <tr>\n",
       "      <th>222</th>\n",
       "      <th>시범아파트버스정류장 옆</th>\n",
       "      <td>1588</td>\n",
       "    </tr>\n",
       "    <tr>\n",
       "      <th>249</th>\n",
       "      <th>여의도중학교 옆</th>\n",
       "      <td>1525</td>\n",
       "    </tr>\n",
       "    <tr>\n",
       "      <th>272</th>\n",
       "      <th>당산육갑문</th>\n",
       "      <td>1269</td>\n",
       "    </tr>\n",
       "    <tr>\n",
       "      <th>...</th>\n",
       "      <th>...</th>\n",
       "      <td>...</td>\n",
       "    </tr>\n",
       "    <tr>\n",
       "      <th>2414</th>\n",
       "      <th>도곡역 아카데미스위트 앞</th>\n",
       "      <td>1</td>\n",
       "    </tr>\n",
       "    <tr>\n",
       "      <th>669</th>\n",
       "      <th>청계한신휴플러스앞 삼거리</th>\n",
       "      <td>1</td>\n",
       "    </tr>\n",
       "    <tr>\n",
       "      <th>1661</th>\n",
       "      <th>당현천근린공원</th>\n",
       "      <td>1</td>\n",
       "    </tr>\n",
       "    <tr>\n",
       "      <th>1670</th>\n",
       "      <th>노원경찰서교차로</th>\n",
       "      <td>1</td>\n",
       "    </tr>\n",
       "    <tr>\n",
       "      <th>966</th>\n",
       "      <th>서울혁신파크1</th>\n",
       "      <td>1</td>\n",
       "    </tr>\n",
       "  </tbody>\n",
       "</table>\n",
       "<p>1413 rows × 1 columns</p>\n",
       "</div>"
      ],
      "text/plain": [
       "                           0\n",
       "반납대여소번호 반납대여소명              \n",
       "207     여의나루역 1번출구 앞   18347\n",
       "202     국민일보 앞          2006\n",
       "222     시범아파트버스정류장 옆    1588\n",
       "249     여의도중학교 옆        1525\n",
       "272     당산육갑문           1269\n",
       "...                      ...\n",
       "2414    도곡역 아카데미스위트 앞      1\n",
       "669     청계한신휴플러스앞 삼거리      1\n",
       "1661    당현천근린공원            1\n",
       "1670    노원경찰서교차로           1\n",
       "966     서울혁신파크1            1\n",
       "\n",
       "[1413 rows x 1 columns]"
      ]
     },
     "execution_count": 118,
     "metadata": {},
     "output_type": "execute_result"
    }
   ],
   "source": [
    "df_207[['반납대여소번호','반납대여소명']].value_counts().to_frame()"
   ]
  },
  {
   "cell_type": "code",
   "execution_count": 122,
   "id": "2723a80e",
   "metadata": {
    "scrolled": true
   },
   "outputs": [
    {
     "data": {
      "text/html": [
       "<div>\n",
       "<style scoped>\n",
       "    .dataframe tbody tr th:only-of-type {\n",
       "        vertical-align: middle;\n",
       "    }\n",
       "\n",
       "    .dataframe tbody tr th {\n",
       "        vertical-align: top;\n",
       "    }\n",
       "\n",
       "    .dataframe thead th {\n",
       "        text-align: right;\n",
       "    }\n",
       "</style>\n",
       "<table border=\"1\" class=\"dataframe\">\n",
       "  <thead>\n",
       "    <tr style=\"text-align: right;\">\n",
       "      <th></th>\n",
       "      <th></th>\n",
       "      <th>0</th>\n",
       "    </tr>\n",
       "    <tr>\n",
       "      <th>반납대여소번호</th>\n",
       "      <th>반납대여소명</th>\n",
       "      <th></th>\n",
       "    </tr>\n",
       "  </thead>\n",
       "  <tbody>\n",
       "    <tr>\n",
       "      <th>210</th>\n",
       "      <th>IFC몰</th>\n",
       "      <td>3174</td>\n",
       "    </tr>\n",
       "    <tr>\n",
       "      <th>207</th>\n",
       "      <th>여의나루역 1번출구 앞</th>\n",
       "      <td>1424</td>\n",
       "    </tr>\n",
       "    <tr>\n",
       "      <th>202</th>\n",
       "      <th>국민일보 앞</th>\n",
       "      <td>1219</td>\n",
       "    </tr>\n",
       "    <tr>\n",
       "      <th>274</th>\n",
       "      <th>영등포역지하쇼핑센타 5번출구</th>\n",
       "      <td>1185</td>\n",
       "    </tr>\n",
       "    <tr>\n",
       "      <th>276</th>\n",
       "      <th>SK 영등포주유소</th>\n",
       "      <td>805</td>\n",
       "    </tr>\n",
       "    <tr>\n",
       "      <th>211</th>\n",
       "      <th>여의도역 4번출구 옆</th>\n",
       "      <td>573</td>\n",
       "    </tr>\n",
       "    <tr>\n",
       "      <th>147</th>\n",
       "      <th>마포역 4번출구 뒤</th>\n",
       "      <td>559</td>\n",
       "    </tr>\n",
       "    <tr>\n",
       "      <th>205</th>\n",
       "      <th>산업은행 앞</th>\n",
       "      <td>557</td>\n",
       "    </tr>\n",
       "    <tr>\n",
       "      <th>206</th>\n",
       "      <th>KBS 앞</th>\n",
       "      <td>550</td>\n",
       "    </tr>\n",
       "    <tr>\n",
       "      <th>214</th>\n",
       "      <th>금융감독원 앞</th>\n",
       "      <td>496</td>\n",
       "    </tr>\n",
       "  </tbody>\n",
       "</table>\n",
       "</div>"
      ],
      "text/plain": [
       "                            0\n",
       "반납대여소번호 반납대여소명               \n",
       "210     IFC몰             3174\n",
       "207     여의나루역 1번출구 앞     1424\n",
       "202     국민일보 앞           1219\n",
       "274     영등포역지하쇼핑센타 5번출구  1185\n",
       "276     SK 영등포주유소         805\n",
       "211     여의도역 4번출구 옆       573\n",
       "147     마포역 4번출구 뒤        559\n",
       "205     산업은행 앞            557\n",
       "206     KBS 앞             550\n",
       "214     금융감독원 앞           496"
      ]
     },
     "execution_count": 122,
     "metadata": {},
     "output_type": "execute_result"
    }
   ],
   "source": [
    "###  IFC 몰에서 출발, 반납 대여소 TOP 10 추출하세요 \n",
    "\n",
    "df[df[\"대여 대여소번호\"] == 210]\\\n",
    "[[\"반납대여소번호\", \"반납대여소명\"]].value_counts().to_frame().head(10)"
   ]
  },
  {
   "cell_type": "code",
   "execution_count": 127,
   "id": "98fdee7d",
   "metadata": {
    "scrolled": true
   },
   "outputs": [
    {
     "data": {
      "text/html": [
       "<div>\n",
       "<style scoped>\n",
       "    .dataframe tbody tr th:only-of-type {\n",
       "        vertical-align: middle;\n",
       "    }\n",
       "\n",
       "    .dataframe tbody tr th {\n",
       "        vertical-align: top;\n",
       "    }\n",
       "\n",
       "    .dataframe thead th {\n",
       "        text-align: right;\n",
       "    }\n",
       "</style>\n",
       "<table border=\"1\" class=\"dataframe\">\n",
       "  <thead>\n",
       "    <tr style=\"text-align: right;\">\n",
       "      <th></th>\n",
       "      <th></th>\n",
       "      <th>0</th>\n",
       "    </tr>\n",
       "    <tr>\n",
       "      <th>반납대여소번호</th>\n",
       "      <th>반납대여소명</th>\n",
       "      <th></th>\n",
       "    </tr>\n",
       "  </thead>\n",
       "  <tbody>\n",
       "    <tr>\n",
       "      <th>210</th>\n",
       "      <th>IFC몰</th>\n",
       "      <td>3174</td>\n",
       "    </tr>\n",
       "    <tr>\n",
       "      <th>207</th>\n",
       "      <th>여의나루역 1번출구 앞</th>\n",
       "      <td>1424</td>\n",
       "    </tr>\n",
       "    <tr>\n",
       "      <th>202</th>\n",
       "      <th>국민일보 앞</th>\n",
       "      <td>1219</td>\n",
       "    </tr>\n",
       "    <tr>\n",
       "      <th>274</th>\n",
       "      <th>영등포역지하쇼핑센타 5번출구</th>\n",
       "      <td>1185</td>\n",
       "    </tr>\n",
       "    <tr>\n",
       "      <th>276</th>\n",
       "      <th>SK 영등포주유소</th>\n",
       "      <td>805</td>\n",
       "    </tr>\n",
       "    <tr>\n",
       "      <th>211</th>\n",
       "      <th>여의도역 4번출구 옆</th>\n",
       "      <td>573</td>\n",
       "    </tr>\n",
       "    <tr>\n",
       "      <th>147</th>\n",
       "      <th>마포역 4번출구 뒤</th>\n",
       "      <td>559</td>\n",
       "    </tr>\n",
       "    <tr>\n",
       "      <th>205</th>\n",
       "      <th>산업은행 앞</th>\n",
       "      <td>557</td>\n",
       "    </tr>\n",
       "    <tr>\n",
       "      <th>206</th>\n",
       "      <th>KBS 앞</th>\n",
       "      <td>550</td>\n",
       "    </tr>\n",
       "    <tr>\n",
       "      <th>214</th>\n",
       "      <th>금융감독원 앞</th>\n",
       "      <td>496</td>\n",
       "    </tr>\n",
       "  </tbody>\n",
       "</table>\n",
       "</div>"
      ],
      "text/plain": [
       "                            0\n",
       "반납대여소번호 반납대여소명               \n",
       "210     IFC몰             3174\n",
       "207     여의나루역 1번출구 앞     1424\n",
       "202     국민일보 앞           1219\n",
       "274     영등포역지하쇼핑센타 5번출구  1185\n",
       "276     SK 영등포주유소         805\n",
       "211     여의도역 4번출구 옆       573\n",
       "147     마포역 4번출구 뒤        559\n",
       "205     산업은행 앞            557\n",
       "206     KBS 앞             550\n",
       "214     금융감독원 앞           496"
      ]
     },
     "execution_count": 127,
     "metadata": {},
     "output_type": "execute_result"
    }
   ],
   "source": [
    "df_210 = df[df['대여 대여소번호']==210]\n",
    "df_210 = df_210[['반납대여소번호','반납대여소명']].value_counts()[:10].to_frame()\n",
    "df_210"
   ]
  },
  {
   "cell_type": "markdown",
   "id": "f0317a45",
   "metadata": {},
   "source": [
    "### 요일별 대여현황"
   ]
  },
  {
   "cell_type": "code",
   "execution_count": 130,
   "id": "ad19452b",
   "metadata": {
    "scrolled": false
   },
   "outputs": [
    {
     "name": "stderr",
     "output_type": "stream",
     "text": [
      "C:\\Users\\student\\AppData\\Local\\Temp\\ipykernel_1008\\2196304920.py:2: SettingWithCopyWarning: \n",
      "A value is trying to be set on a copy of a slice from a DataFrame.\n",
      "Try using .loc[row_indexer,col_indexer] = value instead\n",
      "\n",
      "See the caveats in the documentation: https://pandas.pydata.org/pandas-docs/stable/user_guide/indexing.html#returning-a-view-versus-a-copy\n",
      "  df_207['대여요일'] = df_207['대여일시'].dt.strftime('%a')\n"
     ]
    },
    {
     "data": {
      "text/plain": [
       "45838      Fri\n",
       "45839      Fri\n",
       "45840      Fri\n",
       "45841      Fri\n",
       "45842      Fri\n",
       "          ... \n",
       "3445365    Wed\n",
       "3445420    Wed\n",
       "3445452    Wed\n",
       "3445463    Wed\n",
       "3445487    Wed\n",
       "Name: 대여요일, Length: 68995, dtype: object"
      ]
     },
     "execution_count": 130,
     "metadata": {},
     "output_type": "execute_result"
    }
   ],
   "source": [
    "#요일컬럼 추가 : strftime('%a')\n",
    "df_207['대여요일'] = df_207['대여일시'].dt.strftime('%a')\n",
    "df_207['대여요일']"
   ]
  },
  {
   "cell_type": "code",
   "execution_count": 131,
   "id": "64a3d65a",
   "metadata": {},
   "outputs": [
    {
     "data": {
      "text/plain": [
       "Sun    14454\n",
       "Sat    10932\n",
       "Wed    10755\n",
       "Fri     9191\n",
       "Mon     8391\n",
       "Thu     8037\n",
       "Tue     7235\n",
       "Name: 대여요일, dtype: int64"
      ]
     },
     "execution_count": 131,
     "metadata": {},
     "output_type": "execute_result"
    }
   ],
   "source": [
    "# value_counts\n",
    "df_207['대여요일']. value_counts()"
   ]
  },
  {
   "cell_type": "markdown",
   "id": "c6e7673e",
   "metadata": {},
   "source": [
    "### 이용시간 통계"
   ]
  },
  {
   "cell_type": "code",
   "execution_count": 133,
   "id": "ca6a256f",
   "metadata": {
    "scrolled": false
   },
   "outputs": [
    {
     "data": {
      "text/plain": [
       "50.28551344300312"
      ]
     },
     "execution_count": 133,
     "metadata": {},
     "output_type": "execute_result"
    }
   ],
   "source": [
    "# 이용시간 평균\n",
    "df_207['이용시간'].mean()"
   ]
  },
  {
   "cell_type": "code",
   "execution_count": 134,
   "id": "77a4cfda",
   "metadata": {
    "scrolled": true
   },
   "outputs": [
    {
     "data": {
      "text/plain": [
       "1268.0"
      ]
     },
     "execution_count": 134,
     "metadata": {},
     "output_type": "execute_result"
    }
   ],
   "source": [
    "# 이용시간 최대\n",
    "df_207['이용시간'].max()"
   ]
  },
  {
   "cell_type": "code",
   "execution_count": 135,
   "id": "5df61103",
   "metadata": {
    "scrolled": true
   },
   "outputs": [
    {
     "data": {
      "text/plain": [
       "1.0"
      ]
     },
     "execution_count": 135,
     "metadata": {},
     "output_type": "execute_result"
    }
   ],
   "source": [
    "# 이용시간 최소\n",
    "df_207['이용시간'].min()"
   ]
  },
  {
   "cell_type": "code",
   "execution_count": 136,
   "id": "902f58af",
   "metadata": {},
   "outputs": [
    {
     "data": {
      "text/plain": [
       "27.27823322905529"
      ]
     },
     "execution_count": 136,
     "metadata": {},
     "output_type": "execute_result"
    }
   ],
   "source": [
    "# 전체데이터 이용시간 평균\n",
    "df['이용시간'].mean()"
   ]
  },
  {
   "cell_type": "code",
   "execution_count": 137,
   "id": "730c0e24",
   "metadata": {},
   "outputs": [
    {
     "data": {
      "text/plain": [
       "16.0"
      ]
     },
     "execution_count": 137,
     "metadata": {},
     "output_type": "execute_result"
    }
   ],
   "source": [
    "df['이용시간'].median()"
   ]
  },
  {
   "cell_type": "code",
   "execution_count": null,
   "id": "2f388fc7",
   "metadata": {},
   "outputs": [],
   "source": []
  }
 ],
 "metadata": {
  "kernelspec": {
   "display_name": "Python 3 (ipykernel)",
   "language": "python",
   "name": "python3"
  },
  "language_info": {
   "codemirror_mode": {
    "name": "ipython",
    "version": 3
   },
   "file_extension": ".py",
   "mimetype": "text/x-python",
   "name": "python",
   "nbconvert_exporter": "python",
   "pygments_lexer": "ipython3",
   "version": "3.9.12"
  },
  "toc": {
   "base_numbering": 1,
   "nav_menu": {},
   "number_sections": true,
   "sideBar": true,
   "skip_h1_title": false,
   "title_cell": "Table of Contents",
   "title_sidebar": "Contents",
   "toc_cell": false,
   "toc_position": {
    "height": "calc(100% - 180px)",
    "left": "10px",
    "top": "150px",
    "width": "307.188px"
   },
   "toc_section_display": true,
   "toc_window_display": true
  }
 },
 "nbformat": 4,
 "nbformat_minor": 5
}
