{
 "cells": [
  {
   "cell_type": "markdown",
   "id": "0307b398",
   "metadata": {},
   "source": [
    "1. 리스트 "
   ]
  },
  {
   "cell_type": "code",
   "execution_count": 1,
   "id": "49a244ed",
   "metadata": {},
   "outputs": [
    {
     "name": "stdout",
     "output_type": "stream",
     "text": [
      "10\n",
      "30\n"
     ]
    }
   ],
   "source": [
    "a, b, c, d = 10, 20, 30, 40\n",
    "\n",
    "print(a)\n",
    "print(c)"
   ]
  },
  {
   "cell_type": "code",
   "execution_count": 3,
   "id": "0f581fec",
   "metadata": {},
   "outputs": [
    {
     "name": "stdout",
     "output_type": "stream",
     "text": [
      "10\n",
      "40\n"
     ]
    }
   ],
   "source": [
    "aa = [10, 20, 30, 40]\n",
    "\n",
    "print(aa[0])\n",
    "print(aa[-1])"
   ]
  },
  {
   "cell_type": "code",
   "execution_count": 5,
   "id": "82ac6ec9",
   "metadata": {},
   "outputs": [
    {
     "data": {
      "text/plain": [
       "[0, 1, 2, 3, 4, 5, 6, 7, 8, 9]"
      ]
     },
     "execution_count": 5,
     "metadata": {},
     "output_type": "execute_result"
    }
   ],
   "source": [
    "# list 와 range 활용 \n",
    "\n",
    "list(range(10))"
   ]
  },
  {
   "cell_type": "code",
   "execution_count": 6,
   "id": "d26522ce",
   "metadata": {},
   "outputs": [
    {
     "name": "stdout",
     "output_type": "stream",
     "text": [
      "[0, 1, 2, 3, 4, 5, 6, 7, 8, 9]\n",
      "\n",
      "<class 'list'>\n"
     ]
    }
   ],
   "source": [
    "a = list(range(10))\n",
    "print(a)\n",
    "print()\n",
    "print(type(a))"
   ]
  },
  {
   "cell_type": "code",
   "execution_count": 7,
   "id": "42a8da61",
   "metadata": {},
   "outputs": [
    {
     "name": "stdout",
     "output_type": "stream",
     "text": [
      "[10, 9, 8, 7, 6, 5, 4, 3, 2, 1]\n"
     ]
    }
   ],
   "source": [
    "#  역순 출력\n",
    "b = list(range(10, 0, -1))\n",
    "print(b)"
   ]
  },
  {
   "cell_type": "code",
   "execution_count": 13,
   "id": "c15b6e5e",
   "metadata": {},
   "outputs": [
    {
     "name": "stdout",
     "output_type": "stream",
     "text": [
      "[1, 3, 5, 7, 9]\n"
     ]
    }
   ],
   "source": [
    "# 홀수 출력 \n",
    "d = list(range(1, 10, 2))\n",
    "print(d)"
   ]
  },
  {
   "cell_type": "code",
   "execution_count": 14,
   "id": "0bf3942f",
   "metadata": {},
   "outputs": [
    {
     "data": {
      "text/plain": [
       "['d', 'r', 'w', 'i', 'l', 'l']"
      ]
     },
     "execution_count": 14,
     "metadata": {},
     "output_type": "execute_result"
    }
   ],
   "source": [
    "# 문자 출력 \n",
    "list('drwill')"
   ]
  },
  {
   "cell_type": "code",
   "execution_count": 16,
   "id": "51851ca2",
   "metadata": {},
   "outputs": [
    {
     "name": "stdout",
     "output_type": "stream",
     "text": [
      "10\n",
      "20\n",
      "30\n",
      "40\n"
     ]
    }
   ],
   "source": [
    "# for 반복문 함께 활용 \n",
    "\n",
    "a = [10,20,30,40]\n",
    "\n",
    "for i in a : \n",
    "    print(i)"
   ]
  },
  {
   "cell_type": "code",
   "execution_count": 17,
   "id": "49b1b860",
   "metadata": {},
   "outputs": [
    {
     "name": "stdout",
     "output_type": "stream",
     "text": [
      "10\n",
      "20\n",
      "30\n",
      "40\n"
     ]
    }
   ],
   "source": [
    "for i in [10,20,30,40] : \n",
    "    print(i)"
   ]
  },
  {
   "cell_type": "code",
   "execution_count": 19,
   "id": "51f4867d",
   "metadata": {},
   "outputs": [
    {
     "name": "stdout",
     "output_type": "stream",
     "text": [
      "0 10\n",
      "1 20\n",
      "2 30\n",
      "3 40\n"
     ]
    }
   ],
   "source": [
    "# enumerate : 인덱스와 요소를 함께 출력\n",
    "\n",
    "a = [10,20,30,40]\n",
    "\n",
    "for i, v in enumerate(a): \n",
    "    print(i, v)"
   ]
  },
  {
   "cell_type": "code",
   "execution_count": 20,
   "id": "9615db04",
   "metadata": {},
   "outputs": [
    {
     "name": "stdout",
     "output_type": "stream",
     "text": [
      "1 10\n",
      "2 20\n",
      "3 30\n",
      "4 40\n"
     ]
    }
   ],
   "source": [
    "a = [10,20,30,40]\n",
    "\n",
    "for i, v in enumerate(a, start=1): \n",
    "    print(i, v)"
   ]
  },
  {
   "cell_type": "code",
   "execution_count": 21,
   "id": "fb1ef6c2",
   "metadata": {},
   "outputs": [
    {
     "name": "stdout",
     "output_type": "stream",
     "text": [
      "100\n"
     ]
    }
   ],
   "source": [
    "# 리스트 합 구하기 \n",
    "a = [10,20,30,40]\n",
    "\n",
    "sum = 0 # 초기화 \n",
    "for i in range(4): \n",
    "    sum = sum + a[i]\n",
    "    \n",
    "print(sum)\n"
   ]
  },
  {
   "cell_type": "code",
   "execution_count": 24,
   "id": "1af2c5f7",
   "metadata": {},
   "outputs": [
    {
     "data": {
      "text/plain": [
       "[0, 1, 2, 3]"
      ]
     },
     "execution_count": 24,
     "metadata": {},
     "output_type": "execute_result"
    }
   ],
   "source": [
    "list(range(4))"
   ]
  },
  {
   "cell_type": "code",
   "execution_count": 22,
   "id": "b322c120",
   "metadata": {},
   "outputs": [
    {
     "name": "stdout",
     "output_type": "stream",
     "text": [
      "100\n"
     ]
    }
   ],
   "source": [
    "a = [10,20,30,40]\n",
    "\n",
    "sum = 0 # 초기화 \n",
    "for i in a: \n",
    "    sum = sum + i\n",
    "    \n",
    "print(sum)"
   ]
  },
  {
   "cell_type": "code",
   "execution_count": 25,
   "id": "595721f7",
   "metadata": {},
   "outputs": [
    {
     "data": {
      "text/plain": [
       "10"
      ]
     },
     "execution_count": 25,
     "metadata": {},
     "output_type": "execute_result"
    }
   ],
   "source": [
    "a[0]"
   ]
  },
  {
   "cell_type": "code",
   "execution_count": 27,
   "id": "1c970dec",
   "metadata": {},
   "outputs": [
    {
     "name": "stdout",
     "output_type": "stream",
     "text": [
      "1번째 숫자:10\n",
      "2번째 숫자:20\n",
      "3번째 숫자:30\n",
      "4번째 숫자:40\n",
      "합계>>>100\n"
     ]
    }
   ],
   "source": [
    "## [ 실전 ] 리스트 합 구하기 \n",
    "\n",
    "# 리스트 초기화\n",
    "aa = [] # 빈 리스트 생성\n",
    "for i in range(0,4):\n",
    "    aa.append(0)\n",
    "    \n",
    "sum = 0 \n",
    "\n",
    "# 리스트에서 자료 입력 받기 \n",
    "for i in range(0,4):\n",
    "    aa[i] = int(input(str(i+1)+\"번째 숫자:\"))\n",
    "    \n",
    "# 리스트 합 구하기 \n",
    "for i in range(0,4):\n",
    "    sum = sum + aa[i]\n",
    "    \n",
    "# 리스트 값 구하세요. \n",
    "print(\"합계>>>%d\"%sum)"
   ]
  },
  {
   "cell_type": "code",
   "execution_count": 28,
   "id": "c514145f",
   "metadata": {},
   "outputs": [
    {
     "data": {
      "text/plain": [
       "[10, 20, 30, 40, 50, 60, 70, 80]"
      ]
     },
     "execution_count": 28,
     "metadata": {},
     "output_type": "execute_result"
    }
   ],
   "source": [
    "# 리스트의 인덱싱과 슬라이싱 \n",
    "a = [10,20,30,40,50,60,70,80,90]\n",
    "a[0:-1]"
   ]
  },
  {
   "cell_type": "code",
   "execution_count": 29,
   "id": "716a623d",
   "metadata": {},
   "outputs": [
    {
     "data": {
      "text/plain": [
       "[10, 20, 30, 40, 50, 60, 70, 80, 90]"
      ]
     },
     "execution_count": 29,
     "metadata": {},
     "output_type": "execute_result"
    }
   ],
   "source": [
    "a[0:len(a)]"
   ]
  },
  {
   "cell_type": "code",
   "execution_count": 30,
   "id": "7ca82c26",
   "metadata": {},
   "outputs": [
    {
     "data": {
      "text/plain": [
       "[]"
      ]
     },
     "execution_count": 30,
     "metadata": {},
     "output_type": "execute_result"
    }
   ],
   "source": [
    "a[1:1]"
   ]
  },
  {
   "cell_type": "code",
   "execution_count": 31,
   "id": "3fca6041",
   "metadata": {},
   "outputs": [
    {
     "data": {
      "text/plain": [
       "[10, 20, 30, 40, 50, 60, 70]"
      ]
     },
     "execution_count": 31,
     "metadata": {},
     "output_type": "execute_result"
    }
   ],
   "source": [
    "a[:7]"
   ]
  },
  {
   "cell_type": "code",
   "execution_count": 32,
   "id": "1d58c0ba",
   "metadata": {},
   "outputs": [
    {
     "data": {
      "text/plain": [
       "[10, 20, 30, 40, 50, 60, 70, 80, 90]"
      ]
     },
     "execution_count": 32,
     "metadata": {},
     "output_type": "execute_result"
    }
   ],
   "source": [
    "a[:]"
   ]
  },
  {
   "cell_type": "code",
   "execution_count": 33,
   "id": "029bc2e1",
   "metadata": {},
   "outputs": [
    {
     "data": {
      "text/plain": [
       "[10, 200, 30, 40, 50, 60, 70, 80, 90]"
      ]
     },
     "execution_count": 33,
     "metadata": {},
     "output_type": "execute_result"
    }
   ],
   "source": [
    "a[1] = 200\n",
    "a"
   ]
  },
  {
   "cell_type": "code",
   "execution_count": 34,
   "id": "14a29c7d",
   "metadata": {},
   "outputs": [],
   "source": [
    "a[1:2] = [200,201]"
   ]
  },
  {
   "cell_type": "code",
   "execution_count": 35,
   "id": "a3cc1f89",
   "metadata": {},
   "outputs": [
    {
     "data": {
      "text/plain": [
       "[10, 200, 201, 30, 40, 50, 60, 70, 80, 90]"
      ]
     },
     "execution_count": 35,
     "metadata": {},
     "output_type": "execute_result"
    }
   ],
   "source": [
    "a"
   ]
  },
  {
   "cell_type": "code",
   "execution_count": 36,
   "id": "1714ab72",
   "metadata": {},
   "outputs": [],
   "source": [
    "a[1] = [300,301]"
   ]
  },
  {
   "cell_type": "code",
   "execution_count": 37,
   "id": "03b5ff7d",
   "metadata": {},
   "outputs": [
    {
     "data": {
      "text/plain": [
       "[10, [300, 301], 201, 30, 40, 50, 60, 70, 80, 90]"
      ]
     },
     "execution_count": 37,
     "metadata": {},
     "output_type": "execute_result"
    }
   ],
   "source": [
    "a"
   ]
  },
  {
   "cell_type": "code",
   "execution_count": 38,
   "id": "da3f2ccb",
   "metadata": {},
   "outputs": [],
   "source": [
    "del(a[1])"
   ]
  },
  {
   "cell_type": "code",
   "execution_count": 39,
   "id": "6b14db28",
   "metadata": {},
   "outputs": [
    {
     "data": {
      "text/plain": [
       "[10, 201, 30, 40, 50, 60, 70, 80, 90]"
      ]
     },
     "execution_count": 39,
     "metadata": {},
     "output_type": "execute_result"
    }
   ],
   "source": [
    "a"
   ]
  },
  {
   "cell_type": "code",
   "execution_count": 40,
   "id": "35f8ff1d",
   "metadata": {},
   "outputs": [
    {
     "data": {
      "text/plain": [
       "[10, 50, 60, 70, 80, 90]"
      ]
     },
     "execution_count": 40,
     "metadata": {},
     "output_type": "execute_result"
    }
   ],
   "source": [
    "a[1:4] = []\n",
    "a"
   ]
  },
  {
   "cell_type": "code",
   "execution_count": 41,
   "id": "11da20df",
   "metadata": {},
   "outputs": [],
   "source": [
    "del(a[:2])"
   ]
  },
  {
   "cell_type": "code",
   "execution_count": 42,
   "id": "aaa60393",
   "metadata": {},
   "outputs": [
    {
     "data": {
      "text/plain": [
       "[60, 70, 80, 90]"
      ]
     },
     "execution_count": 42,
     "metadata": {},
     "output_type": "execute_result"
    }
   ],
   "source": [
    "a"
   ]
  },
  {
   "cell_type": "code",
   "execution_count": 43,
   "id": "fd798f5c",
   "metadata": {},
   "outputs": [
    {
     "data": {
      "text/plain": [
       "[60, 70, 80, 90, 40, 50, 60]"
      ]
     },
     "execution_count": 43,
     "metadata": {},
     "output_type": "execute_result"
    }
   ],
   "source": [
    "b = [40,50,60]\n",
    "a+b"
   ]
  },
  {
   "cell_type": "code",
   "execution_count": 44,
   "id": "eeeb0061",
   "metadata": {},
   "outputs": [
    {
     "data": {
      "text/plain": [
       "[40, 50, 60, 40, 50, 60, 40, 50, 60]"
      ]
     },
     "execution_count": 44,
     "metadata": {},
     "output_type": "execute_result"
    }
   ],
   "source": [
    "b * 3"
   ]
  },
  {
   "cell_type": "markdown",
   "id": "e4a60754",
   "metadata": {},
   "source": [
    "2. 리스트 조작함수 "
   ]
  },
  {
   "cell_type": "code",
   "execution_count": 47,
   "id": "9a3565ae",
   "metadata": {},
   "outputs": [],
   "source": [
    "# 1) count(값)\n",
    "c = [40,50,60,60, 70, 80, 90]"
   ]
  },
  {
   "cell_type": "code",
   "execution_count": 49,
   "id": "a29f0ed6",
   "metadata": {},
   "outputs": [
    {
     "data": {
      "text/plain": [
       "2"
      ]
     },
     "execution_count": 49,
     "metadata": {},
     "output_type": "execute_result"
    }
   ],
   "source": [
    "c.count(60)"
   ]
  },
  {
   "cell_type": "code",
   "execution_count": 54,
   "id": "e6c9ebbd",
   "metadata": {},
   "outputs": [
    {
     "name": "stdout",
     "output_type": "stream",
     "text": [
      "[40, 50, 60, 60, 70, 80, 90]\n",
      "[90, 80, 70, 60, 60, 50, 40]\n"
     ]
    }
   ],
   "source": [
    "# reverse() : 리스트에서 요소의 순서는 역순으로 만들어줌 \n",
    "\n",
    "print(c)\n",
    "c.reverse() # method 로 접근해야 함 \n",
    "print(c)"
   ]
  },
  {
   "cell_type": "code",
   "execution_count": 57,
   "id": "ef1a27ec",
   "metadata": {},
   "outputs": [
    {
     "data": {
      "text/plain": [
       "[40, 50, 60, 60, 70, 80, 90]"
      ]
     },
     "execution_count": 57,
     "metadata": {},
     "output_type": "execute_result"
    }
   ],
   "source": [
    "list(reversed(c))"
   ]
  },
  {
   "cell_type": "code",
   "execution_count": 59,
   "id": "7a2b8cd1",
   "metadata": {},
   "outputs": [
    {
     "data": {
      "text/plain": [
       "[40, 50, 60, 60, 70, 80, 90]"
      ]
     },
     "execution_count": 59,
     "metadata": {},
     "output_type": "execute_result"
    }
   ],
   "source": [
    "# sort() : 리스트 요소를 올림차순으로 정렬(default)\n",
    "\n",
    "c \n",
    "c.sort() \n",
    "c"
   ]
  },
  {
   "cell_type": "code",
   "execution_count": 60,
   "id": "3e146ef6",
   "metadata": {},
   "outputs": [
    {
     "data": {
      "text/plain": [
       "[90, 80, 70, 60, 60, 50, 40]"
      ]
     },
     "execution_count": 60,
     "metadata": {},
     "output_type": "execute_result"
    }
   ],
   "source": [
    "c.sort(reverse=True)\n",
    "c"
   ]
  },
  {
   "cell_type": "code",
   "execution_count": 63,
   "id": "d173aaf8",
   "metadata": {},
   "outputs": [
    {
     "data": {
      "text/plain": [
       "[40, 50, 60, 70, 80, 90]"
      ]
     },
     "execution_count": 63,
     "metadata": {},
     "output_type": "execute_result"
    }
   ],
   "source": [
    "# sort vs. sorted \n",
    "\n",
    "e = [40, 50, 60, 70, 80, 90]\n",
    "sorted(e)\n",
    "e"
   ]
  },
  {
   "cell_type": "code",
   "execution_count": 64,
   "id": "e08cf8ed",
   "metadata": {},
   "outputs": [
    {
     "data": {
      "text/plain": [
       "[90, 80, 70, 60, 50, 40]"
      ]
     },
     "execution_count": 64,
     "metadata": {},
     "output_type": "execute_result"
    }
   ],
   "source": [
    "sorted(e, reverse=True)"
   ]
  },
  {
   "cell_type": "code",
   "execution_count": 65,
   "id": "88452bf0",
   "metadata": {},
   "outputs": [
    {
     "data": {
      "text/plain": [
       "([1, 2, 3, 4, 5], [1, 2, 3, 4, 5])"
      ]
     },
     "execution_count": 65,
     "metadata": {},
     "output_type": "execute_result"
    }
   ],
   "source": [
    "# 리스트 복사 \n",
    "# 얕은 복사, 깊은 복사 \n",
    "\n",
    "# soft copy\n",
    "a = [1,2,3,4,5]\n",
    "b = a\n",
    "\n",
    "a, b\n"
   ]
  },
  {
   "cell_type": "code",
   "execution_count": 66,
   "id": "585e4720",
   "metadata": {},
   "outputs": [
    {
     "data": {
      "text/plain": [
       "True"
      ]
     },
     "execution_count": 66,
     "metadata": {},
     "output_type": "execute_result"
    }
   ],
   "source": [
    "a is b "
   ]
  },
  {
   "cell_type": "code",
   "execution_count": 67,
   "id": "bd0099fc",
   "metadata": {},
   "outputs": [
    {
     "data": {
      "text/plain": [
       "[1, 2, 100, 4, 5]"
      ]
     },
     "execution_count": 67,
     "metadata": {},
     "output_type": "execute_result"
    }
   ],
   "source": [
    "b[2] = 100\n",
    "b"
   ]
  },
  {
   "cell_type": "code",
   "execution_count": 68,
   "id": "da9d0b26",
   "metadata": {},
   "outputs": [
    {
     "data": {
      "text/plain": [
       "([1, 2, 100, 4, 5], [1, 2, 100, 4, 5])"
      ]
     },
     "execution_count": 68,
     "metadata": {},
     "output_type": "execute_result"
    }
   ],
   "source": [
    "a, b"
   ]
  },
  {
   "cell_type": "code",
   "execution_count": 69,
   "id": "3a0d1c19",
   "metadata": {},
   "outputs": [
    {
     "data": {
      "text/plain": [
       "([1, 2, 100, 4, 5], [1, 2, 100, 4, 5])"
      ]
     },
     "execution_count": 69,
     "metadata": {},
     "output_type": "execute_result"
    }
   ],
   "source": [
    "# hard copy\n",
    "\n",
    "a, b"
   ]
  },
  {
   "cell_type": "code",
   "execution_count": 70,
   "id": "efc512e4",
   "metadata": {},
   "outputs": [],
   "source": [
    "b = a.copy()"
   ]
  },
  {
   "cell_type": "code",
   "execution_count": 71,
   "id": "7d078f94",
   "metadata": {},
   "outputs": [
    {
     "data": {
      "text/plain": [
       "True"
      ]
     },
     "execution_count": 71,
     "metadata": {},
     "output_type": "execute_result"
    }
   ],
   "source": [
    "a == b"
   ]
  },
  {
   "cell_type": "code",
   "execution_count": 72,
   "id": "a5464c17",
   "metadata": {},
   "outputs": [
    {
     "data": {
      "text/plain": [
       "False"
      ]
     },
     "execution_count": 72,
     "metadata": {},
     "output_type": "execute_result"
    }
   ],
   "source": [
    "a is b "
   ]
  },
  {
   "cell_type": "code",
   "execution_count": 73,
   "id": "d56e4c69",
   "metadata": {},
   "outputs": [
    {
     "data": {
      "text/plain": [
       "([1, 2, 100, 4, 5], [1, 2, 3, 4, 5])"
      ]
     },
     "execution_count": 73,
     "metadata": {},
     "output_type": "execute_result"
    }
   ],
   "source": [
    "b[2] = 3\n",
    "\n",
    "a, b"
   ]
  },
  {
   "cell_type": "code",
   "execution_count": 74,
   "id": "b08ed418",
   "metadata": {},
   "outputs": [
    {
     "data": {
      "text/plain": [
       "[1, 2, 100, 4, 5]"
      ]
     },
     "execution_count": 74,
     "metadata": {},
     "output_type": "execute_result"
    }
   ],
   "source": [
    "# append() : 리스트 맨 뒤에 원소 추가 \n",
    "\n",
    "a"
   ]
  },
  {
   "cell_type": "code",
   "execution_count": 75,
   "id": "4142e9ed",
   "metadata": {},
   "outputs": [
    {
     "data": {
      "text/plain": [
       "[1, 2, 100, 4, 5, 100]"
      ]
     },
     "execution_count": 75,
     "metadata": {},
     "output_type": "execute_result"
    }
   ],
   "source": [
    "a.append(100)\n",
    "a"
   ]
  },
  {
   "cell_type": "code",
   "execution_count": 76,
   "id": "242b4884",
   "metadata": {},
   "outputs": [
    {
     "data": {
      "text/plain": [
       "([1, 2, 100, 4, 5, 100], [1, 2, 3, 4, 5])"
      ]
     },
     "execution_count": 76,
     "metadata": {},
     "output_type": "execute_result"
    }
   ],
   "source": [
    "# extend() : 리스트 결합 \n",
    "\n",
    "a, b"
   ]
  },
  {
   "cell_type": "code",
   "execution_count": 77,
   "id": "16ebda7d",
   "metadata": {},
   "outputs": [],
   "source": [
    "a.extend(b)"
   ]
  },
  {
   "cell_type": "code",
   "execution_count": 78,
   "id": "5bd9088f",
   "metadata": {},
   "outputs": [
    {
     "data": {
      "text/plain": [
       "[1, 2, 100, 4, 5, 100, 1, 2, 3, 4, 5]"
      ]
     },
     "execution_count": 78,
     "metadata": {},
     "output_type": "execute_result"
    }
   ],
   "source": [
    "a"
   ]
  },
  {
   "cell_type": "code",
   "execution_count": 79,
   "id": "275dd77a",
   "metadata": {},
   "outputs": [
    {
     "data": {
      "text/plain": [
       "[1, 2, 100, 4, 5, 100, 1, 2, 3, 4, 5, 1, 2, 3, 4, 5]"
      ]
     },
     "execution_count": 79,
     "metadata": {},
     "output_type": "execute_result"
    }
   ],
   "source": [
    "a+b"
   ]
  },
  {
   "cell_type": "code",
   "execution_count": 80,
   "id": "38b34cc4",
   "metadata": {},
   "outputs": [
    {
     "data": {
      "text/plain": [
       "[10, 20, 500, 30]"
      ]
     },
     "execution_count": 80,
     "metadata": {},
     "output_type": "execute_result"
    }
   ],
   "source": [
    "# insert() : 리스트 특정 인덱스에 요소 추가 \n",
    "\n",
    "f = [10,20,30]\n",
    "f.insert(2, 500) # insert(idx, value)\n",
    "f"
   ]
  },
  {
   "cell_type": "code",
   "execution_count": 83,
   "id": "11661b26",
   "metadata": {},
   "outputs": [
    {
     "data": {
      "text/plain": [
       "[10, 20, 500, 30, 300, 300]"
      ]
     },
     "execution_count": 83,
     "metadata": {},
     "output_type": "execute_result"
    }
   ],
   "source": [
    "f.insert(len(f), 300)\n",
    "f"
   ]
  },
  {
   "cell_type": "code",
   "execution_count": 85,
   "id": "20dc854c",
   "metadata": {},
   "outputs": [
    {
     "data": {
      "text/plain": [
       "30"
      ]
     },
     "execution_count": 85,
     "metadata": {},
     "output_type": "execute_result"
    }
   ],
   "source": [
    "# pop() : 해당 인덱스 요소를 삭제, 그 삭제한 요소 반환 \n",
    "g = [10,20,30]\n",
    "g.pop()"
   ]
  },
  {
   "cell_type": "code",
   "execution_count": 87,
   "id": "43b3a523",
   "metadata": {},
   "outputs": [
    {
     "data": {
      "text/plain": [
       "[10, 20]"
      ]
     },
     "execution_count": 87,
     "metadata": {},
     "output_type": "execute_result"
    }
   ],
   "source": [
    "g"
   ]
  },
  {
   "cell_type": "code",
   "execution_count": 88,
   "id": "fe431a2e",
   "metadata": {},
   "outputs": [
    {
     "data": {
      "text/plain": [
       "[10, 20]"
      ]
     },
     "execution_count": 88,
     "metadata": {},
     "output_type": "execute_result"
    }
   ],
   "source": [
    "# del vs remove\n",
    "\n",
    "g"
   ]
  },
  {
   "cell_type": "code",
   "execution_count": 89,
   "id": "46f79c59",
   "metadata": {},
   "outputs": [],
   "source": [
    "del g[1]"
   ]
  },
  {
   "cell_type": "code",
   "execution_count": 90,
   "id": "cd2f688f",
   "metadata": {},
   "outputs": [
    {
     "data": {
      "text/plain": [
       "[10]"
      ]
     },
     "execution_count": 90,
     "metadata": {},
     "output_type": "execute_result"
    }
   ],
   "source": [
    "g"
   ]
  },
  {
   "cell_type": "code",
   "execution_count": 91,
   "id": "5ae1cf3f",
   "metadata": {},
   "outputs": [
    {
     "data": {
      "text/plain": [
       "[1, 2]"
      ]
     },
     "execution_count": 91,
     "metadata": {},
     "output_type": "execute_result"
    }
   ],
   "source": [
    "# remove() : 리스트에서 특정 \"값\" 찾아서 삭제\n",
    "h = [1,2,3]\n",
    "h.remove(3)\n",
    "h"
   ]
  },
  {
   "cell_type": "code",
   "execution_count": 101,
   "id": "9c723e99",
   "metadata": {},
   "outputs": [
    {
     "data": {
      "text/plain": [
       "[]"
      ]
     },
     "execution_count": 101,
     "metadata": {},
     "output_type": "execute_result"
    }
   ],
   "source": [
    "# clear()\n",
    "\n",
    "a = [10,20,30]\n",
    "a.clear()\n",
    "a"
   ]
  },
  {
   "cell_type": "code",
   "execution_count": 102,
   "id": "e511cf30",
   "metadata": {},
   "outputs": [
    {
     "data": {
      "text/plain": [
       "[]"
      ]
     },
     "execution_count": 102,
     "metadata": {},
     "output_type": "execute_result"
    }
   ],
   "source": [
    "a = [10,20,30]\n",
    "a = []\n",
    "a"
   ]
  },
  {
   "cell_type": "code",
   "execution_count": 104,
   "id": "9bc3d09e",
   "metadata": {},
   "outputs": [
    {
     "name": "stdout",
     "output_type": "stream",
     "text": [
      "4000원 입니다.\n"
     ]
    }
   ],
   "source": [
    "# [실습] 연유라떼 얼마일까요?\n",
    "\n",
    "menu = ['아메리카노', '밀크티', '연유라떼','카푸치노','까페라떼']\n",
    "price = [2500, 4500, 4000, 3500, 4000]\n",
    "\n",
    "연유라떼 = price[2]\n",
    "print('{}원 입니다.'.format(연유라떼))"
   ]
  },
  {
   "cell_type": "code",
   "execution_count": 105,
   "id": "ebfed87b",
   "metadata": {},
   "outputs": [
    {
     "name": "stdout",
     "output_type": "stream",
     "text": [
      "4000원 입니다.\n"
     ]
    }
   ],
   "source": [
    "연유라떼 = dict(zip(menu,price))['연유라떼']\n",
    "print('{}원 입니다.'.format(연유라떼))"
   ]
  },
  {
   "cell_type": "code",
   "execution_count": 107,
   "id": "89fd4ec6",
   "metadata": {},
   "outputs": [
    {
     "data": {
      "text/plain": [
       "{'아메리카노': 2500, '밀크티': 4500, '연유라떼': 4000, '카푸치노': 3500, '까페라떼': 4000}"
      ]
     },
     "execution_count": 107,
     "metadata": {},
     "output_type": "execute_result"
    }
   ],
   "source": [
    "dict(zip(menu, price))"
   ]
  },
  {
   "cell_type": "code",
   "execution_count": 108,
   "id": "84814668",
   "metadata": {},
   "outputs": [
    {
     "data": {
      "text/plain": [
       "{'아메리카노': 2500, '밀크티': 4500, '연유라떼': 4000, '카푸치노': 3500, '까페라떼': 4000}"
      ]
     },
     "execution_count": 108,
     "metadata": {},
     "output_type": "execute_result"
    }
   ],
   "source": [
    "판매제품 = dict(zip(menu, price))\n",
    "판매제품"
   ]
  },
  {
   "cell_type": "code",
   "execution_count": 109,
   "id": "7e52dc4d",
   "metadata": {},
   "outputs": [
    {
     "data": {
      "text/plain": [
       "4000"
      ]
     },
     "execution_count": 109,
     "metadata": {},
     "output_type": "execute_result"
    }
   ],
   "source": [
    "판매제품['연유라떼']"
   ]
  },
  {
   "cell_type": "code",
   "execution_count": 114,
   "id": "1ca44de2",
   "metadata": {},
   "outputs": [],
   "source": [
    "# [실습]  카페모카 얼마일까요?\n",
    "\n",
    "menu = ['아메리카노', '밀크티', '연유라떼','카푸치노','까페모카']\n",
    "price = [2500, 4500, 4000, 3500, 4500]"
   ]
  },
  {
   "cell_type": "code",
   "execution_count": 116,
   "id": "2afb1946",
   "metadata": {},
   "outputs": [
    {
     "name": "stdout",
     "output_type": "stream",
     "text": [
      "4500원입니다.\n"
     ]
    }
   ],
   "source": [
    "까페모카_index = menu[-1]\n",
    "까페모카_price = price[-1]\n",
    "\n",
    "print(\"{}원입니다.\".format(까페모카_price))"
   ]
  },
  {
   "cell_type": "code",
   "execution_count": 119,
   "id": "b2a1e670",
   "metadata": {},
   "outputs": [
    {
     "name": "stdout",
     "output_type": "stream",
     "text": [
      "4500원입니다.\n"
     ]
    }
   ],
   "source": [
    "카페모카_index = menu[4]\n",
    "카페모카_price = price[4]\n",
    "print(\"{}원입니다.\".format(까페모카_price))"
   ]
  },
  {
   "cell_type": "code",
   "execution_count": 122,
   "id": "a6b5c9da",
   "metadata": {
    "scrolled": true
   },
   "outputs": [
    {
     "data": {
      "text/plain": [
       "4"
      ]
     },
     "execution_count": 122,
     "metadata": {},
     "output_type": "execute_result"
    }
   ],
   "source": [
    "menu.index('까페모카')"
   ]
  },
  {
   "cell_type": "code",
   "execution_count": 123,
   "id": "8fa32561",
   "metadata": {},
   "outputs": [
    {
     "data": {
      "text/plain": [
       "4500"
      ]
     },
     "execution_count": 123,
     "metadata": {},
     "output_type": "execute_result"
    }
   ],
   "source": [
    "price[까페모카_idx]"
   ]
  },
  {
   "cell_type": "code",
   "execution_count": 121,
   "id": "1090da4d",
   "metadata": {},
   "outputs": [
    {
     "name": "stdout",
     "output_type": "stream",
     "text": [
      "4500원입니다.\n"
     ]
    }
   ],
   "source": [
    "까페모카_idx = menu.index('까페모카')\n",
    "까페모카_price = price[까페모카_idx]\n",
    "\n",
    "print(\"{}원입니다.\".format(까페모카_price))"
   ]
  },
  {
   "cell_type": "markdown",
   "id": "8b81e4f2",
   "metadata": {},
   "source": [
    "3. 리스트 내포(list comprehension)"
   ]
  },
  {
   "cell_type": "code",
   "execution_count": 124,
   "id": "a30d7748",
   "metadata": {},
   "outputs": [
    {
     "data": {
      "text/plain": [
       "[0, 1, 2, 3, 4, 5, 6, 7, 8, 9]"
      ]
     },
     "execution_count": 124,
     "metadata": {},
     "output_type": "execute_result"
    }
   ],
   "source": [
    "list(range(10))"
   ]
  },
  {
   "cell_type": "code",
   "execution_count": 129,
   "id": "5fab2a1b",
   "metadata": {},
   "outputs": [
    {
     "data": {
      "text/plain": [
       "[0, 1, 2, 3, 4, 5, 6, 7, 8, 9]"
      ]
     },
     "execution_count": 129,
     "metadata": {},
     "output_type": "execute_result"
    }
   ],
   "source": [
    "c = [i for i in list(range(10))]\n",
    "c"
   ]
  },
  {
   "cell_type": "code",
   "execution_count": 126,
   "id": "66653b09",
   "metadata": {},
   "outputs": [
    {
     "data": {
      "text/plain": [
       "[5, 6, 7, 8, 9, 10, 11, 12, 13, 14]"
      ]
     },
     "execution_count": 126,
     "metadata": {},
     "output_type": "execute_result"
    }
   ],
   "source": [
    "[i + 5 for i in list(range(10))]"
   ]
  },
  {
   "cell_type": "code",
   "execution_count": 128,
   "id": "d5211eb9",
   "metadata": {},
   "outputs": [
    {
     "data": {
      "text/plain": [
       "[0, 2, 4, 6, 8, 10, 12, 14, 16, 18]"
      ]
     },
     "execution_count": 128,
     "metadata": {},
     "output_type": "execute_result"
    }
   ],
   "source": [
    "[i * 2 for i in list(range(10))]"
   ]
  },
  {
   "cell_type": "code",
   "execution_count": 130,
   "id": "185a10ce",
   "metadata": {},
   "outputs": [
    {
     "data": {
      "text/plain": [
       "[0, 2, 4, 6, 8]"
      ]
     },
     "execution_count": 130,
     "metadata": {},
     "output_type": "execute_result"
    }
   ],
   "source": [
    "# 리스트 내포에서 if 조건문 함께 사용하기\n",
    "[i for i in list(range(10)) if i % 2 == 0 ]"
   ]
  },
  {
   "cell_type": "code",
   "execution_count": 131,
   "id": "26fc66f6",
   "metadata": {},
   "outputs": [
    {
     "data": {
      "text/plain": [
       "[1, 3, 5, 7, 9]"
      ]
     },
     "execution_count": 131,
     "metadata": {},
     "output_type": "execute_result"
    }
   ],
   "source": [
    "[i for i in list(range(10)) if i % 2 == 1 ]"
   ]
  },
  {
   "cell_type": "code",
   "execution_count": 134,
   "id": "4be5886e",
   "metadata": {},
   "outputs": [],
   "source": [
    "# 문제 발견\n",
    "#a = [1.2, 3.4, 5.6, 7.8]\n",
    "# int(a) \n",
    "# TypeError: int() argument must be a string, a bytes-like object or a number, not 'list'"
   ]
  },
  {
   "cell_type": "code",
   "execution_count": 132,
   "id": "8a26c73b",
   "metadata": {},
   "outputs": [
    {
     "name": "stdout",
     "output_type": "stream",
     "text": [
      "[1, 3, 5, 7]\n"
     ]
    }
   ],
   "source": [
    "# map() 함수 (***)\n",
    "\n",
    "# 1) for 반복문 \n",
    "for i in range(len(a)): \n",
    "    a[i] = int(a[i])\n",
    "    \n",
    "print(a)"
   ]
  },
  {
   "cell_type": "code",
   "execution_count": 136,
   "id": "76cd9980",
   "metadata": {},
   "outputs": [
    {
     "data": {
      "text/plain": [
       "[1, 3, 5, 7]"
      ]
     },
     "execution_count": 136,
     "metadata": {},
     "output_type": "execute_result"
    }
   ],
   "source": [
    "# 2) map() : \n",
    "\n",
    "a = [1.2, 3.4, 5.6, 7.8]\n",
    "\n",
    "list(map(int, a))"
   ]
  },
  {
   "cell_type": "code",
   "execution_count": 137,
   "id": "61e73573",
   "metadata": {},
   "outputs": [
    {
     "data": {
      "text/plain": [
       "['1.2', '3.4', '5.6', '7.8']"
      ]
     },
     "execution_count": 137,
     "metadata": {},
     "output_type": "execute_result"
    }
   ],
   "source": [
    "list(map(str, a))"
   ]
  },
  {
   "cell_type": "code",
   "execution_count": 139,
   "id": "764e9ed6",
   "metadata": {},
   "outputs": [
    {
     "data": {
      "text/plain": [
       "((10, 20, 30), tuple)"
      ]
     },
     "execution_count": 139,
     "metadata": {},
     "output_type": "execute_result"
    }
   ],
   "source": [
    "# 튜플 \n",
    "\n",
    "t1 = (10,20,30)\n",
    "t1 , type(t1)"
   ]
  },
  {
   "cell_type": "code",
   "execution_count": 140,
   "id": "4aa3a1df",
   "metadata": {},
   "outputs": [
    {
     "data": {
      "text/plain": [
       "(10, 20, 30)"
      ]
     },
     "execution_count": 140,
     "metadata": {},
     "output_type": "execute_result"
    }
   ],
   "source": [
    "t2 = 10,20,30 ; t2"
   ]
  },
  {
   "cell_type": "code",
   "execution_count": 141,
   "id": "d9d48b74",
   "metadata": {},
   "outputs": [
    {
     "data": {
      "text/plain": [
       "()"
      ]
     },
     "execution_count": 141,
     "metadata": {},
     "output_type": "execute_result"
    }
   ],
   "source": [
    "a = () ; a"
   ]
  },
  {
   "cell_type": "code",
   "execution_count": 143,
   "id": "a333b5e5",
   "metadata": {},
   "outputs": [
    {
     "data": {
      "text/plain": [
       "(1, 2, 3)"
      ]
     },
     "execution_count": 143,
     "metadata": {},
     "output_type": "execute_result"
    }
   ],
   "source": [
    "tuple([1,2,3])"
   ]
  },
  {
   "cell_type": "code",
   "execution_count": 144,
   "id": "fbab6c77",
   "metadata": {},
   "outputs": [
    {
     "data": {
      "text/plain": [
       "(0, 1, 2, 3, 4, 5, 6, 7, 8, 9)"
      ]
     },
     "execution_count": 144,
     "metadata": {},
     "output_type": "execute_result"
    }
   ],
   "source": [
    "tuple(range(10))"
   ]
  },
  {
   "cell_type": "code",
   "execution_count": 145,
   "id": "b8a3c579",
   "metadata": {},
   "outputs": [
    {
     "data": {
      "text/plain": [
       "(10, 9, 8, 7, 6, 5, 4, 3, 2, 1)"
      ]
     },
     "execution_count": 145,
     "metadata": {},
     "output_type": "execute_result"
    }
   ],
   "source": [
    "tuple(range(10, 0 , -1))"
   ]
  },
  {
   "cell_type": "code",
   "execution_count": 146,
   "id": "e7b5fd40",
   "metadata": {},
   "outputs": [
    {
     "data": {
      "text/plain": [
       "(10, 12, 14, 16, 18)"
      ]
     },
     "execution_count": 146,
     "metadata": {},
     "output_type": "execute_result"
    }
   ],
   "source": [
    "tuple(range(10, 20 , 2))"
   ]
  },
  {
   "cell_type": "code",
   "execution_count": 148,
   "id": "ead5730a",
   "metadata": {},
   "outputs": [
    {
     "data": {
      "text/plain": [
       "[10, 12, 14, 16, 18]"
      ]
     },
     "execution_count": 148,
     "metadata": {},
     "output_type": "execute_result"
    }
   ],
   "source": [
    "tl = list(tuple(range(10, 20 , 2)))\n",
    "tl"
   ]
  },
  {
   "cell_type": "code",
   "execution_count": 149,
   "id": "e08a14e7",
   "metadata": {},
   "outputs": [
    {
     "data": {
      "text/plain": [
       "[10, 12, 24, 16, 18]"
      ]
     },
     "execution_count": 149,
     "metadata": {},
     "output_type": "execute_result"
    }
   ],
   "source": [
    "tl[2] = 24\n",
    "tl"
   ]
  },
  {
   "cell_type": "code",
   "execution_count": 151,
   "id": "2fe839b3",
   "metadata": {
    "scrolled": true
   },
   "outputs": [
    {
     "data": {
      "text/plain": [
       "(10, 12, 24, 16, 18)"
      ]
     },
     "execution_count": 151,
     "metadata": {},
     "output_type": "execute_result"
    }
   ],
   "source": [
    "lt = tuple(tl)\n",
    "lt"
   ]
  },
  {
   "cell_type": "code",
   "execution_count": 153,
   "id": "1f9e56bb",
   "metadata": {},
   "outputs": [],
   "source": [
    "# lt[2] = 10\n",
    "# lt\n",
    "# TypeError: 'tuple' object does not support item assignment"
   ]
  },
  {
   "cell_type": "code",
   "execution_count": 155,
   "id": "137ce353",
   "metadata": {},
   "outputs": [
    {
     "data": {
      "text/plain": [
       "{'stu_id': 1000, 'name': 'drwill', 'dept': 'computer science'}"
      ]
     },
     "execution_count": 155,
     "metadata": {},
     "output_type": "execute_result"
    }
   ],
   "source": [
    "# dict() : 딕셔너리 (key : value)\n",
    "\n",
    "student = {'stu_id': 1000, \"name\": 'drwill',\"dept\":\"computer science\"}\n",
    "student"
   ]
  },
  {
   "cell_type": "code",
   "execution_count": 157,
   "id": "4d9ab621",
   "metadata": {},
   "outputs": [
    {
     "data": {
      "text/plain": [
       "'drwill'"
      ]
     },
     "execution_count": 157,
     "metadata": {},
     "output_type": "execute_result"
    }
   ],
   "source": [
    "student['name']"
   ]
  },
  {
   "cell_type": "code",
   "execution_count": 158,
   "id": "3d862727",
   "metadata": {
    "scrolled": false
   },
   "outputs": [
    {
     "data": {
      "text/plain": [
       "dict_keys(['stu_id', 'name', 'dept'])"
      ]
     },
     "execution_count": 158,
     "metadata": {},
     "output_type": "execute_result"
    }
   ],
   "source": [
    "student.keys()"
   ]
  },
  {
   "cell_type": "code",
   "execution_count": 164,
   "id": "47647f3f",
   "metadata": {},
   "outputs": [
    {
     "data": {
      "text/plain": [
       "dict_values([1000, 'drwill', 'computer science', 'seoul', '010-1234-5678'])"
      ]
     },
     "execution_count": 164,
     "metadata": {},
     "output_type": "execute_result"
    }
   ],
   "source": [
    "student.values()"
   ]
  },
  {
   "cell_type": "code",
   "execution_count": 165,
   "id": "6e9ded9c",
   "metadata": {},
   "outputs": [
    {
     "data": {
      "text/plain": [
       "{'stu_id': 1000,\n",
       " 'name': 'drwill',\n",
       " 'dept': 'computer science',\n",
       " 'addr': 'seoul',\n",
       " 'contant': '010-1234-5678',\n",
       " 'contact': '010-1234-5678'}"
      ]
     },
     "execution_count": 165,
     "metadata": {},
     "output_type": "execute_result"
    }
   ],
   "source": [
    "student['contact'] = '010-1234-5678'\n",
    "student"
   ]
  },
  {
   "cell_type": "code",
   "execution_count": 166,
   "id": "e22d2039",
   "metadata": {},
   "outputs": [
    {
     "data": {
      "text/plain": [
       "dict_items([('stu_id', 1000), ('name', 'drwill'), ('dept', 'computer science'), ('addr', 'seoul'), ('contant', '010-1234-5678'), ('contact', '010-1234-5678')])"
      ]
     },
     "execution_count": 166,
     "metadata": {},
     "output_type": "execute_result"
    }
   ],
   "source": [
    "# items() : very imfortant\n",
    "student.items()"
   ]
  },
  {
   "cell_type": "code",
   "execution_count": 167,
   "id": "53daf79c",
   "metadata": {
    "scrolled": true
   },
   "outputs": [
    {
     "name": "stdout",
     "output_type": "stream",
     "text": [
      "stu_id 1000\n",
      "name drwill\n",
      "dept computer science\n",
      "addr seoul\n",
      "contant 010-1234-5678\n",
      "contact 010-1234-5678\n"
     ]
    }
   ],
   "source": [
    "for k, v in student.items():\n",
    "    print(k, v)"
   ]
  },
  {
   "cell_type": "code",
   "execution_count": 169,
   "id": "ba70e021",
   "metadata": {},
   "outputs": [],
   "source": [
    "del(student['contant'])"
   ]
  },
  {
   "cell_type": "code",
   "execution_count": 170,
   "id": "d2321ad2",
   "metadata": {},
   "outputs": [
    {
     "data": {
      "text/plain": [
       "{'stu_id': 1000,\n",
       " 'name': 'drwill',\n",
       " 'dept': 'computer science',\n",
       " 'addr': 'seoul',\n",
       " 'contact': '010-1234-5678'}"
      ]
     },
     "execution_count": 170,
     "metadata": {},
     "output_type": "execute_result"
    }
   ],
   "source": [
    "student"
   ]
  },
  {
   "cell_type": "code",
   "execution_count": 168,
   "id": "0f9938e9",
   "metadata": {},
   "outputs": [],
   "source": [
    "# in 연산자\n",
    "\n",
    "if 'addr' not in student:\n",
    "    student['addr'] = 'seoul'"
   ]
  },
  {
   "cell_type": "code",
   "execution_count": 173,
   "id": "8f70e9bb",
   "metadata": {},
   "outputs": [],
   "source": [
    "if 'email' not in student:\n",
    "    student['email'] = student['name'] + '@multi.co.kr'"
   ]
  },
  {
   "cell_type": "code",
   "execution_count": 174,
   "id": "2b66b1cd",
   "metadata": {},
   "outputs": [
    {
     "data": {
      "text/plain": [
       "{'stu_id': 1000,\n",
       " 'name': 'drwill',\n",
       " 'dept': 'computer science',\n",
       " 'addr': 'seoul',\n",
       " 'contact': '010-1234-5678',\n",
       " 'email': 'drwill@multi.co.kr'}"
      ]
     },
     "execution_count": 174,
     "metadata": {},
     "output_type": "execute_result"
    }
   ],
   "source": [
    "student"
   ]
  },
  {
   "cell_type": "code",
   "execution_count": 175,
   "id": "873e1ecc",
   "metadata": {},
   "outputs": [
    {
     "name": "stdout",
     "output_type": "stream",
     "text": [
      "성별을 입력하세요:남\n"
     ]
    }
   ],
   "source": [
    "# 딕셔너리 키 값 추가 \n",
    "# 성별(남여 여부) \n",
    "\n",
    "student['gender'] = input(\"성별을 입력하세요:\")"
   ]
  },
  {
   "cell_type": "code",
   "execution_count": 176,
   "id": "55513155",
   "metadata": {},
   "outputs": [
    {
     "data": {
      "text/plain": [
       "{'stu_id': 1000,\n",
       " 'name': 'drwill',\n",
       " 'dept': 'computer science',\n",
       " 'addr': 'seoul',\n",
       " 'contact': '010-1234-5678',\n",
       " 'email': 'drwill@multi.co.kr',\n",
       " 'gender': '남'}"
      ]
     },
     "execution_count": 176,
     "metadata": {},
     "output_type": "execute_result"
    }
   ],
   "source": [
    "student"
   ]
  },
  {
   "cell_type": "code",
   "execution_count": 178,
   "id": "7da5ae3f",
   "metadata": {},
   "outputs": [
    {
     "data": {
      "text/plain": [
       "{'stu_id': 1000,\n",
       " 'name': 'drwill',\n",
       " 'dept': 'computer science',\n",
       " 'addr': 'jeju',\n",
       " 'contact': '010-1234-5678',\n",
       " 'email': 'drwill@multi.co.kr',\n",
       " 'gender': '남'}"
      ]
     },
     "execution_count": 178,
     "metadata": {},
     "output_type": "execute_result"
    }
   ],
   "source": [
    "# 기존 값 수정 \n",
    "\n",
    "student['addr'] = 'jeju'\n",
    "student"
   ]
  },
  {
   "cell_type": "code",
   "execution_count": 179,
   "id": "d1e2cb47",
   "metadata": {},
   "outputs": [
    {
     "data": {
      "text/plain": [
       "{'stu_id': 1000,\n",
       " 'name': 'drwill',\n",
       " 'dept': 'computer science',\n",
       " 'addr': 'jeju',\n",
       " 'contact': '010-1234-5678',\n",
       " 'email': 'drwill@multi.co.kr'}"
      ]
     },
     "execution_count": 179,
     "metadata": {},
     "output_type": "execute_result"
    }
   ],
   "source": [
    "del(student['gender'])\n",
    "student"
   ]
  },
  {
   "cell_type": "code",
   "execution_count": 181,
   "id": "4bda5705",
   "metadata": {},
   "outputs": [
    {
     "name": "stdout",
     "output_type": "stream",
     "text": [
      "이름 >>> bts\n",
      "구성원 수 >>> 7\n",
      "대표곡 >>> dynamite\n"
     ]
    }
   ],
   "source": [
    "# for 문 활용, singer 딕셔너리 모든 값 출력해 보기 \n",
    "\n",
    "singer = {}\n",
    "\n",
    "singer['이름'] = 'bts'\n",
    "singer['구성원 수'] = 7\n",
    "singer['대표곡'] = 'dynamite'\n",
    "\n",
    "for k in singer.keys():\n",
    "    print('%s >>> %s'%(k,singer[k]))"
   ]
  },
  {
   "cell_type": "code",
   "execution_count": 183,
   "id": "0078a8fd",
   "metadata": {},
   "outputs": [
    {
     "name": "stdout",
     "output_type": "stream",
     "text": [
      "4500원 입니다\n"
     ]
    }
   ],
   "source": [
    "menu = {\n",
    "    '아메리카노': 2500,\n",
    "    '연유라떼': 4500,\n",
    "    '까레라떼':4000,\n",
    "    '스무디':3500    \n",
    "}\n",
    "\n",
    "# '연유라떼' 얼마예요?\n",
    "\n",
    "연유라떼 = menu['연유라떼']\n",
    "print(\"{}원 입니다\".format(연유라떼))"
   ]
  },
  {
   "cell_type": "code",
   "execution_count": 186,
   "id": "35da5030",
   "metadata": {},
   "outputs": [
    {
     "name": "stdout",
     "output_type": "stream",
     "text": [
      "좋아하는 음식은?'떡뽁이','짜장면','라면','피자','맥주','치킨','삼겹살'순대\n",
      "그런음식 없습니다 다시입력해주세요\n",
      "좋아하는 음식은?'떡뽁이','짜장면','라면','피자','맥주','치킨','삼겹살'짜장면\n",
      "궁합음식 : 짜장면---->단무지\n",
      "좋아하는 음식은?'떡뽁이','짜장면','라면','피자','맥주','치킨','삼겹살'q\n"
     ]
    }
   ],
   "source": [
    "menu={\n",
    "    '떡뽁이':'순대',\n",
    "    '짜장면':'단무지',\n",
    "    '라면':'김치',\n",
    "    '피자':'피클',\n",
    "    '맥주':'땅콩',\n",
    "    '치킨':'치킨무',\n",
    "    '삼겹살':'파채'\n",
    "}\n",
    "\n",
    "while 1:\n",
    "    a=input(\"좋아하는 음식은?'떡뽁이','짜장면','라면','피자','맥주','치킨','삼겹살'\")\n",
    "    if a in menu:\n",
    "        print(f\"궁합음식 : {a}---->{menu[a]}\")\n",
    "    elif a=='q':\n",
    "        break\n",
    "    else:\n",
    "        print('그런음식 없습니다 다시입력해주세요')\n"
   ]
  },
  {
   "cell_type": "code",
   "execution_count": 187,
   "id": "8b3576f4",
   "metadata": {},
   "outputs": [
    {
     "name": "stdout",
     "output_type": "stream",
     "text": [
      "좋아하는 음식은?['짜장면', '라면', '맥주', '떡볶이', '피자', '치킨', '삼겹살']짜장면\n",
      "단무지\n",
      "좋아하는 음식은?['짜장면', '라면', '맥주', '떡볶이', '피자', '치킨', '삼겹살']라면\n",
      "김치\n",
      "좋아하는 음식은?['짜장면', '라면', '맥주', '떡볶이', '피자', '치킨', '삼겹살']오뎅\n",
      "그런 음식은 없습니다\n"
     ]
    }
   ],
   "source": [
    "menu = {\n",
    "    '짜장면':'단무지',\n",
    "    '라면':'김치',\n",
    "    '맥주':'땅콩',\n",
    "    '떡볶이':'튀김',\n",
    "    '피자':'콜라',\n",
    "    '치킨':'소떡소떡',\n",
    "    '삼겹살':'소주'\n",
    "}\n",
    "\n",
    "while True:\n",
    "    menu_name = list(menu.keys())\n",
    "    a = input('좋아하는 음식은?'+str(menu_name))\n",
    "    if a in menu_name:\n",
    "        print(menu[a])\n",
    "    else:\n",
    "        print('그런 음식은 없습니다')\n",
    "        break"
   ]
  },
  {
   "cell_type": "code",
   "execution_count": 189,
   "id": "4ccd15ef",
   "metadata": {},
   "outputs": [
    {
     "name": "stdout",
     "output_type": "stream",
     "text": [
      "좋아하는 음식?:['떡볶이', '짜장면', '라면', '피자', '맥주', '치킨', '삼겹살']짜장면\n",
      "궁합음식:짜장면 >>>>>> 단무지\n",
      "좋아하는 음식?:['떡볶이', '짜장면', '라면', '피자', '맥주', '치킨', '삼겹살']오뎅\n",
      "그런 음식 없습니다. 다시 입력해주세요\n",
      "좋아하는 음식?:['떡볶이', '짜장면', '라면', '피자', '맥주', '치킨', '삼겹살']q\n"
     ]
    }
   ],
   "source": [
    "f={'떡볶이':'오뎅','짜장면':'단무지','라면':'김치','피자':'피클','맥주':'노가리','치킨':'치킨무','삼겹살':'소주'}\n",
    "\n",
    "while True:\n",
    "    mf=input(\"좋아하는 음식?:\"+str(list(f.keys())))\n",
    "    if mf in f:\n",
    "        print(\"궁합음식:%s >>>>>> %s\" %(mf,f.get(mf)))\n",
    "    elif mf==\"q\":\n",
    "        break  \n",
    "    else:\n",
    "        print(\"그런 음식 없습니다. 다시 입력해주세요\")"
   ]
  },
  {
   "cell_type": "code",
   "execution_count": 190,
   "id": "c1c89488",
   "metadata": {},
   "outputs": [
    {
     "name": "stdout",
     "output_type": "stream",
     "text": [
      "좋아하는 음식은?['떡볶이', '짜장면', '라면', '피자', '맥주', '치킨', '삼겹살']라면\n",
      "궁합음식 : 라면 ---->김치\n",
      "좋아하는 음식은?['떡볶이', '짜장면', '라면', '피자', '맥주', '치킨', '삼겹살']오뎅\n",
      "그런음식이 없습니다. 다시 입력해주세요\n",
      "좋아하는 음식은?['떡볶이', '짜장면', '라면', '피자', '맥주', '치킨', '삼겹살']q\n"
     ]
    }
   ],
   "source": [
    "food = {'떡볶이': '오뎅',\n",
    "       '짜장면': '단무지',\n",
    "       '라면': '김치',\n",
    "       '피자': '피클',\n",
    "       '맥주': '땅콩',\n",
    "       '치킨': '치킨무',\n",
    "       '삼겹살': '상추'}\n",
    "\n",
    "while True :\n",
    "    myfood = input(\"좋아하는 음식은?\" + str(list(food.keys())))\n",
    "    if myfood in food:\n",
    "        print(\"궁합음식 : %s ---->%s\" % (myfood,food.get(myfood)))\n",
    "    elif myfood == \"q\":\n",
    "        break\n",
    "    else : \n",
    "        print(\"그런음식이 없습니다. 다시 입력해주세요\")"
   ]
  },
  {
   "cell_type": "code",
   "execution_count": null,
   "id": "fe54b358",
   "metadata": {},
   "outputs": [],
   "source": []
  },
  {
   "cell_type": "code",
   "execution_count": null,
   "id": "0cf4f48e",
   "metadata": {},
   "outputs": [],
   "source": []
  },
  {
   "cell_type": "code",
   "execution_count": null,
   "id": "b9c5e63d",
   "metadata": {},
   "outputs": [],
   "source": []
  },
  {
   "cell_type": "code",
   "execution_count": null,
   "id": "09b0dd7d",
   "metadata": {},
   "outputs": [],
   "source": []
  }
 ],
 "metadata": {
  "kernelspec": {
   "display_name": "Python 3 (ipykernel)",
   "language": "python",
   "name": "python3"
  },
  "language_info": {
   "codemirror_mode": {
    "name": "ipython",
    "version": 3
   },
   "file_extension": ".py",
   "mimetype": "text/x-python",
   "name": "python",
   "nbconvert_exporter": "python",
   "pygments_lexer": "ipython3",
   "version": "3.9.12"
  }
 },
 "nbformat": 4,
 "nbformat_minor": 5
}
