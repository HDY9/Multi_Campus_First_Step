{
  "nbformat": 4,
  "nbformat_minor": 0,
  "metadata": {
    "colab": {
      "name": "Multi_python_08 예외처리.ipynb",
      "provenance": [],
      "collapsed_sections": []
    },
    "kernelspec": {
      "name": "python3",
      "display_name": "Python 3"
    },
    "language_info": {
      "name": "python"
    }
  },
  "cells": [
    {
      "cell_type": "markdown",
      "source": [
        "예외처리 \n",
        "- try~except"
      ],
      "metadata": {
        "id": "8c4kscYN-IiS"
      }
    },
    {
      "cell_type": "code",
      "execution_count": 2,
      "metadata": {
        "id": "sjtG7rXK9_GV"
      },
      "outputs": [],
      "source": [
        "# import os \n",
        "# os.remove('./python.txt')\n",
        "# FileNotFoundError: [Errno 2] No such file or directory: './python.txt'"
      ]
    },
    {
      "cell_type": "code",
      "source": [
        "# try ~ except\n",
        "\n",
        "import os \n",
        "\n",
        "try: \n",
        "    os.remove('./python.txt')\n",
        "except:\n",
        "    print(\"그런 파일 없어요. 확인 좀 하세요.\")"
      ],
      "metadata": {
        "colab": {
          "base_uri": "https://localhost:8080/"
        },
        "id": "9uxBRM00-V91",
        "outputId": "d7523104-c750-4324-a259-22eb3220ae48"
      },
      "execution_count": 3,
      "outputs": [
        {
          "output_type": "stream",
          "name": "stdout",
          "text": [
            "그런 파일 없어요. 확인 좀 하세요.\n"
          ]
        }
      ]
    },
    {
      "cell_type": "code",
      "source": [
        "# # '멀티캠퍼스' 글자를 모두 찾아 출력하는 코드 \n",
        "\n",
        "# mycampus = '나는 멀티캠퍼스 학생이다. 취준생의 종로학원, 멀티캠퍼스에서 나의 꿈을 펼친다.'\n",
        "# posList = []\n",
        "# position = 0\n",
        "\n",
        "# while True: \n",
        "#     mycampus.index('멀티캠퍼스', position)\n",
        "#     posList.append(position)\n",
        "#     position += 1\n",
        "\n",
        "# print('멀티캠퍼스 글자 위치:', posList)\n",
        "# # ValueError  발생"
      ],
      "metadata": {
        "id": "BkYPI0J--p8Q"
      },
      "execution_count": 5,
      "outputs": []
    },
    {
      "cell_type": "code",
      "source": [
        "# '멀티캠퍼스' 글자를 모두 찾아 출력하는 코드 \n",
        "\n",
        "mycampus = '나는 멀티캠퍼스 학생이다. 취준생의 종로학원, 멀티캠퍼스에서 나의 꿈을 펼친다.'\n",
        "posList = []\n",
        "position = 0\n",
        "\n",
        "while True: \n",
        "    try:\n",
        "        mycampus.index('멀티캠퍼스', position)\n",
        "        posList.append(position)\n",
        "        position = position + 1\n",
        "    except: \n",
        "        break\n",
        "\n",
        "print('멀티캠퍼스 글자 위치:', posList)\n"
      ],
      "metadata": {
        "colab": {
          "base_uri": "https://localhost:8080/"
        },
        "id": "VSAnbTzK_wZb",
        "outputId": "1ab560a7-b905-41ea-dc4b-82e96da5fa3f"
      },
      "execution_count": 7,
      "outputs": [
        {
          "output_type": "stream",
          "name": "stdout",
          "text": [
            "멀티캠퍼스 글자 위치: [0, 1, 2, 3, 4, 5, 6, 7, 8, 9, 10, 11, 12, 13, 14, 15, 16, 17, 18, 19, 20, 21, 22, 23, 24, 25, 26]\n"
          ]
        }
      ]
    },
    {
      "cell_type": "code",
      "source": [
        "# 예외 처리 (오류의 종류별 except 만들기)\n",
        "\n",
        "num1 = input('숫자1:')  # input() : 문자형 \n",
        "num2 = input('숫자2:')\n",
        "\n",
        "try: \n",
        "    num1 = int(num1)\n",
        "    num2 = int(num2)\n",
        "    while True: \n",
        "        res = num1/num2\n",
        "\n",
        "except ValueError : # 문자를 입력할 경우 \n",
        "    print(\"문자열을 입력하셨어요. 숫자 입력 부탁해요.\")\n",
        "except ZeroDivisionError : \n",
        "    print(\"0 으로 나눌 수 없어요. 다른 숫자 입력 부탁해요.\")\n",
        "except KeyboardInterrupt : \n",
        "    print(\"ctrl + c 를 눌렀네요.\") "
      ],
      "metadata": {
        "colab": {
          "base_uri": "https://localhost:8080/"
        },
        "id": "EO71Io1T_oeH",
        "outputId": "8f593f02-7028-4b07-e967-0d35c09c7d11"
      },
      "execution_count": 12,
      "outputs": [
        {
          "output_type": "stream",
          "name": "stdout",
          "text": [
            "숫자1:30\n",
            "숫자2:2\n",
            "ctrl + c 를 눌렀네요.\n"
          ]
        }
      ]
    },
    {
      "cell_type": "code",
      "source": [
        "# 예외 처리 (오류의 종류별 except 만들기)\n",
        "\n",
        "num1 = input('숫자1:')  # input() : 문자형 \n",
        "num2 = input('숫자2:')\n",
        "\n",
        "try: \n",
        "    num1 = int(num1)\n",
        "    num2 = int(num2)\n",
        "\n",
        "except: \n",
        "    print(\"오류 발생~\")\n",
        "else: \n",
        "    print(num1,'/',num2,'=',num1/num2)\n",
        "finally: \n",
        "    print('이 부분은 무조건 출력됩니다.')"
      ],
      "metadata": {
        "colab": {
          "base_uri": "https://localhost:8080/"
        },
        "id": "QULLObolAymK",
        "outputId": "8a8d9841-bbb6-40eb-9ceb-808b820494b7"
      },
      "execution_count": 13,
      "outputs": [
        {
          "output_type": "stream",
          "name": "stdout",
          "text": [
            "숫자1:30\n",
            "숫자2:20\n",
            "30 / 20 = 1.5\n",
            "이 부분은 무조건 출력됩니다.\n"
          ]
        }
      ]
    },
    {
      "cell_type": "code",
      "source": [
        ""
      ],
      "metadata": {
        "id": "CiyBNjqMEVn6"
      },
      "execution_count": null,
      "outputs": []
    }
  ]
}