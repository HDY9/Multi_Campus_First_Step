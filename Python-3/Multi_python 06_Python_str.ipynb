{
 "cells": [
  {
   "cell_type": "markdown",
   "id": "385c2cfb",
   "metadata": {},
   "source": [
    "### 1. 문자열 기본 "
   ]
  },
  {
   "cell_type": "code",
   "execution_count": 1,
   "id": "69bd11b3",
   "metadata": {},
   "outputs": [
    {
     "name": "stdout",
     "output_type": "stream",
     "text": [
      "1\n",
      "[2, 3]\n"
     ]
    }
   ],
   "source": [
    "\n",
    "\n",
    "a = [1,2,3,4,5]\n",
    "print(a[0])\n",
    "print(a[1:3])"
   ]
  },
  {
   "cell_type": "code",
   "execution_count": 3,
   "id": "515e604f",
   "metadata": {},
   "outputs": [
    {
     "data": {
      "text/plain": [
       "'캠퍼스'"
      ]
     },
     "execution_count": 3,
     "metadata": {},
     "output_type": "execute_result"
    }
   ],
   "source": [
    "s = '멀티캠퍼스'\n",
    "s[2:]"
   ]
  },
  {
   "cell_type": "code",
   "execution_count": 4,
   "id": "caf0e158",
   "metadata": {},
   "outputs": [
    {
     "data": {
      "text/plain": [
       "1"
      ]
     },
     "execution_count": 4,
     "metadata": {},
     "output_type": "execute_result"
    }
   ],
   "source": [
    "# count() : 찾을 문자열이 몇 개 있는 지 갯수를 세는 함수 \n",
    "\n",
    "s = \"Multi\"\n",
    "s.count(\"M\")"
   ]
  },
  {
   "cell_type": "code",
   "execution_count": 5,
   "id": "9b2502d9",
   "metadata": {},
   "outputs": [
    {
     "data": {
      "text/plain": [
       "2"
      ]
     },
     "execution_count": 5,
     "metadata": {},
     "output_type": "execute_result"
    }
   ],
   "source": [
    "# find() : 찾을 문자열이 왼쪽 끝(0번 위치) 시작해서 몇번째 위치하는지 확인\n",
    "# 찾을 문자열이 없으면 -1 \n",
    "\n",
    "s.find('l')"
   ]
  },
  {
   "cell_type": "code",
   "execution_count": 6,
   "id": "1aa6b9c4",
   "metadata": {},
   "outputs": [
    {
     "data": {
      "text/plain": [
       "-1"
      ]
     },
     "execution_count": 6,
     "metadata": {},
     "output_type": "execute_result"
    }
   ],
   "source": [
    "s.find('y') #'y' 없다 >> -1 로 출력 "
   ]
  },
  {
   "cell_type": "code",
   "execution_count": 8,
   "id": "6d92a4e0",
   "metadata": {},
   "outputs": [],
   "source": [
    "# index() : find() 유사, 단, 없으면 에러 발생 \n",
    "# s.index('y')\n",
    "# ValueError: substring not found"
   ]
  },
  {
   "cell_type": "code",
   "execution_count": 9,
   "id": "d830a8e0",
   "metadata": {},
   "outputs": [
    {
     "data": {
      "text/plain": [
       "'name,addr,email'"
      ]
     },
     "execution_count": 9,
     "metadata": {},
     "output_type": "execute_result"
    }
   ],
   "source": [
    "# join()\n",
    "a = ','\n",
    "a.join(['name','addr','email'])"
   ]
  },
  {
   "cell_type": "markdown",
   "id": "653b0ee1",
   "metadata": {},
   "source": [
    "### 2. 문자열 중요 내장 함수 "
   ]
  },
  {
   "cell_type": "code",
   "execution_count": 10,
   "id": "80a3504d",
   "metadata": {},
   "outputs": [
    {
     "data": {
      "text/plain": [
       "'MULTICAMPUS'"
      ]
     },
     "execution_count": 10,
     "metadata": {},
     "output_type": "execute_result"
    }
   ],
   "source": [
    "# upper() : 대문자로 변환\n",
    "\n",
    "a = 'multiCampus'\n",
    "a.upper()"
   ]
  },
  {
   "cell_type": "code",
   "execution_count": 11,
   "id": "b2d94a99",
   "metadata": {},
   "outputs": [
    {
     "data": {
      "text/plain": [
       "'multicampus'"
      ]
     },
     "execution_count": 11,
     "metadata": {},
     "output_type": "execute_result"
    }
   ],
   "source": [
    "# lower() : 소문자로 변환 \n",
    "\n",
    "a.lower()"
   ]
  },
  {
   "cell_type": "code",
   "execution_count": 13,
   "id": "e76a7099",
   "metadata": {},
   "outputs": [
    {
     "data": {
      "text/plain": [
       "'multiCampus'"
      ]
     },
     "execution_count": 13,
     "metadata": {},
     "output_type": "execute_result"
    }
   ],
   "source": [
    "a"
   ]
  },
  {
   "cell_type": "code",
   "execution_count": 14,
   "id": "d57ca211",
   "metadata": {},
   "outputs": [
    {
     "name": "stdout",
     "output_type": "stream",
     "text": [
      "multicampus\n"
     ]
    }
   ],
   "source": [
    "a  = a.replace('C', 'c')\n",
    "print(a)"
   ]
  },
  {
   "cell_type": "code",
   "execution_count": 17,
   "id": "10aa5a23",
   "metadata": {},
   "outputs": [
    {
     "name": "stdout",
     "output_type": "stream",
     "text": [
      "dat1dat2dat3\n"
     ]
    }
   ],
   "source": [
    "d = 'dat1 dat2 dat3'\n",
    "e = d.replace(' ','')\n",
    "print(e)"
   ]
  },
  {
   "cell_type": "code",
   "execution_count": 15,
   "id": "87cee8f3",
   "metadata": {},
   "outputs": [
    {
     "name": "stdout",
     "output_type": "stream",
     "text": [
      "['나는', '데싸다.']\n"
     ]
    }
   ],
   "source": [
    "b = \"나는 데싸다.\"\n",
    "c = b.split(' ')\n",
    "print(c)"
   ]
  },
  {
   "cell_type": "code",
   "execution_count": 18,
   "id": "411a505e",
   "metadata": {},
   "outputs": [
    {
     "data": {
      "text/plain": [
       "'Multi   '"
      ]
     },
     "execution_count": 18,
     "metadata": {},
     "output_type": "execute_result"
    }
   ],
   "source": [
    "f = \"       Multi   \"\n",
    "f.lstrip()"
   ]
  },
  {
   "cell_type": "code",
   "execution_count": 19,
   "id": "b5938487",
   "metadata": {},
   "outputs": [
    {
     "data": {
      "text/plain": [
       "'       Multi'"
      ]
     },
     "execution_count": 19,
     "metadata": {},
     "output_type": "execute_result"
    }
   ],
   "source": [
    "f.rstrip()"
   ]
  },
  {
   "cell_type": "code",
   "execution_count": 20,
   "id": "05b89899",
   "metadata": {},
   "outputs": [
    {
     "data": {
      "text/plain": [
       "'Multi'"
      ]
     },
     "execution_count": 20,
     "metadata": {},
     "output_type": "execute_result"
    }
   ],
   "source": [
    "f.strip()"
   ]
  },
  {
   "cell_type": "code",
   "execution_count": 21,
   "id": "ae880b2e",
   "metadata": {},
   "outputs": [
    {
     "data": {
      "text/plain": [
       "'       Multi   '"
      ]
     },
     "execution_count": 21,
     "metadata": {},
     "output_type": "execute_result"
    }
   ],
   "source": [
    "f"
   ]
  },
  {
   "cell_type": "code",
   "execution_count": 22,
   "id": "a3df31b1",
   "metadata": {},
   "outputs": [
    {
     "data": {
      "text/plain": [
       "'Multi'"
      ]
     },
     "execution_count": 22,
     "metadata": {},
     "output_type": "execute_result"
    }
   ],
   "source": [
    "f = f.strip()\n",
    "f"
   ]
  },
  {
   "cell_type": "code",
   "execution_count": 23,
   "id": "61b968bd",
   "metadata": {},
   "outputs": [
    {
     "data": {
      "text/plain": [
       "'mULTI'"
      ]
     },
     "execution_count": 23,
     "metadata": {},
     "output_type": "execute_result"
    }
   ],
   "source": [
    "g = \"Multi\"\n",
    "g.swapcase()"
   ]
  },
  {
   "cell_type": "code",
   "execution_count": 24,
   "id": "f24fea91",
   "metadata": {},
   "outputs": [
    {
     "data": {
      "text/plain": [
       "'Drwill'"
      ]
     },
     "execution_count": 24,
     "metadata": {},
     "output_type": "execute_result"
    }
   ],
   "source": [
    "h = 'drwill'\n",
    "h.title()"
   ]
  },
  {
   "cell_type": "code",
   "execution_count": 25,
   "id": "aca1c0a7",
   "metadata": {},
   "outputs": [
    {
     "data": {
      "text/plain": [
       "True"
      ]
     },
     "execution_count": 25,
     "metadata": {},
     "output_type": "execute_result"
    }
   ],
   "source": [
    "# startswith, endswith\n",
    "\n",
    "s = \"닥터윌과 함께하는 파이썬 공부는 잼있죠? 말해봐요, 빨리~~~.\"\n",
    "s.startswith('닥터윌')"
   ]
  },
  {
   "cell_type": "code",
   "execution_count": 26,
   "id": "d1d6a1e3",
   "metadata": {},
   "outputs": [
    {
     "data": {
      "text/plain": [
       "False"
      ]
     },
     "execution_count": 26,
     "metadata": {},
     "output_type": "execute_result"
    }
   ],
   "source": [
    "s.endswith('^^')"
   ]
  },
  {
   "cell_type": "code",
   "execution_count": 28,
   "id": "d2fd9041",
   "metadata": {},
   "outputs": [
    {
     "data": {
      "text/plain": [
       "True"
      ]
     },
     "execution_count": 28,
     "metadata": {},
     "output_type": "execute_result"
    }
   ],
   "source": [
    "s.endswith('~~~.')"
   ]
  },
  {
   "cell_type": "code",
   "execution_count": 30,
   "id": "2283a8e4",
   "metadata": {},
   "outputs": [
    {
     "data": {
      "text/plain": [
       "['닥터윌과', '파이썬', '열공중....', '한숨', '나옴']"
      ]
     },
     "execution_count": 30,
     "metadata": {},
     "output_type": "execute_result"
    }
   ],
   "source": [
    "# 문자열 분리/결합 \n",
    "# split(), join(), splitlines()\n",
    "\n",
    "ss = '닥터윌과 파이썬 열공중.... 한숨 나옴'\n",
    "ss.split()"
   ]
  },
  {
   "cell_type": "code",
   "execution_count": 31,
   "id": "d4f773b0",
   "metadata": {},
   "outputs": [
    {
     "data": {
      "text/plain": [
       "['5시', '30분', '끝내줄까?']"
      ]
     },
     "execution_count": 31,
     "metadata": {},
     "output_type": "execute_result"
    }
   ],
   "source": [
    "aa = '5시:30분:끝내줄까?'\n",
    "\n",
    "aa.split(':')"
   ]
  },
  {
   "cell_type": "code",
   "execution_count": 32,
   "id": "a6ddad53",
   "metadata": {},
   "outputs": [
    {
     "data": {
      "text/plain": [
       "['제발요', '안그러면', '수업거부']"
      ]
     },
     "execution_count": 32,
     "metadata": {},
     "output_type": "execute_result"
    }
   ],
   "source": [
    "bb = '제발요\\n안그러면\\n수업거부'\n",
    "bb.split('\\n')"
   ]
  },
  {
   "cell_type": "code",
   "execution_count": 33,
   "id": "8e029894",
   "metadata": {},
   "outputs": [
    {
     "data": {
      "text/plain": [
       "['제발요', '안그러면', '수업거부']"
      ]
     },
     "execution_count": 33,
     "metadata": {},
     "output_type": "execute_result"
    }
   ],
   "source": [
    "bb.splitlines()"
   ]
  },
  {
   "cell_type": "code",
   "execution_count": 34,
   "id": "06a01853",
   "metadata": {},
   "outputs": [
    {
     "data": {
      "text/plain": [
       "'닥/터/윌'"
      ]
     },
     "execution_count": 34,
     "metadata": {},
     "output_type": "execute_result"
    }
   ],
   "source": [
    "cc ='/'\n",
    "cc.join('닥터윌')"
   ]
  },
  {
   "cell_type": "code",
   "execution_count": 35,
   "id": "2d9b696b",
   "metadata": {},
   "outputs": [
    {
     "name": "stdout",
     "output_type": "stream",
     "text": [
      "날짜(연/월/일) 입력하세요:2020/02/20\n"
     ]
    },
    {
     "data": {
      "text/plain": [
       "['2020', '02', '20']"
      ]
     },
     "execution_count": 35,
     "metadata": {},
     "output_type": "execute_result"
    }
   ],
   "source": [
    "# 문자열 \n",
    "# 예제) 연/월/일 형식으로 문자열 입력받아 10년 후 날짜를 출력하는 코드 작성 \n",
    "\n",
    "s = input('날짜(연/월/일) 입력하세요:')\n",
    "\n",
    "s.split(\"/\")"
   ]
  },
  {
   "cell_type": "code",
   "execution_count": 40,
   "id": "8b8db6ee",
   "metadata": {},
   "outputs": [
    {
     "name": "stdout",
     "output_type": "stream",
     "text": [
      "날짜(연/월/일) 입력하세요:2022/05/18\n",
      "입력한 날짜의 10년 후:2032년05월18일\n"
     ]
    }
   ],
   "source": [
    "s = input('날짜(연/월/일) 입력하세요:')\n",
    "\n",
    "s_split = s.split(\"/\")\n",
    "\n",
    "print(\"입력한 날짜의 10년 후:\", end='')\n",
    "print(str(int(s_split[0])+10)+\"년\",end='')\n",
    "print(s_split[1]+\"월\", end='')\n",
    "print(s_split[2]+'일')"
   ]
  },
  {
   "cell_type": "code",
   "execution_count": 41,
   "id": "c4fbbd79",
   "metadata": {},
   "outputs": [
    {
     "data": {
      "text/plain": [
       "[2020, 2, 1]"
      ]
     },
     "execution_count": 41,
     "metadata": {},
     "output_type": "execute_result"
    }
   ],
   "source": [
    "# map() : map(함수, 리스트)\n",
    "\n",
    "pandemic = ['2020','02','01']\n",
    "endemic = list(map(int, pandemic))\n",
    "endemic"
   ]
  },
  {
   "cell_type": "code",
   "execution_count": 42,
   "id": "00f56ef9",
   "metadata": {},
   "outputs": [
    {
     "data": {
      "text/plain": [
       "'   닥터윌    '"
      ]
     },
     "execution_count": 42,
     "metadata": {},
     "output_type": "execute_result"
    }
   ],
   "source": [
    "# 문자열 정렬\n",
    "s = \"닥터윌\"\n",
    "s.center(10)"
   ]
  },
  {
   "cell_type": "code",
   "execution_count": 43,
   "id": "06f5c57c",
   "metadata": {},
   "outputs": [
    {
     "data": {
      "text/plain": [
       "'***닥터윌****'"
      ]
     },
     "execution_count": 43,
     "metadata": {},
     "output_type": "execute_result"
    }
   ],
   "source": [
    "s.center(10, '*')"
   ]
  },
  {
   "cell_type": "code",
   "execution_count": 44,
   "id": "6e924228",
   "metadata": {},
   "outputs": [
    {
     "data": {
      "text/plain": [
       "'닥터윌       '"
      ]
     },
     "execution_count": 44,
     "metadata": {},
     "output_type": "execute_result"
    }
   ],
   "source": [
    "s.ljust(10)"
   ]
  },
  {
   "cell_type": "code",
   "execution_count": 45,
   "id": "28476cfe",
   "metadata": {},
   "outputs": [
    {
     "data": {
      "text/plain": [
       "'       닥터윌'"
      ]
     },
     "execution_count": 45,
     "metadata": {},
     "output_type": "execute_result"
    }
   ],
   "source": [
    "s.rjust(10)"
   ]
  },
  {
   "cell_type": "code",
   "execution_count": 46,
   "id": "cff74ddb",
   "metadata": {},
   "outputs": [
    {
     "data": {
      "text/plain": [
       "'0000000닥터윌'"
      ]
     },
     "execution_count": 46,
     "metadata": {},
     "output_type": "execute_result"
    }
   ],
   "source": [
    "s.zfill(10)"
   ]
  },
  {
   "cell_type": "code",
   "execution_count": 47,
   "id": "f231b3ca",
   "metadata": {},
   "outputs": [
    {
     "data": {
      "text/plain": [
       "False"
      ]
     },
     "execution_count": 47,
     "metadata": {},
     "output_type": "execute_result"
    }
   ],
   "source": [
    "# 문자열 구성 파악하기 \n",
    "\n",
    "'multi'.isdigit() # 숫자냐?"
   ]
  },
  {
   "cell_type": "code",
   "execution_count": 48,
   "id": "4017abde",
   "metadata": {},
   "outputs": [
    {
     "data": {
      "text/plain": [
       "True"
      ]
     },
     "execution_count": 48,
     "metadata": {},
     "output_type": "execute_result"
    }
   ],
   "source": [
    "'multi'.isalpha() # 문자냐?"
   ]
  },
  {
   "cell_type": "code",
   "execution_count": 50,
   "id": "3e787daa",
   "metadata": {},
   "outputs": [
    {
     "data": {
      "text/plain": [
       "True"
      ]
     },
     "execution_count": 50,
     "metadata": {},
     "output_type": "execute_result"
    }
   ],
   "source": [
    "'multi2022'.isalnum()"
   ]
  },
  {
   "cell_type": "code",
   "execution_count": 51,
   "id": "e230d873",
   "metadata": {},
   "outputs": [
    {
     "data": {
      "text/plain": [
       "False"
      ]
     },
     "execution_count": 51,
     "metadata": {},
     "output_type": "execute_result"
    }
   ],
   "source": [
    "'Multi'.isspace()"
   ]
  },
  {
   "cell_type": "code",
   "execution_count": 52,
   "id": "3885c5d4",
   "metadata": {},
   "outputs": [
    {
     "data": {
      "text/plain": [
       "True"
      ]
     },
     "execution_count": 52,
     "metadata": {},
     "output_type": "execute_result"
    }
   ],
   "source": [
    "' '.isspace()"
   ]
  },
  {
   "cell_type": "code",
   "execution_count": 53,
   "id": "172d2075",
   "metadata": {},
   "outputs": [
    {
     "data": {
      "text/plain": [
       "'멀티캠퍼스 설레임이다'"
      ]
     },
     "execution_count": 53,
     "metadata": {},
     "output_type": "execute_result"
    }
   ],
   "source": [
    "\"멀티캠퍼스 설레임이다\""
   ]
  },
  {
   "cell_type": "code",
   "execution_count": 56,
   "id": "d5cb29ed",
   "metadata": {},
   "outputs": [
    {
     "name": "stdout",
     "output_type": "stream",
     "text": [
      "첫번째 문자열 입력: 멀티캠퍼스\n",
      "두번째 문자열 입력: 설레임이다\n",
      "멀티캠퍼스 + 설레임이다 = 멀티캠퍼스설레임이다\n"
     ]
    }
   ],
   "source": [
    "a = input(\"첫번째 문자열 입력: \")\n",
    "b = input(\"두번째 문자열 입력: \")\n",
    "\n",
    "result = a + b\n",
    "\n",
    "print(a,'+',b,'=', result)"
   ]
  },
  {
   "cell_type": "code",
   "execution_count": null,
   "id": "04f12690",
   "metadata": {},
   "outputs": [],
   "source": []
  }
 ],
 "metadata": {
  "kernelspec": {
   "display_name": "Python 3 (ipykernel)",
   "language": "python",
   "name": "python3"
  },
  "language_info": {
   "codemirror_mode": {
    "name": "ipython",
    "version": 3
   },
   "file_extension": ".py",
   "mimetype": "text/x-python",
   "name": "python",
   "nbconvert_exporter": "python",
   "pygments_lexer": "ipython3",
   "version": "3.9.12"
  }
 },
 "nbformat": 4,
 "nbformat_minor": 5
}
