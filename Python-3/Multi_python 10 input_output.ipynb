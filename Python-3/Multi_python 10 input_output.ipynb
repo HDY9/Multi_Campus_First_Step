{
 "cells": [
  {
   "cell_type": "code",
   "execution_count": 1,
   "id": "ec4c63da",
   "metadata": {},
   "outputs": [],
   "source": [
    "# https://www.americanrhetoric.com/speeches/mlkihaveadream.htm\n",
    "# 마틴루터킹 목사 연설문 (I have a dream >> dream.txt (ansi) 저장)"
   ]
  },
  {
   "cell_type": "markdown",
   "id": "b481ac20",
   "metadata": {},
   "source": [
    "### 파일 읽기"
   ]
  },
  {
   "cell_type": "code",
   "execution_count": 3,
   "id": "89806ab5",
   "metadata": {},
   "outputs": [],
   "source": [
    "# 텍스트 파일 읽기 \n",
    "\n",
    "f = open('dream.txt','r')  # file open \n",
    "contents = f.read()        # file handling \n",
    "f.close()                  # file close"
   ]
  },
  {
   "cell_type": "code",
   "execution_count": 4,
   "id": "a3b32ab7",
   "metadata": {},
   "outputs": [
    {
     "data": {
      "text/plain": [
       "'I am happy to join with you today in what will go down in history as the greatest demonstration for freedom in the history of our nation.\\n\\nFive score years ago, a great American, in whose symbolic shadow we stand today, signed the Emancipation Proclamation. This momentous decree came as a great beacon light of hope to millions of Negro slaves who had been seared in the flames of withering injustice. It came as a joyous daybreak to end the long night of their captivity.\\n\\nBut one hundred years later, the Negro still is not free. One hundred years later, the life of the Negro is still sadly crippled by the manacles of segregation and the chains of discrimination. One hundred years later, the Negro lives on a lonely island of poverty in the midst of a vast ocean of material prosperity. One hundred years later, the Negro is still languished in the corners of American society and finds himself an exile in his own land. And so we\\'ve come here today to dramatize a shameful condition.\\n\\nIn a sense we\\'ve come to our nation\\'s capital to cash a check. When the architects of our republic wrote the magnificent words of the Constitution and the Declaration of Independence, they were signing a promissory note to which every American was to fall heir. This note was a promise that all men, yes, black men as well as white men, would be guaranteed the \"unalienable Rights\" of \"Life, Liberty and the pursuit of Happiness.\" It is obvious today that America has defaulted on this promissory note, insofar as her citizens of color are concerned. Instead of honoring this sacred obligation, America has given the Negro people a bad check, a check which has come back marked \"insufficient funds.\"\\n\\nBut we refuse to believe that the bank of justice is bankrupt. We refuse to believe that there are insufficient funds in the great vaults of opportunity of this nation. And so, we\\'ve come to cash this check, a check that will give us upon demand the riches of freedom and the security of justice.\\n\\nWe have also come to this hallowed spot to remind America of the fierce urgency of Now. This is no time to engage in the luxury of cooling off or to take the tranquilizing drug of gradualism. Now is the time to make real the promises of democracy. Now is the time to rise from the dark and desolate valley of segregation to the sunlit path of racial justice. Now is the time to lift our nation from the quicksands of racial injustice to the solid rock of brotherhood. Now is the time to make justice a reality for all of God\\'s children.\\n\\nIt would be fatal for the nation to overlook the urgency of the moment. This sweltering summer of the Negro\\'s legitimate discontent will not pass until there is an invigorating autumn of freedom and equality. Nineteen sixty-three is not an end, but a beginning. And those who hope that the Negro needed to blow off steam and will now be content will have a rude awakening if the nation returns to business as usual. And there will be neither rest nor tranquility in America until the Negro is granted his citizenship rights. The whirlwinds of revolt will continue to shake the foundations of our nation until the bright day of justice emerges.\\n\\nBut there is something that I must say to my people, who stand on the warm threshold which leads into the palace of justice: In the process of gaining our rightful place, we must not be guilty of wrongful deeds. Let us not seek to satisfy our thirst for freedom by drinking from the cup of bitterness and hatred. We must forever conduct our struggle on the high plane of dignity and discipline. We must not allow our creative protest to degenerate into physical violence. Again and again, we must rise to the majestic heights of meeting physical force with soul force.\\n\\nThe marvelous new militancy which has engulfed the Negro community must not lead us to a distrust of all white people, for many of our white brothers, as evidenced by their presence here today, have come to realize that their destiny is tied up with our destiny. And they have come to realize that their freedom is inextricably bound to our freedom.\\n\\nWe cannot walk alone.\\n\\nAnd as we walk, we must make the pledge that we shall always march ahead.\\n\\nWe cannot turn back.\\n\\nThere are those who are asking the devotees of civil rights, \"When will you be satisfied?\" We can never be satisfied as long as the Negro is the victim of the unspeakable horrors of police brutality. We can never be satisfied as long as our bodies, heavy with the fatigue of travel, cannot gain lodging in the motels of the highways and the hotels of the cities. **We cannot be satisfied as long as the negro\\'s basic mobility is from a smaller ghetto to a larger one. We can never be satisfied as long as our children are stripped of their self-hood and robbed of their dignity by signs stating: \"For Whites Only.\"** We cannot be satisfied as long as a Negro in Mississippi cannot vote and a Negro in New York believes he has nothing for which to vote. No, no, we are not satisfied, and we will not be satisfied until \"justice rolls down like waters, and righteousness like a mighty stream.\"1\\n\\n\\n\\nI am not unmindful that some of you have come here out of great trials and tribulations. Some of you have come fresh from narrow jail cells. And some of you have come from areas where your quest -- quest for freedom left you battered by the storms of persecution and staggered by the winds of police brutality. You have been the veterans of creative suffering. Continue to work with the faith that unearned suffering is redemptive. Go back to Mississippi, go back to Alabama, go back to South Carolina, go back to Georgia, go back to Louisiana, go back to the slums and ghettos of our northern cities, knowing that somehow this situation can and will be changed.\\n\\nLet us not wallow in the valley of despair, I say to you today, my friends.\\n\\nAnd so even though we face the difficulties of today and tomorrow, I still have a dream. It is a dream deeply rooted in the American dream.\\n\\nI have a dream that one day this nation will rise up and live out the true meaning of its creed: \"We hold these truths to be self-evident, that all men are created equal.\"\\n\\nI have a dream that one day on the red hills of Georgia, the sons of former slaves and the sons of former slave owners will be able to sit down together at the table of brotherhood.\\n\\nI have a dream that one day even the state of Mississippi, a state sweltering with the heat of injustice, sweltering with the heat of oppression, will be transformed into an oasis of freedom and justice.\\n\\nI have a dream that my four little children will one day live in a nation where they will not be judged by the color of their skin but by the content of their character.\\n\\nI have a dream today!\\n\\nI have a dream that one day, down in Alabama, with its vicious racists, with its governor having his lips dripping with the words of \"interposition\" and \"nullification\" -- one day right there in Alabama little black boys and black girls will be able to join hands with little white boys and white girls as sisters and brothers.\\n\\nI have a dream today!\\n\\nI have a dream that one day every valley shall be exalted, and every hill and mountain shall be made low, the rough places will be made plain, and the crooked places will be made straight; \"and the glory of the Lord shall be revealed and all flesh shall see it together.\"2\\n\\nThis is our hope, and this is the faith that I go back to the South with.\\n\\nWith this faith, we will be able to hew out of the mountain of despair a stone of hope. With this faith, we will be able to transform the jangling discords of our nation into a beautiful symphony of brotherhood. With this faith, we will be able to work together, to pray together, to struggle together, to go to jail together, to stand up for freedom together, knowing that we will be free one day.\\n\\nAnd this will be the day -- this will be the day when all of God\\'s children will be able to sing with new meaning:\\n\\nMy country \\'tis of thee, sweet land of liberty, of thee I sing. Land where my fathers died, land of the Pilgrim\\'s pride,    From every mountainside, let freedom ring!\\n\\nAnd if America is to be a great nation, this must become true.\\n\\nAnd so let freedom ring from the prodigious hilltops of New Hampshire.\\n\\nLet freedom ring from the mighty mountains of New York.\\n\\nLet freedom ring from the heightening Alleghenies of Pennsylvania.\\n\\nLet freedom ring from the snow-capped Rockies of Colorado.\\n\\nLet freedom ring from the curvaceous slopes of California.\\n\\nBut not only that:\\n\\nLet freedom ring from Stone Mountain of Georgia.\\n\\nLet freedom ring from Lookout Mountain of Tennessee.\\n\\nLet freedom ring from every hill and molehill of Mississippi.\\n\\nFrom every mountainside, let freedom ring.\\n\\n\\n\\nAnd when this happens, and when we allow freedom ring, when we let it ring from every village and every hamlet, from every state and every city, we will be able to speed up that day when all of God\\'s children, black men and white men, Jews and Gentiles, Protestants and Catholics, will be able to join hands and sing in the words of the old Negro spiritual:\\n\\nFree at last! Free at last!\\n\\nThank God Almighty, we are free at last!3'"
      ]
     },
     "execution_count": 4,
     "metadata": {},
     "output_type": "execute_result"
    }
   ],
   "source": [
    "contents"
   ]
  },
  {
   "cell_type": "code",
   "execution_count": 5,
   "id": "aa40e6c3",
   "metadata": {},
   "outputs": [
    {
     "data": {
      "text/plain": [
       "str"
      ]
     },
     "execution_count": 5,
     "metadata": {},
     "output_type": "execute_result"
    }
   ],
   "source": [
    "type(contents)"
   ]
  },
  {
   "cell_type": "code",
   "execution_count": 6,
   "id": "4bd27ffa",
   "metadata": {},
   "outputs": [],
   "source": [
    "# with ~ as 사용하기 \n",
    "\n",
    "with open('dream.txt','r') as f:\n",
    "    contents = f.read()        # file handling \n"
   ]
  },
  {
   "cell_type": "code",
   "execution_count": 7,
   "id": "226cc2dd",
   "metadata": {},
   "outputs": [
    {
     "data": {
      "text/plain": [
       "'I am happy to join with you today in what will go down in history as the greatest demonstration for freedom in the history of our nation.\\n\\nFive score years ago, a great American, in whose symbolic shadow we stand today, signed the Emancipation Proclamation. This momentous decree came as a great beacon light of hope to millions of Negro slaves who had been seared in the flames of withering injustice. It came as a joyous daybreak to end the long night of their captivity.\\n\\nBut one hundred years later, the Negro still is not free. One hundred years later, the life of the Negro is still sadly crippled by the manacles of segregation and the chains of discrimination. One hundred years later, the Negro lives on a lonely island of poverty in the midst of a vast ocean of material prosperity. One hundred years later, the Negro is still languished in the corners of American society and finds himself an exile in his own land. And so we\\'ve come here today to dramatize a shameful condition.\\n\\nIn a sense we\\'ve come to our nation\\'s capital to cash a check. When the architects of our republic wrote the magnificent words of the Constitution and the Declaration of Independence, they were signing a promissory note to which every American was to fall heir. This note was a promise that all men, yes, black men as well as white men, would be guaranteed the \"unalienable Rights\" of \"Life, Liberty and the pursuit of Happiness.\" It is obvious today that America has defaulted on this promissory note, insofar as her citizens of color are concerned. Instead of honoring this sacred obligation, America has given the Negro people a bad check, a check which has come back marked \"insufficient funds.\"\\n\\nBut we refuse to believe that the bank of justice is bankrupt. We refuse to believe that there are insufficient funds in the great vaults of opportunity of this nation. And so, we\\'ve come to cash this check, a check that will give us upon demand the riches of freedom and the security of justice.\\n\\nWe have also come to this hallowed spot to remind America of the fierce urgency of Now. This is no time to engage in the luxury of cooling off or to take the tranquilizing drug of gradualism. Now is the time to make real the promises of democracy. Now is the time to rise from the dark and desolate valley of segregation to the sunlit path of racial justice. Now is the time to lift our nation from the quicksands of racial injustice to the solid rock of brotherhood. Now is the time to make justice a reality for all of God\\'s children.\\n\\nIt would be fatal for the nation to overlook the urgency of the moment. This sweltering summer of the Negro\\'s legitimate discontent will not pass until there is an invigorating autumn of freedom and equality. Nineteen sixty-three is not an end, but a beginning. And those who hope that the Negro needed to blow off steam and will now be content will have a rude awakening if the nation returns to business as usual. And there will be neither rest nor tranquility in America until the Negro is granted his citizenship rights. The whirlwinds of revolt will continue to shake the foundations of our nation until the bright day of justice emerges.\\n\\nBut there is something that I must say to my people, who stand on the warm threshold which leads into the palace of justice: In the process of gaining our rightful place, we must not be guilty of wrongful deeds. Let us not seek to satisfy our thirst for freedom by drinking from the cup of bitterness and hatred. We must forever conduct our struggle on the high plane of dignity and discipline. We must not allow our creative protest to degenerate into physical violence. Again and again, we must rise to the majestic heights of meeting physical force with soul force.\\n\\nThe marvelous new militancy which has engulfed the Negro community must not lead us to a distrust of all white people, for many of our white brothers, as evidenced by their presence here today, have come to realize that their destiny is tied up with our destiny. And they have come to realize that their freedom is inextricably bound to our freedom.\\n\\nWe cannot walk alone.\\n\\nAnd as we walk, we must make the pledge that we shall always march ahead.\\n\\nWe cannot turn back.\\n\\nThere are those who are asking the devotees of civil rights, \"When will you be satisfied?\" We can never be satisfied as long as the Negro is the victim of the unspeakable horrors of police brutality. We can never be satisfied as long as our bodies, heavy with the fatigue of travel, cannot gain lodging in the motels of the highways and the hotels of the cities. **We cannot be satisfied as long as the negro\\'s basic mobility is from a smaller ghetto to a larger one. We can never be satisfied as long as our children are stripped of their self-hood and robbed of their dignity by signs stating: \"For Whites Only.\"** We cannot be satisfied as long as a Negro in Mississippi cannot vote and a Negro in New York believes he has nothing for which to vote. No, no, we are not satisfied, and we will not be satisfied until \"justice rolls down like waters, and righteousness like a mighty stream.\"1\\n\\n\\n\\nI am not unmindful that some of you have come here out of great trials and tribulations. Some of you have come fresh from narrow jail cells. And some of you have come from areas where your quest -- quest for freedom left you battered by the storms of persecution and staggered by the winds of police brutality. You have been the veterans of creative suffering. Continue to work with the faith that unearned suffering is redemptive. Go back to Mississippi, go back to Alabama, go back to South Carolina, go back to Georgia, go back to Louisiana, go back to the slums and ghettos of our northern cities, knowing that somehow this situation can and will be changed.\\n\\nLet us not wallow in the valley of despair, I say to you today, my friends.\\n\\nAnd so even though we face the difficulties of today and tomorrow, I still have a dream. It is a dream deeply rooted in the American dream.\\n\\nI have a dream that one day this nation will rise up and live out the true meaning of its creed: \"We hold these truths to be self-evident, that all men are created equal.\"\\n\\nI have a dream that one day on the red hills of Georgia, the sons of former slaves and the sons of former slave owners will be able to sit down together at the table of brotherhood.\\n\\nI have a dream that one day even the state of Mississippi, a state sweltering with the heat of injustice, sweltering with the heat of oppression, will be transformed into an oasis of freedom and justice.\\n\\nI have a dream that my four little children will one day live in a nation where they will not be judged by the color of their skin but by the content of their character.\\n\\nI have a dream today!\\n\\nI have a dream that one day, down in Alabama, with its vicious racists, with its governor having his lips dripping with the words of \"interposition\" and \"nullification\" -- one day right there in Alabama little black boys and black girls will be able to join hands with little white boys and white girls as sisters and brothers.\\n\\nI have a dream today!\\n\\nI have a dream that one day every valley shall be exalted, and every hill and mountain shall be made low, the rough places will be made plain, and the crooked places will be made straight; \"and the glory of the Lord shall be revealed and all flesh shall see it together.\"2\\n\\nThis is our hope, and this is the faith that I go back to the South with.\\n\\nWith this faith, we will be able to hew out of the mountain of despair a stone of hope. With this faith, we will be able to transform the jangling discords of our nation into a beautiful symphony of brotherhood. With this faith, we will be able to work together, to pray together, to struggle together, to go to jail together, to stand up for freedom together, knowing that we will be free one day.\\n\\nAnd this will be the day -- this will be the day when all of God\\'s children will be able to sing with new meaning:\\n\\nMy country \\'tis of thee, sweet land of liberty, of thee I sing. Land where my fathers died, land of the Pilgrim\\'s pride,    From every mountainside, let freedom ring!\\n\\nAnd if America is to be a great nation, this must become true.\\n\\nAnd so let freedom ring from the prodigious hilltops of New Hampshire.\\n\\nLet freedom ring from the mighty mountains of New York.\\n\\nLet freedom ring from the heightening Alleghenies of Pennsylvania.\\n\\nLet freedom ring from the snow-capped Rockies of Colorado.\\n\\nLet freedom ring from the curvaceous slopes of California.\\n\\nBut not only that:\\n\\nLet freedom ring from Stone Mountain of Georgia.\\n\\nLet freedom ring from Lookout Mountain of Tennessee.\\n\\nLet freedom ring from every hill and molehill of Mississippi.\\n\\nFrom every mountainside, let freedom ring.\\n\\n\\n\\nAnd when this happens, and when we allow freedom ring, when we let it ring from every village and every hamlet, from every state and every city, we will be able to speed up that day when all of God\\'s children, black men and white men, Jews and Gentiles, Protestants and Catholics, will be able to join hands and sing in the words of the old Negro spiritual:\\n\\nFree at last! Free at last!\\n\\nThank God Almighty, we are free at last!3'"
      ]
     },
     "execution_count": 7,
     "metadata": {},
     "output_type": "execute_result"
    }
   ],
   "source": [
    "contents"
   ]
  },
  {
   "cell_type": "code",
   "execution_count": 8,
   "id": "4d1504ae",
   "metadata": {},
   "outputs": [
    {
     "data": {
      "text/plain": [
       "9176"
      ]
     },
     "execution_count": 8,
     "metadata": {},
     "output_type": "execute_result"
    }
   ],
   "source": [
    "len(contents)"
   ]
  },
  {
   "cell_type": "code",
   "execution_count": 9,
   "id": "ddfeea41",
   "metadata": {},
   "outputs": [],
   "source": [
    "# 한 줄씩 읽어오기 : readlines()\n",
    "\n",
    "with open('dream.txt','r') as f:\n",
    "    content_list = f.readlines()        # file handling "
   ]
  },
  {
   "cell_type": "code",
   "execution_count": 10,
   "id": "d5f12cf6",
   "metadata": {},
   "outputs": [
    {
     "data": {
      "text/plain": [
       "['I am happy to join with you today in what will go down in history as the greatest demonstration for freedom in the history of our nation.\\n',\n",
       " '\\n',\n",
       " 'Five score years ago, a great American, in whose symbolic shadow we stand today, signed the Emancipation Proclamation. This momentous decree came as a great beacon light of hope to millions of Negro slaves who had been seared in the flames of withering injustice. It came as a joyous daybreak to end the long night of their captivity.\\n',\n",
       " '\\n',\n",
       " \"But one hundred years later, the Negro still is not free. One hundred years later, the life of the Negro is still sadly crippled by the manacles of segregation and the chains of discrimination. One hundred years later, the Negro lives on a lonely island of poverty in the midst of a vast ocean of material prosperity. One hundred years later, the Negro is still languished in the corners of American society and finds himself an exile in his own land. And so we've come here today to dramatize a shameful condition.\\n\",\n",
       " '\\n',\n",
       " 'In a sense we\\'ve come to our nation\\'s capital to cash a check. When the architects of our republic wrote the magnificent words of the Constitution and the Declaration of Independence, they were signing a promissory note to which every American was to fall heir. This note was a promise that all men, yes, black men as well as white men, would be guaranteed the \"unalienable Rights\" of \"Life, Liberty and the pursuit of Happiness.\" It is obvious today that America has defaulted on this promissory note, insofar as her citizens of color are concerned. Instead of honoring this sacred obligation, America has given the Negro people a bad check, a check which has come back marked \"insufficient funds.\"\\n',\n",
       " '\\n',\n",
       " \"But we refuse to believe that the bank of justice is bankrupt. We refuse to believe that there are insufficient funds in the great vaults of opportunity of this nation. And so, we've come to cash this check, a check that will give us upon demand the riches of freedom and the security of justice.\\n\",\n",
       " '\\n',\n",
       " \"We have also come to this hallowed spot to remind America of the fierce urgency of Now. This is no time to engage in the luxury of cooling off or to take the tranquilizing drug of gradualism. Now is the time to make real the promises of democracy. Now is the time to rise from the dark and desolate valley of segregation to the sunlit path of racial justice. Now is the time to lift our nation from the quicksands of racial injustice to the solid rock of brotherhood. Now is the time to make justice a reality for all of God's children.\\n\",\n",
       " '\\n',\n",
       " \"It would be fatal for the nation to overlook the urgency of the moment. This sweltering summer of the Negro's legitimate discontent will not pass until there is an invigorating autumn of freedom and equality. Nineteen sixty-three is not an end, but a beginning. And those who hope that the Negro needed to blow off steam and will now be content will have a rude awakening if the nation returns to business as usual. And there will be neither rest nor tranquility in America until the Negro is granted his citizenship rights. The whirlwinds of revolt will continue to shake the foundations of our nation until the bright day of justice emerges.\\n\",\n",
       " '\\n',\n",
       " 'But there is something that I must say to my people, who stand on the warm threshold which leads into the palace of justice: In the process of gaining our rightful place, we must not be guilty of wrongful deeds. Let us not seek to satisfy our thirst for freedom by drinking from the cup of bitterness and hatred. We must forever conduct our struggle on the high plane of dignity and discipline. We must not allow our creative protest to degenerate into physical violence. Again and again, we must rise to the majestic heights of meeting physical force with soul force.\\n',\n",
       " '\\n',\n",
       " 'The marvelous new militancy which has engulfed the Negro community must not lead us to a distrust of all white people, for many of our white brothers, as evidenced by their presence here today, have come to realize that their destiny is tied up with our destiny. And they have come to realize that their freedom is inextricably bound to our freedom.\\n',\n",
       " '\\n',\n",
       " 'We cannot walk alone.\\n',\n",
       " '\\n',\n",
       " 'And as we walk, we must make the pledge that we shall always march ahead.\\n',\n",
       " '\\n',\n",
       " 'We cannot turn back.\\n',\n",
       " '\\n',\n",
       " 'There are those who are asking the devotees of civil rights, \"When will you be satisfied?\" We can never be satisfied as long as the Negro is the victim of the unspeakable horrors of police brutality. We can never be satisfied as long as our bodies, heavy with the fatigue of travel, cannot gain lodging in the motels of the highways and the hotels of the cities. **We cannot be satisfied as long as the negro\\'s basic mobility is from a smaller ghetto to a larger one. We can never be satisfied as long as our children are stripped of their self-hood and robbed of their dignity by signs stating: \"For Whites Only.\"** We cannot be satisfied as long as a Negro in Mississippi cannot vote and a Negro in New York believes he has nothing for which to vote. No, no, we are not satisfied, and we will not be satisfied until \"justice rolls down like waters, and righteousness like a mighty stream.\"1\\n',\n",
       " '\\n',\n",
       " '\\n',\n",
       " '\\n',\n",
       " 'I am not unmindful that some of you have come here out of great trials and tribulations. Some of you have come fresh from narrow jail cells. And some of you have come from areas where your quest -- quest for freedom left you battered by the storms of persecution and staggered by the winds of police brutality. You have been the veterans of creative suffering. Continue to work with the faith that unearned suffering is redemptive. Go back to Mississippi, go back to Alabama, go back to South Carolina, go back to Georgia, go back to Louisiana, go back to the slums and ghettos of our northern cities, knowing that somehow this situation can and will be changed.\\n',\n",
       " '\\n',\n",
       " 'Let us not wallow in the valley of despair, I say to you today, my friends.\\n',\n",
       " '\\n',\n",
       " 'And so even though we face the difficulties of today and tomorrow, I still have a dream. It is a dream deeply rooted in the American dream.\\n',\n",
       " '\\n',\n",
       " 'I have a dream that one day this nation will rise up and live out the true meaning of its creed: \"We hold these truths to be self-evident, that all men are created equal.\"\\n',\n",
       " '\\n',\n",
       " 'I have a dream that one day on the red hills of Georgia, the sons of former slaves and the sons of former slave owners will be able to sit down together at the table of brotherhood.\\n',\n",
       " '\\n',\n",
       " 'I have a dream that one day even the state of Mississippi, a state sweltering with the heat of injustice, sweltering with the heat of oppression, will be transformed into an oasis of freedom and justice.\\n',\n",
       " '\\n',\n",
       " 'I have a dream that my four little children will one day live in a nation where they will not be judged by the color of their skin but by the content of their character.\\n',\n",
       " '\\n',\n",
       " 'I have a dream today!\\n',\n",
       " '\\n',\n",
       " 'I have a dream that one day, down in Alabama, with its vicious racists, with its governor having his lips dripping with the words of \"interposition\" and \"nullification\" -- one day right there in Alabama little black boys and black girls will be able to join hands with little white boys and white girls as sisters and brothers.\\n',\n",
       " '\\n',\n",
       " 'I have a dream today!\\n',\n",
       " '\\n',\n",
       " 'I have a dream that one day every valley shall be exalted, and every hill and mountain shall be made low, the rough places will be made plain, and the crooked places will be made straight; \"and the glory of the Lord shall be revealed and all flesh shall see it together.\"2\\n',\n",
       " '\\n',\n",
       " 'This is our hope, and this is the faith that I go back to the South with.\\n',\n",
       " '\\n',\n",
       " 'With this faith, we will be able to hew out of the mountain of despair a stone of hope. With this faith, we will be able to transform the jangling discords of our nation into a beautiful symphony of brotherhood. With this faith, we will be able to work together, to pray together, to struggle together, to go to jail together, to stand up for freedom together, knowing that we will be free one day.\\n',\n",
       " '\\n',\n",
       " \"And this will be the day -- this will be the day when all of God's children will be able to sing with new meaning:\\n\",\n",
       " '\\n',\n",
       " \"My country 'tis of thee, sweet land of liberty, of thee I sing. Land where my fathers died, land of the Pilgrim's pride,    From every mountainside, let freedom ring!\\n\",\n",
       " '\\n',\n",
       " 'And if America is to be a great nation, this must become true.\\n',\n",
       " '\\n',\n",
       " 'And so let freedom ring from the prodigious hilltops of New Hampshire.\\n',\n",
       " '\\n',\n",
       " 'Let freedom ring from the mighty mountains of New York.\\n',\n",
       " '\\n',\n",
       " 'Let freedom ring from the heightening Alleghenies of Pennsylvania.\\n',\n",
       " '\\n',\n",
       " 'Let freedom ring from the snow-capped Rockies of Colorado.\\n',\n",
       " '\\n',\n",
       " 'Let freedom ring from the curvaceous slopes of California.\\n',\n",
       " '\\n',\n",
       " 'But not only that:\\n',\n",
       " '\\n',\n",
       " 'Let freedom ring from Stone Mountain of Georgia.\\n',\n",
       " '\\n',\n",
       " 'Let freedom ring from Lookout Mountain of Tennessee.\\n',\n",
       " '\\n',\n",
       " 'Let freedom ring from every hill and molehill of Mississippi.\\n',\n",
       " '\\n',\n",
       " 'From every mountainside, let freedom ring.\\n',\n",
       " '\\n',\n",
       " '\\n',\n",
       " '\\n',\n",
       " \"And when this happens, and when we allow freedom ring, when we let it ring from every village and every hamlet, from every state and every city, we will be able to speed up that day when all of God's children, black men and white men, Jews and Gentiles, Protestants and Catholics, will be able to join hands and sing in the words of the old Negro spiritual:\\n\",\n",
       " '\\n',\n",
       " 'Free at last! Free at last!\\n',\n",
       " '\\n',\n",
       " 'Thank God Almighty, we are free at last!3']"
      ]
     },
     "execution_count": 10,
     "metadata": {},
     "output_type": "execute_result"
    }
   ],
   "source": [
    "content_list"
   ]
  },
  {
   "cell_type": "code",
   "execution_count": 12,
   "id": "e219e2da",
   "metadata": {},
   "outputs": [
    {
     "data": {
      "text/plain": [
       "87"
      ]
     },
     "execution_count": 12,
     "metadata": {},
     "output_type": "execute_result"
    }
   ],
   "source": [
    "len(content_list) # list 개수"
   ]
  },
  {
   "cell_type": "code",
   "execution_count": 13,
   "id": "1f4c8ae2",
   "metadata": {},
   "outputs": [
    {
     "data": {
      "text/plain": [
       "['I am happy to join with you today in what will go down in history as the greatest demonstration for freedom in the history of our nation.\\n',\n",
       " '\\n',\n",
       " 'Five score years ago, a great American, in whose symbolic shadow we stand today, signed the Emancipation Proclamation. This momentous decree came as a great beacon light of hope to millions of Negro slaves who had been seared in the flames of withering injustice. It came as a joyous daybreak to end the long night of their captivity.\\n',\n",
       " '\\n',\n",
       " \"But one hundred years later, the Negro still is not free. One hundred years later, the life of the Negro is still sadly crippled by the manacles of segregation and the chains of discrimination. One hundred years later, the Negro lives on a lonely island of poverty in the midst of a vast ocean of material prosperity. One hundred years later, the Negro is still languished in the corners of American society and finds himself an exile in his own land. And so we've come here today to dramatize a shameful condition.\\n\",\n",
       " '\\n',\n",
       " 'In a sense we\\'ve come to our nation\\'s capital to cash a check. When the architects of our republic wrote the magnificent words of the Constitution and the Declaration of Independence, they were signing a promissory note to which every American was to fall heir. This note was a promise that all men, yes, black men as well as white men, would be guaranteed the \"unalienable Rights\" of \"Life, Liberty and the pursuit of Happiness.\" It is obvious today that America has defaulted on this promissory note, insofar as her citizens of color are concerned. Instead of honoring this sacred obligation, America has given the Negro people a bad check, a check which has come back marked \"insufficient funds.\"\\n',\n",
       " '\\n',\n",
       " \"But we refuse to believe that the bank of justice is bankrupt. We refuse to believe that there are insufficient funds in the great vaults of opportunity of this nation. And so, we've come to cash this check, a check that will give us upon demand the riches of freedom and the security of justice.\\n\",\n",
       " '\\n',\n",
       " \"We have also come to this hallowed spot to remind America of the fierce urgency of Now. This is no time to engage in the luxury of cooling off or to take the tranquilizing drug of gradualism. Now is the time to make real the promises of democracy. Now is the time to rise from the dark and desolate valley of segregation to the sunlit path of racial justice. Now is the time to lift our nation from the quicksands of racial injustice to the solid rock of brotherhood. Now is the time to make justice a reality for all of God's children.\\n\",\n",
       " '\\n',\n",
       " \"It would be fatal for the nation to overlook the urgency of the moment. This sweltering summer of the Negro's legitimate discontent will not pass until there is an invigorating autumn of freedom and equality. Nineteen sixty-three is not an end, but a beginning. And those who hope that the Negro needed to blow off steam and will now be content will have a rude awakening if the nation returns to business as usual. And there will be neither rest nor tranquility in America until the Negro is granted his citizenship rights. The whirlwinds of revolt will continue to shake the foundations of our nation until the bright day of justice emerges.\\n\",\n",
       " '\\n',\n",
       " 'But there is something that I must say to my people, who stand on the warm threshold which leads into the palace of justice: In the process of gaining our rightful place, we must not be guilty of wrongful deeds. Let us not seek to satisfy our thirst for freedom by drinking from the cup of bitterness and hatred. We must forever conduct our struggle on the high plane of dignity and discipline. We must not allow our creative protest to degenerate into physical violence. Again and again, we must rise to the majestic heights of meeting physical force with soul force.\\n',\n",
       " '\\n',\n",
       " 'The marvelous new militancy which has engulfed the Negro community must not lead us to a distrust of all white people, for many of our white brothers, as evidenced by their presence here today, have come to realize that their destiny is tied up with our destiny. And they have come to realize that their freedom is inextricably bound to our freedom.\\n',\n",
       " '\\n',\n",
       " 'We cannot walk alone.\\n',\n",
       " '\\n',\n",
       " 'And as we walk, we must make the pledge that we shall always march ahead.\\n',\n",
       " '\\n',\n",
       " 'We cannot turn back.\\n',\n",
       " '\\n',\n",
       " 'There are those who are asking the devotees of civil rights, \"When will you be satisfied?\" We can never be satisfied as long as the Negro is the victim of the unspeakable horrors of police brutality. We can never be satisfied as long as our bodies, heavy with the fatigue of travel, cannot gain lodging in the motels of the highways and the hotels of the cities. **We cannot be satisfied as long as the negro\\'s basic mobility is from a smaller ghetto to a larger one. We can never be satisfied as long as our children are stripped of their self-hood and robbed of their dignity by signs stating: \"For Whites Only.\"** We cannot be satisfied as long as a Negro in Mississippi cannot vote and a Negro in New York believes he has nothing for which to vote. No, no, we are not satisfied, and we will not be satisfied until \"justice rolls down like waters, and righteousness like a mighty stream.\"1\\n',\n",
       " '\\n',\n",
       " '\\n',\n",
       " '\\n',\n",
       " 'I am not unmindful that some of you have come here out of great trials and tribulations. Some of you have come fresh from narrow jail cells. And some of you have come from areas where your quest -- quest for freedom left you battered by the storms of persecution and staggered by the winds of police brutality. You have been the veterans of creative suffering. Continue to work with the faith that unearned suffering is redemptive. Go back to Mississippi, go back to Alabama, go back to South Carolina, go back to Georgia, go back to Louisiana, go back to the slums and ghettos of our northern cities, knowing that somehow this situation can and will be changed.\\n',\n",
       " '\\n',\n",
       " 'Let us not wallow in the valley of despair, I say to you today, my friends.\\n',\n",
       " '\\n',\n",
       " 'And so even though we face the difficulties of today and tomorrow, I still have a dream. It is a dream deeply rooted in the American dream.\\n',\n",
       " '\\n',\n",
       " 'I have a dream that one day this nation will rise up and live out the true meaning of its creed: \"We hold these truths to be self-evident, that all men are created equal.\"\\n',\n",
       " '\\n',\n",
       " 'I have a dream that one day on the red hills of Georgia, the sons of former slaves and the sons of former slave owners will be able to sit down together at the table of brotherhood.\\n',\n",
       " '\\n',\n",
       " 'I have a dream that one day even the state of Mississippi, a state sweltering with the heat of injustice, sweltering with the heat of oppression, will be transformed into an oasis of freedom and justice.\\n',\n",
       " '\\n']"
      ]
     },
     "execution_count": 13,
     "metadata": {},
     "output_type": "execute_result"
    }
   ],
   "source": [
    "content_list[:40] # 일부 (40개) 문장 추출 "
   ]
  },
  {
   "cell_type": "code",
   "execution_count": 14,
   "id": "eb0df8d5",
   "metadata": {},
   "outputs": [],
   "source": [
    "# 활용예제 ) 파일 글자 통계 정보 출력하기 \n",
    "# 문자 개수, 단어 개수, 라인 수 세는 프로그램 만들어 보세요 "
   ]
  },
  {
   "cell_type": "code",
   "execution_count": 15,
   "id": "58c4d7a8",
   "metadata": {},
   "outputs": [],
   "source": [
    "with open('dream.txt','r') as f: \n",
    "    contents = f.read()\n",
    "    word_list = contents.split(\" \")\n",
    "    line_list = contents.split('\\n') # new line\n",
    "    "
   ]
  },
  {
   "cell_type": "code",
   "execution_count": 16,
   "id": "41424522",
   "metadata": {},
   "outputs": [
    {
     "name": "stdout",
     "output_type": "stream",
     "text": [
      "['I', 'am', 'happy', 'to', 'join', 'with', 'you', 'today', 'in', 'what', 'will', 'go', 'down', 'in', 'history', 'as', 'the', 'greatest', 'demonstration', 'for', 'freedom', 'in', 'the', 'history', 'of', 'our', 'nation.\\n\\nFive', 'score', 'years', 'ago,', 'a', 'great', 'American,', 'in', 'whose', 'symbolic', 'shadow', 'we', 'stand', 'today,', 'signed', 'the', 'Emancipation', 'Proclamation.', 'This', 'momentous', 'decree', 'came', 'as', 'a', 'great', 'beacon', 'light', 'of', 'hope', 'to', 'millions', 'of', 'Negro', 'slaves', 'who', 'had', 'been', 'seared', 'in', 'the', 'flames', 'of', 'withering', 'injustice.', 'It', 'came', 'as', 'a', 'joyous', 'daybreak', 'to', 'end', 'the', 'long', 'night', 'of', 'their', 'captivity.\\n\\nBut', 'one', 'hundred', 'years', 'later,', 'the', 'Negro', 'still', 'is', 'not', 'free.', 'One', 'hundred', 'years', 'later,', 'the', 'life', 'of', 'the', 'Negro', 'is', 'still', 'sadly', 'crippled', 'by', 'the', 'manacles', 'of', 'segregation', 'and', 'the', 'chains', 'of', 'discrimination.', 'One', 'hundred', 'years', 'later,', 'the', 'Negro', 'lives', 'on', 'a', 'lonely', 'island', 'of', 'poverty', 'in', 'the', 'midst', 'of', 'a', 'vast', 'ocean', 'of', 'material', 'prosperity.', 'One', 'hundred', 'years', 'later,', 'the', 'Negro', 'is', 'still', 'languished', 'in', 'the', 'corners', 'of', 'American', 'society', 'and', 'finds', 'himself', 'an', 'exile', 'in', 'his', 'own', 'land.', 'And', 'so', \"we've\", 'come', 'here', 'today', 'to', 'dramatize', 'a', 'shameful', 'condition.\\n\\nIn', 'a', 'sense', \"we've\", 'come', 'to', 'our', \"nation's\", 'capital', 'to', 'cash', 'a', 'check.', 'When', 'the', 'architects', 'of', 'our', 'republic', 'wrote', 'the', 'magnificent', 'words', 'of', 'the', 'Constitution', 'and', 'the', 'Declaration', 'of', 'Independence,', 'they', 'were', 'signing', 'a', 'promissory', 'note', 'to', 'which', 'every', 'American', 'was', 'to', 'fall', 'heir.', 'This', 'note', 'was', 'a', 'promise', 'that', 'all', 'men,', 'yes,', 'black', 'men', 'as', 'well', 'as', 'white', 'men,', 'would', 'be', 'guaranteed', 'the', '\"unalienable', 'Rights\"', 'of', '\"Life,', 'Liberty', 'and', 'the', 'pursuit', 'of', 'Happiness.\"', 'It', 'is', 'obvious', 'today', 'that', 'America', 'has', 'defaulted', 'on', 'this', 'promissory', 'note,', 'insofar', 'as', 'her', 'citizens', 'of', 'color', 'are', 'concerned.', 'Instead', 'of', 'honoring', 'this', 'sacred', 'obligation,', 'America', 'has', 'given', 'the', 'Negro', 'people', 'a', 'bad', 'check,', 'a', 'check', 'which', 'has', 'come', 'back', 'marked', '\"insufficient', 'funds.\"\\n\\nBut', 'we', 'refuse', 'to', 'believe', 'that', 'the', 'bank', 'of', 'justice', 'is', 'bankrupt.', 'We', 'refuse', 'to', 'believe', 'that', 'there', 'are', 'insufficient', 'funds', 'in', 'the', 'great', 'vaults', 'of', 'opportunity', 'of', 'this', 'nation.', 'And', 'so,', \"we've\", 'come', 'to', 'cash', 'this', 'check,', 'a', 'check', 'that', 'will', 'give', 'us', 'upon', 'demand', 'the', 'riches', 'of', 'freedom', 'and', 'the', 'security', 'of', 'justice.\\n\\nWe', 'have', 'also', 'come', 'to', 'this', 'hallowed', 'spot', 'to', 'remind', 'America', 'of', 'the', 'fierce', 'urgency', 'of', 'Now.', 'This', 'is', 'no', 'time', 'to', 'engage', 'in', 'the', 'luxury', 'of', 'cooling', 'off', 'or', 'to', 'take', 'the', 'tranquilizing', 'drug', 'of', 'gradualism.', 'Now', 'is', 'the', 'time', 'to', 'make', 'real', 'the', 'promises', 'of', 'democracy.', 'Now', 'is', 'the', 'time', 'to', 'rise', 'from', 'the', 'dark', 'and', 'desolate', 'valley', 'of', 'segregation', 'to', 'the', 'sunlit', 'path', 'of', 'racial', 'justice.', 'Now', 'is', 'the', 'time', 'to', 'lift', 'our', 'nation', 'from', 'the', 'quicksands', 'of', 'racial', 'injustice', 'to', 'the', 'solid', 'rock', 'of', 'brotherhood.', 'Now', 'is', 'the', 'time', 'to', 'make', 'justice', 'a', 'reality', 'for', 'all', 'of', \"God's\", 'children.\\n\\nIt', 'would', 'be', 'fatal', 'for', 'the', 'nation', 'to', 'overlook', 'the', 'urgency', 'of', 'the', 'moment.', 'This', 'sweltering', 'summer', 'of', 'the', \"Negro's\", 'legitimate', 'discontent', 'will', 'not', 'pass', 'until', 'there', 'is', 'an', 'invigorating', 'autumn', 'of', 'freedom', 'and', 'equality.', 'Nineteen', 'sixty-three', 'is', 'not', 'an', 'end,', 'but', 'a', 'beginning.', 'And', 'those', 'who', 'hope', 'that', 'the', 'Negro', 'needed', 'to', 'blow', 'off', 'steam', 'and', 'will', 'now', 'be', 'content', 'will', 'have', 'a', 'rude', 'awakening', 'if', 'the', 'nation', 'returns', 'to', 'business', 'as', 'usual.', 'And', 'there', 'will', 'be', 'neither', 'rest', 'nor', 'tranquility', 'in', 'America', 'until', 'the', 'Negro', 'is', 'granted', 'his', 'citizenship', 'rights.', 'The', 'whirlwinds', 'of', 'revolt', 'will', 'continue', 'to', 'shake', 'the', 'foundations', 'of', 'our', 'nation', 'until', 'the', 'bright', 'day', 'of', 'justice', 'emerges.\\n\\nBut', 'there', 'is', 'something', 'that', 'I', 'must', 'say', 'to', 'my', 'people,', 'who', 'stand', 'on', 'the', 'warm', 'threshold', 'which', 'leads', 'into', 'the', 'palace', 'of', 'justice:', 'In', 'the', 'process', 'of', 'gaining', 'our', 'rightful', 'place,', 'we', 'must', 'not', 'be', 'guilty', 'of', 'wrongful', 'deeds.', 'Let', 'us', 'not', 'seek', 'to', 'satisfy', 'our', 'thirst', 'for', 'freedom', 'by', 'drinking', 'from', 'the', 'cup', 'of', 'bitterness', 'and', 'hatred.', 'We', 'must', 'forever', 'conduct', 'our', 'struggle', 'on', 'the', 'high', 'plane', 'of', 'dignity', 'and', 'discipline.', 'We', 'must', 'not', 'allow', 'our', 'creative', 'protest', 'to', 'degenerate', 'into', 'physical', 'violence.', 'Again', 'and', 'again,', 'we', 'must', 'rise', 'to', 'the', 'majestic', 'heights', 'of', 'meeting', 'physical', 'force', 'with', 'soul', 'force.\\n\\nThe', 'marvelous', 'new', 'militancy', 'which', 'has', 'engulfed', 'the', 'Negro', 'community', 'must', 'not', 'lead', 'us', 'to', 'a', 'distrust', 'of', 'all', 'white', 'people,', 'for', 'many', 'of', 'our', 'white', 'brothers,', 'as', 'evidenced', 'by', 'their', 'presence', 'here', 'today,', 'have', 'come', 'to', 'realize', 'that', 'their', 'destiny', 'is', 'tied', 'up', 'with', 'our', 'destiny.', 'And', 'they', 'have', 'come', 'to', 'realize', 'that', 'their', 'freedom', 'is', 'inextricably', 'bound', 'to', 'our', 'freedom.\\n\\nWe', 'cannot', 'walk', 'alone.\\n\\nAnd', 'as', 'we', 'walk,', 'we', 'must', 'make', 'the', 'pledge', 'that', 'we', 'shall', 'always', 'march', 'ahead.\\n\\nWe', 'cannot', 'turn', 'back.\\n\\nThere', 'are', 'those', 'who', 'are', 'asking', 'the', 'devotees', 'of', 'civil', 'rights,', '\"When', 'will', 'you', 'be', 'satisfied?\"', 'We', 'can', 'never', 'be', 'satisfied', 'as', 'long', 'as', 'the', 'Negro', 'is', 'the', 'victim', 'of', 'the', 'unspeakable', 'horrors', 'of', 'police', 'brutality.', 'We', 'can', 'never', 'be', 'satisfied', 'as', 'long', 'as', 'our', 'bodies,', 'heavy', 'with', 'the', 'fatigue', 'of', 'travel,', 'cannot', 'gain', 'lodging', 'in', 'the', 'motels', 'of', 'the', 'highways', 'and', 'the', 'hotels', 'of', 'the', 'cities.', '**We', 'cannot', 'be', 'satisfied', 'as', 'long', 'as', 'the', \"negro's\", 'basic', 'mobility', 'is', 'from', 'a', 'smaller', 'ghetto', 'to', 'a', 'larger', 'one.', 'We', 'can', 'never', 'be', 'satisfied', 'as', 'long', 'as', 'our', 'children', 'are', 'stripped', 'of', 'their', 'self-hood', 'and', 'robbed', 'of', 'their', 'dignity', 'by', 'signs', 'stating:', '\"For', 'Whites', 'Only.\"**', 'We', 'cannot', 'be', 'satisfied', 'as', 'long', 'as', 'a', 'Negro', 'in', 'Mississippi', 'cannot', 'vote', 'and', 'a', 'Negro', 'in', 'New', 'York', 'believes', 'he', 'has', 'nothing', 'for', 'which', 'to', 'vote.', 'No,', 'no,', 'we', 'are', 'not', 'satisfied,', 'and', 'we', 'will', 'not', 'be', 'satisfied', 'until', '\"justice', 'rolls', 'down', 'like', 'waters,', 'and', 'righteousness', 'like', 'a', 'mighty', 'stream.\"1\\n\\n\\n\\nI', 'am', 'not', 'unmindful', 'that', 'some', 'of', 'you', 'have', 'come', 'here', 'out', 'of', 'great', 'trials', 'and', 'tribulations.', 'Some', 'of', 'you', 'have', 'come', 'fresh', 'from', 'narrow', 'jail', 'cells.', 'And', 'some', 'of', 'you', 'have', 'come', 'from', 'areas', 'where', 'your', 'quest', '--', 'quest', 'for', 'freedom', 'left', 'you', 'battered', 'by', 'the', 'storms', 'of', 'persecution', 'and', 'staggered', 'by', 'the', 'winds', 'of', 'police', 'brutality.', 'You', 'have', 'been', 'the', 'veterans', 'of', 'creative', 'suffering.', 'Continue', 'to', 'work', 'with', 'the', 'faith', 'that', 'unearned', 'suffering', 'is', 'redemptive.', 'Go', 'back', 'to', 'Mississippi,', 'go', 'back', 'to', 'Alabama,', 'go', 'back', 'to', 'South', 'Carolina,', 'go', 'back', 'to', 'Georgia,', 'go', 'back', 'to', 'Louisiana,', 'go', 'back', 'to', 'the', 'slums', 'and', 'ghettos', 'of', 'our', 'northern', 'cities,', 'knowing', 'that', 'somehow', 'this', 'situation', 'can', 'and', 'will', 'be', 'changed.\\n\\nLet', 'us', 'not', 'wallow', 'in', 'the', 'valley', 'of', 'despair,', 'I', 'say', 'to', 'you', 'today,', 'my', 'friends.\\n\\nAnd', 'so', 'even', 'though', 'we', 'face', 'the', 'difficulties', 'of', 'today', 'and', 'tomorrow,', 'I', 'still', 'have', 'a', 'dream.', 'It', 'is', 'a', 'dream', 'deeply', 'rooted', 'in', 'the', 'American', 'dream.\\n\\nI', 'have', 'a', 'dream', 'that', 'one', 'day', 'this', 'nation', 'will', 'rise', 'up', 'and', 'live', 'out', 'the', 'true', 'meaning', 'of', 'its', 'creed:', '\"We', 'hold', 'these', 'truths', 'to', 'be', 'self-evident,', 'that', 'all', 'men', 'are', 'created', 'equal.\"\\n\\nI', 'have', 'a', 'dream', 'that', 'one', 'day', 'on', 'the', 'red', 'hills', 'of', 'Georgia,', 'the', 'sons', 'of', 'former', 'slaves', 'and', 'the', 'sons', 'of', 'former', 'slave', 'owners', 'will', 'be', 'able', 'to', 'sit', 'down', 'together', 'at', 'the', 'table', 'of', 'brotherhood.\\n\\nI', 'have', 'a', 'dream', 'that', 'one', 'day', 'even', 'the', 'state', 'of', 'Mississippi,', 'a', 'state', 'sweltering', 'with', 'the', 'heat', 'of', 'injustice,', 'sweltering', 'with', 'the', 'heat', 'of', 'oppression,', 'will', 'be', 'transformed', 'into', 'an', 'oasis', 'of', 'freedom', 'and', 'justice.\\n\\nI', 'have', 'a', 'dream', 'that', 'my', 'four', 'little', 'children', 'will', 'one', 'day', 'live', 'in', 'a', 'nation', 'where', 'they', 'will', 'not', 'be', 'judged', 'by', 'the', 'color', 'of', 'their', 'skin', 'but', 'by', 'the', 'content', 'of', 'their', 'character.\\n\\nI', 'have', 'a', 'dream', 'today!\\n\\nI', 'have', 'a', 'dream', 'that', 'one', 'day,', 'down', 'in', 'Alabama,', 'with', 'its', 'vicious', 'racists,', 'with', 'its', 'governor', 'having', 'his', 'lips', 'dripping', 'with', 'the', 'words', 'of', '\"interposition\"', 'and', '\"nullification\"', '--', 'one', 'day', 'right', 'there', 'in', 'Alabama', 'little', 'black', 'boys', 'and', 'black', 'girls', 'will', 'be', 'able', 'to', 'join', 'hands', 'with', 'little', 'white', 'boys', 'and', 'white', 'girls', 'as', 'sisters', 'and', 'brothers.\\n\\nI', 'have', 'a', 'dream', 'today!\\n\\nI', 'have', 'a', 'dream', 'that', 'one', 'day', 'every', 'valley', 'shall', 'be', 'exalted,', 'and', 'every', 'hill', 'and', 'mountain', 'shall', 'be', 'made', 'low,', 'the', 'rough', 'places', 'will', 'be', 'made', 'plain,', 'and', 'the', 'crooked', 'places', 'will', 'be', 'made', 'straight;', '\"and', 'the', 'glory', 'of', 'the', 'Lord', 'shall', 'be', 'revealed', 'and', 'all', 'flesh', 'shall', 'see', 'it', 'together.\"2\\n\\nThis', 'is', 'our', 'hope,', 'and', 'this', 'is', 'the', 'faith', 'that', 'I', 'go', 'back', 'to', 'the', 'South', 'with.\\n\\nWith', 'this', 'faith,', 'we', 'will', 'be', 'able', 'to', 'hew', 'out', 'of', 'the', 'mountain', 'of', 'despair', 'a', 'stone', 'of', 'hope.', 'With', 'this', 'faith,', 'we', 'will', 'be', 'able', 'to', 'transform', 'the', 'jangling', 'discords', 'of', 'our', 'nation', 'into', 'a', 'beautiful', 'symphony', 'of', 'brotherhood.', 'With', 'this', 'faith,', 'we', 'will', 'be', 'able', 'to', 'work', 'together,', 'to', 'pray', 'together,', 'to', 'struggle', 'together,', 'to', 'go', 'to', 'jail', 'together,', 'to', 'stand', 'up', 'for', 'freedom', 'together,', 'knowing', 'that', 'we', 'will', 'be', 'free', 'one', 'day.\\n\\nAnd', 'this', 'will', 'be', 'the', 'day', '--', 'this', 'will', 'be', 'the', 'day', 'when', 'all', 'of', \"God's\", 'children', 'will', 'be', 'able', 'to', 'sing', 'with', 'new', 'meaning:\\n\\nMy', 'country', \"'tis\", 'of', 'thee,', 'sweet', 'land', 'of', 'liberty,', 'of', 'thee', 'I', 'sing.', 'Land', 'where', 'my', 'fathers', 'died,', 'land', 'of', 'the', \"Pilgrim's\", 'pride,', '', '', '', 'From', 'every', 'mountainside,', 'let', 'freedom', 'ring!\\n\\nAnd', 'if', 'America', 'is', 'to', 'be', 'a', 'great', 'nation,', 'this', 'must', 'become', 'true.\\n\\nAnd', 'so', 'let', 'freedom', 'ring', 'from', 'the', 'prodigious', 'hilltops', 'of', 'New', 'Hampshire.\\n\\nLet', 'freedom', 'ring', 'from', 'the', 'mighty', 'mountains', 'of', 'New', 'York.\\n\\nLet', 'freedom', 'ring', 'from', 'the', 'heightening', 'Alleghenies', 'of', 'Pennsylvania.\\n\\nLet', 'freedom', 'ring', 'from', 'the', 'snow-capped', 'Rockies', 'of', 'Colorado.\\n\\nLet', 'freedom', 'ring', 'from', 'the', 'curvaceous', 'slopes', 'of', 'California.\\n\\nBut', 'not', 'only', 'that:\\n\\nLet', 'freedom', 'ring', 'from', 'Stone', 'Mountain', 'of', 'Georgia.\\n\\nLet', 'freedom', 'ring', 'from', 'Lookout', 'Mountain', 'of', 'Tennessee.\\n\\nLet', 'freedom', 'ring', 'from', 'every', 'hill', 'and', 'molehill', 'of', 'Mississippi.\\n\\nFrom', 'every', 'mountainside,', 'let', 'freedom', 'ring.\\n\\n\\n\\nAnd', 'when', 'this', 'happens,', 'and', 'when', 'we', 'allow', 'freedom', 'ring,', 'when', 'we', 'let', 'it', 'ring', 'from', 'every', 'village', 'and', 'every', 'hamlet,', 'from', 'every', 'state', 'and', 'every', 'city,', 'we', 'will', 'be', 'able', 'to', 'speed', 'up', 'that', 'day', 'when', 'all', 'of', \"God's\", 'children,', 'black', 'men', 'and', 'white', 'men,', 'Jews', 'and', 'Gentiles,', 'Protestants', 'and', 'Catholics,', 'will', 'be', 'able', 'to', 'join', 'hands', 'and', 'sing', 'in', 'the', 'words', 'of', 'the', 'old', 'Negro', 'spiritual:\\n\\nFree', 'at', 'last!', 'Free', 'at', 'last!\\n\\nThank', 'God', 'Almighty,', 'we', 'are', 'free', 'at', 'last!3']\n"
     ]
    }
   ],
   "source": [
    "print(word_list)"
   ]
  },
  {
   "cell_type": "code",
   "execution_count": 17,
   "id": "654fafe5",
   "metadata": {},
   "outputs": [
    {
     "name": "stdout",
     "output_type": "stream",
     "text": [
      "['I am happy to join with you today in what will go down in history as the greatest demonstration for freedom in the history of our nation.', '', 'Five score years ago, a great American, in whose symbolic shadow we stand today, signed the Emancipation Proclamation. This momentous decree came as a great beacon light of hope to millions of Negro slaves who had been seared in the flames of withering injustice. It came as a joyous daybreak to end the long night of their captivity.', '', \"But one hundred years later, the Negro still is not free. One hundred years later, the life of the Negro is still sadly crippled by the manacles of segregation and the chains of discrimination. One hundred years later, the Negro lives on a lonely island of poverty in the midst of a vast ocean of material prosperity. One hundred years later, the Negro is still languished in the corners of American society and finds himself an exile in his own land. And so we've come here today to dramatize a shameful condition.\", '', 'In a sense we\\'ve come to our nation\\'s capital to cash a check. When the architects of our republic wrote the magnificent words of the Constitution and the Declaration of Independence, they were signing a promissory note to which every American was to fall heir. This note was a promise that all men, yes, black men as well as white men, would be guaranteed the \"unalienable Rights\" of \"Life, Liberty and the pursuit of Happiness.\" It is obvious today that America has defaulted on this promissory note, insofar as her citizens of color are concerned. Instead of honoring this sacred obligation, America has given the Negro people a bad check, a check which has come back marked \"insufficient funds.\"', '', \"But we refuse to believe that the bank of justice is bankrupt. We refuse to believe that there are insufficient funds in the great vaults of opportunity of this nation. And so, we've come to cash this check, a check that will give us upon demand the riches of freedom and the security of justice.\", '', \"We have also come to this hallowed spot to remind America of the fierce urgency of Now. This is no time to engage in the luxury of cooling off or to take the tranquilizing drug of gradualism. Now is the time to make real the promises of democracy. Now is the time to rise from the dark and desolate valley of segregation to the sunlit path of racial justice. Now is the time to lift our nation from the quicksands of racial injustice to the solid rock of brotherhood. Now is the time to make justice a reality for all of God's children.\", '', \"It would be fatal for the nation to overlook the urgency of the moment. This sweltering summer of the Negro's legitimate discontent will not pass until there is an invigorating autumn of freedom and equality. Nineteen sixty-three is not an end, but a beginning. And those who hope that the Negro needed to blow off steam and will now be content will have a rude awakening if the nation returns to business as usual. And there will be neither rest nor tranquility in America until the Negro is granted his citizenship rights. The whirlwinds of revolt will continue to shake the foundations of our nation until the bright day of justice emerges.\", '', 'But there is something that I must say to my people, who stand on the warm threshold which leads into the palace of justice: In the process of gaining our rightful place, we must not be guilty of wrongful deeds. Let us not seek to satisfy our thirst for freedom by drinking from the cup of bitterness and hatred. We must forever conduct our struggle on the high plane of dignity and discipline. We must not allow our creative protest to degenerate into physical violence. Again and again, we must rise to the majestic heights of meeting physical force with soul force.', '', 'The marvelous new militancy which has engulfed the Negro community must not lead us to a distrust of all white people, for many of our white brothers, as evidenced by their presence here today, have come to realize that their destiny is tied up with our destiny. And they have come to realize that their freedom is inextricably bound to our freedom.', '', 'We cannot walk alone.', '', 'And as we walk, we must make the pledge that we shall always march ahead.', '', 'We cannot turn back.', '', 'There are those who are asking the devotees of civil rights, \"When will you be satisfied?\" We can never be satisfied as long as the Negro is the victim of the unspeakable horrors of police brutality. We can never be satisfied as long as our bodies, heavy with the fatigue of travel, cannot gain lodging in the motels of the highways and the hotels of the cities. **We cannot be satisfied as long as the negro\\'s basic mobility is from a smaller ghetto to a larger one. We can never be satisfied as long as our children are stripped of their self-hood and robbed of their dignity by signs stating: \"For Whites Only.\"** We cannot be satisfied as long as a Negro in Mississippi cannot vote and a Negro in New York believes he has nothing for which to vote. No, no, we are not satisfied, and we will not be satisfied until \"justice rolls down like waters, and righteousness like a mighty stream.\"1', '', '', '', 'I am not unmindful that some of you have come here out of great trials and tribulations. Some of you have come fresh from narrow jail cells. And some of you have come from areas where your quest -- quest for freedom left you battered by the storms of persecution and staggered by the winds of police brutality. You have been the veterans of creative suffering. Continue to work with the faith that unearned suffering is redemptive. Go back to Mississippi, go back to Alabama, go back to South Carolina, go back to Georgia, go back to Louisiana, go back to the slums and ghettos of our northern cities, knowing that somehow this situation can and will be changed.', '', 'Let us not wallow in the valley of despair, I say to you today, my friends.', '', 'And so even though we face the difficulties of today and tomorrow, I still have a dream. It is a dream deeply rooted in the American dream.', '', 'I have a dream that one day this nation will rise up and live out the true meaning of its creed: \"We hold these truths to be self-evident, that all men are created equal.\"', '', 'I have a dream that one day on the red hills of Georgia, the sons of former slaves and the sons of former slave owners will be able to sit down together at the table of brotherhood.', '', 'I have a dream that one day even the state of Mississippi, a state sweltering with the heat of injustice, sweltering with the heat of oppression, will be transformed into an oasis of freedom and justice.', '', 'I have a dream that my four little children will one day live in a nation where they will not be judged by the color of their skin but by the content of their character.', '', 'I have a dream today!', '', 'I have a dream that one day, down in Alabama, with its vicious racists, with its governor having his lips dripping with the words of \"interposition\" and \"nullification\" -- one day right there in Alabama little black boys and black girls will be able to join hands with little white boys and white girls as sisters and brothers.', '', 'I have a dream today!', '', 'I have a dream that one day every valley shall be exalted, and every hill and mountain shall be made low, the rough places will be made plain, and the crooked places will be made straight; \"and the glory of the Lord shall be revealed and all flesh shall see it together.\"2', '', 'This is our hope, and this is the faith that I go back to the South with.', '', 'With this faith, we will be able to hew out of the mountain of despair a stone of hope. With this faith, we will be able to transform the jangling discords of our nation into a beautiful symphony of brotherhood. With this faith, we will be able to work together, to pray together, to struggle together, to go to jail together, to stand up for freedom together, knowing that we will be free one day.', '', \"And this will be the day -- this will be the day when all of God's children will be able to sing with new meaning:\", '', \"My country 'tis of thee, sweet land of liberty, of thee I sing. Land where my fathers died, land of the Pilgrim's pride,    From every mountainside, let freedom ring!\", '', 'And if America is to be a great nation, this must become true.', '', 'And so let freedom ring from the prodigious hilltops of New Hampshire.', '', 'Let freedom ring from the mighty mountains of New York.', '', 'Let freedom ring from the heightening Alleghenies of Pennsylvania.', '', 'Let freedom ring from the snow-capped Rockies of Colorado.', '', 'Let freedom ring from the curvaceous slopes of California.', '', 'But not only that:', '', 'Let freedom ring from Stone Mountain of Georgia.', '', 'Let freedom ring from Lookout Mountain of Tennessee.', '', 'Let freedom ring from every hill and molehill of Mississippi.', '', 'From every mountainside, let freedom ring.', '', '', '', \"And when this happens, and when we allow freedom ring, when we let it ring from every village and every hamlet, from every state and every city, we will be able to speed up that day when all of God's children, black men and white men, Jews and Gentiles, Protestants and Catholics, will be able to join hands and sing in the words of the old Negro spiritual:\", '', 'Free at last! Free at last!', '', 'Thank God Almighty, we are free at last!3']\n"
     ]
    }
   ],
   "source": [
    "print(line_list)"
   ]
  },
  {
   "cell_type": "code",
   "execution_count": 18,
   "id": "2abc5206",
   "metadata": {},
   "outputs": [
    {
     "name": "stdout",
     "output_type": "stream",
     "text": [
      "문자 수 :  9176\n",
      "단어 수 :  1629\n",
      "라인 수 :  87\n"
     ]
    }
   ],
   "source": [
    "print(\"문자 수 : \", len(contents))\n",
    "print(\"단어 수 : \", len(word_list))\n",
    "print(\"라인 수 : \", len(line_list))"
   ]
  },
  {
   "cell_type": "markdown",
   "id": "eee172b5",
   "metadata": {},
   "source": [
    "### 파일 쓰기"
   ]
  },
  {
   "cell_type": "code",
   "execution_count": 20,
   "id": "c25afc99",
   "metadata": {},
   "outputs": [
    {
     "name": "stdout",
     "output_type": "stream",
     "text": [
      "멀티캠퍼스에서 인공지능 공부한지 1일된 예비 AI developer 입니다.\n",
      "멀티캠퍼스에서 인공지능 공부한지 2일된 예비 AI developer 입니다.\n",
      "멀티캠퍼스에서 인공지능 공부한지 3일된 예비 AI developer 입니다.\n",
      "멀티캠퍼스에서 인공지능 공부한지 4일된 예비 AI developer 입니다.\n",
      "멀티캠퍼스에서 인공지능 공부한지 5일된 예비 AI developer 입니다.\n",
      "멀티캠퍼스에서 인공지능 공부한지 6일된 예비 AI developer 입니다.\n",
      "멀티캠퍼스에서 인공지능 공부한지 7일된 예비 AI developer 입니다.\n",
      "멀티캠퍼스에서 인공지능 공부한지 8일된 예비 AI developer 입니다.\n",
      "멀티캠퍼스에서 인공지능 공부한지 9일된 예비 AI developer 입니다.\n",
      "멀티캠퍼스에서 인공지능 공부한지 10일된 예비 AI developer 입니다.\n"
     ]
    }
   ],
   "source": [
    "f = open('count.txt', 'w', encoding='utf-8')\n",
    "for i in range(1,11): # 10줄 작성\n",
    "    data = '멀티캠퍼스에서 인공지능 공부한지 %d일된 예비 AI developer 입니다.'% (i)\n",
    "#     print(data)"
   ]
  },
  {
   "cell_type": "code",
   "execution_count": 22,
   "id": "355abc9b",
   "metadata": {},
   "outputs": [],
   "source": [
    "f = open('count.txt', 'w', encoding='utf-8')\n",
    "for i in range(1,11): # 10줄 작성\n",
    "    data = '멀티캠퍼스에서 인공지능 공부한지 %d일된 예비 AI developer 입니다.\\n'% (i)\n",
    "    f.write(data)\n",
    "f.close()"
   ]
  },
  {
   "cell_type": "code",
   "execution_count": 26,
   "id": "c3a56b36",
   "metadata": {},
   "outputs": [],
   "source": [
    "with open('count.txt', 'w', encoding='utf-8') as f:\n",
    "    for i in range(11,21): # 10줄 작성\n",
    "        data = '멀티캠퍼스에서 인공지능 공부한지 %d일된 예비 AI developer 입니다.\\n'% (i)\n",
    "        f.write(data)"
   ]
  },
  {
   "cell_type": "code",
   "execution_count": 27,
   "id": "ca0ec8b8",
   "metadata": {},
   "outputs": [],
   "source": [
    "with open('count.txt', 'a', encoding='utf-8') as f:\n",
    "    for i in range(21,31): # 10줄 작성\n",
    "        data = '멀티캠퍼스에서 인공지능 공부한지 %d일된 예비 AI developer 입니다.\\n'% (i)\n",
    "        f.write(data)"
   ]
  },
  {
   "cell_type": "markdown",
   "id": "ec6aeb08",
   "metadata": {},
   "source": [
    "### csv 파일 출력 "
   ]
  },
  {
   "cell_type": "code",
   "execution_count": 28,
   "id": "22fc1afa",
   "metadata": {},
   "outputs": [],
   "source": [
    "import csv  "
   ]
  },
  {
   "cell_type": "code",
   "execution_count": 29,
   "id": "76be97b8",
   "metadata": {},
   "outputs": [],
   "source": [
    "with open('fruit.csv','w', newline=\"\") as f: \n",
    "    writer = csv.writer(f, delimiter=',')\n",
    "    writer.writerow(['apple', 3500])\n",
    "    writer.writerow(['pear', 4500])\n",
    "    writer.writerow(['straw_berry', 5500])\n",
    "    writer.writerow(['water_melon', 7500])\n",
    "    writer.writerow(['banana', 4500])\n",
    "    "
   ]
  },
  {
   "cell_type": "code",
   "execution_count": null,
   "id": "a3b28d5c",
   "metadata": {},
   "outputs": [],
   "source": [
    "open('fruit.csv','r')"
   ]
  },
  {
   "cell_type": "code",
   "execution_count": null,
   "id": "fb86706e",
   "metadata": {},
   "outputs": [],
   "source": []
  },
  {
   "cell_type": "code",
   "execution_count": null,
   "id": "e87287b2",
   "metadata": {},
   "outputs": [],
   "source": []
  }
 ],
 "metadata": {
  "kernelspec": {
   "display_name": "Python 3 (ipykernel)",
   "language": "python",
   "name": "python3"
  },
  "language_info": {
   "codemirror_mode": {
    "name": "ipython",
    "version": 3
   },
   "file_extension": ".py",
   "mimetype": "text/x-python",
   "name": "python",
   "nbconvert_exporter": "python",
   "pygments_lexer": "ipython3",
   "version": "3.9.12"
  }
 },
 "nbformat": 4,
 "nbformat_minor": 5
}
