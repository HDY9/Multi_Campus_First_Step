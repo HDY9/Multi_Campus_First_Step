{
  "nbformat": 4,
  "nbformat_minor": 0,
  "metadata": {
    "colab": {
      "name": "Multi_python_02  조건문, 반복문.ipynb",
      "provenance": []
    },
    "kernelspec": {
      "name": "python3",
      "display_name": "Python 3"
    },
    "language_info": {
      "name": "python"
    }
  },
  "cells": [
    {
      "cell_type": "code",
      "execution_count": null,
      "metadata": {
        "colab": {
          "base_uri": "https://localhost:8080/"
        },
        "id": "ws_cRF4XEm6P",
        "outputId": "8497b217-f802-4deb-afa0-594f7f7b6d79"
      },
      "outputs": [
        {
          "output_type": "stream",
          "name": "stdout",
          "text": [
            "숫자 입력하세요.15\n",
            "15는 홀수입니다.\n"
          ]
        }
      ],
      "source": [
        "# 짝수, 홀수 판별하기 \n",
        "\n",
        "a = int(input('숫자 입력하세요.'))\n",
        "\n",
        "if a % 2 == 0 : # 2로 나누었을 때 나머지가 0 >> 짝수 \n",
        "    print('%d는 짝수입니다.'% a)\n",
        "else : \n",
        "    print('%d는 홀수입니다.'% a)\n",
        "\n",
        "# cf. a % 2 == 1 # 2로 나누었을 때 나머지가 1 >> 홀수 "
      ]
    },
    {
      "cell_type": "code",
      "source": [
        "# 중첩 if 문 \n",
        "\n",
        "a = int(input(\"숫자 입력하세요: \"))\n",
        "\n",
        "if a > 50 : \n",
        "    if a < 100: \n",
        "        print(\"50보다는 크고 100보다는 작네요.\")\n",
        "    else: \n",
        "        print(\"와우, 100보다 크네요.\")\n",
        "else: \n",
        "    print(\"에공, 50보다 작네요.\")    \n"
      ],
      "metadata": {
        "colab": {
          "base_uri": "https://localhost:8080/"
        },
        "id": "FxhEiABhFR9d",
        "outputId": "2f4392f2-99f4-4d8d-e9a2-54bf1ad59dae"
      },
      "execution_count": null,
      "outputs": [
        {
          "output_type": "stream",
          "name": "stdout",
          "text": [
            "숫자 입력하세요: 60\n",
            "50보다는 크고 100보다는 작네요.\n"
          ]
        }
      ]
    },
    {
      "cell_type": "code",
      "source": [
        "# 실습 \n",
        "# ADsP 시험점수를 사용자에게 입력 받아\n",
        "# 60점이상이면 “합격“,\n",
        "# 40점 이상이면서 60점 미만이면 “불합격 이지만 과락은 아닙니다.“,\n",
        "# 40점 미만이면 “불합격이면서 과락입니다”로 출력하시오."
      ],
      "metadata": {
        "id": "toifL_TLFYd7"
      },
      "execution_count": null,
      "outputs": []
    },
    {
      "cell_type": "code",
      "source": [
        "score = int(input(\"점수 입력: \"))\n",
        "\n",
        "# 조건문 \n",
        "if score >= 60: \n",
        "    print(\"합격입니다.\")\n",
        "elif score >= 40: \n",
        "    print(\"불합격이지만 과락은 면하셨네요.\")\n",
        "else: \n",
        "    print(\"제대로 불합격이네요.\")"
      ],
      "metadata": {
        "colab": {
          "base_uri": "https://localhost:8080/"
        },
        "id": "lz3UEuStFYgh",
        "outputId": "a549a253-80d2-4a40-ae94-d697e368e91c"
      },
      "execution_count": null,
      "outputs": [
        {
          "output_type": "stream",
          "name": "stdout",
          "text": [
            "점수 입력: 58\n",
            "불합격이지만 과락은 면하셨네요.\n"
          ]
        }
      ]
    },
    {
      "cell_type": "code",
      "source": [
        "# [Test] 혼자서 해보기\n",
        "# Test) 두 사람이 주사위를 던져 더 큰 수가 나오면 이기는 게임을 작성\n",
        "# A가 이기거나 B가 이기거나 비기는 결과가 나오도록 프로그램을 작성하시오.\n",
        "# Tip) import random #난수 발생하는 모듈\n",
        "# num_a = random.randrange(1, 7) #1부터 6까지 숫자 중 하나의 값을 무작위 추출\n",
        "# num_b = random.randrange(1, 7) #1부터 6까지 숫자 중 하나의 값을 무작위 추출"
      ],
      "metadata": {
        "id": "dyEFaYkeGOzs"
      },
      "execution_count": null,
      "outputs": []
    },
    {
      "cell_type": "code",
      "source": [
        "random.randrange(1, 7) "
      ],
      "metadata": {
        "id": "3cPOYH8RRdEn",
        "outputId": "22afa522-741e-4e48-d139-8a79cd8e6880",
        "colab": {
          "base_uri": "https://localhost:8080/"
        }
      },
      "execution_count": null,
      "outputs": [
        {
          "output_type": "execute_result",
          "data": {
            "text/plain": [
              "1"
            ]
          },
          "metadata": {},
          "execution_count": 12
        }
      ]
    },
    {
      "cell_type": "code",
      "source": [
        "import random\n",
        "\n",
        "num_a = random.randrange(1, 7) \n",
        "#1부터 6까지 숫자 중 하나의 값을 무작위 추출\n",
        "print('A의 주사위 숫자는 %d입니다'% num_a)\n",
        "num_b = random.randrange(1, 7) \n",
        "#1부터 6까지 숫자 중 하나의 값을 무작위 추출\n",
        "print('B의 주사위 숫자는 %d입니다'% num_b)\n",
        "\n",
        "if num_a > num_b : \n",
        "    print('A 승')\n",
        "elif num_a < num_b :\n",
        "    print('B 승')\n",
        "else: \n",
        "    print('비겼네요')"
      ],
      "metadata": {
        "colab": {
          "base_uri": "https://localhost:8080/"
        },
        "id": "L4q9tsGnGO2i",
        "outputId": "279f186b-8089-4789-8474-bd1c1571903c"
      },
      "execution_count": null,
      "outputs": [
        {
          "output_type": "stream",
          "name": "stdout",
          "text": [
            "A의 주사위 숫자는 3입니다\n",
            "B의 주사위 숫자는 1입니다\n",
            "A 승\n"
          ]
        }
      ]
    },
    {
      "cell_type": "code",
      "source": [
        ""
      ],
      "metadata": {
        "id": "rCaesBPwGO5y"
      },
      "execution_count": null,
      "outputs": []
    }
  ]
}