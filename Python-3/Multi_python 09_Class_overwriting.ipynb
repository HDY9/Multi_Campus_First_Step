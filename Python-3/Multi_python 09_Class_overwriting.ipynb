{
 "cells": [
  {
   "cell_type": "markdown",
   "id": "9ac8b783",
   "metadata": {},
   "source": [
    "1. 클래스(Class)"
   ]
  },
  {
   "cell_type": "code",
   "execution_count": 11,
   "id": "d61ad267",
   "metadata": {},
   "outputs": [],
   "source": [
    "# 클래스 정의\n",
    "class Car : \n",
    "    color=''     # 속성(필드) 초기화     \n",
    "    speed = 0\n",
    "    \n",
    "    # 메소드(기능) 정의\n",
    "    def speedUp(self, value):\n",
    "        self.speed += value\n",
    "        \n",
    "    def speedDown(self, value):\n",
    "        self.speed -= value"
   ]
  },
  {
   "cell_type": "code",
   "execution_count": 12,
   "id": "33408019",
   "metadata": {},
   "outputs": [],
   "source": [
    "# 인스턴스 생성\n",
    "myCar1 = Car()\n",
    "myCar1.color = \"빨강\"\n",
    "myCar1.speed = 0 "
   ]
  },
  {
   "cell_type": "code",
   "execution_count": 13,
   "id": "7da62eb4",
   "metadata": {},
   "outputs": [],
   "source": [
    "myCar2 = Car()\n",
    "myCar2.color = \"파랑\"\n",
    "myCar2.speed = 0 "
   ]
  },
  {
   "cell_type": "code",
   "execution_count": 14,
   "id": "3b7b31e3",
   "metadata": {},
   "outputs": [],
   "source": [
    "myCar3 = Car()\n",
    "myCar3.color = \"녹색\"\n",
    "myCar3.speed = 0 "
   ]
  },
  {
   "cell_type": "code",
   "execution_count": 15,
   "id": "6342d554",
   "metadata": {},
   "outputs": [
    {
     "name": "stdout",
     "output_type": "stream",
     "text": [
      "내 첫번째 차 색상은 빨강이며, 현재 속도는 30 km 입니다.\n"
     ]
    }
   ],
   "source": [
    "myCar1.speedUp(30)\n",
    "print(\"내 첫번째 차 색상은 %s이며, 현재 속도는 %d km 입니다.\"%(myCar1.color, myCar1.speed))"
   ]
  },
  {
   "cell_type": "code",
   "execution_count": 16,
   "id": "a0295e21",
   "metadata": {},
   "outputs": [
    {
     "name": "stdout",
     "output_type": "stream",
     "text": [
      "내 두번째 차 색상은 파랑이며, 현재 속도는 60 km 입니다.\n"
     ]
    }
   ],
   "source": [
    "myCar2.speedUp(60)\n",
    "print(\"내 두번째 차 색상은 %s이며, 현재 속도는 %d km 입니다.\"%(myCar2.color, myCar2.speed))"
   ]
  },
  {
   "cell_type": "code",
   "execution_count": 17,
   "id": "82034492",
   "metadata": {},
   "outputs": [
    {
     "name": "stdout",
     "output_type": "stream",
     "text": [
      "내 세번째 차 색상은 녹색이며, 현재 속도는 0 km 입니다.\n"
     ]
    }
   ],
   "source": [
    "myCar1.speedUp(0)\n",
    "print(\"내 세번째 차 색상은 %s이며, 현재 속도는 %d km 입니다.\"%(myCar3.color, myCar3.speed))"
   ]
  },
  {
   "cell_type": "markdown",
   "id": "9a5581ad",
   "metadata": {},
   "source": [
    "2. 생성자 "
   ]
  },
  {
   "cell_type": "code",
   "execution_count": 18,
   "id": "fe122f19",
   "metadata": {},
   "outputs": [],
   "source": [
    "# 클래스 정의\n",
    "class Car : \n",
    "    color=''     # 속성(필드) 초기화     \n",
    "    speed = 0\n",
    "    \n",
    "    # 생성자\n",
    "    def __init__(self): \n",
    "        self.color = \"하얀색\"\n",
    "        self.speed = 0\n",
    "        \n",
    "    # 메소드(기능) 정의\n",
    "    def speedUp(self, value):\n",
    "        self.speed += value\n",
    "        \n",
    "    def speedDown(self, value):\n",
    "        self.speed -= value"
   ]
  },
  {
   "cell_type": "code",
   "execution_count": 19,
   "id": "7d4f63f6",
   "metadata": {},
   "outputs": [],
   "source": [
    "k5 = Car()\n",
    "sonata = Car()"
   ]
  },
  {
   "cell_type": "code",
   "execution_count": 20,
   "id": "19d8b3b0",
   "metadata": {},
   "outputs": [
    {
     "name": "stdout",
     "output_type": "stream",
     "text": [
      "k5의 색상은 하얀색이며, 현재 속도는 0 km입니다.\n"
     ]
    }
   ],
   "source": [
    "print(\"k5의 색상은 %s이며, 현재 속도는 %d km입니다.\"%(k5.color, k5.speed))"
   ]
  },
  {
   "cell_type": "code",
   "execution_count": 21,
   "id": "44d664ef",
   "metadata": {},
   "outputs": [
    {
     "name": "stdout",
     "output_type": "stream",
     "text": [
      "sonata의 색상은 하얀색이며, 현재 속도는 0 km입니다.\n"
     ]
    }
   ],
   "source": [
    "print(\"sonata의 색상은 %s이며, 현재 속도는 %d km입니다.\"%(sonata.color, sonata.speed))"
   ]
  },
  {
   "cell_type": "code",
   "execution_count": 22,
   "id": "bc61cefc",
   "metadata": {},
   "outputs": [],
   "source": [
    "# 매개변수가 있는 생성자\n",
    "\n",
    "# 클래스 정의\n",
    "class Car : \n",
    "    color=''     # 속성(필드) 초기화     \n",
    "    speed = 0\n",
    "    \n",
    "    # 생성자(매개변수 존재)\n",
    "    def __init__(self, value1, value2): \n",
    "        self.color = value1\n",
    "        self.speed = value2\n",
    "        \n",
    "    # 메소드(기능) 정의\n",
    "    def speedUp(self, value):\n",
    "        self.speed += value\n",
    "        \n",
    "    def speedDown(self, value):\n",
    "        self.speed -= value"
   ]
  },
  {
   "cell_type": "code",
   "execution_count": 23,
   "id": "9d51fd45",
   "metadata": {},
   "outputs": [],
   "source": [
    "k5 = Car(\"검정\",30)\n",
    "sonata = Car(\"회색\",60) "
   ]
  },
  {
   "cell_type": "code",
   "execution_count": 24,
   "id": "438e2ba4",
   "metadata": {},
   "outputs": [
    {
     "name": "stdout",
     "output_type": "stream",
     "text": [
      "k5의 색상은 검정이며, 현재 속도는 30 km입니다.\n"
     ]
    }
   ],
   "source": [
    "print(\"k5의 색상은 %s이며, 현재 속도는 %d km입니다.\"%(k5.color, k5.speed))"
   ]
  },
  {
   "cell_type": "code",
   "execution_count": 25,
   "id": "079ba452",
   "metadata": {},
   "outputs": [
    {
     "name": "stdout",
     "output_type": "stream",
     "text": [
      "sonata의 색상은 회색이며, 현재 속도는 60 km입니다.\n"
     ]
    }
   ],
   "source": [
    "print(\"sonata의 색상은 %s이며, 현재 속도는 %d km입니다.\"%(sonata.color, sonata.speed))"
   ]
  },
  {
   "cell_type": "markdown",
   "id": "d908c65f",
   "metadata": {},
   "source": [
    "#### 인스턴스 변수와 클래스 변수 \n",
    "\n",
    "##### 클래스 변수와 인스턴스 변수의 구별법 \n",
    "-  self 붙이면 instance 변수 \n",
    "-  class 명 붙이면 class 변수 \n",
    "\n",
    "##### 클래스/인스턴스 변수 접근 \n",
    "- 인스턴스 변수 접근 : instance.instance 변수\n",
    "- 클래스 변수 접근 : instance.class 변수, Class.class 변수 \n"
   ]
  },
  {
   "cell_type": "code",
   "execution_count": 35,
   "id": "87ed63fb",
   "metadata": {},
   "outputs": [],
   "source": [
    "# 클래스 정의\n",
    "class Car : \n",
    "    speed = 0   # instance 변수\n",
    "    count = 0   # class 변수\n",
    "    \n",
    "    # 생성자\n",
    "    def __init__(self, speed): \n",
    "        self.speed = speed\n",
    "        Car.count += 1"
   ]
  },
  {
   "cell_type": "code",
   "execution_count": 36,
   "id": "618c582d",
   "metadata": {},
   "outputs": [
    {
     "name": "stdout",
     "output_type": "stream",
     "text": [
      "k5의 현재 속도는 30 km, 생산된 자동차는 총 1 대 입니다.\n"
     ]
    }
   ],
   "source": [
    "k5 = Car(30)\n",
    "print(\"k5의 현재 속도는 %d km, 생산된 자동차는 총 %d 대 입니다.\"%(k5.speed, k5.count))\n",
    "# instance.class 변수 접근"
   ]
  },
  {
   "cell_type": "code",
   "execution_count": 37,
   "id": "a73b2e00",
   "metadata": {},
   "outputs": [
    {
     "name": "stdout",
     "output_type": "stream",
     "text": [
      "k5의 현재 속도는 60 km, 생산된 자동차는 총 2 대 입니다.\n"
     ]
    }
   ],
   "source": [
    "k5 = Car(60)\n",
    "print(\"k5의 현재 속도는 %d km, 생산된 자동차는 총 %d 대 입니다.\"%(k5.speed, Car.count))\n",
    "# class.class 변수 접근"
   ]
  },
  {
   "cell_type": "code",
   "execution_count": 38,
   "id": "513fba6a",
   "metadata": {},
   "outputs": [
    {
     "name": "stdout",
     "output_type": "stream",
     "text": [
      "genesis의 현재 속도는 60 km, 생산된 자동차는 총 3 대 입니다.\n"
     ]
    }
   ],
   "source": [
    "genesis = Car(60)\n",
    "print(\"genesis의 현재 속도는 %d km, 생산된 자동차는 총 %d 대 입니다.\"%(genesis.speed, genesis.count))"
   ]
  },
  {
   "cell_type": "code",
   "execution_count": 39,
   "id": "72837d08",
   "metadata": {},
   "outputs": [
    {
     "name": "stdout",
     "output_type": "stream",
     "text": [
      "genesis의 현재 속도는 90 km, 생산된 자동차는 총 4 대 입니다.\n"
     ]
    }
   ],
   "source": [
    "genesis = Car(90)\n",
    "print(\"genesis의 현재 속도는 %d km, 생산된 자동차는 총 %d 대 입니다.\"%(genesis.speed, Car.count))"
   ]
  },
  {
   "cell_type": "markdown",
   "id": "c4c5a477",
   "metadata": {},
   "source": [
    "#### 클래스의 상속\n",
    "- 메소드의 오버라이딩 구현"
   ]
  },
  {
   "cell_type": "code",
   "execution_count": 40,
   "id": "16afc456",
   "metadata": {},
   "outputs": [],
   "source": [
    "# super class(부모 클래스) 선언 \n",
    "\n",
    "class Car : \n",
    "    speed = 0   # instance 변수\n",
    "\n",
    "    def speedUp(self, value):\n",
    "        self.speed += value\n",
    "        print(\"현재 속도는(슈퍼 클래스): %d\"% self.speed)\n",
    "    "
   ]
  },
  {
   "cell_type": "code",
   "execution_count": 41,
   "id": "15b88661",
   "metadata": {},
   "outputs": [
    {
     "name": "stdout",
     "output_type": "stream",
     "text": [
      "트럭 : \n",
      "현재 속도는(슈퍼 클래스): 50\n",
      "승용차:\n",
      "현재 속도는(서브 클래스): 100\n"
     ]
    }
   ],
   "source": [
    "# sub class(자식클래스) 선언 \n",
    "\n",
    "class Sedan(Car):\n",
    "    def speedUp(self, value):\n",
    "        self.speed += value\n",
    "        \n",
    "        if self.speed >=110: \n",
    "            self.speed = 110 \n",
    "        print(\"현재 속도는(서브 클래스): %d\"% self.speed)\n",
    "\n",
    "class Truck(Car):\n",
    "    pass\n",
    "\n",
    "# 인스턴스 생성 \n",
    "porter = Truck()\n",
    "genesis = Sedan()\n",
    "\n",
    "print(\"트럭 : \")\n",
    "porter.speedUp(50)\n",
    "\n",
    "print(\"승용차:\")\n",
    "genesis.speedUp(100)"
   ]
  },
  {
   "cell_type": "code",
   "execution_count": 43,
   "id": "3e4bb2da",
   "metadata": {},
   "outputs": [
    {
     "name": "stdout",
     "output_type": "stream",
     "text": [
      "트럭 : \n",
      "현재 속도는(슈퍼 클래스): 50\n",
      "현재 적재량: 300\n",
      "승용차:\n",
      "현재 속도는(서브 클래스): 100\n",
      "현재 좌석수: 4\n"
     ]
    }
   ],
   "source": [
    "# super class(부모 클래스) 선언 \n",
    "\n",
    "class Car : \n",
    "    speed = 0   # instance 변수\n",
    "\n",
    "    def speedUp(self, value):\n",
    "        self.speed += value\n",
    "        print(\"현재 속도는(슈퍼 클래스): %d\"% self.speed)\n",
    "        \n",
    "# sub class(자식클래스) 선언 \n",
    "\n",
    "class Sedan(Car):\n",
    "    seat = 0 # 좌석수 (속성)\n",
    "    \n",
    "    def getSeat(self, value): # 좌석수 알아보기(기능, 메소드)\n",
    "        self.seat += value\n",
    "        print(\"현재 좌석수: %d\"%self.seat)\n",
    "        \n",
    "    def speedUp(self, value):\n",
    "        self.speed += value\n",
    "        \n",
    "        if self.speed >=110: \n",
    "            self.speed = 110 \n",
    "        print(\"현재 속도는(서브 클래스): %d\"% self.speed)\n",
    "\n",
    "class Truck(Car):\n",
    "    load = 0 # 적재량(속성, 필드)\n",
    "    \n",
    "    def getLoad(self, value): # 적재량 알아보기(기능, 메소드)\n",
    "        self.load += value\n",
    "        print(\"현재 적재량: %d\"% self.load)\n",
    "\n",
    "# 인스턴스 생성 \n",
    "porter = Truck()\n",
    "genesis = Sedan()\n",
    "\n",
    "print(\"트럭 : \")\n",
    "porter.speedUp(50)\n",
    "porter.getLoad(300)\n",
    "\n",
    "print(\"승용차:\")\n",
    "genesis.speedUp(100)\n",
    "genesis.getSeat(4)\n",
    "    "
   ]
  },
  {
   "cell_type": "code",
   "execution_count": null,
   "id": "bead0a96",
   "metadata": {},
   "outputs": [],
   "source": []
  }
 ],
 "metadata": {
  "kernelspec": {
   "display_name": "Python 3 (ipykernel)",
   "language": "python",
   "name": "python3"
  },
  "language_info": {
   "codemirror_mode": {
    "name": "ipython",
    "version": 3
   },
   "file_extension": ".py",
   "mimetype": "text/x-python",
   "name": "python",
   "nbconvert_exporter": "python",
   "pygments_lexer": "ipython3",
   "version": "3.9.12"
  }
 },
 "nbformat": 4,
 "nbformat_minor": 5
}
