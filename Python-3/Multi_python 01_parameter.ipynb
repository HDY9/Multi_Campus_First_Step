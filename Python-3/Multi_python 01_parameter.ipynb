{
  "nbformat": 4,
  "nbformat_minor": 0,
  "metadata": {
    "colab": {
      "name": "Multi_python_01 변수, 연산자.ipynb",
      "provenance": []
    },
    "kernelspec": {
      "name": "python3",
      "display_name": "Python 3"
    },
    "language_info": {
      "name": "python"
    }
  },
  "cells": [
    {
      "cell_type": "code",
      "execution_count": null,
      "metadata": {
        "id": "jZyhHA_oiqj_"
      },
      "outputs": [],
      "source": [
        "# "
      ]
    },
    {
      "cell_type": "code",
      "source": [
        "# 변수와 데이터 타입 \n",
        "\n",
        "a = int(input('1번째 숫자입력:'))  # 문자>>숫자(int: 정수)\n",
        "b = int(input('2번째 숫자입력:'))\n",
        "\n",
        "result = a + b\n",
        "print(a, '+', b ,'=', result)\n",
        "result = a - b\n",
        "print(a, '-', b ,'=', result)\n",
        "result = a * b\n",
        "print(a, '*', b ,'=', result)\n",
        "result = a / b\n",
        "print(a, '/', b ,'=', result)\n",
        "result = a % b\n",
        "print(a, '//', b ,'=', result) # 몫\n",
        "result = a % b\n",
        "print(a, '%', b ,'=', result) # 나머지 연산자\n",
        "result = a ** b\n",
        "print(a, '**', b ,'=', result)"
      ],
      "metadata": {
        "colab": {
          "base_uri": "https://localhost:8080/"
        },
        "id": "mnVGTUEHqHoB",
        "outputId": "42057d9f-bdc4-408d-e65a-8f451182bd40"
      },
      "execution_count": null,
      "outputs": [
        {
          "output_type": "stream",
          "name": "stdout",
          "text": [
            "1번째 숫자입력:10\n",
            "2번째 숫자입력:20\n",
            "10 + 20 = 30\n",
            "10 - 20 = -10\n",
            "10 * 20 = 200\n",
            "10 / 20 = 0.5\n",
            "10 // 20 = 10\n",
            "10 % 20 = 10\n",
            "10 ** 20 = 100000000000000000000\n"
          ]
        }
      ]
    },
    {
      "cell_type": "code",
      "source": [
        "'''cafe menu '''\n",
        "아메리카노 = 2500\n",
        "밀크티 = 5500\n",
        "카푸치노 = 4000\n",
        "카페라떼 = 3000\n",
        "연유라떼 = 4500 #***\n",
        "\n",
        "# 밀크티 2개, 연유라떼 3개 주문할게요. \n",
        "# 얼마예요?\n",
        "\n",
        "total_price = 밀크티 * 2 + 연유라떼 * 3\n",
        "print(total_price)\n",
        "\n",
        "print('총 가격은 ' + str(total_price) + '원 입니다')\n",
        "print('총 가격은 %d원 입니다.'%total_price)\n",
        "print('총 가격은 {}원 입니다.'.format(total_price))\n"
      ],
      "metadata": {
        "colab": {
          "base_uri": "https://localhost:8080/"
        },
        "id": "31ePUPuUqgqu",
        "outputId": "a1c947d4-74c6-4af2-a7a3-09ad28b76012"
      },
      "execution_count": null,
      "outputs": [
        {
          "output_type": "stream",
          "name": "stdout",
          "text": [
            "24500\n",
            "총 가격은 24500원 입니다\n",
            "총 가격은 24500원 입니다.\n",
            "총 가격은 24500원 입니다.\n"
          ]
        }
      ]
    },
    {
      "cell_type": "code",
      "source": [
        "# 파이썬 연산자 \n",
        "\n",
        "# 동전 교환 프로그램 \n",
        "# 변수 선언 \n",
        "money, c500, c100, c50, c10 = 0,0,0,0,0  # c : coin\n",
        "\n",
        "money = int(input(\"교환할 돈은 얼마일까요?\"))\n",
        "c500 = money // 500 # 몫\n",
        "money %= 500 #money = money % 500 나머지\n",
        "c100 = money // 100\n",
        "money %= 100\n",
        "c50 = money // 50\n",
        "money %= 50\n",
        "c10 = money // 10\n",
        "money %= 10\n",
        "\n",
        "# print(\"500원 동전 >>> \", c500)\n",
        "print(\"500원 동전 >>> %2d 개\"% c500)\n",
        "print(\"100원 동전 >>> %2d 개\"% c100)\n",
        "print(\"50원 동전 >>> %2d 개\"% c50)\n",
        "print(\"10원 동전 >>> %2d 개\"% c10)"
      ],
      "metadata": {
        "id": "oeW-B2Z8rFMi",
        "colab": {
          "base_uri": "https://localhost:8080/"
        },
        "outputId": "d2a901ab-4088-4aa8-bb6c-270b29749051"
      },
      "execution_count": 21,
      "outputs": [
        {
          "output_type": "stream",
          "name": "stdout",
          "text": [
            "교환할 돈은 얼마일까요?2650\n",
            "500원 동전 >>>  5 개\n",
            "100원 동전 >>>  1 개\n",
            "50원 동전 >>>  1 개\n",
            "10원 동전 >>>  0 개\n"
          ]
        }
      ]
    },
    {
      "cell_type": "code",
      "source": [
        ""
      ],
      "metadata": {
        "id": "VCGE1ax7rFPp"
      },
      "execution_count": null,
      "outputs": []
    },
    {
      "cell_type": "code",
      "source": [
        ""
      ],
      "metadata": {
        "id": "0EZ3lUzerFSS"
      },
      "execution_count": null,
      "outputs": []
    }
  ]
}