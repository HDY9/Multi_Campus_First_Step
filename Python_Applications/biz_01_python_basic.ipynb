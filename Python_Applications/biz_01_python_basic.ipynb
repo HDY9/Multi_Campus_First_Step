{
 "cells": [
  {
   "cell_type": "code",
   "execution_count": 1,
   "id": "6e571337",
   "metadata": {},
   "outputs": [
    {
     "name": "stdout",
     "output_type": "stream",
     "text": [
      "하이 멀티캠퍼스\n"
     ]
    }
   ],
   "source": [
    "#파이썬 코드 입력 및 실행\n",
    "\n",
    "print(\"하이 멀티캠퍼스\")"
   ]
  },
  {
   "cell_type": "code",
   "execution_count": 2,
   "id": "a696ac40",
   "metadata": {},
   "outputs": [],
   "source": [
    "#값 입력 및 출력\n",
    "\n",
    "a = 9\n",
    "b = 5"
   ]
  },
  {
   "cell_type": "code",
   "execution_count": 3,
   "id": "5f7c69ba",
   "metadata": {},
   "outputs": [
    {
     "name": "stdout",
     "output_type": "stream",
     "text": [
      "14\n",
      "4\n",
      "45\n",
      "1.8\n",
      "1\n",
      "4\n"
     ]
    }
   ],
   "source": [
    "print(a+b)\n",
    "print(a-b)\n",
    "print(a*b)\n",
    "print(a/b)\n",
    "print(a//b) #나눈 몫\n",
    "print(a%b) #나머지"
   ]
  },
  {
   "cell_type": "code",
   "execution_count": 4,
   "id": "65e18465",
   "metadata": {},
   "outputs": [
    {
     "name": "stdout",
     "output_type": "stream",
     "text": [
      "멀티 캠퍼스 닥터윌 강사 킹 왕 짱\n"
     ]
    }
   ],
   "source": [
    "#변수 여러개 출력\n",
    "\n",
    "print('멀티','캠퍼스','닥터윌','강사','킹','왕','짱')"
   ]
  },
  {
   "cell_type": "code",
   "execution_count": 5,
   "id": "ebf93e24",
   "metadata": {},
   "outputs": [
    {
     "name": "stdout",
     "output_type": "stream",
     "text": [
      "멀티/캠퍼스/닥터윌/강사/킹/왕/짱\n"
     ]
    }
   ],
   "source": [
    "print('멀티','캠퍼스','닥터윌','강사','킹','왕','짱', sep='/')"
   ]
  },
  {
   "cell_type": "code",
   "execution_count": 6,
   "id": "7674a21d",
   "metadata": {},
   "outputs": [
    {
     "name": "stdout",
     "output_type": "stream",
     "text": [
      "멀티**캠퍼스**닥터윌**강사**킹**왕**짱\n"
     ]
    }
   ],
   "source": [
    "print('멀티','캠퍼스','닥터윌','강사','킹','왕','짱', sep='**')"
   ]
  },
  {
   "cell_type": "code",
   "execution_count": 7,
   "id": "cb4a9f17",
   "metadata": {},
   "outputs": [],
   "source": [
    "#list\n",
    "\n",
    "a = '1번','2번','3번','4번','5번','6번','7번','8번','9번','10번'"
   ]
  },
  {
   "cell_type": "code",
   "execution_count": 8,
   "id": "506d79db",
   "metadata": {},
   "outputs": [
    {
     "data": {
      "text/plain": [
       "('1번', '2번', '3번', '4번', '5번', '6번', '7번', '8번', '9번', '10번')"
      ]
     },
     "execution_count": 8,
     "metadata": {},
     "output_type": "execute_result"
    }
   ],
   "source": [
    "a"
   ]
  },
  {
   "cell_type": "code",
   "execution_count": 9,
   "id": "01cc385b",
   "metadata": {},
   "outputs": [
    {
     "data": {
      "text/plain": [
       "'1번'"
      ]
     },
     "execution_count": 9,
     "metadata": {},
     "output_type": "execute_result"
    }
   ],
   "source": [
    "a[0]"
   ]
  },
  {
   "cell_type": "code",
   "execution_count": 10,
   "id": "318207c7",
   "metadata": {},
   "outputs": [
    {
     "data": {
      "text/plain": [
       "'9번'"
      ]
     },
     "execution_count": 10,
     "metadata": {},
     "output_type": "execute_result"
    }
   ],
   "source": [
    "a[-2]"
   ]
  },
  {
   "cell_type": "code",
   "execution_count": 11,
   "id": "34a840a8",
   "metadata": {},
   "outputs": [
    {
     "data": {
      "text/plain": [
       "10"
      ]
     },
     "execution_count": 11,
     "metadata": {},
     "output_type": "execute_result"
    }
   ],
   "source": [
    "len(a)"
   ]
  },
  {
   "cell_type": "code",
   "execution_count": 12,
   "id": "9f05f779",
   "metadata": {},
   "outputs": [
    {
     "data": {
      "text/plain": [
       "['b', 'c']"
      ]
     },
     "execution_count": 12,
     "metadata": {},
     "output_type": "execute_result"
    }
   ],
   "source": [
    "#슬라이싱 (slicing)\n",
    "\n",
    "k = ['a','b','c','d','e']\n",
    "\n",
    "k[1:3]"
   ]
  },
  {
   "cell_type": "code",
   "execution_count": 13,
   "id": "d69568cd",
   "metadata": {},
   "outputs": [
    {
     "data": {
      "text/plain": [
       "['b', 'c']"
      ]
     },
     "execution_count": 13,
     "metadata": {},
     "output_type": "execute_result"
    }
   ],
   "source": [
    "k[-4:-2]"
   ]
  },
  {
   "cell_type": "code",
   "execution_count": 1,
   "id": "1df91870",
   "metadata": {},
   "outputs": [
    {
     "name": "stdout",
     "output_type": "stream",
     "text": [
      "['a', 'b', 'c', 'e']\n"
     ]
    }
   ],
   "source": [
    "# LIST + LIST \n",
    "l1 = ['a']\n",
    "l2 = ['b','c','e']\n",
    "\n",
    "print(l1+l2)"
   ]
  },
  {
   "cell_type": "code",
   "execution_count": 2,
   "id": "07ab5a8f",
   "metadata": {},
   "outputs": [
    {
     "name": "stdout",
     "output_type": "stream",
     "text": [
      "['b', 'c', 'e', 'a']\n"
     ]
    }
   ],
   "source": [
    "print(l2+l1)"
   ]
  },
  {
   "cell_type": "code",
   "execution_count": 4,
   "id": "acfb365c",
   "metadata": {},
   "outputs": [
    {
     "data": {
      "text/plain": [
       "['a', ['b', 'c', 'e'], ['b', 'c', 'e']]"
      ]
     },
     "execution_count": 4,
     "metadata": {},
     "output_type": "execute_result"
    }
   ],
   "source": [
    "# list.append(list)\n",
    "\n",
    "l1.append(l2)\n",
    "l1\n",
    "# list 전체가 들어감 "
   ]
  },
  {
   "cell_type": "code",
   "execution_count": 5,
   "id": "d1d9c11e",
   "metadata": {},
   "outputs": [
    {
     "data": {
      "text/plain": [
       "['b', 'c', 'e']"
      ]
     },
     "execution_count": 5,
     "metadata": {},
     "output_type": "execute_result"
    }
   ],
   "source": [
    "l1[2]"
   ]
  },
  {
   "cell_type": "code",
   "execution_count": 6,
   "id": "3fea2a76",
   "metadata": {},
   "outputs": [
    {
     "data": {
      "text/plain": [
       "'e'"
      ]
     },
     "execution_count": 6,
     "metadata": {},
     "output_type": "execute_result"
    }
   ],
   "source": [
    "l1[2][2]"
   ]
  },
  {
   "cell_type": "code",
   "execution_count": 7,
   "id": "a306493d",
   "metadata": {},
   "outputs": [
    {
     "name": "stdout",
     "output_type": "stream",
     "text": [
      "바나나\n",
      "사과\n",
      "딸기\n",
      "배\n",
      "감\n"
     ]
    }
   ],
   "source": [
    "# 반복문 \n",
    "\n",
    "과일들 = ['바나나','사과','딸기','배','감']\n",
    "\n",
    "for 과일 in 과일들:\n",
    "    print(과일)"
   ]
  },
  {
   "cell_type": "code",
   "execution_count": 8,
   "id": "8fb2b5d4",
   "metadata": {},
   "outputs": [
    {
     "data": {
      "text/plain": [
       "'멀티캠퍼스'"
      ]
     },
     "execution_count": 8,
     "metadata": {},
     "output_type": "execute_result"
    }
   ],
   "source": [
    "# 문자열 \n",
    "s = '멀티캠퍼스'\n",
    "s"
   ]
  },
  {
   "cell_type": "code",
   "execution_count": 11,
   "id": "22d10c02",
   "metadata": {},
   "outputs": [],
   "source": [
    "# 문자열 합치기\n",
    "a = '멀티캠퍼스'\n",
    "b = '빅데이터 기반, 서비스개발자'"
   ]
  },
  {
   "cell_type": "code",
   "execution_count": 12,
   "id": "61fc9254",
   "metadata": {},
   "outputs": [
    {
     "data": {
      "text/plain": [
       "'멀티캠퍼스빅데이터 기반, 서비스개발자'"
      ]
     },
     "execution_count": 12,
     "metadata": {},
     "output_type": "execute_result"
    }
   ],
   "source": [
    "ab=a + b\n",
    "ab"
   ]
  },
  {
   "cell_type": "code",
   "execution_count": 14,
   "id": "c2a1bd49",
   "metadata": {},
   "outputs": [
    {
     "name": "stdout",
     "output_type": "stream",
     "text": [
      "**********\n"
     ]
    }
   ],
   "source": [
    "# 문자열 반복 \n",
    "z = '*'\n",
    "print(z*10)"
   ]
  },
  {
   "cell_type": "code",
   "execution_count": 15,
   "id": "d201df95",
   "metadata": {},
   "outputs": [
    {
     "name": "stdout",
     "output_type": "stream",
     "text": [
      "--------------------------------------------------------------------------------\n"
     ]
    }
   ],
   "source": [
    "l = '----'\n",
    "print(l*20)"
   ]
  },
  {
   "cell_type": "code",
   "execution_count": 16,
   "id": "c52c8a4f",
   "metadata": {},
   "outputs": [
    {
     "data": {
      "text/plain": [
       "'5월 25일은 수요일입니다'"
      ]
     },
     "execution_count": 16,
     "metadata": {},
     "output_type": "execute_result"
    }
   ],
   "source": [
    "# 문자열 format \n",
    "\n",
    "month = '5월'\n",
    "day = '25일'\n",
    "\n",
    "whatDay = \"{} {}은 수요일입니다\".format(month, day)\n",
    "whatDay"
   ]
  },
  {
   "cell_type": "code",
   "execution_count": 17,
   "id": "58440815",
   "metadata": {},
   "outputs": [
    {
     "name": "stdout",
     "output_type": "stream",
     "text": [
      "캠\n",
      "스\n",
      "캠퍼스\n",
      "퍼스\n"
     ]
    }
   ],
   "source": [
    "# 문자열에서 일부 선택(추출): indexing, slicing \n",
    "\n",
    "k = \"멀티캠퍼스\"\n",
    "\n",
    "print(k[2])\n",
    "print(k[-1])\n",
    "print(k[2:5])\n",
    "print(k[3:])"
   ]
  },
  {
   "cell_type": "code",
   "execution_count": 18,
   "id": "ea34f381",
   "metadata": {},
   "outputs": [],
   "source": [
    "# 문자열 정리 strip(), replace() split()"
   ]
  },
  {
   "cell_type": "code",
   "execution_count": 19,
   "id": "20508fe6",
   "metadata": {},
   "outputs": [
    {
     "data": {
      "text/plain": [
       "'     hp010-0000-1234     '"
      ]
     },
     "execution_count": 19,
     "metadata": {},
     "output_type": "execute_result"
    }
   ],
   "source": [
    "t = '     hp010-0000-1234     '\n",
    "t "
   ]
  },
  {
   "cell_type": "code",
   "execution_count": 20,
   "id": "41675577",
   "metadata": {},
   "outputs": [
    {
     "data": {
      "text/plain": [
       "'hp010-0000-1234'"
      ]
     },
     "execution_count": 20,
     "metadata": {},
     "output_type": "execute_result"
    }
   ],
   "source": [
    "t.strip()"
   ]
  },
  {
   "cell_type": "code",
   "execution_count": 21,
   "id": "382f677e",
   "metadata": {},
   "outputs": [
    {
     "data": {
      "text/plain": [
       "'     010-0000-1234     '"
      ]
     },
     "execution_count": 21,
     "metadata": {},
     "output_type": "execute_result"
    }
   ],
   "source": [
    "t.replace('hp','')"
   ]
  },
  {
   "cell_type": "code",
   "execution_count": 23,
   "id": "fea8f699",
   "metadata": {},
   "outputs": [
    {
     "data": {
      "text/plain": [
       "'010-0000-1234'"
      ]
     },
     "execution_count": 23,
     "metadata": {},
     "output_type": "execute_result"
    }
   ],
   "source": [
    "t2 = t.replace('hp','')\n",
    "t3 = t2.strip()\n",
    "t3"
   ]
  },
  {
   "cell_type": "code",
   "execution_count": 24,
   "id": "937e9701",
   "metadata": {},
   "outputs": [
    {
     "data": {
      "text/plain": [
       "['010', '0000', '1234']"
      ]
     },
     "execution_count": 24,
     "metadata": {},
     "output_type": "execute_result"
    }
   ],
   "source": [
    "t3.split('-')"
   ]
  },
  {
   "cell_type": "code",
   "execution_count": 25,
   "id": "fe5f3180",
   "metadata": {},
   "outputs": [
    {
     "name": "stdout",
     "output_type": "stream",
     "text": [
      "아 비싸\n"
     ]
    }
   ],
   "source": [
    "# 조건문 \n",
    "\n",
    "price = 9000\n",
    "\n",
    "if price > 7000:\n",
    "    print('아 비싸')\n",
    "else:\n",
    "    print('가격 괜찮네')"
   ]
  },
  {
   "cell_type": "code",
   "execution_count": 26,
   "id": "b8b9c3ca",
   "metadata": {},
   "outputs": [],
   "source": [
    "# 함수 (def, lambda)\n",
    "\n",
    "def do(do): \n",
    "    print('너 모해?')\n",
    "    print('나는 지금'+do+'하고 있어')"
   ]
  },
  {
   "cell_type": "code",
   "execution_count": 29,
   "id": "789b1c44",
   "metadata": {},
   "outputs": [
    {
     "name": "stdout",
     "output_type": "stream",
     "text": [
      "너 모해?\n",
      "나는 지금 너 생각 ^^하고 있어\n"
     ]
    }
   ],
   "source": [
    "do(' 너 생각 ^^')"
   ]
  },
  {
   "cell_type": "code",
   "execution_count": 30,
   "id": "31b82583",
   "metadata": {},
   "outputs": [],
   "source": [
    "# 지수 곱을 수행하는 함수 만들기 \n",
    "\n",
    "def calcul(a,b): \n",
    "    result = a ** b\n",
    "    return result # return: 1) 함수가 종료됨을 알려줌 2) 호출시, 값을 반환함"
   ]
  },
  {
   "cell_type": "code",
   "execution_count": 31,
   "id": "715e79ab",
   "metadata": {},
   "outputs": [
    {
     "data": {
      "text/plain": [
       "1000"
      ]
     },
     "execution_count": 31,
     "metadata": {},
     "output_type": "execute_result"
    }
   ],
   "source": [
    "calcul(10,3)"
   ]
  },
  {
   "cell_type": "code",
   "execution_count": null,
   "id": "d3ddeaec",
   "metadata": {},
   "outputs": [],
   "source": []
  }
 ],
 "metadata": {
  "kernelspec": {
   "display_name": "Python 3 (ipykernel)",
   "language": "python",
   "name": "python3"
  },
  "language_info": {
   "codemirror_mode": {
    "name": "ipython",
    "version": 3
   },
   "file_extension": ".py",
   "mimetype": "text/x-python",
   "name": "python",
   "nbconvert_exporter": "python",
   "pygments_lexer": "ipython3",
   "version": "3.9.12"
  }
 },
 "nbformat": 4,
 "nbformat_minor": 5
}
